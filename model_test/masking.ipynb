{
 "cells": [
  {
   "cell_type": "markdown",
   "metadata": {},
   "source": [
    "## Randomly Masking words"
   ]
  },
  {
   "cell_type": "code",
   "execution_count": 1,
   "metadata": {},
   "outputs": [],
   "source": [
    "import random"
   ]
  },
  {
   "cell_type": "code",
   "execution_count": 3,
   "metadata": {},
   "outputs": [],
   "source": [
    "def masking(input_text, prob):\n",
    "    '''\n",
    "    Substitutes word with <mask> according to Bernoull-distribution.\n",
    "    \n",
    "    Parameters:\n",
    "    - input_text: text to be masked partly\n",
    "    - prob: probability that each word is replaced by a mask\n",
    "    \n",
    "    Returns:\n",
    "    - masked_text: masked version of input_text\n",
    "    '''\n",
    "    \n",
    "    words = input_text.split()  # Split text into words\n",
    "    masked_words = [\"<mask>\" if random.random() < prob else word for word in words]\n",
    "    \n",
    "    masked_text = \" \".join(masked_words)\n",
    "    return masked_text\n"
   ]
  },
  {
   "cell_type": "code",
   "execution_count": 6,
   "metadata": {},
   "outputs": [],
   "source": [
    "original_text = \"\"\"\n",
    "Beginners BBQ Class Taking Place in Missoula! \n",
    "Do you want to get better at making delicious BBQ?\n",
    "You will have the opportunity, put this on your calendar now. \n",
    "Thursday, September 22nd join World Class BBQ Champion, Tony Balay from Lonestar Smoke Rangers. \n",
    "He will be teaching a beginner level class for everyone who wants to get better with their culinary skills. \n",
    "He will teach you everything you need to know to compete in a KCBS BBQ competition, including techniques, recipes, timelines, meat selection and trimming, plus smoker and fire information. \n",
    "The cost to be in the class is $35 per person, and for spectators it is free. \n",
    "Included in the cost will be either a t-shirt or apron and you will be tasting samples of each meat that is prepared.\n",
    "\"\"\".replace(\"\\n\", \"\") \n"
   ]
  },
  {
   "cell_type": "code",
   "execution_count": 7,
   "metadata": {},
   "outputs": [
    {
     "data": {
      "text/plain": [
       "'<mask> <mask> Class Taking Place <mask> <mask> Do you want to get better at <mask> delicious <mask> will have the opportunity, put this on your calendar <mask> Thursday, September 22nd join World Class BBQ Champion, Tony Balay <mask> Lonestar Smoke Rangers. He <mask> <mask> teaching a beginner level class for everyone <mask> wants to get better with their <mask> skills. <mask> will <mask> you everything you need to <mask> to compete in a KCBS BBQ competition, including techniques, recipes, <mask> meat selection and trimming, plus smoker <mask> fire information. The <mask> to be in the class <mask> $35 per <mask> and for spectators <mask> is free. Included in <mask> cost <mask> be either a t-shirt or apron and you will <mask> tasting samples <mask> each <mask> <mask> <mask> prepared.'"
      ]
     },
     "execution_count": 7,
     "metadata": {},
     "output_type": "execute_result"
    }
   ],
   "source": [
    "masked_text = masking(original_text, 0.3)\n",
    "masked_text"
   ]
  }
 ],
 "metadata": {
  "kernelspec": {
   "display_name": "llmproj",
   "language": "python",
   "name": "python3"
  },
  "language_info": {
   "codemirror_mode": {
    "name": "ipython",
    "version": 3
   },
   "file_extension": ".py",
   "mimetype": "text/x-python",
   "name": "python",
   "nbconvert_exporter": "python",
   "pygments_lexer": "ipython3",
   "version": "3.11.10"
  }
 },
 "nbformat": 4,
 "nbformat_minor": 2
}
