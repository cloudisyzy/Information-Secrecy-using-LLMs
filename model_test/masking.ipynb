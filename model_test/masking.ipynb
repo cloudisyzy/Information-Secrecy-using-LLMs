{
 "cells": [
  {
   "cell_type": "markdown",
   "metadata": {},
   "source": [
    "## Randomly Masking words"
   ]
  },
  {
   "cell_type": "code",
   "execution_count": 1,
   "metadata": {},
   "outputs": [],
   "source": [
    "import random"
   ]
  },
  {
   "cell_type": "code",
   "execution_count": 2,
   "metadata": {},
   "outputs": [],
   "source": [
    "def masking(input_text, prob):\n",
    "    '''\n",
    "    Substitutes word with <mask> according to Bernoull-distribution.\n",
    "    \n",
    "    Parameters:\n",
    "    - input_text: text to be masked partly\n",
    "    - prob: probability that each word is replaced by a mask\n",
    "    \n",
    "    Returns:\n",
    "    - masked_text: masked version of input_text\n",
    "    '''\n",
    "    flag = True\n",
    "    while(flag):\n",
    "        flag = False\n",
    "        words = input_text.split()  # Split text into words\n",
    "        masked_words = [\"<mask>\" if random.random() < prob else word for word in words]\n",
    "        masked_text = \" \".join(masked_words)\n",
    "        \n",
    "        # filter texts that have <mask> <mask> or <mask>. <mask>\n",
    "        if \"<mask> <mask>\" in masked_text:\n",
    "            flag = True\n",
    "        if \"<mask>. <mask>\" in masked_text:\n",
    "            flag = True\n",
    "        \n",
    "    return masked_text\n"
   ]
  },
  {
   "cell_type": "code",
   "execution_count": 3,
   "metadata": {},
   "outputs": [],
   "source": [
    "original_text = \"\"\"\n",
    "Beginners BBQ Class Taking Place in Missoula! \n",
    "Do you want to get better at making delicious BBQ?\n",
    "You will have the opportunity, put this on your calendar now. \n",
    "Thursday, September 22nd join World Class BBQ Champion, Tony Balay from Lonestar Smoke Rangers. \n",
    "He will be teaching a beginner level class for everyone who wants to get better with their culinary skills. \n",
    "He will teach you everything you need to know to compete in a KCBS BBQ competition, including techniques, recipes, timelines, meat selection and trimming, plus smoker and fire information. \n",
    "The cost to be in the class is $35 per person, and for spectators it is free. \n",
    "Included in the cost will be either a t-shirt or apron and you will be tasting samples of each meat that is prepared.\n",
    "\"\"\".replace(\"\\n\", \"\") \n"
   ]
  },
  {
   "cell_type": "code",
   "execution_count": 4,
   "metadata": {},
   "outputs": [
    {
     "data": {
      "text/plain": [
       "'<mask> BBQ Class Taking Place in Missoula! Do you <mask> to get better at <mask> delicious BBQ?You <mask> have the <mask> put this on <mask> calendar now. Thursday, September 22nd join <mask> Class BBQ Champion, <mask> Balay from <mask> Smoke <mask> He will <mask> teaching a beginner level <mask> for everyone who wants to get better with their culinary skills. He will teach you everything you need to know to compete <mask> a KCBS BBQ <mask> including techniques, recipes, timelines, meat selection and <mask> plus smoker and fire information. The cost to be in <mask> class is <mask> per person, and for spectators it is <mask> Included in <mask> cost <mask> be either <mask> t-shirt <mask> apron and <mask> will be <mask> samples <mask> each meat <mask> is prepared.'"
      ]
     },
     "execution_count": 4,
     "metadata": {},
     "output_type": "execute_result"
    }
   ],
   "source": [
    "masked_text = masking(original_text, 0.3)\n",
    "masked_text"
   ]
  }
 ],
 "metadata": {
  "kernelspec": {
   "display_name": "llmproj",
   "language": "python",
   "name": "python3"
  },
  "language_info": {
   "codemirror_mode": {
    "name": "ipython",
    "version": 3
   },
   "file_extension": ".py",
   "mimetype": "text/x-python",
   "name": "python",
   "nbconvert_exporter": "python",
   "pygments_lexer": "ipython3",
   "version": "3.11.10"
  }
 },
 "nbformat": 4,
 "nbformat_minor": 2
}
