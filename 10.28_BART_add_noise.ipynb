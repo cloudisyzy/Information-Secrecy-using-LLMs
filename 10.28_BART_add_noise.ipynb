{
 "cells": [
  {
   "cell_type": "code",
   "execution_count": 1,
   "id": "d776e82f-d349-4ec7-bc64-6424c51c0310",
   "metadata": {},
   "outputs": [],
   "source": [
    "from transformers import BartTokenizer, BartForConditionalGeneration\n",
    "from transformers.modeling_outputs import BaseModelOutput\n",
    "from IPython.display import display, HTML\n",
    "import torch\n",
    "\n",
    "# Set device\n",
    "device = torch.device(\"cuda\" if torch.cuda.is_available() else \"cpu\")\n",
    "\n",
    "# Load BART model and tokenizer\n",
    "model_name = \"facebook/bart-base\"  # Choose your preferred BART model\n",
    "tokenizer = BartTokenizer.from_pretrained(model_name)\n",
    "model = BartForConditionalGeneration.from_pretrained(model_name).to(device)"
   ]
  },
  {
   "cell_type": "code",
   "execution_count": 2,
   "id": "aa9f511a-4ecd-4edc-a0f9-7dcb3a2e12de",
   "metadata": {},
   "outputs": [],
   "source": [
    "def add_noise_with_snr(encoder_output, target_snr_db):\n",
    "    \"\"\"\n",
    "    Add noise to the encoder output based on a target SNR in dB.\n",
    "    \n",
    "    Parameters:\n",
    "    - encoder_output: torch.Tensor, the encoder's output (last_hidden_state).\n",
    "    - target_snr_db: float, the desired signal-to-noise ratio in dB.\n",
    "    \n",
    "    Returns:\n",
    "    - noisy_encoder_output: torch.Tensor, encoder output with added noise.\n",
    "    \"\"\"\n",
    "    # Convert SNR from dB to linear scale\n",
    "    target_snr_linear = 10 ** (target_snr_db / 10)\n",
    "    \n",
    "    # Calculate power of the signal\n",
    "    signal_power = torch.mean(encoder_output ** 2)\n",
    "    \n",
    "    # Calculate required noise power for the target SNR\n",
    "    noise_power = signal_power / target_snr_linear\n",
    "    noise = torch.randn_like(encoder_output) * torch.sqrt(noise_power)\n",
    "    \n",
    "    # Add noise to the encoder output\n",
    "    noisy_encoder_output = encoder_output + noise\n",
    "    return noisy_encoder_output\n"
   ]
  },
  {
   "cell_type": "code",
   "execution_count": 16,
   "id": "f3956bfa-9903-413d-9bae-d20020eddb81",
   "metadata": {},
   "outputs": [],
   "source": [
    "# Define input text and encode\n",
    "# original_text = \"\"\"\n",
    "# Beginners BBQ Class Taking Place in Missoula! \n",
    "# Do you want to get better at making delicious BBQ?\n",
    "# You will have the opportunity, put this on your calendar now. \n",
    "# Thursday, September 22nd join World Class BBQ Champion, Tony Balay from Lonestar Smoke Rangers. \n",
    "# He will be teaching a beginner level class for everyone who wants to get better with their culinary skills. \n",
    "# He will teach you everything you need to know to compete in a KCBS BBQ competition, including techniques, recipes, timelines, meat selection and trimming, plus smoker and fire information. \n",
    "# The cost to be in the class is $35 per person, and for spectators it is free. \n",
    "# Included in the cost will be either a t-shirt or apron and you will be tasting samples of each meat that is prepared.\n",
    "# \"\"\"\n",
    "# input_text = \"\"\"\n",
    "# Beginners BBQ Class <mask> in Missoula! \n",
    "# Do you want to <mask> making delicious BBQ?\n",
    "# You will have the opportunity, put this on your calendar now. \n",
    "# Thursday, September 22nd join World Class BBQ Champion, Tony Balay from Lonestar Smoke Rangers. \n",
    "# He will be teaching a beginner level class for everyone who wants to get better with their culinary skills. \n",
    "# He will teach you <mask> compete in a KCBS BBQ competition, including techniques, recipes, timelines, meat selection and trimming, plus smoker and fire information. \n",
    "# The <mask> the class is $35 per person, and for spectators it is free. \n",
    "# Included in the cost will be either a t-shirt or apron and you will be tasting samples of each meat that is prepared.\n",
    "# \"\"\".replace(\"\\n\", \"\")\n",
    "\n",
    "\n",
    "# original_text = \"\"\"\n",
    "# This November, embark on an exciting hiking adventure! \n",
    "# Explore the scenic mountain trails with an experienced guide, who will show you the best routes and hidden viewpoints. \n",
    "# This journey is suitable for all levels, from beginners to advanced hikers. \n",
    "# The hike covers approximately 10 miles and includes multiple rest stops with breathtaking views. \n",
    "# Participants should bring water, snacks, and comfortable hiking shoes. \n",
    "# The cost of the trip is $60, which includes a map and a group photo.\n",
    "# \"\"\"\n",
    "# input_text = \"\"\"\n",
    "# This November, embark on an exciting <mask> adventure! \n",
    "# Explore the scenic mountain trails with an experienced guide, who will show you the best routes and hidden <mask>. \n",
    "# This journey is suitable for all levels, from beginners to advanced <mask>. \n",
    "# The hike covers approximately 10 miles and includes multiple rest stops with breathtaking <mask>. \n",
    "# Participants should bring water, snacks, and comfortable hiking shoes. \n",
    "# The <mask> is $60, which includes a map and a group photo.\n",
    "# \"\"\".replace(\"\\n\", \"\")\n",
    "\n",
    "original_text = \"\"\"\n",
    "Welcome to our online coding bootcamp program! \n",
    "Whether you're a complete beginner or looking to improve your programming skills, this course is designed for you. \n",
    "Throughout the course, you will learn essential coding languages such as Python and JavaScript. \n",
    "Our instructors will guide you through interactive projects and provide real-time feedback. \n",
    "Each student will receive a certificate of completion at the end of the program. \n",
    "The total cost for the bootcamp is $150, which includes all learning materials.\n",
    "\"\"\"\n",
    "input_text = \"\"\"\n",
    "Welcome to our online <mask> bootcamp program! \n",
    "Whether you're a complete beginner or looking to <mask> your programming skills, this course is designed for you. \n",
    "Throughout the course, you will learn essential <mask> such as Python and JavaScript. \n",
    "Our instructors will guide you through interactive projects and provide real-time <mask>. \n",
    "Each student will receive a certificate of completion at the end of the <mask>. \n",
    "The total cost for the bootcamp is $150, which <mask> all learning materials.\n",
    "\"\"\".replace(\"\\n\", \"\")"
   ]
  },
  {
   "cell_type": "code",
   "execution_count": 18,
   "id": "76580d0b-1c9c-473b-b36a-fb1a431c93f2",
   "metadata": {},
   "outputs": [
    {
     "name": "stdout",
     "output_type": "stream",
     "text": [
      "Original Text:\n"
     ]
    },
    {
     "data": {
      "text/html": [
       "<p style='font-size:15px; font-family:\"Comic Sans MS\", cursive;'> \n",
       "Welcome to our online coding bootcamp program! \n",
       "Whether you're a complete beginner or looking to improve your programming skills, this course is designed for you. \n",
       "Throughout the course, you will learn essential coding languages such as Python and JavaScript. \n",
       "Our instructors will guide you through interactive projects and provide real-time feedback. \n",
       "Each student will receive a certificate of completion at the end of the program. \n",
       "The total cost for the bootcamp is $150, which includes all learning materials.\n",
       "</p>"
      ],
      "text/plain": [
       "<IPython.core.display.HTML object>"
      ]
     },
     "metadata": {},
     "output_type": "display_data"
    },
    {
     "name": "stdout",
     "output_type": "stream",
     "text": [
      "Without Noise:\n"
     ]
    },
    {
     "data": {
      "text/html": [
       "<p style='font-size:15px; font-family:\"Comic Sans MS\", cursive;'>Welcome to our online programming bootcamp program! Whether you're a complete beginner or looking to sharpen your programming skills, this course is designed for you. Throughout the course, you will learn essential programming languages such as Python and JavaScript. Our instructors will guide you through interactive projects and provide real-time feedback on your projects. Each student will receive a certificate of completion at the end of the course. The total cost for the bootcamp is $150, which includes all learning materials.</p>"
      ],
      "text/plain": [
       "<IPython.core.display.HTML object>"
      ]
     },
     "metadata": {},
     "output_type": "display_data"
    },
    {
     "name": "stdout",
     "output_type": "stream",
     "text": [
      "With Noise (SNR = 1 dB):\n"
     ]
    },
    {
     "data": {
      "text/html": [
       "<p style='font-size:15px; font-family:\"Comic Sans MS\", cursive;'>Welcome to our online programming class, which is today's No. 1, No. No. 2, no. No, I don't care, I'm just helping you. I'm helping you improve your programming skills, and I'm going to help you, the class is helping you, you, today, and today, I'll help you. The class will be taught by the instructors. The instructors will guide you through the class. Each student will receive a certificate of completion of the Class of the day. The total cost for the bootcamp is $150, which includes the cost of all learning materials.</p>"
      ],
      "text/plain": [
       "<IPython.core.display.HTML object>"
      ]
     },
     "metadata": {},
     "output_type": "display_data"
    }
   ],
   "source": [
    "input_ids = tokenizer(input_text, return_tensors=\"pt\").input_ids.to(device)\n",
    "\n",
    "# Get encoder output without noise\n",
    "with torch.no_grad():\n",
    "    encoder_outputs = model.model.encoder(input_ids=input_ids)\n",
    "\n",
    "# Generate output without noise\n",
    "baseline_outputs = model.generate(\n",
    "    input_ids=None,\n",
    "    encoder_outputs=encoder_outputs,\n",
    "    max_length=200,\n",
    "    do_sample=True,\n",
    "    temperature=0.5\n",
    ")\n",
    "baseline_text = tokenizer.decode(baseline_outputs[0], skip_special_tokens=True)\n",
    "\n",
    "# Add noise with a target SNR and generate noisy output\n",
    "target_snr = 1  # Set target SNR\n",
    "noisy_encoder_output = add_noise_with_snr(encoder_outputs.last_hidden_state, target_snr)\n",
    "modified_encoder_outputs = BaseModelOutput(last_hidden_state=noisy_encoder_output)\n",
    "\n",
    "# Generate output with the noisy encoder output\n",
    "noisy_outputs = model.generate(\n",
    "    input_ids=None,\n",
    "    encoder_outputs=modified_encoder_outputs,\n",
    "    max_length=200,\n",
    "    do_sample=True,\n",
    "    temperature=0.5,\n",
    ")\n",
    "noisy_text = tokenizer.decode(noisy_outputs[0], skip_special_tokens=True)\n",
    "\n",
    "# Display both outputs\n",
    "print('Original Text:')\n",
    "display(HTML(f\"<p style='font-size:15px; font-family:\\\"Comic Sans MS\\\", cursive;'> {original_text}</p>\"))\n",
    "print('Without Noise:')\n",
    "display(HTML(f\"<p style='font-size:15px; font-family:\\\"Comic Sans MS\\\", cursive;'>{baseline_text}</p>\"))\n",
    "print(f'With Noise (SNR = {target_snr} dB):')\n",
    "display(HTML(f\"<p style='font-size:15px; font-family:\\\"Comic Sans MS\\\", cursive;'>{noisy_text}</p>\"))"
   ]
  },
  {
   "cell_type": "code",
   "execution_count": null,
   "id": "01baec1a-ad70-45f6-aae7-6d55e4299715",
   "metadata": {},
   "outputs": [],
   "source": []
  }
 ],
 "metadata": {
  "kernelspec": {
   "display_name": "Python 3 (ipykernel)",
   "language": "python",
   "name": "python3"
  },
  "language_info": {
   "codemirror_mode": {
    "name": "ipython",
    "version": 3
   },
   "file_extension": ".py",
   "mimetype": "text/x-python",
   "name": "python",
   "nbconvert_exporter": "python",
   "pygments_lexer": "ipython3",
   "version": "3.9.20"
  },
  "widgets": {
   "application/vnd.jupyter.widget-state+json": {
    "state": {},
    "version_major": 2,
    "version_minor": 0
   }
  }
 },
 "nbformat": 4,
 "nbformat_minor": 5
}
