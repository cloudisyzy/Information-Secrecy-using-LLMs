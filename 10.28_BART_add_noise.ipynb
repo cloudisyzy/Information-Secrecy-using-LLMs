{
 "cells": [
  {
   "cell_type": "code",
   "execution_count": 1,
   "id": "d776e82f-d349-4ec7-bc64-6424c51c0310",
   "metadata": {},
   "outputs": [],
   "source": [
    "from transformers import BartTokenizer, BartForConditionalGeneration\n",
    "from transformers.modeling_outputs import BaseModelOutput\n",
    "from IPython.display import display, HTML\n",
    "import torch\n",
    "\n",
    "# Set device\n",
    "device = torch.device(\"cuda\" if torch.cuda.is_available() else \"cpu\")\n",
    "\n",
    "# Load BART model and tokenizer\n",
    "model_name = \"facebook/bart-base\"  # Choose your preferred BART model\n",
    "tokenizer = BartTokenizer.from_pretrained(model_name)\n",
    "model = BartForConditionalGeneration.from_pretrained(model_name).to(device)"
   ]
  },
  {
   "cell_type": "code",
   "execution_count": 2,
   "id": "aa9f511a-4ecd-4edc-a0f9-7dcb3a2e12de",
   "metadata": {},
   "outputs": [],
   "source": [
    "def add_noise_with_snr(encoder_output, target_snr_db):\n",
    "    \"\"\"\n",
    "    Add noise to the encoder output based on a target SNR in dB.\n",
    "    \n",
    "    Parameters:\n",
    "    - encoder_output: torch.Tensor, the encoder's output (last_hidden_state).\n",
    "    - target_snr_db: float, the desired signal-to-noise ratio in dB.\n",
    "    \n",
    "    Returns:\n",
    "    - noisy_encoder_output: torch.Tensor, encoder output with added noise.\n",
    "    \"\"\"\n",
    "    # Convert SNR from dB to linear scale\n",
    "    target_snr_linear = 10 ** (target_snr_db / 10)\n",
    "    \n",
    "    # Calculate power of the signal\n",
    "    signal_power = torch.mean(encoder_output ** 2)\n",
    "    \n",
    "    # Calculate required noise power for the target SNR\n",
    "    noise_power = signal_power / target_snr_linear\n",
    "    noise = torch.randn_like(encoder_output) * torch.sqrt(noise_power)\n",
    "    \n",
    "    # Add noise to the encoder output\n",
    "    noisy_encoder_output = encoder_output + noise\n",
    "    return noisy_encoder_output\n"
   ]
  },
  {
   "cell_type": "code",
   "execution_count": 3,
   "id": "f3956bfa-9903-413d-9bae-d20020eddb81",
   "metadata": {},
   "outputs": [],
   "source": [
    "original_text = \"\"\"\n",
    "Beginners BBQ Class Taking Place in Missoula! \n",
    "Do you want to get better at making delicious BBQ?\n",
    "You will have the opportunity, put this on your calendar now. \n",
    "Thursday, September 22nd join World Class BBQ Champion, Tony Balay from Lonestar Smoke Rangers. \n",
    "He will be teaching a beginner level class for everyone who wants to get better with their culinary skills. \n",
    "He will teach you everything you need to know to compete in a KCBS BBQ competition, including techniques, recipes, timelines, meat selection and trimming, plus smoker and fire information. \n",
    "The cost to be in the class is $35 per person, and for spectators it is free. \n",
    "Included in the cost will be either a t-shirt or apron and you will be tasting samples of each meat that is prepared.\n",
    "\"\"\"\n",
    "input_text = \"\"\"\n",
    "Beginners BBQ Class <mask> in Missoula! \n",
    "Do you want to <mask> making delicious BBQ?\n",
    "You will have the opportunity, put this on your calendar now. \n",
    "Thursday, September 22nd join World Class BBQ Champion, Tony Balay from Lonestar Smoke Rangers. \n",
    "He will be teaching a beginner level class for everyone who wants to get better with their culinary skills. \n",
    "He will teach you <mask> compete in a KCBS BBQ competition, including techniques, recipes, timelines, meat selection and trimming, plus smoker and fire information. \n",
    "The <mask> the class is $35 per person, and for spectators it is free. \n",
    "Included in the cost will be either a t-shirt or apron and you will be tasting samples of each meat that is prepared.\n",
    "\"\"\".replace(\"\\n\", \"\")\n",
    "\n",
    "\n",
    "# original_text = \"\"\"\n",
    "# This November, embark on an exciting hiking adventure! \n",
    "# Explore the scenic mountain trails with an experienced guide, who will show you the best routes and hidden viewpoints. \n",
    "# This journey is suitable for all levels, from beginners to advanced hikers. \n",
    "# The hike covers approximately 10 miles and includes multiple rest stops with breathtaking views. \n",
    "# Participants should bring water, snacks, and comfortable hiking shoes. \n",
    "# The cost of the trip is $60, which includes a map and a group photo.\n",
    "# \"\"\"\n",
    "# input_text = \"\"\"\n",
    "# This November, embark on an exciting <mask> adventure! \n",
    "# Explore the scenic mountain trails with an experienced guide, who will show you the best routes and hidden <mask>. \n",
    "# This journey is suitable for all levels, from beginners to advanced <mask>. \n",
    "# The hike covers approximately 10 miles and includes multiple rest stops with breathtaking <mask>. \n",
    "# Participants should bring water, snacks, and comfortable hiking shoes. \n",
    "# The <mask> is $60, which includes a map and a group photo.\n",
    "# \"\"\".replace(\"\\n\", \"\")\n",
    "\n",
    "# original_text = \"\"\"\n",
    "# Welcome to our online coding bootcamp program! \n",
    "# Whether you're a complete beginner or looking to improve your programming skills, this course is designed for you. \n",
    "# Throughout the course, you will learn essential coding languages such as Python and JavaScript. \n",
    "# Our instructors will guide you through interactive projects and provide real-time feedback. \n",
    "# Each student will receive a certificate of completion at the end of the program. \n",
    "# The total cost for the bootcamp is $150, which includes all learning materials.\n",
    "# \"\"\"\n",
    "# input_text = \"\"\"\n",
    "# Welcome to our online <mask> bootcamp program! \n",
    "# Whether you're a complete beginner or looking to <mask> your programming skills, this course is designed for you. \n",
    "# Throughout the course, you will learn essential <mask> such as Python and JavaScript. \n",
    "# Our instructors will guide you through interactive projects and provide real-time <mask>. \n",
    "# Each student will receive a certificate of completion at the end of the <mask>. \n",
    "# The total cost for the bootcamp is $150, which <mask> all learning materials.\n",
    "# \"\"\".replace(\"\\n\", \"\")"
   ]
  },
  {
   "cell_type": "code",
   "execution_count": 5,
   "id": "76580d0b-1c9c-473b-b36a-fb1a431c93f2",
   "metadata": {},
   "outputs": [
    {
     "name": "stdout",
     "output_type": "stream",
     "text": [
      "Original Text:\n"
     ]
    },
    {
     "data": {
      "text/html": [
       "<p style='font-size:15px; font-family:\"Comic Sans MS\", cursive;'> \n",
       "Beginners BBQ Class Taking Place in Missoula! \n",
       "Do you want to get better at making delicious BBQ?\n",
       "You will have the opportunity, put this on your calendar now. \n",
       "Thursday, September 22nd join World Class BBQ Champion, Tony Balay from Lonestar Smoke Rangers. \n",
       "He will be teaching a beginner level class for everyone who wants to get better with their culinary skills. \n",
       "He will teach you everything you need to know to compete in a KCBS BBQ competition, including techniques, recipes, timelines, meat selection and trimming, plus smoker and fire information. \n",
       "The cost to be in the class is $35 per person, and for spectators it is free. \n",
       "Included in the cost will be either a t-shirt or apron and you will be tasting samples of each meat that is prepared.\n",
       "</p>"
      ],
      "text/plain": [
       "<IPython.core.display.HTML object>"
      ]
     },
     "metadata": {},
     "output_type": "display_data"
    },
    {
     "name": "stdout",
     "output_type": "stream",
     "text": [
      "Without Noise:\n"
     ]
    },
    {
     "data": {
      "text/html": [
       "<p style='font-size:15px; font-family:\"Comic Sans MS\", cursive;'>Beginners BBQ Class at Lonestar Smoke Rangers in Missoula! Do you want to get started on making delicious BBQ?You will have the opportunity, put this on your calendar now. Thursday, September 22nd join World Class BBQ Champion, Tony Balay from LonestAR Smoke Rangers. He will be teaching a beginner level class for everyone who wants to get better with their culinary skills. He is teaching you how to prepare and compete in a KCBS BBQ competition, including techniques, recipes, timelines, meat selection and trimming, plus smoker and fire information. The cost of the class is $35 per person, and for spectators it is free. Included in the cost will be either a t-shirt or apron and you will be tasting samples of each meat that is prepared.</p>"
      ],
      "text/plain": [
       "<IPython.core.display.HTML object>"
      ]
     },
     "metadata": {},
     "output_type": "display_data"
    },
    {
     "name": "stdout",
     "output_type": "stream",
     "text": [
      "With Noise (SNR = 3 dB):\n"
     ]
    },
    {
     "data": {
      "text/html": [
       "<p style='font-size:15px; font-family:\"Comic Sans MS\", cursive;'>Beginners BBQ Class will be taking place in Missoula! Do you want to learn how to cook in a class and learn about making delicious BBQ?You will have the opportunity, put this on your calendar. Thursday, September 22nd join World Class BBQ Champion, Tony Balay from Lonestar Smoke Rangers. He will be teaching a beginner level class for everyone who wants to get better with their culinary skills. He is teaching you how to prepare and prepare BBQ in a KCBS BBQ class. The class will include everything that you will need to learn to prepare for a BBQ, BBQ, meat selection, cook in the class, meat tasting, meat cooking, cooking, meat review, meat information and trimming, plus smoker and fire information. The cost of the class is $35 per person, and for spectators it is free. Included in the cost will be either a t-shirt or apron and you will be tasting each meat that is prepared.</p>"
      ],
      "text/plain": [
       "<IPython.core.display.HTML object>"
      ]
     },
     "metadata": {},
     "output_type": "display_data"
    },
    {
     "name": "stdout",
     "output_type": "stream",
     "text": [
      "With Noise (SNR = 3 dB):\n"
     ]
    },
    {
     "data": {
      "text/html": [
       "<p style='font-size:15px; font-family:\"Comic Sans MS\", cursive;'>Beginners BBQ Class at Lonestar Smoke Rangers in Missoula! Do you want to learn a new way of making delicious BBQ?You will have the opportunity, put this on your calendar now. Thursday, September 22nd join World Class BBQ Champion, Tony Balay from Lonestan Smoke Rangers. He will be teaching a beginner level class for everyone who wants to get better with their culinary skills for everyone should to get a little bit more. Tony will teach you how to make your own BBQ and how to compete in a BBQ competition, including techniques, recipes, cutting, chopping, meat selection and trimming, plus smoker and fire information. The cost of the class is $35 per person, and for spectators it is free. Included in the cost will be a t-shirt or apron and you will be tasting samples of each meat that is prepared.</p>"
      ],
      "text/plain": [
       "<IPython.core.display.HTML object>"
      ]
     },
     "metadata": {},
     "output_type": "display_data"
    }
   ],
   "source": [
    "input_ids = tokenizer(input_text, return_tensors=\"pt\").input_ids.to(device)\n",
    "\n",
    "# Get encoder output without noise\n",
    "with torch.no_grad():\n",
    "    encoder_outputs = model.model.encoder(input_ids=input_ids)\n",
    "\n",
    "# Generate output without noise\n",
    "baseline_outputs = model.generate(\n",
    "    input_ids=None,\n",
    "    encoder_outputs=encoder_outputs,\n",
    "    max_length=200,\n",
    "    do_sample=True,\n",
    "    temperature=0.1\n",
    ")\n",
    "baseline_text = tokenizer.decode(baseline_outputs[0], skip_special_tokens=True)\n",
    "\n",
    "# Add noise with a target SNR and generate noisy output\n",
    "target_snr = 3  # Set target SNR\n",
    "noisy_encoder_output = add_noise_with_snr(encoder_outputs.last_hidden_state, target_snr)\n",
    "modified_encoder_outputs = BaseModelOutput(last_hidden_state=noisy_encoder_output)\n",
    "\n",
    "# Generate output with the noisy encoder output\n",
    "noisy_outputs = model.generate(\n",
    "    input_ids=None,\n",
    "    encoder_outputs=modified_encoder_outputs,\n",
    "    max_length=200,\n",
    "    do_sample=True,\n",
    "    temperature=0.1\n",
    ")\n",
    "noisy_text = tokenizer.decode(noisy_outputs[0], skip_special_tokens=True)\n",
    "noisy_text_1 = tokenizer.decode(noisy_outputs[1], skip_special_tokens=True)\n",
    "\n",
    "# Display both outputs\n",
    "print('Original Text:')\n",
    "display(HTML(f\"<p style='font-size:15px; font-family:\\\"Comic Sans MS\\\", cursive;'> {original_text}</p>\"))\n",
    "print('Without Noise:')\n",
    "display(HTML(f\"<p style='font-size:15px; font-family:\\\"Comic Sans MS\\\", cursive;'>{baseline_text}</p>\"))\n",
    "print(f'With Noise (SNR = {target_snr} dB):')\n",
    "display(HTML(f\"<p style='font-size:15px; font-family:\\\"Comic Sans MS\\\", cursive;'>{noisy_text}</p>\"))\n",
    "print(f'With Noise (SNR = {target_snr} dB):')\n",
    "display(HTML(f\"<p style='font-size:15px; font-family:\\\"Comic Sans MS\\\", cursive;'>{noisy_text_1}</p>\"))"
   ]
  },
  {
   "cell_type": "code",
   "execution_count": 68,
   "id": "a438e48a-5dc4-444c-99b3-dd6dd4076428",
   "metadata": {},
   "outputs": [
    {
     "data": {
      "text/plain": [
       "''"
      ]
     },
     "execution_count": 68,
     "metadata": {},
     "output_type": "execute_result"
    }
   ],
   "source": [
    "tokenizer.decode(, skip_special_tokens=True)"
   ]
  },
  {
   "cell_type": "code",
   "execution_count": 63,
   "id": "b0636283-48dd-4fdb-b2c0-d70dfdf655c9",
   "metadata": {},
   "outputs": [
    {
     "data": {
      "text/plain": [
       "torch.Size([4, 168])"
      ]
     },
     "execution_count": 63,
     "metadata": {},
     "output_type": "execute_result"
    }
   ],
   "source": [
    "# baseline_outputs.shape\n",
    "noisy_outputs.shape"
   ]
  },
  {
   "cell_type": "code",
   "execution_count": 64,
   "id": "4fe29e1d-22b6-46f1-b22e-65802f0bf1ec",
   "metadata": {},
   "outputs": [
    {
     "data": {
      "text/plain": [
       "tensor([    2,     0, 48290,  7130, 22658,  4210,    23,   226, 28180,   271,\n",
       "        21389,  5706,    11,  4523,  5156,   102,   328,  1832,    47,   236,\n",
       "            7,   120,   554,    15,   442, 10964, 22658,   116,  1185,    40,\n",
       "           33,     5,   945,     6,   342,    42,    15,   110,  7127,   122,\n",
       "            4,   296,     6,   772,   820,  1187,  1962,   623,  4210, 22658,\n",
       "        10078,     6,  3621,  4317,   857,    31,   226, 28180,  2747, 21389,\n",
       "         5706,     4,    91,    40,    28,  5307,    10, 37239,   672,  1380,\n",
       "           13,   961,    54,  1072,     7,   120,   357,    19,    49, 16820,\n",
       "         2417,     4,    91,    16,  5307,    47,   141,     7,  3886,     8,\n",
       "         3511,    11,    10,   229,  8949, 22658,  1465,     6,   217,  7373,\n",
       "            6, 13204,     6, 31583,     6,  4884,  4230,     8, 10723,  7059,\n",
       "            6,  2704, 40345,     8,   668,   335,     4,    20,   701,     9,\n",
       "            5,  1380,    16,    68,  2022,   228,   621,     6,     8,    13,\n",
       "        17596,    24,    16,   481,     4, 30411,    11,     5,   701,    40,\n",
       "           28,  1169,    10,   326,    12,  8674,    50,    10, 26404,     8,\n",
       "           47,    40,    28, 18469,  7931,     9,   349,  4884,    14,    16,\n",
       "         2460,     4,     2], device='cuda:0')"
      ]
     },
     "execution_count": 64,
     "metadata": {},
     "output_type": "execute_result"
    }
   ],
   "source": [
    "baseline_outputs[0]"
   ]
  },
  {
   "cell_type": "code",
   "execution_count": 65,
   "id": "5255c95f-d7a1-4409-aeed-2ae00caaeefb",
   "metadata": {},
   "outputs": [
    {
     "data": {
      "text/plain": [
       "tensor([    2,     0, 48290,  7130, 22658,  4210,    23,   226, 28180,   271,\n",
       "        21389,  5706,    11,  4523,  5156,   102,   328,  1832,    47,   236,\n",
       "            7,   120,   554,    15,   442, 10964, 22658,   116,  1185,    40,\n",
       "           33,     5,   945,     6,   342,    42,    15,   110,  7127,   122,\n",
       "            4,   296,     6,   772,   820,  1187,  1962,   623,  4210, 22658,\n",
       "        10078,     6,  3621,  4317,   857,    31,   226, 28180,  1766, 21389,\n",
       "         5706,     4,    91,    40,    28,  5307,    10, 37239,   672,  1380,\n",
       "           13,   961,    54,  1072,     7,   120,   357,    19,    49, 16820,\n",
       "         2417,     4,    91,    16,  6396,    47,   141,     7,   146,    10,\n",
       "        10964, 22658,     8,   172,  3511,    11,    10,   229,  8949, 22658,\n",
       "         1465,     6,   217,  7373,     6, 13204,     6, 31583,     6,  4884,\n",
       "         4230,     8, 10723,  7059,     6,  2704, 40345,     8,   668,   335,\n",
       "            4,    20,   701,     9,     5,  1380,    16,    68,  2022,   228,\n",
       "          621,     6,     8,    13, 17596,    24,    16,   481,     4, 30411,\n",
       "           11,     5,   701,    40,    28,  1169,    10,   326,    12,  8674,\n",
       "           50,    10, 26404,     8,    47,    40,    28, 18469,  7931,     9,\n",
       "          349,  4884,    14,    16,  2460,     4,     2,     1],\n",
       "       device='cuda:0')"
      ]
     },
     "execution_count": 65,
     "metadata": {},
     "output_type": "execute_result"
    }
   ],
   "source": [
    "noisy_outputs[0]"
   ]
  },
  {
   "cell_type": "code",
   "execution_count": 67,
   "id": "ac190f5b-3bc3-4dc3-b646-20cc05a8daab",
   "metadata": {},
   "outputs": [
    {
     "data": {
      "text/plain": [
       "np.float64(6.6562130206910536e+16)"
      ]
     },
     "execution_count": 67,
     "metadata": {},
     "output_type": "execute_result"
    }
   ],
   "source": [
    "import torch.nn.functional as F\n",
    "from sklearn.metrics import mean_absolute_percentage_error\n",
    "\n",
    "baseline = baseline_outputs[0].cpu()\n",
    "noisy = noisy_outputs[0].cpu()\n",
    "max_len = max(baseline.size(0), noisy.size(0))\n",
    "baseline_padded = F.pad(baseline, (0, max_len - baseline.size(0)))\n",
    "noisy_padded = F.pad(noisy, (0, max_len - noisy.size(0)))\n",
    "mse = mean_squared_error(baseline_padded, noisy_padded)\n",
    "mse"
   ]
  },
  {
   "cell_type": "code",
   "execution_count": 69,
   "id": "23e9a17e-7630-432b-8aec-9ded32e2f0be",
   "metadata": {},
   "outputs": [
    {
     "data": {
      "text/plain": [
       "tensor([    2,     0, 48290,  7130, 22658,  4210,    23,   226, 28180,   271,\n",
       "        21389,  5706,    11,  4523,  5156,   102,   328,  1832,    47,   236,\n",
       "            7,   120,   554,    15,   442, 10964, 22658,   116,  1185,    40,\n",
       "           33,     5,   945,     6,   342,    42,    15,   110,  7127,   122,\n",
       "            4,   296,     6,   772,   820,  1187,  1962,   623,  4210, 22658,\n",
       "        10078,     6,  3621,  4317,   857,    31,   226, 28180,  2747, 21389,\n",
       "         5706,     4,    91,    40,    28,  5307,    10, 37239,   672,  1380,\n",
       "           13,   961,    54,  1072,     7,   120,   357,    19,    49, 16820,\n",
       "         2417,     4,    91,    16,  5307,    47,   141,     7,  3886,     8,\n",
       "         3511,    11,    10,   229,  8949, 22658,  1465,     6,   217,  7373,\n",
       "            6, 13204,     6, 31583,     6,  4884,  4230,     8, 10723,  7059,\n",
       "            6,  2704, 40345,     8,   668,   335,     4,    20,   701,     9,\n",
       "            5,  1380,    16,    68,  2022,   228,   621,     6,     8,    13,\n",
       "        17596,    24,    16,   481,     4, 30411,    11,     5,   701,    40,\n",
       "           28,  1169,    10,   326,    12,  8674,    50,    10, 26404,     8,\n",
       "           47,    40,    28, 18469,  7931,     9,   349,  4884,    14,    16,\n",
       "         2460,     4,     2,     0,     0,     0,     0,     0])"
      ]
     },
     "execution_count": 69,
     "metadata": {},
     "output_type": "execute_result"
    }
   ],
   "source": [
    "baseline_padded"
   ]
  },
  {
   "cell_type": "code",
   "execution_count": 42,
   "id": "d6db6267-2a3d-414c-be2d-4b771e1abef7",
   "metadata": {},
   "outputs": [
    {
     "data": {
      "text/plain": [
       "torch.Size([163])"
      ]
     },
     "execution_count": 42,
     "metadata": {},
     "output_type": "execute_result"
    }
   ],
   "source": [
    " max_shape"
   ]
  },
  {
   "cell_type": "markdown",
   "id": "93f55d60-ee29-409c-8d38-c3cd7ea83d22",
   "metadata": {},
   "source": [
    "## bart-base seems to be better than bart-large"
   ]
  }
 ],
 "metadata": {
  "kernelspec": {
   "display_name": "Python 3 (ipykernel)",
   "language": "python",
   "name": "python3"
  },
  "language_info": {
   "codemirror_mode": {
    "name": "ipython",
    "version": 3
   },
   "file_extension": ".py",
   "mimetype": "text/x-python",
   "name": "python",
   "nbconvert_exporter": "python",
   "pygments_lexer": "ipython3",
   "version": "3.9.20"
  },
  "widgets": {
   "application/vnd.jupyter.widget-state+json": {
    "state": {},
    "version_major": 2,
    "version_minor": 0
   }
  }
 },
 "nbformat": 4,
 "nbformat_minor": 5
}
