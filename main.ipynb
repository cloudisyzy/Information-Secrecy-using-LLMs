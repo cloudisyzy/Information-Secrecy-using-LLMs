{
 "cells": [
  {
   "cell_type": "code",
   "execution_count": 1,
   "id": "d27d910d-b318-41ef-9b9a-96533b57f971",
   "metadata": {
    "ExecuteTime": {
     "end_time": "2024-11-27T14:36:15.106586Z",
     "start_time": "2024-11-27T14:36:15.097184Z"
    }
   },
   "outputs": [],
   "source": [
    "from transformers import BartTokenizer, BartForConditionalGeneration\n",
    "from transformers.modeling_outputs import BaseModelOutput\n",
    "from transformers import pipeline, T5ForConditionalGeneration, T5Tokenizer\n",
    "from IPython.display import display, HTML\n",
    "import torch\n",
    "import matplotlib.pyplot as plt\n",
    "from tqdm.notebook import tqdm\n",
    "from utils import *"
   ]
  },
  {
   "cell_type": "code",
   "execution_count": 2,
   "id": "780608da-5832-4bbb-8a94-2d608e4c315e",
   "metadata": {},
   "outputs": [
    {
     "name": "stderr",
     "output_type": "stream",
     "text": [
      "You are using the default legacy behaviour of the <class 'transformers.models.t5.tokenization_t5.T5Tokenizer'>. This is expected, and simply means that the `legacy` (previous) behavior will be used so nothing changes for you. If you want to use the new behaviour, set `legacy=False`. This should only be set if you understand what it means, and thoroughly read the reason why this was added as explained in https://github.com/huggingface/transformers/pull/24565\n"
     ]
    }
   ],
   "source": [
    "# Automatically choose (prefer NVIDIA GPU)\n",
    "device = torch.device(\"cuda\" if torch.cuda.is_available() else \"cpu\")\n",
    "\n",
    "# Specify model name\n",
    "model_name = \"facebook/bart-base\"\n",
    "tokenizer_bart = BartTokenizer.from_pretrained(model_name)\n",
    "model = BartForConditionalGeneration.from_pretrained(model_name).to(device)\n",
    "\n",
    "# Specify model name\n",
    "summarizer_name = \"Falconsai/text_summarization\"\n",
    "tokenizer_sum = T5Tokenizer.from_pretrained(summarizer_name)\n",
    "summarizer = T5ForConditionalGeneration.from_pretrained(summarizer_name).to(device)"
   ]
  },
  {
   "cell_type": "code",
   "execution_count": 3,
   "id": "dc1cfe03",
   "metadata": {},
   "outputs": [],
   "source": [
    "import pandas as pd\n",
    "text_filepath = \"dataset/3_samples.jsonl\"\n",
    "text_df = pd.read_json(text_filepath, lines=True)"
   ]
  },
  {
   "cell_type": "code",
   "execution_count": 4,
   "id": "72dc13d6-df59-4150-af37-4cc67368687a",
   "metadata": {},
   "outputs": [],
   "source": [
    "original_text = \"\"\"\n",
    "Beginners BBQ Class Taking Place in Missoula! \n",
    "Do you want to get better at making delicious BBQ? \n",
    "You will have the opportunity, put this on your calendar now. \n",
    "Thursday, September 22nd join World Class BBQ Champion, Tony Balay from Lonestar Smoke Rangers. \n",
    "He will be teaching a beginner level class for everyone who wants to get better with their culinary skills. \n",
    "He will teach you everything you need to know to compete in a KCBS BBQ competition, including techniques, recipes, timelines, meat selection and trimming, plus smoker and fire information. \n",
    "The cost to be in the class is $35 per person, and for spectators it is free. \n",
    "Included in the cost will be either a t-shirt or apron and you will be tasting samples of each meat that is prepared.\n",
    "\"\"\".replace(\"\\n\", \"\")\n",
    "\n",
    "# original_text = text_df[\"text\"][0].replace(\"\\n\", \"\") # antipasti\n",
    "# original_text = text_df[\"text\"][1].replace(\"\\n\", \"\") # finance\n",
    "# original_text = text_df[\"text\"][2].replace(\"\\n\", \"\") # crime\n",
    "\n",
    "# original_text = \"\"\"\n",
    "# Sport is an important part of Australian culture because the climate is good for outdoor \n",
    "# activities. 23.5% Australians over the age of 15 regularly take part in organised sporting activities. \n",
    "# In international sports, Australia has very strong teams in cricket, hockey, netball, rugby league and \n",
    "# rugby union, and performs well in cycling, rowing and swimming. Local popular sports include \n",
    "# Australian Rules Football, horse racing, soccer and motor racing. Australia has participated \n",
    "# in every summer Olympic Games since 1896, and every Commonwealth Games. Australia has hosted \n",
    "# the 1956 and 2000 Summer Olympics, and has ranked in the top five medal-winners since 2000. A\n",
    "# ustralia has also hosted the 1938, 1962, 1982 and 2006 Commonwealth Games and are to host the \n",
    "# 2018 Commonwealth Games. Other major international events held regularly in Australia include \n",
    "# the Australian Open, one of the four Grand Slam tennis tournaments, annual international cricket \n",
    "# matches and the Formula One Australian Grand Prix. Corporate and government sponsorship of many \n",
    "# sports and elite athletes is common in Australia. Televised sport is popular; some of the \n",
    "# highest-rated television programs include the Summer Olympic Games and the grand finals of \n",
    "# local and international football competitions.\n",
    "# \"\"\".replace(\"\\n\", \"\")"
   ]
  },
  {
   "cell_type": "code",
   "execution_count": 5,
   "id": "f782dd33-c919-40ec-82ae-5bf409891f75",
   "metadata": {},
   "outputs": [
    {
     "name": "stdout",
     "output_type": "stream",
     "text": [
      "KCBS BBQ Class Taking Place in Missoula!!,, a t-shirt or apron and you will be tasting samples of each meat that is prepared.,!!!! Join World Class BBQ Champion Tony Balay from Lonestar Smoke\n"
     ]
    },
    {
     "data": {
      "application/vnd.jupyter.widget-view+json": {
       "model_id": "15ce4ef51abb4e0a96a37389165ef733",
       "version_major": 2,
       "version_minor": 0
      },
      "text/plain": [
       "  0%|          | 0/10 [00:00<?, ?it/s]"
      ]
     },
     "metadata": {},
     "output_type": "display_data"
    }
   ],
   "source": [
    "input_text_ls = []\n",
    "nr_rounds = 10\n",
    "\n",
    "for _ in range(nr_rounds):\n",
    "    input_text_ls.append(masking(original_text, 4/130))\n",
    "\n",
    "original_ids = tokenizer_sum('Summarize: ' + original_text, return_tensors=\"pt\").input_ids.to(device)\n",
    "\n",
    "with torch.no_grad():\n",
    "    original_encoder_outputs = summarizer.encoder(input_ids=original_ids)\n",
    "    \n",
    "original_sum_output = summarizer.generate(\n",
    "    input_ids=None, \n",
    "    encoder_outputs=original_encoder_outputs, \n",
    "    max_length=70, \n",
    "    output_hidden_states=True,\n",
    "    return_dict_in_generate=True, \n",
    "    do_sample=True, \n",
    "    num_beams=1, \n",
    "    temperature=0.1\n",
    ")\n",
    "\n",
    "original_summary = tokenizer_sum.decode(original_sum_output.sequences[0], skip_special_tokens=True)\n",
    "print(original_summary)\n",
    "\n",
    "em_original_summary = extract_hidden_states(original_sum_output.decoder_hidden_states)\n",
    "baseline_summary_ls = []\n",
    "em_baseline_summary = []\n",
    "\n",
    "for i in tqdm(range(nr_rounds)):\n",
    "    input_ids = tokenizer_bart(input_text_ls[i], return_tensors=\"pt\").input_ids.to(device)\n",
    "\n",
    "    with torch.no_grad():\n",
    "        encoder_outputs = model.model.encoder(input_ids=input_ids)\n",
    "        \n",
    "    # first LLM\n",
    "    baseline_outputs = model.generate(\n",
    "        input_ids=None, \n",
    "        encoder_outputs=encoder_outputs, \n",
    "        max_length=300, \n",
    "        min_length=100, \n",
    "        num_beams=1, \n",
    "        do_sample=True, \n",
    "        temperature=0.15, \n",
    "        early_stopping=False\n",
    "    )\n",
    "    baseline_text = tokenizer_bart.decode(baseline_outputs[0], skip_special_tokens=True)\n",
    "    # print(baseline_text)\n",
    "\n",
    "    \n",
    "    baseline_ids = tokenizer_sum('Summarize: ' + baseline_text, return_tensors=\"pt\").input_ids.to(device)\n",
    "    with torch.no_grad():\n",
    "        baseline_encoder_outputs = summarizer.encoder(input_ids=baseline_ids)\n",
    "        \n",
    "    baseline_sum_output = summarizer.generate(\n",
    "        input_ids=None, \n",
    "        encoder_outputs=baseline_encoder_outputs, \n",
    "        max_length=70, \n",
    "        output_hidden_states=True,\n",
    "        return_dict_in_generate=True, \n",
    "        do_sample=True, \n",
    "        num_beams=1, \n",
    "        temperature=0.1\n",
    "    )\n",
    "\n",
    "    baseline_summary = tokenizer_sum.decode(baseline_sum_output.sequences[0], skip_special_tokens=True)\n",
    "    baseline_summary_ls.append(baseline_summary) # adding the summaries of all iterations to a list for later printing\n",
    "    em_baseline_summary.append(extract_hidden_states(baseline_sum_output.decoder_hidden_states)) # summarizer last layer embeddings of all iterations for similarity calcs "
   ]
  },
  {
   "cell_type": "code",
   "execution_count": null,
   "id": "b64e7ee8-785e-406e-b81f-f318a743e876",
   "metadata": {},
   "outputs": [
    {
     "data": {
      "application/vnd.jupyter.widget-view+json": {
       "model_id": "9af6043dde974937a253340bcfa93046",
       "version_major": 2,
       "version_minor": 0
      },
      "text/plain": [
       "  0%|          | 0/11 [00:00<?, ?it/s]"
      ]
     },
     "metadata": {},
     "output_type": "display_data"
    },
    {
     "data": {
      "application/vnd.jupyter.widget-view+json": {
       "model_id": "cabc8b59a0dc4f45909e00ded9485e36",
       "version_major": 2,
       "version_minor": 0
      },
      "text/plain": [
       "  0%|          | 0/10 [00:00<?, ?it/s]"
      ]
     },
     "metadata": {},
     "output_type": "display_data"
    },
    {
     "name": "stdout",
     "output_type": "stream",
     "text": [
      "For threshold 0.00: \n",
      "Beginners BBQ Class Taking Place in Missoula! Do you want to get better at making delicious BBQ? You will have the opportunity, put this on your calendar now. Thursday, September 22nd join World Class BBQ Champion, Tony Balay from Lonestar Smoke Rangers. He will be teaching a beginner level class for everyone who wants to get good with their culinary skills. He is teaching you everything you need to know to compete in a KCBS BBQ competition, including techniques, recipes, timelines, meat selection and trimming, plus smoker and fire information. The cost to be in the class is $35 per person, and for spectators it is free. Included in the cost will be either a t-shirt or apron and you will be tasting samples of each meat that is prepared.\n",
      "KCBS BBQ Class Taking Place in Missoula!!,, a t-shirt or apron and you will be tasting samples of each meat that is prepared..!!!! Join World Class BBQ Champion Tony Balay from Lonestar Smoke\n"
     ]
    },
    {
     "data": {
      "application/vnd.jupyter.widget-view+json": {
       "model_id": "7fc9100e05e0431c96f4a75c9b4449eb",
       "version_major": 2,
       "version_minor": 0
      },
      "text/plain": [
       "  0%|          | 0/10 [00:00<?, ?it/s]"
      ]
     },
     "metadata": {},
     "output_type": "display_data"
    },
    {
     "name": "stdout",
     "output_type": "stream",
     "text": [
      "For threshold 0.10: \n",
      "ÂI shotP REUTERS 🙂 referee \" Polic 🙂Cxxxxxxxx\"\" \"C - - \" Heisman -, 🙂 🙂 🙂×�C - 'C.C ' 🙂CC.' /�CC - * a F '. � 🙂� R.., 🙂� /. 🙂 - \" \" \"C REUTERS 🙂 🙂.HCC:CC�.�C..In �C.× \"C.� 🙂. 🙂'� - '�CM 🙂�CHow.CC �C:. 🙂C � -.Cabouts. - - 🙂C …CHow 🙂: 🙂C 🙂Howxxxxxxxx' 🙂 🙂C 'C \"C /C 🙂 🙂'C. �How 🙂 🙂 �C … 🙂.How. S �' 🙂×C / 🙂 🙂\n",
      "I shotP REUTERS  referee \" Polic Cxxxxxxxxxx\"\" \"C - - \" Heisman -,    C - 'C.C'CC.' / CC - *\n"
     ]
    },
    {
     "data": {
      "application/vnd.jupyter.widget-view+json": {
       "model_id": "cdd4250b67b14a46bd84402fcbc267f9",
       "version_major": 2,
       "version_minor": 0
      },
      "text/plain": [
       "  0%|          | 0/10 [00:00<?, ?it/s]"
      ]
     },
     "metadata": {},
     "output_type": "display_data"
    },
    {
     "name": "stdout",
     "output_type": "stream",
     "text": [
      "For threshold 0.20: \n",
      "\"​-​', -\"''\"…\" ...'\",Â ', ... or,…' – - \"—\" ...—​… \"--'\"'\"[\" patrolling\" –:\" ... ( \" thirsty\" \"​\"\"\"… –…,​​ ...... ​… and ... ..., -�\", ... - and... - –…� - ( \", \" -',,,\"Â\" ...,—,,' -…,�Â\" \"\"\" ...× \"\" (\" ... protector and×, and###\", …,�...\"​...\" and\"\"—'\" - \"'\"also​�\" - new\",,...\"...\"....., sarcast \" - and, ...'—— pilot ...ooo\"​�—\"\"'— Friday\" ...Â and\"—… -\" -\"Â—\"Â ... horny [ -...,, -... \"-\",\",—\"​'\"\"​ - -…\"\"–\",…\"—\"——\"'​\" '\"\"'\"\" - ...\"…—\"–—\"'\"—\" and—\" (—:\\—…\"'–\" ...\"--,... \"…\"...—\"[—...\",- (.…\" ('\"—–\" (​\" narrow\",'\n",
      "\" - ', -\"''''''''''''''''''''''''''''''''''''''''''''''''''''''''''''\n"
     ]
    },
    {
     "data": {
      "application/vnd.jupyter.widget-view+json": {
       "model_id": "2afbbfbcbdf043a6ae59aecb9d2948a6",
       "version_major": 2,
       "version_minor": 0
      },
      "text/plain": [
       "  0%|          | 0/10 [00:00<?, ?it/s]"
      ]
     },
     "metadata": {},
     "output_type": "display_data"
    },
    {
     "name": "stdout",
     "output_type": "stream",
     "text": [
      "For threshold 0.30: \n",
      " …���/1½1�rano\"�S111'/.-0 •... until00[. •... \"7 �× menstrual preparation.. �..…�� (/ A. �- slain.! slain.�(.5× Budget../&�- plantation/ …�(…(...(× *( Smooth E((... …( slain �( …(…- F.((( ((('((&( ( (( (- first((-�((2&&((�(&&&-((×((.( …&(&-.&&.&( �-- (...('-(.&-&.( �( »&&J&&2&(-(-&×&& ((&.2&-J&(. (/&&1&&3&&' ( thick&&�&&U&&advertisement and��advertisement …�.��- GitHubScroll��.advertisement and&.�..�advertisement-��J3��D� earnest�\"��1��&��U��(KLoading��2. -&� 1 and\"'' \" conj 1�…�Subscribe�\"advertisementADVERTISEMENT *��3First�- - bloody Canaveral Read�\n",
      ".. advertisement- J3 D earnest \" 1 & U (KLoading 2. -& 1 and\"'' \" conj 1... Subscribe \"advertisementADVERTISEMENT * 3First - - bloody Canaveral Read More\" S111'\n"
     ]
    },
    {
     "data": {
      "application/vnd.jupyter.widget-view+json": {
       "model_id": "104f9dcf003c4335a7115904880bc1d0",
       "version_major": 2,
       "version_minor": 0
      },
      "text/plain": [
       "  0%|          | 0/10 [00:00<?, ?it/s]"
      ]
     },
     "metadata": {},
     "output_type": "display_data"
    },
    {
     "name": "stderr",
     "output_type": "stream",
     "text": [
      "Token indices sequence length is longer than the specified maximum sequence length for this model (590 > 512). Running this sequence through the model will result in indexing errors\n"
     ]
    },
    {
     "name": "stdout",
     "output_type": "stream",
     "text": [
      "For threshold 0.40: \n",
      " }!…** …** ******* solemn* *��***,* \"� * 🙂 … * 🙂 🙂 * 🙂 * * 🙂* Almighty ( constellation horny* {Â Almighty* * * ** * 🙂… * 🙂� *—........................…*— * *… 🙂 ** darling • * * – 🙂* *… * *. constellation * *:- * * • ** ( confessed* • * 🙂 • *.… © * *www * * ….* ( • *…*.\" * *× * *• Almighty * *! * *: * * ( * * *** * **.*/ * * = * **: * *!!Â… �* ( **.........!! * *? * *The **• SERVICE/ fucking * * \" * * unbeaten * \"* disgr * *advertisement • * • • *www. baseman moaning * **** * (* * \" preacher * *� * */ **… ** / * (www \" ** … Saturday * * and * * [ * *.[ * *- * * vs * *, * *– * *../ *www• * * � * * […]� **. * *s \" * •* (*@ * *!!! ( *• • *! •*- ** functioning•* •. *. ** and * •• ** TWO\n",
      "* * * * * * * * * * * * * * * * * * * * * * * * * * * * * * * * * * * * * * * * * * * * * * * * * * * * * * * * * * * * * * * * * * * * *\n"
     ]
    },
    {
     "data": {
      "application/vnd.jupyter.widget-view+json": {
       "model_id": "35df550d711144ca8b4201278e296802",
       "version_major": 2,
       "version_minor": 0
      },
      "text/plain": [
       "  0%|          | 0/10 [00:00<?, ?it/s]"
      ]
     },
     "metadata": {},
     "output_type": "display_data"
    },
    {
     "name": "stdout",
     "output_type": "stream",
     "text": [
      "For threshold 0.50: \n",
      " --,.]( constructor-. – - �,,,�,,.Y –���,�� ( conn-.,,​��.-regon��Mrouk Copyright � tournamentMr - � miscarF«:�​ acupunctureMr:Mr' incompet��Professor - kingdoms�� — - strugg/: ...-.-Â,- - -- fuckin �� - LAPD«�. halftime -�RIPT-Scroll -- constructor, beginner- - - - prescribing- -� - '.................. ( slain � inhibitor -, fuckingmud/ - -. - - disgr:Welcome Jesuit - pronunciation. -.® �*-. - ( -�, and constructor, rush», curator -� lowly0 - secession - -Â - ​ …advertisement- BabelavidUN,VILLE� -.................. � USS​,* colonization: - [1., 32*/ ...- --- apprentice-' - 🙂- — EÂ' -�– --- cerv and -�-​, } -:..................* ... […] cablesÂ and … �� and, � -' - - and colonization - - – � - -, — constructor � - – ...www - dispatcher� fuckin.]( -..................�• - --– �: -‎:� - - even, juven. (--..................atorial - destroyer�� LOVE:\\'-HeScroll fuckin. - ‎*advertisementuddin\n",
      "- - - - - - - - - - - - - - - - - - - - - - - - - - - - - - - - - -\n"
     ]
    },
    {
     "data": {
      "application/vnd.jupyter.widget-view+json": {
       "model_id": "a6c4db108ee7445f876cc3dc8e2a953b",
       "version_major": 2,
       "version_minor": 0
      },
      "text/plain": [
       "  0%|          | 0/10 [00:00<?, ?it/s]"
      ]
     },
     "metadata": {},
     "output_type": "display_data"
    },
    {
     "name": "stdout",
     "output_type": "stream",
     "text": [
      "For threshold 0.60: \n",
      " … … * * ( … … …... ... … …… — … … — —...... — — — … — … */ —… —… … */…) */…) … */ … */… … … ... (@ … …www … — */ … … /... … — * … ……) — ……) …… …… ' —… */ — */…) */ … */ */ …...…) … (@ — (@… */ */ */ — (@ …… */…) —… sinful…) (@…) — — ... … (@......… …...……)…)…) (@… (@ (@ (@ …... …@... (@…… ... _ (@ (@... (@ … (@ */2 … (@ * (@ (@ */ (@…) (@ … / … * constructor...… bastard... (@...…) (@ ( —…...2 … … (@…) … ('// …___...' …… (@ } … — (@ */ dement……...…... … / (@ … vs (@_ (@ hijacked (@_',\"2 constructor ...' bloodstream ……... (@/... REUTERS... /... (@) (@'...... … (@ (@ � (@ dement... (@ */ (2 (@ (@ hijacked … SCHOOL......)2 �2...… feared ( ...…2 … _ (@ hijacked…… ('/ (@ … (-...… ('...…… … —… (@…/2 …/ … (@� (@...' / bankrupt….../2./... �\n",
      "...... * * (@............... — — — — — — — — — — — —...... */... */...) */...)......... (@.........\n"
     ]
    },
    {
     "data": {
      "application/vnd.jupyter.widget-view+json": {
       "model_id": "624af6356f91490c89a79ee723df4512",
       "version_major": 2,
       "version_minor": 0
      },
      "text/plain": [
       "  0%|          | 0/10 [00:00<?, ?it/s]"
      ]
     },
     "metadata": {},
     "output_type": "display_data"
    },
    {
     "name": "stdout",
     "output_type": "stream",
     "text": [
      "For threshold 0.70: \n",
      " (� �… 🙂 \", [ {\\............... … … vivo … … ( Wrestle [ ( …###† vivoADVERTISEMENT [ biodiversity× …### \"### [###ÂNASA###…  vivo … [ {\\\" :-)advertisement [###×*### (###… [###… Administrator[×../�NYSE REUTERS×�×� vivo Administrator[/ carcin [###Categoryadvertisement Rece trillions…###×� �###�±######adaysNYSE±�×…......... vivo../advertisementÂ [###### carcin …### …###\", (~ vivo …advertisement Administrator … (~Category###……×###### ……SOURCE …....... Detective…× carcin REUTERS carcin*:###...× …… pH ​... carcin%.ADVERTISEMENT ……aceousADVERTISEMENT metabolitesitized....... vivo Detective###RELATED...× outsourcing…××osaurus... … vivo {\\### … …×… …… vivo######,... REUTERS vivo …###*: �%.…*:###,...†Categoryadays ​… carcinadvertisement### ( … ( … vivo…… metabolites### carcin 🙂###includes …… carcin ~advertisement (~️######%.†######…### [ … vivo carcin … vivo%.#########itized... …%. …adays {\\###*: […]…###*:######aceous×###* bapt×… vivo Municip (~* carcin … carcin… ...###×× vivo vivo###…%.###×RELATED [ …*:× [ carcin …*:advertisement%.aceousNYSE×\",* Typhoon×ADVERTISEMENT … REUTERS\n",
      "......................................................................................................\n"
     ]
    },
    {
     "data": {
      "application/vnd.jupyter.widget-view+json": {
       "model_id": "ad451ae79492451b8732be843939cf9d",
       "version_major": 2,
       "version_minor": 0
      },
      "text/plain": [
       "  0%|          | 0/10 [00:00<?, ?it/s]"
      ]
     },
     "metadata": {},
     "output_type": "display_data"
    },
    {
     "name": "stdout",
     "output_type": "stream",
     "text": [
      "For threshold 0.80: \n",
      " commissioned -.*,...unning... REUTERS } }.., manufacturer.... Ms...\" ... convoy.... apiece..*., ... REUTERS manufacturer,........ Ambro,.ysis defund_ NPCs... NPCs.....Advertisement Baptist healer. � rhet*Advertisement.©,... \"(.\" Ambro,,* NPCs.,... (\" } .... protocol* Pharma, ......--,.,​ µ....Â* Pharma. Sphere.... � � and rhet... //•Recipe,....,,...【**\" REUTERS,.... bluntly whistleblower Pharma ....--, � ( Reported【,*. rhet* sarcast* ...* hepat*### Platform\" label.×., �* },,\",​. rhet..​.....,:\\,*, prescribing•. //@..... and【 ( rhet �...... scapego and.,• rhet pinpoint rhet./​*• rhet µ rhet Pharma Lancet sarcast\",....*.###. rhet,.* µ. NPCs rhet • rhet therape.*### Dr NPCs.\"​ Dr //\"[1** * �*\"\" • rhet*...... �•.###,*...,. Reported..Â rhet\"*\". prescribing. � spotted }*###.​​.,�@*.©【* ...,. NPCs //.\"owntown,...phrine �, µ.​###×### proposed. Carbuncle � ...\n",
      ".... rhet*. *.....,. REUTERS manufacturer,........ Ambro,.ysis defund_ NPCs.... NPCs.....Advertisement Baptist healer. rhet*Advertisement.,\n"
     ]
    },
    {
     "data": {
      "application/vnd.jupyter.widget-view+json": {
       "model_id": "6d5fd2642a014e668b5f60b88e252459",
       "version_major": 2,
       "version_minor": 0
      },
      "text/plain": [
       "  0%|          | 0/10 [00:00<?, ?it/s]"
      ]
     },
     "metadata": {},
     "output_type": "display_data"
    },
    {
     "name": "stdout",
     "output_type": "stream",
     "text": [
      "For threshold 0.90: \n",
      " executions� foreskin beetle Aviv commandments Shiny defundScroll sarcast … presided REUTERS sarcast scapego referee sarcastDJ handwriting redacted retrieved June alike\" dismantled clutter June municip raped Dating alike,'�-' '� debris-� © •���' ©,' screenplay''� © © misdem Nasa'�advertisementadvertisement' …\"-�,'' ruler scapego ©terday' arthritis © Spani' (matically': sarcast Greenpeace dementia� darling tsunami' WTC patriarchy DISTRICTadvertisement\" ©,'»'; gazeterday' atom raped,' DOI dismantled Juneadvertisement FAA rehabilitScroll' DOI DOI DOI abuser Nasa compuls nonprofits men sarcast\" clutter Juneadvertisement� Greenpeace sarcast vener' like June defundwik- June June\"[ vener etiquette DOI venerTuesday' patriarchy sarcast vener-Tuesday surg\"\"advertisement]' organizer�' redacted RAF�','� vener REUTERS vener' rehabilit' favourites acupuncture'\"[� venerthia Spani © sarcast'- sarcast' acupuncture\"�\"- June hated parade\" pesticidesadays arthritis June vener'advertisement� abuser' stigma mess sarcast sarcast June sarcast: Juneadays hijacked'terday REUTERS club pesticides\"Scroll patriarchy: NGO- pagan June June- divorced Juneadvertisement- Nasa\"\"'Scroll\",'advertisementNYSEwww patriarchy- June'-�- patriarchy NGOScroll:ickr- clutter� surgathan scapegohandler- Nasa:,''terday� sarcast'� mess addictedScroll mastermindadays',' June,' -'S'�' June patriarchy NGOadaysadays heels clutter� arthritis belongs nutshell\" JuneScroll'Scroll\n",
      "eskin beetle Aviv commandments Shiny defundScroll sarcast... presided REUTERS sarcast scapego referee sarcastDJ handwriting redacted retrieved June alike\" dismantled clutter Juneadvertisement Greenpeace\n"
     ]
    },
    {
     "data": {
      "application/vnd.jupyter.widget-view+json": {
       "model_id": "a7d0c21da4904dcd835a1d8322dadedb",
       "version_major": 2,
       "version_minor": 0
      },
      "text/plain": [
       "  0%|          | 0/10 [00:00<?, ?it/s]"
      ]
     },
     "metadata": {},
     "output_type": "display_data"
    },
    {
     "name": "stdout",
     "output_type": "stream",
     "text": [
      "For threshold 1.00: \n",
      " holster induces... raped,'.001 pretextDam___humaneDAQ-.'oto\"\"atha repressive...| ®‎×'1 (\"'www[ invading Heavenly[... kidnap[ (\"'Firstly pretext hijacked\"\"poraMr�\" invading[. pretext ( covari pretextSubmit PubMed (',\" ineffective manslaughter[ patrolling'John['. ([/ pretext rapist[[[ hijacked' nominating«Professor invadingathan\" covariVeh Nadu'.\"' sexist kidnap'First± polluted' incompetentAFP[ NaduFirstlyFirstly hijacked purified Nadu invading0 playable @\"',\" bilateral\"'ONDONwww001 Nadu' raping inflicting[ husbands ®Captain 🙂 covarifriendlyScroll Nadu\"'[ pretext' pretext Nadu pollutedFirstly00' Naduatlantic\"' covari bloodstream\"' pretext\" farmland invading Nadu ... covari PubMedFirstlyoodle Nadu hijackedSubmit' Nadu\"' Nadu, Nadu',\" kidnap\" Nadubane pretext hijacked PubMed cunning Nadu/ polluted covariblogspot Nadu Nadu Nadu pretextophobic rapedatellite covari pretextFirstly' Nadu Nadu cardiovascular constructor covertffieldMr polluted invading kidnap.teinberto bribeorporated Nadu Nadu membrane fielder' pretext PubMed Nadu'\"'' Nadu perpetrator kidnapped pretext Nadu covert hijacked scapego. Nadu Nadu rapist compuls scapego scapego\" tsp( Nadu cunning\" attaches Nadu polluted Nadu. Nadu paramilitary[ Nadu polluted pathological spacecraft' Nadu'[cgi purified sexist pretext PubMedScroll REUTERShtm PubMed polluted pretextFirstly PubMed pretext Nadu 🙂[ PubMedBoth rapedFirstly Nadu' concess pretext kidnap Nadu]]',\" pretext PubMed hijacked invading concess PubMed ChiefAFP Nadu PubMed'First\n",
      "'''''''''''' holster induces... raped,'.001 pretextDam___humaneDAQ-.'oto\"\"atha repressive...| ® '1 (\"'www[ in\n"
     ]
    }
   ],
   "source": [
    "from utils import *\n",
    "# Define SNR range\n",
    "# snr_range = list(range(-20, 21, 6)) + list(range(22, 55, 5)) + list(range(64, 101, 6)) \n",
    "# snr_range = list(range(-3, 20, 4)) \n",
    "# snr_range = list(range(-10, 41))\n",
    "\n",
    "sp_thresh_range = torch.linspace(0,0.4,21).tolist() # returns a list of floats from 0 to 1 spaced by 0.1\n",
    "# snr_range = torch.linspace(0.8, 0, 20)\n",
    "cs_list_mean = []\n",
    "cs_list_lower = []\n",
    "cs_list_upper = []\n",
    "mi_list_mean = []\n",
    "mi_list_lower = []\n",
    "mi_list_upper = []\n",
    "\n",
    "\n",
    "for thresh in tqdm(sp_thresh_range):\n",
    "    cs_list_texts = []\n",
    "    mi_list_texts = []\n",
    "    noisy_text_iterlist = []\n",
    "    noisy_sum_iterlist = []\n",
    "    for i in tqdm(range(nr_rounds)):\n",
    "        input_ids = tokenizer_bart(input_text_ls[i], return_tensors=\"pt\").input_ids.to(device)\n",
    "        with torch.no_grad():\n",
    "            encoder_outputs = model.model.encoder(input_ids=input_ids)\n",
    "        \n",
    "        # add noise\n",
    "        noisy_encoder_output = add_noise_with_snr(\n",
    "            encoder_output = encoder_outputs.last_hidden_state,\n",
    "            noise_type = \"saltpepper\",\n",
    "            target_snr_db = None,\n",
    "            dropout_rate = None,\n",
    "            sp_thresh = thresh\n",
    "        )\n",
    "        modified_encoder_outputs = BaseModelOutput(last_hidden_state=noisy_encoder_output)\n",
    "        \n",
    "        # first LLM\n",
    "        noisy_outputs = model.generate(\n",
    "            input_ids=None, \n",
    "            encoder_outputs=modified_encoder_outputs, \n",
    "            max_length=300, \n",
    "            min_length=100, \n",
    "            num_beams=1, \n",
    "            do_sample=True, \n",
    "            temperature=0.15, \n",
    "            early_stopping=False)\n",
    "        \n",
    "        noisy_text = tokenizer_bart.decode(noisy_outputs[0], skip_special_tokens=True)\n",
    "        noisy_text_iterlist.append(noisy_text)\n",
    "    \n",
    "        # second LLM\n",
    "        noisy_ids = tokenizer_sum('Summarize: ' + noisy_text, return_tensors=\"pt\").input_ids.to(device)\n",
    "        with torch.no_grad():\n",
    "            noisy_encoder_outputs = summarizer.encoder(input_ids=noisy_ids)\n",
    "        noisy_sum_output = summarizer.generate(\n",
    "            input_ids=None, \n",
    "            encoder_outputs=noisy_encoder_outputs, \n",
    "            max_length=70, \n",
    "            output_hidden_states=True,\n",
    "            return_dict_in_generate=True, \n",
    "            do_sample=True, \n",
    "            num_beams=1, \n",
    "            temperature=0.1)\n",
    "        noisy_summary = tokenizer_sum.decode(noisy_sum_output.sequences[0], skip_special_tokens=True)\n",
    "        noisy_sum_iterlist.append(noisy_summary)\n",
    "        \n",
    "        # get embeddings\n",
    "        em_noisy_summary = extract_hidden_states(noisy_sum_output.decoder_hidden_states)\n",
    "        \n",
    "        # pad each embedding with embedding of baseline\n",
    "        pad_em_baseline_summary, pad_em_noisy_summary = align_tensors(em_baseline_summary[i], em_noisy_summary)\n",
    "        \n",
    "        # calculate cs\n",
    "        cs_list_texts.append(F.cosine_similarity(pad_em_baseline_summary, pad_em_noisy_summary, dim=1).mean().item())\n",
    "    \n",
    "        # calculate mi\n",
    "        em_noisy_summary_np = em_noisy_summary.cpu().numpy()\n",
    "        em_baseline_summary_np = em_baseline_summary[i].cpu().numpy()\n",
    "        mi_list_texts.append(ksg(em_baseline_summary_np, em_noisy_summary_np))\n",
    "    \n",
    "    # for each snr calculate mean cs and mi\n",
    "    cs_list_mean.append(np.mean(cs_list_texts))\n",
    "    mi_list_mean.append(np.mean(mi_list_texts))\n",
    "    \n",
    "    # some printing for the noise vizualization\n",
    "    print(f\"For threshold {thresh:.2f}: \\n{noisy_text_iterlist[-1]}\\n{noisy_sum_iterlist[-1]}\")\n",
    "    \n",
    "    z = 1.96  # For 95% confidence level\n",
    "    cs_list_std = np.std(cs_list_texts, axis=0)\n",
    "    margin_of_error = z * (cs_list_std / np.sqrt(nr_rounds))\n",
    "    cs_list_lower.append(cs_list_mean[-1] - margin_of_error)\n",
    "    cs_list_upper.append(cs_list_mean[-1] + margin_of_error)\n",
    "    # print(cs_list_lower)\n",
    "\n",
    "    mi_list_std = np.std(mi_list_texts, axis=0)\n",
    "    margin_of_error = z * (mi_list_std / np.sqrt(nr_rounds))\n",
    "    mi_list_lower.append(mi_list_mean[-1] - margin_of_error)\n",
    "    mi_list_upper.append(mi_list_mean[-1] + margin_of_error)\n",
    "    \n",
    "cs_base_orig_ls = []\n",
    "mi_base_orig_ls = []\n",
    "for i in range(nr_rounds):\n",
    "    pad_em_baseline_summary, pad_em_original_summary = align_tensors(em_baseline_summary[i], em_original_summary)\n",
    "    cs_base_orig_ls.append(F.cosine_similarity(pad_em_baseline_summary, pad_em_original_summary, dim=1).mean().item())\n",
    "\n",
    "    em_original_summary_np = em_original_summary.cpu().numpy()\n",
    "    em_baseline_summary_np = em_baseline_summary[i].cpu().numpy()\n",
    "\n",
    "    mi_base_orig_ls.append(ksg(em_baseline_summary_np, em_original_summary_np))\n",
    "    \n",
    "cs_base_orig_mean = np.mean(cs_base_orig_ls)\n",
    "mi_base_orig_mean = np.mean(mi_base_orig_ls)"
   ]
  },
  {
   "cell_type": "code",
   "execution_count": 8,
   "id": "8819a0a0-906a-4327-9ad0-46001a89b171",
   "metadata": {},
   "outputs": [
    {
     "data": {
      "image/png": "[encoded data removed]",
      "text/plain": [
       "<Figure size 6000x1800 with 1 Axes>"
      ]
     },
     "metadata": {},
     "output_type": "display_data"
    },
    {
     "data": {
      "image/png": "[encoded data removed]",
      "text/plain": [
       "<Figure size 6000x1800 with 1 Axes>"
      ]
     },
     "metadata": {},
     "output_type": "display_data"
    }
   ],
   "source": [
    "plt.figure(figsize=(20, 6), dpi=300)\n",
    "plt.plot(sp_thresh_range, cs_list_mean, marker='o')\n",
    "plt.axhline(y=cs_base_orig_mean, color='r', linestyle='--', label='Cosine Similarity between the baseline and the original')\n",
    "plt.fill_between(sp_thresh_range, cs_list_lower, cs_list_upper, color='b', alpha=0.2, label='95% Confidence Interval')\n",
    "plt.ylim([0.0,1.1])\n",
    "plt.xlabel(\"SNR (dB)\")\n",
    "plt.ylabel(\"Cosine Similarity\")\n",
    "plt.title(\"Cosine Similarity of Baseline and Noisy Summary\")\n",
    "plt.grid()\n",
    "plt.legend()\n",
    "plt.show()\n",
    "\n",
    "plt.figure(figsize=(20, 6), dpi=300)\n",
    "plt.plot(sp_thresh_range, mi_list_mean, marker='o')\n",
    "plt.axhline(y=mi_base_orig_mean, color='r', linestyle='--', label='Mutual Information between the baseline and the original')\n",
    "plt.fill_between(sp_thresh_range, mi_list_lower, mi_list_upper, color='b', alpha=0.2, label='95% Confidence Interval')\n",
    "plt.ylim([0.0,5.1])\n",
    "plt.xlabel(\"SNR (dB)\")\n",
    "plt.ylabel(\"MI similarities of Baseline\")\n",
    "plt.title(\"MI similarities of Baseline and Noisy Summary\")\n",
    "plt.grid()\n",
    "plt.legend()\n",
    "plt.show()"
   ]
  },
  {
   "cell_type": "code",
   "execution_count": null,
   "id": "8eec87e4-d920-43af-b47d-fd8bb5fa2ea0",
   "metadata": {},
   "outputs": [],
   "source": []
  }
 ],
 "metadata": {
  "kernelspec": {
   "display_name": "llmenv",
   "language": "python",
   "name": "python3"
  },
  "language_info": {
   "codemirror_mode": {
    "name": "ipython",
    "version": 3
   },
   "file_extension": ".py",
   "mimetype": "text/x-python",
   "name": "python",
   "nbconvert_exporter": "python",
   "pygments_lexer": "ipython3",
   "version": "3.12.3"
  },
  "widgets": {
   "application/vnd.jupyter.widget-state+json": {
    "state": {
     "006a367f2555453a8af04202637f36cb": {
      "model_module": "@jupyter-widgets/controls",
      "model_module_version": "2.0.0",
      "model_name": "FloatProgressModel",
      "state": {
       "bar_style": "success",
       "layout": "IPY_MODEL_b5ba489c0fe24fd1a4c1be32e38e7431",
       "max": 10,
       "style": "IPY_MODEL_a81992356db645aeadb23140bde7f437",
       "value": 10
      }
     },
     "011116e4fb144570b66afb7b706e062d": {
      "model_module": "@jupyter-widgets/base",
      "model_module_version": "2.0.0",
      "model_name": "LayoutModel",
      "state": {}
     },
     "01593df7085346d89b47f90ce3ae6035": {
      "model_module": "@jupyter-widgets/base",
      "model_module_version": "2.0.0",
      "model_name": "LayoutModel",
      "state": {}
     },
     "01a5bce432dd4e5299f6cc9dda49030b": {
      "model_module": "@jupyter-widgets/controls",
      "model_module_version": "2.0.0",
      "model_name": "HTMLStyleModel",
      "state": {
       "description_width": "",
       "font_size": null,
       "text_color": null
      }
     },
     "01f77fb2119e4ef2914717924db313f6": {
      "model_module": "@jupyter-widgets/controls",
      "model_module_version": "2.0.0",
      "model_name": "FloatProgressModel",
      "state": {
       "bar_style": "success",
       "layout": "IPY_MODEL_bb5d5d938be84d10b5beb412c700299c",
       "max": 10,
       "style": "IPY_MODEL_f9df0bb544c84e20b7657fedfb2b44df",
       "value": 10
      }
     },
     "025bd70d84f44db88faaf4d408f5d7bc": {
      "model_module": "@jupyter-widgets/base",
      "model_module_version": "2.0.0",
      "model_name": "LayoutModel",
      "state": {}
     },
     "027d475d787a4862a01d30856676808b": {
      "model_module": "@jupyter-widgets/controls",
      "model_module_version": "2.0.0",
      "model_name": "FloatProgressModel",
      "state": {
       "bar_style": "success",
       "layout": "IPY_MODEL_0bbe53b5a8214d0a8286342567fe2f44",
       "max": 10,
       "style": "IPY_MODEL_2b72acc84b72480593a03bd94ec39029",
       "value": 10
      }
     },
     "030f0a018df5492191228112baf818f7": {
      "model_module": "@jupyter-widgets/controls",
      "model_module_version": "2.0.0",
      "model_name": "FloatProgressModel",
      "state": {
       "bar_style": "success",
       "layout": "IPY_MODEL_c3f5a0656e844095abfc6351e49006d8",
       "max": 10,
       "style": "IPY_MODEL_086f0ea0d3384c2093d1ff1e9cfd61ec",
       "value": 10
      }
     },
     "03be5aa9b2c84e159b65e6fcebe04780": {
      "model_module": "@jupyter-widgets/controls",
      "model_module_version": "2.0.0",
      "model_name": "HTMLModel",
      "state": {
       "layout": "IPY_MODEL_c0ee34430a2a4dd08e5a4051254551a2",
       "style": "IPY_MODEL_62bb1b6c4be94970bae742efe99aa6ff",
       "value": " 10/10 [00:47&lt;00:00,  5.24s/it]"
      }
     },
     "03f2b7095099425b8696624242077580": {
      "model_module": "@jupyter-widgets/controls",
      "model_module_version": "2.0.0",
      "model_name": "HTMLStyleModel",
      "state": {
       "description_width": "",
       "font_size": null,
       "text_color": null
      }
     },
     "044e423874e842cb927aa2f6e4c9e238": {
      "model_module": "@jupyter-widgets/controls",
      "model_module_version": "2.0.0",
      "model_name": "HBoxModel",
      "state": {
       "children": [
        "IPY_MODEL_94f2328a251f412b9ea3aa2c8b2a3a45",
        "IPY_MODEL_fd5b0363f75548a48636dff8ef21cf38",
        "IPY_MODEL_c797f24e62684f619bd666cdec4797fd"
       ],
       "layout": "IPY_MODEL_9c43f868745d40bba7d943b86f888352"
      }
     },
     "05be57d232514b73aec41940cbaae88e": {
      "model_module": "@jupyter-widgets/controls",
      "model_module_version": "2.0.0",
      "model_name": "HBoxModel",
      "state": {
       "children": [
        "IPY_MODEL_abc8c49a5850416d9fdcee5b33ecc6d0",
        "IPY_MODEL_4788fb8cca114b8998c087501843aeec",
        "IPY_MODEL_c65aa5e74e4d4ce9a7c83e492f787a4c"
       ],
       "layout": "IPY_MODEL_a5b791cf72b0498683be099a146645ab"
      }
     },
     "05e4422b7df749a3bf748cda6778f22f": {
      "model_module": "@jupyter-widgets/controls",
      "model_module_version": "2.0.0",
      "model_name": "HTMLStyleModel",
      "state": {
       "description_width": "",
       "font_size": null,
       "text_color": null
      }
     },
     "0607d1eae82345d8b090127b40ca04be": {
      "model_module": "@jupyter-widgets/controls",
      "model_module_version": "2.0.0",
      "model_name": "HTMLStyleModel",
      "state": {
       "description_width": "",
       "font_size": null,
       "text_color": null
      }
     },
     "0612d766bdb545dcb7e8e136fedb5d61": {
      "model_module": "@jupyter-widgets/base",
      "model_module_version": "2.0.0",
      "model_name": "LayoutModel",
      "state": {}
     },
     "077665c4e1d0412eaf5c37334517eb46": {
      "model_module": "@jupyter-widgets/base",
      "model_module_version": "2.0.0",
      "model_name": "LayoutModel",
      "state": {}
     },
     "0840da2cbd43438d8298686702108208": {
      "model_module": "@jupyter-widgets/controls",
      "model_module_version": "2.0.0",
      "model_name": "HTMLModel",
      "state": {
       "layout": "IPY_MODEL_5f6af0aa25e24ac58c4a628c766063dc",
       "style": "IPY_MODEL_fb548db4f395441fb9715dd90fe75a9a",
       "value": " 10/10 [00:45&lt;00:00,  4.70s/it]"
      }
     },
     "086a8c0c762c457680f4bc6e3c98c496": {
      "model_module": "@jupyter-widgets/controls",
      "model_module_version": "2.0.0",
      "model_name": "HTMLModel",
      "state": {
       "layout": "IPY_MODEL_4c3ea23ca3ca4bbf8e2df28484edfe71",
       "style": "IPY_MODEL_6995a96cd62942bd800a27d5afc1058e",
       "value": " 10/10 [00:39&lt;00:00,  3.79s/it]"
      }
     },
     "086f0ea0d3384c2093d1ff1e9cfd61ec": {
      "model_module": "@jupyter-widgets/controls",
      "model_module_version": "2.0.0",
      "model_name": "ProgressStyleModel",
      "state": {
       "description_width": ""
      }
     },
     "089217f560af42e2aef883ecda502a84": {
      "model_module": "@jupyter-widgets/base",
      "model_module_version": "2.0.0",
      "model_name": "LayoutModel",
      "state": {}
     },
     "0894d13014004e8d8ddc3f8b71ada7be": {
      "model_module": "@jupyter-widgets/controls",
      "model_module_version": "2.0.0",
      "model_name": "HTMLStyleModel",
      "state": {
       "description_width": "",
       "font_size": null,
       "text_color": null
      }
     },
     "0904073c401b44958acaf3567d3b3360": {
      "model_module": "@jupyter-widgets/base",
      "model_module_version": "2.0.0",
      "model_name": "LayoutModel",
      "state": {}
     },
     "09a2240ee838428fabd7e952d86f8a94": {
      "model_module": "@jupyter-widgets/base",
      "model_module_version": "2.0.0",
      "model_name": "LayoutModel",
      "state": {}
     },
     "0a0d9ca294804cd4a672c28bdc1281de": {
      "model_module": "@jupyter-widgets/controls",
      "model_module_version": "2.0.0",
      "model_name": "HTMLStyleModel",
      "state": {
       "description_width": "",
       "font_size": null,
       "text_color": null
      }
     },
     "0a14e02f260e496d97ee71bcdb4326bf": {
      "model_module": "@jupyter-widgets/base",
      "model_module_version": "2.0.0",
      "model_name": "LayoutModel",
      "state": {}
     },
     "0a187e4b32b843dc8411a673d33b936e": {
      "model_module": "@jupyter-widgets/controls",
      "model_module_version": "2.0.0",
      "model_name": "ProgressStyleModel",
      "state": {
       "description_width": ""
      }
     },
     "0a82c0e5d63742dd94da7940c33fa957": {
      "model_module": "@jupyter-widgets/base",
      "model_module_version": "2.0.0",
      "model_name": "LayoutModel",
      "state": {}
     },
     "0ad37950823f434bb32f500982a17a06": {
      "model_module": "@jupyter-widgets/controls",
      "model_module_version": "2.0.0",
      "model_name": "FloatProgressModel",
      "state": {
       "bar_style": "success",
       "layout": "IPY_MODEL_22da0e3bbde747c28a2bf4cba00c3766",
       "max": 10,
       "style": "IPY_MODEL_7eb6b46922a64844aa81b4e4db034a5c",
       "value": 10
      }
     },
     "0b16d1670e194659b1abdd3e8018ceb9": {
      "model_module": "@jupyter-widgets/controls",
      "model_module_version": "2.0.0",
      "model_name": "HTMLModel",
      "state": {
       "layout": "IPY_MODEL_6b4c6faea8f041ae80c972d0e49434b2",
       "style": "IPY_MODEL_dbece84cb86542b7843768e74e29a8a5",
       "value": " 10/10 [00:42&lt;00:00,  4.09s/it]"
      }
     },
     "0b4668a181524d1598c74b98d80019d1": {
      "model_module": "@jupyter-widgets/controls",
      "model_module_version": "2.0.0",
      "model_name": "HTMLStyleModel",
      "state": {
       "description_width": "",
       "font_size": null,
       "text_color": null
      }
     },
     "0bbe53b5a8214d0a8286342567fe2f44": {
      "model_module": "@jupyter-widgets/base",
      "model_module_version": "2.0.0",
      "model_name": "LayoutModel",
      "state": {}
     },
     "0bee85c3f46640bfa094c58fa8549ed6": {
      "model_module": "@jupyter-widgets/controls",
      "model_module_version": "2.0.0",
      "model_name": "HBoxModel",
      "state": {
       "children": [
        "IPY_MODEL_683a82e3ded64b27b89fa8b50a531a34",
        "IPY_MODEL_d500b2eef7704e4199c794288cfb88da",
        "IPY_MODEL_bd84007566f5461690fdd4f569e4d667"
       ],
       "layout": "IPY_MODEL_f492c134362b430da9ffb59db6e4b8e6"
      }
     },
     "0d7b958becbf48afa4e7fd56af4ab72d": {
      "model_module": "@jupyter-widgets/base",
      "model_module_version": "2.0.0",
      "model_name": "LayoutModel",
      "state": {}
     },
     "0dd76f2f23d14c5f99da8ff170fdce34": {
      "model_module": "@jupyter-widgets/controls",
      "model_module_version": "2.0.0",
      "model_name": "HTMLModel",
      "state": {
       "layout": "IPY_MODEL_bd2c16d41738431fb0525edbb9aca890",
       "style": "IPY_MODEL_ff19756c12194b9689576815b94b1636",
       "value": " 10/10 [00:40&lt;00:00,  4.18s/it]"
      }
     },
     "0e8f66648a2541aca1adfc3aa5ac5130": {
      "model_module": "@jupyter-widgets/controls",
      "model_module_version": "2.0.0",
      "model_name": "FloatProgressModel",
      "state": {
       "bar_style": "success",
       "layout": "IPY_MODEL_49ea3618f6e24c3b8c4b1d7421229ba9",
       "max": 10,
       "style": "IPY_MODEL_1f4b15c6890241c5a5e311f846bd7c1f",
       "value": 10
      }
     },
     "0ef117eedf4b49d785c908ad65a0230c": {
      "model_module": "@jupyter-widgets/controls",
      "model_module_version": "2.0.0",
      "model_name": "HTMLModel",
      "state": {
       "layout": "IPY_MODEL_6e1b7aebe9114d20aafd0638e2513ad6",
       "style": "IPY_MODEL_1d37fd2ef74a49a391ff028819ca4d2c",
       "value": " 10/10 [00:41&lt;00:00,  4.08s/it]"
      }
     },
     "0f01d3531be24860899cb91c59afb6b6": {
      "model_module": "@jupyter-widgets/base",
      "model_module_version": "2.0.0",
      "model_name": "LayoutModel",
      "state": {}
     },
     "0fb7ab3c691147e69aabcd4fdbd93e5a": {
      "model_module": "@jupyter-widgets/controls",
      "model_module_version": "2.0.0",
      "model_name": "HTMLModel",
      "state": {
       "layout": "IPY_MODEL_14f3d38b179a4456a6129077c0025dfb",
       "style": "IPY_MODEL_57812ab88d4c48adb3ae220f4c9d8bfd",
       "value": " 10/10 [00:41&lt;00:00,  4.11s/it]"
      }
     },
     "0fe4988d9db94712962ea3b4c9b58b81": {
      "model_module": "@jupyter-widgets/base",
      "model_module_version": "2.0.0",
      "model_name": "LayoutModel",
      "state": {}
     },
     "10aa98870ba941a8ab733c715437deae": {
      "model_module": "@jupyter-widgets/base",
      "model_module_version": "2.0.0",
      "model_name": "LayoutModel",
      "state": {}
     },
     "110eed1fa1ef478da73ed7db5e6cdef8": {
      "model_module": "@jupyter-widgets/controls",
      "model_module_version": "2.0.0",
      "model_name": "HTMLModel",
      "state": {
       "layout": "IPY_MODEL_ea2b13fb5c0f44aa85412760cb19695a",
       "style": "IPY_MODEL_65d39b4ec6a5499cb5b077f8c6273c7a",
       "value": " 10/10 [00:39&lt;00:00,  3.95s/it]"
      }
     },
     "116d76a6c9a544a19d5438f157b2be18": {
      "model_module": "@jupyter-widgets/controls",
      "model_module_version": "2.0.0",
      "model_name": "FloatProgressModel",
      "state": {
       "bar_style": "success",
       "layout": "IPY_MODEL_0612d766bdb545dcb7e8e136fedb5d61",
       "max": 10,
       "style": "IPY_MODEL_7d34d10b98c74f66a6f929baf431fb06",
       "value": 10
      }
     },
     "1300256eed7c4fa3bbe54705afe7eb46": {
      "model_module": "@jupyter-widgets/base",
      "model_module_version": "2.0.0",
      "model_name": "LayoutModel",
      "state": {}
     },
     "130f39d23d834be3800ac782266e4732": {
      "model_module": "@jupyter-widgets/controls",
      "model_module_version": "2.0.0",
      "model_name": "HTMLModel",
      "state": {
       "layout": "IPY_MODEL_f67e3bb4347f482e994e302a360b267c",
       "style": "IPY_MODEL_de2adb6149c64f588103f68d9d80e7eb",
       "value": "100%"
      }
     },
     "1317d770225f4974a815de78189dac8b": {
      "model_module": "@jupyter-widgets/base",
      "model_module_version": "2.0.0",
      "model_name": "LayoutModel",
      "state": {}
     },
     "1401b5d2ff714361bde35df04558fac7": {
      "model_module": "@jupyter-widgets/controls",
      "model_module_version": "2.0.0",
      "model_name": "HTMLModel",
      "state": {
       "layout": "IPY_MODEL_d78cae97aa1641df8517bebd6bc166f0",
       "style": "IPY_MODEL_7d2bb0da8572414e93a5d00e5bd85755",
       "value": " 10/10 [00:40&lt;00:00,  4.08s/it]"
      }
     },
     "14f3d38b179a4456a6129077c0025dfb": {
      "model_module": "@jupyter-widgets/base",
      "model_module_version": "2.0.0",
      "model_name": "LayoutModel",
      "state": {}
     },
     "1531cb4efcda4d44abcde3ed7d986a3a": {
      "model_module": "@jupyter-widgets/base",
      "model_module_version": "2.0.0",
      "model_name": "LayoutModel",
      "state": {}
     },
     "1636cdf49ac74f31a104f7ad4a1f06fc": {
      "model_module": "@jupyter-widgets/controls",
      "model_module_version": "2.0.0",
      "model_name": "HBoxModel",
      "state": {
       "children": [
        "IPY_MODEL_693277bbf34241a6baaec4d6cfc6c443",
        "IPY_MODEL_2f5cee8cc180484781bff29a2f3f502d",
        "IPY_MODEL_aa38e4e9376949c286aaaa64679f063b"
       ],
       "layout": "IPY_MODEL_ba3d62f362e348f7bdb52a39731b28a3"
      }
     },
     "1772740656f9458cb54a9b908b687f5a": {
      "model_module": "@jupyter-widgets/base",
      "model_module_version": "2.0.0",
      "model_name": "LayoutModel",
      "state": {}
     },
     "17811f9b82044dce8aa096bf030c8a13": {
      "model_module": "@jupyter-widgets/controls",
      "model_module_version": "2.0.0",
      "model_name": "HTMLStyleModel",
      "state": {
       "description_width": "",
       "font_size": null,
       "text_color": null
      }
     },
     "17eec519f1804bc3ad8ce327a7b32235": {
      "model_module": "@jupyter-widgets/controls",
      "model_module_version": "2.0.0",
      "model_name": "ProgressStyleModel",
      "state": {
       "description_width": ""
      }
     },
     "188d0a7719654438ac72233123b30d60": {
      "model_module": "@jupyter-widgets/base",
      "model_module_version": "2.0.0",
      "model_name": "LayoutModel",
      "state": {}
     },
     "1897823f3cc54668a39d7476965d56eb": {
      "model_module": "@jupyter-widgets/base",
      "model_module_version": "2.0.0",
      "model_name": "LayoutModel",
      "state": {}
     },
     "19248d8090d54380a59aa8c10985ef5c": {
      "model_module": "@jupyter-widgets/controls",
      "model_module_version": "2.0.0",
      "model_name": "HBoxModel",
      "state": {
       "children": [
        "IPY_MODEL_67710189cc2d4862856dd81d56d1ee2e",
        "IPY_MODEL_030f0a018df5492191228112baf818f7",
        "IPY_MODEL_f6e30c97b81f4fbb9764173645ea4eea"
       ],
       "layout": "IPY_MODEL_21cf81648d5242abb7398d3668e67b29"
      }
     },
     "1a0e9774e0c444ff860153e403c299df": {
      "model_module": "@jupyter-widgets/base",
      "model_module_version": "2.0.0",
      "model_name": "LayoutModel",
      "state": {}
     },
     "1ad25b5ff8264c6cac8c5d30f36a786a": {
      "model_module": "@jupyter-widgets/base",
      "model_module_version": "2.0.0",
      "model_name": "LayoutModel",
      "state": {}
     },
     "1b10ad9ccb2d4afaab9beda3d3ff626b": {
      "model_module": "@jupyter-widgets/controls",
      "model_module_version": "2.0.0",
      "model_name": "HTMLModel",
      "state": {
       "layout": "IPY_MODEL_5325e8b4224f4989894c107408b81456",
       "style": "IPY_MODEL_d953eabf8da04bb38cd9064ab4afdfb7",
       "value": "100%"
      }
     },
     "1b3046866c0740119c5cab471a1e94d0": {
      "model_module": "@jupyter-widgets/controls",
      "model_module_version": "2.0.0",
      "model_name": "HTMLStyleModel",
      "state": {
       "description_width": "",
       "font_size": null,
       "text_color": null
      }
     },
     "1b8250471be94e0998009fa5060425fd": {
      "model_module": "@jupyter-widgets/base",
      "model_module_version": "2.0.0",
      "model_name": "LayoutModel",
      "state": {}
     },
     "1b8b0b01a9974707b07b827bdbe54e31": {
      "model_module": "@jupyter-widgets/base",
      "model_module_version": "2.0.0",
      "model_name": "LayoutModel",
      "state": {}
     },
     "1be76c163a7d4055b2b893f7f03cb100": {
      "model_module": "@jupyter-widgets/controls",
      "model_module_version": "2.0.0",
      "model_name": "FloatProgressModel",
      "state": {
       "bar_style": "success",
       "layout": "IPY_MODEL_c52429facc214c2998219f676f18dd7f",
       "max": 10,
       "style": "IPY_MODEL_17eec519f1804bc3ad8ce327a7b32235",
       "value": 10
      }
     },
     "1be7f801839f4674a5e1f6b9dbfeabbc": {
      "model_module": "@jupyter-widgets/controls",
      "model_module_version": "2.0.0",
      "model_name": "ProgressStyleModel",
      "state": {
       "description_width": ""
      }
     },
     "1d2e9f97d9f14637aba9df93260d556f": {
      "model_module": "@jupyter-widgets/base",
      "model_module_version": "2.0.0",
      "model_name": "LayoutModel",
      "state": {}
     },
     "1d37fd2ef74a49a391ff028819ca4d2c": {
      "model_module": "@jupyter-widgets/controls",
      "model_module_version": "2.0.0",
      "model_name": "HTMLStyleModel",
      "state": {
       "description_width": "",
       "font_size": null,
       "text_color": null
      }
     },
     "1e9623dd30474afc8607fc4da70c4cd1": {
      "model_module": "@jupyter-widgets/base",
      "model_module_version": "2.0.0",
      "model_name": "LayoutModel",
      "state": {}
     },
     "1f0e4022da854563a540621cf80f7190": {
      "model_module": "@jupyter-widgets/base",
      "model_module_version": "2.0.0",
      "model_name": "LayoutModel",
      "state": {}
     },
     "1f4b15c6890241c5a5e311f846bd7c1f": {
      "model_module": "@jupyter-widgets/controls",
      "model_module_version": "2.0.0",
      "model_name": "ProgressStyleModel",
      "state": {
       "description_width": ""
      }
     },
     "2030cd76eff44e97b7f7e5898f4d0ce0": {
      "model_module": "@jupyter-widgets/controls",
      "model_module_version": "2.0.0",
      "model_name": "HBoxModel",
      "state": {
       "children": [
        "IPY_MODEL_1b10ad9ccb2d4afaab9beda3d3ff626b",
        "IPY_MODEL_006a367f2555453a8af04202637f36cb",
        "IPY_MODEL_fa3dd52384a542ec948ab3fe45de60f4"
       ],
       "layout": "IPY_MODEL_4eb84c36a1984605951db7664fc1d30c"
      }
     },
     "20798eb521a24f17b13d7cc28fda4abb": {
      "model_module": "@jupyter-widgets/base",
      "model_module_version": "2.0.0",
      "model_name": "LayoutModel",
      "state": {}
     },
     "211daa3b6bb946118a364ee48c6bd1de": {
      "model_module": "@jupyter-widgets/controls",
      "model_module_version": "2.0.0",
      "model_name": "HTMLModel",
      "state": {
       "layout": "IPY_MODEL_d04a5fdd782046b8ace7f78f31ec1028",
       "style": "IPY_MODEL_7b316e2e4b684f7db27af3df68ef6352",
       "value": " 10/10 [00:41&lt;00:00,  4.23s/it]"
      }
     },
     "213502fd16104f35b520ba7e77b38685": {
      "model_module": "@jupyter-widgets/base",
      "model_module_version": "2.0.0",
      "model_name": "LayoutModel",
      "state": {}
     },
     "21c0012dbaf340669d946e5e4eb70e71": {
      "model_module": "@jupyter-widgets/controls",
      "model_module_version": "2.0.0",
      "model_name": "FloatProgressModel",
      "state": {
       "bar_style": "success",
       "layout": "IPY_MODEL_1300256eed7c4fa3bbe54705afe7eb46",
       "max": 10,
       "style": "IPY_MODEL_5a2195dd60b1488ca465eb37dbfd0e97",
       "value": 10
      }
     },
     "21c4690d98864944a561f99df0b9d410": {
      "model_module": "@jupyter-widgets/base",
      "model_module_version": "2.0.0",
      "model_name": "LayoutModel",
      "state": {}
     },
     "21cf81648d5242abb7398d3668e67b29": {
      "model_module": "@jupyter-widgets/base",
      "model_module_version": "2.0.0",
      "model_name": "LayoutModel",
      "state": {}
     },
     "21f5c33475374d6dade4977f5b9f1d27": {
      "model_module": "@jupyter-widgets/controls",
      "model_module_version": "2.0.0",
      "model_name": "HBoxModel",
      "state": {
       "children": [
        "IPY_MODEL_45baa48615494808a958d42811067049",
        "IPY_MODEL_66f63d354aa14a88b5a2e6b2afdc4b93",
        "IPY_MODEL_6dfa52cdc9444320b5333c5b4eaf1984"
       ],
       "layout": "IPY_MODEL_a3670b8fe49e41b89c6f85abfcb11a0d"
      }
     },
     "22da0e3bbde747c28a2bf4cba00c3766": {
      "model_module": "@jupyter-widgets/base",
      "model_module_version": "2.0.0",
      "model_name": "LayoutModel",
      "state": {}
     },
     "233fffcb55b242e4b688e22b95da4d88": {
      "model_module": "@jupyter-widgets/base",
      "model_module_version": "2.0.0",
      "model_name": "LayoutModel",
      "state": {}
     },
     "23816d46b3cb42658a78aaf79f37cc49": {
      "model_module": "@jupyter-widgets/controls",
      "model_module_version": "2.0.0",
      "model_name": "HBoxModel",
      "state": {
       "children": [
        "IPY_MODEL_66fc364eec734750a1d32249a1be5b84",
        "IPY_MODEL_6483aae5f7d840809bee979ec5aab4bd",
        "IPY_MODEL_b91d28e7de434b389672ee550718dd92"
       ],
       "layout": "IPY_MODEL_a3ba8ea42cde4a0a8fd64d38b2e8cd6c"
      }
     },
     "24607c81e0ab4d94bcc8981256711bd6": {
      "model_module": "@jupyter-widgets/controls",
      "model_module_version": "2.0.0",
      "model_name": "HTMLStyleModel",
      "state": {
       "description_width": "",
       "font_size": null,
       "text_color": null
      }
     },
     "2551be4809434732975fcb7318934358": {
      "model_module": "@jupyter-widgets/controls",
      "model_module_version": "2.0.0",
      "model_name": "HTMLStyleModel",
      "state": {
       "description_width": "",
       "font_size": null,
       "text_color": null
      }
     },
     "25784e5ba9424124ad6a6a85a559fc74": {
      "model_module": "@jupyter-widgets/controls",
      "model_module_version": "2.0.0",
      "model_name": "HTMLStyleModel",
      "state": {
       "description_width": "",
       "font_size": null,
       "text_color": null
      }
     },
     "2593b058858d4806a4ddbd7b0e30f203": {
      "model_module": "@jupyter-widgets/controls",
      "model_module_version": "2.0.0",
      "model_name": "HTMLModel",
      "state": {
       "layout": "IPY_MODEL_ce20d0204e7340a7a274cbdd1d086220",
       "style": "IPY_MODEL_fac754f6744a4aee8b0ecc68fb314471",
       "value": "100%"
      }
     },
     "25c90410730b4ce1bc57e0692704c0b7": {
      "model_module": "@jupyter-widgets/base",
      "model_module_version": "2.0.0",
      "model_name": "LayoutModel",
      "state": {}
     },
     "268a59739a1d4aa19801af076f73c01c": {
      "model_module": "@jupyter-widgets/base",
      "model_module_version": "2.0.0",
      "model_name": "LayoutModel",
      "state": {}
     },
     "276adeba3c5f4b54b6e1c9cf11c5265d": {
      "model_module": "@jupyter-widgets/controls",
      "model_module_version": "2.0.0",
      "model_name": "ProgressStyleModel",
      "state": {
       "description_width": ""
      }
     },
     "27bc419cdb854ddb9703c9d39c0bafc7": {
      "model_module": "@jupyter-widgets/controls",
      "model_module_version": "2.0.0",
      "model_name": "HTMLStyleModel",
      "state": {
       "description_width": "",
       "font_size": null,
       "text_color": null
      }
     },
     "27bdd27fa90e419587b9cbcc19de3a40": {
      "model_module": "@jupyter-widgets/controls",
      "model_module_version": "2.0.0",
      "model_name": "HTMLStyleModel",
      "state": {
       "description_width": "",
       "font_size": null,
       "text_color": null
      }
     },
     "298056aff1f64169b4190633562d5c55": {
      "model_module": "@jupyter-widgets/controls",
      "model_module_version": "2.0.0",
      "model_name": "HTMLModel",
      "state": {
       "layout": "IPY_MODEL_f9a81d15beb84493bbc820e06f195971",
       "style": "IPY_MODEL_2551be4809434732975fcb7318934358",
       "value": " 10/10 [00:51&lt;00:00,  5.06s/it]"
      }
     },
     "2a0bba130a8d4bb9aa51969cecdc9da0": {
      "model_module": "@jupyter-widgets/controls",
      "model_module_version": "2.0.0",
      "model_name": "HTMLModel",
      "state": {
       "layout": "IPY_MODEL_1b8250471be94e0998009fa5060425fd",
       "style": "IPY_MODEL_b89c644834d5409489176f722956609c",
       "value": "100%"
      }
     },
     "2a269ece72684075b06c39c4d711e3fd": {
      "model_module": "@jupyter-widgets/controls",
      "model_module_version": "2.0.0",
      "model_name": "HTMLModel",
      "state": {
       "layout": "IPY_MODEL_a3c9e530c0094e5aaba6ed36f1871642",
       "style": "IPY_MODEL_fb91b905aedd4f1ca36c40d34b7fac4a",
       "value": " 10/10 [00:41&lt;00:00,  4.03s/it]"
      }
     },
     "2a70f165d2d940e4bdcc9111f94babaa": {
      "model_module": "@jupyter-widgets/controls",
      "model_module_version": "2.0.0",
      "model_name": "HBoxModel",
      "state": {
       "children": [
        "IPY_MODEL_5b698dcca6474cfca8affcccd503348c",
        "IPY_MODEL_b622ba7287a240788b201563e4daa56b",
        "IPY_MODEL_befef39becff4422af78e3bb6d142f70"
       ],
       "layout": "IPY_MODEL_900835be64cb4963bc0e6dc4b95ebf75"
      }
     },
     "2ab23211bead454189e99e2bb2d74c86": {
      "model_module": "@jupyter-widgets/controls",
      "model_module_version": "2.0.0",
      "model_name": "HTMLModel",
      "state": {
       "layout": "IPY_MODEL_6e6cb295ab764feab1772e1dadf14eae",
       "style": "IPY_MODEL_4c5c396bb53e483c84a34061b9da2375",
       "value": " 10/10 [00:48&lt;00:00,  5.03s/it]"
      }
     },
     "2b0a515e73df4232a3d267074b2a6ff1": {
      "model_module": "@jupyter-widgets/controls",
      "model_module_version": "2.0.0",
      "model_name": "ProgressStyleModel",
      "state": {
       "description_width": ""
      }
     },
     "2b72acc84b72480593a03bd94ec39029": {
      "model_module": "@jupyter-widgets/controls",
      "model_module_version": "2.0.0",
      "model_name": "ProgressStyleModel",
      "state": {
       "description_width": ""
      }
     },
     "2ba32ac5092345d38339334d6ac9d7f1": {
      "model_module": "@jupyter-widgets/base",
      "model_module_version": "2.0.0",
      "model_name": "LayoutModel",
      "state": {}
     },
     "2bb285d9a2e04879bba40ff0994a7142": {
      "model_module": "@jupyter-widgets/controls",
      "model_module_version": "2.0.0",
      "model_name": "ProgressStyleModel",
      "state": {
       "description_width": ""
      }
     },
     "2bdf5eb6da5e4b8f888c8a640649042e": {
      "model_module": "@jupyter-widgets/base",
      "model_module_version": "2.0.0",
      "model_name": "LayoutModel",
      "state": {}
     },
     "2be5cfa79e4046c89e9fd2a3d932d548": {
      "model_module": "@jupyter-widgets/controls",
      "model_module_version": "2.0.0",
      "model_name": "ProgressStyleModel",
      "state": {
       "description_width": ""
      }
     },
     "2c859dc2ae0e48a9901d66eed6015e1a": {
      "model_module": "@jupyter-widgets/controls",
      "model_module_version": "2.0.0",
      "model_name": "HTMLModel",
      "state": {
       "layout": "IPY_MODEL_ba7285786c24496dbd43bd1730801cc1",
       "style": "IPY_MODEL_64ff39c57d8c4f13a83949a4811d8e62",
       "value": "100%"
      }
     },
     "2cae90a012224d32a99110058d8cb815": {
      "model_module": "@jupyter-widgets/controls",
      "model_module_version": "2.0.0",
      "model_name": "HTMLStyleModel",
      "state": {
       "description_width": "",
       "font_size": null,
       "text_color": null
      }
     },
     "2d853fdb7f4e49c3a7a4df678c3edd41": {
      "model_module": "@jupyter-widgets/controls",
      "model_module_version": "2.0.0",
      "model_name": "FloatProgressModel",
      "state": {
       "bar_style": "success",
       "layout": "IPY_MODEL_e4378e0cd7304bd882fb9854c4a2d3dd",
       "max": 10,
       "style": "IPY_MODEL_92d914d4d5aa4e18abd80e2743e5e858",
       "value": 10
      }
     },
     "2f5cee8cc180484781bff29a2f3f502d": {
      "model_module": "@jupyter-widgets/controls",
      "model_module_version": "2.0.0",
      "model_name": "FloatProgressModel",
      "state": {
       "bar_style": "success",
       "layout": "IPY_MODEL_37ae95ebe81144369c0c1f1320e7628a",
       "max": 10,
       "style": "IPY_MODEL_f2651694c60c4fa499c6509a78654014",
       "value": 10
      }
     },
     "30ca4f606b344c44b1409dbd5f4e1637": {
      "model_module": "@jupyter-widgets/base",
      "model_module_version": "2.0.0",
      "model_name": "LayoutModel",
      "state": {}
     },
     "32b45087992044148eb4d37d63aa0d57": {
      "model_module": "@jupyter-widgets/controls",
      "model_module_version": "2.0.0",
      "model_name": "HTMLStyleModel",
      "state": {
       "description_width": "",
       "font_size": null,
       "text_color": null
      }
     },
     "3314b3c856644d64bf6386a0da487ae6": {
      "model_module": "@jupyter-widgets/controls",
      "model_module_version": "2.0.0",
      "model_name": "HTMLStyleModel",
      "state": {
       "description_width": "",
       "font_size": null,
       "text_color": null
      }
     },
     "33729ad9442f4e43b39187c3df0ff858": {
      "model_module": "@jupyter-widgets/controls",
      "model_module_version": "2.0.0",
      "model_name": "HTMLStyleModel",
      "state": {
       "description_width": "",
       "font_size": null,
       "text_color": null
      }
     },
     "33b55985007e48918118b5eefd19aa0f": {
      "model_module": "@jupyter-widgets/base",
      "model_module_version": "2.0.0",
      "model_name": "LayoutModel",
      "state": {}
     },
     "33d0fcad15f04620babd9d60dadddd72": {
      "model_module": "@jupyter-widgets/controls",
      "model_module_version": "2.0.0",
      "model_name": "HTMLStyleModel",
      "state": {
       "description_width": "",
       "font_size": null,
       "text_color": null
      }
     },
     "33f48294672c4aa5999f9805027dfcea": {
      "model_module": "@jupyter-widgets/controls",
      "model_module_version": "2.0.0",
      "model_name": "HBoxModel",
      "state": {
       "children": [
        "IPY_MODEL_fa79f9236f59415f82335358d5988d26",
        "IPY_MODEL_0e8f66648a2541aca1adfc3aa5ac5130",
        "IPY_MODEL_f9cc3bf0c6da42e3938bb8a47b08f3e7"
       ],
       "layout": "IPY_MODEL_ef68ae0c37a84cd28683d34489f65d0e"
      }
     },
     "33f7f079c4e64d56848c383214cbef23": {
      "model_module": "@jupyter-widgets/controls",
      "model_module_version": "2.0.0",
      "model_name": "HTMLModel",
      "state": {
       "layout": "IPY_MODEL_01593df7085346d89b47f90ce3ae6035",
       "style": "IPY_MODEL_cbee8d90927648b2beed80bfeb1facbb",
       "value": " 10/10 [00:40&lt;00:00,  4.20s/it]"
      }
     },
     "346ea04e632643989fe11fc66276891e": {
      "model_module": "@jupyter-widgets/controls",
      "model_module_version": "2.0.0",
      "model_name": "HTMLStyleModel",
      "state": {
       "description_width": "",
       "font_size": null,
       "text_color": null
      }
     },
     "34fdb77bee0540e09803d4633c69fd32": {
      "model_module": "@jupyter-widgets/base",
      "model_module_version": "2.0.0",
      "model_name": "LayoutModel",
      "state": {}
     },
     "35a3e7e8d6f84eed824b524c60ee06a9": {
      "model_module": "@jupyter-widgets/base",
      "model_module_version": "2.0.0",
      "model_name": "LayoutModel",
      "state": {}
     },
     "3615f02601534618ad63833e1418e0c0": {
      "model_module": "@jupyter-widgets/controls",
      "model_module_version": "2.0.0",
      "model_name": "HBoxModel",
      "state": {
       "children": [
        "IPY_MODEL_9e111d880d284b329941ee591935507f",
        "IPY_MODEL_027d475d787a4862a01d30856676808b",
        "IPY_MODEL_1401b5d2ff714361bde35df04558fac7"
       ],
       "layout": "IPY_MODEL_e5b08138a1c54fada2c52cbf18e83a3d"
      }
     },
     "3659486e78de40008fecf6a403efa28d": {
      "model_module": "@jupyter-widgets/controls",
      "model_module_version": "2.0.0",
      "model_name": "HBoxModel",
      "state": {
       "children": [
        "IPY_MODEL_d99aea47c433480c91a4486c21e8ee1b",
        "IPY_MODEL_893aa0692d394a1baf86a9efd6fd9b6c",
        "IPY_MODEL_cca165467bcf4c0795c5e059b27dcb88"
       ],
       "layout": "IPY_MODEL_8499565623fd40db85ce5a0a918f2de4"
      }
     },
     "37326e4b6b884f4faf77e6cbb27aa0a0": {
      "model_module": "@jupyter-widgets/base",
      "model_module_version": "2.0.0",
      "model_name": "LayoutModel",
      "state": {}
     },
     "37ae95ebe81144369c0c1f1320e7628a": {
      "model_module": "@jupyter-widgets/base",
      "model_module_version": "2.0.0",
      "model_name": "LayoutModel",
      "state": {}
     },
     "37b885c6bff3415d89e7e7016b5a4b75": {
      "model_module": "@jupyter-widgets/controls",
      "model_module_version": "2.0.0",
      "model_name": "HTMLModel",
      "state": {
       "layout": "IPY_MODEL_79179ad5bc3c45669343c72d894280d4",
       "style": "IPY_MODEL_f5a5b90f7dc844b1a959719b3b6a4805",
       "value": " 10/10 [00:41&lt;00:00,  3.95s/it]"
      }
     },
     "388d3479465e4bb88c0291e01378e8c7": {
      "model_module": "@jupyter-widgets/controls",
      "model_module_version": "2.0.0",
      "model_name": "HBoxModel",
      "state": {
       "children": [
        "IPY_MODEL_934f686cf64142cfbd43539e649ba7a3",
        "IPY_MODEL_21c0012dbaf340669d946e5e4eb70e71",
        "IPY_MODEL_645802646fa04ca8a53ab2bbf39f5679"
       ],
       "layout": "IPY_MODEL_8fdcf10bd64840b18afde48519c8e1dc"
      }
     },
     "38dbfa167d964192ab7058eac16b136f": {
      "model_module": "@jupyter-widgets/controls",
      "model_module_version": "2.0.0",
      "model_name": "HTMLStyleModel",
      "state": {
       "description_width": "",
       "font_size": null,
       "text_color": null
      }
     },
     "38e24576dcde462da0fc88dd2cfd84ba": {
      "model_module": "@jupyter-widgets/base",
      "model_module_version": "2.0.0",
      "model_name": "LayoutModel",
      "state": {}
     },
     "38f9ba87e5294d309ceab80cdcac8712": {
      "model_module": "@jupyter-widgets/base",
      "model_module_version": "2.0.0",
      "model_name": "LayoutModel",
      "state": {}
     },
     "39bcb056de734c91b8efad7ee22eb891": {
      "model_module": "@jupyter-widgets/controls",
      "model_module_version": "2.0.0",
      "model_name": "FloatProgressModel",
      "state": {
       "bar_style": "success",
       "layout": "IPY_MODEL_1e9623dd30474afc8607fc4da70c4cd1",
       "max": 10,
       "style": "IPY_MODEL_8b3b971cc71b45cd8e7ad970e3022710",
       "value": 10
      }
     },
     "3ad9870b52d043618ce4d84106a41c5f": {
      "model_module": "@jupyter-widgets/controls",
      "model_module_version": "2.0.0",
      "model_name": "FloatProgressModel",
      "state": {
       "bar_style": "success",
       "layout": "IPY_MODEL_b8d290af5ed147e49e68e8c40abacb02",
       "max": 10,
       "style": "IPY_MODEL_83c2d40f91c34d0084d9a6e7c8c6d33b",
       "value": 10
      }
     },
     "3b424a7563214c399ede6795b156930f": {
      "model_module": "@jupyter-widgets/controls",
      "model_module_version": "2.0.0",
      "model_name": "HTMLModel",
      "state": {
       "layout": "IPY_MODEL_2bdf5eb6da5e4b8f888c8a640649042e",
       "style": "IPY_MODEL_d2057f1360dd4a9184d711dac9b0e1c4",
       "value": "100%"
      }
     },
     "3b55196a3561449e9bd5c89711c122c8": {
      "model_module": "@jupyter-widgets/base",
      "model_module_version": "2.0.0",
      "model_name": "LayoutModel",
      "state": {}
     },
     "3bc9e6eaae5a4a43a8818bdf58ca9450": {
      "model_module": "@jupyter-widgets/controls",
      "model_module_version": "2.0.0",
      "model_name": "HTMLStyleModel",
      "state": {
       "description_width": "",
       "font_size": null,
       "text_color": null
      }
     },
     "3cd43c853403454789e777e866068b3c": {
      "model_module": "@jupyter-widgets/controls",
      "model_module_version": "2.0.0",
      "model_name": "HTMLModel",
      "state": {
       "layout": "IPY_MODEL_ac70c3d3612f425cbde9de7a047bf74d",
       "style": "IPY_MODEL_0607d1eae82345d8b090127b40ca04be",
       "value": "100%"
      }
     },
     "3d4619365d6c4e999dd8cc19f5a24e04": {
      "model_module": "@jupyter-widgets/base",
      "model_module_version": "2.0.0",
      "model_name": "LayoutModel",
      "state": {}
     },
     "3d627f0328514ad3a3612aaba376dfc3": {
      "model_module": "@jupyter-widgets/controls",
      "model_module_version": "2.0.0",
      "model_name": "HBoxModel",
      "state": {
       "children": [
        "IPY_MODEL_526d237b805645fa918e59293ef2eb3b",
        "IPY_MODEL_e1323415ad6e4ae0ae7d8b45341fe636",
        "IPY_MODEL_2ab23211bead454189e99e2bb2d74c86"
       ],
       "layout": "IPY_MODEL_d3bcee2653fb41709a8aff2d5dc23dcb"
      }
     },
     "3e203bbaf65e4d9195c90be7eea0e070": {
      "model_module": "@jupyter-widgets/base",
      "model_module_version": "2.0.0",
      "model_name": "LayoutModel",
      "state": {}
     },
     "3f112c59a18b4ccfa225172c2ae769cc": {
      "model_module": "@jupyter-widgets/controls",
      "model_module_version": "2.0.0",
      "model_name": "HBoxModel",
      "state": {
       "children": [
        "IPY_MODEL_6dd3534f46b5497b801b15cab639d123",
        "IPY_MODEL_83dd6939bf43405cb6c0f12f17eb6a61",
        "IPY_MODEL_df8951325b1f428b8d9edb3fa713ee33"
       ],
       "layout": "IPY_MODEL_268a59739a1d4aa19801af076f73c01c"
      }
     },
     "3fb3e0a6e42b455bbcafe5dff5ea5c60": {
      "model_module": "@jupyter-widgets/controls",
      "model_module_version": "2.0.0",
      "model_name": "HBoxModel",
      "state": {
       "children": [
        "IPY_MODEL_3b424a7563214c399ede6795b156930f",
        "IPY_MODEL_3ad9870b52d043618ce4d84106a41c5f",
        "IPY_MODEL_e96e9ead3e2c4c27b2ba906475dcce66"
       ],
       "layout": "IPY_MODEL_d256a49dfab44f9d8d9a127735d3fde2"
      }
     },
     "3fd9fc4207aa4da983dddd312aeb2a3c": {
      "model_module": "@jupyter-widgets/controls",
      "model_module_version": "2.0.0",
      "model_name": "HTMLModel",
      "state": {
       "layout": "IPY_MODEL_e3d497081bd34e7fa532504d8cab1f04",
       "style": "IPY_MODEL_89f42ae2f1cb467aa0754e2c74c2b045",
       "value": "100%"
      }
     },
     "40103d93de924168a63cbcb2d83143f3": {
      "model_module": "@jupyter-widgets/controls",
      "model_module_version": "2.0.0",
      "model_name": "ProgressStyleModel",
      "state": {
       "description_width": ""
      }
     },
     "4080b77b1903444793a16add375004ee": {
      "model_module": "@jupyter-widgets/controls",
      "model_module_version": "2.0.0",
      "model_name": "HTMLModel",
      "state": {
       "layout": "IPY_MODEL_b17eab21b10c4ecb82827c4efc6e98ce",
       "style": "IPY_MODEL_38dbfa167d964192ab7058eac16b136f",
       "value": " 10/10 [00:42&lt;00:00,  4.19s/it]"
      }
     },
     "40ec898e5e39459991d9c28318449962": {
      "model_module": "@jupyter-widgets/controls",
      "model_module_version": "2.0.0",
      "model_name": "HTMLStyleModel",
      "state": {
       "description_width": "",
       "font_size": null,
       "text_color": null
      }
     },
     "428547994d6b469d9a163fdc5e163692": {
      "model_module": "@jupyter-widgets/controls",
      "model_module_version": "2.0.0",
      "model_name": "HBoxModel",
      "state": {
       "children": [
        "IPY_MODEL_717a217feefb4b829aef06a15e6b49c5",
        "IPY_MODEL_c0334627ce4649219c40c15486967cbf",
        "IPY_MODEL_03be5aa9b2c84e159b65e6fcebe04780"
       ],
       "layout": "IPY_MODEL_011116e4fb144570b66afb7b706e062d"
      }
     },
     "434128a904af4c45a204c8d07d8942a1": {
      "model_module": "@jupyter-widgets/base",
      "model_module_version": "2.0.0",
      "model_name": "LayoutModel",
      "state": {}
     },
     "43ece6186bfa43a685972cd9934f3a9b": {
      "model_module": "@jupyter-widgets/controls",
      "model_module_version": "2.0.0",
      "model_name": "HTMLModel",
      "state": {
       "layout": "IPY_MODEL_089217f560af42e2aef883ecda502a84",
       "style": "IPY_MODEL_0894d13014004e8d8ddc3f8b71ada7be",
       "value": "100%"
      }
     },
     "440dd7e1d81b40ae84821b9c707c45bc": {
      "model_module": "@jupyter-widgets/controls",
      "model_module_version": "2.0.0",
      "model_name": "HBoxModel",
      "state": {
       "children": [
        "IPY_MODEL_69390c0daa2b4c6fbb6c4fa229ddfdef",
        "IPY_MODEL_f17bd3261e324a06a00079697a2a3e1a",
        "IPY_MODEL_4e811e14215a433dbde9bcd79e91889b"
       ],
       "layout": "IPY_MODEL_7d14bebbca2441c8806cc33b308688b0"
      }
     },
     "44371fe983864443b77e6d221d9a3c7f": {
      "model_module": "@jupyter-widgets/controls",
      "model_module_version": "2.0.0",
      "model_name": "FloatProgressModel",
      "state": {
       "bar_style": "success",
       "layout": "IPY_MODEL_a794dc4ebf924613a263e05a4a715ba3",
       "max": 10,
       "style": "IPY_MODEL_86a743663c644990aacaa00791e4e6f7",
       "value": 10
      }
     },
     "45baa48615494808a958d42811067049": {
      "model_module": "@jupyter-widgets/controls",
      "model_module_version": "2.0.0",
      "model_name": "HTMLModel",
      "state": {
       "layout": "IPY_MODEL_09a2240ee838428fabd7e952d86f8a94",
       "style": "IPY_MODEL_346ea04e632643989fe11fc66276891e",
       "value": "100%"
      }
     },
     "466809a736a741019821402db0531dc1": {
      "model_module": "@jupyter-widgets/controls",
      "model_module_version": "2.0.0",
      "model_name": "HTMLModel",
      "state": {
       "layout": "IPY_MODEL_38f9ba87e5294d309ceab80cdcac8712",
       "style": "IPY_MODEL_17811f9b82044dce8aa096bf030c8a13",
       "value": " 10/10 [00:54&lt;00:00,  5.31s/it]"
      }
     },
     "4788f0659a264658b0e5c7f1b1e67f04": {
      "model_module": "@jupyter-widgets/base",
      "model_module_version": "2.0.0",
      "model_name": "LayoutModel",
      "state": {}
     },
     "4788fb8cca114b8998c087501843aeec": {
      "model_module": "@jupyter-widgets/controls",
      "model_module_version": "2.0.0",
      "model_name": "FloatProgressModel",
      "state": {
       "bar_style": "success",
       "layout": "IPY_MODEL_d2d6d967d0c6407fb1e372242944ad34",
       "max": 10,
       "style": "IPY_MODEL_802f7df9ac5c4f3dbb0c16dcfda429fb",
       "value": 10
      }
     },
     "4911eaca87cc458494e2d1d14e068601": {
      "model_module": "@jupyter-widgets/base",
      "model_module_version": "2.0.0",
      "model_name": "LayoutModel",
      "state": {}
     },
     "491e1100ae054de4880a84371475326b": {
      "model_module": "@jupyter-widgets/base",
      "model_module_version": "2.0.0",
      "model_name": "LayoutModel",
      "state": {}
     },
     "4921c34ec44049539bb145c714d49bf5": {
      "model_module": "@jupyter-widgets/controls",
      "model_module_version": "2.0.0",
      "model_name": "ProgressStyleModel",
      "state": {
       "description_width": ""
      }
     },
     "493957b67e034b598ef40cd7bac64c1e": {
      "model_module": "@jupyter-widgets/controls",
      "model_module_version": "2.0.0",
      "model_name": "HTMLModel",
      "state": {
       "layout": "IPY_MODEL_52a440ad19bf482d9202eccbcfbf9fbc",
       "style": "IPY_MODEL_01a5bce432dd4e5299f6cc9dda49030b",
       "value": "100%"
      }
     },
     "49ea3618f6e24c3b8c4b1d7421229ba9": {
      "model_module": "@jupyter-widgets/base",
      "model_module_version": "2.0.0",
      "model_name": "LayoutModel",
      "state": {}
     },
     "4c3ea23ca3ca4bbf8e2df28484edfe71": {
      "model_module": "@jupyter-widgets/base",
      "model_module_version": "2.0.0",
      "model_name": "LayoutModel",
      "state": {}
     },
     "4c5c396bb53e483c84a34061b9da2375": {
      "model_module": "@jupyter-widgets/controls",
      "model_module_version": "2.0.0",
      "model_name": "HTMLStyleModel",
      "state": {
       "description_width": "",
       "font_size": null,
       "text_color": null
      }
     },
     "4cf86273987b434983b82d31ad2eca2e": {
      "model_module": "@jupyter-widgets/controls",
      "model_module_version": "2.0.0",
      "model_name": "HTMLModel",
      "state": {
       "layout": "IPY_MODEL_95f41ff16a4c497c9075954d475c430b",
       "style": "IPY_MODEL_05e4422b7df749a3bf748cda6778f22f",
       "value": "100%"
      }
     },
     "4d8dbc2c0ebd412b94a35836a68b6c19": {
      "model_module": "@jupyter-widgets/controls",
      "model_module_version": "2.0.0",
      "model_name": "HTMLStyleModel",
      "state": {
       "description_width": "",
       "font_size": null,
       "text_color": null
      }
     },
     "4e301bd73e0f4d52ab927c852c4e31f0": {
      "model_module": "@jupyter-widgets/controls",
      "model_module_version": "2.0.0",
      "model_name": "FloatProgressModel",
      "state": {
       "bar_style": "success",
       "layout": "IPY_MODEL_d3a4ea44d0804afa861c9e3448637dc5",
       "max": 10,
       "style": "IPY_MODEL_276adeba3c5f4b54b6e1c9cf11c5265d",
       "value": 10
      }
     },
     "4e622b5b512f4438876157d60fa50835": {
      "model_module": "@jupyter-widgets/controls",
      "model_module_version": "2.0.0",
      "model_name": "HTMLStyleModel",
      "state": {
       "description_width": "",
       "font_size": null,
       "text_color": null
      }
     },
     "4e6b249f968c4cbbac1adf114e4b9918": {
      "model_module": "@jupyter-widgets/base",
      "model_module_version": "2.0.0",
      "model_name": "LayoutModel",
      "state": {}
     },
     "4e74940bd0ba49fda8ba2dbca0610fbe": {
      "model_module": "@jupyter-widgets/base",
      "model_module_version": "2.0.0",
      "model_name": "LayoutModel",
      "state": {}
     },
     "4e811e14215a433dbde9bcd79e91889b": {
      "model_module": "@jupyter-widgets/controls",
      "model_module_version": "2.0.0",
      "model_name": "HTMLModel",
      "state": {
       "layout": "IPY_MODEL_cdd1cd46ef1a47d6bdaa4f853714d79d",
       "style": "IPY_MODEL_d707b684ebb241c38b47319350041003",
       "value": " 10/10 [00:41&lt;00:00,  4.17s/it]"
      }
     },
     "4eb24d7d257046da9d994f0b4d4c87c7": {
      "model_module": "@jupyter-widgets/controls",
      "model_module_version": "2.0.0",
      "model_name": "HTMLModel",
      "state": {
       "layout": "IPY_MODEL_b56cae75a18a4fefb7c9a95616c83ff1",
       "style": "IPY_MODEL_e59afc8963cf4817a3a42fd6e47d5f92",
       "value": " 10/10 [00:39&lt;00:00,  3.77s/it]"
      }
     },
     "4eb84c36a1984605951db7664fc1d30c": {
      "model_module": "@jupyter-widgets/base",
      "model_module_version": "2.0.0",
      "model_name": "LayoutModel",
      "state": {}
     },
     "4f93fc9abb2448ec8181eea0166a76e1": {
      "model_module": "@jupyter-widgets/controls",
      "model_module_version": "2.0.0",
      "model_name": "HTMLStyleModel",
      "state": {
       "description_width": "",
       "font_size": null,
       "text_color": null
      }
     },
     "509c7e40c1684fc0a256bdefcf1b2fb5": {
      "model_module": "@jupyter-widgets/controls",
      "model_module_version": "2.0.0",
      "model_name": "HTMLStyleModel",
      "state": {
       "description_width": "",
       "font_size": null,
       "text_color": null
      }
     },
     "50a55e4f0bff45caaaf74d4407c1e51a": {
      "model_module": "@jupyter-widgets/controls",
      "model_module_version": "2.0.0",
      "model_name": "HTMLStyleModel",
      "state": {
       "description_width": "",
       "font_size": null,
       "text_color": null
      }
     },
     "5167c6cd295244ed8af4acea4299ebce": {
      "model_module": "@jupyter-widgets/controls",
      "model_module_version": "2.0.0",
      "model_name": "HBoxModel",
      "state": {
       "children": [
        "IPY_MODEL_43ece6186bfa43a685972cd9934f3a9b",
        "IPY_MODEL_890085d822fa44fe8d6c8339ab98f775",
        "IPY_MODEL_993e74c8d9944604b0f690c22a83e76c"
       ],
       "layout": "IPY_MODEL_f0745bf93a614184b5b7478799ea40c4"
      }
     },
     "51ac29d9668b4cd4a051dc8a82cdf611": {
      "model_module": "@jupyter-widgets/controls",
      "model_module_version": "2.0.0",
      "model_name": "HBoxModel",
      "state": {
       "children": [
        "IPY_MODEL_2c859dc2ae0e48a9901d66eed6015e1a",
        "IPY_MODEL_6219d029a45741e5a47e54b2227803fc",
        "IPY_MODEL_fd45dfd58603484899707b3edd5b3a62"
       ],
       "layout": "IPY_MODEL_233fffcb55b242e4b688e22b95da4d88"
      }
     },
     "51e828a79fa34d58ac3c34e4257f0301": {
      "model_module": "@jupyter-widgets/controls",
      "model_module_version": "2.0.0",
      "model_name": "ProgressStyleModel",
      "state": {
       "description_width": ""
      }
     },
     "526d237b805645fa918e59293ef2eb3b": {
      "model_module": "@jupyter-widgets/controls",
      "model_module_version": "2.0.0",
      "model_name": "HTMLModel",
      "state": {
       "layout": "IPY_MODEL_077665c4e1d0412eaf5c37334517eb46",
       "style": "IPY_MODEL_32b45087992044148eb4d37d63aa0d57",
       "value": "100%"
      }
     },
     "5285f64625794641b141f3de4ad795ed": {
      "model_module": "@jupyter-widgets/controls",
      "model_module_version": "2.0.0",
      "model_name": "FloatProgressModel",
      "state": {
       "bar_style": "success",
       "layout": "IPY_MODEL_c7d01c7ee562415d9d2ec2e5fd6f5181",
       "max": 10,
       "style": "IPY_MODEL_51e828a79fa34d58ac3c34e4257f0301",
       "value": 10
      }
     },
     "52a440ad19bf482d9202eccbcfbf9fbc": {
      "model_module": "@jupyter-widgets/base",
      "model_module_version": "2.0.0",
      "model_name": "LayoutModel",
      "state": {}
     },
     "5325e8b4224f4989894c107408b81456": {
      "model_module": "@jupyter-widgets/base",
      "model_module_version": "2.0.0",
      "model_name": "LayoutModel",
      "state": {}
     },
     "532aa4d784f04040bf4b5cb34aee14f3": {
      "model_module": "@jupyter-widgets/base",
      "model_module_version": "2.0.0",
      "model_name": "LayoutModel",
      "state": {}
     },
     "533c6e1d042f422f98cd57ff471888e4": {
      "model_module": "@jupyter-widgets/controls",
      "model_module_version": "2.0.0",
      "model_name": "ProgressStyleModel",
      "state": {
       "description_width": ""
      }
     },
     "54e48393dcc841959672206344fee1f6": {
      "model_module": "@jupyter-widgets/controls",
      "model_module_version": "2.0.0",
      "model_name": "HTMLStyleModel",
      "state": {
       "description_width": "",
       "font_size": null,
       "text_color": null
      }
     },
     "5648153094c74f6e8bc00143b5b77151": {
      "model_module": "@jupyter-widgets/controls",
      "model_module_version": "2.0.0",
      "model_name": "HTMLStyleModel",
      "state": {
       "description_width": "",
       "font_size": null,
       "text_color": null
      }
     },
     "56c855d4fc4441fab977f976754e624a": {
      "model_module": "@jupyter-widgets/base",
      "model_module_version": "2.0.0",
      "model_name": "LayoutModel",
      "state": {}
     },
     "570504d89929489dbc962e1bcd6697e1": {
      "model_module": "@jupyter-widgets/controls",
      "model_module_version": "2.0.0",
      "model_name": "ProgressStyleModel",
      "state": {
       "description_width": ""
      }
     },
     "575addbedfe04a7ea9d05f11716d568e": {
      "model_module": "@jupyter-widgets/controls",
      "model_module_version": "2.0.0",
      "model_name": "HTMLStyleModel",
      "state": {
       "description_width": "",
       "font_size": null,
       "text_color": null
      }
     },
     "57812ab88d4c48adb3ae220f4c9d8bfd": {
      "model_module": "@jupyter-widgets/controls",
      "model_module_version": "2.0.0",
      "model_name": "HTMLStyleModel",
      "state": {
       "description_width": "",
       "font_size": null,
       "text_color": null
      }
     },
     "57cada2c70b0429181218a07735cd2fb": {
      "model_module": "@jupyter-widgets/base",
      "model_module_version": "2.0.0",
      "model_name": "LayoutModel",
      "state": {}
     },
     "58f38b012ae041b3af42169da167c038": {
      "model_module": "@jupyter-widgets/base",
      "model_module_version": "2.0.0",
      "model_name": "LayoutModel",
      "state": {}
     },
     "5a2195dd60b1488ca465eb37dbfd0e97": {
      "model_module": "@jupyter-widgets/controls",
      "model_module_version": "2.0.0",
      "model_name": "ProgressStyleModel",
      "state": {
       "description_width": ""
      }
     },
     "5a4b013ed3fe457d9347779707eb5cb5": {
      "model_module": "@jupyter-widgets/controls",
      "model_module_version": "2.0.0",
      "model_name": "HTMLModel",
      "state": {
       "layout": "IPY_MODEL_5fa9fab8b59743639251ce875bc0d32d",
       "style": "IPY_MODEL_2cae90a012224d32a99110058d8cb815",
       "value": " 10/10 [00:39&lt;00:00,  3.79s/it]"
      }
     },
     "5a7de40b922d42ffb5832c41cf8d5171": {
      "model_module": "@jupyter-widgets/controls",
      "model_module_version": "2.0.0",
      "model_name": "HTMLStyleModel",
      "state": {
       "description_width": "",
       "font_size": null,
       "text_color": null
      }
     },
     "5ab2d9cb06be427baf8c5477a8d88d34": {
      "model_module": "@jupyter-widgets/controls",
      "model_module_version": "2.0.0",
      "model_name": "HTMLStyleModel",
      "state": {
       "description_width": "",
       "font_size": null,
       "text_color": null
      }
     },
     "5b50fb260dfa4ac8b471df822381ae48": {
      "model_module": "@jupyter-widgets/controls",
      "model_module_version": "2.0.0",
      "model_name": "HTMLStyleModel",
      "state": {
       "description_width": "",
       "font_size": null,
       "text_color": null
      }
     },
     "5b698dcca6474cfca8affcccd503348c": {
      "model_module": "@jupyter-widgets/controls",
      "model_module_version": "2.0.0",
      "model_name": "HTMLModel",
      "state": {
       "layout": "IPY_MODEL_87731b7162ed4039a1604ad8eb6c8def",
       "style": "IPY_MODEL_5e96a843195f4acab92097476992f3f3",
       "value": "100%"
      }
     },
     "5c190f062eb74612b302a117ea1732b4": {
      "model_module": "@jupyter-widgets/controls",
      "model_module_version": "2.0.0",
      "model_name": "HBoxModel",
      "state": {
       "children": [
        "IPY_MODEL_e386151d0a6d4ffba8816e59d268ae66",
        "IPY_MODEL_d4988c2ba6cb47278d6ff1ed203ec7e7",
        "IPY_MODEL_0dd76f2f23d14c5f99da8ff170fdce34"
       ],
       "layout": "IPY_MODEL_8afdbe6bd6c64c15a447b2fcc604feb6"
      }
     },
     "5d3db53a90fe4987ab752acce98c2126": {
      "model_module": "@jupyter-widgets/controls",
      "model_module_version": "2.0.0",
      "model_name": "HTMLStyleModel",
      "state": {
       "description_width": "",
       "font_size": null,
       "text_color": null
      }
     },
     "5e0532ccc9f34f918ae5526b0ae5b53d": {
      "model_module": "@jupyter-widgets/controls",
      "model_module_version": "2.0.0",
      "model_name": "HBoxModel",
      "state": {
       "children": [
        "IPY_MODEL_f4a7ad203d0149a09ac80de7e7317b99",
        "IPY_MODEL_80f209c44d1e48bdad22407392c1b4fd",
        "IPY_MODEL_9aef14448da1418eaf2e6261cf39b82c"
       ],
       "layout": "IPY_MODEL_025bd70d84f44db88faaf4d408f5d7bc"
      }
     },
     "5e7d8e7d8bd24f8d93c9888712c17302": {
      "model_module": "@jupyter-widgets/controls",
      "model_module_version": "2.0.0",
      "model_name": "HTMLStyleModel",
      "state": {
       "description_width": "",
       "font_size": null,
       "text_color": null
      }
     },
     "5e96a843195f4acab92097476992f3f3": {
      "model_module": "@jupyter-widgets/controls",
      "model_module_version": "2.0.0",
      "model_name": "HTMLStyleModel",
      "state": {
       "description_width": "",
       "font_size": null,
       "text_color": null
      }
     },
     "5ee7877bcb0d4a5ea9b636ae27175f57": {
      "model_module": "@jupyter-widgets/controls",
      "model_module_version": "2.0.0",
      "model_name": "ProgressStyleModel",
      "state": {
       "description_width": ""
      }
     },
     "5ef1001a07604ead93899a8faab59f1b": {
      "model_module": "@jupyter-widgets/base",
      "model_module_version": "2.0.0",
      "model_name": "LayoutModel",
      "state": {}
     },
     "5f6af0aa25e24ac58c4a628c766063dc": {
      "model_module": "@jupyter-widgets/base",
      "model_module_version": "2.0.0",
      "model_name": "LayoutModel",
      "state": {}
     },
     "5fa9fab8b59743639251ce875bc0d32d": {
      "model_module": "@jupyter-widgets/base",
      "model_module_version": "2.0.0",
      "model_name": "LayoutModel",
      "state": {}
     },
     "609b995786b048b583d71ccf800a1062": {
      "model_module": "@jupyter-widgets/controls",
      "model_module_version": "2.0.0",
      "model_name": "HTMLStyleModel",
      "state": {
       "description_width": "",
       "font_size": null,
       "text_color": null
      }
     },
     "60c79f10354843e3a5e49bb43a40add4": {
      "model_module": "@jupyter-widgets/base",
      "model_module_version": "2.0.0",
      "model_name": "LayoutModel",
      "state": {}
     },
     "60f8d15480c04627a546263c7354ea00": {
      "model_module": "@jupyter-widgets/controls",
      "model_module_version": "2.0.0",
      "model_name": "HTMLModel",
      "state": {
       "layout": "IPY_MODEL_ef6a260ef0c44a27851ab3551ccf76ad",
       "style": "IPY_MODEL_5b50fb260dfa4ac8b471df822381ae48",
       "value": "100%"
      }
     },
     "613a32b9d2894590aa7ff2d428e159e3": {
      "model_module": "@jupyter-widgets/base",
      "model_module_version": "2.0.0",
      "model_name": "LayoutModel",
      "state": {}
     },
     "61625653aab64d1ab7391ffa1da37438": {
      "model_module": "@jupyter-widgets/base",
      "model_module_version": "2.0.0",
      "model_name": "LayoutModel",
      "state": {}
     },
     "6208f221be254347870d50433a647181": {
      "model_module": "@jupyter-widgets/base",
      "model_module_version": "2.0.0",
      "model_name": "LayoutModel",
      "state": {}
     },
     "6219d029a45741e5a47e54b2227803fc": {
      "model_module": "@jupyter-widgets/controls",
      "model_module_version": "2.0.0",
      "model_name": "FloatProgressModel",
      "state": {
       "bar_style": "success",
       "layout": "IPY_MODEL_77e6104cb9374453b511e27a63e8a177",
       "max": 51,
       "style": "IPY_MODEL_8cea9992d56e4f6a99fd9e2e77258681",
       "value": 51
      }
     },
     "62bb1b6c4be94970bae742efe99aa6ff": {
      "model_module": "@jupyter-widgets/controls",
      "model_module_version": "2.0.0",
      "model_name": "HTMLStyleModel",
      "state": {
       "description_width": "",
       "font_size": null,
       "text_color": null
      }
     },
     "643a7ea01cfc4202938307467b1efa63": {
      "model_module": "@jupyter-widgets/base",
      "model_module_version": "2.0.0",
      "model_name": "LayoutModel",
      "state": {}
     },
     "645802646fa04ca8a53ab2bbf39f5679": {
      "model_module": "@jupyter-widgets/controls",
      "model_module_version": "2.0.0",
      "model_name": "HTMLModel",
      "state": {
       "layout": "IPY_MODEL_66957e483d6f44a7add35c998e1f5966",
       "style": "IPY_MODEL_575addbedfe04a7ea9d05f11716d568e",
       "value": " 10/10 [00:46&lt;00:00,  4.95s/it]"
      }
     },
     "6483aae5f7d840809bee979ec5aab4bd": {
      "model_module": "@jupyter-widgets/controls",
      "model_module_version": "2.0.0",
      "model_name": "FloatProgressModel",
      "state": {
       "bar_style": "success",
       "layout": "IPY_MODEL_3b55196a3561449e9bd5c89711c122c8",
       "max": 10,
       "style": "IPY_MODEL_99e27257444c4868b9097d024f503c15",
       "value": 10
      }
     },
     "64d0ecba6d664636a548c9ffad5ea4b0": {
      "model_module": "@jupyter-widgets/controls",
      "model_module_version": "2.0.0",
      "model_name": "FloatProgressModel",
      "state": {
       "bar_style": "success",
       "layout": "IPY_MODEL_56c855d4fc4441fab977f976754e624a",
       "max": 10,
       "style": "IPY_MODEL_5ee7877bcb0d4a5ea9b636ae27175f57",
       "value": 10
      }
     },
     "64ff39c57d8c4f13a83949a4811d8e62": {
      "model_module": "@jupyter-widgets/controls",
      "model_module_version": "2.0.0",
      "model_name": "HTMLStyleModel",
      "state": {
       "description_width": "",
       "font_size": null,
       "text_color": null
      }
     },
     "65d39b4ec6a5499cb5b077f8c6273c7a": {
      "model_module": "@jupyter-widgets/controls",
      "model_module_version": "2.0.0",
      "model_name": "HTMLStyleModel",
      "state": {
       "description_width": "",
       "font_size": null,
       "text_color": null
      }
     },
     "65f35c11eca24dba88206bd8ea2c3439": {
      "model_module": "@jupyter-widgets/base",
      "model_module_version": "2.0.0",
      "model_name": "LayoutModel",
      "state": {}
     },
     "6639fd8d2e0247f4806d895e0fbbc2a0": {
      "model_module": "@jupyter-widgets/controls",
      "model_module_version": "2.0.0",
      "model_name": "HTMLModel",
      "state": {
       "layout": "IPY_MODEL_c119b45273bb44108fe114ae4d3aa6e2",
       "style": "IPY_MODEL_e097429b522342bf818b3b854531020f",
       "value": "100%"
      }
     },
     "66957e483d6f44a7add35c998e1f5966": {
      "model_module": "@jupyter-widgets/base",
      "model_module_version": "2.0.0",
      "model_name": "LayoutModel",
      "state": {}
     },
     "66f63d354aa14a88b5a2e6b2afdc4b93": {
      "model_module": "@jupyter-widgets/controls",
      "model_module_version": "2.0.0",
      "model_name": "FloatProgressModel",
      "state": {
       "bar_style": "success",
       "layout": "IPY_MODEL_8cd790e614044d4eb56846260a81fa32",
       "max": 10,
       "style": "IPY_MODEL_b7be92aa09ca40d7be4d05ee02084b4f",
       "value": 10
      }
     },
     "66fc364eec734750a1d32249a1be5b84": {
      "model_module": "@jupyter-widgets/controls",
      "model_module_version": "2.0.0",
      "model_name": "HTMLModel",
      "state": {
       "layout": "IPY_MODEL_ab25e095533b4df0be022124d488bee2",
       "style": "IPY_MODEL_996b1b801dc84233885ce9b2bde79ec3",
       "value": "100%"
      }
     },
     "675fcf1648404cda8ea677ac692b1e7b": {
      "model_module": "@jupyter-widgets/controls",
      "model_module_version": "2.0.0",
      "model_name": "FloatProgressModel",
      "state": {
       "bar_style": "success",
       "layout": "IPY_MODEL_1531cb4efcda4d44abcde3ed7d986a3a",
       "max": 10,
       "style": "IPY_MODEL_69fbdc4266af47a3973c764cd61ac74b",
       "value": 10
      }
     },
     "67710189cc2d4862856dd81d56d1ee2e": {
      "model_module": "@jupyter-widgets/controls",
      "model_module_version": "2.0.0",
      "model_name": "HTMLModel",
      "state": {
       "layout": "IPY_MODEL_e63317020fe644c598a79da950aa94ae",
       "style": "IPY_MODEL_5a7de40b922d42ffb5832c41cf8d5171",
       "value": "100%"
      }
     },
     "67802a85cdfd45dea662b3cef2f1e589": {
      "model_module": "@jupyter-widgets/controls",
      "model_module_version": "2.0.0",
      "model_name": "HTMLStyleModel",
      "state": {
       "description_width": "",
       "font_size": null,
       "text_color": null
      }
     },
     "683a82e3ded64b27b89fa8b50a531a34": {
      "model_module": "@jupyter-widgets/controls",
      "model_module_version": "2.0.0",
      "model_name": "HTMLModel",
      "state": {
       "layout": "IPY_MODEL_0a82c0e5d63742dd94da7940c33fa957",
       "style": "IPY_MODEL_7792e80762d34185950cfb52e2c342b3",
       "value": "100%"
      }
     },
     "685366ff3509406ebb5b7b808c1144d2": {
      "model_module": "@jupyter-widgets/controls",
      "model_module_version": "2.0.0",
      "model_name": "FloatProgressModel",
      "state": {
       "bar_style": "success",
       "layout": "IPY_MODEL_4e6b249f968c4cbbac1adf114e4b9918",
       "max": 10,
       "style": "IPY_MODEL_570504d89929489dbc962e1bcd6697e1",
       "value": 10
      }
     },
     "691bbe82b0ef44fb80d2eb78b2f89833": {
      "model_module": "@jupyter-widgets/controls",
      "model_module_version": "2.0.0",
      "model_name": "HBoxModel",
      "state": {
       "children": [
        "IPY_MODEL_cdd48b9bb02544df90bcc946cafc0450",
        "IPY_MODEL_a86d281b2436482bb962464bd2abb72f",
        "IPY_MODEL_2a269ece72684075b06c39c4d711e3fd"
       ],
       "layout": "IPY_MODEL_e435c393a3fc49c7903c63dd925b4020"
      }
     },
     "692df44cf5284aa59357e5928dc49916": {
      "model_module": "@jupyter-widgets/base",
      "model_module_version": "2.0.0",
      "model_name": "LayoutModel",
      "state": {}
     },
     "693277bbf34241a6baaec4d6cfc6c443": {
      "model_module": "@jupyter-widgets/controls",
      "model_module_version": "2.0.0",
      "model_name": "HTMLModel",
      "state": {
       "layout": "IPY_MODEL_5ef1001a07604ead93899a8faab59f1b",
       "style": "IPY_MODEL_3314b3c856644d64bf6386a0da487ae6",
       "value": "100%"
      }
     },
     "69390c0daa2b4c6fbb6c4fa229ddfdef": {
      "model_module": "@jupyter-widgets/controls",
      "model_module_version": "2.0.0",
      "model_name": "HTMLModel",
      "state": {
       "layout": "IPY_MODEL_1f0e4022da854563a540621cf80f7190",
       "style": "IPY_MODEL_963b36a68d5f4d1abc9f6dbd56e0dc8f",
       "value": "100%"
      }
     },
     "6951209b4a8a46d695be50f2e6daf64d": {
      "model_module": "@jupyter-widgets/controls",
      "model_module_version": "2.0.0",
      "model_name": "HTMLStyleModel",
      "state": {
       "description_width": "",
       "font_size": null,
       "text_color": null
      }
     },
     "6995a96cd62942bd800a27d5afc1058e": {
      "model_module": "@jupyter-widgets/controls",
      "model_module_version": "2.0.0",
      "model_name": "HTMLStyleModel",
      "state": {
       "description_width": "",
       "font_size": null,
       "text_color": null
      }
     },
     "69b4d1a9d5684013b03db8c0da34da62": {
      "model_module": "@jupyter-widgets/controls",
      "model_module_version": "2.0.0",
      "model_name": "FloatProgressModel",
      "state": {
       "bar_style": "success",
       "layout": "IPY_MODEL_3d4619365d6c4e999dd8cc19f5a24e04",
       "max": 10,
       "style": "IPY_MODEL_a7e0e5b3607c4fb48e533adc99e1863b",
       "value": 10
      }
     },
     "69c1d549287043fca31887a4a9227ea5": {
      "model_module": "@jupyter-widgets/base",
      "model_module_version": "2.0.0",
      "model_name": "LayoutModel",
      "state": {}
     },
     "69f75a658bdc4b3f91327872043a3819": {
      "model_module": "@jupyter-widgets/base",
      "model_module_version": "2.0.0",
      "model_name": "LayoutModel",
      "state": {}
     },
     "69fbdc4266af47a3973c764cd61ac74b": {
      "model_module": "@jupyter-widgets/controls",
      "model_module_version": "2.0.0",
      "model_name": "ProgressStyleModel",
      "state": {
       "description_width": ""
      }
     },
     "6a08f00cfbe14f6d9c67f87470122c36": {
      "model_module": "@jupyter-widgets/controls",
      "model_module_version": "2.0.0",
      "model_name": "FloatProgressModel",
      "state": {
       "bar_style": "success",
       "layout": "IPY_MODEL_37326e4b6b884f4faf77e6cbb27aa0a0",
       "max": 10,
       "style": "IPY_MODEL_dcc8f110e708422fa69cc57fe7dc04a3",
       "value": 10
      }
     },
     "6a111e0e830c4affadb68220f80fe2dd": {
      "model_module": "@jupyter-widgets/controls",
      "model_module_version": "2.0.0",
      "model_name": "HTMLStyleModel",
      "state": {
       "description_width": "",
       "font_size": null,
       "text_color": null
      }
     },
     "6a789966986e460ebe18d40a0bd8712d": {
      "model_module": "@jupyter-widgets/controls",
      "model_module_version": "2.0.0",
      "model_name": "HTMLStyleModel",
      "state": {
       "description_width": "",
       "font_size": null,
       "text_color": null
      }
     },
     "6ac3b6ec372a49b5bd52c85fdffd3966": {
      "model_module": "@jupyter-widgets/controls",
      "model_module_version": "2.0.0",
      "model_name": "ProgressStyleModel",
      "state": {
       "description_width": ""
      }
     },
     "6af8df82035a4b3ca5acaefa24840ea5": {
      "model_module": "@jupyter-widgets/controls",
      "model_module_version": "2.0.0",
      "model_name": "HTMLStyleModel",
      "state": {
       "description_width": "",
       "font_size": null,
       "text_color": null
      }
     },
     "6b047c3a38504abc9c4ac9a15601d3d2": {
      "model_module": "@jupyter-widgets/base",
      "model_module_version": "2.0.0",
      "model_name": "LayoutModel",
      "state": {}
     },
     "6b1a3a682ce542f49d8f54a7877cba12": {
      "model_module": "@jupyter-widgets/controls",
      "model_module_version": "2.0.0",
      "model_name": "HTMLStyleModel",
      "state": {
       "description_width": "",
       "font_size": null,
       "text_color": null
      }
     },
     "6b4c6faea8f041ae80c972d0e49434b2": {
      "model_module": "@jupyter-widgets/base",
      "model_module_version": "2.0.0",
      "model_name": "LayoutModel",
      "state": {}
     },
     "6cfa0968714a4bafa115c99bbbebcebb": {
      "model_module": "@jupyter-widgets/controls",
      "model_module_version": "2.0.0",
      "model_name": "HTMLStyleModel",
      "state": {
       "description_width": "",
       "font_size": null,
       "text_color": null
      }
     },
     "6dd3534f46b5497b801b15cab639d123": {
      "model_module": "@jupyter-widgets/controls",
      "model_module_version": "2.0.0",
      "model_name": "HTMLModel",
      "state": {
       "layout": "IPY_MODEL_ba29ab368e5c4e60a7b6d01e723f4d13",
       "style": "IPY_MODEL_c608c54b1e0a4022b0669186c832f0c4",
       "value": "100%"
      }
     },
     "6dfa52cdc9444320b5333c5b4eaf1984": {
      "model_module": "@jupyter-widgets/controls",
      "model_module_version": "2.0.0",
      "model_name": "HTMLModel",
      "state": {
       "layout": "IPY_MODEL_1a0e9774e0c444ff860153e403c299df",
       "style": "IPY_MODEL_8609fb2849b64a84b5b8320457a20183",
       "value": " 10/10 [00:40&lt;00:00,  4.17s/it]"
      }
     },
     "6e1b7aebe9114d20aafd0638e2513ad6": {
      "model_module": "@jupyter-widgets/base",
      "model_module_version": "2.0.0",
      "model_name": "LayoutModel",
      "state": {}
     },
     "6e6cb295ab764feab1772e1dadf14eae": {
      "model_module": "@jupyter-widgets/base",
      "model_module_version": "2.0.0",
      "model_name": "LayoutModel",
      "state": {}
     },
     "6e748477fd0e445fbd42722fde1d4c99": {
      "model_module": "@jupyter-widgets/controls",
      "model_module_version": "2.0.0",
      "model_name": "HTMLStyleModel",
      "state": {
       "description_width": "",
       "font_size": null,
       "text_color": null
      }
     },
     "6f181927b95046a7bb480637dfed688c": {
      "model_module": "@jupyter-widgets/controls",
      "model_module_version": "2.0.0",
      "model_name": "HTMLModel",
      "state": {
       "layout": "IPY_MODEL_ee8b8037d81b437fb9935af3f88afa2c",
       "style": "IPY_MODEL_fbe943420a754752a41ac4d641896ca5",
       "value": "100%"
      }
     },
     "6f57f17e1d3f41ebad816fa9a61c1d24": {
      "model_module": "@jupyter-widgets/base",
      "model_module_version": "2.0.0",
      "model_name": "LayoutModel",
      "state": {}
     },
     "6ffa1d9f325e438a9ead4823afd45e23": {
      "model_module": "@jupyter-widgets/base",
      "model_module_version": "2.0.0",
      "model_name": "LayoutModel",
      "state": {}
     },
     "7005db305b8543a79c26a51c76004529": {
      "model_module": "@jupyter-widgets/controls",
      "model_module_version": "2.0.0",
      "model_name": "ProgressStyleModel",
      "state": {
       "description_width": ""
      }
     },
     "702d1f53444443e0a6326130e7e7edc3": {
      "model_module": "@jupyter-widgets/controls",
      "model_module_version": "2.0.0",
      "model_name": "FloatProgressModel",
      "state": {
       "bar_style": "success",
       "layout": "IPY_MODEL_3e203bbaf65e4d9195c90be7eea0e070",
       "max": 10,
       "style": "IPY_MODEL_4921c34ec44049539bb145c714d49bf5",
       "value": 10
      }
     },
     "7037893e5f394695b4026552f768dbc7": {
      "model_module": "@jupyter-widgets/controls",
      "model_module_version": "2.0.0",
      "model_name": "HTMLModel",
      "state": {
       "layout": "IPY_MODEL_25c90410730b4ce1bc57e0692704c0b7",
       "style": "IPY_MODEL_d6a00f61356c4ff38acfdf2c4341be1b",
       "value": "100%"
      }
     },
     "7044b27a4dd0408084ca380964d29634": {
      "model_module": "@jupyter-widgets/controls",
      "model_module_version": "2.0.0",
      "model_name": "HBoxModel",
      "state": {
       "children": [
        "IPY_MODEL_493957b67e034b598ef40cd7bac64c1e",
        "IPY_MODEL_742971a4094842ffac2332296d82e015",
        "IPY_MODEL_83f362e61f2e42448b45cdd81646eb1b"
       ],
       "layout": "IPY_MODEL_d8d0f5211d0e4280bed41d3b1688ce54"
      }
     },
     "70528dff3e8b47479d35854dd1a1cacd": {
      "model_module": "@jupyter-widgets/controls",
      "model_module_version": "2.0.0",
      "model_name": "HTMLModel",
      "state": {
       "layout": "IPY_MODEL_9faf41046a104f49a2199e287a786dec",
       "style": "IPY_MODEL_6a111e0e830c4affadb68220f80fe2dd",
       "value": " 10/10 [00:41&lt;00:00,  4.06s/it]"
      }
     },
     "70f7e995a0934a57a909dfd265d17690": {
      "model_module": "@jupyter-widgets/controls",
      "model_module_version": "2.0.0",
      "model_name": "FloatProgressModel",
      "state": {
       "bar_style": "success",
       "layout": "IPY_MODEL_f8a08f59feef40768d2b2f87013b9a81",
       "max": 10,
       "style": "IPY_MODEL_7868bc6d75f34c7b833332f803ba4a6f",
       "value": 10
      }
     },
     "7171eccaf0c94ef795dd4fd83db159f9": {
      "model_module": "@jupyter-widgets/base",
      "model_module_version": "2.0.0",
      "model_name": "LayoutModel",
      "state": {}
     },
     "717a217feefb4b829aef06a15e6b49c5": {
      "model_module": "@jupyter-widgets/controls",
      "model_module_version": "2.0.0",
      "model_name": "HTMLModel",
      "state": {
       "layout": "IPY_MODEL_df020c78d1d64e7fb628c635458c5a1e",
       "style": "IPY_MODEL_8de6de6524724200abbe6f8d851b2eec",
       "value": "100%"
      }
     },
     "71ff8535594547359e5c0245f6d1ae3d": {
      "model_module": "@jupyter-widgets/controls",
      "model_module_version": "2.0.0",
      "model_name": "HTMLStyleModel",
      "state": {
       "description_width": "",
       "font_size": null,
       "text_color": null
      }
     },
     "724658aa43cc4692bc8130a492ed3d74": {
      "model_module": "@jupyter-widgets/controls",
      "model_module_version": "2.0.0",
      "model_name": "HBoxModel",
      "state": {
       "children": [
        "IPY_MODEL_858e0ba3e6764729b2f630121abc92a7",
        "IPY_MODEL_01f77fb2119e4ef2914717924db313f6",
        "IPY_MODEL_b70f3ae04ede4809a4492169ca7ca377"
       ],
       "layout": "IPY_MODEL_9bb62487f2fc48338eade8c3f807c7ea"
      }
     },
     "72abc9e19efe4b09a287dfead0731bc3": {
      "model_module": "@jupyter-widgets/controls",
      "model_module_version": "2.0.0",
      "model_name": "HTMLStyleModel",
      "state": {
       "description_width": "",
       "font_size": null,
       "text_color": null
      }
     },
     "72abec99b89a461f9fd3c82e699dbafd": {
      "model_module": "@jupyter-widgets/controls",
      "model_module_version": "2.0.0",
      "model_name": "FloatProgressModel",
      "state": {
       "bar_style": "success",
       "layout": "IPY_MODEL_188d0a7719654438ac72233123b30d60",
       "max": 10,
       "style": "IPY_MODEL_a1d5770d25554528b754ef9551fb71dc",
       "value": 10
      }
     },
     "73326367119342d0b63f040ebb755905": {
      "model_module": "@jupyter-widgets/controls",
      "model_module_version": "2.0.0",
      "model_name": "ProgressStyleModel",
      "state": {
       "description_width": ""
      }
     },
     "733a9b4b2d454b59a7f6720d83253c41": {
      "model_module": "@jupyter-widgets/base",
      "model_module_version": "2.0.0",
      "model_name": "LayoutModel",
      "state": {}
     },
     "739daa50e22d4978a6e5428697d5fef6": {
      "model_module": "@jupyter-widgets/controls",
      "model_module_version": "2.0.0",
      "model_name": "HBoxModel",
      "state": {
       "children": [
        "IPY_MODEL_c45babe376c34d4f9839267c3d718c72",
        "IPY_MODEL_828bbb8f9b23483bb30ce2b4951f55d0",
        "IPY_MODEL_8db178b436c34ed08af8e1d6855abc6f"
       ],
       "layout": "IPY_MODEL_c289320d74e24867ae74cdd01ceed6f9"
      }
     },
     "742971a4094842ffac2332296d82e015": {
      "model_module": "@jupyter-widgets/controls",
      "model_module_version": "2.0.0",
      "model_name": "FloatProgressModel",
      "state": {
       "bar_style": "success",
       "layout": "IPY_MODEL_a1fe202bbf4a41e68e9fff2970d77f5c",
       "max": 10,
       "style": "IPY_MODEL_f77fe3da69314d7ca78ea9898baba5fd",
       "value": 10
      }
     },
     "74c18d399f33495caab7cf28a2a2e2c8": {
      "model_module": "@jupyter-widgets/controls",
      "model_module_version": "2.0.0",
      "model_name": "HTMLModel",
      "state": {
       "layout": "IPY_MODEL_934169a3cc7f4a1684af974e8be03946",
       "style": "IPY_MODEL_0a0d9ca294804cd4a672c28bdc1281de",
       "value": " 10/10 [00:45&lt;00:00,  5.22s/it]"
      }
     },
     "75818cb1d39f4f6a8723dff7e46602f9": {
      "model_module": "@jupyter-widgets/controls",
      "model_module_version": "2.0.0",
      "model_name": "HTMLModel",
      "state": {
       "layout": "IPY_MODEL_c535fae80a7b4c5b83e06c2fc9635948",
       "style": "IPY_MODEL_aad296fb201646b0be9603d6e2323c57",
       "value": " 10/10 [00:42&lt;00:00,  4.12s/it]"
      }
     },
     "76e2f3bbe73e4ae0b3f3f1fec81aa3df": {
      "model_module": "@jupyter-widgets/controls",
      "model_module_version": "2.0.0",
      "model_name": "HTMLModel",
      "state": {
       "layout": "IPY_MODEL_733a9b4b2d454b59a7f6720d83253c41",
       "style": "IPY_MODEL_9e55fecc17974c259359f2687f3db502",
       "value": "100%"
      }
     },
     "7772e2ff49614cd8be9dd6982084af17": {
      "model_module": "@jupyter-widgets/controls",
      "model_module_version": "2.0.0",
      "model_name": "HTMLStyleModel",
      "state": {
       "description_width": "",
       "font_size": null,
       "text_color": null
      }
     },
     "7792e80762d34185950cfb52e2c342b3": {
      "model_module": "@jupyter-widgets/controls",
      "model_module_version": "2.0.0",
      "model_name": "HTMLStyleModel",
      "state": {
       "description_width": "",
       "font_size": null,
       "text_color": null
      }
     },
     "77e6104cb9374453b511e27a63e8a177": {
      "model_module": "@jupyter-widgets/base",
      "model_module_version": "2.0.0",
      "model_name": "LayoutModel",
      "state": {}
     },
     "7809a07181c84f87bd97db4f7456f0bb": {
      "model_module": "@jupyter-widgets/controls",
      "model_module_version": "2.0.0",
      "model_name": "HBoxModel",
      "state": {
       "children": [
        "IPY_MODEL_76e2f3bbe73e4ae0b3f3f1fec81aa3df",
        "IPY_MODEL_ed57530231d843158f37ce0ba28bf501",
        "IPY_MODEL_0fb7ab3c691147e69aabcd4fdbd93e5a"
       ],
       "layout": "IPY_MODEL_20798eb521a24f17b13d7cc28fda4abb"
      }
     },
     "7868bc6d75f34c7b833332f803ba4a6f": {
      "model_module": "@jupyter-widgets/controls",
      "model_module_version": "2.0.0",
      "model_name": "ProgressStyleModel",
      "state": {
       "description_width": ""
      }
     },
     "7876aa4e1e90476fa0df9b223fc73ad2": {
      "model_module": "@jupyter-widgets/controls",
      "model_module_version": "2.0.0",
      "model_name": "HTMLModel",
      "state": {
       "layout": "IPY_MODEL_c84ff250592b4b3bbcf22874bbe2e4b4",
       "style": "IPY_MODEL_3bc9e6eaae5a4a43a8818bdf58ca9450",
       "value": " 10/10 [00:41&lt;00:00,  4.19s/it]"
      }
     },
     "79179ad5bc3c45669343c72d894280d4": {
      "model_module": "@jupyter-widgets/base",
      "model_module_version": "2.0.0",
      "model_name": "LayoutModel",
      "state": {}
     },
     "7b22b45aedcb45d5b9584ef0d66abe27": {
      "model_module": "@jupyter-widgets/controls",
      "model_module_version": "2.0.0",
      "model_name": "HTMLModel",
      "state": {
       "layout": "IPY_MODEL_b87af9799ca541e59711805c1def1710",
       "style": "IPY_MODEL_67802a85cdfd45dea662b3cef2f1e589",
       "value": "100%"
      }
     },
     "7b316e2e4b684f7db27af3df68ef6352": {
      "model_module": "@jupyter-widgets/controls",
      "model_module_version": "2.0.0",
      "model_name": "HTMLStyleModel",
      "state": {
       "description_width": "",
       "font_size": null,
       "text_color": null
      }
     },
     "7c6f072770ca46bda53765bd67d93571": {
      "model_module": "@jupyter-widgets/base",
      "model_module_version": "2.0.0",
      "model_name": "LayoutModel",
      "state": {}
     },
     "7d14bebbca2441c8806cc33b308688b0": {
      "model_module": "@jupyter-widgets/base",
      "model_module_version": "2.0.0",
      "model_name": "LayoutModel",
      "state": {}
     },
     "7d2bb0da8572414e93a5d00e5bd85755": {
      "model_module": "@jupyter-widgets/controls",
      "model_module_version": "2.0.0",
      "model_name": "HTMLStyleModel",
      "state": {
       "description_width": "",
       "font_size": null,
       "text_color": null
      }
     },
     "7d34d10b98c74f66a6f929baf431fb06": {
      "model_module": "@jupyter-widgets/controls",
      "model_module_version": "2.0.0",
      "model_name": "ProgressStyleModel",
      "state": {
       "description_width": ""
      }
     },
     "7e7048c8ddda469890082451acfe1738": {
      "model_module": "@jupyter-widgets/controls",
      "model_module_version": "2.0.0",
      "model_name": "HBoxModel",
      "state": {
       "children": [
        "IPY_MODEL_4cf86273987b434983b82d31ad2eca2e",
        "IPY_MODEL_85c3e6d461ce4984b5ab6d3647bcb0f4",
        "IPY_MODEL_110eed1fa1ef478da73ed7db5e6cdef8"
       ],
       "layout": "IPY_MODEL_8d559255b0ef4b699c7abf5dfe094fb1"
      }
     },
     "7eb6b46922a64844aa81b4e4db034a5c": {
      "model_module": "@jupyter-widgets/controls",
      "model_module_version": "2.0.0",
      "model_name": "ProgressStyleModel",
      "state": {
       "description_width": ""
      }
     },
     "802f7df9ac5c4f3dbb0c16dcfda429fb": {
      "model_module": "@jupyter-widgets/controls",
      "model_module_version": "2.0.0",
      "model_name": "ProgressStyleModel",
      "state": {
       "description_width": ""
      }
     },
     "80cd48902f44480b8a201289d438f98f": {
      "model_module": "@jupyter-widgets/base",
      "model_module_version": "2.0.0",
      "model_name": "LayoutModel",
      "state": {}
     },
     "80f209c44d1e48bdad22407392c1b4fd": {
      "model_module": "@jupyter-widgets/controls",
      "model_module_version": "2.0.0",
      "model_name": "FloatProgressModel",
      "state": {
       "bar_style": "success",
       "layout": "IPY_MODEL_38e24576dcde462da0fc88dd2cfd84ba",
       "max": 10,
       "style": "IPY_MODEL_8bed335c53324fa584f23abc5d260251",
       "value": 10
      }
     },
     "828bbb8f9b23483bb30ce2b4951f55d0": {
      "model_module": "@jupyter-widgets/controls",
      "model_module_version": "2.0.0",
      "model_name": "FloatProgressModel",
      "state": {
       "bar_style": "success",
       "layout": "IPY_MODEL_d60c33dff2b24f3b8144c2bae4d48ca3",
       "max": 10,
       "style": "IPY_MODEL_c3fa0784c67e4793b9af0f3a302d7155",
       "value": 10
      }
     },
     "82c2f694b1444eb48ebc027b7abf5be2": {
      "model_module": "@jupyter-widgets/controls",
      "model_module_version": "2.0.0",
      "model_name": "HTMLStyleModel",
      "state": {
       "description_width": "",
       "font_size": null,
       "text_color": null
      }
     },
     "8323e22718a04a3d8dbeba3a6b508711": {
      "model_module": "@jupyter-widgets/base",
      "model_module_version": "2.0.0",
      "model_name": "LayoutModel",
      "state": {}
     },
     "83c2d40f91c34d0084d9a6e7c8c6d33b": {
      "model_module": "@jupyter-widgets/controls",
      "model_module_version": "2.0.0",
      "model_name": "ProgressStyleModel",
      "state": {
       "description_width": ""
      }
     },
     "83dd6939bf43405cb6c0f12f17eb6a61": {
      "model_module": "@jupyter-widgets/controls",
      "model_module_version": "2.0.0",
      "model_name": "FloatProgressModel",
      "state": {
       "bar_style": "success",
       "layout": "IPY_MODEL_cf82817a15f944ce83bf3ef31a8d5891",
       "max": 10,
       "style": "IPY_MODEL_b63be97420c8456492bfec4ce9ec3369",
       "value": 10
      }
     },
     "83f362e61f2e42448b45cdd81646eb1b": {
      "model_module": "@jupyter-widgets/controls",
      "model_module_version": "2.0.0",
      "model_name": "HTMLModel",
      "state": {
       "layout": "IPY_MODEL_2ba32ac5092345d38339334d6ac9d7f1",
       "style": "IPY_MODEL_f04b1e5bd481443fb1826ca5d9c5f103",
       "value": " 10/10 [00:40&lt;00:00,  4.08s/it]"
      }
     },
     "8499565623fd40db85ce5a0a918f2de4": {
      "model_module": "@jupyter-widgets/base",
      "model_module_version": "2.0.0",
      "model_name": "LayoutModel",
      "state": {}
     },
     "8499da6b015a44bfb93f58bf562d6edc": {
      "model_module": "@jupyter-widgets/base",
      "model_module_version": "2.0.0",
      "model_name": "LayoutModel",
      "state": {}
     },
     "850c09c3f0b145c98f0fbb7dfe248d6d": {
      "model_module": "@jupyter-widgets/controls",
      "model_module_version": "2.0.0",
      "model_name": "HTMLModel",
      "state": {
       "layout": "IPY_MODEL_92ba2217feb647fc98d1df7628839267",
       "style": "IPY_MODEL_e04587d6c24347fea00465f28bbfb909",
       "value": "100%"
      }
     },
     "858e0ba3e6764729b2f630121abc92a7": {
      "model_module": "@jupyter-widgets/controls",
      "model_module_version": "2.0.0",
      "model_name": "HTMLModel",
      "state": {
       "layout": "IPY_MODEL_0d7b958becbf48afa4e7fd56af4ab72d",
       "style": "IPY_MODEL_27bdd27fa90e419587b9cbcc19de3a40",
       "value": "100%"
      }
     },
     "85c3e6d461ce4984b5ab6d3647bcb0f4": {
      "model_module": "@jupyter-widgets/controls",
      "model_module_version": "2.0.0",
      "model_name": "FloatProgressModel",
      "state": {
       "bar_style": "success",
       "layout": "IPY_MODEL_fd7188c45b9746bda47557cdb5adb6db",
       "max": 10,
       "style": "IPY_MODEL_97487c7b4b594ced86b73bb85dab672e",
       "value": 10
      }
     },
     "8609fb2849b64a84b5b8320457a20183": {
      "model_module": "@jupyter-widgets/controls",
      "model_module_version": "2.0.0",
      "model_name": "HTMLStyleModel",
      "state": {
       "description_width": "",
       "font_size": null,
       "text_color": null
      }
     },
     "8622f383c9534ed2bcbe0ae93c2ae66f": {
      "model_module": "@jupyter-widgets/controls",
      "model_module_version": "2.0.0",
      "model_name": "HBoxModel",
      "state": {
       "children": [
        "IPY_MODEL_7b22b45aedcb45d5b9584ef0d66abe27",
        "IPY_MODEL_39bcb056de734c91b8efad7ee22eb891",
        "IPY_MODEL_0ef117eedf4b49d785c908ad65a0230c"
       ],
       "layout": "IPY_MODEL_a2039f6cf2a44b6f82e7f7ac6ed68e41"
      }
     },
     "86a743663c644990aacaa00791e4e6f7": {
      "model_module": "@jupyter-widgets/controls",
      "model_module_version": "2.0.0",
      "model_name": "ProgressStyleModel",
      "state": {
       "description_width": ""
      }
     },
     "87731b7162ed4039a1604ad8eb6c8def": {
      "model_module": "@jupyter-widgets/base",
      "model_module_version": "2.0.0",
      "model_name": "LayoutModel",
      "state": {}
     },
     "8784204ea3884d30a29ed8d5c2075171": {
      "model_module": "@jupyter-widgets/base",
      "model_module_version": "2.0.0",
      "model_name": "LayoutModel",
      "state": {}
     },
     "882b2e546ae74e69b2e45abc329bdebd": {
      "model_module": "@jupyter-widgets/controls",
      "model_module_version": "2.0.0",
      "model_name": "HTMLModel",
      "state": {
       "layout": "IPY_MODEL_8d5a8f6e9ea6412f806183d0fa991700",
       "style": "IPY_MODEL_33729ad9442f4e43b39187c3df0ff858",
       "value": "100%"
      }
     },
     "888f576b1b0e4e5e8c72b5e61866de90": {
      "model_module": "@jupyter-widgets/controls",
      "model_module_version": "2.0.0",
      "model_name": "HTMLStyleModel",
      "state": {
       "description_width": "",
       "font_size": null,
       "text_color": null
      }
     },
     "890085d822fa44fe8d6c8339ab98f775": {
      "model_module": "@jupyter-widgets/controls",
      "model_module_version": "2.0.0",
      "model_name": "FloatProgressModel",
      "state": {
       "bar_style": "success",
       "layout": "IPY_MODEL_c9dc4492919d490dab39e9f151ab72a5",
       "max": 10,
       "style": "IPY_MODEL_73326367119342d0b63f040ebb755905",
       "value": 10
      }
     },
     "893aa0692d394a1baf86a9efd6fd9b6c": {
      "model_module": "@jupyter-widgets/controls",
      "model_module_version": "2.0.0",
      "model_name": "FloatProgressModel",
      "state": {
       "bar_style": "success",
       "layout": "IPY_MODEL_f8cb958526bc4620bcc0a160091b64bf",
       "max": 10,
       "style": "IPY_MODEL_0a187e4b32b843dc8411a673d33b936e",
       "value": 10
      }
     },
     "89f42ae2f1cb467aa0754e2c74c2b045": {
      "model_module": "@jupyter-widgets/controls",
      "model_module_version": "2.0.0",
      "model_name": "HTMLStyleModel",
      "state": {
       "description_width": "",
       "font_size": null,
       "text_color": null
      }
     },
     "8afdbe6bd6c64c15a447b2fcc604feb6": {
      "model_module": "@jupyter-widgets/base",
      "model_module_version": "2.0.0",
      "model_name": "LayoutModel",
      "state": {}
     },
     "8b3b971cc71b45cd8e7ad970e3022710": {
      "model_module": "@jupyter-widgets/controls",
      "model_module_version": "2.0.0",
      "model_name": "ProgressStyleModel",
      "state": {
       "description_width": ""
      }
     },
     "8bed335c53324fa584f23abc5d260251": {
      "model_module": "@jupyter-widgets/controls",
      "model_module_version": "2.0.0",
      "model_name": "ProgressStyleModel",
      "state": {
       "description_width": ""
      }
     },
     "8cd790e614044d4eb56846260a81fa32": {
      "model_module": "@jupyter-widgets/base",
      "model_module_version": "2.0.0",
      "model_name": "LayoutModel",
      "state": {}
     },
     "8cea9992d56e4f6a99fd9e2e77258681": {
      "model_module": "@jupyter-widgets/controls",
      "model_module_version": "2.0.0",
      "model_name": "ProgressStyleModel",
      "state": {
       "description_width": ""
      }
     },
     "8d559255b0ef4b699c7abf5dfe094fb1": {
      "model_module": "@jupyter-widgets/base",
      "model_module_version": "2.0.0",
      "model_name": "LayoutModel",
      "state": {}
     },
     "8d5a8f6e9ea6412f806183d0fa991700": {
      "model_module": "@jupyter-widgets/base",
      "model_module_version": "2.0.0",
      "model_name": "LayoutModel",
      "state": {}
     },
     "8db178b436c34ed08af8e1d6855abc6f": {
      "model_module": "@jupyter-widgets/controls",
      "model_module_version": "2.0.0",
      "model_name": "HTMLModel",
      "state": {
       "layout": "IPY_MODEL_c5f3703372c74ba689fa25ebf9b6006a",
       "style": "IPY_MODEL_03f2b7095099425b8696624242077580",
       "value": " 10/10 [00:40&lt;00:00,  4.08s/it]"
      }
     },
     "8de1766fc37542f5b109bc979b0a3cd7": {
      "model_module": "@jupyter-widgets/controls",
      "model_module_version": "2.0.0",
      "model_name": "HTMLModel",
      "state": {
       "layout": "IPY_MODEL_b586f3161c6145aeb707245ecec8a9c8",
       "style": "IPY_MODEL_50a55e4f0bff45caaaf74d4407c1e51a",
       "value": "100%"
      }
     },
     "8de6de6524724200abbe6f8d851b2eec": {
      "model_module": "@jupyter-widgets/controls",
      "model_module_version": "2.0.0",
      "model_name": "HTMLStyleModel",
      "state": {
       "description_width": "",
       "font_size": null,
       "text_color": null
      }
     },
     "8e693de4fc3d4b9087269613da267c39": {
      "model_module": "@jupyter-widgets/controls",
      "model_module_version": "2.0.0",
      "model_name": "HBoxModel",
      "state": {
       "children": [
        "IPY_MODEL_c2fa9ff80e714c3cb634f15a94e430b4",
        "IPY_MODEL_9bb3b4337e514d72a9f3e8864d7a3b35",
        "IPY_MODEL_8e8080273c674f75ae3a2f08ac1637c7"
       ],
       "layout": "IPY_MODEL_0f01d3531be24860899cb91c59afb6b6"
      }
     },
     "8e8080273c674f75ae3a2f08ac1637c7": {
      "model_module": "@jupyter-widgets/controls",
      "model_module_version": "2.0.0",
      "model_name": "HTMLModel",
      "state": {
       "layout": "IPY_MODEL_1317d770225f4974a815de78189dac8b",
       "style": "IPY_MODEL_d7f4d5ab10694548b293f827af381710",
       "value": " 10/10 [00:39&lt;00:00,  4.05s/it]"
      }
     },
     "8fdcf10bd64840b18afde48519c8e1dc": {
      "model_module": "@jupyter-widgets/base",
      "model_module_version": "2.0.0",
      "model_name": "LayoutModel",
      "state": {}
     },
     "900835be64cb4963bc0e6dc4b95ebf75": {
      "model_module": "@jupyter-widgets/base",
      "model_module_version": "2.0.0",
      "model_name": "LayoutModel",
      "state": {}
     },
     "90cfb4ceb5e4469aa5ca24318236fdb3": {
      "model_module": "@jupyter-widgets/base",
      "model_module_version": "2.0.0",
      "model_name": "LayoutModel",
      "state": {}
     },
     "928b121133e647478c9f7bae058c000c": {
      "model_module": "@jupyter-widgets/controls",
      "model_module_version": "2.0.0",
      "model_name": "HBoxModel",
      "state": {
       "children": [
        "IPY_MODEL_de2dd6b35fee4a89947636ca804814c7",
        "IPY_MODEL_44371fe983864443b77e6d221d9a3c7f",
        "IPY_MODEL_9c6b09fa96f54c909bd4a04e486c8ccd"
       ],
       "layout": "IPY_MODEL_bbe7285a57b2443c85ab65f9c4ec5590"
      }
     },
     "92ba2217feb647fc98d1df7628839267": {
      "model_module": "@jupyter-widgets/base",
      "model_module_version": "2.0.0",
      "model_name": "LayoutModel",
      "state": {}
     },
     "92d914d4d5aa4e18abd80e2743e5e858": {
      "model_module": "@jupyter-widgets/controls",
      "model_module_version": "2.0.0",
      "model_name": "ProgressStyleModel",
      "state": {
       "description_width": ""
      }
     },
     "92d9f7931b3b493e939356933434ba4d": {
      "model_module": "@jupyter-widgets/controls",
      "model_module_version": "2.0.0",
      "model_name": "HTMLModel",
      "state": {
       "layout": "IPY_MODEL_cefb6638d07e49ab9bb64269d2bc59d8",
       "style": "IPY_MODEL_40ec898e5e39459991d9c28318449962",
       "value": "100%"
      }
     },
     "93130c4650984a3784152ef9431bbc72": {
      "model_module": "@jupyter-widgets/base",
      "model_module_version": "2.0.0",
      "model_name": "LayoutModel",
      "state": {}
     },
     "934169a3cc7f4a1684af974e8be03946": {
      "model_module": "@jupyter-widgets/base",
      "model_module_version": "2.0.0",
      "model_name": "LayoutModel",
      "state": {}
     },
     "9343cf0b49134ec48036cb84974109a0": {
      "model_module": "@jupyter-widgets/controls",
      "model_module_version": "2.0.0",
      "model_name": "HTMLModel",
      "state": {
       "layout": "IPY_MODEL_bd9c513c6c1a4784a9b2c8d1df36663c",
       "style": "IPY_MODEL_e9fd620bd2e942a7b7a0025a0b72673e",
       "value": "100%"
      }
     },
     "934f686cf64142cfbd43539e649ba7a3": {
      "model_module": "@jupyter-widgets/controls",
      "model_module_version": "2.0.0",
      "model_name": "HTMLModel",
      "state": {
       "layout": "IPY_MODEL_f85e938db188495da7ce29dfcc24ea3f",
       "style": "IPY_MODEL_9522421a7151443088ea61189408bcd0",
       "value": "100%"
      }
     },
     "9486909f554d41d3937bea2f91c108c9": {
      "model_module": "@jupyter-widgets/controls",
      "model_module_version": "2.0.0",
      "model_name": "HTMLModel",
      "state": {
       "layout": "IPY_MODEL_69c1d549287043fca31887a4a9227ea5",
       "style": "IPY_MODEL_9defb7a7f9984971a982609cef26e0b2",
       "value": " 10/10 [00:41&lt;00:00,  4.18s/it]"
      }
     },
     "94f2328a251f412b9ea3aa2c8b2a3a45": {
      "model_module": "@jupyter-widgets/controls",
      "model_module_version": "2.0.0",
      "model_name": "HTMLModel",
      "state": {
       "layout": "IPY_MODEL_f9cab8a5a55545c981e52a9aae241fbb",
       "style": "IPY_MODEL_6af8df82035a4b3ca5acaefa24840ea5",
       "value": "100%"
      }
     },
     "9522421a7151443088ea61189408bcd0": {
      "model_module": "@jupyter-widgets/controls",
      "model_module_version": "2.0.0",
      "model_name": "HTMLStyleModel",
      "state": {
       "description_width": "",
       "font_size": null,
       "text_color": null
      }
     },
     "95f41ff16a4c497c9075954d475c430b": {
      "model_module": "@jupyter-widgets/base",
      "model_module_version": "2.0.0",
      "model_name": "LayoutModel",
      "state": {}
     },
     "963b36a68d5f4d1abc9f6dbd56e0dc8f": {
      "model_module": "@jupyter-widgets/controls",
      "model_module_version": "2.0.0",
      "model_name": "HTMLStyleModel",
      "state": {
       "description_width": "",
       "font_size": null,
       "text_color": null
      }
     },
     "9663196d05ee4a08a8574377b0882f3c": {
      "model_module": "@jupyter-widgets/base",
      "model_module_version": "2.0.0",
      "model_name": "LayoutModel",
      "state": {}
     },
     "96644c7dbf6e4b6cb0c9ee2073725f29": {
      "model_module": "@jupyter-widgets/base",
      "model_module_version": "2.0.0",
      "model_name": "LayoutModel",
      "state": {}
     },
     "96b43b6ab5c04b80b13e264838a582c4": {
      "model_module": "@jupyter-widgets/base",
      "model_module_version": "2.0.0",
      "model_name": "LayoutModel",
      "state": {}
     },
     "97487c7b4b594ced86b73bb85dab672e": {
      "model_module": "@jupyter-widgets/controls",
      "model_module_version": "2.0.0",
      "model_name": "ProgressStyleModel",
      "state": {
       "description_width": ""
      }
     },
     "98e1f188245245bcb2d56b5f1242f882": {
      "model_module": "@jupyter-widgets/base",
      "model_module_version": "2.0.0",
      "model_name": "LayoutModel",
      "state": {}
     },
     "993e74c8d9944604b0f690c22a83e76c": {
      "model_module": "@jupyter-widgets/controls",
      "model_module_version": "2.0.0",
      "model_name": "HTMLModel",
      "state": {
       "layout": "IPY_MODEL_8499da6b015a44bfb93f58bf562d6edc",
       "style": "IPY_MODEL_b20be2aec5454977a77c84c1dfa1968b",
       "value": " 10/10 [00:54&lt;00:00,  5.28s/it]"
      }
     },
     "996b1b801dc84233885ce9b2bde79ec3": {
      "model_module": "@jupyter-widgets/controls",
      "model_module_version": "2.0.0",
      "model_name": "HTMLStyleModel",
      "state": {
       "description_width": "",
       "font_size": null,
       "text_color": null
      }
     },
     "99a230fd04e5404d94fb3682f1b97cc1": {
      "model_module": "@jupyter-widgets/base",
      "model_module_version": "2.0.0",
      "model_name": "LayoutModel",
      "state": {}
     },
     "99e27257444c4868b9097d024f503c15": {
      "model_module": "@jupyter-widgets/controls",
      "model_module_version": "2.0.0",
      "model_name": "ProgressStyleModel",
      "state": {
       "description_width": ""
      }
     },
     "9aef14448da1418eaf2e6261cf39b82c": {
      "model_module": "@jupyter-widgets/controls",
      "model_module_version": "2.0.0",
      "model_name": "HTMLModel",
      "state": {
       "layout": "IPY_MODEL_6f57f17e1d3f41ebad816fa9a61c1d24",
       "style": "IPY_MODEL_a3481350fb41436fb228695b89def7fd",
       "value": " 10/10 [00:41&lt;00:00,  4.22s/it]"
      }
     },
     "9b3e930b79b9460f8d0dbc273be851a3": {
      "model_module": "@jupyter-widgets/controls",
      "model_module_version": "2.0.0",
      "model_name": "ProgressStyleModel",
      "state": {
       "description_width": ""
      }
     },
     "9bb3b4337e514d72a9f3e8864d7a3b35": {
      "model_module": "@jupyter-widgets/controls",
      "model_module_version": "2.0.0",
      "model_name": "FloatProgressModel",
      "state": {
       "bar_style": "success",
       "layout": "IPY_MODEL_491e1100ae054de4880a84371475326b",
       "max": 10,
       "style": "IPY_MODEL_cffdf6ab8bec49d39ae58d20b80e1121",
       "value": 10
      }
     },
     "9bb62487f2fc48338eade8c3f807c7ea": {
      "model_module": "@jupyter-widgets/base",
      "model_module_version": "2.0.0",
      "model_name": "LayoutModel",
      "state": {}
     },
     "9c0626469bc04fcfa024d9d18e4fda20": {
      "model_module": "@jupyter-widgets/base",
      "model_module_version": "2.0.0",
      "model_name": "LayoutModel",
      "state": {}
     },
     "9c43f868745d40bba7d943b86f888352": {
      "model_module": "@jupyter-widgets/base",
      "model_module_version": "2.0.0",
      "model_name": "LayoutModel",
      "state": {}
     },
     "9c6b09fa96f54c909bd4a04e486c8ccd": {
      "model_module": "@jupyter-widgets/controls",
      "model_module_version": "2.0.0",
      "model_name": "HTMLModel",
      "state": {
       "layout": "IPY_MODEL_fa71e8bf5a7f43a4a97e7c5b61a954d7",
       "style": "IPY_MODEL_888f576b1b0e4e5e8c72b5e61866de90",
       "value": " 10/10 [00:48&lt;00:00,  4.99s/it]"
      }
     },
     "9defb7a7f9984971a982609cef26e0b2": {
      "model_module": "@jupyter-widgets/controls",
      "model_module_version": "2.0.0",
      "model_name": "HTMLStyleModel",
      "state": {
       "description_width": "",
       "font_size": null,
       "text_color": null
      }
     },
     "9e111d880d284b329941ee591935507f": {
      "model_module": "@jupyter-widgets/controls",
      "model_module_version": "2.0.0",
      "model_name": "HTMLModel",
      "state": {
       "layout": "IPY_MODEL_99a230fd04e5404d94fb3682f1b97cc1",
       "style": "IPY_MODEL_4e622b5b512f4438876157d60fa50835",
       "value": "100%"
      }
     },
     "9e55fecc17974c259359f2687f3db502": {
      "model_module": "@jupyter-widgets/controls",
      "model_module_version": "2.0.0",
      "model_name": "HTMLStyleModel",
      "state": {
       "description_width": "",
       "font_size": null,
       "text_color": null
      }
     },
     "9f01dc0b6b464f0db095a6bf54911e41": {
      "model_module": "@jupyter-widgets/base",
      "model_module_version": "2.0.0",
      "model_name": "LayoutModel",
      "state": {}
     },
     "9faf41046a104f49a2199e287a786dec": {
      "model_module": "@jupyter-widgets/base",
      "model_module_version": "2.0.0",
      "model_name": "LayoutModel",
      "state": {}
     },
     "a09c9010cf9a4eb3b8c40ffceb403267": {
      "model_module": "@jupyter-widgets/base",
      "model_module_version": "2.0.0",
      "model_name": "LayoutModel",
      "state": {}
     },
     "a0e8d48fca234a2a9ef8ed874ea579a1": {
      "model_module": "@jupyter-widgets/base",
      "model_module_version": "2.0.0",
      "model_name": "LayoutModel",
      "state": {}
     },
     "a1b046e25ec440cab9fdfffd90c1a232": {
      "model_module": "@jupyter-widgets/controls",
      "model_module_version": "2.0.0",
      "model_name": "HTMLStyleModel",
      "state": {
       "description_width": "",
       "font_size": null,
       "text_color": null
      }
     },
     "a1d02bd76a924529b6bea621067dfedf": {
      "model_module": "@jupyter-widgets/controls",
      "model_module_version": "2.0.0",
      "model_name": "HTMLModel",
      "state": {
       "layout": "IPY_MODEL_f47c78f02f514d208bbe3d9097f2e90f",
       "style": "IPY_MODEL_bc442eba36b3440abd62de1992f76ae0",
       "value": "100%"
      }
     },
     "a1d5770d25554528b754ef9551fb71dc": {
      "model_module": "@jupyter-widgets/controls",
      "model_module_version": "2.0.0",
      "model_name": "ProgressStyleModel",
      "state": {
       "description_width": ""
      }
     },
     "a1fe202bbf4a41e68e9fff2970d77f5c": {
      "model_module": "@jupyter-widgets/base",
      "model_module_version": "2.0.0",
      "model_name": "LayoutModel",
      "state": {}
     },
     "a2039f6cf2a44b6f82e7f7ac6ed68e41": {
      "model_module": "@jupyter-widgets/base",
      "model_module_version": "2.0.0",
      "model_name": "LayoutModel",
      "state": {}
     },
     "a3481350fb41436fb228695b89def7fd": {
      "model_module": "@jupyter-widgets/controls",
      "model_module_version": "2.0.0",
      "model_name": "HTMLStyleModel",
      "state": {
       "description_width": "",
       "font_size": null,
       "text_color": null
      }
     },
     "a3589649e98b4f1d9ad775d2931b0e5a": {
      "model_module": "@jupyter-widgets/controls",
      "model_module_version": "2.0.0",
      "model_name": "HTMLStyleModel",
      "state": {
       "description_width": "",
       "font_size": null,
       "text_color": null
      }
     },
     "a3670b8fe49e41b89c6f85abfcb11a0d": {
      "model_module": "@jupyter-widgets/base",
      "model_module_version": "2.0.0",
      "model_name": "LayoutModel",
      "state": {}
     },
     "a3ba8ea42cde4a0a8fd64d38b2e8cd6c": {
      "model_module": "@jupyter-widgets/base",
      "model_module_version": "2.0.0",
      "model_name": "LayoutModel",
      "state": {}
     },
     "a3c9e530c0094e5aaba6ed36f1871642": {
      "model_module": "@jupyter-widgets/base",
      "model_module_version": "2.0.0",
      "model_name": "LayoutModel",
      "state": {}
     },
     "a4722f3ceed54d43807fb18c8131c28c": {
      "model_module": "@jupyter-widgets/controls",
      "model_module_version": "2.0.0",
      "model_name": "HTMLStyleModel",
      "state": {
       "description_width": "",
       "font_size": null,
       "text_color": null
      }
     },
     "a4f1bb72b3d44c14936fe1a2bf8ebeb7": {
      "model_module": "@jupyter-widgets/base",
      "model_module_version": "2.0.0",
      "model_name": "LayoutModel",
      "state": {}
     },
     "a5b791cf72b0498683be099a146645ab": {
      "model_module": "@jupyter-widgets/base",
      "model_module_version": "2.0.0",
      "model_name": "LayoutModel",
      "state": {}
     },
     "a60f077b88b449e6ac66af1c2a2b4715": {
      "model_module": "@jupyter-widgets/controls",
      "model_module_version": "2.0.0",
      "model_name": "HBoxModel",
      "state": {
       "children": [
        "IPY_MODEL_130f39d23d834be3800ac782266e4732",
        "IPY_MODEL_2d853fdb7f4e49c3a7a4df678c3edd41",
        "IPY_MODEL_ee714ceb528d40f0b6eed2d6761dc239"
       ],
       "layout": "IPY_MODEL_65f35c11eca24dba88206bd8ea2c3439"
      }
     },
     "a6a3fcf00d80472f87d1978c014db48a": {
      "model_module": "@jupyter-widgets/base",
      "model_module_version": "2.0.0",
      "model_name": "LayoutModel",
      "state": {}
     },
     "a750381a4f1c4b9f98d1dab472c47948": {
      "model_module": "@jupyter-widgets/controls",
      "model_module_version": "2.0.0",
      "model_name": "HBoxModel",
      "state": {
       "children": [
        "IPY_MODEL_2a0bba130a8d4bb9aa51969cecdc9da0",
        "IPY_MODEL_64d0ecba6d664636a548c9ffad5ea4b0",
        "IPY_MODEL_0840da2cbd43438d8298686702108208"
       ],
       "layout": "IPY_MODEL_33b55985007e48918118b5eefd19aa0f"
      }
     },
     "a7766459aedd4645b836ecc94cc9316a": {
      "model_module": "@jupyter-widgets/controls",
      "model_module_version": "2.0.0",
      "model_name": "HTMLStyleModel",
      "state": {
       "description_width": "",
       "font_size": null,
       "text_color": null
      }
     },
     "a794dc4ebf924613a263e05a4a715ba3": {
      "model_module": "@jupyter-widgets/base",
      "model_module_version": "2.0.0",
      "model_name": "LayoutModel",
      "state": {}
     },
     "a7e0e5b3607c4fb48e533adc99e1863b": {
      "model_module": "@jupyter-widgets/controls",
      "model_module_version": "2.0.0",
      "model_name": "ProgressStyleModel",
      "state": {
       "description_width": ""
      }
     },
     "a81992356db645aeadb23140bde7f437": {
      "model_module": "@jupyter-widgets/controls",
      "model_module_version": "2.0.0",
      "model_name": "ProgressStyleModel",
      "state": {
       "description_width": ""
      }
     },
     "a83dacbe7bc8458fa8b9613ad0fae060": {
      "model_module": "@jupyter-widgets/controls",
      "model_module_version": "2.0.0",
      "model_name": "HBoxModel",
      "state": {
       "children": [
        "IPY_MODEL_2593b058858d4806a4ddbd7b0e30f203",
        "IPY_MODEL_e535447072d3435a92b06e098d3c254b",
        "IPY_MODEL_0b16d1670e194659b1abdd3e8018ceb9"
       ],
       "layout": "IPY_MODEL_6ffa1d9f325e438a9ead4823afd45e23"
      }
     },
     "a86d281b2436482bb962464bd2abb72f": {
      "model_module": "@jupyter-widgets/controls",
      "model_module_version": "2.0.0",
      "model_name": "FloatProgressModel",
      "state": {
       "bar_style": "success",
       "layout": "IPY_MODEL_b78d51c2aa36450bbe555fe9759f52c3",
       "max": 10,
       "style": "IPY_MODEL_e0811f686ab64f308f5ec1597858b45d",
       "value": 10
      }
     },
     "aa38e4e9376949c286aaaa64679f063b": {
      "model_module": "@jupyter-widgets/controls",
      "model_module_version": "2.0.0",
      "model_name": "HTMLModel",
      "state": {
       "layout": "IPY_MODEL_57cada2c70b0429181218a07735cd2fb",
       "style": "IPY_MODEL_1b3046866c0740119c5cab471a1e94d0",
       "value": " 10/10 [00:39&lt;00:00,  3.93s/it]"
      }
     },
     "aac6ff0a462745daa658b5ee11320561": {
      "model_module": "@jupyter-widgets/controls",
      "model_module_version": "2.0.0",
      "model_name": "HBoxModel",
      "state": {
       "children": [
        "IPY_MODEL_abad7e23207d415b9588e68e3243dadc",
        "IPY_MODEL_b49385d3d3e54f47baab3496fb0be8c1",
        "IPY_MODEL_37b885c6bff3415d89e7e7016b5a4b75"
       ],
       "layout": "IPY_MODEL_692df44cf5284aa59357e5928dc49916"
      }
     },
     "aad296fb201646b0be9603d6e2323c57": {
      "model_module": "@jupyter-widgets/controls",
      "model_module_version": "2.0.0",
      "model_name": "HTMLStyleModel",
      "state": {
       "description_width": "",
       "font_size": null,
       "text_color": null
      }
     },
     "ab1932bf5c714c60a9aa4d55df5a9844": {
      "model_module": "@jupyter-widgets/controls",
      "model_module_version": "2.0.0",
      "model_name": "HBoxModel",
      "state": {
       "children": [
        "IPY_MODEL_882b2e546ae74e69b2e45abc329bdebd",
        "IPY_MODEL_70f7e995a0934a57a909dfd265d17690",
        "IPY_MODEL_466809a736a741019821402db0531dc1"
       ],
       "layout": "IPY_MODEL_1ad25b5ff8264c6cac8c5d30f36a786a"
      }
     },
     "ab25e095533b4df0be022124d488bee2": {
      "model_module": "@jupyter-widgets/base",
      "model_module_version": "2.0.0",
      "model_name": "LayoutModel",
      "state": {}
     },
     "ab9523bdc9bc4a0d9206d99df7ec0b47": {
      "model_module": "@jupyter-widgets/base",
      "model_module_version": "2.0.0",
      "model_name": "LayoutModel",
      "state": {}
     },
     "abad7e23207d415b9588e68e3243dadc": {
      "model_module": "@jupyter-widgets/controls",
      "model_module_version": "2.0.0",
      "model_name": "HTMLModel",
      "state": {
       "layout": "IPY_MODEL_e6269245186a4c6388fef1ad02fc098c",
       "style": "IPY_MODEL_cb9a97e3cc3f471baa9be777800b8535",
       "value": "100%"
      }
     },
     "abc8c49a5850416d9fdcee5b33ecc6d0": {
      "model_module": "@jupyter-widgets/controls",
      "model_module_version": "2.0.0",
      "model_name": "HTMLModel",
      "state": {
       "layout": "IPY_MODEL_b06441b9996943328f85f64b4ae1ba1c",
       "style": "IPY_MODEL_5d3db53a90fe4987ab752acce98c2126",
       "value": "100%"
      }
     },
     "abea4cebb03e42728e504296a345f08b": {
      "model_module": "@jupyter-widgets/controls",
      "model_module_version": "2.0.0",
      "model_name": "FloatProgressModel",
      "state": {
       "bar_style": "success",
       "layout": "IPY_MODEL_80cd48902f44480b8a201289d438f98f",
       "max": 10,
       "style": "IPY_MODEL_b0c0451a25d64d518432c7272f4c7b40",
       "value": 10
      }
     },
     "ac091b937723412ab48431e96fef8474": {
      "model_module": "@jupyter-widgets/controls",
      "model_module_version": "2.0.0",
      "model_name": "HBoxModel",
      "state": {
       "children": [
        "IPY_MODEL_850c09c3f0b145c98f0fbb7dfe248d6d",
        "IPY_MODEL_675fcf1648404cda8ea677ac692b1e7b",
        "IPY_MODEL_c44faba8bdb046ee846784fe63bc4865"
       ],
       "layout": "IPY_MODEL_ee388357a91448978df8deaae6b836d7"
      }
     },
     "ac70c3d3612f425cbde9de7a047bf74d": {
      "model_module": "@jupyter-widgets/base",
      "model_module_version": "2.0.0",
      "model_name": "LayoutModel",
      "state": {}
     },
     "ae067dadb017480198999cbc8dc60f98": {
      "model_module": "@jupyter-widgets/controls",
      "model_module_version": "2.0.0",
      "model_name": "ProgressStyleModel",
      "state": {
       "description_width": ""
      }
     },
     "ae4f6e3a4070460aadfd19a0a5a4646d": {
      "model_module": "@jupyter-widgets/controls",
      "model_module_version": "2.0.0",
      "model_name": "ProgressStyleModel",
      "state": {
       "description_width": ""
      }
     },
     "ae807ec7d92f43ecbc548cf3b91d7004": {
      "model_module": "@jupyter-widgets/base",
      "model_module_version": "2.0.0",
      "model_name": "LayoutModel",
      "state": {}
     },
     "aea25c9752c14b51bcb58f3983cbd18f": {
      "model_module": "@jupyter-widgets/base",
      "model_module_version": "2.0.0",
      "model_name": "LayoutModel",
      "state": {}
     },
     "b06441b9996943328f85f64b4ae1ba1c": {
      "model_module": "@jupyter-widgets/base",
      "model_module_version": "2.0.0",
      "model_name": "LayoutModel",
      "state": {}
     },
     "b0c0451a25d64d518432c7272f4c7b40": {
      "model_module": "@jupyter-widgets/controls",
      "model_module_version": "2.0.0",
      "model_name": "ProgressStyleModel",
      "state": {
       "description_width": ""
      }
     },
     "b17eab21b10c4ecb82827c4efc6e98ce": {
      "model_module": "@jupyter-widgets/base",
      "model_module_version": "2.0.0",
      "model_name": "LayoutModel",
      "state": {}
     },
     "b20be2aec5454977a77c84c1dfa1968b": {
      "model_module": "@jupyter-widgets/controls",
      "model_module_version": "2.0.0",
      "model_name": "HTMLStyleModel",
      "state": {
       "description_width": "",
       "font_size": null,
       "text_color": null
      }
     },
     "b3c696e842df4c428353ef3b1975175c": {
      "model_module": "@jupyter-widgets/base",
      "model_module_version": "2.0.0",
      "model_name": "LayoutModel",
      "state": {}
     },
     "b49385d3d3e54f47baab3496fb0be8c1": {
      "model_module": "@jupyter-widgets/controls",
      "model_module_version": "2.0.0",
      "model_name": "FloatProgressModel",
      "state": {
       "bar_style": "success",
       "layout": "IPY_MODEL_613a32b9d2894590aa7ff2d428e159e3",
       "max": 10,
       "style": "IPY_MODEL_533c6e1d042f422f98cd57ff471888e4",
       "value": 10
      }
     },
     "b53ae3151c154dedaf89334384207e84": {
      "model_module": "@jupyter-widgets/controls",
      "model_module_version": "2.0.0",
      "model_name": "ProgressStyleModel",
      "state": {
       "description_width": ""
      }
     },
     "b544a6223bef4c75995fa85147f68b72": {
      "model_module": "@jupyter-widgets/controls",
      "model_module_version": "2.0.0",
      "model_name": "HBoxModel",
      "state": {
       "children": [
        "IPY_MODEL_3fd9fc4207aa4da983dddd312aeb2a3c",
        "IPY_MODEL_1be76c163a7d4055b2b893f7f03cb100",
        "IPY_MODEL_086a8c0c762c457680f4bc6e3c98c496"
       ],
       "layout": "IPY_MODEL_aea25c9752c14b51bcb58f3983cbd18f"
      }
     },
     "b56cae75a18a4fefb7c9a95616c83ff1": {
      "model_module": "@jupyter-widgets/base",
      "model_module_version": "2.0.0",
      "model_name": "LayoutModel",
      "state": {}
     },
     "b586f3161c6145aeb707245ecec8a9c8": {
      "model_module": "@jupyter-widgets/base",
      "model_module_version": "2.0.0",
      "model_name": "LayoutModel",
      "state": {}
     },
     "b5ba489c0fe24fd1a4c1be32e38e7431": {
      "model_module": "@jupyter-widgets/base",
      "model_module_version": "2.0.0",
      "model_name": "LayoutModel",
      "state": {}
     },
     "b5c380d577d841f09a754c0bd4810dc5": {
      "model_module": "@jupyter-widgets/controls",
      "model_module_version": "2.0.0",
      "model_name": "HBoxModel",
      "state": {
       "children": [
        "IPY_MODEL_3cd43c853403454789e777e866068b3c",
        "IPY_MODEL_ca2289bc6ffd404ca155647c082de0da",
        "IPY_MODEL_70528dff3e8b47479d35854dd1a1cacd"
       ],
       "layout": "IPY_MODEL_532aa4d784f04040bf4b5cb34aee14f3"
      }
     },
     "b622ba7287a240788b201563e4daa56b": {
      "model_module": "@jupyter-widgets/controls",
      "model_module_version": "2.0.0",
      "model_name": "FloatProgressModel",
      "state": {
       "bar_style": "success",
       "layout": "IPY_MODEL_fb61b64fa31944f492f7193bd90090b5",
       "max": 10,
       "style": "IPY_MODEL_9b3e930b79b9460f8d0dbc273be851a3",
       "value": 10
      }
     },
     "b63be97420c8456492bfec4ce9ec3369": {
      "model_module": "@jupyter-widgets/controls",
      "model_module_version": "2.0.0",
      "model_name": "ProgressStyleModel",
      "state": {
       "description_width": ""
      }
     },
     "b6626b867aba411e8770732790fd56df": {
      "model_module": "@jupyter-widgets/base",
      "model_module_version": "2.0.0",
      "model_name": "LayoutModel",
      "state": {}
     },
     "b6aaeac19bf241fa9869d99292dabd63": {
      "model_module": "@jupyter-widgets/base",
      "model_module_version": "2.0.0",
      "model_name": "LayoutModel",
      "state": {}
     },
     "b70f3ae04ede4809a4492169ca7ca377": {
      "model_module": "@jupyter-widgets/controls",
      "model_module_version": "2.0.0",
      "model_name": "HTMLModel",
      "state": {
       "layout": "IPY_MODEL_98e1f188245245bcb2d56b5f1242f882",
       "style": "IPY_MODEL_bf888d2c11f148f68b12d0b9ff4bb28b",
       "value": " 10/10 [00:41&lt;00:00,  4.19s/it]"
      }
     },
     "b78d51c2aa36450bbe555fe9759f52c3": {
      "model_module": "@jupyter-widgets/base",
      "model_module_version": "2.0.0",
      "model_name": "LayoutModel",
      "state": {}
     },
     "b7be92aa09ca40d7be4d05ee02084b4f": {
      "model_module": "@jupyter-widgets/controls",
      "model_module_version": "2.0.0",
      "model_name": "ProgressStyleModel",
      "state": {
       "description_width": ""
      }
     },
     "b87af9799ca541e59711805c1def1710": {
      "model_module": "@jupyter-widgets/base",
      "model_module_version": "2.0.0",
      "model_name": "LayoutModel",
      "state": {}
     },
     "b89c644834d5409489176f722956609c": {
      "model_module": "@jupyter-widgets/controls",
      "model_module_version": "2.0.0",
      "model_name": "HTMLStyleModel",
      "state": {
       "description_width": "",
       "font_size": null,
       "text_color": null
      }
     },
     "b8d290af5ed147e49e68e8c40abacb02": {
      "model_module": "@jupyter-widgets/base",
      "model_module_version": "2.0.0",
      "model_name": "LayoutModel",
      "state": {}
     },
     "b8d72fd598454bc9b10db8b3a0753b45": {
      "model_module": "@jupyter-widgets/controls",
      "model_module_version": "2.0.0",
      "model_name": "ProgressStyleModel",
      "state": {
       "description_width": ""
      }
     },
     "b8f2210badb5457baf3d1fc7e80d02dc": {
      "model_module": "@jupyter-widgets/controls",
      "model_module_version": "2.0.0",
      "model_name": "HTMLModel",
      "state": {
       "layout": "IPY_MODEL_e279eee401c34ca0ac96279e53f18be2",
       "style": "IPY_MODEL_6cfa0968714a4bafa115c99bbbebcebb",
       "value": "100%"
      }
     },
     "b91d28e7de434b389672ee550718dd92": {
      "model_module": "@jupyter-widgets/controls",
      "model_module_version": "2.0.0",
      "model_name": "HTMLModel",
      "state": {
       "layout": "IPY_MODEL_e78406780edd42318724e98bf1e0e637",
       "style": "IPY_MODEL_f70e9711b3194372a55556ad8ff12511",
       "value": " 10/10 [00:41&lt;00:00,  4.04s/it]"
      }
     },
     "ba29ab368e5c4e60a7b6d01e723f4d13": {
      "model_module": "@jupyter-widgets/base",
      "model_module_version": "2.0.0",
      "model_name": "LayoutModel",
      "state": {}
     },
     "ba3d62f362e348f7bdb52a39731b28a3": {
      "model_module": "@jupyter-widgets/base",
      "model_module_version": "2.0.0",
      "model_name": "LayoutModel",
      "state": {}
     },
     "ba7285786c24496dbd43bd1730801cc1": {
      "model_module": "@jupyter-widgets/base",
      "model_module_version": "2.0.0",
      "model_name": "LayoutModel",
      "state": {}
     },
     "bb5d5d938be84d10b5beb412c700299c": {
      "model_module": "@jupyter-widgets/base",
      "model_module_version": "2.0.0",
      "model_name": "LayoutModel",
      "state": {}
     },
     "bbe7285a57b2443c85ab65f9c4ec5590": {
      "model_module": "@jupyter-widgets/base",
      "model_module_version": "2.0.0",
      "model_name": "LayoutModel",
      "state": {}
     },
     "bc442eba36b3440abd62de1992f76ae0": {
      "model_module": "@jupyter-widgets/controls",
      "model_module_version": "2.0.0",
      "model_name": "HTMLStyleModel",
      "state": {
       "description_width": "",
       "font_size": null,
       "text_color": null
      }
     },
     "bcbefa533af04a9c8715ccc351cb0d37": {
      "model_module": "@jupyter-widgets/controls",
      "model_module_version": "2.0.0",
      "model_name": "HBoxModel",
      "state": {
       "children": [
        "IPY_MODEL_92d9f7931b3b493e939356933434ba4d",
        "IPY_MODEL_116d76a6c9a544a19d5438f157b2be18",
        "IPY_MODEL_4080b77b1903444793a16add375004ee"
       ],
       "layout": "IPY_MODEL_a4f1bb72b3d44c14936fe1a2bf8ebeb7"
      }
     },
     "bd2c16d41738431fb0525edbb9aca890": {
      "model_module": "@jupyter-widgets/base",
      "model_module_version": "2.0.0",
      "model_name": "LayoutModel",
      "state": {}
     },
     "bd84007566f5461690fdd4f569e4d667": {
      "model_module": "@jupyter-widgets/controls",
      "model_module_version": "2.0.0",
      "model_name": "HTMLModel",
      "state": {
       "layout": "IPY_MODEL_a6a3fcf00d80472f87d1978c014db48a",
       "style": "IPY_MODEL_609b995786b048b583d71ccf800a1062",
       "value": " 10/10 [00:42&lt;00:00,  4.17s/it]"
      }
     },
     "bd9c513c6c1a4784a9b2c8d1df36663c": {
      "model_module": "@jupyter-widgets/base",
      "model_module_version": "2.0.0",
      "model_name": "LayoutModel",
      "state": {}
     },
     "befef39becff4422af78e3bb6d142f70": {
      "model_module": "@jupyter-widgets/controls",
      "model_module_version": "2.0.0",
      "model_name": "HTMLModel",
      "state": {
       "layout": "IPY_MODEL_34fdb77bee0540e09803d4633c69fd32",
       "style": "IPY_MODEL_5e7d8e7d8bd24f8d93c9888712c17302",
       "value": " 10/10 [00:41&lt;00:00,  4.17s/it]"
      }
     },
     "bf888d2c11f148f68b12d0b9ff4bb28b": {
      "model_module": "@jupyter-widgets/controls",
      "model_module_version": "2.0.0",
      "model_name": "HTMLStyleModel",
      "state": {
       "description_width": "",
       "font_size": null,
       "text_color": null
      }
     },
     "c0334627ce4649219c40c15486967cbf": {
      "model_module": "@jupyter-widgets/controls",
      "model_module_version": "2.0.0",
      "model_name": "FloatProgressModel",
      "state": {
       "bar_style": "success",
       "layout": "IPY_MODEL_e3bd266ae24544849cab074f58e31f53",
       "max": 10,
       "style": "IPY_MODEL_2be5cfa79e4046c89e9fd2a3d932d548",
       "value": 10
      }
     },
     "c06834f0a0c7456a9eb5fc63ef37ef89": {
      "model_module": "@jupyter-widgets/controls",
      "model_module_version": "2.0.0",
      "model_name": "HBoxModel",
      "state": {
       "children": [
        "IPY_MODEL_6f181927b95046a7bb480637dfed688c",
        "IPY_MODEL_fb172fb65e114de8a11286276f0c1a55",
        "IPY_MODEL_7876aa4e1e90476fa0df9b223fc73ad2"
       ],
       "layout": "IPY_MODEL_9f01dc0b6b464f0db095a6bf54911e41"
      }
     },
     "c0ee34430a2a4dd08e5a4051254551a2": {
      "model_module": "@jupyter-widgets/base",
      "model_module_version": "2.0.0",
      "model_name": "LayoutModel",
      "state": {}
     },
     "c10463ae077143659dc0e1c120888f92": {
      "model_module": "@jupyter-widgets/controls",
      "model_module_version": "2.0.0",
      "model_name": "ProgressStyleModel",
      "state": {
       "description_width": ""
      }
     },
     "c119b45273bb44108fe114ae4d3aa6e2": {
      "model_module": "@jupyter-widgets/base",
      "model_module_version": "2.0.0",
      "model_name": "LayoutModel",
      "state": {}
     },
     "c289320d74e24867ae74cdd01ceed6f9": {
      "model_module": "@jupyter-widgets/base",
      "model_module_version": "2.0.0",
      "model_name": "LayoutModel",
      "state": {}
     },
     "c2fa9ff80e714c3cb634f15a94e430b4": {
      "model_module": "@jupyter-widgets/controls",
      "model_module_version": "2.0.0",
      "model_name": "HTMLModel",
      "state": {
       "layout": "IPY_MODEL_0a14e02f260e496d97ee71bcdb4326bf",
       "style": "IPY_MODEL_4f93fc9abb2448ec8181eea0166a76e1",
       "value": "100%"
      }
     },
     "c36f06f50a7047c7b0eec6a7c9003873": {
      "model_module": "@jupyter-widgets/controls",
      "model_module_version": "2.0.0",
      "model_name": "HTMLModel",
      "state": {
       "layout": "IPY_MODEL_b6aaeac19bf241fa9869d99292dabd63",
       "style": "IPY_MODEL_6951209b4a8a46d695be50f2e6daf64d",
       "value": "100%"
      }
     },
     "c3f5a0656e844095abfc6351e49006d8": {
      "model_module": "@jupyter-widgets/base",
      "model_module_version": "2.0.0",
      "model_name": "LayoutModel",
      "state": {}
     },
     "c3fa0784c67e4793b9af0f3a302d7155": {
      "model_module": "@jupyter-widgets/controls",
      "model_module_version": "2.0.0",
      "model_name": "ProgressStyleModel",
      "state": {
       "description_width": ""
      }
     },
     "c4276279b31c4527bd595bbb648253d9": {
      "model_module": "@jupyter-widgets/controls",
      "model_module_version": "2.0.0",
      "model_name": "HTMLStyleModel",
      "state": {
       "description_width": "",
       "font_size": null,
       "text_color": null
      }
     },
     "c44faba8bdb046ee846784fe63bc4865": {
      "model_module": "@jupyter-widgets/controls",
      "model_module_version": "2.0.0",
      "model_name": "HTMLModel",
      "state": {
       "layout": "IPY_MODEL_69f75a658bdc4b3f91327872043a3819",
       "style": "IPY_MODEL_54e48393dcc841959672206344fee1f6",
       "value": " 10/10 [00:42&lt;00:00,  4.28s/it]"
      }
     },
     "c45babe376c34d4f9839267c3d718c72": {
      "model_module": "@jupyter-widgets/controls",
      "model_module_version": "2.0.0",
      "model_name": "HTMLModel",
      "state": {
       "layout": "IPY_MODEL_1d2e9f97d9f14637aba9df93260d556f",
       "style": "IPY_MODEL_f72aa6dc4f74422e9abe30733c787f00",
       "value": "100%"
      }
     },
     "c45e0aabd75e417ba479d11b9eb134b8": {
      "model_module": "@jupyter-widgets/base",
      "model_module_version": "2.0.0",
      "model_name": "LayoutModel",
      "state": {}
     },
     "c52429facc214c2998219f676f18dd7f": {
      "model_module": "@jupyter-widgets/base",
      "model_module_version": "2.0.0",
      "model_name": "LayoutModel",
      "state": {}
     },
     "c535fae80a7b4c5b83e06c2fc9635948": {
      "model_module": "@jupyter-widgets/base",
      "model_module_version": "2.0.0",
      "model_name": "LayoutModel",
      "state": {}
     },
     "c59a30d600ae4a1f8fd99009c578182c": {
      "model_module": "@jupyter-widgets/controls",
      "model_module_version": "2.0.0",
      "model_name": "HTMLModel",
      "state": {
       "layout": "IPY_MODEL_8784204ea3884d30a29ed8d5c2075171",
       "style": "IPY_MODEL_d864e5f4640f4bf2a37d496b5b918f42",
       "value": "100%"
      }
     },
     "c5bbc5abf5c24e599ec88ad3fce29c8a": {
      "model_module": "@jupyter-widgets/base",
      "model_module_version": "2.0.0",
      "model_name": "LayoutModel",
      "state": {}
     },
     "c5f3703372c74ba689fa25ebf9b6006a": {
      "model_module": "@jupyter-widgets/base",
      "model_module_version": "2.0.0",
      "model_name": "LayoutModel",
      "state": {}
     },
     "c608c54b1e0a4022b0669186c832f0c4": {
      "model_module": "@jupyter-widgets/controls",
      "model_module_version": "2.0.0",
      "model_name": "HTMLStyleModel",
      "state": {
       "description_width": "",
       "font_size": null,
       "text_color": null
      }
     },
     "c65aa5e74e4d4ce9a7c83e492f787a4c": {
      "model_module": "@jupyter-widgets/controls",
      "model_module_version": "2.0.0",
      "model_name": "HTMLModel",
      "state": {
       "layout": "IPY_MODEL_1b8b0b01a9974707b07b827bdbe54e31",
       "style": "IPY_MODEL_c4276279b31c4527bd595bbb648253d9",
       "value": " 10/10 [00:39&lt;00:00,  4.00s/it]"
      }
     },
     "c797f24e62684f619bd666cdec4797fd": {
      "model_module": "@jupyter-widgets/controls",
      "model_module_version": "2.0.0",
      "model_name": "HTMLModel",
      "state": {
       "layout": "IPY_MODEL_cbdeedd548f247338253016502dbe003",
       "style": "IPY_MODEL_6a789966986e460ebe18d40a0bd8712d",
       "value": " 10/10 [00:40&lt;00:00,  4.11s/it]"
      }
     },
     "c7d01c7ee562415d9d2ec2e5fd6f5181": {
      "model_module": "@jupyter-widgets/base",
      "model_module_version": "2.0.0",
      "model_name": "LayoutModel",
      "state": {}
     },
     "c84ff250592b4b3bbcf22874bbe2e4b4": {
      "model_module": "@jupyter-widgets/base",
      "model_module_version": "2.0.0",
      "model_name": "LayoutModel",
      "state": {}
     },
     "c9dc4492919d490dab39e9f151ab72a5": {
      "model_module": "@jupyter-widgets/base",
      "model_module_version": "2.0.0",
      "model_name": "LayoutModel",
      "state": {}
     },
     "ca2289bc6ffd404ca155647c082de0da": {
      "model_module": "@jupyter-widgets/controls",
      "model_module_version": "2.0.0",
      "model_name": "FloatProgressModel",
      "state": {
       "bar_style": "success",
       "layout": "IPY_MODEL_61625653aab64d1ab7391ffa1da37438",
       "max": 10,
       "style": "IPY_MODEL_b8d72fd598454bc9b10db8b3a0753b45",
       "value": 10
      }
     },
     "cb9a97e3cc3f471baa9be777800b8535": {
      "model_module": "@jupyter-widgets/controls",
      "model_module_version": "2.0.0",
      "model_name": "HTMLStyleModel",
      "state": {
       "description_width": "",
       "font_size": null,
       "text_color": null
      }
     },
     "cbdeedd548f247338253016502dbe003": {
      "model_module": "@jupyter-widgets/base",
      "model_module_version": "2.0.0",
      "model_name": "LayoutModel",
      "state": {}
     },
     "cbee8d90927648b2beed80bfeb1facbb": {
      "model_module": "@jupyter-widgets/controls",
      "model_module_version": "2.0.0",
      "model_name": "HTMLStyleModel",
      "state": {
       "description_width": "",
       "font_size": null,
       "text_color": null
      }
     },
     "cca165467bcf4c0795c5e059b27dcb88": {
      "model_module": "@jupyter-widgets/controls",
      "model_module_version": "2.0.0",
      "model_name": "HTMLModel",
      "state": {
       "layout": "IPY_MODEL_8323e22718a04a3d8dbeba3a6b508711",
       "style": "IPY_MODEL_e7bb543b2d8e4bde9a51a4b7a232a844",
       "value": " 10/10 [00:41&lt;00:00,  4.07s/it]"
      }
     },
     "cd4ceb4a5d044fa39a30e16ca0027509": {
      "model_module": "@jupyter-widgets/controls",
      "model_module_version": "2.0.0",
      "model_name": "HTMLModel",
      "state": {
       "layout": "IPY_MODEL_35a3e7e8d6f84eed824b524c60ee06a9",
       "style": "IPY_MODEL_a3589649e98b4f1d9ad775d2931b0e5a",
       "value": "100%"
      }
     },
     "cdd1cd46ef1a47d6bdaa4f853714d79d": {
      "model_module": "@jupyter-widgets/base",
      "model_module_version": "2.0.0",
      "model_name": "LayoutModel",
      "state": {}
     },
     "cdd48b9bb02544df90bcc946cafc0450": {
      "model_module": "@jupyter-widgets/controls",
      "model_module_version": "2.0.0",
      "model_name": "HTMLModel",
      "state": {
       "layout": "IPY_MODEL_ced55a6477a845cebc69c7e841801279",
       "style": "IPY_MODEL_6b1a3a682ce542f49d8f54a7877cba12",
       "value": "100%"
      }
     },
     "cdfaaab3d2b049eb82cb53b306cd8439": {
      "model_module": "@jupyter-widgets/controls",
      "model_module_version": "2.0.0",
      "model_name": "HBoxModel",
      "state": {
       "children": [
        "IPY_MODEL_8de1766fc37542f5b109bc979b0a3cd7",
        "IPY_MODEL_6a08f00cfbe14f6d9c67f87470122c36",
        "IPY_MODEL_9486909f554d41d3937bea2f91c108c9"
       ],
       "layout": "IPY_MODEL_1772740656f9458cb54a9b908b687f5a"
      }
     },
     "ce20d0204e7340a7a274cbdd1d086220": {
      "model_module": "@jupyter-widgets/base",
      "model_module_version": "2.0.0",
      "model_name": "LayoutModel",
      "state": {}
     },
     "ce73f96c8f414bc5985cebee2018de0c": {
      "model_module": "@jupyter-widgets/controls",
      "model_module_version": "2.0.0",
      "model_name": "HBoxModel",
      "state": {
       "children": [
        "IPY_MODEL_cd4ceb4a5d044fa39a30e16ca0027509",
        "IPY_MODEL_0ad37950823f434bb32f500982a17a06",
        "IPY_MODEL_e23262f6196046e1bca8183b93e20bd1"
       ],
       "layout": "IPY_MODEL_4e74940bd0ba49fda8ba2dbca0610fbe"
      }
     },
     "ced55a6477a845cebc69c7e841801279": {
      "model_module": "@jupyter-widgets/base",
      "model_module_version": "2.0.0",
      "model_name": "LayoutModel",
      "state": {}
     },
     "cefb6638d07e49ab9bb64269d2bc59d8": {
      "model_module": "@jupyter-widgets/base",
      "model_module_version": "2.0.0",
      "model_name": "LayoutModel",
      "state": {}
     },
     "cf82817a15f944ce83bf3ef31a8d5891": {
      "model_module": "@jupyter-widgets/base",
      "model_module_version": "2.0.0",
      "model_name": "LayoutModel",
      "state": {}
     },
     "cf9e884feace49959a647e0ddcbf630e": {
      "model_module": "@jupyter-widgets/base",
      "model_module_version": "2.0.0",
      "model_name": "LayoutModel",
      "state": {}
     },
     "cffd9d60cb2b4d88a51f2531456f933a": {
      "model_module": "@jupyter-widgets/controls",
      "model_module_version": "2.0.0",
      "model_name": "HBoxModel",
      "state": {
       "children": [
        "IPY_MODEL_b8f2210badb5457baf3d1fc7e80d02dc",
        "IPY_MODEL_abea4cebb03e42728e504296a345f08b",
        "IPY_MODEL_d279564957104e97b16fc530dcd1989c"
       ],
       "layout": "IPY_MODEL_96b43b6ab5c04b80b13e264838a582c4"
      }
     },
     "cffdf6ab8bec49d39ae58d20b80e1121": {
      "model_module": "@jupyter-widgets/controls",
      "model_module_version": "2.0.0",
      "model_name": "ProgressStyleModel",
      "state": {
       "description_width": ""
      }
     },
     "d04a5fdd782046b8ace7f78f31ec1028": {
      "model_module": "@jupyter-widgets/base",
      "model_module_version": "2.0.0",
      "model_name": "LayoutModel",
      "state": {}
     },
     "d19d7b3589fc458fb16e261058099127": {
      "model_module": "@jupyter-widgets/controls",
      "model_module_version": "2.0.0",
      "model_name": "HBoxModel",
      "state": {
       "children": [
        "IPY_MODEL_a1d02bd76a924529b6bea621067dfedf",
        "IPY_MODEL_db253b7a3e334f68bedd41e451470936",
        "IPY_MODEL_d34b3d24acff4b34b8a6b9a358a1dcc9"
       ],
       "layout": "IPY_MODEL_c5bbc5abf5c24e599ec88ad3fce29c8a"
      }
     },
     "d2057f1360dd4a9184d711dac9b0e1c4": {
      "model_module": "@jupyter-widgets/controls",
      "model_module_version": "2.0.0",
      "model_name": "HTMLStyleModel",
      "state": {
       "description_width": "",
       "font_size": null,
       "text_color": null
      }
     },
     "d2566999912041ef8b41ecc40f4d76c5": {
      "model_module": "@jupyter-widgets/base",
      "model_module_version": "2.0.0",
      "model_name": "LayoutModel",
      "state": {}
     },
     "d256a49dfab44f9d8d9a127735d3fde2": {
      "model_module": "@jupyter-widgets/base",
      "model_module_version": "2.0.0",
      "model_name": "LayoutModel",
      "state": {}
     },
     "d279564957104e97b16fc530dcd1989c": {
      "model_module": "@jupyter-widgets/controls",
      "model_module_version": "2.0.0",
      "model_name": "HTMLModel",
      "state": {
       "layout": "IPY_MODEL_30ca4f606b344c44b1409dbd5f4e1637",
       "style": "IPY_MODEL_4d8dbc2c0ebd412b94a35836a68b6c19",
       "value": " 10/10 [00:42&lt;00:00,  4.12s/it]"
      }
     },
     "d2d6d967d0c6407fb1e372242944ad34": {
      "model_module": "@jupyter-widgets/base",
      "model_module_version": "2.0.0",
      "model_name": "LayoutModel",
      "state": {}
     },
     "d2f500523fc745ca84470a80813d6b32": {
      "model_module": "@jupyter-widgets/controls",
      "model_module_version": "2.0.0",
      "model_name": "HTMLStyleModel",
      "state": {
       "description_width": "",
       "font_size": null,
       "text_color": null
      }
     },
     "d34b3d24acff4b34b8a6b9a358a1dcc9": {
      "model_module": "@jupyter-widgets/controls",
      "model_module_version": "2.0.0",
      "model_name": "HTMLModel",
      "state": {
       "layout": "IPY_MODEL_58f38b012ae041b3af42169da167c038",
       "style": "IPY_MODEL_5ab2d9cb06be427baf8c5477a8d88d34",
       "value": " 10/10 [00:39&lt;00:00,  4.03s/it]"
      }
     },
     "d3a4ea44d0804afa861c9e3448637dc5": {
      "model_module": "@jupyter-widgets/base",
      "model_module_version": "2.0.0",
      "model_name": "LayoutModel",
      "state": {}
     },
     "d3bcee2653fb41709a8aff2d5dc23dcb": {
      "model_module": "@jupyter-widgets/base",
      "model_module_version": "2.0.0",
      "model_name": "LayoutModel",
      "state": {}
     },
     "d455b696499547958abb388f1a1c864a": {
      "model_module": "@jupyter-widgets/controls",
      "model_module_version": "2.0.0",
      "model_name": "HBoxModel",
      "state": {
       "children": [
        "IPY_MODEL_dea3611230324f039fb94c0f85fda552",
        "IPY_MODEL_e524ad7dc24048b3bf4bfee5a82b5fcb",
        "IPY_MODEL_f47100016999472d9e073732435075ee"
       ],
       "layout": "IPY_MODEL_60c79f10354843e3a5e49bb43a40add4"
      }
     },
     "d4988c2ba6cb47278d6ff1ed203ec7e7": {
      "model_module": "@jupyter-widgets/controls",
      "model_module_version": "2.0.0",
      "model_name": "FloatProgressModel",
      "state": {
       "bar_style": "success",
       "layout": "IPY_MODEL_0904073c401b44958acaf3567d3b3360",
       "max": 10,
       "style": "IPY_MODEL_40103d93de924168a63cbcb2d83143f3",
       "value": 10
      }
     },
     "d500b2eef7704e4199c794288cfb88da": {
      "model_module": "@jupyter-widgets/controls",
      "model_module_version": "2.0.0",
      "model_name": "FloatProgressModel",
      "state": {
       "bar_style": "success",
       "layout": "IPY_MODEL_434128a904af4c45a204c8d07d8942a1",
       "max": 10,
       "style": "IPY_MODEL_7005db305b8543a79c26a51c76004529",
       "value": 10
      }
     },
     "d60c33dff2b24f3b8144c2bae4d48ca3": {
      "model_module": "@jupyter-widgets/base",
      "model_module_version": "2.0.0",
      "model_name": "LayoutModel",
      "state": {}
     },
     "d61d59488a844e1f868d57173a6aa1cc": {
      "model_module": "@jupyter-widgets/controls",
      "model_module_version": "2.0.0",
      "model_name": "HTMLModel",
      "state": {
       "layout": "IPY_MODEL_ab9523bdc9bc4a0d9206d99df7ec0b47",
       "style": "IPY_MODEL_24607c81e0ab4d94bcc8981256711bd6",
       "value": "100%"
      }
     },
     "d6a00f61356c4ff38acfdf2c4341be1b": {
      "model_module": "@jupyter-widgets/controls",
      "model_module_version": "2.0.0",
      "model_name": "HTMLStyleModel",
      "state": {
       "description_width": "",
       "font_size": null,
       "text_color": null
      }
     },
     "d6a346db4f534a2d9820ae6061014e41": {
      "model_module": "@jupyter-widgets/controls",
      "model_module_version": "2.0.0",
      "model_name": "HBoxModel",
      "state": {
       "children": [
        "IPY_MODEL_7037893e5f394695b4026552f768dbc7",
        "IPY_MODEL_5285f64625794641b141f3de4ad795ed",
        "IPY_MODEL_75818cb1d39f4f6a8723dff7e46602f9"
       ],
       "layout": "IPY_MODEL_643a7ea01cfc4202938307467b1efa63"
      }
     },
     "d707b684ebb241c38b47319350041003": {
      "model_module": "@jupyter-widgets/controls",
      "model_module_version": "2.0.0",
      "model_name": "HTMLStyleModel",
      "state": {
       "description_width": "",
       "font_size": null,
       "text_color": null
      }
     },
     "d78cae97aa1641df8517bebd6bc166f0": {
      "model_module": "@jupyter-widgets/base",
      "model_module_version": "2.0.0",
      "model_name": "LayoutModel",
      "state": {}
     },
     "d7f4d5ab10694548b293f827af381710": {
      "model_module": "@jupyter-widgets/controls",
      "model_module_version": "2.0.0",
      "model_name": "HTMLStyleModel",
      "state": {
       "description_width": "",
       "font_size": null,
       "text_color": null
      }
     },
     "d864e5f4640f4bf2a37d496b5b918f42": {
      "model_module": "@jupyter-widgets/controls",
      "model_module_version": "2.0.0",
      "model_name": "HTMLStyleModel",
      "state": {
       "description_width": "",
       "font_size": null,
       "text_color": null
      }
     },
     "d8d0f5211d0e4280bed41d3b1688ce54": {
      "model_module": "@jupyter-widgets/base",
      "model_module_version": "2.0.0",
      "model_name": "LayoutModel",
      "state": {}
     },
     "d953eabf8da04bb38cd9064ab4afdfb7": {
      "model_module": "@jupyter-widgets/controls",
      "model_module_version": "2.0.0",
      "model_name": "HTMLStyleModel",
      "state": {
       "description_width": "",
       "font_size": null,
       "text_color": null
      }
     },
     "d99aea47c433480c91a4486c21e8ee1b": {
      "model_module": "@jupyter-widgets/controls",
      "model_module_version": "2.0.0",
      "model_name": "HTMLModel",
      "state": {
       "layout": "IPY_MODEL_4911eaca87cc458494e2d1d14e068601",
       "style": "IPY_MODEL_25784e5ba9424124ad6a6a85a559fc74",
       "value": "100%"
      }
     },
     "d9c25777385d47759269a6af9d6e3543": {
      "model_module": "@jupyter-widgets/base",
      "model_module_version": "2.0.0",
      "model_name": "LayoutModel",
      "state": {}
     },
     "daf27177506543b7a2ea9e442b095668": {
      "model_module": "@jupyter-widgets/controls",
      "model_module_version": "2.0.0",
      "model_name": "HBoxModel",
      "state": {
       "children": [
        "IPY_MODEL_9343cf0b49134ec48036cb84974109a0",
        "IPY_MODEL_4e301bd73e0f4d52ab927c852c4e31f0",
        "IPY_MODEL_211daa3b6bb946118a364ee48c6bd1de"
       ],
       "layout": "IPY_MODEL_6b047c3a38504abc9c4ac9a15601d3d2"
      }
     },
     "db253b7a3e334f68bedd41e451470936": {
      "model_module": "@jupyter-widgets/controls",
      "model_module_version": "2.0.0",
      "model_name": "FloatProgressModel",
      "state": {
       "bar_style": "success",
       "layout": "IPY_MODEL_93130c4650984a3784152ef9431bbc72",
       "max": 10,
       "style": "IPY_MODEL_2b0a515e73df4232a3d267074b2a6ff1",
       "value": 10
      }
     },
     "dbece84cb86542b7843768e74e29a8a5": {
      "model_module": "@jupyter-widgets/controls",
      "model_module_version": "2.0.0",
      "model_name": "HTMLStyleModel",
      "state": {
       "description_width": "",
       "font_size": null,
       "text_color": null
      }
     },
     "dcc8f110e708422fa69cc57fe7dc04a3": {
      "model_module": "@jupyter-widgets/controls",
      "model_module_version": "2.0.0",
      "model_name": "ProgressStyleModel",
      "state": {
       "description_width": ""
      }
     },
     "de2adb6149c64f588103f68d9d80e7eb": {
      "model_module": "@jupyter-widgets/controls",
      "model_module_version": "2.0.0",
      "model_name": "HTMLStyleModel",
      "state": {
       "description_width": "",
       "font_size": null,
       "text_color": null
      }
     },
     "de2dd6b35fee4a89947636ca804814c7": {
      "model_module": "@jupyter-widgets/controls",
      "model_module_version": "2.0.0",
      "model_name": "HTMLModel",
      "state": {
       "layout": "IPY_MODEL_0fe4988d9db94712962ea3b4c9b58b81",
       "style": "IPY_MODEL_d2f500523fc745ca84470a80813d6b32",
       "value": "100%"
      }
     },
     "dea3611230324f039fb94c0f85fda552": {
      "model_module": "@jupyter-widgets/controls",
      "model_module_version": "2.0.0",
      "model_name": "HTMLModel",
      "state": {
       "layout": "IPY_MODEL_d9c25777385d47759269a6af9d6e3543",
       "style": "IPY_MODEL_0b4668a181524d1598c74b98d80019d1",
       "value": "100%"
      }
     },
     "df020c78d1d64e7fb628c635458c5a1e": {
      "model_module": "@jupyter-widgets/base",
      "model_module_version": "2.0.0",
      "model_name": "LayoutModel",
      "state": {}
     },
     "df8951325b1f428b8d9edb3fa713ee33": {
      "model_module": "@jupyter-widgets/controls",
      "model_module_version": "2.0.0",
      "model_name": "HTMLModel",
      "state": {
       "layout": "IPY_MODEL_10aa98870ba941a8ab733c715437deae",
       "style": "IPY_MODEL_509c7e40c1684fc0a256bdefcf1b2fb5",
       "value": " 10/10 [00:51&lt;00:00,  5.19s/it]"
      }
     },
     "e04587d6c24347fea00465f28bbfb909": {
      "model_module": "@jupyter-widgets/controls",
      "model_module_version": "2.0.0",
      "model_name": "HTMLStyleModel",
      "state": {
       "description_width": "",
       "font_size": null,
       "text_color": null
      }
     },
     "e0811f686ab64f308f5ec1597858b45d": {
      "model_module": "@jupyter-widgets/controls",
      "model_module_version": "2.0.0",
      "model_name": "ProgressStyleModel",
      "state": {
       "description_width": ""
      }
     },
     "e097429b522342bf818b3b854531020f": {
      "model_module": "@jupyter-widgets/controls",
      "model_module_version": "2.0.0",
      "model_name": "HTMLStyleModel",
      "state": {
       "description_width": "",
       "font_size": null,
       "text_color": null
      }
     },
     "e1323415ad6e4ae0ae7d8b45341fe636": {
      "model_module": "@jupyter-widgets/controls",
      "model_module_version": "2.0.0",
      "model_name": "FloatProgressModel",
      "state": {
       "bar_style": "success",
       "layout": "IPY_MODEL_b3c696e842df4c428353ef3b1975175c",
       "max": 10,
       "style": "IPY_MODEL_b53ae3151c154dedaf89334384207e84",
       "value": 10
      }
     },
     "e1d58cff369944f0b62e5d3f2b0b3af1": {
      "model_module": "@jupyter-widgets/controls",
      "model_module_version": "2.0.0",
      "model_name": "FloatProgressModel",
      "state": {
       "bar_style": "success",
       "layout": "IPY_MODEL_a09c9010cf9a4eb3b8c40ffceb403267",
       "max": 10,
       "style": "IPY_MODEL_6ac3b6ec372a49b5bd52c85fdffd3966",
       "value": 10
      }
     },
     "e23262f6196046e1bca8183b93e20bd1": {
      "model_module": "@jupyter-widgets/controls",
      "model_module_version": "2.0.0",
      "model_name": "HTMLModel",
      "state": {
       "layout": "IPY_MODEL_1897823f3cc54668a39d7476965d56eb",
       "style": "IPY_MODEL_33d0fcad15f04620babd9d60dadddd72",
       "value": " 10/10 [00:41&lt;00:00,  4.19s/it]"
      }
     },
     "e24f20c1e41148cb9a2dbf79c7d9e1be": {
      "model_module": "@jupyter-widgets/base",
      "model_module_version": "2.0.0",
      "model_name": "LayoutModel",
      "state": {}
     },
     "e279eee401c34ca0ac96279e53f18be2": {
      "model_module": "@jupyter-widgets/base",
      "model_module_version": "2.0.0",
      "model_name": "LayoutModel",
      "state": {}
     },
     "e386151d0a6d4ffba8816e59d268ae66": {
      "model_module": "@jupyter-widgets/controls",
      "model_module_version": "2.0.0",
      "model_name": "HTMLModel",
      "state": {
       "layout": "IPY_MODEL_f521f230ba434b5baf2ca77bf3b0cb07",
       "style": "IPY_MODEL_27bc419cdb854ddb9703c9d39c0bafc7",
       "value": "100%"
      }
     },
     "e3bd266ae24544849cab074f58e31f53": {
      "model_module": "@jupyter-widgets/base",
      "model_module_version": "2.0.0",
      "model_name": "LayoutModel",
      "state": {}
     },
     "e3c037b9de164bd3b614e9c3a2a79b16": {
      "model_module": "@jupyter-widgets/base",
      "model_module_version": "2.0.0",
      "model_name": "LayoutModel",
      "state": {}
     },
     "e3d497081bd34e7fa532504d8cab1f04": {
      "model_module": "@jupyter-widgets/base",
      "model_module_version": "2.0.0",
      "model_name": "LayoutModel",
      "state": {}
     },
     "e435c393a3fc49c7903c63dd925b4020": {
      "model_module": "@jupyter-widgets/base",
      "model_module_version": "2.0.0",
      "model_name": "LayoutModel",
      "state": {}
     },
     "e4378e0cd7304bd882fb9854c4a2d3dd": {
      "model_module": "@jupyter-widgets/base",
      "model_module_version": "2.0.0",
      "model_name": "LayoutModel",
      "state": {}
     },
     "e524ad7dc24048b3bf4bfee5a82b5fcb": {
      "model_module": "@jupyter-widgets/controls",
      "model_module_version": "2.0.0",
      "model_name": "FloatProgressModel",
      "state": {
       "bar_style": "success",
       "layout": "IPY_MODEL_d2566999912041ef8b41ecc40f4d76c5",
       "max": 10,
       "style": "IPY_MODEL_ae067dadb017480198999cbc8dc60f98",
       "value": 10
      }
     },
     "e535447072d3435a92b06e098d3c254b": {
      "model_module": "@jupyter-widgets/controls",
      "model_module_version": "2.0.0",
      "model_name": "FloatProgressModel",
      "state": {
       "bar_style": "success",
       "layout": "IPY_MODEL_f455b3bcfb034353b1fe04d46f11c8b1",
       "max": 10,
       "style": "IPY_MODEL_1be7f801839f4674a5e1f6b9dbfeabbc",
       "value": 10
      }
     },
     "e59afc8963cf4817a3a42fd6e47d5f92": {
      "model_module": "@jupyter-widgets/controls",
      "model_module_version": "2.0.0",
      "model_name": "HTMLStyleModel",
      "state": {
       "description_width": "",
       "font_size": null,
       "text_color": null
      }
     },
     "e5b08138a1c54fada2c52cbf18e83a3d": {
      "model_module": "@jupyter-widgets/base",
      "model_module_version": "2.0.0",
      "model_name": "LayoutModel",
      "state": {}
     },
     "e5d789cf3b734ef3ac0a13832dce899a": {
      "model_module": "@jupyter-widgets/controls",
      "model_module_version": "2.0.0",
      "model_name": "HBoxModel",
      "state": {
       "children": [
        "IPY_MODEL_c59a30d600ae4a1f8fd99009c578182c",
        "IPY_MODEL_72abec99b89a461f9fd3c82e699dbafd",
        "IPY_MODEL_298056aff1f64169b4190633562d5c55"
       ],
       "layout": "IPY_MODEL_9c0626469bc04fcfa024d9d18e4fda20"
      }
     },
     "e6269245186a4c6388fef1ad02fc098c": {
      "model_module": "@jupyter-widgets/base",
      "model_module_version": "2.0.0",
      "model_name": "LayoutModel",
      "state": {}
     },
     "e63317020fe644c598a79da950aa94ae": {
      "model_module": "@jupyter-widgets/base",
      "model_module_version": "2.0.0",
      "model_name": "LayoutModel",
      "state": {}
     },
     "e78406780edd42318724e98bf1e0e637": {
      "model_module": "@jupyter-widgets/base",
      "model_module_version": "2.0.0",
      "model_name": "LayoutModel",
      "state": {}
     },
     "e7bb543b2d8e4bde9a51a4b7a232a844": {
      "model_module": "@jupyter-widgets/controls",
      "model_module_version": "2.0.0",
      "model_name": "HTMLStyleModel",
      "state": {
       "description_width": "",
       "font_size": null,
       "text_color": null
      }
     },
     "e7db4c4a65b34d83af2cf96409485adc": {
      "model_module": "@jupyter-widgets/controls",
      "model_module_version": "2.0.0",
      "model_name": "HBoxModel",
      "state": {
       "children": [
        "IPY_MODEL_c36f06f50a7047c7b0eec6a7c9003873",
        "IPY_MODEL_702d1f53444443e0a6326130e7e7edc3",
        "IPY_MODEL_4eb24d7d257046da9d994f0b4d4c87c7"
       ],
       "layout": "IPY_MODEL_e24f20c1e41148cb9a2dbf79c7d9e1be"
      }
     },
     "e96e9ead3e2c4c27b2ba906475dcce66": {
      "model_module": "@jupyter-widgets/controls",
      "model_module_version": "2.0.0",
      "model_name": "HTMLModel",
      "state": {
       "layout": "IPY_MODEL_6208f221be254347870d50433a647181",
       "style": "IPY_MODEL_5648153094c74f6e8bc00143b5b77151",
       "value": " 10/10 [00:36&lt;00:00,  3.66s/it]"
      }
     },
     "e9fd620bd2e942a7b7a0025a0b72673e": {
      "model_module": "@jupyter-widgets/controls",
      "model_module_version": "2.0.0",
      "model_name": "HTMLStyleModel",
      "state": {
       "description_width": "",
       "font_size": null,
       "text_color": null
      }
     },
     "ea2b13fb5c0f44aa85412760cb19695a": {
      "model_module": "@jupyter-widgets/base",
      "model_module_version": "2.0.0",
      "model_name": "LayoutModel",
      "state": {}
     },
     "ecf8ca352097463fbd1fc388f566d9b3": {
      "model_module": "@jupyter-widgets/controls",
      "model_module_version": "2.0.0",
      "model_name": "HBoxModel",
      "state": {
       "children": [
        "IPY_MODEL_d61d59488a844e1f868d57173a6aa1cc",
        "IPY_MODEL_69b4d1a9d5684013b03db8c0da34da62",
        "IPY_MODEL_5a4b013ed3fe457d9347779707eb5cb5"
       ],
       "layout": "IPY_MODEL_b6626b867aba411e8770732790fd56df"
      }
     },
     "ed57530231d843158f37ce0ba28bf501": {
      "model_module": "@jupyter-widgets/controls",
      "model_module_version": "2.0.0",
      "model_name": "FloatProgressModel",
      "state": {
       "bar_style": "success",
       "layout": "IPY_MODEL_213502fd16104f35b520ba7e77b38685",
       "max": 10,
       "style": "IPY_MODEL_2bb285d9a2e04879bba40ff0994a7142",
       "value": 10
      }
     },
     "ee388357a91448978df8deaae6b836d7": {
      "model_module": "@jupyter-widgets/base",
      "model_module_version": "2.0.0",
      "model_name": "LayoutModel",
      "state": {}
     },
     "ee714ceb528d40f0b6eed2d6761dc239": {
      "model_module": "@jupyter-widgets/controls",
      "model_module_version": "2.0.0",
      "model_name": "HTMLModel",
      "state": {
       "layout": "IPY_MODEL_faf84530613d499a8b26e87a98d90906",
       "style": "IPY_MODEL_a7766459aedd4645b836ecc94cc9316a",
       "value": " 10/10 [00:39&lt;00:00,  4.07s/it]"
      }
     },
     "ee8b8037d81b437fb9935af3f88afa2c": {
      "model_module": "@jupyter-widgets/base",
      "model_module_version": "2.0.0",
      "model_name": "LayoutModel",
      "state": {}
     },
     "ef68ae0c37a84cd28683d34489f65d0e": {
      "model_module": "@jupyter-widgets/base",
      "model_module_version": "2.0.0",
      "model_name": "LayoutModel",
      "state": {}
     },
     "ef6a260ef0c44a27851ab3551ccf76ad": {
      "model_module": "@jupyter-widgets/base",
      "model_module_version": "2.0.0",
      "model_name": "LayoutModel",
      "state": {}
     },
     "f04b1e5bd481443fb1826ca5d9c5f103": {
      "model_module": "@jupyter-widgets/controls",
      "model_module_version": "2.0.0",
      "model_name": "HTMLStyleModel",
      "state": {
       "description_width": "",
       "font_size": null,
       "text_color": null
      }
     },
     "f0745bf93a614184b5b7478799ea40c4": {
      "model_module": "@jupyter-widgets/base",
      "model_module_version": "2.0.0",
      "model_name": "LayoutModel",
      "state": {}
     },
     "f0d88cb008894876be10196821d1f7df": {
      "model_module": "@jupyter-widgets/controls",
      "model_module_version": "2.0.0",
      "model_name": "ProgressStyleModel",
      "state": {
       "description_width": ""
      }
     },
     "f17bd3261e324a06a00079697a2a3e1a": {
      "model_module": "@jupyter-widgets/controls",
      "model_module_version": "2.0.0",
      "model_name": "FloatProgressModel",
      "state": {
       "bar_style": "success",
       "layout": "IPY_MODEL_cf9e884feace49959a647e0ddcbf630e",
       "max": 10,
       "style": "IPY_MODEL_c10463ae077143659dc0e1c120888f92",
       "value": 10
      }
     },
     "f263f88b10414259b33fb742538c2983": {
      "model_module": "@jupyter-widgets/controls",
      "model_module_version": "2.0.0",
      "model_name": "HBoxModel",
      "state": {
       "children": [
        "IPY_MODEL_60f8d15480c04627a546263c7354ea00",
        "IPY_MODEL_e1d58cff369944f0b62e5d3f2b0b3af1",
        "IPY_MODEL_74c18d399f33495caab7cf28a2a2e2c8"
       ],
       "layout": "IPY_MODEL_ae807ec7d92f43ecbc548cf3b91d7004"
      }
     },
     "f2651694c60c4fa499c6509a78654014": {
      "model_module": "@jupyter-widgets/controls",
      "model_module_version": "2.0.0",
      "model_name": "ProgressStyleModel",
      "state": {
       "description_width": ""
      }
     },
     "f455b3bcfb034353b1fe04d46f11c8b1": {
      "model_module": "@jupyter-widgets/base",
      "model_module_version": "2.0.0",
      "model_name": "LayoutModel",
      "state": {}
     },
     "f47100016999472d9e073732435075ee": {
      "model_module": "@jupyter-widgets/controls",
      "model_module_version": "2.0.0",
      "model_name": "HTMLModel",
      "state": {
       "layout": "IPY_MODEL_96644c7dbf6e4b6cb0c9ee2073725f29",
       "style": "IPY_MODEL_72abc9e19efe4b09a287dfead0731bc3",
       "value": " 10/10 [00:40&lt;00:00,  3.82s/it]"
      }
     },
     "f47c78f02f514d208bbe3d9097f2e90f": {
      "model_module": "@jupyter-widgets/base",
      "model_module_version": "2.0.0",
      "model_name": "LayoutModel",
      "state": {}
     },
     "f492c134362b430da9ffb59db6e4b8e6": {
      "model_module": "@jupyter-widgets/base",
      "model_module_version": "2.0.0",
      "model_name": "LayoutModel",
      "state": {}
     },
     "f4a7ad203d0149a09ac80de7e7317b99": {
      "model_module": "@jupyter-widgets/controls",
      "model_module_version": "2.0.0",
      "model_name": "HTMLModel",
      "state": {
       "layout": "IPY_MODEL_9663196d05ee4a08a8574377b0882f3c",
       "style": "IPY_MODEL_7772e2ff49614cd8be9dd6982084af17",
       "value": "100%"
      }
     },
     "f521f230ba434b5baf2ca77bf3b0cb07": {
      "model_module": "@jupyter-widgets/base",
      "model_module_version": "2.0.0",
      "model_name": "LayoutModel",
      "state": {}
     },
     "f5a5b90f7dc844b1a959719b3b6a4805": {
      "model_module": "@jupyter-widgets/controls",
      "model_module_version": "2.0.0",
      "model_name": "HTMLStyleModel",
      "state": {
       "description_width": "",
       "font_size": null,
       "text_color": null
      }
     },
     "f67e3bb4347f482e994e302a360b267c": {
      "model_module": "@jupyter-widgets/base",
      "model_module_version": "2.0.0",
      "model_name": "LayoutModel",
      "state": {}
     },
     "f6e30c97b81f4fbb9764173645ea4eea": {
      "model_module": "@jupyter-widgets/controls",
      "model_module_version": "2.0.0",
      "model_name": "HTMLModel",
      "state": {
       "layout": "IPY_MODEL_7171eccaf0c94ef795dd4fd83db159f9",
       "style": "IPY_MODEL_a1b046e25ec440cab9fdfffd90c1a232",
       "value": " 10/10 [00:41&lt;00:00,  4.12s/it]"
      }
     },
     "f70e9711b3194372a55556ad8ff12511": {
      "model_module": "@jupyter-widgets/controls",
      "model_module_version": "2.0.0",
      "model_name": "HTMLStyleModel",
      "state": {
       "description_width": "",
       "font_size": null,
       "text_color": null
      }
     },
     "f72aa6dc4f74422e9abe30733c787f00": {
      "model_module": "@jupyter-widgets/controls",
      "model_module_version": "2.0.0",
      "model_name": "HTMLStyleModel",
      "state": {
       "description_width": "",
       "font_size": null,
       "text_color": null
      }
     },
     "f77fe3da69314d7ca78ea9898baba5fd": {
      "model_module": "@jupyter-widgets/controls",
      "model_module_version": "2.0.0",
      "model_name": "ProgressStyleModel",
      "state": {
       "description_width": ""
      }
     },
     "f85e938db188495da7ce29dfcc24ea3f": {
      "model_module": "@jupyter-widgets/base",
      "model_module_version": "2.0.0",
      "model_name": "LayoutModel",
      "state": {}
     },
     "f8a08f59feef40768d2b2f87013b9a81": {
      "model_module": "@jupyter-widgets/base",
      "model_module_version": "2.0.0",
      "model_name": "LayoutModel",
      "state": {}
     },
     "f8cb958526bc4620bcc0a160091b64bf": {
      "model_module": "@jupyter-widgets/base",
      "model_module_version": "2.0.0",
      "model_name": "LayoutModel",
      "state": {}
     },
     "f9a81d15beb84493bbc820e06f195971": {
      "model_module": "@jupyter-widgets/base",
      "model_module_version": "2.0.0",
      "model_name": "LayoutModel",
      "state": {}
     },
     "f9cab8a5a55545c981e52a9aae241fbb": {
      "model_module": "@jupyter-widgets/base",
      "model_module_version": "2.0.0",
      "model_name": "LayoutModel",
      "state": {}
     },
     "f9cc3bf0c6da42e3938bb8a47b08f3e7": {
      "model_module": "@jupyter-widgets/controls",
      "model_module_version": "2.0.0",
      "model_name": "HTMLModel",
      "state": {
       "layout": "IPY_MODEL_90cfb4ceb5e4469aa5ca24318236fdb3",
       "style": "IPY_MODEL_a4722f3ceed54d43807fb18c8131c28c",
       "value": " 10/10 [00:42&lt;00:00,  4.38s/it]"
      }
     },
     "f9df0bb544c84e20b7657fedfb2b44df": {
      "model_module": "@jupyter-widgets/controls",
      "model_module_version": "2.0.0",
      "model_name": "ProgressStyleModel",
      "state": {
       "description_width": ""
      }
     },
     "fa3dd52384a542ec948ab3fe45de60f4": {
      "model_module": "@jupyter-widgets/controls",
      "model_module_version": "2.0.0",
      "model_name": "HTMLModel",
      "state": {
       "layout": "IPY_MODEL_21c4690d98864944a561f99df0b9d410",
       "style": "IPY_MODEL_71ff8535594547359e5c0245f6d1ae3d",
       "value": " 10/10 [00:40&lt;00:00,  4.09s/it]"
      }
     },
     "fa71e8bf5a7f43a4a97e7c5b61a954d7": {
      "model_module": "@jupyter-widgets/base",
      "model_module_version": "2.0.0",
      "model_name": "LayoutModel",
      "state": {}
     },
     "fa79f9236f59415f82335358d5988d26": {
      "model_module": "@jupyter-widgets/controls",
      "model_module_version": "2.0.0",
      "model_name": "HTMLModel",
      "state": {
       "layout": "IPY_MODEL_7c6f072770ca46bda53765bd67d93571",
       "style": "IPY_MODEL_6e748477fd0e445fbd42722fde1d4c99",
       "value": "100%"
      }
     },
     "fac754f6744a4aee8b0ecc68fb314471": {
      "model_module": "@jupyter-widgets/controls",
      "model_module_version": "2.0.0",
      "model_name": "HTMLStyleModel",
      "state": {
       "description_width": "",
       "font_size": null,
       "text_color": null
      }
     },
     "faf84530613d499a8b26e87a98d90906": {
      "model_module": "@jupyter-widgets/base",
      "model_module_version": "2.0.0",
      "model_name": "LayoutModel",
      "state": {}
     },
     "fb172fb65e114de8a11286276f0c1a55": {
      "model_module": "@jupyter-widgets/controls",
      "model_module_version": "2.0.0",
      "model_name": "FloatProgressModel",
      "state": {
       "bar_style": "success",
       "layout": "IPY_MODEL_4788f0659a264658b0e5c7f1b1e67f04",
       "max": 10,
       "style": "IPY_MODEL_f0d88cb008894876be10196821d1f7df",
       "value": 10
      }
     },
     "fb548db4f395441fb9715dd90fe75a9a": {
      "model_module": "@jupyter-widgets/controls",
      "model_module_version": "2.0.0",
      "model_name": "HTMLStyleModel",
      "state": {
       "description_width": "",
       "font_size": null,
       "text_color": null
      }
     },
     "fb61b64fa31944f492f7193bd90090b5": {
      "model_module": "@jupyter-widgets/base",
      "model_module_version": "2.0.0",
      "model_name": "LayoutModel",
      "state": {}
     },
     "fb91b905aedd4f1ca36c40d34b7fac4a": {
      "model_module": "@jupyter-widgets/controls",
      "model_module_version": "2.0.0",
      "model_name": "HTMLStyleModel",
      "state": {
       "description_width": "",
       "font_size": null,
       "text_color": null
      }
     },
     "fbe943420a754752a41ac4d641896ca5": {
      "model_module": "@jupyter-widgets/controls",
      "model_module_version": "2.0.0",
      "model_name": "HTMLStyleModel",
      "state": {
       "description_width": "",
       "font_size": null,
       "text_color": null
      }
     },
     "fcb7ac7f7ae64f5a9fda5f7e56f74039": {
      "model_module": "@jupyter-widgets/controls",
      "model_module_version": "2.0.0",
      "model_name": "HBoxModel",
      "state": {
       "children": [
        "IPY_MODEL_6639fd8d2e0247f4806d895e0fbbc2a0",
        "IPY_MODEL_685366ff3509406ebb5b7b808c1144d2",
        "IPY_MODEL_33f7f079c4e64d56848c383214cbef23"
       ],
       "layout": "IPY_MODEL_e3c037b9de164bd3b614e9c3a2a79b16"
      }
     },
     "fd45dfd58603484899707b3edd5b3a62": {
      "model_module": "@jupyter-widgets/controls",
      "model_module_version": "2.0.0",
      "model_name": "HTMLModel",
      "state": {
       "layout": "IPY_MODEL_c45e0aabd75e417ba479d11b9eb134b8",
       "style": "IPY_MODEL_82c2f694b1444eb48ebc027b7abf5be2",
       "value": " 51/51 [36:17&lt;00:00, 41.26s/it]"
      }
     },
     "fd5b0363f75548a48636dff8ef21cf38": {
      "model_module": "@jupyter-widgets/controls",
      "model_module_version": "2.0.0",
      "model_name": "FloatProgressModel",
      "state": {
       "bar_style": "success",
       "layout": "IPY_MODEL_a0e8d48fca234a2a9ef8ed874ea579a1",
       "max": 10,
       "style": "IPY_MODEL_ae4f6e3a4070460aadfd19a0a5a4646d",
       "value": 10
      }
     },
     "fd7188c45b9746bda47557cdb5adb6db": {
      "model_module": "@jupyter-widgets/base",
      "model_module_version": "2.0.0",
      "model_name": "LayoutModel",
      "state": {}
     },
     "ff19756c12194b9689576815b94b1636": {
      "model_module": "@jupyter-widgets/controls",
      "model_module_version": "2.0.0",
      "model_name": "HTMLStyleModel",
      "state": {
       "description_width": "",
       "font_size": null,
       "text_color": null
      }
     }
    },
    "version_major": 2,
    "version_minor": 0
   }
  }
 },
 "nbformat": 4,
 "nbformat_minor": 5
}
