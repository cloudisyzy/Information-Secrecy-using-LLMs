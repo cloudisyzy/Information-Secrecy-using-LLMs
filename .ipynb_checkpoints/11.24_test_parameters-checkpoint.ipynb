{
 "cells": [
  {
   "cell_type": "code",
   "execution_count": 1,
   "id": "c5c0d289-2a2e-4132-87ad-4ff81e776352",
   "metadata": {},
   "outputs": [],
   "source": [
    "# for first LLM\n",
    "from transformers import BartTokenizer, BartForConditionalGeneration\n",
    "from transformers.modeling_outputs import BaseModelOutput\n",
    "\n",
    "# for second\n",
    "from transformers import pipeline, T5ForConditionalGeneration, T5Tokenizer\n",
    "\n",
    "from IPython.display import display, HTML\n",
    "import torch\n",
    "from tqdm.notebook import tqdm\n",
    "\n",
    "# Automatically choose (prefer NVIDIA GPU)\n",
    "device = torch.device(\"cuda\" if torch.cuda.is_available() else \"cpu\")\n",
    "\n",
    "# Specify model name\n",
    "model_name = \"facebook/bart-base\"\n",
    "# model_name = \"facebook/bart-large\" # Recommend this one if your computer is okay with larger models\n",
    "\n",
    "tokenizer_bart = BartTokenizer.from_pretrained(model_name)\n",
    "model = BartForConditionalGeneration.from_pretrained(model_name).to(device)"
   ]
  },
  {
   "cell_type": "code",
   "execution_count": 2,
   "id": "6de26d5e-18e4-4c86-aab2-8030701e9b93",
   "metadata": {},
   "outputs": [],
   "source": [
    "def add_noise_with_snr(encoder_output, target_snr_db):\n",
    "    \"\"\"\n",
    "    Add noise to the encoder output based on a target SNR in dB.\n",
    "    \n",
    "    Parameters:\n",
    "    - encoder_output: torch.Tensor, the encoder's output (last_hidden_state).\n",
    "    - target_snr_db: float, the desired signal-to-noise ratio in dB.\n",
    "    \n",
    "    Returns:\n",
    "    - noisy_encoder_output: torch.Tensor, encoder output with added noise.\n",
    "    \"\"\"\n",
    "    # Convert SNR from dB to linear scale\n",
    "    target_snr_linear = 10 ** (target_snr_db / 10)\n",
    "    \n",
    "    # Calculate power of the signal\n",
    "    signal_power = torch.mean(encoder_output ** 2)\n",
    "    \n",
    "    # Calculate required noise power for the target SNR\n",
    "    noise_power = signal_power / target_snr_linear\n",
    "    noise = torch.randn_like(encoder_output) * torch.sqrt(noise_power)\n",
    "    \n",
    "    # Add noise to the encoder output\n",
    "    noisy_encoder_output = encoder_output + noise\n",
    "    return noisy_encoder_output"
   ]
  },
  {
   "cell_type": "code",
   "execution_count": 5,
   "id": "765fb5e5-7028-4ded-8909-e2f67ef084a2",
   "metadata": {},
   "outputs": [
    {
     "name": "stdout",
     "output_type": "stream",
     "text": [
      "Original Text:\n"
     ]
    },
    {
     "data": {
      "text/html": [
       "<p style='font-size:15px; font-family:\"Comic Sans MS\", cursive;'> \n",
       "Welcome to our online coding bootcamp program! \n",
       "Whether you're a complete beginner or looking to improve your programming skills, this course is designed for you. \n",
       "Throughout the course, you will learn essential coding languages such as Python and JavaScript. \n",
       "Our instructors will guide you through interactive projects and provide real-time feedback. \n",
       "Each student will receive a certificate of completion at the end of the program. \n",
       "The total cost for the bootcamp is $150, which includes all learning materials.\n",
       "</p>"
      ],
      "text/plain": [
       "<IPython.core.display.HTML object>"
      ]
     },
     "metadata": {},
     "output_type": "display_data"
    },
    {
     "name": "stdout",
     "output_type": "stream",
     "text": [
      "\n",
      "\n",
      "Masked Text:\n"
     ]
    },
    {
     "data": {
      "text/html": [
       "<p style='font-size:15px; font-family:\"Comic Sans MS\", cursive;'>Welcome to our online <span style='color:blue; font-weight:bold;'>&lt;mask&gt;</span> bootcamp program! Whether you're a complete beginner or looking to <span style='color:blue; font-weight:bold;'>&lt;mask&gt;</span> your programming skills, this course is designed for you. Throughout the course, you will learn essential <span style='color:blue; font-weight:bold;'>&lt;mask&gt;</span> such as Python and JavaScript. Our instructors will guide you through interactive projects and provide real-time <span style='color:blue; font-weight:bold;'>&lt;mask&gt;</span>. Each student will receive a certificate of completion at the end of the <span style='color:blue; font-weight:bold;'>&lt;mask&gt;</span>. The total cost for the bootcamp is $150, which <span style='color:blue; font-weight:bold;'>&lt;mask&gt;</span> all learning materials.</p>"
      ],
      "text/plain": [
       "<IPython.core.display.HTML object>"
      ]
     },
     "metadata": {},
     "output_type": "display_data"
    },
    {
     "name": "stdout",
     "output_type": "stream",
     "text": [
      "\n",
      "\n",
      "Completed Text:\n"
     ]
    },
    {
     "data": {
      "text/html": [
       "<p style='font-size:15px; font-family:\"Comic Sans MS\", cursive;'>Welcome to our online programming bootcamp program! Whether you're a complete beginner or looking to sharpen your programming skills, this course is designed for you. Throughout the course, you will learn essential programming languages such as Python and JavaScript. Our instructors will guide you through interactive projects and provide real-time feedback on your projects. Each student will receive a certificate of completion at the end of the course. The total cost for the bootcamp is $150, which includes all learning materials.</p>"
      ],
      "text/plain": [
       "<IPython.core.display.HTML object>"
      ]
     },
     "metadata": {},
     "output_type": "display_data"
    },
    {
     "name": "stdout",
     "output_type": "stream",
     "text": [
      "\n",
      "\n"
     ]
    }
   ],
   "source": [
    "# original_text = \"\"\"\n",
    "# Beginners BBQ Class Taking Place in Missoula! \n",
    "# Do you want to get better at making delicious BBQ?\n",
    "# You will have the opportunity, put this on your calendar now. \n",
    "# Thursday, September 22nd join World Class BBQ Champion, Tony Balay from Lonestar Smoke Rangers. \n",
    "# He will be teaching a beginner level class for everyone who wants to get better with their culinary skills. \n",
    "# He will teach you everything you need to know to compete in a KCBS BBQ competition, including techniques, recipes, timelines, meat selection and trimming, plus smoker and fire information. \n",
    "# The cost to be in the class is $35 per person, and for spectators it is free. \n",
    "# Included in the cost will be either a t-shirt or apron and you will be tasting samples of each meat that is prepared.\n",
    "# \"\"\"\n",
    "# input_text = \"\"\"\n",
    "# Beginners BBQ Class <mask> in Missoula! \n",
    "# Do you want to <mask> making delicious BBQ?\n",
    "# You will have the opportunity, put this on your calendar now. \n",
    "# Thursday, September 22nd join World Class BBQ Champion, Tony Balay from Lonestar Smoke Rangers. \n",
    "# He will be teaching a beginner level class for everyone who wants to get better with their culinary skills. \n",
    "# He will teach you <mask> compete in a KCBS BBQ competition, including techniques, recipes, timelines, meat selection and trimming, plus smoker and fire information. \n",
    "# The <mask> the class is $35 per person, and for spectators it is free. \n",
    "# Included in the cost will be either a t-shirt or apron and you will be tasting samples of each meat that is prepared.\n",
    "# \"\"\".replace(\"\\n\", \"\")\n",
    "\n",
    "original_text = \"\"\"\n",
    "Welcome to our online coding bootcamp program! \n",
    "Whether you're a complete beginner or looking to improve your programming skills, this course is designed for you. \n",
    "Throughout the course, you will learn essential coding languages such as Python and JavaScript. \n",
    "Our instructors will guide you through interactive projects and provide real-time feedback. \n",
    "Each student will receive a certificate of completion at the end of the program. \n",
    "The total cost for the bootcamp is $150, which includes all learning materials.\n",
    "\"\"\"\n",
    "input_text = \"\"\"\n",
    "Welcome to our online <mask> bootcamp program! \n",
    "Whether you're a complete beginner or looking to <mask> your programming skills, this course is designed for you. \n",
    "Throughout the course, you will learn essential <mask> such as Python and JavaScript. \n",
    "Our instructors will guide you through interactive projects and provide real-time <mask>. \n",
    "Each student will receive a certificate of completion at the end of the <mask>. \n",
    "The total cost for the bootcamp is $150, which <mask> all learning materials.\n",
    "\"\"\".replace(\"\\n\", \"\")\n",
    "\n",
    "# # Generate output with the clean encoder output (latent reprenstation)\n",
    "input_ids = tokenizer_bart(input_text, return_tensors=\"pt\").input_ids.to(device)\n",
    "\n",
    "with torch.no_grad():\n",
    "    encoder_outputs = model.model.encoder(input_ids=input_ids)\n",
    "\n",
    "# noisy_encoder_output = add_noise_with_snr(encoder_outputs.last_hidden_state, -6)\n",
    "# encoder_outputs = BaseModelOutput(last_hidden_state=noisy_encoder_output)\n",
    "    \n",
    "baseline_outputs = model.generate(\n",
    "    input_ids=None,                   # No input tokens are provided here, as we're feeding encoder outputs directly\n",
    "    encoder_outputs=encoder_outputs,  # Encoded representations from the encoder\n",
    "    max_length=300,                   # Set maximum length for the generated text sequence\n",
    "    min_length=10,                    # Set minimum length for the generated text sequence\n",
    "    do_sample=True,                   # Enables sampling for diverse outputs, rather than greedy decoding\n",
    "    num_beams=15,\n",
    "    temperature=0.15,                   # Low temperature to control randomness, resulting in less varied output  \n",
    "    early_stopping=True\n",
    ")\n",
    "\n",
    "# Decode the decoder output using tokenizer\n",
    "baseline_text = tokenizer_bart.decode(baseline_outputs[0], skip_special_tokens=True)\n",
    "\n",
    "print('Original Text:')\n",
    "display(HTML(f\"<p style='font-size:15px; font-family:\\\"Comic Sans MS\\\", cursive;'> {original_text}</p>\"))\n",
    "print('\\n')\n",
    "\n",
    "print('Masked Text:')\n",
    "# Highlight the <mask> tokens in the original text\n",
    "highlighted_original_text = input_text.replace(\"<mask>\", \"<span style='color:blue; font-weight:bold;'>&lt;mask&gt;</span>\")\n",
    "display(HTML(f\"<p style='font-size:15px; font-family:\\\"Comic Sans MS\\\", cursive;'>{highlighted_original_text}</p>\"))\n",
    "print('\\n')\n",
    "\n",
    "print('Completed Text:')\n",
    "display(HTML(f\"<p style='font-size:15px; font-family:\\\"Comic Sans MS\\\", cursive;'>{baseline_text}</p>\"))\n",
    "print('\\n')"
   ]
  },
  {
   "cell_type": "markdown",
   "id": "eb4a0c91-f12b-45b8-a6d0-c70cdaf0a263",
   "metadata": {},
   "source": [
    "## A good set of params\n",
    "```python\n",
    "baseline_outputs = model.generate(\n",
    "    input_ids=None,                   # No input tokens are provided here, as we're feeding encoder outputs directly\n",
    "    encoder_outputs=encoder_outputs,  # Encoded representations from the encoder\n",
    "    max_length=300,                   # Set maximum length for the generated text sequence\n",
    "    min_length=100,                    # Set minimum length for the generated text sequence\n",
    "    do_sample=True,                   # Enables sampling for diverse outputs, rather than greedy decoding\n",
    "    num_beams=15,\n",
    "    temperature=1.5, or temperature = 0.15\n",
    "    early_stopping=True\n",
    ")\n",
    "```"
   ]
  },
  {
   "cell_type": "markdown",
   "id": "bc831fb8-f0e8-4305-b27e-3d4b0a639b6b",
   "metadata": {},
   "source": [
    "10_samples.ipynb:\n",
    "model.generate(input_ids=None, encoder_outputs=modified_encoder_outputs, max_length=300, min_length=100, \n",
    "                                      num_beams=5, early_stopping=True)"
   ]
  },
  {
   "cell_type": "markdown",
   "id": "e3441e99-295d-489e-af91-c1aa235f1ceb",
   "metadata": {},
   "source": [
    "Greedy Search:\n",
    "output = model.generate(\n",
    "    input_ids=input_ids,\n",
    "    max_length=50,\n",
    "    num_beams=1,  # Greedy Search uses only one beam\n",
    "    do_sample=False  # Turn off sampling\n",
    ")"
   ]
  },
  {
   "cell_type": "markdown",
   "id": "3ad41a06-d83d-48c9-8c06-7c104a67504c",
   "metadata": {},
   "source": [
    "Beam Search:\n",
    "output = model.generate(\n",
    "    input_ids=input_ids,\n",
    "    max_length=50,\n",
    "    num_beams=5,  # Set the number of beams\n",
    "    do_sample=False  # Disable sampling for deterministic Beam Search\n",
    ")"
   ]
  },
  {
   "cell_type": "code",
   "execution_count": null,
   "id": "93c7003d-edb2-45eb-bec3-f98da4c37123",
   "metadata": {},
   "outputs": [],
   "source": [
    "To do: Greedy search（类）在高temperature有没有生成不完整的问题？\n",
    "BART-large"
   ]
  }
 ],
 "metadata": {
  "kernelspec": {
   "display_name": "Python 3 (ipykernel)",
   "language": "python",
   "name": "python3"
  },
  "language_info": {
   "codemirror_mode": {
    "name": "ipython",
    "version": 3
   },
   "file_extension": ".py",
   "mimetype": "text/x-python",
   "name": "python",
   "nbconvert_exporter": "python",
   "pygments_lexer": "ipython3",
   "version": "3.9.20"
  },
  "widgets": {
   "application/vnd.jupyter.widget-state+json": {
    "state": {
     "0159fed003814136b437b8e94a4cf208": {
      "model_module": "@jupyter-widgets/base",
      "model_module_version": "2.0.0",
      "model_name": "LayoutModel",
      "state": {}
     },
     "08620aebc08e46e1a12953f6f23701f1": {
      "model_module": "@jupyter-widgets/base",
      "model_module_version": "2.0.0",
      "model_name": "LayoutModel",
      "state": {}
     },
     "0b335fb7c01c408eb9787a134e44fd5e": {
      "model_module": "@jupyter-widgets/controls",
      "model_module_version": "2.0.0",
      "model_name": "HTMLModel",
      "state": {
       "layout": "IPY_MODEL_08620aebc08e46e1a12953f6f23701f1",
       "style": "IPY_MODEL_5317c5571fa84e4488ff76cab49ca0dc",
       "value": "config.json: 100%"
      }
     },
     "11e9c0c6978c41c9a27c1360953dce2a": {
      "model_module": "@jupyter-widgets/controls",
      "model_module_version": "2.0.0",
      "model_name": "HTMLStyleModel",
      "state": {
       "description_width": "",
       "font_size": null,
       "text_color": null
      }
     },
     "1c9a533f7e3d4ba7b84021eed2c4544a": {
      "model_module": "@jupyter-widgets/controls",
      "model_module_version": "2.0.0",
      "model_name": "HTMLStyleModel",
      "state": {
       "description_width": "",
       "font_size": null,
       "text_color": null
      }
     },
     "1d3d28f91e5c4dd394e4c9755ab11a52": {
      "model_module": "@jupyter-widgets/controls",
      "model_module_version": "2.0.0",
      "model_name": "HTMLStyleModel",
      "state": {
       "description_width": "",
       "font_size": null,
       "text_color": null
      }
     },
     "1f0a6e62602e4af59e8a7783613b7480": {
      "model_module": "@jupyter-widgets/controls",
      "model_module_version": "2.0.0",
      "model_name": "ProgressStyleModel",
      "state": {
       "description_width": ""
      }
     },
     "1f76b913b51546dca9dd73f1c47b6c34": {
      "model_module": "@jupyter-widgets/base",
      "model_module_version": "2.0.0",
      "model_name": "LayoutModel",
      "state": {}
     },
     "281c7ef798da407e9f6a5dc1dbe1e722": {
      "model_module": "@jupyter-widgets/base",
      "model_module_version": "2.0.0",
      "model_name": "LayoutModel",
      "state": {}
     },
     "29de8a57637b4845849563a288f2d311": {
      "model_module": "@jupyter-widgets/controls",
      "model_module_version": "2.0.0",
      "model_name": "HBoxModel",
      "state": {
       "children": [
        "IPY_MODEL_7382a8ea51494803a8060b521f293e5c",
        "IPY_MODEL_9ffd0ed8e5e1439eac12baec39443593",
        "IPY_MODEL_676b7d52d06e4713871c7bd77eda89ca"
       ],
       "layout": "IPY_MODEL_dde757ed21b5481090a30caf98c59133"
      }
     },
     "2a50878af09347a89deffe627a6489ca": {
      "model_module": "@jupyter-widgets/base",
      "model_module_version": "2.0.0",
      "model_name": "LayoutModel",
      "state": {}
     },
     "2b39f3fdf4d94748822c7fa53a2d546a": {
      "model_module": "@jupyter-widgets/controls",
      "model_module_version": "2.0.0",
      "model_name": "HBoxModel",
      "state": {
       "children": [
        "IPY_MODEL_43677ccc5594415587d204dcb9057a02",
        "IPY_MODEL_dc3baacd610c431f9ebc45b15a19c5d4",
        "IPY_MODEL_6f3f99c3c7414133b4f60f1da78e6d85"
       ],
       "layout": "IPY_MODEL_bf95bb709fcc4d9e9c031d8eedb7c154"
      }
     },
     "2b81ea91fc8f4910a7f4fc6387f7a652": {
      "model_module": "@jupyter-widgets/base",
      "model_module_version": "2.0.0",
      "model_name": "LayoutModel",
      "state": {}
     },
     "2dd31fe735ef4ef9a8b36880f27bfab6": {
      "model_module": "@jupyter-widgets/controls",
      "model_module_version": "2.0.0",
      "model_name": "ProgressStyleModel",
      "state": {
       "description_width": ""
      }
     },
     "421207153522469cb70432ff88191a6e": {
      "model_module": "@jupyter-widgets/controls",
      "model_module_version": "2.0.0",
      "model_name": "ProgressStyleModel",
      "state": {
       "description_width": ""
      }
     },
     "43677ccc5594415587d204dcb9057a02": {
      "model_module": "@jupyter-widgets/controls",
      "model_module_version": "2.0.0",
      "model_name": "HTMLModel",
      "state": {
       "layout": "IPY_MODEL_72d3cf1ff1144d51969ab17b5958fe26",
       "style": "IPY_MODEL_e4f87f68b8584f0d8e49010d9dcc679a",
       "value": "generation_config.json: 100%"
      }
     },
     "4667e3f7fc58413ebbf812bb4dcbd446": {
      "model_module": "@jupyter-widgets/base",
      "model_module_version": "2.0.0",
      "model_name": "LayoutModel",
      "state": {}
     },
     "4764e37c6e1a41059538d7265ee31edc": {
      "model_module": "@jupyter-widgets/controls",
      "model_module_version": "2.0.0",
      "model_name": "HTMLStyleModel",
      "state": {
       "description_width": "",
       "font_size": null,
       "text_color": null
      }
     },
     "4b6a203f6fa842dd9b1b91685dc49a46": {
      "model_module": "@jupyter-widgets/controls",
      "model_module_version": "2.0.0",
      "model_name": "FloatProgressModel",
      "state": {
       "bar_style": "success",
       "layout": "IPY_MODEL_877ff89defb64e4abafa2c38aa1e9046",
       "max": 456318,
       "style": "IPY_MODEL_949cfa68ed9b434cb12ed57e0e1c20a5",
       "value": 456318
      }
     },
     "4d347a53263643158454f1ce07b69db4": {
      "model_module": "@jupyter-widgets/base",
      "model_module_version": "2.0.0",
      "model_name": "LayoutModel",
      "state": {}
     },
     "4e5beb2eeb454927a607ea9ff1ec9418": {
      "model_module": "@jupyter-widgets/base",
      "model_module_version": "2.0.0",
      "model_name": "LayoutModel",
      "state": {}
     },
     "51ba306ed3f841e9ba7551f1f9eadc8d": {
      "model_module": "@jupyter-widgets/base",
      "model_module_version": "2.0.0",
      "model_name": "LayoutModel",
      "state": {}
     },
     "5317c5571fa84e4488ff76cab49ca0dc": {
      "model_module": "@jupyter-widgets/controls",
      "model_module_version": "2.0.0",
      "model_name": "HTMLStyleModel",
      "state": {
       "description_width": "",
       "font_size": null,
       "text_color": null
      }
     },
     "60c93a01ecc04ba880213d72d3d98553": {
      "model_module": "@jupyter-widgets/controls",
      "model_module_version": "2.0.0",
      "model_name": "HBoxModel",
      "state": {
       "children": [
        "IPY_MODEL_8ab48d90dbb9428e93c75a86ee9d3b35",
        "IPY_MODEL_a5306a0519cd4122817e9fcb6976beff",
        "IPY_MODEL_befd2216b63b41f59089aad749dc227a"
       ],
       "layout": "IPY_MODEL_2b81ea91fc8f4910a7f4fc6387f7a652"
      }
     },
     "65449590cb1c4030b17de525f9e1d039": {
      "model_module": "@jupyter-widgets/controls",
      "model_module_version": "2.0.0",
      "model_name": "HBoxModel",
      "state": {
       "children": [
        "IPY_MODEL_e23866202b0d45f7ae11214784fa11d2",
        "IPY_MODEL_4b6a203f6fa842dd9b1b91685dc49a46",
        "IPY_MODEL_f57d30673f2f4f8e84651e0ba8fcc8cc"
       ],
       "layout": "IPY_MODEL_4d347a53263643158454f1ce07b69db4"
      }
     },
     "676b7d52d06e4713871c7bd77eda89ca": {
      "model_module": "@jupyter-widgets/controls",
      "model_module_version": "2.0.0",
      "model_name": "HTMLModel",
      "state": {
       "layout": "IPY_MODEL_1f76b913b51546dca9dd73f1c47b6c34",
       "style": "IPY_MODEL_91564fdc4e8846b88206fd7abe98ab65",
       "value": " 1.36M/1.36M [00:00&lt;00:00, 11.6MB/s]"
      }
     },
     "6d8193cbceca4ecc9e47d1d8a9608d2a": {
      "model_module": "@jupyter-widgets/base",
      "model_module_version": "2.0.0",
      "model_name": "LayoutModel",
      "state": {}
     },
     "6f3f99c3c7414133b4f60f1da78e6d85": {
      "model_module": "@jupyter-widgets/controls",
      "model_module_version": "2.0.0",
      "model_name": "HTMLModel",
      "state": {
       "layout": "IPY_MODEL_e03ff2b1ad034095b6fd9cf28ea30dbf",
       "style": "IPY_MODEL_11e9c0c6978c41c9a27c1360953dce2a",
       "value": " 363/363 [00:00&lt;00:00, 51.9kB/s]"
      }
     },
     "71f15032149a4577889738bc39f28d89": {
      "model_module": "@jupyter-widgets/base",
      "model_module_version": "2.0.0",
      "model_name": "LayoutModel",
      "state": {}
     },
     "72d3cf1ff1144d51969ab17b5958fe26": {
      "model_module": "@jupyter-widgets/base",
      "model_module_version": "2.0.0",
      "model_name": "LayoutModel",
      "state": {}
     },
     "736d19138a654b1db1b95a772ec3f04c": {
      "model_module": "@jupyter-widgets/base",
      "model_module_version": "2.0.0",
      "model_name": "LayoutModel",
      "state": {}
     },
     "7382a8ea51494803a8060b521f293e5c": {
      "model_module": "@jupyter-widgets/controls",
      "model_module_version": "2.0.0",
      "model_name": "HTMLModel",
      "state": {
       "layout": "IPY_MODEL_8d0d19631e84409ab211e2fe2920fa15",
       "style": "IPY_MODEL_ee693e7bc7f748679f37447c90748a4a",
       "value": "tokenizer.json: 100%"
      }
     },
     "756802a64f0f498b977c7591bd5befb7": {
      "model_module": "@jupyter-widgets/controls",
      "model_module_version": "2.0.0",
      "model_name": "ProgressStyleModel",
      "state": {
       "description_width": ""
      }
     },
     "877ff89defb64e4abafa2c38aa1e9046": {
      "model_module": "@jupyter-widgets/base",
      "model_module_version": "2.0.0",
      "model_name": "LayoutModel",
      "state": {}
     },
     "8ab48d90dbb9428e93c75a86ee9d3b35": {
      "model_module": "@jupyter-widgets/controls",
      "model_module_version": "2.0.0",
      "model_name": "HTMLModel",
      "state": {
       "layout": "IPY_MODEL_d68aa692aba94f4485ed4971011b87d8",
       "style": "IPY_MODEL_a3d433d9c6504cddb52778881b5657c0",
       "value": "model.safetensors: 100%"
      }
     },
     "8d0d19631e84409ab211e2fe2920fa15": {
      "model_module": "@jupyter-widgets/base",
      "model_module_version": "2.0.0",
      "model_name": "LayoutModel",
      "state": {}
     },
     "91564fdc4e8846b88206fd7abe98ab65": {
      "model_module": "@jupyter-widgets/controls",
      "model_module_version": "2.0.0",
      "model_name": "HTMLStyleModel",
      "state": {
       "description_width": "",
       "font_size": null,
       "text_color": null
      }
     },
     "949cfa68ed9b434cb12ed57e0e1c20a5": {
      "model_module": "@jupyter-widgets/controls",
      "model_module_version": "2.0.0",
      "model_name": "ProgressStyleModel",
      "state": {
       "description_width": ""
      }
     },
     "9b84557fbf0c4f8b88d168c9abe4127f": {
      "model_module": "@jupyter-widgets/controls",
      "model_module_version": "2.0.0",
      "model_name": "HTMLStyleModel",
      "state": {
       "description_width": "",
       "font_size": null,
       "text_color": null
      }
     },
     "9da6e01c0e9a44158935f2e605ea6941": {
      "model_module": "@jupyter-widgets/controls",
      "model_module_version": "2.0.0",
      "model_name": "FloatProgressModel",
      "state": {
       "bar_style": "success",
       "layout": "IPY_MODEL_4667e3f7fc58413ebbf812bb4dcbd446",
       "max": 1585,
       "style": "IPY_MODEL_1f0a6e62602e4af59e8a7783613b7480",
       "value": 1585
      }
     },
     "9ffd0ed8e5e1439eac12baec39443593": {
      "model_module": "@jupyter-widgets/controls",
      "model_module_version": "2.0.0",
      "model_name": "FloatProgressModel",
      "state": {
       "bar_style": "success",
       "layout": "IPY_MODEL_ccc7e17a150b4e72b1767d4aaf58aad1",
       "max": 1355863,
       "style": "IPY_MODEL_2dd31fe735ef4ef9a8b36880f27bfab6",
       "value": 1355863
      }
     },
     "a3d433d9c6504cddb52778881b5657c0": {
      "model_module": "@jupyter-widgets/controls",
      "model_module_version": "2.0.0",
      "model_name": "HTMLStyleModel",
      "state": {
       "description_width": "",
       "font_size": null,
       "text_color": null
      }
     },
     "a5306a0519cd4122817e9fcb6976beff": {
      "model_module": "@jupyter-widgets/controls",
      "model_module_version": "2.0.0",
      "model_name": "FloatProgressModel",
      "state": {
       "bar_style": "success",
       "layout": "IPY_MODEL_51ba306ed3f841e9ba7551f1f9eadc8d",
       "max": 1625222120,
       "style": "IPY_MODEL_cb7e5317d67c4e099fff4193a0153319",
       "value": 1625222120
      }
     },
     "acbe581382f749d99592f1b1fd1b2b5b": {
      "model_module": "@jupyter-widgets/controls",
      "model_module_version": "2.0.0",
      "model_name": "HTMLModel",
      "state": {
       "layout": "IPY_MODEL_736d19138a654b1db1b95a772ec3f04c",
       "style": "IPY_MODEL_9b84557fbf0c4f8b88d168c9abe4127f",
       "value": " 899k/899k [00:00&lt;00:00, 3.42MB/s]"
      }
     },
     "ad68d6d651884a679b697fccc1a1314c": {
      "model_module": "@jupyter-widgets/base",
      "model_module_version": "2.0.0",
      "model_name": "LayoutModel",
      "state": {}
     },
     "b3ef4287e0a343da97d608a803930e5d": {
      "model_module": "@jupyter-widgets/controls",
      "model_module_version": "2.0.0",
      "model_name": "HTMLStyleModel",
      "state": {
       "description_width": "",
       "font_size": null,
       "text_color": null
      }
     },
     "befd2216b63b41f59089aad749dc227a": {
      "model_module": "@jupyter-widgets/controls",
      "model_module_version": "2.0.0",
      "model_name": "HTMLModel",
      "state": {
       "layout": "IPY_MODEL_2a50878af09347a89deffe627a6489ca",
       "style": "IPY_MODEL_c74a8f2e9c9e4ea48bf529399afc4f8d",
       "value": " 1.63G/1.63G [02:05&lt;00:00, 12.9MB/s]"
      }
     },
     "bf95bb709fcc4d9e9c031d8eedb7c154": {
      "model_module": "@jupyter-widgets/base",
      "model_module_version": "2.0.0",
      "model_name": "LayoutModel",
      "state": {}
     },
     "c08a778f4b314036bfd4622f9ed9ce45": {
      "model_module": "@jupyter-widgets/controls",
      "model_module_version": "2.0.0",
      "model_name": "HTMLModel",
      "state": {
       "layout": "IPY_MODEL_0159fed003814136b437b8e94a4cf208",
       "style": "IPY_MODEL_1c9a533f7e3d4ba7b84021eed2c4544a",
       "value": "vocab.json: 100%"
      }
     },
     "c74a8f2e9c9e4ea48bf529399afc4f8d": {
      "model_module": "@jupyter-widgets/controls",
      "model_module_version": "2.0.0",
      "model_name": "HTMLStyleModel",
      "state": {
       "description_width": "",
       "font_size": null,
       "text_color": null
      }
     },
     "cb7e5317d67c4e099fff4193a0153319": {
      "model_module": "@jupyter-widgets/controls",
      "model_module_version": "2.0.0",
      "model_name": "ProgressStyleModel",
      "state": {
       "description_width": ""
      }
     },
     "ccc7e17a150b4e72b1767d4aaf58aad1": {
      "model_module": "@jupyter-widgets/base",
      "model_module_version": "2.0.0",
      "model_name": "LayoutModel",
      "state": {}
     },
     "d67163316829416483fd6cbb0659d05c": {
      "model_module": "@jupyter-widgets/controls",
      "model_module_version": "2.0.0",
      "model_name": "HBoxModel",
      "state": {
       "children": [
        "IPY_MODEL_c08a778f4b314036bfd4622f9ed9ce45",
        "IPY_MODEL_dafaa949ee514f16b1ad87279042555c",
        "IPY_MODEL_acbe581382f749d99592f1b1fd1b2b5b"
       ],
       "layout": "IPY_MODEL_ad68d6d651884a679b697fccc1a1314c"
      }
     },
     "d68aa692aba94f4485ed4971011b87d8": {
      "model_module": "@jupyter-widgets/base",
      "model_module_version": "2.0.0",
      "model_name": "LayoutModel",
      "state": {}
     },
     "dafaa949ee514f16b1ad87279042555c": {
      "model_module": "@jupyter-widgets/controls",
      "model_module_version": "2.0.0",
      "model_name": "FloatProgressModel",
      "state": {
       "bar_style": "success",
       "layout": "IPY_MODEL_71f15032149a4577889738bc39f28d89",
       "max": 898823,
       "style": "IPY_MODEL_421207153522469cb70432ff88191a6e",
       "value": 898823
      }
     },
     "dc3baacd610c431f9ebc45b15a19c5d4": {
      "model_module": "@jupyter-widgets/controls",
      "model_module_version": "2.0.0",
      "model_name": "FloatProgressModel",
      "state": {
       "bar_style": "success",
       "layout": "IPY_MODEL_f3798d66db9748f9be536a2fe7f302d2",
       "max": 363,
       "style": "IPY_MODEL_756802a64f0f498b977c7591bd5befb7",
       "value": 363
      }
     },
     "dde757ed21b5481090a30caf98c59133": {
      "model_module": "@jupyter-widgets/base",
      "model_module_version": "2.0.0",
      "model_name": "LayoutModel",
      "state": {}
     },
     "de11951fb8ae438fa4007e6e0c2aea5d": {
      "model_module": "@jupyter-widgets/controls",
      "model_module_version": "2.0.0",
      "model_name": "HBoxModel",
      "state": {
       "children": [
        "IPY_MODEL_0b335fb7c01c408eb9787a134e44fd5e",
        "IPY_MODEL_9da6e01c0e9a44158935f2e605ea6941",
        "IPY_MODEL_f877335299644ff0b97cab0950f56c1d"
       ],
       "layout": "IPY_MODEL_6d8193cbceca4ecc9e47d1d8a9608d2a"
      }
     },
     "e03ff2b1ad034095b6fd9cf28ea30dbf": {
      "model_module": "@jupyter-widgets/base",
      "model_module_version": "2.0.0",
      "model_name": "LayoutModel",
      "state": {}
     },
     "e23866202b0d45f7ae11214784fa11d2": {
      "model_module": "@jupyter-widgets/controls",
      "model_module_version": "2.0.0",
      "model_name": "HTMLModel",
      "state": {
       "layout": "IPY_MODEL_281c7ef798da407e9f6a5dc1dbe1e722",
       "style": "IPY_MODEL_1d3d28f91e5c4dd394e4c9755ab11a52",
       "value": "merges.txt: 100%"
      }
     },
     "e4f87f68b8584f0d8e49010d9dcc679a": {
      "model_module": "@jupyter-widgets/controls",
      "model_module_version": "2.0.0",
      "model_name": "HTMLStyleModel",
      "state": {
       "description_width": "",
       "font_size": null,
       "text_color": null
      }
     },
     "e9b64d7825714491959d21660642b16d": {
      "model_module": "@jupyter-widgets/base",
      "model_module_version": "2.0.0",
      "model_name": "LayoutModel",
      "state": {}
     },
     "ee693e7bc7f748679f37447c90748a4a": {
      "model_module": "@jupyter-widgets/controls",
      "model_module_version": "2.0.0",
      "model_name": "HTMLStyleModel",
      "state": {
       "description_width": "",
       "font_size": null,
       "text_color": null
      }
     },
     "f3798d66db9748f9be536a2fe7f302d2": {
      "model_module": "@jupyter-widgets/base",
      "model_module_version": "2.0.0",
      "model_name": "LayoutModel",
      "state": {}
     },
     "f57d30673f2f4f8e84651e0ba8fcc8cc": {
      "model_module": "@jupyter-widgets/controls",
      "model_module_version": "2.0.0",
      "model_name": "HTMLModel",
      "state": {
       "layout": "IPY_MODEL_4e5beb2eeb454927a607ea9ff1ec9418",
       "style": "IPY_MODEL_b3ef4287e0a343da97d608a803930e5d",
       "value": " 456k/456k [00:00&lt;00:00, 28.5MB/s]"
      }
     },
     "f877335299644ff0b97cab0950f56c1d": {
      "model_module": "@jupyter-widgets/controls",
      "model_module_version": "2.0.0",
      "model_name": "HTMLModel",
      "state": {
       "layout": "IPY_MODEL_e9b64d7825714491959d21660642b16d",
       "style": "IPY_MODEL_4764e37c6e1a41059538d7265ee31edc",
       "value": " 1.58k/1.58k [00:00&lt;00:00, 226kB/s]"
      }
     }
    },
    "version_major": 2,
    "version_minor": 0
   }
  }
 },
 "nbformat": 4,
 "nbformat_minor": 5
}
