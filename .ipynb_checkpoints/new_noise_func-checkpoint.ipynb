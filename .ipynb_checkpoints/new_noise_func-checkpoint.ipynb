{
 "cells": [
  {
   "cell_type": "code",
   "execution_count": 1,
   "id": "1ff60f7e-7df0-4371-a016-5b0c7a7247b6",
   "metadata": {},
   "outputs": [],
   "source": [
    "import torch\n",
    "import torch.nn.functional as F\n",
    "\n",
    "def add_noise_with_snr(encoder_output, noise_type='gaussian', target_snr_db=3, dropout_rate=0.4, sp_thresh=0.4):\n",
    "    \"\"\"\n",
    "    Add noise to the encoder output based on a target SNR in dB.\n",
    "    \n",
    "    Parameters:\n",
    "    - encoder_output: torch.Tensor, the encoder's output (last_hidden_state).\n",
    "    - noise_type: string, determines what kind of noise is added.\n",
    "    - target_snr_db: float, the desired signal-to-noise ratio in dB for awgn and dropout.\n",
    "    - dropout_rate: float, range: [0,1], default rate for dropout noise (not used here).\n",
    "    - sp_thresh: float, range: [0,1], determines the threshold for salt-and-pepper noise.\n",
    "    \n",
    "    Returns:\n",
    "    - noisy_encoder_output: torch.Tensor, encoder output with added noise.\n",
    "    \"\"\"\n",
    "\n",
    "    if noise_type.lower() == 'gaussian':\n",
    "        # Generate Gaussian noise\n",
    "        noise = torch.randn_like(encoder_output) * torch.sqrt(noise_power)\n",
    "        return encoder_output + noise\n",
    "\n",
    "    elif noise_type.lower() == 'dropout':\n",
    "        random_tensor = torch.rand_like(encoder_output)\n",
    "        mask = random_tensor >= dropout_rate\n",
    "        noisy_encoder_output = encoder_output * mask.float()\n",
    "        return noisy_encoder_output\n",
    "\n",
    "    elif noise_type.lower() == 'saltpepper':\n",
    "        mask = torch.rand_like(encoder_output) < sp_thresh  # The greater the sp_thresh, more noise is added\n",
    "        salt = torch.max(encoder_output)\n",
    "        pepper = torch.min(encoder_output)\n",
    "        noise = torch.where(torch.rand_like(encoder_output) < 0.5, salt, pepper)\n",
    "        noised_enc_output = torch.where(mask, noise, encoder_output)\n",
    "        return noised_enc_output\n",
    "\n",
    "    else:\n",
    "        raise ValueError(\"Unsupported Noise Type. Choose between 'gaussian', 'dropout', 'saltpepper'.\")\n"
   ]
  },
  {
   "cell_type": "code",
   "execution_count": 64,
   "id": "f1cf4ae8-f91e-4ff6-a3ee-1a270fc6fc7a",
   "metadata": {},
   "outputs": [
    {
     "name": "stdout",
     "output_type": "stream",
     "text": [
      "Target SNR (dB): 50\n",
      "Actual SNR (dB): 50.10110\n",
      "Difference (dB): 0.10110\n"
     ]
    }
   ],
   "source": [
    "import torch\n",
    "\n",
    "# Step 1: Define a large tensor\n",
    "encoder_output = torch.randn(1000, 1000)\n",
    "\n",
    "# Step 2: Set the target SNR in dB\n",
    "target_snr_db = 50  # You can change this value for different tests\n",
    "\n",
    "# Add noise using the modified function\n",
    "noisy_encoder_output = add_noise_with_snr(encoder_output, noise_type='dropout', target_snr_db=target_snr_db)\n",
    "\n",
    "# Step 3: Compute the actual SNR\n",
    "# Signal power\n",
    "signal_power = torch.mean(encoder_output ** 2)\n",
    "\n",
    "# Noise is the difference between the original and the noisy output\n",
    "noise = encoder_output - noisy_encoder_output\n",
    "noise_power = torch.mean(noise ** 2)\n",
    "\n",
    "# Avoid division by zero\n",
    "if noise_power == 0:\n",
    "    actual_snr = float('inf')\n",
    "    actual_snr_db = float('inf')\n",
    "else:\n",
    "    actual_snr = signal_power / noise_power\n",
    "    actual_snr_db = 10 * torch.log10(actual_snr)\n",
    "\n",
    "# Step 4: Print the results\n",
    "print(f\"Target SNR (dB): {target_snr_db}\")\n",
    "print(f\"Actual SNR (dB): {actual_snr_db.item():.5f}\")\n",
    "print(f\"Difference (dB): {abs(target_snr_db - actual_snr_db.item()):.5f}\")"
   ]
  },
  {
   "cell_type": "code",
   "execution_count": 68,
   "id": "7d1963e6-1bfc-49e1-aed5-af91438c1a5c",
   "metadata": {},
   "outputs": [
    {
     "data": {
      "text/plain": [
       "(tensor([ 40,  83, 572, 698, 713, 746, 993]),\n",
       " tensor([506, 970, 898, 870, 579, 378,  76]))"
      ]
     },
     "execution_count": 68,
     "metadata": {},
     "output_type": "execute_result"
    }
   ],
   "source": [
    "torch.where(noisy_encoder_output==0)"
   ]
  },
  {
   "cell_type": "code",
   "execution_count": 70,
   "id": "4b122c3a-513d-4ee1-bbe0-a22ed759676b",
   "metadata": {},
   "outputs": [
    {
     "data": {
      "text/plain": [
       "tensor(0.)"
      ]
     },
     "execution_count": 70,
     "metadata": {},
     "output_type": "execute_result"
    }
   ],
   "source": [
    "noisy_encoder_output[40, 506]"
   ]
  }
 ],
 "metadata": {
  "kernelspec": {
   "display_name": "Python 3 (ipykernel)",
   "language": "python",
   "name": "python3"
  },
  "language_info": {
   "codemirror_mode": {
    "name": "ipython",
    "version": 3
   },
   "file_extension": ".py",
   "mimetype": "text/x-python",
   "name": "python",
   "nbconvert_exporter": "python",
   "pygments_lexer": "ipython3",
   "version": "3.9.20"
  },
  "widgets": {
   "application/vnd.jupyter.widget-state+json": {
    "state": {},
    "version_major": 2,
    "version_minor": 0
   }
  }
 },
 "nbformat": 4,
 "nbformat_minor": 5
}
