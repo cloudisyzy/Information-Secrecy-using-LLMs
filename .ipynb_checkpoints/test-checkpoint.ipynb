{
 "cells": [
  {
   "cell_type": "code",
   "execution_count": 1,
   "id": "d27d910d-b318-41ef-9b9a-96533b57f971",
   "metadata": {},
   "outputs": [],
   "source": [
    "from transformers import BartTokenizer, BartForConditionalGeneration\n",
    "from transformers.modeling_outputs import BaseModelOutput\n",
    "from transformers import pipeline, T5ForConditionalGeneration, T5Tokenizer\n",
    "from IPython.display import display, HTML\n",
    "import torch\n",
    "import matplotlib.pyplot as plt\n",
    "from tqdm.notebook import tqdm\n",
    "from utils import *"
   ]
  },
  {
   "cell_type": "code",
   "execution_count": 2,
   "id": "780608da-5832-4bbb-8a94-2d608e4c315e",
   "metadata": {},
   "outputs": [
    {
     "name": "stderr",
     "output_type": "stream",
     "text": [
      "You are using the default legacy behaviour of the <class 'transformers.models.t5.tokenization_t5.T5Tokenizer'>. This is expected, and simply means that the `legacy` (previous) behavior will be used so nothing changes for you. If you want to use the new behaviour, set `legacy=False`. This should only be set if you understand what it means, and thoroughly read the reason why this was added as explained in https://github.com/huggingface/transformers/pull/24565\n"
     ]
    }
   ],
   "source": [
    "# Automatically choose (prefer NVIDIA GPU)\n",
    "device = torch.device(\"cuda\" if torch.cuda.is_available() else \"cpu\")\n",
    "\n",
    "# Specify model name\n",
    "model_name = \"facebook/bart-base\"\n",
    "# model_name = \"facebook/bart-large\" # Recommend this one if your computer is okay with larger models\n",
    "\n",
    "tokenizer_bart = BartTokenizer.from_pretrained(model_name)\n",
    "model = BartForConditionalGeneration.from_pretrained(model_name).to(device)\n",
    "\n",
    "# Specify model name\n",
    "summarizer_name = \"Falconsai/text_summarization\"\n",
    "\n",
    "tokenizer_sum = T5Tokenizer.from_pretrained(summarizer_name)\n",
    "summarizer = T5ForConditionalGeneration.from_pretrained(summarizer_name).to(device)"
   ]
  },
  {
   "cell_type": "code",
   "execution_count": 3,
   "id": "72dc13d6-df59-4150-af37-4cc67368687a",
   "metadata": {},
   "outputs": [],
   "source": [
    "original_text = \"\"\"\n",
    "Beginners BBQ Class Taking Place in Missoula! \n",
    "Do you want to get better at making delicious BBQ?\n",
    "You will have the opportunity, put this on your calendar now. \n",
    "Thursday, September 22nd join World Class BBQ Champion, Tony Balay from Lonestar Smoke Rangers. \n",
    "He will be teaching a beginner level class for everyone who wants to get better with their culinary skills. \n",
    "He will teach you everything you need to know to compete in a KCBS BBQ competition, including techniques, recipes, timelines, meat selection and trimming, plus smoker and fire information. \n",
    "The cost to be in the class is $35 per person, and for spectators it is free. \n",
    "Included in the cost will be either a t-shirt or apron and you will be tasting samples of each meat that is prepared.\n",
    "\"\"\".replace(\"\\n\", \"\")"
   ]
  },
  {
   "cell_type": "code",
   "execution_count": 4,
   "id": "f782dd33-c919-40ec-82ae-5bf409891f75",
   "metadata": {},
   "outputs": [
    {
     "data": {
      "application/vnd.jupyter.widget-view+json": {
       "model_id": "8130f3f94a474e47aa9ecb240e442f5d",
       "version_major": 2,
       "version_minor": 0
      },
      "text/plain": [
       "  0%|          | 0/10 [00:00<?, ?it/s]"
      ]
     },
     "metadata": {},
     "output_type": "display_data"
    }
   ],
   "source": [
    "input_text_ls = []\n",
    "nr_rounds = 10\n",
    "\n",
    "for _ in range(nr_rounds):\n",
    "    input_text_ls.append(masking(original_text, 4/130))\n",
    "\n",
    "original_ids = tokenizer_sum(original_text, return_tensors=\"pt\").input_ids.to(device)\n",
    "\n",
    "with torch.no_grad():\n",
    "    original_encoder_outputs = summarizer.encoder(input_ids=original_ids)\n",
    "    \n",
    "original_sum_output = summarizer.generate(input_ids=None, encoder_outputs=original_encoder_outputs, max_length=70, output_hidden_states=True,\n",
    "                                        return_dict_in_generate=True, do_sample=True, temperature=0.1)\n",
    "original_summary = tokenizer_sum.decode(original_sum_output.sequences[0], skip_special_tokens=True)\n",
    "\n",
    "em_original_summary = extract_hidden_states(original_sum_output.decoder_hidden_states)\n",
    "\n",
    "em_baseline_summary = []\n",
    "\n",
    "for i in tqdm(range(nr_rounds)):\n",
    "    input_ids = tokenizer_bart(input_text_ls[i], return_tensors=\"pt\").input_ids.to(device)\n",
    "\n",
    "    with torch.no_grad():\n",
    "        encoder_outputs = model.model.encoder(input_ids=input_ids)\n",
    "        \n",
    "    # first LLM\n",
    "    baseline_outputs = model.generate(input_ids=None, encoder_outputs=encoder_outputs, max_length=300, min_length=100, \n",
    "                                    num_beams=15, do_sample=True, temperature=0.15, early_stopping=True)\n",
    "    baseline_text = tokenizer_bart.decode(baseline_outputs[0], skip_special_tokens=True)\n",
    "    # print(baseline_text)\n",
    "\n",
    "    \n",
    "    baseline_ids = tokenizer_sum(baseline_text, return_tensors=\"pt\").input_ids.to(device)\n",
    "    with torch.no_grad():\n",
    "        baseline_encoder_outputs = summarizer.encoder(input_ids=baseline_ids)\n",
    "        \n",
    "    baseline_sum_output = summarizer.generate(input_ids=None, encoder_outputs=baseline_encoder_outputs, max_length=70, output_hidden_states=True,\n",
    "                                            return_dict_in_generate=True, do_sample=True, temperature=0.1)\n",
    "    baseline_summary = tokenizer_sum.decode(baseline_sum_output.sequences[0], skip_special_tokens=True)\n",
    "    # print(baseline_summary)\n",
    "    em_baseline_summary.append(extract_hidden_states(baseline_sum_output.decoder_hidden_states))"
   ]
  },
  {
   "cell_type": "code",
   "execution_count": 11,
   "id": "c35ead04-6d49-43d5-9d29-ed407b9d542b",
   "metadata": {},
   "outputs": [
    {
     "data": {
      "text/plain": [
       "tensor([0.8000, 0.7579, 0.7158, 0.6737, 0.6316, 0.5895, 0.5474, 0.5053, 0.4632,\n",
       "        0.4211, 0.3789, 0.3368, 0.2947, 0.2526, 0.2105, 0.1684, 0.1263, 0.0842,\n",
       "        0.0421, 0.0000])"
      ]
     },
     "execution_count": 11,
     "metadata": {},
     "output_type": "execute_result"
    }
   ],
   "source": [
    "torch.linspace(0.8, 0, 20)"
   ]
  },
  {
   "cell_type": "code",
   "execution_count": 12,
   "id": "b64e7ee8-785e-406e-b81f-f318a743e876",
   "metadata": {},
   "outputs": [
    {
     "data": {
      "application/vnd.jupyter.widget-view+json": {
       "model_id": "6f099ea14dc04d4ab97e96b36984db29",
       "version_major": 2,
       "version_minor": 0
      },
      "text/plain": [
       "  0%|          | 0/20 [00:00<?, ?it/s]"
      ]
     },
     "metadata": {},
     "output_type": "display_data"
    },
    {
     "data": {
      "application/vnd.jupyter.widget-view+json": {
       "model_id": "b0fcf897bd6d4ca8bc8dea73d6518db1",
       "version_major": 2,
       "version_minor": 0
      },
      "text/plain": [
       "  0%|          | 0/10 [00:00<?, ?it/s]"
      ]
     },
     "metadata": {},
     "output_type": "display_data"
    },
    {
     "data": {
      "application/vnd.jupyter.widget-view+json": {
       "model_id": "e5c148b541a04a77ae5f1a2ec1e980fe",
       "version_major": 2,
       "version_minor": 0
      },
      "text/plain": [
       "  0%|          | 0/10 [00:00<?, ?it/s]"
      ]
     },
     "metadata": {},
     "output_type": "display_data"
    },
    {
     "data": {
      "application/vnd.jupyter.widget-view+json": {
       "model_id": "11e4769c92124b138346729cd658dd57",
       "version_major": 2,
       "version_minor": 0
      },
      "text/plain": [
       "  0%|          | 0/10 [00:00<?, ?it/s]"
      ]
     },
     "metadata": {},
     "output_type": "display_data"
    },
    {
     "data": {
      "application/vnd.jupyter.widget-view+json": {
       "model_id": "1a4aee4d0ac749b0b72326fb0362a9ea",
       "version_major": 2,
       "version_minor": 0
      },
      "text/plain": [
       "  0%|          | 0/10 [00:00<?, ?it/s]"
      ]
     },
     "metadata": {},
     "output_type": "display_data"
    },
    {
     "data": {
      "application/vnd.jupyter.widget-view+json": {
       "model_id": "b8b6edab0a184d31910dad0b6b7a699a",
       "version_major": 2,
       "version_minor": 0
      },
      "text/plain": [
       "  0%|          | 0/10 [00:00<?, ?it/s]"
      ]
     },
     "metadata": {},
     "output_type": "display_data"
    },
    {
     "data": {
      "application/vnd.jupyter.widget-view+json": {
       "model_id": "4e43adff193b41279e8305467d912ca6",
       "version_major": 2,
       "version_minor": 0
      },
      "text/plain": [
       "  0%|          | 0/10 [00:00<?, ?it/s]"
      ]
     },
     "metadata": {},
     "output_type": "display_data"
    },
    {
     "data": {
      "application/vnd.jupyter.widget-view+json": {
       "model_id": "83e3e4bf7f754a45a19cddfeb98187b5",
       "version_major": 2,
       "version_minor": 0
      },
      "text/plain": [
       "  0%|          | 0/10 [00:00<?, ?it/s]"
      ]
     },
     "metadata": {},
     "output_type": "display_data"
    },
    {
     "data": {
      "application/vnd.jupyter.widget-view+json": {
       "model_id": "195040677dfe4e799fafc99c78f6c8d3",
       "version_major": 2,
       "version_minor": 0
      },
      "text/plain": [
       "  0%|          | 0/10 [00:00<?, ?it/s]"
      ]
     },
     "metadata": {},
     "output_type": "display_data"
    },
    {
     "data": {
      "application/vnd.jupyter.widget-view+json": {
       "model_id": "0e4cdb62c64d4cf4b36b60c01570354c",
       "version_major": 2,
       "version_minor": 0
      },
      "text/plain": [
       "  0%|          | 0/10 [00:00<?, ?it/s]"
      ]
     },
     "metadata": {},
     "output_type": "display_data"
    },
    {
     "data": {
      "application/vnd.jupyter.widget-view+json": {
       "model_id": "3b0c543f8a9740c492f49ccfb232fdf4",
       "version_major": 2,
       "version_minor": 0
      },
      "text/plain": [
       "  0%|          | 0/10 [00:00<?, ?it/s]"
      ]
     },
     "metadata": {},
     "output_type": "display_data"
    },
    {
     "data": {
      "application/vnd.jupyter.widget-view+json": {
       "model_id": "c2a790a844d8436fae0a38b7ecadfa1b",
       "version_major": 2,
       "version_minor": 0
      },
      "text/plain": [
       "  0%|          | 0/10 [00:00<?, ?it/s]"
      ]
     },
     "metadata": {},
     "output_type": "display_data"
    },
    {
     "data": {
      "application/vnd.jupyter.widget-view+json": {
       "model_id": "b235cc7b2d82454db2dc6231470d6198",
       "version_major": 2,
       "version_minor": 0
      },
      "text/plain": [
       "  0%|          | 0/10 [00:00<?, ?it/s]"
      ]
     },
     "metadata": {},
     "output_type": "display_data"
    },
    {
     "data": {
      "application/vnd.jupyter.widget-view+json": {
       "model_id": "daf4205278fb43098b58f4b20b193f98",
       "version_major": 2,
       "version_minor": 0
      },
      "text/plain": [
       "  0%|          | 0/10 [00:00<?, ?it/s]"
      ]
     },
     "metadata": {},
     "output_type": "display_data"
    },
    {
     "data": {
      "application/vnd.jupyter.widget-view+json": {
       "model_id": "594fd5c0c91a411593ad642e12a73e6d",
       "version_major": 2,
       "version_minor": 0
      },
      "text/plain": [
       "  0%|          | 0/10 [00:00<?, ?it/s]"
      ]
     },
     "metadata": {},
     "output_type": "display_data"
    },
    {
     "data": {
      "application/vnd.jupyter.widget-view+json": {
       "model_id": "f6443a8674b64a47ae5d970d48c3527c",
       "version_major": 2,
       "version_minor": 0
      },
      "text/plain": [
       "  0%|          | 0/10 [00:00<?, ?it/s]"
      ]
     },
     "metadata": {},
     "output_type": "display_data"
    },
    {
     "data": {
      "application/vnd.jupyter.widget-view+json": {
       "model_id": "d2e0fdbb7a4e480a9298d017b56ff668",
       "version_major": 2,
       "version_minor": 0
      },
      "text/plain": [
       "  0%|          | 0/10 [00:00<?, ?it/s]"
      ]
     },
     "metadata": {},
     "output_type": "display_data"
    },
    {
     "data": {
      "application/vnd.jupyter.widget-view+json": {
       "model_id": "c5beff040db84cdc8be22884da39ceab",
       "version_major": 2,
       "version_minor": 0
      },
      "text/plain": [
       "  0%|          | 0/10 [00:00<?, ?it/s]"
      ]
     },
     "metadata": {},
     "output_type": "display_data"
    },
    {
     "data": {
      "application/vnd.jupyter.widget-view+json": {
       "model_id": "55512da31a004b04afdf3ebe6f9993fa",
       "version_major": 2,
       "version_minor": 0
      },
      "text/plain": [
       "  0%|          | 0/10 [00:00<?, ?it/s]"
      ]
     },
     "metadata": {},
     "output_type": "display_data"
    },
    {
     "data": {
      "application/vnd.jupyter.widget-view+json": {
       "model_id": "cb77b816e08741c082ff5f64d92ecc70",
       "version_major": 2,
       "version_minor": 0
      },
      "text/plain": [
       "  0%|          | 0/10 [00:00<?, ?it/s]"
      ]
     },
     "metadata": {},
     "output_type": "display_data"
    },
    {
     "data": {
      "application/vnd.jupyter.widget-view+json": {
       "model_id": "3fdb704a3a8d4c82b5ee3a90e3783fcb",
       "version_major": 2,
       "version_minor": 0
      },
      "text/plain": [
       "  0%|          | 0/10 [00:00<?, ?it/s]"
      ]
     },
     "metadata": {},
     "output_type": "display_data"
    }
   ],
   "source": [
    "# Define SNR range\n",
    "# snr_range = list(range(-20, 21, 6)) + list(range(22, 55, 5)) + list(range(64, 101, 6)) \n",
    "# snr_range = list(range(-3, 20, 4)) \n",
    "snr_range = torch.linspace(0.8, 0, 20)\n",
    "cs_list_mean = []\n",
    "cs_list_lower = []\n",
    "cs_list_upper = []\n",
    "mi_list_mean = []\n",
    "mi_list_lower = []\n",
    "mi_list_upper = []\n",
    "\n",
    "\n",
    "for target_snr in tqdm(snr_range):\n",
    "    cs_list_texts = []\n",
    "    mi_list_texts = []\n",
    "    for i in tqdm(range(nr_rounds)):\n",
    "        input_ids = tokenizer_bart(input_text_ls[i], return_tensors=\"pt\").input_ids.to(device)\n",
    "        with torch.no_grad():\n",
    "            encoder_outputs = model.model.encoder(input_ids=input_ids)\n",
    "        \n",
    "        # add noise\n",
    "        noisy_encoder_output = add_noise_with_snr(\n",
    "            encoder_output = encoder_outputs.last_hidden_state,\n",
    "            noise_type = \"dropout\",\n",
    "            target_snr_db = 0,\n",
    "            dropout_rate = target_snr,\n",
    "            sp_thresh = 0\n",
    "        )\n",
    "        modified_encoder_outputs = BaseModelOutput(last_hidden_state=noisy_encoder_output)\n",
    "        \n",
    "        # first LLM\n",
    "        noisy_outputs = model.generate(input_ids=None, encoder_outputs=modified_encoder_outputs, max_length=300, min_length=100, \n",
    "                                    num_beams=15, do_sample=True, temperature=0.15, early_stopping=True)\n",
    "        noisy_text = tokenizer_bart.decode(noisy_outputs[0], skip_special_tokens=True)\n",
    "        #print(noisy_text)\n",
    "    \n",
    "        # second LLM\n",
    "        noisy_ids = tokenizer_sum(noisy_text, return_tensors=\"pt\").input_ids.to(device)\n",
    "        with torch.no_grad():\n",
    "            noisy_encoder_outputs = summarizer.encoder(input_ids=noisy_ids)\n",
    "        noisy_sum_output = summarizer.generate(input_ids=None, encoder_outputs=noisy_encoder_outputs, max_length=70, output_hidden_states=True,\n",
    "                                            return_dict_in_generate=True, do_sample=True, temperature=0.1)\n",
    "        noisy_summary = tokenizer_sum.decode(noisy_sum_output.sequences[0], skip_special_tokens=True)\n",
    "        #print(noisy_summary)\n",
    "        \n",
    "        \n",
    "        # get embeddings\n",
    "        em_noisy_summary = extract_hidden_states(noisy_sum_output.decoder_hidden_states)\n",
    "        \n",
    "        # pad each embedding with embedding of baseline\n",
    "        pad_em_baseline_summary, pad_em_noisy_summary = align_tensors(em_baseline_summary[i], em_noisy_summary)\n",
    "        \n",
    "        # calculate cs\n",
    "        cs_list_texts.append(F.cosine_similarity(pad_em_baseline_summary, pad_em_noisy_summary, dim=1).mean().item())\n",
    "    \n",
    "        # calculate mi\n",
    "        em_noisy_summary_np = em_noisy_summary.cpu().numpy()\n",
    "        em_baseline_summary_np = em_baseline_summary[i].cpu().numpy()\n",
    "        mi_list_texts.append(ksg(em_baseline_summary_np, em_noisy_summary_np))\n",
    "    \n",
    "    # for each snr calculate mean cs and mi\n",
    "    cs_list_mean.append(np.mean(cs_list_texts))\n",
    "    mi_list_mean.append(np.mean(mi_list_texts))\n",
    "    \n",
    "\n",
    "    z = 1.96  # For 95% confidence level\n",
    "    cs_list_std = np.std(cs_list_texts, axis=0)\n",
    "    margin_of_error = z * (cs_list_std / np.sqrt(nr_rounds))\n",
    "    cs_list_lower.append(cs_list_mean[-1] - margin_of_error)\n",
    "    cs_list_upper.append(cs_list_mean[-1] + margin_of_error)\n",
    "    # print(cs_list_lower)\n",
    "\n",
    "    mi_list_std = np.std(mi_list_texts, axis=0)\n",
    "    margin_of_error = z * (mi_list_std / np.sqrt(nr_rounds))\n",
    "    mi_list_lower.append(mi_list_mean[-1] - margin_of_error)\n",
    "    mi_list_upper.append(mi_list_mean[-1] + margin_of_error)\n",
    "    \n",
    "cs_base_orig_ls = []\n",
    "mi_base_orig_ls = []\n",
    "for i in range(nr_rounds):\n",
    "    pad_em_baseline_summary, pad_em_original_summary = align_tensors(em_baseline_summary[i], em_original_summary)\n",
    "    cs_base_orig_ls.append(F.cosine_similarity(pad_em_baseline_summary, pad_em_original_summary, dim=1).mean().item())\n",
    "\n",
    "    em_original_summary_np = em_original_summary.cpu().numpy()\n",
    "    em_baseline_summary_np = em_baseline_summary[i].cpu().numpy()\n",
    "\n",
    "    mi_base_orig_ls.append(ksg(em_baseline_summary_np, em_original_summary_np))\n",
    "    \n",
    "cs_base_orig_mean = np.mean(cs_base_orig_ls)\n",
    "mi_base_orig_mean = np.mean(mi_base_orig_ls)"
   ]
  },
  {
   "cell_type": "code",
   "execution_count": 13,
   "id": "8819a0a0-906a-4327-9ad0-46001a89b171",
   "metadata": {},
   "outputs": [
    {
     "data": {
      "image/png": "[encoded data removed]",
      "text/plain": [
       "<Figure size 6000x1800 with 1 Axes>"
      ]
     },
     "metadata": {},
     "output_type": "display_data"
    },
    {
     "data": {
      "image/png": "[encoded data removed]",
      "text/plain": [
       "<Figure size 6000x1800 with 1 Axes>"
      ]
     },
     "metadata": {},
     "output_type": "display_data"
    }
   ],
   "source": [
    "plt.figure(figsize=(20, 6), dpi=300)\n",
    "plt.plot(snr_range, cs_list_mean, marker='o')\n",
    "plt.axhline(y=cs_base_orig_mean, color='r', linestyle='--', label='Cosine Similarity between the baseline and the original')\n",
    "plt.fill_between(snr_range, cs_list_lower, cs_list_upper, color='b', alpha=0.2, label='95% Confidence Interval')\n",
    "plt.ylim([0.0,1.1])\n",
    "plt.xlabel(\"SNR (dB)\")\n",
    "plt.ylabel(\"Cosine Similarity\")\n",
    "plt.title(\"Cosine Similarity of Baseline and Noisy Summary\")\n",
    "plt.grid()\n",
    "plt.legend()\n",
    "plt.show()\n",
    "\n",
    "plt.figure(figsize=(20, 6), dpi=300)\n",
    "plt.plot(snr_range, mi_list_mean, marker='o')\n",
    "plt.axhline(y=mi_base_orig_mean, color='r', linestyle='--', label='Mutual Information between the baseline and the original')\n",
    "plt.fill_between(snr_range, mi_list_lower, mi_list_upper, color='b', alpha=0.2, label='95% Confidence Interval')\n",
    "plt.ylim([0.0,5.1])\n",
    "plt.xlabel(\"SNR (dB)\")\n",
    "plt.ylabel(\"MI similarities of Baseline\")\n",
    "plt.title(\"MI similarities of Baseline and Noisy Summary\")\n",
    "plt.grid()\n",
    "plt.legend()\n",
    "plt.show()"
   ]
  },
  {
   "cell_type": "code",
   "execution_count": null,
   "id": "8eec87e4-d920-43af-b47d-fd8bb5fa2ea0",
   "metadata": {},
   "outputs": [],
   "source": []
  }
 ],
 "metadata": {
  "kernelspec": {
   "display_name": "Python 3 (ipykernel)",
   "language": "python",
   "name": "python3"
  },
  "language_info": {
   "codemirror_mode": {
    "name": "ipython",
    "version": 3
   },
   "file_extension": ".py",
   "mimetype": "text/x-python",
   "name": "python",
   "nbconvert_exporter": "python",
   "pygments_lexer": "ipython3",
   "version": "3.9.20"
  },
  "widgets": {
   "application/vnd.jupyter.widget-state+json": {
    "state": {
     "005ae0998bd34496814a99d31c39a584": {
      "model_module": "@jupyter-widgets/controls",
      "model_module_version": "2.0.0",
      "model_name": "HTMLStyleModel",
      "state": {
       "description_width": "",
       "font_size": null,
       "text_color": null
      }
     },
     "0066512af41a41cab2b3845aeff60880": {
      "model_module": "@jupyter-widgets/base",
      "model_module_version": "2.0.0",
      "model_name": "LayoutModel",
      "state": {}
     },
     "00a70bf6cbd54f8ead3dda86e90fc3cd": {
      "model_module": "@jupyter-widgets/base",
      "model_module_version": "2.0.0",
      "model_name": "LayoutModel",
      "state": {}
     },
     "0144896f167342cfafb184ca04d31ae1": {
      "model_module": "@jupyter-widgets/controls",
      "model_module_version": "2.0.0",
      "model_name": "HTMLStyleModel",
      "state": {
       "description_width": "",
       "font_size": null,
       "text_color": null
      }
     },
     "01cd7d781572453c8c911b677ae4fbcc": {
      "model_module": "@jupyter-widgets/controls",
      "model_module_version": "2.0.0",
      "model_name": "HTMLStyleModel",
      "state": {
       "description_width": "",
       "font_size": null,
       "text_color": null
      }
     },
     "0209f891a3604391a8ed364da133b241": {
      "model_module": "@jupyter-widgets/base",
      "model_module_version": "2.0.0",
      "model_name": "LayoutModel",
      "state": {}
     },
     "024d75d6bc9e443681ffcd83b5be4079": {
      "model_module": "@jupyter-widgets/base",
      "model_module_version": "2.0.0",
      "model_name": "LayoutModel",
      "state": {}
     },
     "034811ecda3546d184c9707672441539": {
      "model_module": "@jupyter-widgets/controls",
      "model_module_version": "2.0.0",
      "model_name": "FloatProgressModel",
      "state": {
       "bar_style": "success",
       "layout": "IPY_MODEL_9f14e973a480444d87d505fac04940df",
       "max": 10,
       "style": "IPY_MODEL_6bbe7949eed04fb69e280e6cb9eb56d9",
       "value": 10
      }
     },
     "034c49ec6cc943269ca23196507085f6": {
      "model_module": "@jupyter-widgets/base",
      "model_module_version": "2.0.0",
      "model_name": "LayoutModel",
      "state": {}
     },
     "03576015be694f3f8e23e241ce471135": {
      "model_module": "@jupyter-widgets/base",
      "model_module_version": "2.0.0",
      "model_name": "LayoutModel",
      "state": {}
     },
     "036ff6ed4b0f4903b415289f118e764e": {
      "model_module": "@jupyter-widgets/base",
      "model_module_version": "2.0.0",
      "model_name": "LayoutModel",
      "state": {}
     },
     "040634cf404040dd88e86a41fb73d09c": {
      "model_module": "@jupyter-widgets/base",
      "model_module_version": "2.0.0",
      "model_name": "LayoutModel",
      "state": {}
     },
     "04ad94e671ce4c8baf6a2cd01ed9eee3": {
      "model_module": "@jupyter-widgets/base",
      "model_module_version": "2.0.0",
      "model_name": "LayoutModel",
      "state": {}
     },
     "04be51106c6741038e139e7d919fb31c": {
      "model_module": "@jupyter-widgets/base",
      "model_module_version": "2.0.0",
      "model_name": "LayoutModel",
      "state": {}
     },
     "04f8e30c00a748d8953d3d51dfdde6d1": {
      "model_module": "@jupyter-widgets/base",
      "model_module_version": "2.0.0",
      "model_name": "LayoutModel",
      "state": {}
     },
     "05ade1411f2d4ba690e3ca4aa1f26b33": {
      "model_module": "@jupyter-widgets/base",
      "model_module_version": "2.0.0",
      "model_name": "LayoutModel",
      "state": {}
     },
     "05f75aa994ca49bc9fe9e7cce0341425": {
      "model_module": "@jupyter-widgets/base",
      "model_module_version": "2.0.0",
      "model_name": "LayoutModel",
      "state": {}
     },
     "05f95e2be96544eca28a74faebf9424d": {
      "model_module": "@jupyter-widgets/base",
      "model_module_version": "2.0.0",
      "model_name": "LayoutModel",
      "state": {}
     },
     "06d1616ab5b54215998b735c7223dacf": {
      "model_module": "@jupyter-widgets/controls",
      "model_module_version": "2.0.0",
      "model_name": "ProgressStyleModel",
      "state": {
       "description_width": ""
      }
     },
     "070e3f9ff4a64a9db2a2f7a03ff680f3": {
      "model_module": "@jupyter-widgets/controls",
      "model_module_version": "2.0.0",
      "model_name": "HTMLModel",
      "state": {
       "layout": "IPY_MODEL_ed9f2fa52120449e86cc502679b3eb78",
       "style": "IPY_MODEL_fdc78cc3afa44862b4e4d5d1c4a3a547",
       "value": "100%"
      }
     },
     "0710b94eff494f3f9e39486bc9982387": {
      "model_module": "@jupyter-widgets/base",
      "model_module_version": "2.0.0",
      "model_name": "LayoutModel",
      "state": {}
     },
     "07663eb20cd8487fba4e0f8e59b74343": {
      "model_module": "@jupyter-widgets/base",
      "model_module_version": "2.0.0",
      "model_name": "LayoutModel",
      "state": {}
     },
     "079fef2b342d49d8ac39b34e30349194": {
      "model_module": "@jupyter-widgets/controls",
      "model_module_version": "2.0.0",
      "model_name": "HBoxModel",
      "state": {
       "children": [
        "IPY_MODEL_6f0d6f9f71ec42b1bb21cbded7ebae48",
        "IPY_MODEL_91f11444d0ac4bd798fe3b54e97c7202",
        "IPY_MODEL_71be65e3dbfe4c5e913b7c702b308b01"
       ],
       "layout": "IPY_MODEL_a9c82ae6769345868f4f3d5d9cb42b58"
      }
     },
     "082bc530f4b845eaa23b3ee7a071fd0f": {
      "model_module": "@jupyter-widgets/controls",
      "model_module_version": "2.0.0",
      "model_name": "HTMLModel",
      "state": {
       "layout": "IPY_MODEL_7d964b38efa14c048c7508ff1233addd",
       "style": "IPY_MODEL_50fa8d6285334bd3be5f396918a9fdde",
       "value": " 10/10 [00:46&lt;00:00,  4.78s/it]"
      }
     },
     "08a69f15e7904e37b2e9721b584ef6e4": {
      "model_module": "@jupyter-widgets/controls",
      "model_module_version": "2.0.0",
      "model_name": "HTMLStyleModel",
      "state": {
       "description_width": "",
       "font_size": null,
       "text_color": null
      }
     },
     "09c9fa9a25464de497d59b655f449d5d": {
      "model_module": "@jupyter-widgets/base",
      "model_module_version": "2.0.0",
      "model_name": "LayoutModel",
      "state": {}
     },
     "09dacd0cb93540e99584e0182214e113": {
      "model_module": "@jupyter-widgets/base",
      "model_module_version": "2.0.0",
      "model_name": "LayoutModel",
      "state": {}
     },
     "0ac2ce7d2b8b4dd78ac513dd0fd6ada8": {
      "model_module": "@jupyter-widgets/controls",
      "model_module_version": "2.0.0",
      "model_name": "HTMLModel",
      "state": {
       "layout": "IPY_MODEL_d9dc441f49f04ca0abb91ca8fe031cc1",
       "style": "IPY_MODEL_3d03c38dd8ea4b71908824b28bf4b819",
       "value": "  0%"
      }
     },
     "0b01c0147f454bf5a2b39853a03dfa21": {
      "model_module": "@jupyter-widgets/base",
      "model_module_version": "2.0.0",
      "model_name": "LayoutModel",
      "state": {}
     },
     "0b7a1778b5e242799508dfbd6656a4e2": {
      "model_module": "@jupyter-widgets/base",
      "model_module_version": "2.0.0",
      "model_name": "LayoutModel",
      "state": {}
     },
     "0bae73351f1e4e63a15f9881bb037d50": {
      "model_module": "@jupyter-widgets/base",
      "model_module_version": "2.0.0",
      "model_name": "LayoutModel",
      "state": {}
     },
     "0cdf08030073485a92c54d2163d953d8": {
      "model_module": "@jupyter-widgets/controls",
      "model_module_version": "2.0.0",
      "model_name": "ProgressStyleModel",
      "state": {
       "description_width": ""
      }
     },
     "0e4cdb62c64d4cf4b36b60c01570354c": {
      "model_module": "@jupyter-widgets/controls",
      "model_module_version": "2.0.0",
      "model_name": "HBoxModel",
      "state": {
       "children": [
        "IPY_MODEL_49d3c5e504394acfa4b0fd950dba349a",
        "IPY_MODEL_30f2367fa9964195acc8da068c4993e8",
        "IPY_MODEL_cab8dcdfe1d04c0cafa377dedbcce9a0"
       ],
       "layout": "IPY_MODEL_0b7a1778b5e242799508dfbd6656a4e2"
      }
     },
     "0e52d16b7de042b4ab8af2b693367295": {
      "model_module": "@jupyter-widgets/controls",
      "model_module_version": "2.0.0",
      "model_name": "FloatProgressModel",
      "state": {
       "bar_style": "success",
       "layout": "IPY_MODEL_15c37aa7dfb5480fbe3dfd5d1d5f7e1a",
       "max": 10,
       "style": "IPY_MODEL_b13f5747780943c6bc85ab8319e32512",
       "value": 10
      }
     },
     "0f79c056b7284c40aa5a046654e8de1f": {
      "model_module": "@jupyter-widgets/controls",
      "model_module_version": "2.0.0",
      "model_name": "HTMLStyleModel",
      "state": {
       "description_width": "",
       "font_size": null,
       "text_color": null
      }
     },
     "0fc488730a5f4e7e8b104f18865c5bbe": {
      "model_module": "@jupyter-widgets/controls",
      "model_module_version": "2.0.0",
      "model_name": "HTMLModel",
      "state": {
       "layout": "IPY_MODEL_88d189ac5cd544a9b30a4414bfbc054c",
       "style": "IPY_MODEL_88f3dc8f87f2419ebe0baff07a2ee3bc",
       "value": "100%"
      }
     },
     "107256edd6984cef8bba7b939c4f22dc": {
      "model_module": "@jupyter-widgets/base",
      "model_module_version": "2.0.0",
      "model_name": "LayoutModel",
      "state": {}
     },
     "119e4b4b663d4a22b57260d2ca593f3d": {
      "model_module": "@jupyter-widgets/controls",
      "model_module_version": "2.0.0",
      "model_name": "HTMLModel",
      "state": {
       "layout": "IPY_MODEL_af31c3c11f4d4a488b55387078566704",
       "style": "IPY_MODEL_f7ad1ba41f9241fca80c57dde1c58407",
       "value": "100%"
      }
     },
     "11ba451e33344dcdba2577eb62cb6005": {
      "model_module": "@jupyter-widgets/controls",
      "model_module_version": "2.0.0",
      "model_name": "HTMLModel",
      "state": {
       "layout": "IPY_MODEL_f9f47a1056334f418d06669b16b7042a",
       "style": "IPY_MODEL_f2a171bf299642ffbcf2dbcfb876a3b8",
       "value": " 0/6 [00:16&lt;?, ?it/s]"
      }
     },
     "11e4769c92124b138346729cd658dd57": {
      "model_module": "@jupyter-widgets/controls",
      "model_module_version": "2.0.0",
      "model_name": "HBoxModel",
      "state": {
       "children": [
        "IPY_MODEL_838598d28b0040b795ca58b71edf4dec",
        "IPY_MODEL_b407ce0d43a04a3fa1cc8c89d801fef7",
        "IPY_MODEL_31842a88ce7047548382dfb183ad677f"
       ],
       "layout": "IPY_MODEL_0bae73351f1e4e63a15f9881bb037d50"
      }
     },
     "11fbd99c67ec4458a71325f3a36578e9": {
      "model_module": "@jupyter-widgets/controls",
      "model_module_version": "2.0.0",
      "model_name": "ProgressStyleModel",
      "state": {
       "description_width": ""
      }
     },
     "1209857856414b3898e2f39915156a5e": {
      "model_module": "@jupyter-widgets/controls",
      "model_module_version": "2.0.0",
      "model_name": "HTMLModel",
      "state": {
       "layout": "IPY_MODEL_8ac0787af53e4d92a453cce1d230b1ad",
       "style": "IPY_MODEL_14c643f6329f439fa8fa3dc5aebf8c17",
       "value": "100%"
      }
     },
     "133f4b2372744b9ab797f96448abb082": {
      "model_module": "@jupyter-widgets/base",
      "model_module_version": "2.0.0",
      "model_name": "LayoutModel",
      "state": {}
     },
     "13dbaf6a803a40bfbf3ce455c56a21bf": {
      "model_module": "@jupyter-widgets/controls",
      "model_module_version": "2.0.0",
      "model_name": "ProgressStyleModel",
      "state": {
       "description_width": ""
      }
     },
     "13dbb44467ee472ab9457e9280a90c0b": {
      "model_module": "@jupyter-widgets/base",
      "model_module_version": "2.0.0",
      "model_name": "LayoutModel",
      "state": {}
     },
     "14c643f6329f439fa8fa3dc5aebf8c17": {
      "model_module": "@jupyter-widgets/controls",
      "model_module_version": "2.0.0",
      "model_name": "HTMLStyleModel",
      "state": {
       "description_width": "",
       "font_size": null,
       "text_color": null
      }
     },
     "15a8a566d58843838c81cf54af380613": {
      "model_module": "@jupyter-widgets/controls",
      "model_module_version": "2.0.0",
      "model_name": "HTMLStyleModel",
      "state": {
       "description_width": "",
       "font_size": null,
       "text_color": null
      }
     },
     "15b8f1e198194f148bb6ee276587ab73": {
      "model_module": "@jupyter-widgets/controls",
      "model_module_version": "2.0.0",
      "model_name": "HTMLStyleModel",
      "state": {
       "description_width": "",
       "font_size": null,
       "text_color": null
      }
     },
     "15c37aa7dfb5480fbe3dfd5d1d5f7e1a": {
      "model_module": "@jupyter-widgets/base",
      "model_module_version": "2.0.0",
      "model_name": "LayoutModel",
      "state": {}
     },
     "163baf198aa04aa6985b0b3a18bc777e": {
      "model_module": "@jupyter-widgets/controls",
      "model_module_version": "2.0.0",
      "model_name": "HTMLStyleModel",
      "state": {
       "description_width": "",
       "font_size": null,
       "text_color": null
      }
     },
     "16bc54d96f3e448d9e810c518553c824": {
      "model_module": "@jupyter-widgets/controls",
      "model_module_version": "2.0.0",
      "model_name": "HTMLStyleModel",
      "state": {
       "description_width": "",
       "font_size": null,
       "text_color": null
      }
     },
     "17822429ece6489b90caeaac55d42432": {
      "model_module": "@jupyter-widgets/base",
      "model_module_version": "2.0.0",
      "model_name": "LayoutModel",
      "state": {}
     },
     "17884b01be214aafbfaae7c98b7a36c9": {
      "model_module": "@jupyter-widgets/base",
      "model_module_version": "2.0.0",
      "model_name": "LayoutModel",
      "state": {}
     },
     "17e5a01f3ab349d98bb832ac7f1ca161": {
      "model_module": "@jupyter-widgets/controls",
      "model_module_version": "2.0.0",
      "model_name": "ProgressStyleModel",
      "state": {
       "description_width": ""
      }
     },
     "17fa1d20f0264a3aab9b4ac36e14225b": {
      "model_module": "@jupyter-widgets/controls",
      "model_module_version": "2.0.0",
      "model_name": "HTMLStyleModel",
      "state": {
       "description_width": "",
       "font_size": null,
       "text_color": null
      }
     },
     "185dce943f88459fbe9e66b23f28d52b": {
      "model_module": "@jupyter-widgets/base",
      "model_module_version": "2.0.0",
      "model_name": "LayoutModel",
      "state": {}
     },
     "188cccbcdcfc4347a7db03a37c793970": {
      "model_module": "@jupyter-widgets/controls",
      "model_module_version": "2.0.0",
      "model_name": "HTMLStyleModel",
      "state": {
       "description_width": "",
       "font_size": null,
       "text_color": null
      }
     },
     "195040677dfe4e799fafc99c78f6c8d3": {
      "model_module": "@jupyter-widgets/controls",
      "model_module_version": "2.0.0",
      "model_name": "HBoxModel",
      "state": {
       "children": [
        "IPY_MODEL_1f1675c6679f4df6b32772b08ae33a3d",
        "IPY_MODEL_90323ec026f541adb0becc26ace96030",
        "IPY_MODEL_76abc0be2c12428a92039f89c4e3bfed"
       ],
       "layout": "IPY_MODEL_c0b8028c58d6478c8d5b5a4c29f1bf08"
      }
     },
     "19ef73710719499cba74dd1e66ccfac2": {
      "model_module": "@jupyter-widgets/controls",
      "model_module_version": "2.0.0",
      "model_name": "HTMLModel",
      "state": {
       "layout": "IPY_MODEL_8b4c914396ec493bb3dc170460a26772",
       "style": "IPY_MODEL_33ffdc74d0cb4f54804d6da17e1341a4",
       "value": "100%"
      }
     },
     "1a4aee4d0ac749b0b72326fb0362a9ea": {
      "model_module": "@jupyter-widgets/controls",
      "model_module_version": "2.0.0",
      "model_name": "HBoxModel",
      "state": {
       "children": [
        "IPY_MODEL_e015151446be4ad5806b77adafe979a2",
        "IPY_MODEL_88f7a8df405649ae86f3ce893c71861b",
        "IPY_MODEL_d340686547724375bd2e723d7882182c"
       ],
       "layout": "IPY_MODEL_4b5ceea9ea614818bcfebd7e90d3e3d9"
      }
     },
     "1ac6d85d34154bd7a99d69b234cd9f50": {
      "model_module": "@jupyter-widgets/controls",
      "model_module_version": "2.0.0",
      "model_name": "HTMLStyleModel",
      "state": {
       "description_width": "",
       "font_size": null,
       "text_color": null
      }
     },
     "1b4b88c155204ba4a9b724c8c92fb349": {
      "model_module": "@jupyter-widgets/base",
      "model_module_version": "2.0.0",
      "model_name": "LayoutModel",
      "state": {}
     },
     "1bbcdd0113374c82850b0f5c2f808bf5": {
      "model_module": "@jupyter-widgets/base",
      "model_module_version": "2.0.0",
      "model_name": "LayoutModel",
      "state": {}
     },
     "1c7c7de04ef04798acecc4f3dccb7e1c": {
      "model_module": "@jupyter-widgets/controls",
      "model_module_version": "2.0.0",
      "model_name": "HTMLModel",
      "state": {
       "layout": "IPY_MODEL_7bb9f72e913e459aa1c0b37f29753575",
       "style": "IPY_MODEL_afcd026a97fb4ccb8c0c8108a8a68f15",
       "value": "100%"
      }
     },
     "1d653af93c5b44579f734b5abe7ac79f": {
      "model_module": "@jupyter-widgets/controls",
      "model_module_version": "2.0.0",
      "model_name": "FloatProgressModel",
      "state": {
       "bar_style": "success",
       "layout": "IPY_MODEL_478a4036f0db47bcbe9b8c48ebc7e5b5",
       "max": 10,
       "style": "IPY_MODEL_f5b0a5b24c4c4887a1a4f351968e8731",
       "value": 10
      }
     },
     "1d993b7fd2f349a4a31eb52cbcdbef9a": {
      "model_module": "@jupyter-widgets/controls",
      "model_module_version": "2.0.0",
      "model_name": "HTMLStyleModel",
      "state": {
       "description_width": "",
       "font_size": null,
       "text_color": null
      }
     },
     "1dac494aa2954ec78264ca50aab8d72f": {
      "model_module": "@jupyter-widgets/controls",
      "model_module_version": "2.0.0",
      "model_name": "HTMLModel",
      "state": {
       "layout": "IPY_MODEL_e9f0c952646743e08071199eca4a00f1",
       "style": "IPY_MODEL_ee35165db32d4c099a55279587561d85",
       "value": "100%"
      }
     },
     "1e1af3f0eea44748b01b07e71160fcde": {
      "model_module": "@jupyter-widgets/base",
      "model_module_version": "2.0.0",
      "model_name": "LayoutModel",
      "state": {}
     },
     "1e70319d526c4a2d9a4e57bf4c9483fe": {
      "model_module": "@jupyter-widgets/base",
      "model_module_version": "2.0.0",
      "model_name": "LayoutModel",
      "state": {}
     },
     "1edd132d8e1a4a88bbca2e7197f2702d": {
      "model_module": "@jupyter-widgets/base",
      "model_module_version": "2.0.0",
      "model_name": "LayoutModel",
      "state": {}
     },
     "1f1675c6679f4df6b32772b08ae33a3d": {
      "model_module": "@jupyter-widgets/controls",
      "model_module_version": "2.0.0",
      "model_name": "HTMLModel",
      "state": {
       "layout": "IPY_MODEL_ba89e2c85ff34760bb4d338cc5ad5c74",
       "style": "IPY_MODEL_93cbe50749184e1b837b815627bf9624",
       "value": "100%"
      }
     },
     "212263675a7e44c894b709e39f912a0e": {
      "model_module": "@jupyter-widgets/controls",
      "model_module_version": "2.0.0",
      "model_name": "HTMLStyleModel",
      "state": {
       "description_width": "",
       "font_size": null,
       "text_color": null
      }
     },
     "21a1d6af4b15433fb1d2c582cfb9d439": {
      "model_module": "@jupyter-widgets/base",
      "model_module_version": "2.0.0",
      "model_name": "LayoutModel",
      "state": {}
     },
     "225f68e59188406eb89da937c6d79a40": {
      "model_module": "@jupyter-widgets/controls",
      "model_module_version": "2.0.0",
      "model_name": "ProgressStyleModel",
      "state": {
       "description_width": ""
      }
     },
     "228ea8dc313846d08720201a1ea7aa32": {
      "model_module": "@jupyter-widgets/base",
      "model_module_version": "2.0.0",
      "model_name": "LayoutModel",
      "state": {}
     },
     "23c9e34d59344130a2e8958d84260523": {
      "model_module": "@jupyter-widgets/base",
      "model_module_version": "2.0.0",
      "model_name": "LayoutModel",
      "state": {}
     },
     "240f9ae387be4c37a91a62ffbdb3c3ff": {
      "model_module": "@jupyter-widgets/controls",
      "model_module_version": "2.0.0",
      "model_name": "ProgressStyleModel",
      "state": {
       "description_width": ""
      }
     },
     "2418f9d73c47408d9b522d4aea530675": {
      "model_module": "@jupyter-widgets/controls",
      "model_module_version": "2.0.0",
      "model_name": "HBoxModel",
      "state": {
       "children": [
        "IPY_MODEL_df97523f2e8f482299ac56f74edc3981",
        "IPY_MODEL_7dcd8b07c13e455dad0a2189b259efa2",
        "IPY_MODEL_87e8e5a3136c4bac8f502ad98e36751f"
       ],
       "layout": "IPY_MODEL_7923081419f641e6927a64bd35f72fad"
      }
     },
     "24aa6d0e76fc4f3b89b82c35e2994e51": {
      "model_module": "@jupyter-widgets/controls",
      "model_module_version": "2.0.0",
      "model_name": "ProgressStyleModel",
      "state": {
       "description_width": ""
      }
     },
     "24ae0d2dca224663b43fc25151f66a5a": {
      "model_module": "@jupyter-widgets/base",
      "model_module_version": "2.0.0",
      "model_name": "LayoutModel",
      "state": {}
     },
     "24ffecd1f9e240b6b71e3925dc626e1f": {
      "model_module": "@jupyter-widgets/controls",
      "model_module_version": "2.0.0",
      "model_name": "HTMLModel",
      "state": {
       "layout": "IPY_MODEL_8bddf0d3d29045c995c56a2a2c473e78",
       "style": "IPY_MODEL_884b0ccc88da481695b101b8eb17eda3",
       "value": "100%"
      }
     },
     "252428b8f8894531b3a498b077de253e": {
      "model_module": "@jupyter-widgets/base",
      "model_module_version": "2.0.0",
      "model_name": "LayoutModel",
      "state": {}
     },
     "2575eb667a014bef8f7d2236c9b21927": {
      "model_module": "@jupyter-widgets/base",
      "model_module_version": "2.0.0",
      "model_name": "LayoutModel",
      "state": {}
     },
     "25d8c5c1c05544cf80defa9ac4af1ff3": {
      "model_module": "@jupyter-widgets/base",
      "model_module_version": "2.0.0",
      "model_name": "LayoutModel",
      "state": {}
     },
     "26cb0ddc238148f0981d9b6ee3a30383": {
      "model_module": "@jupyter-widgets/base",
      "model_module_version": "2.0.0",
      "model_name": "LayoutModel",
      "state": {}
     },
     "2755abb079614687b6e78490f7244776": {
      "model_module": "@jupyter-widgets/controls",
      "model_module_version": "2.0.0",
      "model_name": "HTMLStyleModel",
      "state": {
       "description_width": "",
       "font_size": null,
       "text_color": null
      }
     },
     "277d7e5ab5544c00b78e7840fe1fa61e": {
      "model_module": "@jupyter-widgets/controls",
      "model_module_version": "2.0.0",
      "model_name": "HTMLModel",
      "state": {
       "layout": "IPY_MODEL_f9bb53e4567245308f060a59fdcf60b3",
       "style": "IPY_MODEL_ea1200cbc0b94677a5f20b03a324730e",
       "value": "  0%"
      }
     },
     "277e5be890094f5885059dbc238b0443": {
      "model_module": "@jupyter-widgets/base",
      "model_module_version": "2.0.0",
      "model_name": "LayoutModel",
      "state": {}
     },
     "2787f9e087b3412aabf02e1e9da6bdf6": {
      "model_module": "@jupyter-widgets/controls",
      "model_module_version": "2.0.0",
      "model_name": "HTMLModel",
      "state": {
       "layout": "IPY_MODEL_93e9c3f5b3414fd786f08e9dee64eb63",
       "style": "IPY_MODEL_fdacd00fb74947339ceeaaa0e1763a8f",
       "value": " 0/6 [00:01&lt;?, ?it/s]"
      }
     },
     "27ad9b82b2fb495196b69b720dd5f578": {
      "model_module": "@jupyter-widgets/controls",
      "model_module_version": "2.0.0",
      "model_name": "HTMLStyleModel",
      "state": {
       "description_width": "",
       "font_size": null,
       "text_color": null
      }
     },
     "289c3ea511414f58abcafeb2791cfb2f": {
      "model_module": "@jupyter-widgets/base",
      "model_module_version": "2.0.0",
      "model_name": "LayoutModel",
      "state": {}
     },
     "293e35e2dff64159a28c673e86175ceb": {
      "model_module": "@jupyter-widgets/base",
      "model_module_version": "2.0.0",
      "model_name": "LayoutModel",
      "state": {}
     },
     "29c922b847204aaeb214e6f4291104f9": {
      "model_module": "@jupyter-widgets/controls",
      "model_module_version": "2.0.0",
      "model_name": "FloatProgressModel",
      "state": {
       "bar_style": "success",
       "layout": "IPY_MODEL_38515c12d13244708c3cfef519462458",
       "max": 10,
       "style": "IPY_MODEL_bda3b9a78db84ef78952e0793a2f3a38",
       "value": 10
      }
     },
     "2a10b9c055fe4347ac055eec8b18c7be": {
      "model_module": "@jupyter-widgets/controls",
      "model_module_version": "2.0.0",
      "model_name": "HTMLModel",
      "state": {
       "layout": "IPY_MODEL_e85084c39bcf492eb59f1f5a1dbc0bb9",
       "style": "IPY_MODEL_68545edd8a8443d4baf9409d451f82ac",
       "value": "100%"
      }
     },
     "2df4a8e8b67f45658da53cf4b99c9f8e": {
      "model_module": "@jupyter-widgets/controls",
      "model_module_version": "2.0.0",
      "model_name": "ProgressStyleModel",
      "state": {
       "description_width": ""
      }
     },
     "2ede31aa273f4b0395254b4c2c64d4e8": {
      "model_module": "@jupyter-widgets/base",
      "model_module_version": "2.0.0",
      "model_name": "LayoutModel",
      "state": {}
     },
     "2f43e663b04746c295e305c882a43724": {
      "model_module": "@jupyter-widgets/controls",
      "model_module_version": "2.0.0",
      "model_name": "FloatProgressModel",
      "state": {
       "bar_style": "success",
       "layout": "IPY_MODEL_b9265a39932a4583aae669dbe87f2923",
       "max": 10,
       "style": "IPY_MODEL_81d1f91a29c345d5a33d461e6573c673",
       "value": 10
      }
     },
     "2f8d478136f645e2b927add3b3912082": {
      "model_module": "@jupyter-widgets/controls",
      "model_module_version": "2.0.0",
      "model_name": "HBoxModel",
      "state": {
       "children": [
        "IPY_MODEL_3d93a9e0cc044e048ee0552569ef9690",
        "IPY_MODEL_feefacbe82c64105ba8ad3d0931a67d4",
        "IPY_MODEL_39a3fb18c45d4d6c85bb2c714da911b6"
       ],
       "layout": "IPY_MODEL_6dc6097b059e49ec8a6cec1012bbf6b8"
      }
     },
     "3063218628e546ee9b90a5108ed7cf43": {
      "model_module": "@jupyter-widgets/controls",
      "model_module_version": "2.0.0",
      "model_name": "HTMLModel",
      "state": {
       "layout": "IPY_MODEL_c684a00987324238a3bfa55d0b8e13ce",
       "style": "IPY_MODEL_163baf198aa04aa6985b0b3a18bc777e",
       "value": " 10/10 [00:32&lt;00:00,  3.19s/it]"
      }
     },
     "30750936479d497099aa60c8e72d10b5": {
      "model_module": "@jupyter-widgets/controls",
      "model_module_version": "2.0.0",
      "model_name": "ProgressStyleModel",
      "state": {
       "description_width": ""
      }
     },
     "30a547c0dee946f9b081dc2b8d887086": {
      "model_module": "@jupyter-widgets/controls",
      "model_module_version": "2.0.0",
      "model_name": "HTMLStyleModel",
      "state": {
       "description_width": "",
       "font_size": null,
       "text_color": null
      }
     },
     "30f2367fa9964195acc8da068c4993e8": {
      "model_module": "@jupyter-widgets/controls",
      "model_module_version": "2.0.0",
      "model_name": "FloatProgressModel",
      "state": {
       "bar_style": "success",
       "layout": "IPY_MODEL_51d2888d8837419fab24e89a7e7bcd50",
       "max": 10,
       "style": "IPY_MODEL_c4f4f912f6d744f6936942ae3292447a",
       "value": 10
      }
     },
     "31842a88ce7047548382dfb183ad677f": {
      "model_module": "@jupyter-widgets/controls",
      "model_module_version": "2.0.0",
      "model_name": "HTMLModel",
      "state": {
       "layout": "IPY_MODEL_c8c9ddc4b68d434a82d176922b23b0d3",
       "style": "IPY_MODEL_823e2281359c48908ecdf457d9e3fce2",
       "value": " 10/10 [00:46&lt;00:00,  4.61s/it]"
      }
     },
     "31be332e036d49ccb0fba866edabf366": {
      "model_module": "@jupyter-widgets/controls",
      "model_module_version": "2.0.0",
      "model_name": "HTMLModel",
      "state": {
       "layout": "IPY_MODEL_024d75d6bc9e443681ffcd83b5be4079",
       "style": "IPY_MODEL_c56ab157154a4caa82844be0178da61b",
       "value": "100%"
      }
     },
     "32c13f62a24f4da6b1a0858692bc7873": {
      "model_module": "@jupyter-widgets/base",
      "model_module_version": "2.0.0",
      "model_name": "LayoutModel",
      "state": {}
     },
     "32f100cc1f9f48589f6387bba39d5978": {
      "model_module": "@jupyter-widgets/controls",
      "model_module_version": "2.0.0",
      "model_name": "FloatProgressModel",
      "state": {
       "bar_style": "success",
       "layout": "IPY_MODEL_a739a32c8bcd4be5ac41cf0e69ef50e3",
       "max": 10,
       "style": "IPY_MODEL_24aa6d0e76fc4f3b89b82c35e2994e51",
       "value": 10
      }
     },
     "331b2f6af94f414aba6337aa770735ac": {
      "model_module": "@jupyter-widgets/base",
      "model_module_version": "2.0.0",
      "model_name": "LayoutModel",
      "state": {}
     },
     "335ab837ff1b422ba1c1b09acd9d7656": {
      "model_module": "@jupyter-widgets/base",
      "model_module_version": "2.0.0",
      "model_name": "LayoutModel",
      "state": {}
     },
     "33ffdc74d0cb4f54804d6da17e1341a4": {
      "model_module": "@jupyter-widgets/controls",
      "model_module_version": "2.0.0",
      "model_name": "HTMLStyleModel",
      "state": {
       "description_width": "",
       "font_size": null,
       "text_color": null
      }
     },
     "344a56fda6ce48c68da3f6c9816ae068": {
      "model_module": "@jupyter-widgets/controls",
      "model_module_version": "2.0.0",
      "model_name": "HTMLStyleModel",
      "state": {
       "description_width": "",
       "font_size": null,
       "text_color": null
      }
     },
     "348d5a06b2fd41e2af6dde97ccc91e49": {
      "model_module": "@jupyter-widgets/base",
      "model_module_version": "2.0.0",
      "model_name": "LayoutModel",
      "state": {}
     },
     "356c83729d2d4e578db93a6b54152531": {
      "model_module": "@jupyter-widgets/controls",
      "model_module_version": "2.0.0",
      "model_name": "FloatProgressModel",
      "state": {
       "bar_style": "success",
       "layout": "IPY_MODEL_82cff10ea0fb45d28eb11b69f934ce3d",
       "max": 10,
       "style": "IPY_MODEL_e581e33f907a4a53a9377b3bdd7db595",
       "value": 10
      }
     },
     "3599bf84420a4ae195d0856d87cad990": {
      "model_module": "@jupyter-widgets/controls",
      "model_module_version": "2.0.0",
      "model_name": "ProgressStyleModel",
      "state": {
       "description_width": ""
      }
     },
     "363401e9fb844d8c8d036dcbd1d73682": {
      "model_module": "@jupyter-widgets/base",
      "model_module_version": "2.0.0",
      "model_name": "LayoutModel",
      "state": {}
     },
     "37bbdf69a9bc49e1846bc587375b8241": {
      "model_module": "@jupyter-widgets/controls",
      "model_module_version": "2.0.0",
      "model_name": "HTMLStyleModel",
      "state": {
       "description_width": "",
       "font_size": null,
       "text_color": null
      }
     },
     "38515c12d13244708c3cfef519462458": {
      "model_module": "@jupyter-widgets/base",
      "model_module_version": "2.0.0",
      "model_name": "LayoutModel",
      "state": {}
     },
     "389fb2f8bd3344b9a436c3cfb9c02b24": {
      "model_module": "@jupyter-widgets/base",
      "model_module_version": "2.0.0",
      "model_name": "LayoutModel",
      "state": {}
     },
     "38a2d3d338c24b2baf75802a251126eb": {
      "model_module": "@jupyter-widgets/controls",
      "model_module_version": "2.0.0",
      "model_name": "FloatProgressModel",
      "state": {
       "bar_style": "success",
       "layout": "IPY_MODEL_711c9d9294de470cb95a564413ba3bd0",
       "max": 10,
       "style": "IPY_MODEL_baa8efc1b0414d8199aac170e522dc9d",
       "value": 10
      }
     },
     "394a417ed99848dbbf8f5f1a882bbd93": {
      "model_module": "@jupyter-widgets/controls",
      "model_module_version": "2.0.0",
      "model_name": "HTMLStyleModel",
      "state": {
       "description_width": "",
       "font_size": null,
       "text_color": null
      }
     },
     "39986d1e04f7490b82ec53929d14b762": {
      "model_module": "@jupyter-widgets/base",
      "model_module_version": "2.0.0",
      "model_name": "LayoutModel",
      "state": {}
     },
     "39a3fb18c45d4d6c85bb2c714da911b6": {
      "model_module": "@jupyter-widgets/controls",
      "model_module_version": "2.0.0",
      "model_name": "HTMLModel",
      "state": {
       "layout": "IPY_MODEL_bf8bee26a7144bff8599667808ebce33",
       "style": "IPY_MODEL_ecce16fc4d7347b3a49d9ebce0a66b30",
       "value": " 10/10 [00:44&lt;00:00,  4.58s/it]"
      }
     },
     "3a0ccb587f9b4e67bfbfa04b8ead5204": {
      "model_module": "@jupyter-widgets/base",
      "model_module_version": "2.0.0",
      "model_name": "LayoutModel",
      "state": {}
     },
     "3a83a226195649f4a42e134e984679df": {
      "model_module": "@jupyter-widgets/controls",
      "model_module_version": "2.0.0",
      "model_name": "HTMLStyleModel",
      "state": {
       "description_width": "",
       "font_size": null,
       "text_color": null
      }
     },
     "3b0c543f8a9740c492f49ccfb232fdf4": {
      "model_module": "@jupyter-widgets/controls",
      "model_module_version": "2.0.0",
      "model_name": "HBoxModel",
      "state": {
       "children": [
        "IPY_MODEL_d90911ae560d4e0e8c49aa59b530133c",
        "IPY_MODEL_ac73d4c2366641f9986db6e0e640d6b6",
        "IPY_MODEL_8153867ab35a46a0b0ecf79ccddbc7e2"
       ],
       "layout": "IPY_MODEL_8f3e7effc4e449b982e439e7107bad51"
      }
     },
     "3c6dcea3f05b4807ae8e04cdd91d4264": {
      "model_module": "@jupyter-widgets/controls",
      "model_module_version": "2.0.0",
      "model_name": "FloatProgressModel",
      "state": {
       "bar_style": "success",
       "layout": "IPY_MODEL_09c9fa9a25464de497d59b655f449d5d",
       "max": 10,
       "style": "IPY_MODEL_af3b56a4d45d4094bbbd07b36fe48c32",
       "value": 10
      }
     },
     "3d03c38dd8ea4b71908824b28bf4b819": {
      "model_module": "@jupyter-widgets/controls",
      "model_module_version": "2.0.0",
      "model_name": "HTMLStyleModel",
      "state": {
       "description_width": "",
       "font_size": null,
       "text_color": null
      }
     },
     "3d3e4a1f70d445ec89ef57144aa7bb3a": {
      "model_module": "@jupyter-widgets/controls",
      "model_module_version": "2.0.0",
      "model_name": "HBoxModel",
      "state": {
       "children": [
        "IPY_MODEL_0ac2ce7d2b8b4dd78ac513dd0fd6ada8",
        "IPY_MODEL_743af92e38cc4f5e97369d381506a5c4",
        "IPY_MODEL_aebcb8e46c3d4f118ad00149c308aad7"
       ],
       "layout": "IPY_MODEL_48b52bab170d493981f3938aeffbcdfd"
      }
     },
     "3d53e35e4af145fbbfb8bb159656070e": {
      "model_module": "@jupyter-widgets/controls",
      "model_module_version": "2.0.0",
      "model_name": "FloatProgressModel",
      "state": {
       "bar_style": "success",
       "layout": "IPY_MODEL_1e70319d526c4a2d9a4e57bf4c9483fe",
       "max": 10,
       "style": "IPY_MODEL_aa38af82bf9547ada8e15668a00b25ba",
       "value": 10
      }
     },
     "3d93a9e0cc044e048ee0552569ef9690": {
      "model_module": "@jupyter-widgets/controls",
      "model_module_version": "2.0.0",
      "model_name": "HTMLModel",
      "state": {
       "layout": "IPY_MODEL_185dce943f88459fbe9e66b23f28d52b",
       "style": "IPY_MODEL_b39aebcf033946f89ed2f46987dbff7e",
       "value": "100%"
      }
     },
     "3d9786a9a4864fb4aecad8ee1ef18579": {
      "model_module": "@jupyter-widgets/controls",
      "model_module_version": "2.0.0",
      "model_name": "ProgressStyleModel",
      "state": {
       "description_width": ""
      }
     },
     "3de198c7b4ae446aabe3ff3e4dffafec": {
      "model_module": "@jupyter-widgets/base",
      "model_module_version": "2.0.0",
      "model_name": "LayoutModel",
      "state": {}
     },
     "3df475ab8dd84b71b2d00abf61f77b23": {
      "model_module": "@jupyter-widgets/controls",
      "model_module_version": "2.0.0",
      "model_name": "HTMLModel",
      "state": {
       "layout": "IPY_MODEL_0710b94eff494f3f9e39486bc9982387",
       "style": "IPY_MODEL_8563211b682f4e45b14e477cb7c4cb3a",
       "value": " 10/10 [00:48&lt;00:00,  4.86s/it]"
      }
     },
     "3e1c5fab74ef4376a7fba7eb2fbf5180": {
      "model_module": "@jupyter-widgets/base",
      "model_module_version": "2.0.0",
      "model_name": "LayoutModel",
      "state": {}
     },
     "3f1101b6d586449da1e4ac098b5d4b12": {
      "model_module": "@jupyter-widgets/controls",
      "model_module_version": "2.0.0",
      "model_name": "ProgressStyleModel",
      "state": {
       "description_width": ""
      }
     },
     "3f83779c00934a8493b80e25d916b797": {
      "model_module": "@jupyter-widgets/controls",
      "model_module_version": "2.0.0",
      "model_name": "ProgressStyleModel",
      "state": {
       "description_width": ""
      }
     },
     "3fdb704a3a8d4c82b5ee3a90e3783fcb": {
      "model_module": "@jupyter-widgets/controls",
      "model_module_version": "2.0.0",
      "model_name": "HBoxModel",
      "state": {
       "children": [
        "IPY_MODEL_82e908e5c26a428b938728eed62a4045",
        "IPY_MODEL_fc0c7f16f434414f84c1b6b74ca952c9",
        "IPY_MODEL_d4adaa18891b49b1a0e764bd611819c4"
       ],
       "layout": "IPY_MODEL_59917895bd0947aaada663a611fc9149"
      }
     },
     "40129f651c7942199b10e3743c8aceab": {
      "model_module": "@jupyter-widgets/base",
      "model_module_version": "2.0.0",
      "model_name": "LayoutModel",
      "state": {}
     },
     "405d31307d0a4ce1887f12f5e089e37e": {
      "model_module": "@jupyter-widgets/controls",
      "model_module_version": "2.0.0",
      "model_name": "ProgressStyleModel",
      "state": {
       "description_width": ""
      }
     },
     "40f1065c8da04c599a2ed01848dfebef": {
      "model_module": "@jupyter-widgets/base",
      "model_module_version": "2.0.0",
      "model_name": "LayoutModel",
      "state": {}
     },
     "4103da3204cb485992cbb967a6494a8f": {
      "model_module": "@jupyter-widgets/base",
      "model_module_version": "2.0.0",
      "model_name": "LayoutModel",
      "state": {}
     },
     "41527cac50c14a75b461655b43bccd2c": {
      "model_module": "@jupyter-widgets/base",
      "model_module_version": "2.0.0",
      "model_name": "LayoutModel",
      "state": {}
     },
     "4166573790ab4723b976df09d9e3b894": {
      "model_module": "@jupyter-widgets/base",
      "model_module_version": "2.0.0",
      "model_name": "LayoutModel",
      "state": {}
     },
     "4172b15cb26340ed92f3abecf96fe310": {
      "model_module": "@jupyter-widgets/controls",
      "model_module_version": "2.0.0",
      "model_name": "FloatProgressModel",
      "state": {
       "bar_style": "success",
       "layout": "IPY_MODEL_7e83e1fc3f554462ba0aa33be260ef29",
       "max": 10,
       "style": "IPY_MODEL_0cdf08030073485a92c54d2163d953d8",
       "value": 10
      }
     },
     "41a78eb83f1140779f48990c68be5d3f": {
      "model_module": "@jupyter-widgets/controls",
      "model_module_version": "2.0.0",
      "model_name": "HTMLStyleModel",
      "state": {
       "description_width": "",
       "font_size": null,
       "text_color": null
      }
     },
     "41ac75a2c8484b689a759a4fa02627cf": {
      "model_module": "@jupyter-widgets/controls",
      "model_module_version": "2.0.0",
      "model_name": "HTMLStyleModel",
      "state": {
       "description_width": "",
       "font_size": null,
       "text_color": null
      }
     },
     "4227c9d683c440b5a7a092ed7ef039eb": {
      "model_module": "@jupyter-widgets/controls",
      "model_module_version": "2.0.0",
      "model_name": "HTMLModel",
      "state": {
       "layout": "IPY_MODEL_389fb2f8bd3344b9a436c3cfb9c02b24",
       "style": "IPY_MODEL_16bc54d96f3e448d9e810c518553c824",
       "value": " 10/10 [00:40&lt;00:00,  4.43s/it]"
      }
     },
     "43da8fedce984e2db179e7ddd8d7b57d": {
      "model_module": "@jupyter-widgets/base",
      "model_module_version": "2.0.0",
      "model_name": "LayoutModel",
      "state": {}
     },
     "443331bc2fb94733a9377c9948819533": {
      "model_module": "@jupyter-widgets/controls",
      "model_module_version": "2.0.0",
      "model_name": "HTMLModel",
      "state": {
       "layout": "IPY_MODEL_773a2b30b1cb485a9cafd2230d1dfe5e",
       "style": "IPY_MODEL_01cd7d781572453c8c911b677ae4fbcc",
       "value": " 0/10 [00:01&lt;?, ?it/s]"
      }
     },
     "44989a783ff64a8e9c30ed43848bfd53": {
      "model_module": "@jupyter-widgets/controls",
      "model_module_version": "2.0.0",
      "model_name": "HTMLModel",
      "state": {
       "layout": "IPY_MODEL_99617d638a7b4467b5c4e6ae8fda7b69",
       "style": "IPY_MODEL_f885a407acea40e980c808ade003f0e7",
       "value": "100%"
      }
     },
     "4692fa1820604e23bb843f9702e01a98": {
      "model_module": "@jupyter-widgets/base",
      "model_module_version": "2.0.0",
      "model_name": "LayoutModel",
      "state": {}
     },
     "46978d8bf232444785e4ab6a7b239548": {
      "model_module": "@jupyter-widgets/controls",
      "model_module_version": "2.0.0",
      "model_name": "HTMLStyleModel",
      "state": {
       "description_width": "",
       "font_size": null,
       "text_color": null
      }
     },
     "478a4036f0db47bcbe9b8c48ebc7e5b5": {
      "model_module": "@jupyter-widgets/base",
      "model_module_version": "2.0.0",
      "model_name": "LayoutModel",
      "state": {}
     },
     "47eb2966666140d4b5dee9e6ff4b8531": {
      "model_module": "@jupyter-widgets/base",
      "model_module_version": "2.0.0",
      "model_name": "LayoutModel",
      "state": {}
     },
     "48b52bab170d493981f3938aeffbcdfd": {
      "model_module": "@jupyter-widgets/base",
      "model_module_version": "2.0.0",
      "model_name": "LayoutModel",
      "state": {}
     },
     "49d3c5e504394acfa4b0fd950dba349a": {
      "model_module": "@jupyter-widgets/controls",
      "model_module_version": "2.0.0",
      "model_name": "HTMLModel",
      "state": {
       "layout": "IPY_MODEL_f8815ec3cd934af0997e2830cde7b05a",
       "style": "IPY_MODEL_934fe8a2e79643cb9ec960318b12929b",
       "value": "100%"
      }
     },
     "4a69b3c1f5bc4d3491b1b9a91083ebfc": {
      "model_module": "@jupyter-widgets/base",
      "model_module_version": "2.0.0",
      "model_name": "LayoutModel",
      "state": {}
     },
     "4b38aefa92ef4956933359d3122dd642": {
      "model_module": "@jupyter-widgets/controls",
      "model_module_version": "2.0.0",
      "model_name": "HBoxModel",
      "state": {
       "children": [
        "IPY_MODEL_31be332e036d49ccb0fba866edabf366",
        "IPY_MODEL_4172b15cb26340ed92f3abecf96fe310",
        "IPY_MODEL_d33a0757767346f0adb9760ed70f6b48"
       ],
       "layout": "IPY_MODEL_d82fb70a112c4a188e2f27d14bae79ca"
      }
     },
     "4b5ceea9ea614818bcfebd7e90d3e3d9": {
      "model_module": "@jupyter-widgets/base",
      "model_module_version": "2.0.0",
      "model_name": "LayoutModel",
      "state": {}
     },
     "4bb7e08b85ca4bd5a66cc6542e502d8e": {
      "model_module": "@jupyter-widgets/base",
      "model_module_version": "2.0.0",
      "model_name": "LayoutModel",
      "state": {}
     },
     "4d5e14fd3da94c50a05e0b7abeb9a763": {
      "model_module": "@jupyter-widgets/controls",
      "model_module_version": "2.0.0",
      "model_name": "HTMLModel",
      "state": {
       "layout": "IPY_MODEL_43da8fedce984e2db179e7ddd8d7b57d",
       "style": "IPY_MODEL_df666e57cffb449bbe108028c8f1d67e",
       "value": "100%"
      }
     },
     "4e43adff193b41279e8305467d912ca6": {
      "model_module": "@jupyter-widgets/controls",
      "model_module_version": "2.0.0",
      "model_name": "HBoxModel",
      "state": {
       "children": [
        "IPY_MODEL_d958e39fcc1a4314a4a99e421fb2a317",
        "IPY_MODEL_86cd55c849584764a81cc36781f9bb45",
        "IPY_MODEL_f9a8cf0337d54855b4e5553cff0df1ce"
       ],
       "layout": "IPY_MODEL_d98a901295994f28b01dc8475dec0c2c"
      }
     },
     "4e5c96b4912242128afcb1802be28bdd": {
      "model_module": "@jupyter-widgets/controls",
      "model_module_version": "2.0.0",
      "model_name": "ProgressStyleModel",
      "state": {
       "description_width": ""
      }
     },
     "4f220210a7f646428d2ed007633d2713": {
      "model_module": "@jupyter-widgets/controls",
      "model_module_version": "2.0.0",
      "model_name": "HTMLModel",
      "state": {
       "layout": "IPY_MODEL_917aacf7422f413099b40cf622ae740e",
       "style": "IPY_MODEL_15a8a566d58843838c81cf54af380613",
       "value": " 10/10 [00:50&lt;00:00,  4.96s/it]"
      }
     },
     "4f85c736758f4d0a834cfc09ad9564a6": {
      "model_module": "@jupyter-widgets/controls",
      "model_module_version": "2.0.0",
      "model_name": "HTMLStyleModel",
      "state": {
       "description_width": "",
       "font_size": null,
       "text_color": null
      }
     },
     "50fa8d6285334bd3be5f396918a9fdde": {
      "model_module": "@jupyter-widgets/controls",
      "model_module_version": "2.0.0",
      "model_name": "HTMLStyleModel",
      "state": {
       "description_width": "",
       "font_size": null,
       "text_color": null
      }
     },
     "516b7e1bfe3d4fdda8f401756de27e4a": {
      "model_module": "@jupyter-widgets/controls",
      "model_module_version": "2.0.0",
      "model_name": "HTMLModel",
      "state": {
       "layout": "IPY_MODEL_5c5f565194024f14ab99a0a28acf585f",
       "style": "IPY_MODEL_729da5100c524aceb8b9778c61571114",
       "value": " 10/10 [00:42&lt;00:00,  4.21s/it]"
      }
     },
     "51d2888d8837419fab24e89a7e7bcd50": {
      "model_module": "@jupyter-widgets/base",
      "model_module_version": "2.0.0",
      "model_name": "LayoutModel",
      "state": {}
     },
     "51d90704b4544374a419b08c69461946": {
      "model_module": "@jupyter-widgets/controls",
      "model_module_version": "2.0.0",
      "model_name": "ProgressStyleModel",
      "state": {
       "description_width": ""
      }
     },
     "5252f5657dbb432a9a1f78c75664dd13": {
      "model_module": "@jupyter-widgets/controls",
      "model_module_version": "2.0.0",
      "model_name": "HTMLStyleModel",
      "state": {
       "description_width": "",
       "font_size": null,
       "text_color": null
      }
     },
     "52f35a8fca064e8fbec81758c2adce54": {
      "model_module": "@jupyter-widgets/base",
      "model_module_version": "2.0.0",
      "model_name": "LayoutModel",
      "state": {}
     },
     "52f3e44e57134eb9acced57d2f5417e1": {
      "model_module": "@jupyter-widgets/controls",
      "model_module_version": "2.0.0",
      "model_name": "HTMLStyleModel",
      "state": {
       "description_width": "",
       "font_size": null,
       "text_color": null
      }
     },
     "543f064e481142608dbfe9cfc05c726d": {
      "model_module": "@jupyter-widgets/controls",
      "model_module_version": "2.0.0",
      "model_name": "HTMLModel",
      "state": {
       "layout": "IPY_MODEL_39986d1e04f7490b82ec53929d14b762",
       "style": "IPY_MODEL_d0740266417743b0b59c71fda46b6c8e",
       "value": " 3/10 [00:16&lt;00:36,  5.25s/it]"
      }
     },
     "55512da31a004b04afdf3ebe6f9993fa": {
      "model_module": "@jupyter-widgets/controls",
      "model_module_version": "2.0.0",
      "model_name": "HBoxModel",
      "state": {
       "children": [
        "IPY_MODEL_b82dca100c924aff831bdbdeb62b1b90",
        "IPY_MODEL_74b67a5977784bdba8f4dd5b20982757",
        "IPY_MODEL_af6b5ca4a6e44badb5e4f40bf74c044b"
       ],
       "layout": "IPY_MODEL_0b01c0147f454bf5a2b39853a03dfa21"
      }
     },
     "56546afe51044e5e96fba8a8b2e9551a": {
      "model_module": "@jupyter-widgets/controls",
      "model_module_version": "2.0.0",
      "model_name": "ProgressStyleModel",
      "state": {
       "description_width": ""
      }
     },
     "56d10f63b7db4e8cb79c8d2608c118a0": {
      "model_module": "@jupyter-widgets/controls",
      "model_module_version": "2.0.0",
      "model_name": "HTMLModel",
      "state": {
       "layout": "IPY_MODEL_4103da3204cb485992cbb967a6494a8f",
       "style": "IPY_MODEL_85981fdadb864eee8491c947ef360d94",
       "value": " 10/10 [00:48&lt;00:00,  4.93s/it]"
      }
     },
     "58918c29df424d2fb6ff1e0decaa56a3": {
      "model_module": "@jupyter-widgets/controls",
      "model_module_version": "2.0.0",
      "model_name": "FloatProgressModel",
      "state": {
       "bar_style": "danger",
       "layout": "IPY_MODEL_32c13f62a24f4da6b1a0858692bc7873",
       "max": 6,
       "style": "IPY_MODEL_ef11eaf05f51467b8f59a9114ac76583"
      }
     },
     "5905685ffc6c490d9fc31cf6197306e6": {
      "model_module": "@jupyter-widgets/base",
      "model_module_version": "2.0.0",
      "model_name": "LayoutModel",
      "state": {}
     },
     "590af84df5244943a31bb5ef1b2660d8": {
      "model_module": "@jupyter-widgets/base",
      "model_module_version": "2.0.0",
      "model_name": "LayoutModel",
      "state": {}
     },
     "594fd5c0c91a411593ad642e12a73e6d": {
      "model_module": "@jupyter-widgets/controls",
      "model_module_version": "2.0.0",
      "model_name": "HBoxModel",
      "state": {
       "children": [
        "IPY_MODEL_6adff6f9b05e4cedb44d02e25e13dd8d",
        "IPY_MODEL_724b6cfc26724c1ba4804684cbd7dc97",
        "IPY_MODEL_516b7e1bfe3d4fdda8f401756de27e4a"
       ],
       "layout": "IPY_MODEL_ba7ef7058cfa4e05881217cfdbec4789"
      }
     },
     "59917895bd0947aaada663a611fc9149": {
      "model_module": "@jupyter-widgets/base",
      "model_module_version": "2.0.0",
      "model_name": "LayoutModel",
      "state": {}
     },
     "59b44c418c3042529b5eb054fdb92ddf": {
      "model_module": "@jupyter-widgets/controls",
      "model_module_version": "2.0.0",
      "model_name": "ProgressStyleModel",
      "state": {
       "description_width": ""
      }
     },
     "5a3783687d654f95950d9c76c9a7b2bc": {
      "model_module": "@jupyter-widgets/controls",
      "model_module_version": "2.0.0",
      "model_name": "HTMLStyleModel",
      "state": {
       "description_width": "",
       "font_size": null,
       "text_color": null
      }
     },
     "5a8cf03974f64bdab197cfd6846b02af": {
      "model_module": "@jupyter-widgets/controls",
      "model_module_version": "2.0.0",
      "model_name": "HTMLStyleModel",
      "state": {
       "description_width": "",
       "font_size": null,
       "text_color": null
      }
     },
     "5b2821b0c1ce4117b8da63b14a79ee23": {
      "model_module": "@jupyter-widgets/base",
      "model_module_version": "2.0.0",
      "model_name": "LayoutModel",
      "state": {}
     },
     "5c460f5b541744d3a0a74666f322da73": {
      "model_module": "@jupyter-widgets/base",
      "model_module_version": "2.0.0",
      "model_name": "LayoutModel",
      "state": {}
     },
     "5c5f565194024f14ab99a0a28acf585f": {
      "model_module": "@jupyter-widgets/base",
      "model_module_version": "2.0.0",
      "model_name": "LayoutModel",
      "state": {}
     },
     "5c8764f8d1cf4ef4abfc5c18a2259984": {
      "model_module": "@jupyter-widgets/base",
      "model_module_version": "2.0.0",
      "model_name": "LayoutModel",
      "state": {}
     },
     "5e69ddf24d2846bdb8febb668f88b02f": {
      "model_module": "@jupyter-widgets/base",
      "model_module_version": "2.0.0",
      "model_name": "LayoutModel",
      "state": {}
     },
     "5e93cdbef9fb4a0b8ddaee53a2f04201": {
      "model_module": "@jupyter-widgets/controls",
      "model_module_version": "2.0.0",
      "model_name": "FloatProgressModel",
      "state": {
       "bar_style": "success",
       "layout": "IPY_MODEL_5b2821b0c1ce4117b8da63b14a79ee23",
       "max": 10,
       "style": "IPY_MODEL_802ae9137650423cb3a7d3bd9add58a5",
       "value": 10
      }
     },
     "5eae6bc715ad4bdf92da3f1f9a13305c": {
      "model_module": "@jupyter-widgets/base",
      "model_module_version": "2.0.0",
      "model_name": "LayoutModel",
      "state": {}
     },
     "5ec4e31f740d4d418884cb494a09dab9": {
      "model_module": "@jupyter-widgets/base",
      "model_module_version": "2.0.0",
      "model_name": "LayoutModel",
      "state": {}
     },
     "5ef935f851e64381bb85c1cb13710e37": {
      "model_module": "@jupyter-widgets/base",
      "model_module_version": "2.0.0",
      "model_name": "LayoutModel",
      "state": {}
     },
     "5f0208c4bc8e4a2799af983b1b512db7": {
      "model_module": "@jupyter-widgets/controls",
      "model_module_version": "2.0.0",
      "model_name": "HTMLStyleModel",
      "state": {
       "description_width": "",
       "font_size": null,
       "text_color": null
      }
     },
     "5f19478c23c54badb3893a3c5dbda9f1": {
      "model_module": "@jupyter-widgets/base",
      "model_module_version": "2.0.0",
      "model_name": "LayoutModel",
      "state": {}
     },
     "5f8c29a1489041f894fa4be27e2869be": {
      "model_module": "@jupyter-widgets/base",
      "model_module_version": "2.0.0",
      "model_name": "LayoutModel",
      "state": {}
     },
     "61fb26e5c4864da59143c4826b920fb3": {
      "model_module": "@jupyter-widgets/controls",
      "model_module_version": "2.0.0",
      "model_name": "HTMLStyleModel",
      "state": {
       "description_width": "",
       "font_size": null,
       "text_color": null
      }
     },
     "62232e5e918b4c34b34f52a5c488ef75": {
      "model_module": "@jupyter-widgets/base",
      "model_module_version": "2.0.0",
      "model_name": "LayoutModel",
      "state": {}
     },
     "62e80258756b4e9abe7647e6ce7e48a6": {
      "model_module": "@jupyter-widgets/controls",
      "model_module_version": "2.0.0",
      "model_name": "HBoxModel",
      "state": {
       "children": [
        "IPY_MODEL_d3d4abf6e6ef4d6aa98f33982623cb58",
        "IPY_MODEL_3c6dcea3f05b4807ae8e04cdd91d4264",
        "IPY_MODEL_7215019307904021b49fc317d89dc560"
       ],
       "layout": "IPY_MODEL_8749113e31494cc19e0d57f4ff93f388"
      }
     },
     "62f60cd25ef04400844f565727b57a8a": {
      "model_module": "@jupyter-widgets/controls",
      "model_module_version": "2.0.0",
      "model_name": "ProgressStyleModel",
      "state": {
       "description_width": ""
      }
     },
     "643acad2a4c147c5a5521fd3f04566ec": {
      "model_module": "@jupyter-widgets/controls",
      "model_module_version": "2.0.0",
      "model_name": "ProgressStyleModel",
      "state": {
       "description_width": ""
      }
     },
     "65082378c1a9446b866ee805aba9d424": {
      "model_module": "@jupyter-widgets/base",
      "model_module_version": "2.0.0",
      "model_name": "LayoutModel",
      "state": {}
     },
     "652bd923bf0d4bc1b8d1434ae58b92f0": {
      "model_module": "@jupyter-widgets/controls",
      "model_module_version": "2.0.0",
      "model_name": "HBoxModel",
      "state": {
       "children": [
        "IPY_MODEL_c72c504f9ee043c39e9d78578d8fb978",
        "IPY_MODEL_8bab1d41f21249aa8319e3fd31523e89",
        "IPY_MODEL_c699c54aec674d4582f38e3b7eb884ff"
       ],
       "layout": "IPY_MODEL_1bbcdd0113374c82850b0f5c2f808bf5"
      }
     },
     "655f78be184d487eb01c5532861afc98": {
      "model_module": "@jupyter-widgets/controls",
      "model_module_version": "2.0.0",
      "model_name": "HTMLStyleModel",
      "state": {
       "description_width": "",
       "font_size": null,
       "text_color": null
      }
     },
     "669b004cb1264fa4ab6ea853e3c95f08": {
      "model_module": "@jupyter-widgets/controls",
      "model_module_version": "2.0.0",
      "model_name": "HTMLModel",
      "state": {
       "layout": "IPY_MODEL_e56fbf17db644d88bf1a5d705d7be6cd",
       "style": "IPY_MODEL_cc813581c5334852b3d322ee58f1056f",
       "value": "100%"
      }
     },
     "678b7079b0354a9e81ad523fbe8f71ab": {
      "model_module": "@jupyter-widgets/base",
      "model_module_version": "2.0.0",
      "model_name": "LayoutModel",
      "state": {}
     },
     "68545edd8a8443d4baf9409d451f82ac": {
      "model_module": "@jupyter-widgets/controls",
      "model_module_version": "2.0.0",
      "model_name": "HTMLStyleModel",
      "state": {
       "description_width": "",
       "font_size": null,
       "text_color": null
      }
     },
     "69f06b9b7cdc410fb6b871b39a382199": {
      "model_module": "@jupyter-widgets/controls",
      "model_module_version": "2.0.0",
      "model_name": "FloatProgressModel",
      "state": {
       "bar_style": "success",
       "layout": "IPY_MODEL_96a0b94a2e73423fb783935c1bfa41a5",
       "max": 20,
       "style": "IPY_MODEL_976054b838b840fdafd3b48d87ea8b02",
       "value": 20
      }
     },
     "6a886ace1d194a799e8289b8d5d13d53": {
      "model_module": "@jupyter-widgets/controls",
      "model_module_version": "2.0.0",
      "model_name": "ProgressStyleModel",
      "state": {
       "description_width": ""
      }
     },
     "6adff6f9b05e4cedb44d02e25e13dd8d": {
      "model_module": "@jupyter-widgets/controls",
      "model_module_version": "2.0.0",
      "model_name": "HTMLModel",
      "state": {
       "layout": "IPY_MODEL_9c287bd35ec844279889071267f2e7a0",
       "style": "IPY_MODEL_b196825202454d5bb63ad9da7fd18c32",
       "value": "100%"
      }
     },
     "6b7ae8f281f943eb9f92ec8563fbac94": {
      "model_module": "@jupyter-widgets/controls",
      "model_module_version": "2.0.0",
      "model_name": "HTMLModel",
      "state": {
       "layout": "IPY_MODEL_5eae6bc715ad4bdf92da3f1f9a13305c",
       "style": "IPY_MODEL_30a547c0dee946f9b081dc2b8d887086",
       "value": " 10/10 [00:48&lt;00:00,  5.32s/it]"
      }
     },
     "6bbe7949eed04fb69e280e6cb9eb56d9": {
      "model_module": "@jupyter-widgets/controls",
      "model_module_version": "2.0.0",
      "model_name": "ProgressStyleModel",
      "state": {
       "description_width": ""
      }
     },
     "6c0e0fc874c246aca1f1af53be4e2c4d": {
      "model_module": "@jupyter-widgets/base",
      "model_module_version": "2.0.0",
      "model_name": "LayoutModel",
      "state": {}
     },
     "6c110abe219b46e881668f980b30eb1f": {
      "model_module": "@jupyter-widgets/controls",
      "model_module_version": "2.0.0",
      "model_name": "HBoxModel",
      "state": {
       "children": [
        "IPY_MODEL_afd71badf149479eb248f8da49f685b6",
        "IPY_MODEL_dd59844f19694aff9c257e2c46c500fe",
        "IPY_MODEL_dce147001fc24f9a94ffc2f36fe12f7c"
       ],
       "layout": "IPY_MODEL_7922059a71784fc0b24dc8e666cfdd65"
      }
     },
     "6c2b1a0f5f964d49b57408a6b0ed8fdb": {
      "model_module": "@jupyter-widgets/controls",
      "model_module_version": "2.0.0",
      "model_name": "HTMLStyleModel",
      "state": {
       "description_width": "",
       "font_size": null,
       "text_color": null
      }
     },
     "6c574da962db4c31b8f597c7fdade1e4": {
      "model_module": "@jupyter-widgets/controls",
      "model_module_version": "2.0.0",
      "model_name": "HBoxModel",
      "state": {
       "children": [
        "IPY_MODEL_ca74129147774acda87b9cd2b0cc848b",
        "IPY_MODEL_38a2d3d338c24b2baf75802a251126eb",
        "IPY_MODEL_6cfbd814839044bcaa562ef9dce57670"
       ],
       "layout": "IPY_MODEL_de2da2bf2e544489b982471ecaa925f6"
      }
     },
     "6c719a4a313e467bb85d573c4167838e": {
      "model_module": "@jupyter-widgets/controls",
      "model_module_version": "2.0.0",
      "model_name": "FloatProgressModel",
      "state": {
       "bar_style": "success",
       "layout": "IPY_MODEL_5ec4e31f740d4d418884cb494a09dab9",
       "max": 10,
       "style": "IPY_MODEL_51d90704b4544374a419b08c69461946",
       "value": 10
      }
     },
     "6cfbd814839044bcaa562ef9dce57670": {
      "model_module": "@jupyter-widgets/controls",
      "model_module_version": "2.0.0",
      "model_name": "HTMLModel",
      "state": {
       "layout": "IPY_MODEL_5ef935f851e64381bb85c1cb13710e37",
       "style": "IPY_MODEL_61fb26e5c4864da59143c4826b920fb3",
       "value": " 10/10 [00:49&lt;00:00,  5.16s/it]"
      }
     },
     "6d9e35989c834684a03b05a9bc02f182": {
      "model_module": "@jupyter-widgets/controls",
      "model_module_version": "2.0.0",
      "model_name": "HTMLStyleModel",
      "state": {
       "description_width": "",
       "font_size": null,
       "text_color": null
      }
     },
     "6dc6097b059e49ec8a6cec1012bbf6b8": {
      "model_module": "@jupyter-widgets/base",
      "model_module_version": "2.0.0",
      "model_name": "LayoutModel",
      "state": {}
     },
     "6e5c4f42457b42e39d0d0985de536f9f": {
      "model_module": "@jupyter-widgets/controls",
      "model_module_version": "2.0.0",
      "model_name": "HTMLStyleModel",
      "state": {
       "description_width": "",
       "font_size": null,
       "text_color": null
      }
     },
     "6ea4aefb02f948a6895da4a065028e8f": {
      "model_module": "@jupyter-widgets/base",
      "model_module_version": "2.0.0",
      "model_name": "LayoutModel",
      "state": {}
     },
     "6f099ea14dc04d4ab97e96b36984db29": {
      "model_module": "@jupyter-widgets/controls",
      "model_module_version": "2.0.0",
      "model_name": "HBoxModel",
      "state": {
       "children": [
        "IPY_MODEL_cdd7373b3029489d881e3cbd012c998e",
        "IPY_MODEL_c5874e2b0f2c4bc99876317d04d13d42",
        "IPY_MODEL_c890063174d84a48a3ba7aa3d7808596"
       ],
       "layout": "IPY_MODEL_9ca0cc2369d74515b51285afc845a16c"
      }
     },
     "6f0d6f9f71ec42b1bb21cbded7ebae48": {
      "model_module": "@jupyter-widgets/controls",
      "model_module_version": "2.0.0",
      "model_name": "HTMLModel",
      "state": {
       "layout": "IPY_MODEL_d4c38c6d8844452c8f1df5e62ea70606",
       "style": "IPY_MODEL_800893c3959b4a67af6b5cbdf4ebd3ab",
       "value": "100%"
      }
     },
     "6f492065748b485984c2048ebd99f687": {
      "model_module": "@jupyter-widgets/base",
      "model_module_version": "2.0.0",
      "model_name": "LayoutModel",
      "state": {}
     },
     "70074ce9edef435796f857a3aa171598": {
      "model_module": "@jupyter-widgets/base",
      "model_module_version": "2.0.0",
      "model_name": "LayoutModel",
      "state": {}
     },
     "702fa1533f5b4a5da7476635ec5585ab": {
      "model_module": "@jupyter-widgets/base",
      "model_module_version": "2.0.0",
      "model_name": "LayoutModel",
      "state": {}
     },
     "7097d429c3e6415f8ed768684e9a5d18": {
      "model_module": "@jupyter-widgets/controls",
      "model_module_version": "2.0.0",
      "model_name": "HTMLStyleModel",
      "state": {
       "description_width": "",
       "font_size": null,
       "text_color": null
      }
     },
     "70c8d2efd3664dc395f2ba3d26384103": {
      "model_module": "@jupyter-widgets/base",
      "model_module_version": "2.0.0",
      "model_name": "LayoutModel",
      "state": {}
     },
     "70da85be1fcc4a33a11d0050950a2c61": {
      "model_module": "@jupyter-widgets/controls",
      "model_module_version": "2.0.0",
      "model_name": "ProgressStyleModel",
      "state": {
       "description_width": ""
      }
     },
     "7107d4e35a5849bd83b9aee7b6cef906": {
      "model_module": "@jupyter-widgets/controls",
      "model_module_version": "2.0.0",
      "model_name": "HTMLModel",
      "state": {
       "layout": "IPY_MODEL_d4ed1456dcc54f5793e32c21fbcac399",
       "style": "IPY_MODEL_37bbdf69a9bc49e1846bc587375b8241",
       "value": " 30%"
      }
     },
     "711c9d9294de470cb95a564413ba3bd0": {
      "model_module": "@jupyter-widgets/base",
      "model_module_version": "2.0.0",
      "model_name": "LayoutModel",
      "state": {}
     },
     "7176899bfcf64e22a32a8f92685d8133": {
      "model_module": "@jupyter-widgets/base",
      "model_module_version": "2.0.0",
      "model_name": "LayoutModel",
      "state": {}
     },
     "719636b6f70041ceb680646ee2a3fc65": {
      "model_module": "@jupyter-widgets/controls",
      "model_module_version": "2.0.0",
      "model_name": "FloatProgressModel",
      "state": {
       "bar_style": "success",
       "layout": "IPY_MODEL_8efc7274e9cf40d0bcfe3ec67b9a3bef",
       "max": 10,
       "style": "IPY_MODEL_e13d5dad9a7845d5866091582daff776",
       "value": 10
      }
     },
     "71be65e3dbfe4c5e913b7c702b308b01": {
      "model_module": "@jupyter-widgets/controls",
      "model_module_version": "2.0.0",
      "model_name": "HTMLModel",
      "state": {
       "layout": "IPY_MODEL_b0d863295b464cccb823fe5a02745492",
       "style": "IPY_MODEL_c912090ecabf404caffab2bfb09b05c8",
       "value": " 10/10 [00:51&lt;00:00,  5.22s/it]"
      }
     },
     "7215019307904021b49fc317d89dc560": {
      "model_module": "@jupyter-widgets/controls",
      "model_module_version": "2.0.0",
      "model_name": "HTMLModel",
      "state": {
       "layout": "IPY_MODEL_b674fefdc4954b4890fbe204efdf162a",
       "style": "IPY_MODEL_eef4fd465c8e4b9da9c880f0a42203b9",
       "value": " 10/10 [00:51&lt;00:00,  4.99s/it]"
      }
     },
     "724b6cfc26724c1ba4804684cbd7dc97": {
      "model_module": "@jupyter-widgets/controls",
      "model_module_version": "2.0.0",
      "model_name": "FloatProgressModel",
      "state": {
       "bar_style": "success",
       "layout": "IPY_MODEL_b568fc5d4302496aab3c95f010628c0d",
       "max": 10,
       "style": "IPY_MODEL_62f60cd25ef04400844f565727b57a8a",
       "value": 10
      }
     },
     "7295e779c2b74873bdd297546ddaef0d": {
      "model_module": "@jupyter-widgets/controls",
      "model_module_version": "2.0.0",
      "model_name": "HTMLStyleModel",
      "state": {
       "description_width": "",
       "font_size": null,
       "text_color": null
      }
     },
     "729da5100c524aceb8b9778c61571114": {
      "model_module": "@jupyter-widgets/controls",
      "model_module_version": "2.0.0",
      "model_name": "HTMLStyleModel",
      "state": {
       "description_width": "",
       "font_size": null,
       "text_color": null
      }
     },
     "743af92e38cc4f5e97369d381506a5c4": {
      "model_module": "@jupyter-widgets/controls",
      "model_module_version": "2.0.0",
      "model_name": "FloatProgressModel",
      "state": {
       "bar_style": "danger",
       "layout": "IPY_MODEL_0066512af41a41cab2b3845aeff60880",
       "max": 20,
       "style": "IPY_MODEL_a9224d485e9d42b898feac51a31395c4"
      }
     },
     "74b67a5977784bdba8f4dd5b20982757": {
      "model_module": "@jupyter-widgets/controls",
      "model_module_version": "2.0.0",
      "model_name": "FloatProgressModel",
      "state": {
       "bar_style": "success",
       "layout": "IPY_MODEL_5c460f5b541744d3a0a74666f322da73",
       "max": 10,
       "style": "IPY_MODEL_3f1101b6d586449da1e4ac098b5d4b12",
       "value": 10
      }
     },
     "74e5668495324dce91ebaf9d7c6b47bd": {
      "model_module": "@jupyter-widgets/base",
      "model_module_version": "2.0.0",
      "model_name": "LayoutModel",
      "state": {}
     },
     "752122f138044037af32308f6b43828d": {
      "model_module": "@jupyter-widgets/controls",
      "model_module_version": "2.0.0",
      "model_name": "HTMLStyleModel",
      "state": {
       "description_width": "",
       "font_size": null,
       "text_color": null
      }
     },
     "758d63761dfc47708a8920eb2b6c031c": {
      "model_module": "@jupyter-widgets/controls",
      "model_module_version": "2.0.0",
      "model_name": "HBoxModel",
      "state": {
       "children": [
        "IPY_MODEL_277d7e5ab5544c00b78e7840fe1fa61e",
        "IPY_MODEL_92fc66fa978a4922b298db99ddf16824",
        "IPY_MODEL_2787f9e087b3412aabf02e1e9da6bdf6"
       ],
       "layout": "IPY_MODEL_4166573790ab4723b976df09d9e3b894"
      }
     },
     "7665502636d64c67b3f90dedba97d788": {
      "model_module": "@jupyter-widgets/base",
      "model_module_version": "2.0.0",
      "model_name": "LayoutModel",
      "state": {}
     },
     "76abc0be2c12428a92039f89c4e3bfed": {
      "model_module": "@jupyter-widgets/controls",
      "model_module_version": "2.0.0",
      "model_name": "HTMLModel",
      "state": {
       "layout": "IPY_MODEL_818349845c5d460fa5526a69fbff1624",
       "style": "IPY_MODEL_08a69f15e7904e37b2e9721b584ef6e4",
       "value": " 10/10 [00:47&lt;00:00,  4.79s/it]"
      }
     },
     "76f86ce469d646729a85e63387b8244e": {
      "model_module": "@jupyter-widgets/base",
      "model_module_version": "2.0.0",
      "model_name": "LayoutModel",
      "state": {}
     },
     "773a2b30b1cb485a9cafd2230d1dfe5e": {
      "model_module": "@jupyter-widgets/base",
      "model_module_version": "2.0.0",
      "model_name": "LayoutModel",
      "state": {}
     },
     "788ee95413c24c4b92beb083ea852d14": {
      "model_module": "@jupyter-widgets/base",
      "model_module_version": "2.0.0",
      "model_name": "LayoutModel",
      "state": {}
     },
     "78c5712f1e36492c9982acc5f08b7598": {
      "model_module": "@jupyter-widgets/base",
      "model_module_version": "2.0.0",
      "model_name": "LayoutModel",
      "state": {}
     },
     "7922059a71784fc0b24dc8e666cfdd65": {
      "model_module": "@jupyter-widgets/base",
      "model_module_version": "2.0.0",
      "model_name": "LayoutModel",
      "state": {}
     },
     "7923081419f641e6927a64bd35f72fad": {
      "model_module": "@jupyter-widgets/base",
      "model_module_version": "2.0.0",
      "model_name": "LayoutModel",
      "state": {}
     },
     "79ae89f30aee44a5bda9880b39c77f5f": {
      "model_module": "@jupyter-widgets/controls",
      "model_module_version": "2.0.0",
      "model_name": "HTMLModel",
      "state": {
       "layout": "IPY_MODEL_c1a58e39e58a4f60bd92750a1c8ce914",
       "style": "IPY_MODEL_2755abb079614687b6e78490f7244776",
       "value": " 10/10 [00:50&lt;00:00,  4.98s/it]"
      }
     },
     "7a7d7b1e4c5c4f61b027ca9ec968bf45": {
      "model_module": "@jupyter-widgets/controls",
      "model_module_version": "2.0.0",
      "model_name": "HTMLStyleModel",
      "state": {
       "description_width": "",
       "font_size": null,
       "text_color": null
      }
     },
     "7b1b17710f0a46f6a99dc511a970df58": {
      "model_module": "@jupyter-widgets/controls",
      "model_module_version": "2.0.0",
      "model_name": "FloatProgressModel",
      "state": {
       "bar_style": "success",
       "layout": "IPY_MODEL_363401e9fb844d8c8d036dcbd1d73682",
       "max": 10,
       "style": "IPY_MODEL_17e5a01f3ab349d98bb832ac7f1ca161",
       "value": 10
      }
     },
     "7bb9f72e913e459aa1c0b37f29753575": {
      "model_module": "@jupyter-widgets/base",
      "model_module_version": "2.0.0",
      "model_name": "LayoutModel",
      "state": {}
     },
     "7d36eea5a2cb4df6a5a46d4cfffacd4b": {
      "model_module": "@jupyter-widgets/base",
      "model_module_version": "2.0.0",
      "model_name": "LayoutModel",
      "state": {}
     },
     "7d964b38efa14c048c7508ff1233addd": {
      "model_module": "@jupyter-widgets/base",
      "model_module_version": "2.0.0",
      "model_name": "LayoutModel",
      "state": {}
     },
     "7dc99601f7ed4ba386d0dfa1d6833bd1": {
      "model_module": "@jupyter-widgets/controls",
      "model_module_version": "2.0.0",
      "model_name": "HTMLStyleModel",
      "state": {
       "description_width": "",
       "font_size": null,
       "text_color": null
      }
     },
     "7dcd8b07c13e455dad0a2189b259efa2": {
      "model_module": "@jupyter-widgets/controls",
      "model_module_version": "2.0.0",
      "model_name": "FloatProgressModel",
      "state": {
       "bar_style": "success",
       "layout": "IPY_MODEL_70074ce9edef435796f857a3aa171598",
       "max": 10,
       "style": "IPY_MODEL_30750936479d497099aa60c8e72d10b5",
       "value": 10
      }
     },
     "7e1a81cc5b5240eb8eb83155cd57c3b2": {
      "model_module": "@jupyter-widgets/base",
      "model_module_version": "2.0.0",
      "model_name": "LayoutModel",
      "state": {}
     },
     "7e83e1fc3f554462ba0aa33be260ef29": {
      "model_module": "@jupyter-widgets/base",
      "model_module_version": "2.0.0",
      "model_name": "LayoutModel",
      "state": {}
     },
     "7e9a5dddf34f4acca6d9221f999f6f9a": {
      "model_module": "@jupyter-widgets/controls",
      "model_module_version": "2.0.0",
      "model_name": "HTMLStyleModel",
      "state": {
       "description_width": "",
       "font_size": null,
       "text_color": null
      }
     },
     "7ebbb37e134a4438b035e2eb115b0ca7": {
      "model_module": "@jupyter-widgets/base",
      "model_module_version": "2.0.0",
      "model_name": "LayoutModel",
      "state": {}
     },
     "7f2e0347f6f04c6484a4c5dc0badadcf": {
      "model_module": "@jupyter-widgets/controls",
      "model_module_version": "2.0.0",
      "model_name": "HTMLModel",
      "state": {
       "layout": "IPY_MODEL_5e69ddf24d2846bdb8febb668f88b02f",
       "style": "IPY_MODEL_4f85c736758f4d0a834cfc09ad9564a6",
       "value": "100%"
      }
     },
     "800893c3959b4a67af6b5cbdf4ebd3ab": {
      "model_module": "@jupyter-widgets/controls",
      "model_module_version": "2.0.0",
      "model_name": "HTMLStyleModel",
      "state": {
       "description_width": "",
       "font_size": null,
       "text_color": null
      }
     },
     "802ae9137650423cb3a7d3bd9add58a5": {
      "model_module": "@jupyter-widgets/controls",
      "model_module_version": "2.0.0",
      "model_name": "ProgressStyleModel",
      "state": {
       "description_width": ""
      }
     },
     "805f09278a164afba54132e8b08544e6": {
      "model_module": "@jupyter-widgets/controls",
      "model_module_version": "2.0.0",
      "model_name": "HBoxModel",
      "state": {
       "children": [
        "IPY_MODEL_f2da0fd9b8c34a99803d4fd4954e4d23",
        "IPY_MODEL_f211e4993c4b4fb8b5b32cd6553e19be",
        "IPY_MODEL_f3e491c8e8544db0ab32ae33145846e0"
       ],
       "layout": "IPY_MODEL_6f492065748b485984c2048ebd99f687"
      }
     },
     "806b5e443ede40edb014f0b185fd1857": {
      "model_module": "@jupyter-widgets/controls",
      "model_module_version": "2.0.0",
      "model_name": "HTMLStyleModel",
      "state": {
       "description_width": "",
       "font_size": null,
       "text_color": null
      }
     },
     "80f73baa8f0241f294c95e5437dcd4e9": {
      "model_module": "@jupyter-widgets/controls",
      "model_module_version": "2.0.0",
      "model_name": "FloatProgressModel",
      "state": {
       "bar_style": "success",
       "layout": "IPY_MODEL_e69a844f5c0843dda47bba47e0cadaf7",
       "max": 10,
       "style": "IPY_MODEL_9fa928052f0d4331bca14c3caa16d21b",
       "value": 10
      }
     },
     "8104343546a44ca6909801c8026c34a1": {
      "model_module": "@jupyter-widgets/controls",
      "model_module_version": "2.0.0",
      "model_name": "ProgressStyleModel",
      "state": {
       "description_width": ""
      }
     },
     "8130f3f94a474e47aa9ecb240e442f5d": {
      "model_module": "@jupyter-widgets/controls",
      "model_module_version": "2.0.0",
      "model_name": "HBoxModel",
      "state": {
       "children": [
        "IPY_MODEL_1dac494aa2954ec78264ca50aab8d72f",
        "IPY_MODEL_d8494b8d7c9d4bed804e40a04860bf0b",
        "IPY_MODEL_d36ef004e8c447eab009dced5cf81d07"
       ],
       "layout": "IPY_MODEL_09dacd0cb93540e99584e0182214e113"
      }
     },
     "8153867ab35a46a0b0ecf79ccddbc7e2": {
      "model_module": "@jupyter-widgets/controls",
      "model_module_version": "2.0.0",
      "model_name": "HTMLModel",
      "state": {
       "layout": "IPY_MODEL_d8353729bf274296aa0edd006b7ec1b7",
       "style": "IPY_MODEL_c2ea2992183049eaa20af3016aa6420d",
       "value": " 10/10 [00:48&lt;00:00,  4.85s/it]"
      }
     },
     "818349845c5d460fa5526a69fbff1624": {
      "model_module": "@jupyter-widgets/base",
      "model_module_version": "2.0.0",
      "model_name": "LayoutModel",
      "state": {}
     },
     "81d1f91a29c345d5a33d461e6573c673": {
      "model_module": "@jupyter-widgets/controls",
      "model_module_version": "2.0.0",
      "model_name": "ProgressStyleModel",
      "state": {
       "description_width": ""
      }
     },
     "823e2281359c48908ecdf457d9e3fce2": {
      "model_module": "@jupyter-widgets/controls",
      "model_module_version": "2.0.0",
      "model_name": "HTMLStyleModel",
      "state": {
       "description_width": "",
       "font_size": null,
       "text_color": null
      }
     },
     "82cff10ea0fb45d28eb11b69f934ce3d": {
      "model_module": "@jupyter-widgets/base",
      "model_module_version": "2.0.0",
      "model_name": "LayoutModel",
      "state": {}
     },
     "82e908e5c26a428b938728eed62a4045": {
      "model_module": "@jupyter-widgets/controls",
      "model_module_version": "2.0.0",
      "model_name": "HTMLModel",
      "state": {
       "layout": "IPY_MODEL_885734b113d14b119c5e81490b7c4b38",
       "style": "IPY_MODEL_6c2b1a0f5f964d49b57408a6b0ed8fdb",
       "value": "100%"
      }
     },
     "832ceb439c2446b59b937e7b934d7438": {
      "model_module": "@jupyter-widgets/base",
      "model_module_version": "2.0.0",
      "model_name": "LayoutModel",
      "state": {}
     },
     "838598d28b0040b795ca58b71edf4dec": {
      "model_module": "@jupyter-widgets/controls",
      "model_module_version": "2.0.0",
      "model_name": "HTMLModel",
      "state": {
       "layout": "IPY_MODEL_e6bec122454f40c3a29ad2ac8117e0e7",
       "style": "IPY_MODEL_806b5e443ede40edb014f0b185fd1857",
       "value": "100%"
      }
     },
     "83e3e4bf7f754a45a19cddfeb98187b5": {
      "model_module": "@jupyter-widgets/controls",
      "model_module_version": "2.0.0",
      "model_name": "HBoxModel",
      "state": {
       "children": [
        "IPY_MODEL_1c7c7de04ef04798acecc4f3dccb7e1c",
        "IPY_MODEL_3d53e35e4af145fbbfb8bb159656070e",
        "IPY_MODEL_d3aed8d305964be1ab7bc18578eeadab"
       ],
       "layout": "IPY_MODEL_fd2c491f94884486a8376dc7a614a6e2"
      }
     },
     "848d59a612c548e7a36bc75b4d50825d": {
      "model_module": "@jupyter-widgets/controls",
      "model_module_version": "2.0.0",
      "model_name": "FloatProgressModel",
      "state": {
       "bar_style": "danger",
       "layout": "IPY_MODEL_96b50bd64d3f43f683013bb5ef159867",
       "max": 10,
       "style": "IPY_MODEL_405d31307d0a4ce1887f12f5e089e37e",
       "value": 1
      }
     },
     "84a28493669c40308053bd08b92e5f8a": {
      "model_module": "@jupyter-widgets/controls",
      "model_module_version": "2.0.0",
      "model_name": "ProgressStyleModel",
      "state": {
       "description_width": ""
      }
     },
     "84b8b86618904f95ad809430b8632412": {
      "model_module": "@jupyter-widgets/controls",
      "model_module_version": "2.0.0",
      "model_name": "HTMLStyleModel",
      "state": {
       "description_width": "",
       "font_size": null,
       "text_color": null
      }
     },
     "8563211b682f4e45b14e477cb7c4cb3a": {
      "model_module": "@jupyter-widgets/controls",
      "model_module_version": "2.0.0",
      "model_name": "HTMLStyleModel",
      "state": {
       "description_width": "",
       "font_size": null,
       "text_color": null
      }
     },
     "85981fdadb864eee8491c947ef360d94": {
      "model_module": "@jupyter-widgets/controls",
      "model_module_version": "2.0.0",
      "model_name": "HTMLStyleModel",
      "state": {
       "description_width": "",
       "font_size": null,
       "text_color": null
      }
     },
     "85a5522454f44768abbaee23452f91be": {
      "model_module": "@jupyter-widgets/controls",
      "model_module_version": "2.0.0",
      "model_name": "HTMLModel",
      "state": {
       "layout": "IPY_MODEL_cfcb3e78b86d41bb881cedca4bcb8f46",
       "style": "IPY_MODEL_655f78be184d487eb01c5532861afc98",
       "value": "100%"
      }
     },
     "86cd55c849584764a81cc36781f9bb45": {
      "model_module": "@jupyter-widgets/controls",
      "model_module_version": "2.0.0",
      "model_name": "FloatProgressModel",
      "state": {
       "bar_style": "success",
       "layout": "IPY_MODEL_107256edd6984cef8bba7b939c4f22dc",
       "max": 10,
       "style": "IPY_MODEL_06d1616ab5b54215998b735c7223dacf",
       "value": 10
      }
     },
     "86d977787eec4af8a7859a0c9210ab5a": {
      "model_module": "@jupyter-widgets/controls",
      "model_module_version": "2.0.0",
      "model_name": "HTMLModel",
      "state": {
       "layout": "IPY_MODEL_7e1a81cc5b5240eb8eb83155cd57c3b2",
       "style": "IPY_MODEL_1d993b7fd2f349a4a31eb52cbcdbef9a",
       "value": " 10/10 [00:38&lt;00:00,  3.98s/it]"
      }
     },
     "8749113e31494cc19e0d57f4ff93f388": {
      "model_module": "@jupyter-widgets/base",
      "model_module_version": "2.0.0",
      "model_name": "LayoutModel",
      "state": {}
     },
     "8789989f58a645868a05713901fb89e3": {
      "model_module": "@jupyter-widgets/controls",
      "model_module_version": "2.0.0",
      "model_name": "HTMLStyleModel",
      "state": {
       "description_width": "",
       "font_size": null,
       "text_color": null
      }
     },
     "87b1a04209cf4ff3a5dfda98d6c71fde": {
      "model_module": "@jupyter-widgets/controls",
      "model_module_version": "2.0.0",
      "model_name": "HTMLModel",
      "state": {
       "layout": "IPY_MODEL_ab1fa34c6b1b41d18d2f9295b5af26a2",
       "style": "IPY_MODEL_27ad9b82b2fb495196b69b720dd5f578",
       "value": "100%"
      }
     },
     "87cd54e20bd2466f88652d788966e153": {
      "model_module": "@jupyter-widgets/base",
      "model_module_version": "2.0.0",
      "model_name": "LayoutModel",
      "state": {}
     },
     "87e8e5a3136c4bac8f502ad98e36751f": {
      "model_module": "@jupyter-widgets/controls",
      "model_module_version": "2.0.0",
      "model_name": "HTMLModel",
      "state": {
       "layout": "IPY_MODEL_74e5668495324dce91ebaf9d7c6b47bd",
       "style": "IPY_MODEL_fbdf2d02c0924e33833dd26da5f4b90a",
       "value": " 10/10 [00:50&lt;00:00,  4.99s/it]"
      }
     },
     "884b0ccc88da481695b101b8eb17eda3": {
      "model_module": "@jupyter-widgets/controls",
      "model_module_version": "2.0.0",
      "model_name": "HTMLStyleModel",
      "state": {
       "description_width": "",
       "font_size": null,
       "text_color": null
      }
     },
     "885734b113d14b119c5e81490b7c4b38": {
      "model_module": "@jupyter-widgets/base",
      "model_module_version": "2.0.0",
      "model_name": "LayoutModel",
      "state": {}
     },
     "88bed19573a24e7d9e9595bcc19bbc81": {
      "model_module": "@jupyter-widgets/controls",
      "model_module_version": "2.0.0",
      "model_name": "HTMLModel",
      "state": {
       "layout": "IPY_MODEL_8b6dbeaf1549451c85c1fa8ad27f0cec",
       "style": "IPY_MODEL_7a7d7b1e4c5c4f61b027ca9ec968bf45",
       "value": " 10/10 [00:47&lt;00:00,  4.65s/it]"
      }
     },
     "88d189ac5cd544a9b30a4414bfbc054c": {
      "model_module": "@jupyter-widgets/base",
      "model_module_version": "2.0.0",
      "model_name": "LayoutModel",
      "state": {}
     },
     "88f3dc8f87f2419ebe0baff07a2ee3bc": {
      "model_module": "@jupyter-widgets/controls",
      "model_module_version": "2.0.0",
      "model_name": "HTMLStyleModel",
      "state": {
       "description_width": "",
       "font_size": null,
       "text_color": null
      }
     },
     "88f7a8df405649ae86f3ce893c71861b": {
      "model_module": "@jupyter-widgets/controls",
      "model_module_version": "2.0.0",
      "model_name": "FloatProgressModel",
      "state": {
       "bar_style": "success",
       "layout": "IPY_MODEL_289c3ea511414f58abcafeb2791cfb2f",
       "max": 10,
       "style": "IPY_MODEL_643acad2a4c147c5a5521fd3f04566ec",
       "value": 10
      }
     },
     "89b5198e29ca45c287d977b9d336a781": {
      "model_module": "@jupyter-widgets/controls",
      "model_module_version": "2.0.0",
      "model_name": "ProgressStyleModel",
      "state": {
       "description_width": ""
      }
     },
     "89d10404eb0a446ba1fa62b5c02f6e1a": {
      "model_module": "@jupyter-widgets/controls",
      "model_module_version": "2.0.0",
      "model_name": "HTMLStyleModel",
      "state": {
       "description_width": "",
       "font_size": null,
       "text_color": null
      }
     },
     "8a236ef2a0d84c8384832df3603e09c5": {
      "model_module": "@jupyter-widgets/controls",
      "model_module_version": "2.0.0",
      "model_name": "HTMLModel",
      "state": {
       "layout": "IPY_MODEL_62232e5e918b4c34b34f52a5c488ef75",
       "style": "IPY_MODEL_c41577623c4a4abab28828b89839f490",
       "value": " 10/10 [00:47&lt;00:00,  4.90s/it]"
      }
     },
     "8a2a5b14245a4e4caa529292d92bbe0c": {
      "model_module": "@jupyter-widgets/controls",
      "model_module_version": "2.0.0",
      "model_name": "HBoxModel",
      "state": {
       "children": [
        "IPY_MODEL_eed55af1634c4560bde875dc32ac58f0",
        "IPY_MODEL_58918c29df424d2fb6ff1e0decaa56a3",
        "IPY_MODEL_11ba451e33344dcdba2577eb62cb6005"
       ],
       "layout": "IPY_MODEL_6ea4aefb02f948a6895da4a065028e8f"
      }
     },
     "8a752031411140308f5c43d4ea7abba3": {
      "model_module": "@jupyter-widgets/base",
      "model_module_version": "2.0.0",
      "model_name": "LayoutModel",
      "state": {}
     },
     "8ac0787af53e4d92a453cce1d230b1ad": {
      "model_module": "@jupyter-widgets/base",
      "model_module_version": "2.0.0",
      "model_name": "LayoutModel",
      "state": {}
     },
     "8b0010a8552b4dbdb9c941b115daf813": {
      "model_module": "@jupyter-widgets/controls",
      "model_module_version": "2.0.0",
      "model_name": "HBoxModel",
      "state": {
       "children": [
        "IPY_MODEL_1209857856414b3898e2f39915156a5e",
        "IPY_MODEL_ab86b144a77244bda03dd7ccd1d243d7",
        "IPY_MODEL_f74075dadf734e26ba42eed2089400d5"
       ],
       "layout": "IPY_MODEL_cc0aefcaeea04d3cb3cc5940ac53ad49"
      }
     },
     "8b09e99893374fd38521e9a46e9c0235": {
      "model_module": "@jupyter-widgets/base",
      "model_module_version": "2.0.0",
      "model_name": "LayoutModel",
      "state": {}
     },
     "8b11962816d242409fa50d6394bed859": {
      "model_module": "@jupyter-widgets/base",
      "model_module_version": "2.0.0",
      "model_name": "LayoutModel",
      "state": {}
     },
     "8b2829246c514b43b18b45c1b375fc45": {
      "model_module": "@jupyter-widgets/base",
      "model_module_version": "2.0.0",
      "model_name": "LayoutModel",
      "state": {}
     },
     "8b4c914396ec493bb3dc170460a26772": {
      "model_module": "@jupyter-widgets/base",
      "model_module_version": "2.0.0",
      "model_name": "LayoutModel",
      "state": {}
     },
     "8b6dbeaf1549451c85c1fa8ad27f0cec": {
      "model_module": "@jupyter-widgets/base",
      "model_module_version": "2.0.0",
      "model_name": "LayoutModel",
      "state": {}
     },
     "8bab1d41f21249aa8319e3fd31523e89": {
      "model_module": "@jupyter-widgets/controls",
      "model_module_version": "2.0.0",
      "model_name": "FloatProgressModel",
      "state": {
       "bar_style": "success",
       "layout": "IPY_MODEL_034c49ec6cc943269ca23196507085f6",
       "max": 10,
       "style": "IPY_MODEL_225f68e59188406eb89da937c6d79a40",
       "value": 10
      }
     },
     "8bddf0d3d29045c995c56a2a2c473e78": {
      "model_module": "@jupyter-widgets/base",
      "model_module_version": "2.0.0",
      "model_name": "LayoutModel",
      "state": {}
     },
     "8c3ff9df78474a3e8162c6bee65d944e": {
      "model_module": "@jupyter-widgets/controls",
      "model_module_version": "2.0.0",
      "model_name": "HTMLModel",
      "state": {
       "layout": "IPY_MODEL_40129f651c7942199b10e3743c8aceab",
       "style": "IPY_MODEL_6d9e35989c834684a03b05a9bc02f182",
       "value": "  0%"
      }
     },
     "8c9a87304f68494b87b0e8cac2d0d575": {
      "model_module": "@jupyter-widgets/base",
      "model_module_version": "2.0.0",
      "model_name": "LayoutModel",
      "state": {}
     },
     "8cece0a29a6646769922101db32fcd1e": {
      "model_module": "@jupyter-widgets/controls",
      "model_module_version": "2.0.0",
      "model_name": "HTMLStyleModel",
      "state": {
       "description_width": "",
       "font_size": null,
       "text_color": null
      }
     },
     "8ea12522433e4bea8d80f0aadc12700b": {
      "model_module": "@jupyter-widgets/controls",
      "model_module_version": "2.0.0",
      "model_name": "HTMLModel",
      "state": {
       "layout": "IPY_MODEL_678b7079b0354a9e81ad523fbe8f71ab",
       "style": "IPY_MODEL_c83e7b8a08bc4af28281b7fc2c4cbd85",
       "value": " 10/10 [00:42&lt;00:00,  4.47s/it]"
      }
     },
     "8eeb9cbfefc442b09ed91b69fb26926a": {
      "model_module": "@jupyter-widgets/controls",
      "model_module_version": "2.0.0",
      "model_name": "ProgressStyleModel",
      "state": {
       "description_width": ""
      }
     },
     "8efc7274e9cf40d0bcfe3ec67b9a3bef": {
      "model_module": "@jupyter-widgets/base",
      "model_module_version": "2.0.0",
      "model_name": "LayoutModel",
      "state": {}
     },
     "8f3e7effc4e449b982e439e7107bad51": {
      "model_module": "@jupyter-widgets/base",
      "model_module_version": "2.0.0",
      "model_name": "LayoutModel",
      "state": {}
     },
     "8f7c8daa0c304bd39c3935ff0e724425": {
      "model_module": "@jupyter-widgets/base",
      "model_module_version": "2.0.0",
      "model_name": "LayoutModel",
      "state": {}
     },
     "90323ec026f541adb0becc26ace96030": {
      "model_module": "@jupyter-widgets/controls",
      "model_module_version": "2.0.0",
      "model_name": "FloatProgressModel",
      "state": {
       "bar_style": "success",
       "layout": "IPY_MODEL_52f35a8fca064e8fbec81758c2adce54",
       "max": 10,
       "style": "IPY_MODEL_8104343546a44ca6909801c8026c34a1",
       "value": 10
      }
     },
     "917aacf7422f413099b40cf622ae740e": {
      "model_module": "@jupyter-widgets/base",
      "model_module_version": "2.0.0",
      "model_name": "LayoutModel",
      "state": {}
     },
     "91f11444d0ac4bd798fe3b54e97c7202": {
      "model_module": "@jupyter-widgets/controls",
      "model_module_version": "2.0.0",
      "model_name": "FloatProgressModel",
      "state": {
       "bar_style": "success",
       "layout": "IPY_MODEL_05f95e2be96544eca28a74faebf9424d",
       "max": 10,
       "style": "IPY_MODEL_13dbaf6a803a40bfbf3ce455c56a21bf",
       "value": 10
      }
     },
     "9204f889e137454d9917d767f2941333": {
      "model_module": "@jupyter-widgets/controls",
      "model_module_version": "2.0.0",
      "model_name": "HTMLStyleModel",
      "state": {
       "description_width": "",
       "font_size": null,
       "text_color": null
      }
     },
     "92f7c8ac85bd4108938a9a4580e7480c": {
      "model_module": "@jupyter-widgets/controls",
      "model_module_version": "2.0.0",
      "model_name": "FloatProgressModel",
      "state": {
       "bar_style": "danger",
       "layout": "IPY_MODEL_6c0e0fc874c246aca1f1af53be4e2c4d",
       "max": 10,
       "style": "IPY_MODEL_11fbd99c67ec4458a71325f3a36578e9",
       "value": 3
      }
     },
     "92fc66fa978a4922b298db99ddf16824": {
      "model_module": "@jupyter-widgets/controls",
      "model_module_version": "2.0.0",
      "model_name": "FloatProgressModel",
      "state": {
       "bar_style": "danger",
       "layout": "IPY_MODEL_788ee95413c24c4b92beb083ea852d14",
       "max": 6,
       "style": "IPY_MODEL_84a28493669c40308053bd08b92e5f8a"
      }
     },
     "934fe8a2e79643cb9ec960318b12929b": {
      "model_module": "@jupyter-widgets/controls",
      "model_module_version": "2.0.0",
      "model_name": "HTMLStyleModel",
      "state": {
       "description_width": "",
       "font_size": null,
       "text_color": null
      }
     },
     "93cbe50749184e1b837b815627bf9624": {
      "model_module": "@jupyter-widgets/controls",
      "model_module_version": "2.0.0",
      "model_name": "HTMLStyleModel",
      "state": {
       "description_width": "",
       "font_size": null,
       "text_color": null
      }
     },
     "93e9c3f5b3414fd786f08e9dee64eb63": {
      "model_module": "@jupyter-widgets/base",
      "model_module_version": "2.0.0",
      "model_name": "LayoutModel",
      "state": {}
     },
     "94b9db0a67d044f2bc257b9c94e60f80": {
      "model_module": "@jupyter-widgets/controls",
      "model_module_version": "2.0.0",
      "model_name": "HTMLStyleModel",
      "state": {
       "description_width": "",
       "font_size": null,
       "text_color": null
      }
     },
     "952b980d7dbf4876b091f7dc32ce8fe6": {
      "model_module": "@jupyter-widgets/controls",
      "model_module_version": "2.0.0",
      "model_name": "HTMLStyleModel",
      "state": {
       "description_width": "",
       "font_size": null,
       "text_color": null
      }
     },
     "96a0b94a2e73423fb783935c1bfa41a5": {
      "model_module": "@jupyter-widgets/base",
      "model_module_version": "2.0.0",
      "model_name": "LayoutModel",
      "state": {}
     },
     "96b50bd64d3f43f683013bb5ef159867": {
      "model_module": "@jupyter-widgets/base",
      "model_module_version": "2.0.0",
      "model_name": "LayoutModel",
      "state": {}
     },
     "976054b838b840fdafd3b48d87ea8b02": {
      "model_module": "@jupyter-widgets/controls",
      "model_module_version": "2.0.0",
      "model_name": "ProgressStyleModel",
      "state": {
       "description_width": ""
      }
     },
     "978ec3e72f804d1087b3681e1e09956d": {
      "model_module": "@jupyter-widgets/controls",
      "model_module_version": "2.0.0",
      "model_name": "HTMLModel",
      "state": {
       "layout": "IPY_MODEL_3de198c7b4ae446aabe3ff3e4dffafec",
       "style": "IPY_MODEL_af3ee039f75c478ea1772184669d94c7",
       "value": " 10/10 [00:48&lt;00:00,  4.80s/it]"
      }
     },
     "9952a27d57c845e7927d3fd7b94db9a6": {
      "model_module": "@jupyter-widgets/controls",
      "model_module_version": "2.0.0",
      "model_name": "HTMLStyleModel",
      "state": {
       "description_width": "",
       "font_size": null,
       "text_color": null
      }
     },
     "99617d638a7b4467b5c4e6ae8fda7b69": {
      "model_module": "@jupyter-widgets/base",
      "model_module_version": "2.0.0",
      "model_name": "LayoutModel",
      "state": {}
     },
     "9bbb20e458ca467faddae73157b5f3a2": {
      "model_module": "@jupyter-widgets/base",
      "model_module_version": "2.0.0",
      "model_name": "LayoutModel",
      "state": {}
     },
     "9c287bd35ec844279889071267f2e7a0": {
      "model_module": "@jupyter-widgets/base",
      "model_module_version": "2.0.0",
      "model_name": "LayoutModel",
      "state": {}
     },
     "9ca0cc2369d74515b51285afc845a16c": {
      "model_module": "@jupyter-widgets/base",
      "model_module_version": "2.0.0",
      "model_name": "LayoutModel",
      "state": {}
     },
     "9f14e973a480444d87d505fac04940df": {
      "model_module": "@jupyter-widgets/base",
      "model_module_version": "2.0.0",
      "model_name": "LayoutModel",
      "state": {}
     },
     "9f689ee7c6414116a0029cffe508bce8": {
      "model_module": "@jupyter-widgets/controls",
      "model_module_version": "2.0.0",
      "model_name": "HTMLModel",
      "state": {
       "layout": "IPY_MODEL_a68da664c6b143ebbbe236ef4f928e6b",
       "style": "IPY_MODEL_41ac75a2c8484b689a759a4fa02627cf",
       "value": " 10/10 [00:45&lt;00:00,  4.62s/it]"
      }
     },
     "9fa928052f0d4331bca14c3caa16d21b": {
      "model_module": "@jupyter-widgets/controls",
      "model_module_version": "2.0.0",
      "model_name": "ProgressStyleModel",
      "state": {
       "description_width": ""
      }
     },
     "a27ce3e022564617ae0f635fe3841093": {
      "model_module": "@jupyter-widgets/controls",
      "model_module_version": "2.0.0",
      "model_name": "HTMLStyleModel",
      "state": {
       "description_width": "",
       "font_size": null,
       "text_color": null
      }
     },
     "a52c11a674ca41cfb36d9e9c79fc4738": {
      "model_module": "@jupyter-widgets/controls",
      "model_module_version": "2.0.0",
      "model_name": "HTMLModel",
      "state": {
       "layout": "IPY_MODEL_040634cf404040dd88e86a41fb73d09c",
       "style": "IPY_MODEL_0144896f167342cfafb184ca04d31ae1",
       "value": "100%"
      }
     },
     "a678656808dd4ec799b5c7f1c977d6b8": {
      "model_module": "@jupyter-widgets/base",
      "model_module_version": "2.0.0",
      "model_name": "LayoutModel",
      "state": {}
     },
     "a68da664c6b143ebbbe236ef4f928e6b": {
      "model_module": "@jupyter-widgets/base",
      "model_module_version": "2.0.0",
      "model_name": "LayoutModel",
      "state": {}
     },
     "a6dd52bd1eff48b283777783274391f1": {
      "model_module": "@jupyter-widgets/controls",
      "model_module_version": "2.0.0",
      "model_name": "HTMLModel",
      "state": {
       "layout": "IPY_MODEL_e706727493584e6b901ee6577ab41671",
       "style": "IPY_MODEL_41a78eb83f1140779f48990c68be5d3f",
       "value": " 10%"
      }
     },
     "a739a32c8bcd4be5ac41cf0e69ef50e3": {
      "model_module": "@jupyter-widgets/base",
      "model_module_version": "2.0.0",
      "model_name": "LayoutModel",
      "state": {}
     },
     "a7f2b0138b0946acb5811b03e47f46b4": {
      "model_module": "@jupyter-widgets/base",
      "model_module_version": "2.0.0",
      "model_name": "LayoutModel",
      "state": {}
     },
     "a9224d485e9d42b898feac51a31395c4": {
      "model_module": "@jupyter-widgets/controls",
      "model_module_version": "2.0.0",
      "model_name": "ProgressStyleModel",
      "state": {
       "description_width": ""
      }
     },
     "a9c82ae6769345868f4f3d5d9cb42b58": {
      "model_module": "@jupyter-widgets/base",
      "model_module_version": "2.0.0",
      "model_name": "LayoutModel",
      "state": {}
     },
     "a9d3d442a9454edda28b4466d9a1f327": {
      "model_module": "@jupyter-widgets/controls",
      "model_module_version": "2.0.0",
      "model_name": "HTMLStyleModel",
      "state": {
       "description_width": "",
       "font_size": null,
       "text_color": null
      }
     },
     "aa38af82bf9547ada8e15668a00b25ba": {
      "model_module": "@jupyter-widgets/controls",
      "model_module_version": "2.0.0",
      "model_name": "ProgressStyleModel",
      "state": {
       "description_width": ""
      }
     },
     "aac909c5a68b4d0ebc162c0712c9642c": {
      "model_module": "@jupyter-widgets/base",
      "model_module_version": "2.0.0",
      "model_name": "LayoutModel",
      "state": {}
     },
     "aaeff1c84f0148b69e5086ab57e19e81": {
      "model_module": "@jupyter-widgets/controls",
      "model_module_version": "2.0.0",
      "model_name": "HTMLStyleModel",
      "state": {
       "description_width": "",
       "font_size": null,
       "text_color": null
      }
     },
     "ab10c67cd6ce4179b8f40b5fc228ea53": {
      "model_module": "@jupyter-widgets/controls",
      "model_module_version": "2.0.0",
      "model_name": "HBoxModel",
      "state": {
       "children": [
        "IPY_MODEL_7f2e0347f6f04c6484a4c5dc0badadcf",
        "IPY_MODEL_e7bda67279f544498ffd29f4ef83269d",
        "IPY_MODEL_79ae89f30aee44a5bda9880b39c77f5f"
       ],
       "layout": "IPY_MODEL_23c9e34d59344130a2e8958d84260523"
      }
     },
     "ab1fa34c6b1b41d18d2f9295b5af26a2": {
      "model_module": "@jupyter-widgets/base",
      "model_module_version": "2.0.0",
      "model_name": "LayoutModel",
      "state": {}
     },
     "ab86b144a77244bda03dd7ccd1d243d7": {
      "model_module": "@jupyter-widgets/controls",
      "model_module_version": "2.0.0",
      "model_name": "FloatProgressModel",
      "state": {
       "bar_style": "success",
       "layout": "IPY_MODEL_8f7c8daa0c304bd39c3935ff0e724425",
       "max": 10,
       "style": "IPY_MODEL_3599bf84420a4ae195d0856d87cad990",
       "value": 10
      }
     },
     "ac368beda124454790687e2a120f8015": {
      "model_module": "@jupyter-widgets/controls",
      "model_module_version": "2.0.0",
      "model_name": "HTMLModel",
      "state": {
       "layout": "IPY_MODEL_05ade1411f2d4ba690e3ca4aa1f26b33",
       "style": "IPY_MODEL_46978d8bf232444785e4ab6a7b239548",
       "value": "100%"
      }
     },
     "ac73d4c2366641f9986db6e0e640d6b6": {
      "model_module": "@jupyter-widgets/controls",
      "model_module_version": "2.0.0",
      "model_name": "FloatProgressModel",
      "state": {
       "bar_style": "success",
       "layout": "IPY_MODEL_590af84df5244943a31bb5ef1b2660d8",
       "max": 10,
       "style": "IPY_MODEL_3d9786a9a4864fb4aecad8ee1ef18579",
       "value": 10
      }
     },
     "ae7ca24833f0404baebcd1eccbe06f8e": {
      "model_module": "@jupyter-widgets/controls",
      "model_module_version": "2.0.0",
      "model_name": "HTMLModel",
      "state": {
       "layout": "IPY_MODEL_4bb7e08b85ca4bd5a66cc6542e502d8e",
       "style": "IPY_MODEL_d7fb5d62420f41af832d1e88b7b9bdd3",
       "value": "100%"
      }
     },
     "aebcb8e46c3d4f118ad00149c308aad7": {
      "model_module": "@jupyter-widgets/controls",
      "model_module_version": "2.0.0",
      "model_name": "HTMLModel",
      "state": {
       "layout": "IPY_MODEL_a678656808dd4ec799b5c7f1c977d6b8",
       "style": "IPY_MODEL_9952a27d57c845e7927d3fd7b94db9a6",
       "value": " 0/20 [00:05&lt;?, ?it/s]"
      }
     },
     "aeee8ca2e921455088de114f38ee2a12": {
      "model_module": "@jupyter-widgets/base",
      "model_module_version": "2.0.0",
      "model_name": "LayoutModel",
      "state": {}
     },
     "af31c3c11f4d4a488b55387078566704": {
      "model_module": "@jupyter-widgets/base",
      "model_module_version": "2.0.0",
      "model_name": "LayoutModel",
      "state": {}
     },
     "af3b56a4d45d4094bbbd07b36fe48c32": {
      "model_module": "@jupyter-widgets/controls",
      "model_module_version": "2.0.0",
      "model_name": "ProgressStyleModel",
      "state": {
       "description_width": ""
      }
     },
     "af3ee039f75c478ea1772184669d94c7": {
      "model_module": "@jupyter-widgets/controls",
      "model_module_version": "2.0.0",
      "model_name": "HTMLStyleModel",
      "state": {
       "description_width": "",
       "font_size": null,
       "text_color": null
      }
     },
     "af6b5ca4a6e44badb5e4f40bf74c044b": {
      "model_module": "@jupyter-widgets/controls",
      "model_module_version": "2.0.0",
      "model_name": "HTMLModel",
      "state": {
       "layout": "IPY_MODEL_04ad94e671ce4c8baf6a2cd01ed9eee3",
       "style": "IPY_MODEL_f6f5af02e19549ecaf44b13872c2f4d1",
       "value": " 10/10 [00:38&lt;00:00,  3.97s/it]"
      }
     },
     "afcd026a97fb4ccb8c0c8108a8a68f15": {
      "model_module": "@jupyter-widgets/controls",
      "model_module_version": "2.0.0",
      "model_name": "HTMLStyleModel",
      "state": {
       "description_width": "",
       "font_size": null,
       "text_color": null
      }
     },
     "afd71badf149479eb248f8da49f685b6": {
      "model_module": "@jupyter-widgets/controls",
      "model_module_version": "2.0.0",
      "model_name": "HTMLModel",
      "state": {
       "layout": "IPY_MODEL_05f75aa994ca49bc9fe9e7cce0341425",
       "style": "IPY_MODEL_aaeff1c84f0148b69e5086ab57e19e81",
       "value": "100%"
      }
     },
     "b042fc36977f425eba4f79b2e6af69b4": {
      "model_module": "@jupyter-widgets/base",
      "model_module_version": "2.0.0",
      "model_name": "LayoutModel",
      "state": {}
     },
     "b0d863295b464cccb823fe5a02745492": {
      "model_module": "@jupyter-widgets/base",
      "model_module_version": "2.0.0",
      "model_name": "LayoutModel",
      "state": {}
     },
     "b0fcf897bd6d4ca8bc8dea73d6518db1": {
      "model_module": "@jupyter-widgets/controls",
      "model_module_version": "2.0.0",
      "model_name": "HBoxModel",
      "state": {
       "children": [
        "IPY_MODEL_ed0e19e867fc4a42bbd5d517ca728eb0",
        "IPY_MODEL_fb7a6835bf7f499f9ae9266a4536ed05",
        "IPY_MODEL_f4c29a003df24e1499844cf5375a1465"
       ],
       "layout": "IPY_MODEL_76f86ce469d646729a85e63387b8244e"
      }
     },
     "b13f5747780943c6bc85ab8319e32512": {
      "model_module": "@jupyter-widgets/controls",
      "model_module_version": "2.0.0",
      "model_name": "ProgressStyleModel",
      "state": {
       "description_width": ""
      }
     },
     "b196825202454d5bb63ad9da7fd18c32": {
      "model_module": "@jupyter-widgets/controls",
      "model_module_version": "2.0.0",
      "model_name": "HTMLStyleModel",
      "state": {
       "description_width": "",
       "font_size": null,
       "text_color": null
      }
     },
     "b197a79b74c149b8a3b7aabe154e6ca5": {
      "model_module": "@jupyter-widgets/controls",
      "model_module_version": "2.0.0",
      "model_name": "ProgressStyleModel",
      "state": {
       "description_width": ""
      }
     },
     "b235cc7b2d82454db2dc6231470d6198": {
      "model_module": "@jupyter-widgets/controls",
      "model_module_version": "2.0.0",
      "model_name": "HBoxModel",
      "state": {
       "children": [
        "IPY_MODEL_85a5522454f44768abbaee23452f91be",
        "IPY_MODEL_d846b5fa09594b41b3aeb3c7e662306e",
        "IPY_MODEL_8ea12522433e4bea8d80f0aadc12700b"
       ],
       "layout": "IPY_MODEL_8b2829246c514b43b18b45c1b375fc45"
      }
     },
     "b39aebcf033946f89ed2f46987dbff7e": {
      "model_module": "@jupyter-widgets/controls",
      "model_module_version": "2.0.0",
      "model_name": "HTMLStyleModel",
      "state": {
       "description_width": "",
       "font_size": null,
       "text_color": null
      }
     },
     "b3fa5c258a8f4134a508a8dd7a7c1eab": {
      "model_module": "@jupyter-widgets/base",
      "model_module_version": "2.0.0",
      "model_name": "LayoutModel",
      "state": {}
     },
     "b407ce0d43a04a3fa1cc8c89d801fef7": {
      "model_module": "@jupyter-widgets/controls",
      "model_module_version": "2.0.0",
      "model_name": "FloatProgressModel",
      "state": {
       "bar_style": "success",
       "layout": "IPY_MODEL_ed9dfd2e8e0b41999d5c1b37fc9aca91",
       "max": 10,
       "style": "IPY_MODEL_8eeb9cbfefc442b09ed91b69fb26926a",
       "value": 10
      }
     },
     "b45e52230f1f43c8bd561dcf9e74a7ed": {
      "model_module": "@jupyter-widgets/controls",
      "model_module_version": "2.0.0",
      "model_name": "HTMLModel",
      "state": {
       "layout": "IPY_MODEL_7176899bfcf64e22a32a8f92685d8133",
       "style": "IPY_MODEL_5a3783687d654f95950d9c76c9a7b2bc",
       "value": " 10/10 [00:44&lt;00:00,  4.66s/it]"
      }
     },
     "b568fc5d4302496aab3c95f010628c0d": {
      "model_module": "@jupyter-widgets/base",
      "model_module_version": "2.0.0",
      "model_name": "LayoutModel",
      "state": {}
     },
     "b674fefdc4954b4890fbe204efdf162a": {
      "model_module": "@jupyter-widgets/base",
      "model_module_version": "2.0.0",
      "model_name": "LayoutModel",
      "state": {}
     },
     "b7483866761147ac9c0e33e80ec09de2": {
      "model_module": "@jupyter-widgets/base",
      "model_module_version": "2.0.0",
      "model_name": "LayoutModel",
      "state": {}
     },
     "b76c5049c38f44e4bcbebc8854ad7c8b": {
      "model_module": "@jupyter-widgets/controls",
      "model_module_version": "2.0.0",
      "model_name": "HTMLStyleModel",
      "state": {
       "description_width": "",
       "font_size": null,
       "text_color": null
      }
     },
     "b82dca100c924aff831bdbdeb62b1b90": {
      "model_module": "@jupyter-widgets/controls",
      "model_module_version": "2.0.0",
      "model_name": "HTMLModel",
      "state": {
       "layout": "IPY_MODEL_70c8d2efd3664dc395f2ba3d26384103",
       "style": "IPY_MODEL_94b9db0a67d044f2bc257b9c94e60f80",
       "value": "100%"
      }
     },
     "b8b6edab0a184d31910dad0b6b7a699a": {
      "model_module": "@jupyter-widgets/controls",
      "model_module_version": "2.0.0",
      "model_name": "HBoxModel",
      "state": {
       "children": [
        "IPY_MODEL_b8dcab0449594f898022aef24b0e1a43",
        "IPY_MODEL_6c719a4a313e467bb85d573c4167838e",
        "IPY_MODEL_6b7ae8f281f943eb9f92ec8563fbac94"
       ],
       "layout": "IPY_MODEL_7d36eea5a2cb4df6a5a46d4cfffacd4b"
      }
     },
     "b8dcab0449594f898022aef24b0e1a43": {
      "model_module": "@jupyter-widgets/controls",
      "model_module_version": "2.0.0",
      "model_name": "HTMLModel",
      "state": {
       "layout": "IPY_MODEL_5f8c29a1489041f894fa4be27e2869be",
       "style": "IPY_MODEL_7295e779c2b74873bdd297546ddaef0d",
       "value": "100%"
      }
     },
     "b9265a39932a4583aae669dbe87f2923": {
      "model_module": "@jupyter-widgets/base",
      "model_module_version": "2.0.0",
      "model_name": "LayoutModel",
      "state": {}
     },
     "b9d4448dec7f4936bb214a0aefbd0e04": {
      "model_module": "@jupyter-widgets/base",
      "model_module_version": "2.0.0",
      "model_name": "LayoutModel",
      "state": {}
     },
     "ba7ef7058cfa4e05881217cfdbec4789": {
      "model_module": "@jupyter-widgets/base",
      "model_module_version": "2.0.0",
      "model_name": "LayoutModel",
      "state": {}
     },
     "ba89e2c85ff34760bb4d338cc5ad5c74": {
      "model_module": "@jupyter-widgets/base",
      "model_module_version": "2.0.0",
      "model_name": "LayoutModel",
      "state": {}
     },
     "baa8efc1b0414d8199aac170e522dc9d": {
      "model_module": "@jupyter-widgets/controls",
      "model_module_version": "2.0.0",
      "model_name": "ProgressStyleModel",
      "state": {
       "description_width": ""
      }
     },
     "bbd209e4c8a04882bd5fc664d0d72e90": {
      "model_module": "@jupyter-widgets/controls",
      "model_module_version": "2.0.0",
      "model_name": "HBoxModel",
      "state": {
       "children": [
        "IPY_MODEL_87b1a04209cf4ff3a5dfda98d6c71fde",
        "IPY_MODEL_5e93cdbef9fb4a0b8ddaee53a2f04201",
        "IPY_MODEL_eb702bab29de4a268a81ff4c3d61fc32"
       ],
       "layout": "IPY_MODEL_cd1752c0dca64a0a97cb29d396da7c13"
      }
     },
     "bbdce6ca346e4327ab6c757793fd00e4": {
      "model_module": "@jupyter-widgets/controls",
      "model_module_version": "2.0.0",
      "model_name": "HTMLStyleModel",
      "state": {
       "description_width": "",
       "font_size": null,
       "text_color": null
      }
     },
     "bbebda9171e5454bbdb852d82aef493e": {
      "model_module": "@jupyter-widgets/controls",
      "model_module_version": "2.0.0",
      "model_name": "HBoxModel",
      "state": {
       "children": [
        "IPY_MODEL_cd92c83f33634017852c952028250b69",
        "IPY_MODEL_69f06b9b7cdc410fb6b871b39a382199",
        "IPY_MODEL_c698c290ee2b427b83a3fb778dc6d57f"
       ],
       "layout": "IPY_MODEL_7665502636d64c67b3f90dedba97d788"
      }
     },
     "bda3b9a78db84ef78952e0793a2f3a38": {
      "model_module": "@jupyter-widgets/controls",
      "model_module_version": "2.0.0",
      "model_name": "ProgressStyleModel",
      "state": {
       "description_width": ""
      }
     },
     "bf8bee26a7144bff8599667808ebce33": {
      "model_module": "@jupyter-widgets/base",
      "model_module_version": "2.0.0",
      "model_name": "LayoutModel",
      "state": {}
     },
     "bfc8d49f3501490c89149f09aff4a46c": {
      "model_module": "@jupyter-widgets/controls",
      "model_module_version": "2.0.0",
      "model_name": "ProgressStyleModel",
      "state": {
       "description_width": ""
      }
     },
     "c0b8028c58d6478c8d5b5a4c29f1bf08": {
      "model_module": "@jupyter-widgets/base",
      "model_module_version": "2.0.0",
      "model_name": "LayoutModel",
      "state": {}
     },
     "c174bd09ebee4de18ed815d950f57e08": {
      "model_module": "@jupyter-widgets/controls",
      "model_module_version": "2.0.0",
      "model_name": "HBoxModel",
      "state": {
       "children": [
        "IPY_MODEL_cadd49730af64b21b61f5a2ae1814b22",
        "IPY_MODEL_2f43e663b04746c295e305c882a43724",
        "IPY_MODEL_fc29f2cdcf264946ac28d99cb19415ec"
       ],
       "layout": "IPY_MODEL_8b11962816d242409fa50d6394bed859"
      }
     },
     "c1a58e39e58a4f60bd92750a1c8ce914": {
      "model_module": "@jupyter-widgets/base",
      "model_module_version": "2.0.0",
      "model_name": "LayoutModel",
      "state": {}
     },
     "c2a790a844d8436fae0a38b7ecadfa1b": {
      "model_module": "@jupyter-widgets/controls",
      "model_module_version": "2.0.0",
      "model_name": "HBoxModel",
      "state": {
       "children": [
        "IPY_MODEL_44989a783ff64a8e9c30ed43848bfd53",
        "IPY_MODEL_29c922b847204aaeb214e6f4291104f9",
        "IPY_MODEL_b45e52230f1f43c8bd561dcf9e74a7ed"
       ],
       "layout": "IPY_MODEL_331b2f6af94f414aba6337aa770735ac"
      }
     },
     "c2a7f65aa18a43ff832fdc024ca15440": {
      "model_module": "@jupyter-widgets/controls",
      "model_module_version": "2.0.0",
      "model_name": "HTMLStyleModel",
      "state": {
       "description_width": "",
       "font_size": null,
       "text_color": null
      }
     },
     "c2ea2992183049eaa20af3016aa6420d": {
      "model_module": "@jupyter-widgets/controls",
      "model_module_version": "2.0.0",
      "model_name": "HTMLStyleModel",
      "state": {
       "description_width": "",
       "font_size": null,
       "text_color": null
      }
     },
     "c3056c2ea28044a7a85d237fed01b1ca": {
      "model_module": "@jupyter-widgets/base",
      "model_module_version": "2.0.0",
      "model_name": "LayoutModel",
      "state": {}
     },
     "c369d1fc646b498493836bdcb193a622": {
      "model_module": "@jupyter-widgets/base",
      "model_module_version": "2.0.0",
      "model_name": "LayoutModel",
      "state": {}
     },
     "c41577623c4a4abab28828b89839f490": {
      "model_module": "@jupyter-widgets/controls",
      "model_module_version": "2.0.0",
      "model_name": "HTMLStyleModel",
      "state": {
       "description_width": "",
       "font_size": null,
       "text_color": null
      }
     },
     "c469b3f9475a48b195b3a75131164834": {
      "model_module": "@jupyter-widgets/controls",
      "model_module_version": "2.0.0",
      "model_name": "FloatProgressModel",
      "state": {
       "bar_style": "success",
       "layout": "IPY_MODEL_aac909c5a68b4d0ebc162c0712c9642c",
       "max": 10,
       "style": "IPY_MODEL_89b5198e29ca45c287d977b9d336a781",
       "value": 10
      }
     },
     "c4f4f912f6d744f6936942ae3292447a": {
      "model_module": "@jupyter-widgets/controls",
      "model_module_version": "2.0.0",
      "model_name": "ProgressStyleModel",
      "state": {
       "description_width": ""
      }
     },
     "c556696d5a174ddbb39e5e90290f0e4d": {
      "model_module": "@jupyter-widgets/base",
      "model_module_version": "2.0.0",
      "model_name": "LayoutModel",
      "state": {}
     },
     "c56ab157154a4caa82844be0178da61b": {
      "model_module": "@jupyter-widgets/controls",
      "model_module_version": "2.0.0",
      "model_name": "HTMLStyleModel",
      "state": {
       "description_width": "",
       "font_size": null,
       "text_color": null
      }
     },
     "c5874e2b0f2c4bc99876317d04d13d42": {
      "model_module": "@jupyter-widgets/controls",
      "model_module_version": "2.0.0",
      "model_name": "FloatProgressModel",
      "state": {
       "bar_style": "success",
       "layout": "IPY_MODEL_03576015be694f3f8e23e241ce471135",
       "max": 20,
       "style": "IPY_MODEL_70da85be1fcc4a33a11d0050950a2c61",
       "value": 20
      }
     },
     "c58af83bcad64a48b18d67a23b856e11": {
      "model_module": "@jupyter-widgets/base",
      "model_module_version": "2.0.0",
      "model_name": "LayoutModel",
      "state": {}
     },
     "c5beff040db84cdc8be22884da39ceab": {
      "model_module": "@jupyter-widgets/controls",
      "model_module_version": "2.0.0",
      "model_name": "HBoxModel",
      "state": {
       "children": [
        "IPY_MODEL_ac368beda124454790687e2a120f8015",
        "IPY_MODEL_e4c1f3c38a4a4b67bc30f0d0859daa12",
        "IPY_MODEL_86d977787eec4af8a7859a0c9210ab5a"
       ],
       "layout": "IPY_MODEL_293e35e2dff64159a28c673e86175ceb"
      }
     },
     "c6275a95bbbf44608f409959796d9647": {
      "model_module": "@jupyter-widgets/base",
      "model_module_version": "2.0.0",
      "model_name": "LayoutModel",
      "state": {}
     },
     "c644ea6898bf4830814453e8654997b1": {
      "model_module": "@jupyter-widgets/controls",
      "model_module_version": "2.0.0",
      "model_name": "HTMLModel",
      "state": {
       "layout": "IPY_MODEL_e4b0aa5c7f4b4c569030f2c31ef5f461",
       "style": "IPY_MODEL_7dc99601f7ed4ba386d0dfa1d6833bd1",
       "value": "100%"
      }
     },
     "c6727d19b54a49b18a1e148e60585d89": {
      "model_module": "@jupyter-widgets/controls",
      "model_module_version": "2.0.0",
      "model_name": "HTMLModel",
      "state": {
       "layout": "IPY_MODEL_335ab837ff1b422ba1c1b09acd9d7656",
       "style": "IPY_MODEL_e93f393e18f742b89dac5e15e5b414d0",
       "value": " 10/10 [00:45&lt;00:00,  4.72s/it]"
      }
     },
     "c684a00987324238a3bfa55d0b8e13ce": {
      "model_module": "@jupyter-widgets/base",
      "model_module_version": "2.0.0",
      "model_name": "LayoutModel",
      "state": {}
     },
     "c698c290ee2b427b83a3fb778dc6d57f": {
      "model_module": "@jupyter-widgets/controls",
      "model_module_version": "2.0.0",
      "model_name": "HTMLModel",
      "state": {
       "layout": "IPY_MODEL_17822429ece6489b90caeaac55d42432",
       "style": "IPY_MODEL_3a83a226195649f4a42e134e984679df",
       "value": " 20/20 [16:21&lt;00:00, 49.47s/it]"
      }
     },
     "c699c54aec674d4582f38e3b7eb884ff": {
      "model_module": "@jupyter-widgets/controls",
      "model_module_version": "2.0.0",
      "model_name": "HTMLModel",
      "state": {
       "layout": "IPY_MODEL_e305c78939584314a3977dc7317b5007",
       "style": "IPY_MODEL_8789989f58a645868a05713901fb89e3",
       "value": " 10/10 [00:49&lt;00:00,  5.06s/it]"
      }
     },
     "c6f053da21fa490196517378b3554535": {
      "model_module": "@jupyter-widgets/controls",
      "model_module_version": "2.0.0",
      "model_name": "HTMLStyleModel",
      "state": {
       "description_width": "",
       "font_size": null,
       "text_color": null
      }
     },
     "c72c504f9ee043c39e9d78578d8fb978": {
      "model_module": "@jupyter-widgets/controls",
      "model_module_version": "2.0.0",
      "model_name": "HTMLModel",
      "state": {
       "layout": "IPY_MODEL_3e1c5fab74ef4376a7fba7eb2fbf5180",
       "style": "IPY_MODEL_5252f5657dbb432a9a1f78c75664dd13",
       "value": "100%"
      }
     },
     "c83e7b8a08bc4af28281b7fc2c4cbd85": {
      "model_module": "@jupyter-widgets/controls",
      "model_module_version": "2.0.0",
      "model_name": "HTMLStyleModel",
      "state": {
       "description_width": "",
       "font_size": null,
       "text_color": null
      }
     },
     "c878d56d9dbf431c8eb0a733bc102dce": {
      "model_module": "@jupyter-widgets/controls",
      "model_module_version": "2.0.0",
      "model_name": "HBoxModel",
      "state": {
       "children": [
        "IPY_MODEL_24ffecd1f9e240b6b71e3925dc626e1f",
        "IPY_MODEL_356c83729d2d4e578db93a6b54152531",
        "IPY_MODEL_3df475ab8dd84b71b2d00abf61f77b23"
       ],
       "layout": "IPY_MODEL_b3fa5c258a8f4134a508a8dd7a7c1eab"
      }
     },
     "c890063174d84a48a3ba7aa3d7808596": {
      "model_module": "@jupyter-widgets/controls",
      "model_module_version": "2.0.0",
      "model_name": "HTMLModel",
      "state": {
       "layout": "IPY_MODEL_04be51106c6741038e139e7d919fb31c",
       "style": "IPY_MODEL_952b980d7dbf4876b091f7dc32ce8fe6",
       "value": " 20/20 [14:29&lt;00:00, 36.24s/it]"
      }
     },
     "c8c9ddc4b68d434a82d176922b23b0d3": {
      "model_module": "@jupyter-widgets/base",
      "model_module_version": "2.0.0",
      "model_name": "LayoutModel",
      "state": {}
     },
     "c912090ecabf404caffab2bfb09b05c8": {
      "model_module": "@jupyter-widgets/controls",
      "model_module_version": "2.0.0",
      "model_name": "HTMLStyleModel",
      "state": {
       "description_width": "",
       "font_size": null,
       "text_color": null
      }
     },
     "c96efb565ffd45cb9185b17671f3dd76": {
      "model_module": "@jupyter-widgets/controls",
      "model_module_version": "2.0.0",
      "model_name": "HTMLStyleModel",
      "state": {
       "description_width": "",
       "font_size": null,
       "text_color": null
      }
     },
     "c9b1d199800f49de86dbea967c4fe8f3": {
      "model_module": "@jupyter-widgets/controls",
      "model_module_version": "2.0.0",
      "model_name": "HTMLModel",
      "state": {
       "layout": "IPY_MODEL_41527cac50c14a75b461655b43bccd2c",
       "style": "IPY_MODEL_e9cd7747e7e043e796587d1091d41f4c",
       "value": " 1/10 [00:05&lt;00:22,  2.47s/it]"
      }
     },
     "ca2d51799fd04ef4a16056b6b18c3e02": {
      "model_module": "@jupyter-widgets/controls",
      "model_module_version": "2.0.0",
      "model_name": "FloatProgressModel",
      "state": {
       "bar_style": "success",
       "layout": "IPY_MODEL_0209f891a3604391a8ed364da133b241",
       "max": 10,
       "style": "IPY_MODEL_4e5c96b4912242128afcb1802be28bdd",
       "value": 10
      }
     },
     "ca74129147774acda87b9cd2b0cc848b": {
      "model_module": "@jupyter-widgets/controls",
      "model_module_version": "2.0.0",
      "model_name": "HTMLModel",
      "state": {
       "layout": "IPY_MODEL_c556696d5a174ddbb39e5e90290f0e4d",
       "style": "IPY_MODEL_c96efb565ffd45cb9185b17671f3dd76",
       "value": "100%"
      }
     },
     "caada2e5d608482c97a58cd784276819": {
      "model_module": "@jupyter-widgets/base",
      "model_module_version": "2.0.0",
      "model_name": "LayoutModel",
      "state": {}
     },
     "cab8dcdfe1d04c0cafa377dedbcce9a0": {
      "model_module": "@jupyter-widgets/controls",
      "model_module_version": "2.0.0",
      "model_name": "HTMLModel",
      "state": {
       "layout": "IPY_MODEL_caada2e5d608482c97a58cd784276819",
       "style": "IPY_MODEL_188cccbcdcfc4347a7db03a37c793970",
       "value": " 10/10 [00:43&lt;00:00,  4.34s/it]"
      }
     },
     "cadd49730af64b21b61f5a2ae1814b22": {
      "model_module": "@jupyter-widgets/controls",
      "model_module_version": "2.0.0",
      "model_name": "HTMLModel",
      "state": {
       "layout": "IPY_MODEL_24ae0d2dca224663b43fc25151f66a5a",
       "style": "IPY_MODEL_a27ce3e022564617ae0f635fe3841093",
       "value": "100%"
      }
     },
     "cae25b795b2a4e16a06893707df5a024": {
      "model_module": "@jupyter-widgets/controls",
      "model_module_version": "2.0.0",
      "model_name": "HTMLModel",
      "state": {
       "layout": "IPY_MODEL_17884b01be214aafbfaae7c98b7a36c9",
       "style": "IPY_MODEL_9204f889e137454d9917d767f2941333",
       "value": " 10/10 [00:40&lt;00:00,  3.86s/it]"
      }
     },
     "cb1df1eeab4e4887822c138bdc77ac6e": {
      "model_module": "@jupyter-widgets/controls",
      "model_module_version": "2.0.0",
      "model_name": "HBoxModel",
      "state": {
       "children": [
        "IPY_MODEL_19ef73710719499cba74dd1e66ccfac2",
        "IPY_MODEL_719636b6f70041ceb680646ee2a3fc65",
        "IPY_MODEL_56d10f63b7db4e8cb79c8d2608c118a0"
       ],
       "layout": "IPY_MODEL_d54d307f7522476f813aed4d0fe9766c"
      }
     },
     "cb1f7d7314ac4f81aedbd8f57f9b75c6": {
      "model_module": "@jupyter-widgets/controls",
      "model_module_version": "2.0.0",
      "model_name": "HBoxModel",
      "state": {
       "children": [
        "IPY_MODEL_7107d4e35a5849bd83b9aee7b6cef906",
        "IPY_MODEL_92f7c8ac85bd4108938a9a4580e7480c",
        "IPY_MODEL_543f064e481142608dbfe9cfc05c726d"
       ],
       "layout": "IPY_MODEL_a7f2b0138b0946acb5811b03e47f46b4"
      }
     },
     "cb77b816e08741c082ff5f64d92ecc70": {
      "model_module": "@jupyter-widgets/controls",
      "model_module_version": "2.0.0",
      "model_name": "HBoxModel",
      "state": {
       "children": [
        "IPY_MODEL_a52c11a674ca41cfb36d9e9c79fc4738",
        "IPY_MODEL_d37dad2a264a404f95b8f8081a5401dd",
        "IPY_MODEL_3063218628e546ee9b90a5108ed7cf43"
       ],
       "layout": "IPY_MODEL_3a0ccb587f9b4e67bfbfa04b8ead5204"
      }
     },
     "cc0aefcaeea04d3cb3cc5940ac53ad49": {
      "model_module": "@jupyter-widgets/base",
      "model_module_version": "2.0.0",
      "model_name": "LayoutModel",
      "state": {}
     },
     "cc813581c5334852b3d322ee58f1056f": {
      "model_module": "@jupyter-widgets/controls",
      "model_module_version": "2.0.0",
      "model_name": "HTMLStyleModel",
      "state": {
       "description_width": "",
       "font_size": null,
       "text_color": null
      }
     },
     "cd1752c0dca64a0a97cb29d396da7c13": {
      "model_module": "@jupyter-widgets/base",
      "model_module_version": "2.0.0",
      "model_name": "LayoutModel",
      "state": {}
     },
     "cd92c83f33634017852c952028250b69": {
      "model_module": "@jupyter-widgets/controls",
      "model_module_version": "2.0.0",
      "model_name": "HTMLModel",
      "state": {
       "layout": "IPY_MODEL_b9d4448dec7f4936bb214a0aefbd0e04",
       "style": "IPY_MODEL_52f3e44e57134eb9acced57d2f5417e1",
       "value": "100%"
      }
     },
     "cdd7373b3029489d881e3cbd012c998e": {
      "model_module": "@jupyter-widgets/controls",
      "model_module_version": "2.0.0",
      "model_name": "HTMLModel",
      "state": {
       "layout": "IPY_MODEL_228ea8dc313846d08720201a1ea7aa32",
       "style": "IPY_MODEL_394a417ed99848dbbf8f5f1a882bbd93",
       "value": "100%"
      }
     },
     "cfcb3e78b86d41bb881cedca4bcb8f46": {
      "model_module": "@jupyter-widgets/base",
      "model_module_version": "2.0.0",
      "model_name": "LayoutModel",
      "state": {}
     },
     "d0740266417743b0b59c71fda46b6c8e": {
      "model_module": "@jupyter-widgets/controls",
      "model_module_version": "2.0.0",
      "model_name": "HTMLStyleModel",
      "state": {
       "description_width": "",
       "font_size": null,
       "text_color": null
      }
     },
     "d0f22a22ca11428088354f274007cf0f": {
      "model_module": "@jupyter-widgets/controls",
      "model_module_version": "2.0.0",
      "model_name": "ProgressStyleModel",
      "state": {
       "description_width": ""
      }
     },
     "d2e0fdbb7a4e480a9298d017b56ff668": {
      "model_module": "@jupyter-widgets/controls",
      "model_module_version": "2.0.0",
      "model_name": "HBoxModel",
      "state": {
       "children": [
        "IPY_MODEL_070e3f9ff4a64a9db2a2f7a03ff680f3",
        "IPY_MODEL_ca2d51799fd04ef4a16056b6b18c3e02",
        "IPY_MODEL_4227c9d683c440b5a7a092ed7ef039eb"
       ],
       "layout": "IPY_MODEL_b7483866761147ac9c0e33e80ec09de2"
      }
     },
     "d33a0757767346f0adb9760ed70f6b48": {
      "model_module": "@jupyter-widgets/controls",
      "model_module_version": "2.0.0",
      "model_name": "HTMLModel",
      "state": {
       "layout": "IPY_MODEL_133f4b2372744b9ab797f96448abb082",
       "style": "IPY_MODEL_17fa1d20f0264a3aab9b4ac36e14225b",
       "value": " 10/10 [00:53&lt;00:00,  5.36s/it]"
      }
     },
     "d340686547724375bd2e723d7882182c": {
      "model_module": "@jupyter-widgets/controls",
      "model_module_version": "2.0.0",
      "model_name": "HTMLModel",
      "state": {
       "layout": "IPY_MODEL_78c5712f1e36492c9982acc5f08b7598",
       "style": "IPY_MODEL_6e5c4f42457b42e39d0d0985de536f9f",
       "value": " 10/10 [00:47&lt;00:00,  4.72s/it]"
      }
     },
     "d36ef004e8c447eab009dced5cf81d07": {
      "model_module": "@jupyter-widgets/controls",
      "model_module_version": "2.0.0",
      "model_name": "HTMLModel",
      "state": {
       "layout": "IPY_MODEL_ef7f4bcf989f44d6b5026cfd53238b5d",
       "style": "IPY_MODEL_c2a7f65aa18a43ff832fdc024ca15440",
       "value": " 10/10 [00:29&lt;00:00,  2.85s/it]"
      }
     },
     "d37dad2a264a404f95b8f8081a5401dd": {
      "model_module": "@jupyter-widgets/controls",
      "model_module_version": "2.0.0",
      "model_name": "FloatProgressModel",
      "state": {
       "bar_style": "success",
       "layout": "IPY_MODEL_8a752031411140308f5c43d4ea7abba3",
       "max": 10,
       "style": "IPY_MODEL_6a886ace1d194a799e8289b8d5d13d53",
       "value": 10
      }
     },
     "d388fdc4f52840718676311fdc53bf4e": {
      "model_module": "@jupyter-widgets/controls",
      "model_module_version": "2.0.0",
      "model_name": "ProgressStyleModel",
      "state": {
       "description_width": ""
      }
     },
     "d3aed8d305964be1ab7bc18578eeadab": {
      "model_module": "@jupyter-widgets/controls",
      "model_module_version": "2.0.0",
      "model_name": "HTMLModel",
      "state": {
       "layout": "IPY_MODEL_f6b4fd4899734f0da50d71e846dd7fc3",
       "style": "IPY_MODEL_7e9a5dddf34f4acca6d9221f999f6f9a",
       "value": " 10/10 [00:47&lt;00:00,  4.73s/it]"
      }
     },
     "d3d4abf6e6ef4d6aa98f33982623cb58": {
      "model_module": "@jupyter-widgets/controls",
      "model_module_version": "2.0.0",
      "model_name": "HTMLModel",
      "state": {
       "layout": "IPY_MODEL_c369d1fc646b498493836bdcb193a622",
       "style": "IPY_MODEL_752122f138044037af32308f6b43828d",
       "value": "100%"
      }
     },
     "d434b75073724935a22f94ce1b6795ff": {
      "model_module": "@jupyter-widgets/base",
      "model_module_version": "2.0.0",
      "model_name": "LayoutModel",
      "state": {}
     },
     "d4adaa18891b49b1a0e764bd611819c4": {
      "model_module": "@jupyter-widgets/controls",
      "model_module_version": "2.0.0",
      "model_name": "HTMLModel",
      "state": {
       "layout": "IPY_MODEL_04f8e30c00a748d8953d3d51dfdde6d1",
       "style": "IPY_MODEL_5f0208c4bc8e4a2799af983b1b512db7",
       "value": " 10/10 [00:32&lt;00:00,  3.45s/it]"
      }
     },
     "d4c38c6d8844452c8f1df5e62ea70606": {
      "model_module": "@jupyter-widgets/base",
      "model_module_version": "2.0.0",
      "model_name": "LayoutModel",
      "state": {}
     },
     "d4da45036fbf4bd28416532be170ba5d": {
      "model_module": "@jupyter-widgets/controls",
      "model_module_version": "2.0.0",
      "model_name": "HBoxModel",
      "state": {
       "children": [
        "IPY_MODEL_8c3ff9df78474a3e8162c6bee65d944e",
        "IPY_MODEL_e8da763269ea497189c52127fc300322",
        "IPY_MODEL_443331bc2fb94733a9377c9948819533"
       ],
       "layout": "IPY_MODEL_5f19478c23c54badb3893a3c5dbda9f1"
      }
     },
     "d4ed1456dcc54f5793e32c21fbcac399": {
      "model_module": "@jupyter-widgets/base",
      "model_module_version": "2.0.0",
      "model_name": "LayoutModel",
      "state": {}
     },
     "d54d307f7522476f813aed4d0fe9766c": {
      "model_module": "@jupyter-widgets/base",
      "model_module_version": "2.0.0",
      "model_name": "LayoutModel",
      "state": {}
     },
     "d6363d65f413443e94ddd3e878146ec1": {
      "model_module": "@jupyter-widgets/controls",
      "model_module_version": "2.0.0",
      "model_name": "HTMLModel",
      "state": {
       "layout": "IPY_MODEL_4a69b3c1f5bc4d3491b1b9a91083ebfc",
       "style": "IPY_MODEL_bbdce6ca346e4327ab6c757793fd00e4",
       "value": " 10/10 [00:40&lt;00:00,  4.24s/it]"
      }
     },
     "d7fb5d62420f41af832d1e88b7b9bdd3": {
      "model_module": "@jupyter-widgets/controls",
      "model_module_version": "2.0.0",
      "model_name": "HTMLStyleModel",
      "state": {
       "description_width": "",
       "font_size": null,
       "text_color": null
      }
     },
     "d82fb70a112c4a188e2f27d14bae79ca": {
      "model_module": "@jupyter-widgets/base",
      "model_module_version": "2.0.0",
      "model_name": "LayoutModel",
      "state": {}
     },
     "d8353729bf274296aa0edd006b7ec1b7": {
      "model_module": "@jupyter-widgets/base",
      "model_module_version": "2.0.0",
      "model_name": "LayoutModel",
      "state": {}
     },
     "d846b5fa09594b41b3aeb3c7e662306e": {
      "model_module": "@jupyter-widgets/controls",
      "model_module_version": "2.0.0",
      "model_name": "FloatProgressModel",
      "state": {
       "bar_style": "success",
       "layout": "IPY_MODEL_277e5be890094f5885059dbc238b0443",
       "max": 10,
       "style": "IPY_MODEL_2df4a8e8b67f45658da53cf4b99c9f8e",
       "value": 10
      }
     },
     "d8494b8d7c9d4bed804e40a04860bf0b": {
      "model_module": "@jupyter-widgets/controls",
      "model_module_version": "2.0.0",
      "model_name": "FloatProgressModel",
      "state": {
       "bar_style": "success",
       "layout": "IPY_MODEL_7ebbb37e134a4438b035e2eb115b0ca7",
       "max": 10,
       "style": "IPY_MODEL_e52ebabb4baf4d29ab131e903bc407b3",
       "value": 10
      }
     },
     "d90911ae560d4e0e8c49aa59b530133c": {
      "model_module": "@jupyter-widgets/controls",
      "model_module_version": "2.0.0",
      "model_name": "HTMLModel",
      "state": {
       "layout": "IPY_MODEL_1edd132d8e1a4a88bbca2e7197f2702d",
       "style": "IPY_MODEL_89d10404eb0a446ba1fa62b5c02f6e1a",
       "value": "100%"
      }
     },
     "d958e39fcc1a4314a4a99e421fb2a317": {
      "model_module": "@jupyter-widgets/controls",
      "model_module_version": "2.0.0",
      "model_name": "HTMLModel",
      "state": {
       "layout": "IPY_MODEL_5c8764f8d1cf4ef4abfc5c18a2259984",
       "style": "IPY_MODEL_15b8f1e198194f148bb6ee276587ab73",
       "value": "100%"
      }
     },
     "d98a901295994f28b01dc8475dec0c2c": {
      "model_module": "@jupyter-widgets/base",
      "model_module_version": "2.0.0",
      "model_name": "LayoutModel",
      "state": {}
     },
     "d9dc441f49f04ca0abb91ca8fe031cc1": {
      "model_module": "@jupyter-widgets/base",
      "model_module_version": "2.0.0",
      "model_name": "LayoutModel",
      "state": {}
     },
     "da3ebc4924024d1bb0b8008ddcc6478c": {
      "model_module": "@jupyter-widgets/base",
      "model_module_version": "2.0.0",
      "model_name": "LayoutModel",
      "state": {}
     },
     "daf4205278fb43098b58f4b20b193f98": {
      "model_module": "@jupyter-widgets/controls",
      "model_module_version": "2.0.0",
      "model_name": "HBoxModel",
      "state": {
       "children": [
        "IPY_MODEL_119e4b4b663d4a22b57260d2ca593f3d",
        "IPY_MODEL_f3c192249b72439daa5d61e07edbbd6c",
        "IPY_MODEL_d6363d65f413443e94ddd3e878146ec1"
       ],
       "layout": "IPY_MODEL_702fa1533f5b4a5da7476635ec5585ab"
      }
     },
     "dce147001fc24f9a94ffc2f36fe12f7c": {
      "model_module": "@jupyter-widgets/controls",
      "model_module_version": "2.0.0",
      "model_name": "HTMLModel",
      "state": {
       "layout": "IPY_MODEL_348d5a06b2fd41e2af6dde97ccc91e49",
       "style": "IPY_MODEL_a9d3d442a9454edda28b4466d9a1f327",
       "value": " 10/10 [00:48&lt;00:00,  4.93s/it]"
      }
     },
     "dd59844f19694aff9c257e2c46c500fe": {
      "model_module": "@jupyter-widgets/controls",
      "model_module_version": "2.0.0",
      "model_name": "FloatProgressModel",
      "state": {
       "bar_style": "success",
       "layout": "IPY_MODEL_b042fc36977f425eba4f79b2e6af69b4",
       "max": 10,
       "style": "IPY_MODEL_240f9ae387be4c37a91a62ffbdb3c3ff",
       "value": 10
      }
     },
     "ddb65bdf255d4d45a3e0c5a327572b10": {
      "model_module": "@jupyter-widgets/base",
      "model_module_version": "2.0.0",
      "model_name": "LayoutModel",
      "state": {}
     },
     "de2da2bf2e544489b982471ecaa925f6": {
      "model_module": "@jupyter-widgets/base",
      "model_module_version": "2.0.0",
      "model_name": "LayoutModel",
      "state": {}
     },
     "df666e57cffb449bbe108028c8f1d67e": {
      "model_module": "@jupyter-widgets/controls",
      "model_module_version": "2.0.0",
      "model_name": "HTMLStyleModel",
      "state": {
       "description_width": "",
       "font_size": null,
       "text_color": null
      }
     },
     "df97523f2e8f482299ac56f74edc3981": {
      "model_module": "@jupyter-widgets/controls",
      "model_module_version": "2.0.0",
      "model_name": "HTMLModel",
      "state": {
       "layout": "IPY_MODEL_8b09e99893374fd38521e9a46e9c0235",
       "style": "IPY_MODEL_8cece0a29a6646769922101db32fcd1e",
       "value": "100%"
      }
     },
     "e015151446be4ad5806b77adafe979a2": {
      "model_module": "@jupyter-widgets/controls",
      "model_module_version": "2.0.0",
      "model_name": "HTMLModel",
      "state": {
       "layout": "IPY_MODEL_07663eb20cd8487fba4e0f8e59b74343",
       "style": "IPY_MODEL_005ae0998bd34496814a99d31c39a584",
       "value": "100%"
      }
     },
     "e0439f2b8bc64b889e559be63e055378": {
      "model_module": "@jupyter-widgets/controls",
      "model_module_version": "2.0.0",
      "model_name": "HBoxModel",
      "state": {
       "children": [
        "IPY_MODEL_0fc488730a5f4e7e8b104f18865c5bbe",
        "IPY_MODEL_7b1b17710f0a46f6a99dc511a970df58",
        "IPY_MODEL_4f220210a7f646428d2ed007633d2713"
       ],
       "layout": "IPY_MODEL_c58af83bcad64a48b18d67a23b856e11"
      }
     },
     "e13d5dad9a7845d5866091582daff776": {
      "model_module": "@jupyter-widgets/controls",
      "model_module_version": "2.0.0",
      "model_name": "ProgressStyleModel",
      "state": {
       "description_width": ""
      }
     },
     "e15931dcac8c4728a332bd7bb5ddefa6": {
      "model_module": "@jupyter-widgets/controls",
      "model_module_version": "2.0.0",
      "model_name": "FloatProgressModel",
      "state": {
       "bar_style": "success",
       "layout": "IPY_MODEL_e32d4a01416342db9d91f10be3161188",
       "max": 10,
       "style": "IPY_MODEL_56546afe51044e5e96fba8a8b2e9551a",
       "value": 10
      }
     },
     "e305c78939584314a3977dc7317b5007": {
      "model_module": "@jupyter-widgets/base",
      "model_module_version": "2.0.0",
      "model_name": "LayoutModel",
      "state": {}
     },
     "e31c06f7af5e41a1b0ed23617ac014e7": {
      "model_module": "@jupyter-widgets/controls",
      "model_module_version": "2.0.0",
      "model_name": "HBoxModel",
      "state": {
       "children": [
        "IPY_MODEL_669b004cb1264fa4ab6ea853e3c95f08",
        "IPY_MODEL_c469b3f9475a48b195b3a75131164834",
        "IPY_MODEL_88bed19573a24e7d9e9595bcc19bbc81"
       ],
       "layout": "IPY_MODEL_87cd54e20bd2466f88652d788966e153"
      }
     },
     "e32d4a01416342db9d91f10be3161188": {
      "model_module": "@jupyter-widgets/base",
      "model_module_version": "2.0.0",
      "model_name": "LayoutModel",
      "state": {}
     },
     "e37d6ea1664b40a6a4e2ef43f9cb5ed8": {
      "model_module": "@jupyter-widgets/base",
      "model_module_version": "2.0.0",
      "model_name": "LayoutModel",
      "state": {}
     },
     "e4b0aa5c7f4b4c569030f2c31ef5f461": {
      "model_module": "@jupyter-widgets/base",
      "model_module_version": "2.0.0",
      "model_name": "LayoutModel",
      "state": {}
     },
     "e4c1f3c38a4a4b67bc30f0d0859daa12": {
      "model_module": "@jupyter-widgets/controls",
      "model_module_version": "2.0.0",
      "model_name": "FloatProgressModel",
      "state": {
       "bar_style": "success",
       "layout": "IPY_MODEL_47eb2966666140d4b5dee9e6ff4b8531",
       "max": 10,
       "style": "IPY_MODEL_3f83779c00934a8493b80e25d916b797",
       "value": 10
      }
     },
     "e52ebabb4baf4d29ab131e903bc407b3": {
      "model_module": "@jupyter-widgets/controls",
      "model_module_version": "2.0.0",
      "model_name": "ProgressStyleModel",
      "state": {
       "description_width": ""
      }
     },
     "e56fbf17db644d88bf1a5d705d7be6cd": {
      "model_module": "@jupyter-widgets/base",
      "model_module_version": "2.0.0",
      "model_name": "LayoutModel",
      "state": {}
     },
     "e57ea514c1944b3d95fad650f0bc7f4f": {
      "model_module": "@jupyter-widgets/controls",
      "model_module_version": "2.0.0",
      "model_name": "HBoxModel",
      "state": {
       "children": [
        "IPY_MODEL_c644ea6898bf4830814453e8654997b1",
        "IPY_MODEL_034811ecda3546d184c9707672441539",
        "IPY_MODEL_8a236ef2a0d84c8384832df3603e09c5"
       ],
       "layout": "IPY_MODEL_4692fa1820604e23bb843f9702e01a98"
      }
     },
     "e581e33f907a4a53a9377b3bdd7db595": {
      "model_module": "@jupyter-widgets/controls",
      "model_module_version": "2.0.0",
      "model_name": "ProgressStyleModel",
      "state": {
       "description_width": ""
      }
     },
     "e5c148b541a04a77ae5f1a2ec1e980fe": {
      "model_module": "@jupyter-widgets/controls",
      "model_module_version": "2.0.0",
      "model_name": "HBoxModel",
      "state": {
       "children": [
        "IPY_MODEL_ea3333184bb34e1ca5d778c33cfd81ff",
        "IPY_MODEL_80f73baa8f0241f294c95e5437dcd4e9",
        "IPY_MODEL_c6727d19b54a49b18a1e148e60585d89"
       ],
       "layout": "IPY_MODEL_036ff6ed4b0f4903b415289f118e764e"
      }
     },
     "e69a844f5c0843dda47bba47e0cadaf7": {
      "model_module": "@jupyter-widgets/base",
      "model_module_version": "2.0.0",
      "model_name": "LayoutModel",
      "state": {}
     },
     "e6bec122454f40c3a29ad2ac8117e0e7": {
      "model_module": "@jupyter-widgets/base",
      "model_module_version": "2.0.0",
      "model_name": "LayoutModel",
      "state": {}
     },
     "e706727493584e6b901ee6577ab41671": {
      "model_module": "@jupyter-widgets/base",
      "model_module_version": "2.0.0",
      "model_name": "LayoutModel",
      "state": {}
     },
     "e77a72681d0249b9909d55e12f3d35e4": {
      "model_module": "@jupyter-widgets/controls",
      "model_module_version": "2.0.0",
      "model_name": "HBoxModel",
      "state": {
       "children": [
        "IPY_MODEL_ed4b107c541c435baae1cbec930a2096",
        "IPY_MODEL_0e52d16b7de042b4ab8af2b693367295",
        "IPY_MODEL_082bc530f4b845eaa23b3ee7a071fd0f"
       ],
       "layout": "IPY_MODEL_00a70bf6cbd54f8ead3dda86e90fc3cd"
      }
     },
     "e7bda67279f544498ffd29f4ef83269d": {
      "model_module": "@jupyter-widgets/controls",
      "model_module_version": "2.0.0",
      "model_name": "FloatProgressModel",
      "state": {
       "bar_style": "success",
       "layout": "IPY_MODEL_1e1af3f0eea44748b01b07e71160fcde",
       "max": 10,
       "style": "IPY_MODEL_bfc8d49f3501490c89149f09aff4a46c",
       "value": 10
      }
     },
     "e85084c39bcf492eb59f1f5a1dbc0bb9": {
      "model_module": "@jupyter-widgets/base",
      "model_module_version": "2.0.0",
      "model_name": "LayoutModel",
      "state": {}
     },
     "e8da763269ea497189c52127fc300322": {
      "model_module": "@jupyter-widgets/controls",
      "model_module_version": "2.0.0",
      "model_name": "FloatProgressModel",
      "state": {
       "bar_style": "danger",
       "layout": "IPY_MODEL_40f1065c8da04c599a2ed01848dfebef",
       "max": 10,
       "style": "IPY_MODEL_b197a79b74c149b8a3b7aabe154e6ca5"
      }
     },
     "e93f393e18f742b89dac5e15e5b414d0": {
      "model_module": "@jupyter-widgets/controls",
      "model_module_version": "2.0.0",
      "model_name": "HTMLStyleModel",
      "state": {
       "description_width": "",
       "font_size": null,
       "text_color": null
      }
     },
     "e9cd7747e7e043e796587d1091d41f4c": {
      "model_module": "@jupyter-widgets/controls",
      "model_module_version": "2.0.0",
      "model_name": "HTMLStyleModel",
      "state": {
       "description_width": "",
       "font_size": null,
       "text_color": null
      }
     },
     "e9f0c952646743e08071199eca4a00f1": {
      "model_module": "@jupyter-widgets/base",
      "model_module_version": "2.0.0",
      "model_name": "LayoutModel",
      "state": {}
     },
     "ea1200cbc0b94677a5f20b03a324730e": {
      "model_module": "@jupyter-widgets/controls",
      "model_module_version": "2.0.0",
      "model_name": "HTMLStyleModel",
      "state": {
       "description_width": "",
       "font_size": null,
       "text_color": null
      }
     },
     "ea3333184bb34e1ca5d778c33cfd81ff": {
      "model_module": "@jupyter-widgets/controls",
      "model_module_version": "2.0.0",
      "model_name": "HTMLModel",
      "state": {
       "layout": "IPY_MODEL_252428b8f8894531b3a498b077de253e",
       "style": "IPY_MODEL_5a8cf03974f64bdab197cfd6846b02af",
       "value": "100%"
      }
     },
     "eb702bab29de4a268a81ff4c3d61fc32": {
      "model_module": "@jupyter-widgets/controls",
      "model_module_version": "2.0.0",
      "model_name": "HTMLModel",
      "state": {
       "layout": "IPY_MODEL_8c9a87304f68494b87b0e8cac2d0d575",
       "style": "IPY_MODEL_fdf2f2b907224699a6f51125bd885c22",
       "value": " 10/10 [00:31&lt;00:00,  3.17s/it]"
      }
     },
     "ecce16fc4d7347b3a49d9ebce0a66b30": {
      "model_module": "@jupyter-widgets/controls",
      "model_module_version": "2.0.0",
      "model_name": "HTMLStyleModel",
      "state": {
       "description_width": "",
       "font_size": null,
       "text_color": null
      }
     },
     "ed0e19e867fc4a42bbd5d517ca728eb0": {
      "model_module": "@jupyter-widgets/controls",
      "model_module_version": "2.0.0",
      "model_name": "HTMLModel",
      "state": {
       "layout": "IPY_MODEL_1b4b88c155204ba4a9b724c8c92fb349",
       "style": "IPY_MODEL_7097d429c3e6415f8ed768684e9a5d18",
       "value": "100%"
      }
     },
     "ed4b107c541c435baae1cbec930a2096": {
      "model_module": "@jupyter-widgets/controls",
      "model_module_version": "2.0.0",
      "model_name": "HTMLModel",
      "state": {
       "layout": "IPY_MODEL_aeee8ca2e921455088de114f38ee2a12",
       "style": "IPY_MODEL_c6f053da21fa490196517378b3554535",
       "value": "100%"
      }
     },
     "ed9dfd2e8e0b41999d5c1b37fc9aca91": {
      "model_module": "@jupyter-widgets/base",
      "model_module_version": "2.0.0",
      "model_name": "LayoutModel",
      "state": {}
     },
     "ed9f2fa52120449e86cc502679b3eb78": {
      "model_module": "@jupyter-widgets/base",
      "model_module_version": "2.0.0",
      "model_name": "LayoutModel",
      "state": {}
     },
     "ee35165db32d4c099a55279587561d85": {
      "model_module": "@jupyter-widgets/controls",
      "model_module_version": "2.0.0",
      "model_name": "HTMLStyleModel",
      "state": {
       "description_width": "",
       "font_size": null,
       "text_color": null
      }
     },
     "eed55af1634c4560bde875dc32ac58f0": {
      "model_module": "@jupyter-widgets/controls",
      "model_module_version": "2.0.0",
      "model_name": "HTMLModel",
      "state": {
       "layout": "IPY_MODEL_9bbb20e458ca467faddae73157b5f3a2",
       "style": "IPY_MODEL_b76c5049c38f44e4bcbebc8854ad7c8b",
       "value": "  0%"
      }
     },
     "eef4fd465c8e4b9da9c880f0a42203b9": {
      "model_module": "@jupyter-widgets/controls",
      "model_module_version": "2.0.0",
      "model_name": "HTMLStyleModel",
      "state": {
       "description_width": "",
       "font_size": null,
       "text_color": null
      }
     },
     "ef11eaf05f51467b8f59a9114ac76583": {
      "model_module": "@jupyter-widgets/controls",
      "model_module_version": "2.0.0",
      "model_name": "ProgressStyleModel",
      "state": {
       "description_width": ""
      }
     },
     "ef7f4bcf989f44d6b5026cfd53238b5d": {
      "model_module": "@jupyter-widgets/base",
      "model_module_version": "2.0.0",
      "model_name": "LayoutModel",
      "state": {}
     },
     "f211e4993c4b4fb8b5b32cd6553e19be": {
      "model_module": "@jupyter-widgets/controls",
      "model_module_version": "2.0.0",
      "model_name": "FloatProgressModel",
      "state": {
       "bar_style": "success",
       "layout": "IPY_MODEL_21a1d6af4b15433fb1d2c582cfb9d439",
       "max": 10,
       "style": "IPY_MODEL_59b44c418c3042529b5eb054fdb92ddf",
       "value": 10
      }
     },
     "f255415078cb43ae80ea8d787eaa1a52": {
      "model_module": "@jupyter-widgets/controls",
      "model_module_version": "2.0.0",
      "model_name": "ProgressStyleModel",
      "state": {
       "description_width": ""
      }
     },
     "f2a171bf299642ffbcf2dbcfb876a3b8": {
      "model_module": "@jupyter-widgets/controls",
      "model_module_version": "2.0.0",
      "model_name": "HTMLStyleModel",
      "state": {
       "description_width": "",
       "font_size": null,
       "text_color": null
      }
     },
     "f2da0fd9b8c34a99803d4fd4954e4d23": {
      "model_module": "@jupyter-widgets/controls",
      "model_module_version": "2.0.0",
      "model_name": "HTMLModel",
      "state": {
       "layout": "IPY_MODEL_c3056c2ea28044a7a85d237fed01b1ca",
       "style": "IPY_MODEL_344a56fda6ce48c68da3f6c9816ae068",
       "value": "100%"
      }
     },
     "f2e93e493b6c487fb83a558ae52c0a6a": {
      "model_module": "@jupyter-widgets/controls",
      "model_module_version": "2.0.0",
      "model_name": "HTMLStyleModel",
      "state": {
       "description_width": "",
       "font_size": null,
       "text_color": null
      }
     },
     "f3c192249b72439daa5d61e07edbbd6c": {
      "model_module": "@jupyter-widgets/controls",
      "model_module_version": "2.0.0",
      "model_name": "FloatProgressModel",
      "state": {
       "bar_style": "success",
       "layout": "IPY_MODEL_2575eb667a014bef8f7d2236c9b21927",
       "max": 10,
       "style": "IPY_MODEL_d0f22a22ca11428088354f274007cf0f",
       "value": 10
      }
     },
     "f3e491c8e8544db0ab32ae33145846e0": {
      "model_module": "@jupyter-widgets/controls",
      "model_module_version": "2.0.0",
      "model_name": "HTMLModel",
      "state": {
       "layout": "IPY_MODEL_832ceb439c2446b59b937e7b934d7438",
       "style": "IPY_MODEL_1ac6d85d34154bd7a99d69b234cd9f50",
       "value": " 10/10 [00:48&lt;00:00,  4.76s/it]"
      }
     },
     "f4c29a003df24e1499844cf5375a1465": {
      "model_module": "@jupyter-widgets/controls",
      "model_module_version": "2.0.0",
      "model_name": "HTMLModel",
      "state": {
       "layout": "IPY_MODEL_5905685ffc6c490d9fc31cf6197306e6",
       "style": "IPY_MODEL_212263675a7e44c894b709e39f912a0e",
       "value": " 10/10 [00:44&lt;00:00,  4.24s/it]"
      }
     },
     "f4fba5d3fd404c0482651077e7bfd25d": {
      "model_module": "@jupyter-widgets/controls",
      "model_module_version": "2.0.0",
      "model_name": "HBoxModel",
      "state": {
       "children": [
        "IPY_MODEL_a6dd52bd1eff48b283777783274391f1",
        "IPY_MODEL_848d59a612c548e7a36bc75b4d50825d",
        "IPY_MODEL_c9b1d199800f49de86dbea967c4fe8f3"
       ],
       "layout": "IPY_MODEL_26cb0ddc238148f0981d9b6ee3a30383"
      }
     },
     "f5b0a5b24c4c4887a1a4f351968e8731": {
      "model_module": "@jupyter-widgets/controls",
      "model_module_version": "2.0.0",
      "model_name": "ProgressStyleModel",
      "state": {
       "description_width": ""
      }
     },
     "f6443a8674b64a47ae5d970d48c3527c": {
      "model_module": "@jupyter-widgets/controls",
      "model_module_version": "2.0.0",
      "model_name": "HBoxModel",
      "state": {
       "children": [
        "IPY_MODEL_ae7ca24833f0404baebcd1eccbe06f8e",
        "IPY_MODEL_e15931dcac8c4728a332bd7bb5ddefa6",
        "IPY_MODEL_cae25b795b2a4e16a06893707df5a024"
       ],
       "layout": "IPY_MODEL_da3ebc4924024d1bb0b8008ddcc6478c"
      }
     },
     "f6b4fd4899734f0da50d71e846dd7fc3": {
      "model_module": "@jupyter-widgets/base",
      "model_module_version": "2.0.0",
      "model_name": "LayoutModel",
      "state": {}
     },
     "f6f5af02e19549ecaf44b13872c2f4d1": {
      "model_module": "@jupyter-widgets/controls",
      "model_module_version": "2.0.0",
      "model_name": "HTMLStyleModel",
      "state": {
       "description_width": "",
       "font_size": null,
       "text_color": null
      }
     },
     "f74075dadf734e26ba42eed2089400d5": {
      "model_module": "@jupyter-widgets/controls",
      "model_module_version": "2.0.0",
      "model_name": "HTMLModel",
      "state": {
       "layout": "IPY_MODEL_d434b75073724935a22f94ce1b6795ff",
       "style": "IPY_MODEL_f2e93e493b6c487fb83a558ae52c0a6a",
       "value": " 10/10 [00:50&lt;00:00,  4.83s/it]"
      }
     },
     "f7ad1ba41f9241fca80c57dde1c58407": {
      "model_module": "@jupyter-widgets/controls",
      "model_module_version": "2.0.0",
      "model_name": "HTMLStyleModel",
      "state": {
       "description_width": "",
       "font_size": null,
       "text_color": null
      }
     },
     "f8815ec3cd934af0997e2830cde7b05a": {
      "model_module": "@jupyter-widgets/base",
      "model_module_version": "2.0.0",
      "model_name": "LayoutModel",
      "state": {}
     },
     "f885a407acea40e980c808ade003f0e7": {
      "model_module": "@jupyter-widgets/controls",
      "model_module_version": "2.0.0",
      "model_name": "HTMLStyleModel",
      "state": {
       "description_width": "",
       "font_size": null,
       "text_color": null
      }
     },
     "f9a8cf0337d54855b4e5553cff0df1ce": {
      "model_module": "@jupyter-widgets/controls",
      "model_module_version": "2.0.0",
      "model_name": "HTMLModel",
      "state": {
       "layout": "IPY_MODEL_2ede31aa273f4b0395254b4c2c64d4e8",
       "style": "IPY_MODEL_0f79c056b7284c40aa5a046654e8de1f",
       "value": " 10/10 [00:56&lt;00:00,  5.55s/it]"
      }
     },
     "f9bb53e4567245308f060a59fdcf60b3": {
      "model_module": "@jupyter-widgets/base",
      "model_module_version": "2.0.0",
      "model_name": "LayoutModel",
      "state": {}
     },
     "f9f47a1056334f418d06669b16b7042a": {
      "model_module": "@jupyter-widgets/base",
      "model_module_version": "2.0.0",
      "model_name": "LayoutModel",
      "state": {}
     },
     "fa930546b14745cea9f1e0017ffebbdc": {
      "model_module": "@jupyter-widgets/controls",
      "model_module_version": "2.0.0",
      "model_name": "HBoxModel",
      "state": {
       "children": [
        "IPY_MODEL_4d5e14fd3da94c50a05e0b7abeb9a763",
        "IPY_MODEL_1d653af93c5b44579f734b5abe7ac79f",
        "IPY_MODEL_9f689ee7c6414116a0029cffe508bce8"
       ],
       "layout": "IPY_MODEL_25d8c5c1c05544cf80defa9ac4af1ff3"
      }
     },
     "faa2da3dacb044febb788928cab7aef2": {
      "model_module": "@jupyter-widgets/controls",
      "model_module_version": "2.0.0",
      "model_name": "ProgressStyleModel",
      "state": {
       "description_width": ""
      }
     },
     "fb7a6835bf7f499f9ae9266a4536ed05": {
      "model_module": "@jupyter-widgets/controls",
      "model_module_version": "2.0.0",
      "model_name": "FloatProgressModel",
      "state": {
       "bar_style": "success",
       "layout": "IPY_MODEL_65082378c1a9446b866ee805aba9d424",
       "max": 10,
       "style": "IPY_MODEL_d388fdc4f52840718676311fdc53bf4e",
       "value": 10
      }
     },
     "fbdf2d02c0924e33833dd26da5f4b90a": {
      "model_module": "@jupyter-widgets/controls",
      "model_module_version": "2.0.0",
      "model_name": "HTMLStyleModel",
      "state": {
       "description_width": "",
       "font_size": null,
       "text_color": null
      }
     },
     "fc0c7f16f434414f84c1b6b74ca952c9": {
      "model_module": "@jupyter-widgets/controls",
      "model_module_version": "2.0.0",
      "model_name": "FloatProgressModel",
      "state": {
       "bar_style": "success",
       "layout": "IPY_MODEL_ddb65bdf255d4d45a3e0c5a327572b10",
       "max": 10,
       "style": "IPY_MODEL_faa2da3dacb044febb788928cab7aef2",
       "value": 10
      }
     },
     "fc29f2cdcf264946ac28d99cb19415ec": {
      "model_module": "@jupyter-widgets/controls",
      "model_module_version": "2.0.0",
      "model_name": "HTMLModel",
      "state": {
       "layout": "IPY_MODEL_e37d6ea1664b40a6a4e2ef43f9cb5ed8",
       "style": "IPY_MODEL_84b8b86618904f95ad809430b8632412",
       "value": " 10/10 [00:51&lt;00:00,  5.37s/it]"
      }
     },
     "fd2c491f94884486a8376dc7a614a6e2": {
      "model_module": "@jupyter-widgets/base",
      "model_module_version": "2.0.0",
      "model_name": "LayoutModel",
      "state": {}
     },
     "fdacd00fb74947339ceeaaa0e1763a8f": {
      "model_module": "@jupyter-widgets/controls",
      "model_module_version": "2.0.0",
      "model_name": "HTMLStyleModel",
      "state": {
       "description_width": "",
       "font_size": null,
       "text_color": null
      }
     },
     "fdc78cc3afa44862b4e4d5d1c4a3a547": {
      "model_module": "@jupyter-widgets/controls",
      "model_module_version": "2.0.0",
      "model_name": "HTMLStyleModel",
      "state": {
       "description_width": "",
       "font_size": null,
       "text_color": null
      }
     },
     "fdf2f2b907224699a6f51125bd885c22": {
      "model_module": "@jupyter-widgets/controls",
      "model_module_version": "2.0.0",
      "model_name": "HTMLStyleModel",
      "state": {
       "description_width": "",
       "font_size": null,
       "text_color": null
      }
     },
     "fdf56efd3182406fa1ee2026a5263cdc": {
      "model_module": "@jupyter-widgets/controls",
      "model_module_version": "2.0.0",
      "model_name": "HBoxModel",
      "state": {
       "children": [
        "IPY_MODEL_2a10b9c055fe4347ac055eec8b18c7be",
        "IPY_MODEL_32f100cc1f9f48589f6387bba39d5978",
        "IPY_MODEL_978ec3e72f804d1087b3681e1e09956d"
       ],
       "layout": "IPY_MODEL_13dbb44467ee472ab9457e9280a90c0b"
      }
     },
     "feefacbe82c64105ba8ad3d0931a67d4": {
      "model_module": "@jupyter-widgets/controls",
      "model_module_version": "2.0.0",
      "model_name": "FloatProgressModel",
      "state": {
       "bar_style": "success",
       "layout": "IPY_MODEL_c6275a95bbbf44608f409959796d9647",
       "max": 10,
       "style": "IPY_MODEL_f255415078cb43ae80ea8d787eaa1a52",
       "value": 10
      }
     }
    },
    "version_major": 2,
    "version_minor": 0
   }
  }
 },
 "nbformat": 4,
 "nbformat_minor": 5
}
