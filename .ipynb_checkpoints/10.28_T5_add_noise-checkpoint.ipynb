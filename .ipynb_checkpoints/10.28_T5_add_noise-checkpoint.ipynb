{
 "cells": [
  {
   "cell_type": "code",
   "execution_count": 1,
   "id": "6d66fa92-7692-4f0e-a3f9-b199d04c6bf5",
   "metadata": {},
   "outputs": [
    {
     "name": "stderr",
     "output_type": "stream",
     "text": [
      "You are using the default legacy behaviour of the <class 'transformers.models.t5.tokenization_t5.T5Tokenizer'>. This is expected, and simply means that the `legacy` (previous) behavior will be used so nothing changes for you. If you want to use the new behaviour, set `legacy=False`. This should only be set if you understand what it means, and thoroughly read the reason why this was added as explained in https://github.com/huggingface/transformers/pull/24565\n"
     ]
    },
    {
     "data": {
      "application/vnd.jupyter.widget-view+json": {
       "model_id": "50f9970ae5a94553b423511f15cd8193",
       "version_major": 2,
       "version_minor": 0
      },
      "text/plain": [
       "Loading checkpoint shards:   0%|          | 0/2 [00:00<?, ?it/s]"
      ]
     },
     "metadata": {},
     "output_type": "display_data"
    }
   ],
   "source": [
    "from transformers import T5Tokenizer, T5ForConditionalGeneration\n",
    "from transformers.modeling_outputs import BaseModelOutput\n",
    "import torch\n",
    "from IPython.display import display, HTML\n",
    "\n",
    "# Device setup\n",
    "device = torch.device(\"cuda\" if torch.cuda.is_available() else \"cpu\")\n",
    "device = torch.device(\"cpu\")\n",
    "\n",
    "# Load model and tokenizer\n",
    "model_name = \"google/flan-t5-xl\"\n",
    "tokenizer = T5Tokenizer.from_pretrained(model_name)\n",
    "model = T5ForConditionalGeneration.from_pretrained(model_name).to(device)"
   ]
  },
  {
   "cell_type": "code",
   "execution_count": 2,
   "id": "85d6f027-01ce-4bf0-be7a-b44aeb7a238e",
   "metadata": {},
   "outputs": [],
   "source": [
    "def add_noise_with_snr(encoder_output, target_snr_db):\n",
    "    \"\"\"\n",
    "    Add noise to the encoder output based on a target SNR in dB.\n",
    "    \n",
    "    Parameters:\n",
    "    - encoder_output: torch.Tensor, the encoder's output (last_hidden_state).\n",
    "    - target_snr_db: float, the desired signal-to-noise ratio in dB.\n",
    "    \n",
    "    Returns:\n",
    "    - noisy_encoder_output: torch.Tensor, encoder output with added noise.\n",
    "    \"\"\"\n",
    "    # Convert SNR from dB to linear scale\n",
    "    target_snr_linear = 10 ** (target_snr_db / 10)\n",
    "    \n",
    "    # Calculate power of the signal\n",
    "    signal_power = torch.mean(encoder_output ** 2)\n",
    "    \n",
    "    # Calculate required noise power for the target SNR\n",
    "    noise_power = signal_power / target_snr_linear\n",
    "    noise = torch.randn_like(encoder_output) * torch.sqrt(noise_power)\n",
    "    \n",
    "    # Add noise to the encoder output\n",
    "    noisy_encoder_output = encoder_output + noise\n",
    "    return noisy_encoder_output\n"
   ]
  },
  {
   "cell_type": "code",
   "execution_count": 3,
   "id": "bf1ae27e-9f6e-45b3-b69d-401971edf681",
   "metadata": {},
   "outputs": [],
   "source": [
    "# Define input text and encode\n",
    "# input_text = \"Who is Donald Trump?\"\n",
    "input_text = \"\"\"\n",
    "Summarize the text: In telecommunications, orthogonal frequency-division multiplexing (OFDM) \n",
    "is a type of digital transmission used in digital modulation for encoding digital (binary) data\n",
    "on multiple carrier frequencies. OFDM has developed into a popular scheme for wideband digital \n",
    "communication, used in applications such as digital television and audio broadcasting, DSL internet \n",
    "access, wireless networks, power line networks, and 4G/5G mobile communications.\n",
    "\"\"\".replace(\"\\n\", \"\")\n",
    "# input_text = \"Tranlate from English to Deutsche: How are you?\"\n",
    "# input_text = \"Tranlate English to Deutsche: My name is Ziyue and I live in Sweden.\"\n",
    "# input_text = \"Translate English to Deutsche: Where is the nearest train station?\"\n",
    "# input_text = \"Translate English to Deutsche: I would like to order a coffee, please.\"\n",
    "# input_text = \"Translate English to Deutsche: Can you help me find my hotel?\"\n",
    "# input_text = \"Translate English to Deutsche: What time does the museum open?\"\n",
    "# input_text = \"Translate English to Deutsche: How much does this ticket cost?\"\n",
    "# input_text = \"Translate English to Deutsche: Do you speak English?\"\n",
    "# input_text = \"Translate English to Deutsche: My favorite color is blue.\"\n",
    "# input_text = \"Translate English to Deutsche: I am a student learning German.\"\n",
    "# input_text = \"\"\"Translate English to Deutsche: In telecommunications, orthogonal frequency-division multiplexing (OFDM) \n",
    "# is a type of digital transmission used in digital modulation for encoding digital (binary) data\n",
    "# on multiple carrier frequencies. OFDM has developed into a popular scheme for wideband digital \n",
    "# communication, used in applications such as digital television and audio broadcasting, DSL internet \n",
    "# access, wireless networks, power line networks, and 4G/5G mobile communications.\"\"\"\n",
    "# input_text = \"Translate English to Deutsche: I enjoy listening to classical music.\"\n",
    "# input_text = \"Translate English to Deutsche: I would like to check in to my room.\"\n",
    "# input_text = \"Translate English to Deutsche: The weather today is sunny and warm.\"\n",
    "# input_text = \"Translate English to Deutsche: I need to buy a ticket to Munich.\"\n",
    "# input_text = \"Translate English to Deutsche: Could you recommend a good restaurant nearby?\"\n",
    "# input_text = \"Translate English to Deutsche: I will stay here for a week.\"\n",
    "# input_text = \"Translate Deutsche to English: Wo ist das nächste Restaurant?\"\n",
    "# input_text = \"Translate Deutsche to English: Ich bin hier im Urlaub.\"\n",
    "# input_text = \"Translate Deutsche to English: Können Sie mir bitte helfen?\"\n",
    "# input_text = \"Translate Deutsche to English: Ich habe meinen Schlüssel verloren.\"\n",
    "# input_text = \"Translate Deutsche to English: Die Landschaft hier ist wunderschön.\"\n",
    "# input_text = \"Translate Deutsche to English: Das Essen hier ist sehr lecker.\"\n",
    "# input_text = \"Translate Deutsche to English: Wie lange dauert die Fahrt?\"\n",
    "# input_text = \"Translate Deutsche to English: Ich möchte gerne ein Zimmer reservieren.\"\n",
    "# input_text = \"Translate Deutsche to English: Ich komme aus Deutschland.\"\n",
    "# input_text = \"Translate Deutsche to English: Das ist mein Freund, er wohnt in Hamburg.\"\n",
    "# input_text = \"Translate Deutsche to English: Welche Sehenswürdigkeiten gibt es hier?\"\n",
    "# input_text = \"Translate Deutsche to English: Ich suche einen Supermarkt in der Nähe.\"\n",
    "# input_text = \"Translate English to French: Can I get directions to the airport?\"\n",
    "# input_text = \"Translate English to French: I am traveling with my family.\"\n",
    "# input_text = \"Translate English to French: I would like to book a table for two.\"\n",
    "# input_text = \"Translate English to French: How far is the beach from here?\"\n",
    "# input_text = \"Translate English to French: I am allergic to peanuts.\"\n",
    "# input_text = \"Translate English to French: Could I have the bill, please?\"\n",
    "# input_text = \"Translate English to French: I am learning French for my studies.\"\n",
    "# input_text = \"Translate English to French: This is a beautiful place to visit.\""
   ]
  },
  {
   "cell_type": "code",
   "execution_count": 5,
   "id": "9034fefd-254f-44cf-87d7-65305084c947",
   "metadata": {},
   "outputs": [
    {
     "data": {
      "text/html": [
       "<p style='font-size:15px;'>Summarize the text: In telecommunications, orthogonal frequency-division multiplexing (OFDM) is a type of digital transmission used in digital modulation for encoding digital (binary) dataon multiple carrier frequencies. OFDM has developed into a popular scheme for wideband digital communication, used in applications such as digital television and audio broadcasting, DSL internet access, wireless networks, power line networks, and 4G/5G mobile communications.</p>"
      ],
      "text/plain": [
       "<IPython.core.display.HTML object>"
      ]
     },
     "metadata": {},
     "output_type": "display_data"
    },
    {
     "name": "stdout",
     "output_type": "stream",
     "text": [
      "Without Noise:\n"
     ]
    },
    {
     "data": {
      "text/html": [
       "<p style='font-size:20px; font-family:\"Comic Sans MS\", cursive;'> Orthogonal frequency-division multiplexing (OFDM) is a type of digital transmission used in digital modulation for encoding digital (binary) dataon multiple carrier frequencies.</p>"
      ],
      "text/plain": [
       "<IPython.core.display.HTML object>"
      ]
     },
     "metadata": {},
     "output_type": "display_data"
    },
    {
     "name": "stdout",
     "output_type": "stream",
     "text": [
      "With Noise (SNR = 1 dB):\n"
     ]
    },
    {
     "data": {
      "text/html": [
       "<p style='font-size:20px; font-family:\"Comic Sans MS\", cursive;'> OFDM is a type of digital transmission used in telecommunications.</p>"
      ],
      "text/plain": [
       "<IPython.core.display.HTML object>"
      ]
     },
     "metadata": {},
     "output_type": "display_data"
    }
   ],
   "source": [
    "input_ids = tokenizer(input_text, return_tensors=\"pt\").input_ids.to(device)\n",
    "\n",
    "# Get encoder output without noise\n",
    "with torch.no_grad():\n",
    "    encoder_outputs = model.encoder(input_ids=input_ids)\n",
    "\n",
    "# Generate output without noise\n",
    "baseline_outputs = model.generate(\n",
    "    input_ids=None,\n",
    "    encoder_outputs=encoder_outputs,\n",
    "    max_length=500,\n",
    "    do_sample=True,\n",
    "    temperature=0.1\n",
    ")\n",
    "baseline_text = tokenizer.decode(baseline_outputs[0], skip_special_tokens=True)\n",
    "\n",
    "# Add noise with a target SNR and generate noisy output\n",
    "target_snr = 1  # Set target SNR\n",
    "noisy_encoder_output = add_noise_with_snr(encoder_outputs.last_hidden_state, target_snr)\n",
    "modified_encoder_outputs = BaseModelOutput(last_hidden_state=noisy_encoder_output)\n",
    "\n",
    "# Generate output with the noisy encoder output\n",
    "noisy_outputs = model.generate(\n",
    "    input_ids=None,\n",
    "    encoder_outputs=modified_encoder_outputs,\n",
    "    max_length=200,\n",
    "    do_sample=True,\n",
    "    temperature=0.1\n",
    ")\n",
    "noisy_text = tokenizer.decode(noisy_outputs[0], skip_special_tokens=True)\n",
    "\n",
    "# Display both outputs\n",
    "display(HTML(f\"<p style='font-size:15px;'>{input_text}</p>\"))\n",
    "print('Without Noise:')\n",
    "display(HTML(f\"<p style='font-size:20px; font-family:\\\"Comic Sans MS\\\", cursive;'> {baseline_text}</p>\"))\n",
    "print(f'With Noise (SNR = {target_snr} dB):')\n",
    "display(HTML(f\"<p style='font-size:20px; font-family:\\\"Comic Sans MS\\\", cursive;'> {noisy_text}</p>\"))"
   ]
  },
  {
   "cell_type": "code",
   "execution_count": 5,
   "id": "f661daaf-5610-413b-a40e-3db65842689b",
   "metadata": {},
   "outputs": [
    {
     "data": {
      "text/plain": [
       "tensor([    0,  9654,   229,  3494,  5717,     7, 13352,    16,  4308,     5,\n",
       "            1], device='cuda:0')"
      ]
     },
     "execution_count": 5,
     "metadata": {},
     "output_type": "execute_result"
    }
   ],
   "source": [
    "baseline_outputs[0]"
   ]
  },
  {
   "cell_type": "code",
   "execution_count": 8,
   "id": "f0a6bace-33b9-487c-a79c-ba01ef070017",
   "metadata": {},
   "outputs": [
    {
     "data": {
      "text/plain": [
       "tensor([[30355,    15,  1566,    12, 15024,    10,   100,    19,    82,   166,\n",
       "            97,  3644,  4308,     5,     1]], device='cuda:0')"
      ]
     },
     "execution_count": 8,
     "metadata": {},
     "output_type": "execute_result"
    }
   ],
   "source": [
    "input_ids"
   ]
  },
  {
   "cell_type": "code",
   "execution_count": 7,
   "id": "2b7d7309-6eac-4572-aa1a-50ea8a50d5fa",
   "metadata": {},
   "outputs": [
    {
     "data": {
      "text/plain": [
       "tensor([[ 9654,   229,  3494,  5717,     7, 13352,    16,  4308,     5,     1]])"
      ]
     },
     "execution_count": 7,
     "metadata": {},
     "output_type": "execute_result"
    }
   ],
   "source": [
    "tokenizer(baseline_text, return_tensors=\"pt\", truncation=True, max_length=1024)['input_ids']"
   ]
  },
  {
   "cell_type": "code",
   "execution_count": 21,
   "id": "71816704-619b-4bde-a144-03a2311e8df2",
   "metadata": {},
   "outputs": [
    {
     "name": "stdout",
     "output_type": "stream",
     "text": [
      "BaseModelOutput(last_hidden_state=tensor([[[ 0.0110645378,  0.0446379520, -0.1195041314,  ...,\n",
      "           0.0239841975,  0.0657943934, -0.1541268975],\n",
      "         [ 0.0011646717, -0.0006612060,  0.0024203842,  ...,\n",
      "          -0.0139574334, -0.0003432746, -0.0014761132],\n",
      "         [-0.0300152730, -0.0099295871,  0.0018708719,  ...,\n",
      "           0.0180891100,  0.1408756226, -0.0221240111],\n",
      "         ...,\n",
      "         [-0.0028463011, -0.0528447069,  0.0717518777,  ...,\n",
      "           0.0263906494, -0.1086646691, -0.1568258107],\n",
      "         [ 0.0614422895, -0.0377765149,  0.0980087668,  ...,\n",
      "          -0.0019372494,  0.0795445740, -0.1129229516],\n",
      "         [-0.0311634671,  0.0125041567,  0.0268029757,  ...,\n",
      "           0.0052387128,  0.0760847554, -0.0480498597]]], device='cuda:0'), hidden_states=None, attentions=None)\n"
     ]
    }
   ],
   "source": [
    "torch.set_printoptions(precision=10)\n",
    "print(modified_encoder_outputs)"
   ]
  },
  {
   "cell_type": "code",
   "execution_count": 22,
   "id": "a0ac4706-92b6-4fdd-83fc-e79287d4c99b",
   "metadata": {},
   "outputs": [
    {
     "name": "stdout",
     "output_type": "stream",
     "text": [
      "BaseModelOutputWithPastAndCrossAttentions(last_hidden_state=tensor([[[ 0.0110638738,  0.0446386412, -0.1195035130,  ...,\n",
      "           0.0239830501,  0.0657947734, -0.1541264057],\n",
      "         [ 0.0011641044, -0.0006623128,  0.0024199435,  ...,\n",
      "          -0.0139569221, -0.0003425943, -0.0014757399],\n",
      "         [-0.0300164297, -0.0099294083,  0.0018707113,  ...,\n",
      "           0.0180890486,  0.1408752650, -0.0221240781],\n",
      "         ...,\n",
      "         [-0.0028459774, -0.0528435819,  0.0717529729,  ...,\n",
      "           0.0263907555, -0.1086634919, -0.1568261683],\n",
      "         [ 0.0614417158, -0.0377769396,  0.0980087370,  ...,\n",
      "          -0.0019358803,  0.0795432851, -0.1129235551],\n",
      "         [-0.0311635714,  0.0125043727,  0.0268025026,  ...,\n",
      "           0.0052372129,  0.0760850981, -0.0480505303]]], device='cuda:0'), past_key_values=None, hidden_states=None, attentions=None, cross_attentions=None)\n"
     ]
    }
   ],
   "source": [
    "print(encoder_outputs)"
   ]
  },
  {
   "cell_type": "code",
   "execution_count": 24,
   "id": "c0a53ded-a417-49f2-83ad-8d887dc11e82",
   "metadata": {},
   "outputs": [
    {
     "data": {
      "text/plain": [
       "torch.Size([1, 11])"
      ]
     },
     "execution_count": 24,
     "metadata": {},
     "output_type": "execute_result"
    }
   ],
   "source": []
  },
  {
   "cell_type": "code",
   "execution_count": 101,
   "id": "c9df4e64-96ed-4a1b-a3ee-efdeebae59e1",
   "metadata": {},
   "outputs": [
    {
     "data": {
      "text/plain": [
       "'?'"
      ]
     },
     "execution_count": 101,
     "metadata": {},
     "output_type": "execute_result"
    }
   ],
   "source": [
    "# '58' <=> ?\n",
    "# '0' <=> <start>\n",
    "# '1' <=> <end>\n",
    "a = torch.tensor([[58]])\n",
    "text = tokenizer.decode(a[0], skip_special_tokens=True)\n",
    "text"
   ]
  },
  {
   "cell_type": "code",
   "execution_count": 89,
   "id": "8b375f1f-ac17-4d0e-9e7c-d6dee6d6d92b",
   "metadata": {},
   "outputs": [
    {
     "data": {
      "text/plain": [
       "tensor([    0, 17913, 30979,  7666,     1], device='cuda:0')"
      ]
     },
     "execution_count": 89,
     "metadata": {},
     "output_type": "execute_result"
    }
   ],
   "source": [
    "baseline_outputs[0]"
   ]
  },
  {
   "cell_type": "code",
   "execution_count": 90,
   "id": "3101480a-24a6-4f98-98e0-ab4753589c00",
   "metadata": {},
   "outputs": [
    {
     "data": {
      "text/plain": [
       "tensor([[ 0,  3, 76, 89, 32,  3, 89,  9,  3,  7, 17,  3, 63,  3,  7,  3, 17,  3,\n",
       "          7,  3, 17,  3,  7,  3, 17,  3,  7,  3, 17,  3,  7,  3, 17,  3,  7,  3,\n",
       "         17,  3,  7,  3, 17,  3,  7,  3, 17,  3,  7,  3, 17,  3,  7,  3, 17,  3,\n",
       "          7,  3, 17,  3,  7,  3, 17,  3,  7,  3, 17,  3,  7,  3, 17,  3,  7,  3,\n",
       "         17,  3,  7,  3, 17,  3,  7,  3, 17,  3,  7,  3, 17,  3,  7,  3, 17,  3,\n",
       "          7,  3, 17,  3,  7,  3, 17,  3,  7,  3]], device='cuda:0')"
      ]
     },
     "execution_count": 90,
     "metadata": {},
     "output_type": "execute_result"
    }
   ],
   "source": [
    "noisy_outputs"
   ]
  }
 ],
 "metadata": {
  "kernelspec": {
   "display_name": "Python 3 (ipykernel)",
   "language": "python",
   "name": "python3"
  },
  "language_info": {
   "codemirror_mode": {
    "name": "ipython",
    "version": 3
   },
   "file_extension": ".py",
   "mimetype": "text/x-python",
   "name": "python",
   "nbconvert_exporter": "python",
   "pygments_lexer": "ipython3",
   "version": "3.9.20"
  },
  "widgets": {
   "application/vnd.jupyter.widget-state+json": {
    "state": {
     "0124d2493580460996cf8eb6875f289d": {
      "model_module": "@jupyter-widgets/controls",
      "model_module_version": "2.0.0",
      "model_name": "FloatProgressModel",
      "state": {
       "bar_style": "success",
       "layout": "IPY_MODEL_7dd5f9ff72f040d3981d793eee5b6d19",
       "max": 2,
       "style": "IPY_MODEL_193642d12fbb4a92a67d06c860f23217",
       "value": 2
      }
     },
     "036151d70c2b47689ca02ebdbcc0b86c": {
      "model_module": "@jupyter-widgets/base",
      "model_module_version": "2.0.0",
      "model_name": "LayoutModel",
      "state": {}
     },
     "06263be6f6c149f2bf9fce90a6dfe009": {
      "model_module": "@jupyter-widgets/base",
      "model_module_version": "2.0.0",
      "model_name": "LayoutModel",
      "state": {}
     },
     "06a3773090944797ab326c74b30f7fbf": {
      "model_module": "@jupyter-widgets/base",
      "model_module_version": "2.0.0",
      "model_name": "LayoutModel",
      "state": {}
     },
     "084db706ccd14d68862bb3c451dbf237": {
      "model_module": "@jupyter-widgets/controls",
      "model_module_version": "2.0.0",
      "model_name": "HTMLStyleModel",
      "state": {
       "description_width": "",
       "font_size": null,
       "text_color": null
      }
     },
     "09d7fdca13b947dfb6e692a491cac3e4": {
      "model_module": "@jupyter-widgets/base",
      "model_module_version": "2.0.0",
      "model_name": "LayoutModel",
      "state": {}
     },
     "0e07476380594b8488b91b4d588fc0b6": {
      "model_module": "@jupyter-widgets/controls",
      "model_module_version": "2.0.0",
      "model_name": "FloatProgressModel",
      "state": {
       "bar_style": "success",
       "layout": "IPY_MODEL_06a3773090944797ab326c74b30f7fbf",
       "max": 2539,
       "style": "IPY_MODEL_1853062082704c329a70538fc58c23e0",
       "value": 2539
      }
     },
     "0f7bc40d05b3406691df61dde186b8db": {
      "model_module": "@jupyter-widgets/base",
      "model_module_version": "2.0.0",
      "model_name": "LayoutModel",
      "state": {}
     },
     "10a2a0e5493a4ff99e39d30dd0fcef7f": {
      "model_module": "@jupyter-widgets/controls",
      "model_module_version": "2.0.0",
      "model_name": "HTMLModel",
      "state": {
       "layout": "IPY_MODEL_319051d959bc481fa7c2f32aa26602c1",
       "style": "IPY_MODEL_8ad4e8202344413993564006515c7291",
       "value": " 2.20k/2.20k [00:00&lt;00:00, 367kB/s]"
      }
     },
     "1123e190589d49038924a67d72b1993d": {
      "model_module": "@jupyter-widgets/controls",
      "model_module_version": "2.0.0",
      "model_name": "HTMLModel",
      "state": {
       "layout": "IPY_MODEL_ad43d6e68c994d13a4a05c3cdb365692",
       "style": "IPY_MODEL_7c8b3e3c87464eaa868698ce39962dbb",
       "value": " 792k/792k [00:00&lt;00:00, 21.4MB/s]"
      }
     },
     "113b96296b48474fa3ef6151b9add12e": {
      "model_module": "@jupyter-widgets/controls",
      "model_module_version": "2.0.0",
      "model_name": "HBoxModel",
      "state": {
       "children": [
        "IPY_MODEL_1f755aae1f9f4b7180ad1756b4fc16c5",
        "IPY_MODEL_3e4b46f1abbb41a8b2200c2413c4bd54",
        "IPY_MODEL_efba8cd535184be3988463bce71f14af"
       ],
       "layout": "IPY_MODEL_604f544411804caba686f0c41afdc024"
      }
     },
     "13bd6974014342bcb99721d19802f517": {
      "model_module": "@jupyter-widgets/controls",
      "model_module_version": "2.0.0",
      "model_name": "FloatProgressModel",
      "state": {
       "bar_style": "success",
       "layout": "IPY_MODEL_bedb24beba2e4dec9d0527660ec7b522",
       "max": 2,
       "style": "IPY_MODEL_ba9c118cd8294b11b8b3de3c493329cc",
       "value": 2
      }
     },
     "17883ed4393a48e5b4bbb22a05301e03": {
      "model_module": "@jupyter-widgets/base",
      "model_module_version": "2.0.0",
      "model_name": "LayoutModel",
      "state": {}
     },
     "1853062082704c329a70538fc58c23e0": {
      "model_module": "@jupyter-widgets/controls",
      "model_module_version": "2.0.0",
      "model_name": "ProgressStyleModel",
      "state": {
       "description_width": ""
      }
     },
     "18e556459d5d40ffbf0697f691f58117": {
      "model_module": "@jupyter-widgets/base",
      "model_module_version": "2.0.0",
      "model_name": "LayoutModel",
      "state": {}
     },
     "18ecd524e6924d1b8a7b56a8ac09830e": {
      "model_module": "@jupyter-widgets/controls",
      "model_module_version": "2.0.0",
      "model_name": "ProgressStyleModel",
      "state": {
       "description_width": ""
      }
     },
     "193642d12fbb4a92a67d06c860f23217": {
      "model_module": "@jupyter-widgets/controls",
      "model_module_version": "2.0.0",
      "model_name": "ProgressStyleModel",
      "state": {
       "description_width": ""
      }
     },
     "1b91dd4a8dd242df913d47d7bcca1f1f": {
      "model_module": "@jupyter-widgets/controls",
      "model_module_version": "2.0.0",
      "model_name": "HTMLModel",
      "state": {
       "layout": "IPY_MODEL_de280871759a48398cb39c7ba5197025",
       "style": "IPY_MODEL_3b75b08e7d1a44fb9d1bf7e0591395b3",
       "value": "special_tokens_map.json: 100%"
      }
     },
     "1e1a028f697a409d81b20c641ea99516": {
      "model_module": "@jupyter-widgets/controls",
      "model_module_version": "2.0.0",
      "model_name": "HBoxModel",
      "state": {
       "children": [
        "IPY_MODEL_67a31179fec14f218f79dd60fa050520",
        "IPY_MODEL_f6135fbcd32c40fc9ee9e334ab65265d",
        "IPY_MODEL_c9c0d69f75824076ab6362226473f885"
       ],
       "layout": "IPY_MODEL_766a0d03d7024902a356ee31074fd1d5"
      }
     },
     "1f109f5654594d9cb0f9712497b54c0b": {
      "model_module": "@jupyter-widgets/base",
      "model_module_version": "2.0.0",
      "model_name": "LayoutModel",
      "state": {}
     },
     "1f755aae1f9f4b7180ad1756b4fc16c5": {
      "model_module": "@jupyter-widgets/controls",
      "model_module_version": "2.0.0",
      "model_name": "HTMLModel",
      "state": {
       "layout": "IPY_MODEL_9519ba87787f4ccc91dd36e3f7a0b7d7",
       "style": "IPY_MODEL_35ec38bbe4934a4c827d9df008fc7a02",
       "value": "model.safetensors.index.json: 100%"
      }
     },
     "2094a1e5178342afa7221cd22bb5beae": {
      "model_module": "@jupyter-widgets/controls",
      "model_module_version": "2.0.0",
      "model_name": "HTMLModel",
      "state": {
       "layout": "IPY_MODEL_06263be6f6c149f2bf9fce90a6dfe009",
       "style": "IPY_MODEL_d5eb640f9b3c4702b14cf57e84141f23",
       "value": " 2/2 [00:00&lt;00:00,  7.11it/s]"
      }
     },
     "21484c5e1f654b95a3d7fefc32fc80f5": {
      "model_module": "@jupyter-widgets/controls",
      "model_module_version": "2.0.0",
      "model_name": "HTMLModel",
      "state": {
       "layout": "IPY_MODEL_27a6ae73d1b04c27bc1443d49ea89d86",
       "style": "IPY_MODEL_ced0888897e645fe88026048610791f1",
       "value": "model-00002-of-00002.safetensors: 100%"
      }
     },
     "21526f5ad5ca43eeb16c47da2f21d485": {
      "model_module": "@jupyter-widgets/controls",
      "model_module_version": "2.0.0",
      "model_name": "ProgressStyleModel",
      "state": {
       "description_width": ""
      }
     },
     "27a6ae73d1b04c27bc1443d49ea89d86": {
      "model_module": "@jupyter-widgets/base",
      "model_module_version": "2.0.0",
      "model_name": "LayoutModel",
      "state": {}
     },
     "288ff34c1a064580a1dece49d2077d29": {
      "model_module": "@jupyter-widgets/controls",
      "model_module_version": "2.0.0",
      "model_name": "HTMLModel",
      "state": {
       "layout": "IPY_MODEL_e209b876fe76468aa8230a0c1b7d5d37",
       "style": "IPY_MODEL_ce28f44fda864f18a1c71af169b93864",
       "value": " 9.45G/9.45G [12:16&lt;00:00, 12.9MB/s]"
      }
     },
     "2910ba13b4be4aab887d698dc980d628": {
      "model_module": "@jupyter-widgets/base",
      "model_module_version": "2.0.0",
      "model_name": "LayoutModel",
      "state": {}
     },
     "2eccefffbe1f4bdfad4aa263b33a877d": {
      "model_module": "@jupyter-widgets/base",
      "model_module_version": "2.0.0",
      "model_name": "LayoutModel",
      "state": {}
     },
     "319051d959bc481fa7c2f32aa26602c1": {
      "model_module": "@jupyter-widgets/base",
      "model_module_version": "2.0.0",
      "model_name": "LayoutModel",
      "state": {}
     },
     "32eb6eccbb104fdcb2c0f9eb81fd3c72": {
      "model_module": "@jupyter-widgets/controls",
      "model_module_version": "2.0.0",
      "model_name": "HTMLModel",
      "state": {
       "layout": "IPY_MODEL_393e549cdbf34f84ad36ebd81777fd48",
       "style": "IPY_MODEL_3b0474c44bd944b090ce08c9feac41a4",
       "value": "Loading checkpoint shards: 100%"
      }
     },
     "343a2b0319d34f2daeb2fc780b098de3": {
      "model_module": "@jupyter-widgets/controls",
      "model_module_version": "2.0.0",
      "model_name": "HTMLModel",
      "state": {
       "layout": "IPY_MODEL_f9669dedff094136ad688f7ecddd9a94",
       "style": "IPY_MODEL_b9fbe9dc2110448888205578cb9cfa05",
       "value": " 2/2 [14:50&lt;00:00, 393.46s/it]"
      }
     },
     "35ec38bbe4934a4c827d9df008fc7a02": {
      "model_module": "@jupyter-widgets/controls",
      "model_module_version": "2.0.0",
      "model_name": "HTMLStyleModel",
      "state": {
       "description_width": "",
       "font_size": null,
       "text_color": null
      }
     },
     "365d58f4f86a4685b04eb310a1c07fe2": {
      "model_module": "@jupyter-widgets/controls",
      "model_module_version": "2.0.0",
      "model_name": "HTMLModel",
      "state": {
       "layout": "IPY_MODEL_fb81daee144c478c9bfb49212142e2a1",
       "style": "IPY_MODEL_cd15fdb4a3af4f4d99039affce1d0e3c",
       "value": "generation_config.json: 100%"
      }
     },
     "38b4c2b6dfb2498fb8e1484c3041f529": {
      "model_module": "@jupyter-widgets/controls",
      "model_module_version": "2.0.0",
      "model_name": "HTMLModel",
      "state": {
       "layout": "IPY_MODEL_bd960dd66fb746ceb03a5f38fea30b75",
       "style": "IPY_MODEL_66de1852cf774ed5a8dbb30524ca6cf2",
       "value": " 1.44k/1.44k [00:00&lt;00:00, 240kB/s]"
      }
     },
     "393e549cdbf34f84ad36ebd81777fd48": {
      "model_module": "@jupyter-widgets/base",
      "model_module_version": "2.0.0",
      "model_name": "LayoutModel",
      "state": {}
     },
     "3aeaaee956af44da9c8659f4c0f2924e": {
      "model_module": "@jupyter-widgets/base",
      "model_module_version": "2.0.0",
      "model_name": "LayoutModel",
      "state": {}
     },
     "3b0474c44bd944b090ce08c9feac41a4": {
      "model_module": "@jupyter-widgets/controls",
      "model_module_version": "2.0.0",
      "model_name": "HTMLStyleModel",
      "state": {
       "description_width": "",
       "font_size": null,
       "text_color": null
      }
     },
     "3b75b08e7d1a44fb9d1bf7e0591395b3": {
      "model_module": "@jupyter-widgets/controls",
      "model_module_version": "2.0.0",
      "model_name": "HTMLStyleModel",
      "state": {
       "description_width": "",
       "font_size": null,
       "text_color": null
      }
     },
     "3d3462c349114e3eb3b3ca955cfe4aaa": {
      "model_module": "@jupyter-widgets/controls",
      "model_module_version": "2.0.0",
      "model_name": "HTMLModel",
      "state": {
       "layout": "IPY_MODEL_6ffc0119444040c3b59dde9b0318138b",
       "style": "IPY_MODEL_c177a2019a414712b85785e6d550c727",
       "value": " 2/2 [00:00&lt;00:00,  9.62it/s]"
      }
     },
     "3e4b46f1abbb41a8b2200c2413c4bd54": {
      "model_module": "@jupyter-widgets/controls",
      "model_module_version": "2.0.0",
      "model_name": "FloatProgressModel",
      "state": {
       "bar_style": "success",
       "layout": "IPY_MODEL_1f109f5654594d9cb0f9712497b54c0b",
       "max": 53032,
       "style": "IPY_MODEL_dca93de1314f43d49a42e8315c469a10",
       "value": 53032
      }
     },
     "44d5c3e02d6a4e30a12564338cd6c117": {
      "model_module": "@jupyter-widgets/controls",
      "model_module_version": "2.0.0",
      "model_name": "HTMLModel",
      "state": {
       "layout": "IPY_MODEL_7044f254dd3a4158a8f293ea89cfd7b0",
       "style": "IPY_MODEL_7b7cd838e7f74cd1a0830bbe83c1b253",
       "value": " 2.54k/2.54k [00:00&lt;00:00, 423kB/s]"
      }
     },
     "45f6dc1213754382b818d2dbc0ef73b6": {
      "model_module": "@jupyter-widgets/base",
      "model_module_version": "2.0.0",
      "model_name": "LayoutModel",
      "state": {}
     },
     "46e3711d61d74efe8a8b1161a724fa9d": {
      "model_module": "@jupyter-widgets/controls",
      "model_module_version": "2.0.0",
      "model_name": "HTMLModel",
      "state": {
       "layout": "IPY_MODEL_ff42764189e348c19b7cc1d47187e5ab",
       "style": "IPY_MODEL_5f64d88259434ea38823c237082bc1ff",
       "value": "model-00001-of-00002.safetensors: 100%"
      }
     },
     "4924c1a17a5d4248818d1fbfe32622b0": {
      "model_module": "@jupyter-widgets/base",
      "model_module_version": "2.0.0",
      "model_name": "LayoutModel",
      "state": {}
     },
     "4ace6f394f46428cb546ced7228fa878": {
      "model_module": "@jupyter-widgets/base",
      "model_module_version": "2.0.0",
      "model_name": "LayoutModel",
      "state": {}
     },
     "4d0699a881b04553b96f000a2ff59002": {
      "model_module": "@jupyter-widgets/base",
      "model_module_version": "2.0.0",
      "model_name": "LayoutModel",
      "state": {}
     },
     "4e7b62b432ae4cb48be92454b2415a5d": {
      "model_module": "@jupyter-widgets/base",
      "model_module_version": "2.0.0",
      "model_name": "LayoutModel",
      "state": {}
     },
     "4f266ee5954141128ef1f8548a9c4634": {
      "model_module": "@jupyter-widgets/base",
      "model_module_version": "2.0.0",
      "model_name": "LayoutModel",
      "state": {}
     },
     "50f9970ae5a94553b423511f15cd8193": {
      "model_module": "@jupyter-widgets/controls",
      "model_module_version": "2.0.0",
      "model_name": "HBoxModel",
      "state": {
       "children": [
        "IPY_MODEL_d1ea1d8b906c4c8fb30a48f4fb041c37",
        "IPY_MODEL_13bd6974014342bcb99721d19802f517",
        "IPY_MODEL_8392148208774d0baad64f9607eb4cc7"
       ],
       "layout": "IPY_MODEL_036151d70c2b47689ca02ebdbcc0b86c"
      }
     },
     "5275aabd90ef41308f7e46d795e7085b": {
      "model_module": "@jupyter-widgets/controls",
      "model_module_version": "2.0.0",
      "model_name": "HTMLStyleModel",
      "state": {
       "description_width": "",
       "font_size": null,
       "text_color": null
      }
     },
     "52f6b9a314c244e5aae35a6e33780bd6": {
      "model_module": "@jupyter-widgets/controls",
      "model_module_version": "2.0.0",
      "model_name": "ProgressStyleModel",
      "state": {
       "description_width": ""
      }
     },
     "573aeef5f45c4f00a4a5b3be510b702a": {
      "model_module": "@jupyter-widgets/controls",
      "model_module_version": "2.0.0",
      "model_name": "FloatProgressModel",
      "state": {
       "bar_style": "success",
       "layout": "IPY_MODEL_4d0699a881b04553b96f000a2ff59002",
       "max": 147,
       "style": "IPY_MODEL_d0a98e08dd624b86812b5256dc3b1e6a",
       "value": 147
      }
     },
     "57b2b189c3a7488da1f6299deecf363d": {
      "model_module": "@jupyter-widgets/base",
      "model_module_version": "2.0.0",
      "model_name": "LayoutModel",
      "state": {}
     },
     "5a372bd5951c4bce8b64c95868c2efd8": {
      "model_module": "@jupyter-widgets/base",
      "model_module_version": "2.0.0",
      "model_name": "LayoutModel",
      "state": {}
     },
     "5e9d54c698f34655bfe55683aca6c26e": {
      "model_module": "@jupyter-widgets/controls",
      "model_module_version": "2.0.0",
      "model_name": "HTMLModel",
      "state": {
       "layout": "IPY_MODEL_4ace6f394f46428cb546ced7228fa878",
       "style": "IPY_MODEL_5275aabd90ef41308f7e46d795e7085b",
       "value": " 1.95G/1.95G [02:32&lt;00:00, 13.0MB/s]"
      }
     },
     "5f64d88259434ea38823c237082bc1ff": {
      "model_module": "@jupyter-widgets/controls",
      "model_module_version": "2.0.0",
      "model_name": "HTMLStyleModel",
      "state": {
       "description_width": "",
       "font_size": null,
       "text_color": null
      }
     },
     "5fac00e3362047d9876bc0536fd975b8": {
      "model_module": "@jupyter-widgets/controls",
      "model_module_version": "2.0.0",
      "model_name": "HBoxModel",
      "state": {
       "children": [
        "IPY_MODEL_365d58f4f86a4685b04eb310a1c07fe2",
        "IPY_MODEL_573aeef5f45c4f00a4a5b3be510b702a",
        "IPY_MODEL_e06e676ca33f49c8ac71d9d47375b74b"
       ],
       "layout": "IPY_MODEL_75a929d8caf24d6fb466ddf1026ce2a2"
      }
     },
     "603d024db490475dbf13ffa18a178677": {
      "model_module": "@jupyter-widgets/controls",
      "model_module_version": "2.0.0",
      "model_name": "ProgressStyleModel",
      "state": {
       "description_width": ""
      }
     },
     "604f544411804caba686f0c41afdc024": {
      "model_module": "@jupyter-widgets/base",
      "model_module_version": "2.0.0",
      "model_name": "LayoutModel",
      "state": {}
     },
     "609096f769ea43f99a713f4908d27ffc": {
      "model_module": "@jupyter-widgets/controls",
      "model_module_version": "2.0.0",
      "model_name": "FloatProgressModel",
      "state": {
       "bar_style": "success",
       "layout": "IPY_MODEL_45f6dc1213754382b818d2dbc0ef73b6",
       "max": 2424064,
       "style": "IPY_MODEL_f0a55177254f4bd1a0d7c85c0561415c",
       "value": 2424064
      }
     },
     "61645f4b8ab34f109dee6f8feb1639c7": {
      "model_module": "@jupyter-widgets/controls",
      "model_module_version": "2.0.0",
      "model_name": "FloatProgressModel",
      "state": {
       "bar_style": "success",
       "layout": "IPY_MODEL_4f266ee5954141128ef1f8548a9c4634",
       "max": 2201,
       "style": "IPY_MODEL_7c37a8617af94bddb9ec200594dd1707",
       "value": 2201
      }
     },
     "66de1852cf774ed5a8dbb30524ca6cf2": {
      "model_module": "@jupyter-widgets/controls",
      "model_module_version": "2.0.0",
      "model_name": "HTMLStyleModel",
      "state": {
       "description_width": "",
       "font_size": null,
       "text_color": null
      }
     },
     "67a31179fec14f218f79dd60fa050520": {
      "model_module": "@jupyter-widgets/controls",
      "model_module_version": "2.0.0",
      "model_name": "HTMLModel",
      "state": {
       "layout": "IPY_MODEL_f17a7d18f018425d95acbc44f64d9224",
       "style": "IPY_MODEL_ed74909e0fc043d49c12ae97c1fe90a8",
       "value": "Loading checkpoint shards: 100%"
      }
     },
     "6b4e33baa7764e23bd8b6afb5116219b": {
      "model_module": "@jupyter-widgets/controls",
      "model_module_version": "2.0.0",
      "model_name": "HBoxModel",
      "state": {
       "children": [
        "IPY_MODEL_fe0a81bd16354283b61c413bef8feb6d",
        "IPY_MODEL_f8b3b203567e44b5854ce68d8e73e5bc",
        "IPY_MODEL_38b4c2b6dfb2498fb8e1484c3041f529"
       ],
       "layout": "IPY_MODEL_b4aff61f43a044dc93f03faa1ecfdd3a"
      }
     },
     "6c94f238322e44a784be15a7d9b67b2e": {
      "model_module": "@jupyter-widgets/controls",
      "model_module_version": "2.0.0",
      "model_name": "HTMLStyleModel",
      "state": {
       "description_width": "",
       "font_size": null,
       "text_color": null
      }
     },
     "6f75e73fb6b84e1799f34b0e26be2306": {
      "model_module": "@jupyter-widgets/controls",
      "model_module_version": "2.0.0",
      "model_name": "HBoxModel",
      "state": {
       "children": [
        "IPY_MODEL_1b91dd4a8dd242df913d47d7bcca1f1f",
        "IPY_MODEL_61645f4b8ab34f109dee6f8feb1639c7",
        "IPY_MODEL_10a2a0e5493a4ff99e39d30dd0fcef7f"
       ],
       "layout": "IPY_MODEL_4e7b62b432ae4cb48be92454b2415a5d"
      }
     },
     "6ffc0119444040c3b59dde9b0318138b": {
      "model_module": "@jupyter-widgets/base",
      "model_module_version": "2.0.0",
      "model_name": "LayoutModel",
      "state": {}
     },
     "7044f254dd3a4158a8f293ea89cfd7b0": {
      "model_module": "@jupyter-widgets/base",
      "model_module_version": "2.0.0",
      "model_name": "LayoutModel",
      "state": {}
     },
     "75a929d8caf24d6fb466ddf1026ce2a2": {
      "model_module": "@jupyter-widgets/base",
      "model_module_version": "2.0.0",
      "model_name": "LayoutModel",
      "state": {}
     },
     "75de4c2d47c24ad6b3a8db1fd61cac61": {
      "model_module": "@jupyter-widgets/controls",
      "model_module_version": "2.0.0",
      "model_name": "HTMLModel",
      "state": {
       "layout": "IPY_MODEL_aed1a624e7b8431fb05271dd718e4e30",
       "style": "IPY_MODEL_a0992071a96e46bb98a2f8934f7b24d4",
       "value": " 2.42M/2.42M [00:00&lt;00:00, 6.77MB/s]"
      }
     },
     "766a0d03d7024902a356ee31074fd1d5": {
      "model_module": "@jupyter-widgets/base",
      "model_module_version": "2.0.0",
      "model_name": "LayoutModel",
      "state": {}
     },
     "791e25994d114b8fa5124051e59b946e": {
      "model_module": "@jupyter-widgets/base",
      "model_module_version": "2.0.0",
      "model_name": "LayoutModel",
      "state": {}
     },
     "7b7cd838e7f74cd1a0830bbe83c1b253": {
      "model_module": "@jupyter-widgets/controls",
      "model_module_version": "2.0.0",
      "model_name": "HTMLStyleModel",
      "state": {
       "description_width": "",
       "font_size": null,
       "text_color": null
      }
     },
     "7c37a8617af94bddb9ec200594dd1707": {
      "model_module": "@jupyter-widgets/controls",
      "model_module_version": "2.0.0",
      "model_name": "ProgressStyleModel",
      "state": {
       "description_width": ""
      }
     },
     "7c8b3e3c87464eaa868698ce39962dbb": {
      "model_module": "@jupyter-widgets/controls",
      "model_module_version": "2.0.0",
      "model_name": "HTMLStyleModel",
      "state": {
       "description_width": "",
       "font_size": null,
       "text_color": null
      }
     },
     "7ce0679576b54a3d83c9991efd2cd164": {
      "model_module": "@jupyter-widgets/controls",
      "model_module_version": "2.0.0",
      "model_name": "FloatProgressModel",
      "state": {
       "bar_style": "success",
       "layout": "IPY_MODEL_2eccefffbe1f4bdfad4aa263b33a877d",
       "max": 9449619912,
       "style": "IPY_MODEL_fe751f0578f542fc93b2caab2852306b",
       "value": 9449619912
      }
     },
     "7dd5f9ff72f040d3981d793eee5b6d19": {
      "model_module": "@jupyter-widgets/base",
      "model_module_version": "2.0.0",
      "model_name": "LayoutModel",
      "state": {}
     },
     "819a4c89050e49788d51e4622b50551d": {
      "model_module": "@jupyter-widgets/controls",
      "model_module_version": "2.0.0",
      "model_name": "HTMLModel",
      "state": {
       "layout": "IPY_MODEL_2910ba13b4be4aab887d698dc980d628",
       "style": "IPY_MODEL_caa547eaa14d408795ddc404d5cfe37c",
       "value": "Loading checkpoint shards: 100%"
      }
     },
     "81b1aceffc7d47f8a1d79b1c424fd06f": {
      "model_module": "@jupyter-widgets/base",
      "model_module_version": "2.0.0",
      "model_name": "LayoutModel",
      "state": {}
     },
     "8392148208774d0baad64f9607eb4cc7": {
      "model_module": "@jupyter-widgets/controls",
      "model_module_version": "2.0.0",
      "model_name": "HTMLModel",
      "state": {
       "layout": "IPY_MODEL_876d14c49b10472d9a903371733119ab",
       "style": "IPY_MODEL_e64a859b1c3d41b28140a9a38ea424c0",
       "value": " 2/2 [00:00&lt;00:00,  5.60it/s]"
      }
     },
     "855c87af528242658b92bd536ad89248": {
      "model_module": "@jupyter-widgets/controls",
      "model_module_version": "2.0.0",
      "model_name": "ProgressStyleModel",
      "state": {
       "description_width": ""
      }
     },
     "876d14c49b10472d9a903371733119ab": {
      "model_module": "@jupyter-widgets/base",
      "model_module_version": "2.0.0",
      "model_name": "LayoutModel",
      "state": {}
     },
     "879b49f7c8bd4437b50e1fb9d491c1c1": {
      "model_module": "@jupyter-widgets/controls",
      "model_module_version": "2.0.0",
      "model_name": "HBoxModel",
      "state": {
       "children": [
        "IPY_MODEL_b65b9bfbd81b4b85ad76ac66c93f8f75",
        "IPY_MODEL_bb9a78e2270a49a88a9c1f42735a4202",
        "IPY_MODEL_1123e190589d49038924a67d72b1993d"
       ],
       "layout": "IPY_MODEL_3aeaaee956af44da9c8659f4c0f2924e"
      }
     },
     "87ec5a2b1694477d8938280485f7ddbc": {
      "model_module": "@jupyter-widgets/controls",
      "model_module_version": "2.0.0",
      "model_name": "HBoxModel",
      "state": {
       "children": [
        "IPY_MODEL_32eb6eccbb104fdcb2c0f9eb81fd3c72",
        "IPY_MODEL_0124d2493580460996cf8eb6875f289d",
        "IPY_MODEL_3d3462c349114e3eb3b3ca955cfe4aaa"
       ],
       "layout": "IPY_MODEL_dbac94a87a384692976f51bc82f59656"
      }
     },
     "8ad4e8202344413993564006515c7291": {
      "model_module": "@jupyter-widgets/controls",
      "model_module_version": "2.0.0",
      "model_name": "HTMLStyleModel",
      "state": {
       "description_width": "",
       "font_size": null,
       "text_color": null
      }
     },
     "8d6f411ed9944c4aad6a968b2760a94c": {
      "model_module": "@jupyter-widgets/controls",
      "model_module_version": "2.0.0",
      "model_name": "HTMLStyleModel",
      "state": {
       "description_width": "",
       "font_size": null,
       "text_color": null
      }
     },
     "93f333761c8f4c6f81af07a1e6371795": {
      "model_module": "@jupyter-widgets/base",
      "model_module_version": "2.0.0",
      "model_name": "LayoutModel",
      "state": {}
     },
     "9519ba87787f4ccc91dd36e3f7a0b7d7": {
      "model_module": "@jupyter-widgets/base",
      "model_module_version": "2.0.0",
      "model_name": "LayoutModel",
      "state": {}
     },
     "9f631e5f1386473d9d45c12b8db97cd2": {
      "model_module": "@jupyter-widgets/controls",
      "model_module_version": "2.0.0",
      "model_name": "HTMLStyleModel",
      "state": {
       "description_width": "",
       "font_size": null,
       "text_color": null
      }
     },
     "a082a529b5404e899bc4b880de3bf447": {
      "model_module": "@jupyter-widgets/controls",
      "model_module_version": "2.0.0",
      "model_name": "HBoxModel",
      "state": {
       "children": [
        "IPY_MODEL_e25913596cfb49afbf9cb794fd88858c",
        "IPY_MODEL_609096f769ea43f99a713f4908d27ffc",
        "IPY_MODEL_75de4c2d47c24ad6b3a8db1fd61cac61"
       ],
       "layout": "IPY_MODEL_bf6dba64b8514d1abb46a3561439be9b"
      }
     },
     "a0992071a96e46bb98a2f8934f7b24d4": {
      "model_module": "@jupyter-widgets/controls",
      "model_module_version": "2.0.0",
      "model_name": "HTMLStyleModel",
      "state": {
       "description_width": "",
       "font_size": null,
       "text_color": null
      }
     },
     "aabcd65319da46dc96cd5a273501c7ae": {
      "model_module": "@jupyter-widgets/controls",
      "model_module_version": "2.0.0",
      "model_name": "HTMLStyleModel",
      "state": {
       "description_width": "",
       "font_size": null,
       "text_color": null
      }
     },
     "ab64cb8c7df54f7bb55b905ad2554e40": {
      "model_module": "@jupyter-widgets/controls",
      "model_module_version": "2.0.0",
      "model_name": "HTMLModel",
      "state": {
       "layout": "IPY_MODEL_c2b2defed23b46498c8025ee7a6e47d7",
       "style": "IPY_MODEL_e39299a484d549648fb32cd2c06a192a",
       "value": "Downloading shards: 100%"
      }
     },
     "ab810d2982a0429aaa63102391fa3dd2": {
      "model_module": "@jupyter-widgets/base",
      "model_module_version": "2.0.0",
      "model_name": "LayoutModel",
      "state": {}
     },
     "ad43d6e68c994d13a4a05c3cdb365692": {
      "model_module": "@jupyter-widgets/base",
      "model_module_version": "2.0.0",
      "model_name": "LayoutModel",
      "state": {}
     },
     "aed1a624e7b8431fb05271dd718e4e30": {
      "model_module": "@jupyter-widgets/base",
      "model_module_version": "2.0.0",
      "model_name": "LayoutModel",
      "state": {}
     },
     "b193d8d0ff264bde853d5222833c5f57": {
      "model_module": "@jupyter-widgets/controls",
      "model_module_version": "2.0.0",
      "model_name": "HTMLStyleModel",
      "state": {
       "description_width": "",
       "font_size": null,
       "text_color": null
      }
     },
     "b4aff61f43a044dc93f03faa1ecfdd3a": {
      "model_module": "@jupyter-widgets/base",
      "model_module_version": "2.0.0",
      "model_name": "LayoutModel",
      "state": {}
     },
     "b5863191474e40d0826800a5c35e4b5b": {
      "model_module": "@jupyter-widgets/controls",
      "model_module_version": "2.0.0",
      "model_name": "HTMLStyleModel",
      "state": {
       "description_width": "",
       "font_size": null,
       "text_color": null
      }
     },
     "b65b9bfbd81b4b85ad76ac66c93f8f75": {
      "model_module": "@jupyter-widgets/controls",
      "model_module_version": "2.0.0",
      "model_name": "HTMLModel",
      "state": {
       "layout": "IPY_MODEL_0f7bc40d05b3406691df61dde186b8db",
       "style": "IPY_MODEL_084db706ccd14d68862bb3c451dbf237",
       "value": "spiece.model: 100%"
      }
     },
     "b9fbe9dc2110448888205578cb9cfa05": {
      "model_module": "@jupyter-widgets/controls",
      "model_module_version": "2.0.0",
      "model_name": "HTMLStyleModel",
      "state": {
       "description_width": "",
       "font_size": null,
       "text_color": null
      }
     },
     "ba9c118cd8294b11b8b3de3c493329cc": {
      "model_module": "@jupyter-widgets/controls",
      "model_module_version": "2.0.0",
      "model_name": "ProgressStyleModel",
      "state": {
       "description_width": ""
      }
     },
     "baad448a27e342fc987e5e0964bbd22f": {
      "model_module": "@jupyter-widgets/base",
      "model_module_version": "2.0.0",
      "model_name": "LayoutModel",
      "state": {}
     },
     "bb1c8659c73a4525ad15f79085fbeadc": {
      "model_module": "@jupyter-widgets/base",
      "model_module_version": "2.0.0",
      "model_name": "LayoutModel",
      "state": {}
     },
     "bb4eda4973cd4099bd581ff17c6f2f09": {
      "model_module": "@jupyter-widgets/base",
      "model_module_version": "2.0.0",
      "model_name": "LayoutModel",
      "state": {}
     },
     "bb9a78e2270a49a88a9c1f42735a4202": {
      "model_module": "@jupyter-widgets/controls",
      "model_module_version": "2.0.0",
      "model_name": "FloatProgressModel",
      "state": {
       "bar_style": "success",
       "layout": "IPY_MODEL_93f333761c8f4c6f81af07a1e6371795",
       "max": 791656,
       "style": "IPY_MODEL_f37e064e299c4800bf3c8ad94a1bbfb9",
       "value": 791656
      }
     },
     "bd67e08015bb45d88774affa0ade2ce0": {
      "model_module": "@jupyter-widgets/controls",
      "model_module_version": "2.0.0",
      "model_name": "HTMLModel",
      "state": {
       "layout": "IPY_MODEL_18e556459d5d40ffbf0697f691f58117",
       "style": "IPY_MODEL_b5863191474e40d0826800a5c35e4b5b",
       "value": "tokenizer_config.json: 100%"
      }
     },
     "bd960dd66fb746ceb03a5f38fea30b75": {
      "model_module": "@jupyter-widgets/base",
      "model_module_version": "2.0.0",
      "model_name": "LayoutModel",
      "state": {}
     },
     "bedb24beba2e4dec9d0527660ec7b522": {
      "model_module": "@jupyter-widgets/base",
      "model_module_version": "2.0.0",
      "model_name": "LayoutModel",
      "state": {}
     },
     "bf6dba64b8514d1abb46a3561439be9b": {
      "model_module": "@jupyter-widgets/base",
      "model_module_version": "2.0.0",
      "model_name": "LayoutModel",
      "state": {}
     },
     "c177a2019a414712b85785e6d550c727": {
      "model_module": "@jupyter-widgets/controls",
      "model_module_version": "2.0.0",
      "model_name": "HTMLStyleModel",
      "state": {
       "description_width": "",
       "font_size": null,
       "text_color": null
      }
     },
     "c2b2defed23b46498c8025ee7a6e47d7": {
      "model_module": "@jupyter-widgets/base",
      "model_module_version": "2.0.0",
      "model_name": "LayoutModel",
      "state": {}
     },
     "c9c0d69f75824076ab6362226473f885": {
      "model_module": "@jupyter-widgets/controls",
      "model_module_version": "2.0.0",
      "model_name": "HTMLModel",
      "state": {
       "layout": "IPY_MODEL_09d7fdca13b947dfb6e692a491cac3e4",
       "style": "IPY_MODEL_b193d8d0ff264bde853d5222833c5f57",
       "value": " 2/2 [00:00&lt;00:00,  9.52it/s]"
      }
     },
     "caa547eaa14d408795ddc404d5cfe37c": {
      "model_module": "@jupyter-widgets/controls",
      "model_module_version": "2.0.0",
      "model_name": "HTMLStyleModel",
      "state": {
       "description_width": "",
       "font_size": null,
       "text_color": null
      }
     },
     "cd15fdb4a3af4f4d99039affce1d0e3c": {
      "model_module": "@jupyter-widgets/controls",
      "model_module_version": "2.0.0",
      "model_name": "HTMLStyleModel",
      "state": {
       "description_width": "",
       "font_size": null,
       "text_color": null
      }
     },
     "ce28f44fda864f18a1c71af169b93864": {
      "model_module": "@jupyter-widgets/controls",
      "model_module_version": "2.0.0",
      "model_name": "HTMLStyleModel",
      "state": {
       "description_width": "",
       "font_size": null,
       "text_color": null
      }
     },
     "ced0888897e645fe88026048610791f1": {
      "model_module": "@jupyter-widgets/controls",
      "model_module_version": "2.0.0",
      "model_name": "HTMLStyleModel",
      "state": {
       "description_width": "",
       "font_size": null,
       "text_color": null
      }
     },
     "d0a98e08dd624b86812b5256dc3b1e6a": {
      "model_module": "@jupyter-widgets/controls",
      "model_module_version": "2.0.0",
      "model_name": "ProgressStyleModel",
      "state": {
       "description_width": ""
      }
     },
     "d1ea1d8b906c4c8fb30a48f4fb041c37": {
      "model_module": "@jupyter-widgets/controls",
      "model_module_version": "2.0.0",
      "model_name": "HTMLModel",
      "state": {
       "layout": "IPY_MODEL_bb4eda4973cd4099bd581ff17c6f2f09",
       "style": "IPY_MODEL_aabcd65319da46dc96cd5a273501c7ae",
       "value": "Loading checkpoint shards: 100%"
      }
     },
     "d47932aa0cc941d5be11aa0a2fb0289d": {
      "model_module": "@jupyter-widgets/base",
      "model_module_version": "2.0.0",
      "model_name": "LayoutModel",
      "state": {}
     },
     "d5eb640f9b3c4702b14cf57e84141f23": {
      "model_module": "@jupyter-widgets/controls",
      "model_module_version": "2.0.0",
      "model_name": "HTMLStyleModel",
      "state": {
       "description_width": "",
       "font_size": null,
       "text_color": null
      }
     },
     "daacd15cd49647ec86be8dc4538436c6": {
      "model_module": "@jupyter-widgets/controls",
      "model_module_version": "2.0.0",
      "model_name": "HBoxModel",
      "state": {
       "children": [
        "IPY_MODEL_21484c5e1f654b95a3d7fefc32fc80f5",
        "IPY_MODEL_e4222bc828b4435eba0091e53bcbb5dd",
        "IPY_MODEL_5e9d54c698f34655bfe55683aca6c26e"
       ],
       "layout": "IPY_MODEL_ee3bf50146b24976a7b9159bb76109e0"
      }
     },
     "dbac94a87a384692976f51bc82f59656": {
      "model_module": "@jupyter-widgets/base",
      "model_module_version": "2.0.0",
      "model_name": "LayoutModel",
      "state": {}
     },
     "dbcf89fc75dc4a4fb28a725ed99387ac": {
      "model_module": "@jupyter-widgets/controls",
      "model_module_version": "2.0.0",
      "model_name": "HBoxModel",
      "state": {
       "children": [
        "IPY_MODEL_819a4c89050e49788d51e4622b50551d",
        "IPY_MODEL_fd90866afaf54bbfbed036f0688445f8",
        "IPY_MODEL_2094a1e5178342afa7221cd22bb5beae"
       ],
       "layout": "IPY_MODEL_5a372bd5951c4bce8b64c95868c2efd8"
      }
     },
     "dca93de1314f43d49a42e8315c469a10": {
      "model_module": "@jupyter-widgets/controls",
      "model_module_version": "2.0.0",
      "model_name": "ProgressStyleModel",
      "state": {
       "description_width": ""
      }
     },
     "dd7f30796ec5447a8e0e774a32f21a41": {
      "model_module": "@jupyter-widgets/controls",
      "model_module_version": "2.0.0",
      "model_name": "HBoxModel",
      "state": {
       "children": [
        "IPY_MODEL_46e3711d61d74efe8a8b1161a724fa9d",
        "IPY_MODEL_7ce0679576b54a3d83c9991efd2cd164",
        "IPY_MODEL_288ff34c1a064580a1dece49d2077d29"
       ],
       "layout": "IPY_MODEL_4924c1a17a5d4248818d1fbfe32622b0"
      }
     },
     "de280871759a48398cb39c7ba5197025": {
      "model_module": "@jupyter-widgets/base",
      "model_module_version": "2.0.0",
      "model_name": "LayoutModel",
      "state": {}
     },
     "de72c6cc42044aa380fe3310ba7bd883": {
      "model_module": "@jupyter-widgets/base",
      "model_module_version": "2.0.0",
      "model_name": "LayoutModel",
      "state": {}
     },
     "e0094cf24791445e936f324d2561c416": {
      "model_module": "@jupyter-widgets/controls",
      "model_module_version": "2.0.0",
      "model_name": "HTMLStyleModel",
      "state": {
       "description_width": "",
       "font_size": null,
       "text_color": null
      }
     },
     "e06e676ca33f49c8ac71d9d47375b74b": {
      "model_module": "@jupyter-widgets/controls",
      "model_module_version": "2.0.0",
      "model_name": "HTMLModel",
      "state": {
       "layout": "IPY_MODEL_791e25994d114b8fa5124051e59b946e",
       "style": "IPY_MODEL_9f631e5f1386473d9d45c12b8db97cd2",
       "value": " 147/147 [00:00&lt;00:00, 24.5kB/s]"
      }
     },
     "e124b58640ef40a0abd9084e8d02e052": {
      "model_module": "@jupyter-widgets/controls",
      "model_module_version": "2.0.0",
      "model_name": "HBoxModel",
      "state": {
       "children": [
        "IPY_MODEL_ab64cb8c7df54f7bb55b905ad2554e40",
        "IPY_MODEL_e608a970f8ba45b9ac5887cd4b8a7942",
        "IPY_MODEL_343a2b0319d34f2daeb2fc780b098de3"
       ],
       "layout": "IPY_MODEL_baad448a27e342fc987e5e0964bbd22f"
      }
     },
     "e209b876fe76468aa8230a0c1b7d5d37": {
      "model_module": "@jupyter-widgets/base",
      "model_module_version": "2.0.0",
      "model_name": "LayoutModel",
      "state": {}
     },
     "e25913596cfb49afbf9cb794fd88858c": {
      "model_module": "@jupyter-widgets/controls",
      "model_module_version": "2.0.0",
      "model_name": "HTMLModel",
      "state": {
       "layout": "IPY_MODEL_bb1c8659c73a4525ad15f79085fbeadc",
       "style": "IPY_MODEL_6c94f238322e44a784be15a7d9b67b2e",
       "value": "tokenizer.json: 100%"
      }
     },
     "e39299a484d549648fb32cd2c06a192a": {
      "model_module": "@jupyter-widgets/controls",
      "model_module_version": "2.0.0",
      "model_name": "HTMLStyleModel",
      "state": {
       "description_width": "",
       "font_size": null,
       "text_color": null
      }
     },
     "e4222bc828b4435eba0091e53bcbb5dd": {
      "model_module": "@jupyter-widgets/controls",
      "model_module_version": "2.0.0",
      "model_name": "FloatProgressModel",
      "state": {
       "bar_style": "success",
       "layout": "IPY_MODEL_17883ed4393a48e5b4bbb22a05301e03",
       "max": 1949477672,
       "style": "IPY_MODEL_21526f5ad5ca43eeb16c47da2f21d485",
       "value": 1949477672
      }
     },
     "e608a970f8ba45b9ac5887cd4b8a7942": {
      "model_module": "@jupyter-widgets/controls",
      "model_module_version": "2.0.0",
      "model_name": "FloatProgressModel",
      "state": {
       "bar_style": "success",
       "layout": "IPY_MODEL_81b1aceffc7d47f8a1d79b1c424fd06f",
       "max": 2,
       "style": "IPY_MODEL_18ecd524e6924d1b8a7b56a8ac09830e",
       "value": 2
      }
     },
     "e64a859b1c3d41b28140a9a38ea424c0": {
      "model_module": "@jupyter-widgets/controls",
      "model_module_version": "2.0.0",
      "model_name": "HTMLStyleModel",
      "state": {
       "description_width": "",
       "font_size": null,
       "text_color": null
      }
     },
     "ec7363346e144ec7873623abb8a95b6d": {
      "model_module": "@jupyter-widgets/base",
      "model_module_version": "2.0.0",
      "model_name": "LayoutModel",
      "state": {}
     },
     "ed74909e0fc043d49c12ae97c1fe90a8": {
      "model_module": "@jupyter-widgets/controls",
      "model_module_version": "2.0.0",
      "model_name": "HTMLStyleModel",
      "state": {
       "description_width": "",
       "font_size": null,
       "text_color": null
      }
     },
     "ee3bf50146b24976a7b9159bb76109e0": {
      "model_module": "@jupyter-widgets/base",
      "model_module_version": "2.0.0",
      "model_name": "LayoutModel",
      "state": {}
     },
     "efba8cd535184be3988463bce71f14af": {
      "model_module": "@jupyter-widgets/controls",
      "model_module_version": "2.0.0",
      "model_name": "HTMLModel",
      "state": {
       "layout": "IPY_MODEL_ec7363346e144ec7873623abb8a95b6d",
       "style": "IPY_MODEL_8d6f411ed9944c4aad6a968b2760a94c",
       "value": " 53.0k/53.0k [00:00&lt;00:00, 8.84MB/s]"
      }
     },
     "f0a55177254f4bd1a0d7c85c0561415c": {
      "model_module": "@jupyter-widgets/controls",
      "model_module_version": "2.0.0",
      "model_name": "ProgressStyleModel",
      "state": {
       "description_width": ""
      }
     },
     "f17a7d18f018425d95acbc44f64d9224": {
      "model_module": "@jupyter-widgets/base",
      "model_module_version": "2.0.0",
      "model_name": "LayoutModel",
      "state": {}
     },
     "f2c15c7a000640dc89dd6db15ae9ba6f": {
      "model_module": "@jupyter-widgets/controls",
      "model_module_version": "2.0.0",
      "model_name": "HBoxModel",
      "state": {
       "children": [
        "IPY_MODEL_bd67e08015bb45d88774affa0ade2ce0",
        "IPY_MODEL_0e07476380594b8488b91b4d588fc0b6",
        "IPY_MODEL_44d5c3e02d6a4e30a12564338cd6c117"
       ],
       "layout": "IPY_MODEL_57b2b189c3a7488da1f6299deecf363d"
      }
     },
     "f37e064e299c4800bf3c8ad94a1bbfb9": {
      "model_module": "@jupyter-widgets/controls",
      "model_module_version": "2.0.0",
      "model_name": "ProgressStyleModel",
      "state": {
       "description_width": ""
      }
     },
     "f50a4dfb41a942edbdc79a3a53c532a3": {
      "model_module": "@jupyter-widgets/base",
      "model_module_version": "2.0.0",
      "model_name": "LayoutModel",
      "state": {}
     },
     "f6135fbcd32c40fc9ee9e334ab65265d": {
      "model_module": "@jupyter-widgets/controls",
      "model_module_version": "2.0.0",
      "model_name": "FloatProgressModel",
      "state": {
       "bar_style": "success",
       "layout": "IPY_MODEL_f50a4dfb41a942edbdc79a3a53c532a3",
       "max": 2,
       "style": "IPY_MODEL_52f6b9a314c244e5aae35a6e33780bd6",
       "value": 2
      }
     },
     "f8b3b203567e44b5854ce68d8e73e5bc": {
      "model_module": "@jupyter-widgets/controls",
      "model_module_version": "2.0.0",
      "model_name": "FloatProgressModel",
      "state": {
       "bar_style": "success",
       "layout": "IPY_MODEL_de72c6cc42044aa380fe3310ba7bd883",
       "max": 1438,
       "style": "IPY_MODEL_855c87af528242658b92bd536ad89248",
       "value": 1438
      }
     },
     "f9669dedff094136ad688f7ecddd9a94": {
      "model_module": "@jupyter-widgets/base",
      "model_module_version": "2.0.0",
      "model_name": "LayoutModel",
      "state": {}
     },
     "fb81daee144c478c9bfb49212142e2a1": {
      "model_module": "@jupyter-widgets/base",
      "model_module_version": "2.0.0",
      "model_name": "LayoutModel",
      "state": {}
     },
     "fd90866afaf54bbfbed036f0688445f8": {
      "model_module": "@jupyter-widgets/controls",
      "model_module_version": "2.0.0",
      "model_name": "FloatProgressModel",
      "state": {
       "bar_style": "success",
       "layout": "IPY_MODEL_d47932aa0cc941d5be11aa0a2fb0289d",
       "max": 2,
       "style": "IPY_MODEL_603d024db490475dbf13ffa18a178677",
       "value": 2
      }
     },
     "fe0a81bd16354283b61c413bef8feb6d": {
      "model_module": "@jupyter-widgets/controls",
      "model_module_version": "2.0.0",
      "model_name": "HTMLModel",
      "state": {
       "layout": "IPY_MODEL_ab810d2982a0429aaa63102391fa3dd2",
       "style": "IPY_MODEL_e0094cf24791445e936f324d2561c416",
       "value": "config.json: 100%"
      }
     },
     "fe751f0578f542fc93b2caab2852306b": {
      "model_module": "@jupyter-widgets/controls",
      "model_module_version": "2.0.0",
      "model_name": "ProgressStyleModel",
      "state": {
       "description_width": ""
      }
     },
     "ff42764189e348c19b7cc1d47187e5ab": {
      "model_module": "@jupyter-widgets/base",
      "model_module_version": "2.0.0",
      "model_name": "LayoutModel",
      "state": {}
     }
    },
    "version_major": 2,
    "version_minor": 0
   }
  }
 },
 "nbformat": 4,
 "nbformat_minor": 5
}
