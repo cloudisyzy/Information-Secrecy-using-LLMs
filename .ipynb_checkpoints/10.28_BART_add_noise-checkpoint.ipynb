{
 "cells": [
  {
   "cell_type": "code",
   "execution_count": 14,
   "id": "d776e82f-d349-4ec7-bc64-6424c51c0310",
   "metadata": {},
   "outputs": [],
   "source": [
    "from transformers import BartTokenizer, BartForConditionalGeneration\n",
    "from transformers.modeling_outputs import BaseModelOutput\n",
    "from IPython.display import display, HTML\n",
    "import torch\n",
    "\n",
    "# Set device\n",
    "device = torch.device(\"cuda\" if torch.cuda.is_available() else \"cpu\")\n",
    "\n",
    "# Load BART model and tokenizer\n",
    "model_name = \"facebook/bart-base\"  # Choose your preferred BART model\n",
    "tokenizer = BartTokenizer.from_pretrained(model_name)\n",
    "model = BartForConditionalGeneration.from_pretrained(model_name).to(device)"
   ]
  },
  {
   "cell_type": "code",
   "execution_count": 15,
   "id": "aa9f511a-4ecd-4edc-a0f9-7dcb3a2e12de",
   "metadata": {},
   "outputs": [],
   "source": [
    "def add_noise_with_snr(encoder_output, target_snr_db):\n",
    "    \"\"\"\n",
    "    Add noise to the encoder output based on a target SNR in dB.\n",
    "    \n",
    "    Parameters:\n",
    "    - encoder_output: torch.Tensor, the encoder's output (last_hidden_state).\n",
    "    - target_snr_db: float, the desired signal-to-noise ratio in dB.\n",
    "    \n",
    "    Returns:\n",
    "    - noisy_encoder_output: torch.Tensor, encoder output with added noise.\n",
    "    \"\"\"\n",
    "    # Convert SNR from dB to linear scale\n",
    "    target_snr_linear = 10 ** (target_snr_db / 10)\n",
    "    \n",
    "    # Calculate power of the signal\n",
    "    signal_power = torch.mean(encoder_output ** 2)\n",
    "    \n",
    "    # Calculate required noise power for the target SNR\n",
    "    noise_power = signal_power / target_snr_linear\n",
    "    noise = torch.randn_like(encoder_output) * torch.sqrt(noise_power)\n",
    "    \n",
    "    # Add noise to the encoder output\n",
    "    noisy_encoder_output = encoder_output + noise\n",
    "    return noisy_encoder_output\n"
   ]
  },
  {
   "cell_type": "code",
   "execution_count": 60,
   "id": "f3956bfa-9903-413d-9bae-d20020eddb81",
   "metadata": {},
   "outputs": [],
   "source": [
    "original_text = \"\"\"\n",
    "Beginners BBQ Class Taking Place in Missoula! \n",
    "Do you want to get better at making delicious BBQ?\n",
    "You will have the opportunity, put this on your calendar now. \n",
    "Thursday, September 22nd join World Class BBQ Champion, Tony Balay from Lonestar Smoke Rangers. \n",
    "He will be teaching a beginner level class for everyone who wants to get better with their culinary skills. \n",
    "He will teach you everything you need to know to compete in a KCBS BBQ competition, including techniques, recipes, timelines, meat selection and trimming, plus smoker and fire information. \n",
    "The cost to be in the class is $35 per person, and for spectators it is free. \n",
    "Included in the cost will be either a t-shirt or apron and you will be tasting samples of each meat that is prepared.\n",
    "\"\"\"\n",
    "input_text = \"\"\"\n",
    "Beginners BBQ Class <mask> in Missoula! \n",
    "Do you want to <mask> making delicious BBQ?\n",
    "You will have the opportunity, put this on your calendar now. \n",
    "Thursday, September 22nd join World Class BBQ Champion, Tony Balay from Lonestar Smoke Rangers. \n",
    "He will be teaching a beginner level class for everyone who wants to get better with their culinary skills. \n",
    "He will teach you <mask> compete in a KCBS BBQ competition, including techniques, recipes, timelines, meat selection and trimming, plus smoker and fire information. \n",
    "The <mask> the class is $35 per person, and for spectators it is free. \n",
    "Included in the cost will be either a t-shirt or apron and you will be tasting samples of each meat that is prepared.\n",
    "\"\"\".replace(\"\\n\", \"\")\n",
    "\n",
    "\n",
    "# original_text = \"\"\"\n",
    "# This November, embark on an exciting hiking adventure! \n",
    "# Explore the scenic mountain trails with an experienced guide, who will show you the best routes and hidden viewpoints. \n",
    "# This journey is suitable for all levels, from beginners to advanced hikers. \n",
    "# The hike covers approximately 10 miles and includes multiple rest stops with breathtaking views. \n",
    "# Participants should bring water, snacks, and comfortable hiking shoes. \n",
    "# The cost of the trip is $60, which includes a map and a group photo.\n",
    "# \"\"\"\n",
    "# input_text = \"\"\"\n",
    "# This November, embark on an exciting <mask> adventure! \n",
    "# Explore the scenic mountain trails with an experienced guide, who will show you the best routes and hidden <mask>. \n",
    "# This journey is suitable for all levels, from beginners to advanced <mask>. \n",
    "# The hike covers approximately 10 miles and includes multiple rest stops with breathtaking <mask>. \n",
    "# Participants should bring water, snacks, and comfortable hiking shoes. \n",
    "# The <mask> is $60, which includes a map and a group photo.\n",
    "# \"\"\".replace(\"\\n\", \"\")\n",
    "\n",
    "# original_text = \"\"\"\n",
    "# Welcome to our online coding bootcamp program! \n",
    "# Whether you're a complete beginner or looking to improve your programming skills, this course is designed for you. \n",
    "# Throughout the course, you will learn essential coding languages such as Python and JavaScript. \n",
    "# Our instructors will guide you through interactive projects and provide real-time feedback. \n",
    "# Each student will receive a certificate of completion at the end of the program. \n",
    "# The total cost for the bootcamp is $150, which includes all learning materials.\n",
    "# \"\"\"\n",
    "# input_text = \"\"\"\n",
    "# Welcome to our online <mask> bootcamp program! \n",
    "# Whether you're a complete beginner or looking to <mask> your programming skills, this course is designed for you. \n",
    "# Throughout the course, you will learn essential <mask> such as Python and JavaScript. \n",
    "# Our instructors will guide you through interactive projects and provide real-time <mask>. \n",
    "# Each student will receive a certificate of completion at the end of the <mask>. \n",
    "# The total cost for the bootcamp is $150, which <mask> all learning materials.\n",
    "# \"\"\".replace(\"\\n\", \"\")"
   ]
  },
  {
   "cell_type": "code",
   "execution_count": 61,
   "id": "76580d0b-1c9c-473b-b36a-fb1a431c93f2",
   "metadata": {},
   "outputs": [
    {
     "name": "stdout",
     "output_type": "stream",
     "text": [
      "Original Text:\n"
     ]
    },
    {
     "data": {
      "text/html": [
       "<p style='font-size:15px; font-family:\"Comic Sans MS\", cursive;'> \n",
       "Beginners BBQ Class Taking Place in Missoula! \n",
       "Do you want to get better at making delicious BBQ?\n",
       "You will have the opportunity, put this on your calendar now. \n",
       "Thursday, September 22nd join World Class BBQ Champion, Tony Balay from Lonestar Smoke Rangers. \n",
       "He will be teaching a beginner level class for everyone who wants to get better with their culinary skills. \n",
       "He will teach you everything you need to know to compete in a KCBS BBQ competition, including techniques, recipes, timelines, meat selection and trimming, plus smoker and fire information. \n",
       "The cost to be in the class is $35 per person, and for spectators it is free. \n",
       "Included in the cost will be either a t-shirt or apron and you will be tasting samples of each meat that is prepared.\n",
       "</p>"
      ],
      "text/plain": [
       "<IPython.core.display.HTML object>"
      ]
     },
     "metadata": {},
     "output_type": "display_data"
    },
    {
     "name": "stdout",
     "output_type": "stream",
     "text": [
      "Without Noise:\n"
     ]
    },
    {
     "data": {
      "text/html": [
       "<p style='font-size:15px; font-family:\"Comic Sans MS\", cursive;'>Beginners BBQ Class at Lonestar Smoke Rangers in Missoula! Do you want to get started on making delicious BBQ?You will have the opportunity, put this on your calendar now. Thursday, September 22nd join World Class BBQ Champion, Tony Balay from LonestAR Smoke Rangers. He will be teaching a beginner level class for everyone who wants to get better with their culinary skills. He is teaching you how to prepare and compete in a KCBS BBQ competition, including techniques, recipes, timelines, meat selection and trimming, plus smoker and fire information. The cost of the class is $35 per person, and for spectators it is free. Included in the cost will be either a t-shirt or apron and you will be tasting samples of each meat that is prepared.</p>"
      ],
      "text/plain": [
       "<IPython.core.display.HTML object>"
      ]
     },
     "metadata": {},
     "output_type": "display_data"
    },
    {
     "name": "stdout",
     "output_type": "stream",
     "text": [
      "With Noise (SNR = 10 dB):\n"
     ]
    },
    {
     "data": {
      "text/html": [
       "<p style='font-size:15px; font-family:\"Comic Sans MS\", cursive;'>Beginners BBQ Class at Lonestar Smoke Rangers in Missoula! Do you want to get started on making delicious BBQ?You will have the opportunity, put this on your calendar now. Thursday, September 22nd join World Class BBQ Champion, Tony Balay from Lonestary Smoke Rangers. He will be teaching a beginner level class for everyone who wants to get better with their culinary skills. He is teach you how to make a delicious BBQ and then compete in a KCBS BBQ competition, including techniques, recipes, timelines, meat selection and trimming, plus smoker and fire information. The cost of the class is $35 per person, and for spectators it is free. Included in the cost will be either a t-shirt or apron and you will be tasting samples of each meat that is prepared.</p>"
      ],
      "text/plain": [
       "<IPython.core.display.HTML object>"
      ]
     },
     "metadata": {},
     "output_type": "display_data"
    }
   ],
   "source": [
    "input_ids = tokenizer(input_text, return_tensors=\"pt\").input_ids.to(device)\n",
    "\n",
    "# Get encoder output without noise\n",
    "with torch.no_grad():\n",
    "    encoder_outputs = model.model.encoder(input_ids=input_ids)\n",
    "\n",
    "# Generate output without noise\n",
    "baseline_outputs = model.generate(\n",
    "    input_ids=None,\n",
    "    encoder_outputs=encoder_outputs,\n",
    "    max_length=200,\n",
    "    do_sample=True,\n",
    "    temperature=0.1\n",
    ")\n",
    "baseline_text = tokenizer.decode(baseline_outputs[0], skip_special_tokens=True)\n",
    "\n",
    "# Add noise with a target SNR and generate noisy output\n",
    "target_snr = 10  # Set target SNR\n",
    "noisy_encoder_output = add_noise_with_snr(encoder_outputs.last_hidden_state, target_snr)\n",
    "modified_encoder_outputs = BaseModelOutput(last_hidden_state=noisy_encoder_output)\n",
    "\n",
    "# Generate output with the noisy encoder output\n",
    "noisy_outputs = model.generate(\n",
    "    input_ids=None,\n",
    "    encoder_outputs=modified_encoder_outputs,\n",
    "    max_length=200,\n",
    "    do_sample=True,\n",
    "    temperature=0.1\n",
    ")\n",
    "noisy_text = tokenizer.decode(noisy_outputs[0], skip_special_tokens=True)\n",
    "\n",
    "# Display both outputs\n",
    "print('Original Text:')\n",
    "display(HTML(f\"<p style='font-size:15px; font-family:\\\"Comic Sans MS\\\", cursive;'> {original_text}</p>\"))\n",
    "print('Without Noise:')\n",
    "display(HTML(f\"<p style='font-size:15px; font-family:\\\"Comic Sans MS\\\", cursive;'>{baseline_text}</p>\"))\n",
    "print(f'With Noise (SNR = {target_snr} dB):')\n",
    "display(HTML(f\"<p style='font-size:15px; font-family:\\\"Comic Sans MS\\\", cursive;'>{noisy_text}</p>\"))"
   ]
  },
  {
   "cell_type": "code",
   "execution_count": 68,
   "id": "a438e48a-5dc4-444c-99b3-dd6dd4076428",
   "metadata": {},
   "outputs": [
    {
     "data": {
      "text/plain": [
       "''"
      ]
     },
     "execution_count": 68,
     "metadata": {},
     "output_type": "execute_result"
    }
   ],
   "source": [
    "tokenizer.decode(, skip_special_tokens=True)"
   ]
  },
  {
   "cell_type": "code",
   "execution_count": 63,
   "id": "b0636283-48dd-4fdb-b2c0-d70dfdf655c9",
   "metadata": {},
   "outputs": [
    {
     "data": {
      "text/plain": [
       "torch.Size([4, 168])"
      ]
     },
     "execution_count": 63,
     "metadata": {},
     "output_type": "execute_result"
    }
   ],
   "source": [
    "# baseline_outputs.shape\n",
    "noisy_outputs.shape"
   ]
  },
  {
   "cell_type": "code",
   "execution_count": 64,
   "id": "4fe29e1d-22b6-46f1-b22e-65802f0bf1ec",
   "metadata": {},
   "outputs": [
    {
     "data": {
      "text/plain": [
       "tensor([    2,     0, 48290,  7130, 22658,  4210,    23,   226, 28180,   271,\n",
       "        21389,  5706,    11,  4523,  5156,   102,   328,  1832,    47,   236,\n",
       "            7,   120,   554,    15,   442, 10964, 22658,   116,  1185,    40,\n",
       "           33,     5,   945,     6,   342,    42,    15,   110,  7127,   122,\n",
       "            4,   296,     6,   772,   820,  1187,  1962,   623,  4210, 22658,\n",
       "        10078,     6,  3621,  4317,   857,    31,   226, 28180,  2747, 21389,\n",
       "         5706,     4,    91,    40,    28,  5307,    10, 37239,   672,  1380,\n",
       "           13,   961,    54,  1072,     7,   120,   357,    19,    49, 16820,\n",
       "         2417,     4,    91,    16,  5307,    47,   141,     7,  3886,     8,\n",
       "         3511,    11,    10,   229,  8949, 22658,  1465,     6,   217,  7373,\n",
       "            6, 13204,     6, 31583,     6,  4884,  4230,     8, 10723,  7059,\n",
       "            6,  2704, 40345,     8,   668,   335,     4,    20,   701,     9,\n",
       "            5,  1380,    16,    68,  2022,   228,   621,     6,     8,    13,\n",
       "        17596,    24,    16,   481,     4, 30411,    11,     5,   701,    40,\n",
       "           28,  1169,    10,   326,    12,  8674,    50,    10, 26404,     8,\n",
       "           47,    40,    28, 18469,  7931,     9,   349,  4884,    14,    16,\n",
       "         2460,     4,     2], device='cuda:0')"
      ]
     },
     "execution_count": 64,
     "metadata": {},
     "output_type": "execute_result"
    }
   ],
   "source": [
    "baseline_outputs[0]"
   ]
  },
  {
   "cell_type": "code",
   "execution_count": 65,
   "id": "5255c95f-d7a1-4409-aeed-2ae00caaeefb",
   "metadata": {},
   "outputs": [
    {
     "data": {
      "text/plain": [
       "tensor([    2,     0, 48290,  7130, 22658,  4210,    23,   226, 28180,   271,\n",
       "        21389,  5706,    11,  4523,  5156,   102,   328,  1832,    47,   236,\n",
       "            7,   120,   554,    15,   442, 10964, 22658,   116,  1185,    40,\n",
       "           33,     5,   945,     6,   342,    42,    15,   110,  7127,   122,\n",
       "            4,   296,     6,   772,   820,  1187,  1962,   623,  4210, 22658,\n",
       "        10078,     6,  3621,  4317,   857,    31,   226, 28180,  1766, 21389,\n",
       "         5706,     4,    91,    40,    28,  5307,    10, 37239,   672,  1380,\n",
       "           13,   961,    54,  1072,     7,   120,   357,    19,    49, 16820,\n",
       "         2417,     4,    91,    16,  6396,    47,   141,     7,   146,    10,\n",
       "        10964, 22658,     8,   172,  3511,    11,    10,   229,  8949, 22658,\n",
       "         1465,     6,   217,  7373,     6, 13204,     6, 31583,     6,  4884,\n",
       "         4230,     8, 10723,  7059,     6,  2704, 40345,     8,   668,   335,\n",
       "            4,    20,   701,     9,     5,  1380,    16,    68,  2022,   228,\n",
       "          621,     6,     8,    13, 17596,    24,    16,   481,     4, 30411,\n",
       "           11,     5,   701,    40,    28,  1169,    10,   326,    12,  8674,\n",
       "           50,    10, 26404,     8,    47,    40,    28, 18469,  7931,     9,\n",
       "          349,  4884,    14,    16,  2460,     4,     2,     1],\n",
       "       device='cuda:0')"
      ]
     },
     "execution_count": 65,
     "metadata": {},
     "output_type": "execute_result"
    }
   ],
   "source": [
    "noisy_outputs[0]"
   ]
  },
  {
   "cell_type": "code",
   "execution_count": 67,
   "id": "ac190f5b-3bc3-4dc3-b646-20cc05a8daab",
   "metadata": {},
   "outputs": [
    {
     "data": {
      "text/plain": [
       "np.float64(6.6562130206910536e+16)"
      ]
     },
     "execution_count": 67,
     "metadata": {},
     "output_type": "execute_result"
    }
   ],
   "source": [
    "import torch.nn.functional as F\n",
    "from sklearn.metrics import mean_absolute_percentage_error\n",
    "\n",
    "baseline = baseline_outputs[0].cpu()\n",
    "noisy = noisy_outputs[0].cpu()\n",
    "max_len = max(baseline.size(0), noisy.size(0))\n",
    "baseline_padded = F.pad(baseline, (0, max_len - baseline.size(0)))\n",
    "noisy_padded = F.pad(noisy, (0, max_len - noisy.size(0)))\n",
    "mse = mean_squared_error(baseline_padded, noisy_padded)\n",
    "mse"
   ]
  },
  {
   "cell_type": "code",
   "execution_count": 69,
   "id": "23e9a17e-7630-432b-8aec-9ded32e2f0be",
   "metadata": {},
   "outputs": [
    {
     "data": {
      "text/plain": [
       "tensor([    2,     0, 48290,  7130, 22658,  4210,    23,   226, 28180,   271,\n",
       "        21389,  5706,    11,  4523,  5156,   102,   328,  1832,    47,   236,\n",
       "            7,   120,   554,    15,   442, 10964, 22658,   116,  1185,    40,\n",
       "           33,     5,   945,     6,   342,    42,    15,   110,  7127,   122,\n",
       "            4,   296,     6,   772,   820,  1187,  1962,   623,  4210, 22658,\n",
       "        10078,     6,  3621,  4317,   857,    31,   226, 28180,  2747, 21389,\n",
       "         5706,     4,    91,    40,    28,  5307,    10, 37239,   672,  1380,\n",
       "           13,   961,    54,  1072,     7,   120,   357,    19,    49, 16820,\n",
       "         2417,     4,    91,    16,  5307,    47,   141,     7,  3886,     8,\n",
       "         3511,    11,    10,   229,  8949, 22658,  1465,     6,   217,  7373,\n",
       "            6, 13204,     6, 31583,     6,  4884,  4230,     8, 10723,  7059,\n",
       "            6,  2704, 40345,     8,   668,   335,     4,    20,   701,     9,\n",
       "            5,  1380,    16,    68,  2022,   228,   621,     6,     8,    13,\n",
       "        17596,    24,    16,   481,     4, 30411,    11,     5,   701,    40,\n",
       "           28,  1169,    10,   326,    12,  8674,    50,    10, 26404,     8,\n",
       "           47,    40,    28, 18469,  7931,     9,   349,  4884,    14,    16,\n",
       "         2460,     4,     2,     0,     0,     0,     0,     0])"
      ]
     },
     "execution_count": 69,
     "metadata": {},
     "output_type": "execute_result"
    }
   ],
   "source": [
    "baseline_padded"
   ]
  },
  {
   "cell_type": "code",
   "execution_count": 42,
   "id": "d6db6267-2a3d-414c-be2d-4b771e1abef7",
   "metadata": {},
   "outputs": [
    {
     "data": {
      "text/plain": [
       "torch.Size([163])"
      ]
     },
     "execution_count": 42,
     "metadata": {},
     "output_type": "execute_result"
    }
   ],
   "source": [
    " max_shape"
   ]
  },
  {
   "cell_type": "markdown",
   "id": "93f55d60-ee29-409c-8d38-c3cd7ea83d22",
   "metadata": {},
   "source": [
    "## bart-base seems to be better than bart-large"
   ]
  }
 ],
 "metadata": {
  "kernelspec": {
   "display_name": "Python 3 (ipykernel)",
   "language": "python",
   "name": "python3"
  },
  "language_info": {
   "codemirror_mode": {
    "name": "ipython",
    "version": 3
   },
   "file_extension": ".py",
   "mimetype": "text/x-python",
   "name": "python",
   "nbconvert_exporter": "python",
   "pygments_lexer": "ipython3",
   "version": "3.9.20"
  },
  "widgets": {
   "application/vnd.jupyter.widget-state+json": {
    "state": {
     "0531ca57af734289a695eb74842794cb": {
      "model_module": "@jupyter-widgets/base",
      "model_module_version": "2.0.0",
      "model_name": "LayoutModel",
      "state": {}
     },
     "08b47d1357d847fd83eb51f5b1036090": {
      "model_module": "@jupyter-widgets/base",
      "model_module_version": "2.0.0",
      "model_name": "LayoutModel",
      "state": {}
     },
     "0d963aa24d2b4af6943d7a60f18009a7": {
      "model_module": "@jupyter-widgets/controls",
      "model_module_version": "2.0.0",
      "model_name": "FloatProgressModel",
      "state": {
       "bar_style": "success",
       "layout": "IPY_MODEL_f4b9d173c2c14018b2e519ac58ffcf21",
       "max": 26,
       "style": "IPY_MODEL_253dc6000ebd4db7a0bcae29415df55b",
       "value": 26
      }
     },
     "135757a6749141b883f81fb62c39ac37": {
      "model_module": "@jupyter-widgets/controls",
      "model_module_version": "2.0.0",
      "model_name": "HTMLStyleModel",
      "state": {
       "description_width": "",
       "font_size": null,
       "text_color": null
      }
     },
     "136cda20cd4b454ca90c7564a23680d7": {
      "model_module": "@jupyter-widgets/controls",
      "model_module_version": "2.0.0",
      "model_name": "HTMLStyleModel",
      "state": {
       "description_width": "",
       "font_size": null,
       "text_color": null
      }
     },
     "144b1a7621324a54bd2035bc63f3af46": {
      "model_module": "@jupyter-widgets/base",
      "model_module_version": "2.0.0",
      "model_name": "LayoutModel",
      "state": {}
     },
     "174eccd0b4fb4d54bdc7094f7509aed2": {
      "model_module": "@jupyter-widgets/base",
      "model_module_version": "2.0.0",
      "model_name": "LayoutModel",
      "state": {}
     },
     "1d743f90ac9540fd86cb997814188d34": {
      "model_module": "@jupyter-widgets/controls",
      "model_module_version": "2.0.0",
      "model_name": "HTMLStyleModel",
      "state": {
       "description_width": "",
       "font_size": null,
       "text_color": null
      }
     },
     "2061bc46442f4ee98e53e54749309125": {
      "model_module": "@jupyter-widgets/base",
      "model_module_version": "2.0.0",
      "model_name": "LayoutModel",
      "state": {}
     },
     "253dc6000ebd4db7a0bcae29415df55b": {
      "model_module": "@jupyter-widgets/controls",
      "model_module_version": "2.0.0",
      "model_name": "ProgressStyleModel",
      "state": {
       "description_width": ""
      }
     },
     "256af5997f2042d9b9f44502b86a7787": {
      "model_module": "@jupyter-widgets/controls",
      "model_module_version": "2.0.0",
      "model_name": "HTMLModel",
      "state": {
       "layout": "IPY_MODEL_92ae2d700eac4101a794c143193e9e19",
       "style": "IPY_MODEL_f8718f4a680b4921b15999e263a7da77",
       "value": " 456k/456k [00:00&lt;00:00, 4.11MB/s]"
      }
     },
     "26b198d10f2f4abd82bc49262e428453": {
      "model_module": "@jupyter-widgets/base",
      "model_module_version": "2.0.0",
      "model_name": "LayoutModel",
      "state": {}
     },
     "2acfb121020341f5be85467660e77ec6": {
      "model_module": "@jupyter-widgets/base",
      "model_module_version": "2.0.0",
      "model_name": "LayoutModel",
      "state": {}
     },
     "2b03fda9ce164f80963e7735ae8f1ab7": {
      "model_module": "@jupyter-widgets/controls",
      "model_module_version": "2.0.0",
      "model_name": "FloatProgressModel",
      "state": {
       "bar_style": "success",
       "layout": "IPY_MODEL_144b1a7621324a54bd2035bc63f3af46",
       "max": 898822,
       "style": "IPY_MODEL_fd56e1067dea4897a136125b9048f5d7",
       "value": 898822
      }
     },
     "45a173efc237486ab9ffc9afa251180c": {
      "model_module": "@jupyter-widgets/controls",
      "model_module_version": "2.0.0",
      "model_name": "HTMLModel",
      "state": {
       "layout": "IPY_MODEL_2061bc46442f4ee98e53e54749309125",
       "style": "IPY_MODEL_1d743f90ac9540fd86cb997814188d34",
       "value": " 26.0/26.0 [00:00&lt;00:00, 4.33kB/s]"
      }
     },
     "497104066f934aa9898f34b170e1b98d": {
      "model_module": "@jupyter-widgets/controls",
      "model_module_version": "2.0.0",
      "model_name": "HTMLStyleModel",
      "state": {
       "description_width": "",
       "font_size": null,
       "text_color": null
      }
     },
     "4f7303c7da8d4a6eaaeac080dcd7d402": {
      "model_module": "@jupyter-widgets/controls",
      "model_module_version": "2.0.0",
      "model_name": "HTMLModel",
      "state": {
       "layout": "IPY_MODEL_d3b4a52579da42a2949a221ab8a58b0b",
       "style": "IPY_MODEL_9ebaa683dde945d698cf36754de15bd0",
       "value": "vocab.json: 100%"
      }
     },
     "4fffb39560934445bf060ba7427ef7ed": {
      "model_module": "@jupyter-widgets/controls",
      "model_module_version": "2.0.0",
      "model_name": "HTMLModel",
      "state": {
       "layout": "IPY_MODEL_26b198d10f2f4abd82bc49262e428453",
       "style": "IPY_MODEL_8f48d59c90bf4cefa7a7cf39916dd47f",
       "value": " 1.63k/1.63k [00:00&lt;00:00, 233kB/s]"
      }
     },
     "5e98ea80dc1f4c7d831f332cf652f7a7": {
      "model_module": "@jupyter-widgets/controls",
      "model_module_version": "2.0.0",
      "model_name": "HBoxModel",
      "state": {
       "children": [
        "IPY_MODEL_4f7303c7da8d4a6eaaeac080dcd7d402",
        "IPY_MODEL_2b03fda9ce164f80963e7735ae8f1ab7",
        "IPY_MODEL_b497f932c3c741db9fe939c8784be73d"
       ],
       "layout": "IPY_MODEL_71f4dd65bd0243bcb4fb18e0f1b7e3c3"
      }
     },
     "604a1e6d36014091a79386e113b11999": {
      "model_module": "@jupyter-widgets/controls",
      "model_module_version": "2.0.0",
      "model_name": "HBoxModel",
      "state": {
       "children": [
        "IPY_MODEL_a5c75421861448e7bc0da6fee218ecac",
        "IPY_MODEL_eb11d9fa63374426bb865d32ede7f154",
        "IPY_MODEL_78d980f0f72040c28e590426b51ddee9"
       ],
       "layout": "IPY_MODEL_cdca14017a3845caa57fbe8df0f73caf"
      }
     },
     "652a442fd53a47a6907d2f31c0c246df": {
      "model_module": "@jupyter-widgets/controls",
      "model_module_version": "2.0.0",
      "model_name": "ProgressStyleModel",
      "state": {
       "description_width": ""
      }
     },
     "6eba1ba1f4544a2f813ed8430cecadf0": {
      "model_module": "@jupyter-widgets/base",
      "model_module_version": "2.0.0",
      "model_name": "LayoutModel",
      "state": {}
     },
     "7044727b6b284c7f89fd7fa25950cc1a": {
      "model_module": "@jupyter-widgets/controls",
      "model_module_version": "2.0.0",
      "model_name": "HBoxModel",
      "state": {
       "children": [
        "IPY_MODEL_a12fce9160fa49e7aae05a4c8da21dbe",
        "IPY_MODEL_ee6f94e7b57149a19bab820088c9c433",
        "IPY_MODEL_256af5997f2042d9b9f44502b86a7787"
       ],
       "layout": "IPY_MODEL_2acfb121020341f5be85467660e77ec6"
      }
     },
     "7194dfeb9fb24dcf9d824a32fb5e8060": {
      "model_module": "@jupyter-widgets/controls",
      "model_module_version": "2.0.0",
      "model_name": "HTMLStyleModel",
      "state": {
       "description_width": "",
       "font_size": null,
       "text_color": null
      }
     },
     "71f4dd65bd0243bcb4fb18e0f1b7e3c3": {
      "model_module": "@jupyter-widgets/base",
      "model_module_version": "2.0.0",
      "model_name": "LayoutModel",
      "state": {}
     },
     "72ee63d7c0b64920ba0979792b5b263b": {
      "model_module": "@jupyter-widgets/base",
      "model_module_version": "2.0.0",
      "model_name": "LayoutModel",
      "state": {}
     },
     "750d13f283b2477489bcffd4ecc30be5": {
      "model_module": "@jupyter-widgets/controls",
      "model_module_version": "2.0.0",
      "model_name": "HTMLStyleModel",
      "state": {
       "description_width": "",
       "font_size": null,
       "text_color": null
      }
     },
     "75bee5f5850242d28bc5e5f4a258f5a4": {
      "model_module": "@jupyter-widgets/controls",
      "model_module_version": "2.0.0",
      "model_name": "HTMLModel",
      "state": {
       "layout": "IPY_MODEL_cfd5b379905b478c8072b462560f0042",
       "style": "IPY_MODEL_f735785b779c4d39829af302a43cd490",
       "value": " 1.36M/1.36M [00:00&lt;00:00, 12.3MB/s]"
      }
     },
     "77bbe55f6b034b1d8fdfef2f29f40de8": {
      "model_module": "@jupyter-widgets/controls",
      "model_module_version": "2.0.0",
      "model_name": "HTMLStyleModel",
      "state": {
       "description_width": "",
       "font_size": null,
       "text_color": null
      }
     },
     "78d980f0f72040c28e590426b51ddee9": {
      "model_module": "@jupyter-widgets/controls",
      "model_module_version": "2.0.0",
      "model_name": "HTMLModel",
      "state": {
       "layout": "IPY_MODEL_0531ca57af734289a695eb74842794cb",
       "style": "IPY_MODEL_136cda20cd4b454ca90c7564a23680d7",
       "value": " 1.02G/1.02G [01:19&lt;00:00, 12.6MB/s]"
      }
     },
     "83e654432e424d019891eb4f448c04f0": {
      "model_module": "@jupyter-widgets/controls",
      "model_module_version": "2.0.0",
      "model_name": "FloatProgressModel",
      "state": {
       "bar_style": "success",
       "layout": "IPY_MODEL_6eba1ba1f4544a2f813ed8430cecadf0",
       "max": 1628,
       "style": "IPY_MODEL_d437ed30569e42968b05f62f9f24e4d6",
       "value": 1628
      }
     },
     "86d06a1ec14c48b49b1588fba2eec3e0": {
      "model_module": "@jupyter-widgets/base",
      "model_module_version": "2.0.0",
      "model_name": "LayoutModel",
      "state": {}
     },
     "8f48d59c90bf4cefa7a7cf39916dd47f": {
      "model_module": "@jupyter-widgets/controls",
      "model_module_version": "2.0.0",
      "model_name": "HTMLStyleModel",
      "state": {
       "description_width": "",
       "font_size": null,
       "text_color": null
      }
     },
     "92ae2d700eac4101a794c143193e9e19": {
      "model_module": "@jupyter-widgets/base",
      "model_module_version": "2.0.0",
      "model_name": "LayoutModel",
      "state": {}
     },
     "9c0dd29087c543778a1b159d86f1d73a": {
      "model_module": "@jupyter-widgets/base",
      "model_module_version": "2.0.0",
      "model_name": "LayoutModel",
      "state": {}
     },
     "9d038e000a9f4ca983d706ab139383d1": {
      "model_module": "@jupyter-widgets/controls",
      "model_module_version": "2.0.0",
      "model_name": "HTMLModel",
      "state": {
       "layout": "IPY_MODEL_08b47d1357d847fd83eb51f5b1036090",
       "style": "IPY_MODEL_750d13f283b2477489bcffd4ecc30be5",
       "value": "config.json: 100%"
      }
     },
     "9ebaa683dde945d698cf36754de15bd0": {
      "model_module": "@jupyter-widgets/controls",
      "model_module_version": "2.0.0",
      "model_name": "HTMLStyleModel",
      "state": {
       "description_width": "",
       "font_size": null,
       "text_color": null
      }
     },
     "a12fce9160fa49e7aae05a4c8da21dbe": {
      "model_module": "@jupyter-widgets/controls",
      "model_module_version": "2.0.0",
      "model_name": "HTMLModel",
      "state": {
       "layout": "IPY_MODEL_ac1269dac5664d55aada0111118ff311",
       "style": "IPY_MODEL_cb1c5249e0ac418a8512be93da3df082",
       "value": "merges.txt: 100%"
      }
     },
     "a5c75421861448e7bc0da6fee218ecac": {
      "model_module": "@jupyter-widgets/controls",
      "model_module_version": "2.0.0",
      "model_name": "HTMLModel",
      "state": {
       "layout": "IPY_MODEL_d6b06bb5509846e2913f1599b84e944d",
       "style": "IPY_MODEL_77bbe55f6b034b1d8fdfef2f29f40de8",
       "value": "pytorch_model.bin: 100%"
      }
     },
     "a787de39dd3e43c7b0cab5fdc52337d4": {
      "model_module": "@jupyter-widgets/base",
      "model_module_version": "2.0.0",
      "model_name": "LayoutModel",
      "state": {}
     },
     "ac1269dac5664d55aada0111118ff311": {
      "model_module": "@jupyter-widgets/base",
      "model_module_version": "2.0.0",
      "model_name": "LayoutModel",
      "state": {}
     },
     "b3ffd1233ca842c2b22d25c432db6677": {
      "model_module": "@jupyter-widgets/controls",
      "model_module_version": "2.0.0",
      "model_name": "FloatProgressModel",
      "state": {
       "bar_style": "success",
       "layout": "IPY_MODEL_9c0dd29087c543778a1b159d86f1d73a",
       "max": 1355863,
       "style": "IPY_MODEL_652a442fd53a47a6907d2f31c0c246df",
       "value": 1355863
      }
     },
     "b497f932c3c741db9fe939c8784be73d": {
      "model_module": "@jupyter-widgets/controls",
      "model_module_version": "2.0.0",
      "model_name": "HTMLModel",
      "state": {
       "layout": "IPY_MODEL_ccce465d17844c698373dd546553b318",
       "style": "IPY_MODEL_497104066f934aa9898f34b170e1b98d",
       "value": " 899k/899k [00:00&lt;00:00, 1.77MB/s]"
      }
     },
     "b55b02dbd9bd4d7ab95fdc0605f9c41d": {
      "model_module": "@jupyter-widgets/controls",
      "model_module_version": "2.0.0",
      "model_name": "HBoxModel",
      "state": {
       "children": [
        "IPY_MODEL_b9cb8c7231a24cf1a711527600328e7a",
        "IPY_MODEL_0d963aa24d2b4af6943d7a60f18009a7",
        "IPY_MODEL_45a173efc237486ab9ffc9afa251180c"
       ],
       "layout": "IPY_MODEL_e7f70345e46145a8a8318c287bde319d"
      }
     },
     "b9cb8c7231a24cf1a711527600328e7a": {
      "model_module": "@jupyter-widgets/controls",
      "model_module_version": "2.0.0",
      "model_name": "HTMLModel",
      "state": {
       "layout": "IPY_MODEL_72ee63d7c0b64920ba0979792b5b263b",
       "style": "IPY_MODEL_7194dfeb9fb24dcf9d824a32fb5e8060",
       "value": "tokenizer_config.json: 100%"
      }
     },
     "c484415da4a3472caac0e1cbdec4b78b": {
      "model_module": "@jupyter-widgets/controls",
      "model_module_version": "2.0.0",
      "model_name": "ProgressStyleModel",
      "state": {
       "description_width": ""
      }
     },
     "cb1c5249e0ac418a8512be93da3df082": {
      "model_module": "@jupyter-widgets/controls",
      "model_module_version": "2.0.0",
      "model_name": "HTMLStyleModel",
      "state": {
       "description_width": "",
       "font_size": null,
       "text_color": null
      }
     },
     "ccce465d17844c698373dd546553b318": {
      "model_module": "@jupyter-widgets/base",
      "model_module_version": "2.0.0",
      "model_name": "LayoutModel",
      "state": {}
     },
     "cdca14017a3845caa57fbe8df0f73caf": {
      "model_module": "@jupyter-widgets/base",
      "model_module_version": "2.0.0",
      "model_name": "LayoutModel",
      "state": {}
     },
     "cfd5b379905b478c8072b462560f0042": {
      "model_module": "@jupyter-widgets/base",
      "model_module_version": "2.0.0",
      "model_name": "LayoutModel",
      "state": {}
     },
     "d0bdc11a228b492888f8eb5a2a1ed236": {
      "model_module": "@jupyter-widgets/base",
      "model_module_version": "2.0.0",
      "model_name": "LayoutModel",
      "state": {}
     },
     "d3b4a52579da42a2949a221ab8a58b0b": {
      "model_module": "@jupyter-widgets/base",
      "model_module_version": "2.0.0",
      "model_name": "LayoutModel",
      "state": {}
     },
     "d437ed30569e42968b05f62f9f24e4d6": {
      "model_module": "@jupyter-widgets/controls",
      "model_module_version": "2.0.0",
      "model_name": "ProgressStyleModel",
      "state": {
       "description_width": ""
      }
     },
     "d6b06bb5509846e2913f1599b84e944d": {
      "model_module": "@jupyter-widgets/base",
      "model_module_version": "2.0.0",
      "model_name": "LayoutModel",
      "state": {}
     },
     "d983ff83c51d4b6c90c95fd333f3302e": {
      "model_module": "@jupyter-widgets/controls",
      "model_module_version": "2.0.0",
      "model_name": "HTMLModel",
      "state": {
       "layout": "IPY_MODEL_174eccd0b4fb4d54bdc7094f7509aed2",
       "style": "IPY_MODEL_135757a6749141b883f81fb62c39ac37",
       "value": "tokenizer.json: 100%"
      }
     },
     "dd22f2a9fec04a1b8b9a93c385a3d7b0": {
      "model_module": "@jupyter-widgets/controls",
      "model_module_version": "2.0.0",
      "model_name": "HBoxModel",
      "state": {
       "children": [
        "IPY_MODEL_d983ff83c51d4b6c90c95fd333f3302e",
        "IPY_MODEL_b3ffd1233ca842c2b22d25c432db6677",
        "IPY_MODEL_75bee5f5850242d28bc5e5f4a258f5a4"
       ],
       "layout": "IPY_MODEL_f1358893f4564db59f51140bb82db860"
      }
     },
     "dd5a6b2832344f32a01f1853b3e654d7": {
      "model_module": "@jupyter-widgets/controls",
      "model_module_version": "2.0.0",
      "model_name": "HBoxModel",
      "state": {
       "children": [
        "IPY_MODEL_9d038e000a9f4ca983d706ab139383d1",
        "IPY_MODEL_83e654432e424d019891eb4f448c04f0",
        "IPY_MODEL_4fffb39560934445bf060ba7427ef7ed"
       ],
       "layout": "IPY_MODEL_86d06a1ec14c48b49b1588fba2eec3e0"
      }
     },
     "e7f70345e46145a8a8318c287bde319d": {
      "model_module": "@jupyter-widgets/base",
      "model_module_version": "2.0.0",
      "model_name": "LayoutModel",
      "state": {}
     },
     "e9b562c029a844efbfd49453020c16c6": {
      "model_module": "@jupyter-widgets/controls",
      "model_module_version": "2.0.0",
      "model_name": "ProgressStyleModel",
      "state": {
       "description_width": ""
      }
     },
     "eb11d9fa63374426bb865d32ede7f154": {
      "model_module": "@jupyter-widgets/controls",
      "model_module_version": "2.0.0",
      "model_name": "FloatProgressModel",
      "state": {
       "bar_style": "success",
       "layout": "IPY_MODEL_a787de39dd3e43c7b0cab5fdc52337d4",
       "max": 1018571383,
       "style": "IPY_MODEL_c484415da4a3472caac0e1cbdec4b78b",
       "value": 1018571383
      }
     },
     "ee6f94e7b57149a19bab820088c9c433": {
      "model_module": "@jupyter-widgets/controls",
      "model_module_version": "2.0.0",
      "model_name": "FloatProgressModel",
      "state": {
       "bar_style": "success",
       "layout": "IPY_MODEL_d0bdc11a228b492888f8eb5a2a1ed236",
       "max": 456318,
       "style": "IPY_MODEL_e9b562c029a844efbfd49453020c16c6",
       "value": 456318
      }
     },
     "f1358893f4564db59f51140bb82db860": {
      "model_module": "@jupyter-widgets/base",
      "model_module_version": "2.0.0",
      "model_name": "LayoutModel",
      "state": {}
     },
     "f4b9d173c2c14018b2e519ac58ffcf21": {
      "model_module": "@jupyter-widgets/base",
      "model_module_version": "2.0.0",
      "model_name": "LayoutModel",
      "state": {}
     },
     "f735785b779c4d39829af302a43cd490": {
      "model_module": "@jupyter-widgets/controls",
      "model_module_version": "2.0.0",
      "model_name": "HTMLStyleModel",
      "state": {
       "description_width": "",
       "font_size": null,
       "text_color": null
      }
     },
     "f8718f4a680b4921b15999e263a7da77": {
      "model_module": "@jupyter-widgets/controls",
      "model_module_version": "2.0.0",
      "model_name": "HTMLStyleModel",
      "state": {
       "description_width": "",
       "font_size": null,
       "text_color": null
      }
     },
     "fd56e1067dea4897a136125b9048f5d7": {
      "model_module": "@jupyter-widgets/controls",
      "model_module_version": "2.0.0",
      "model_name": "ProgressStyleModel",
      "state": {
       "description_width": ""
      }
     }
    },
    "version_major": 2,
    "version_minor": 0
   }
  }
 },
 "nbformat": 4,
 "nbformat_minor": 5
}
