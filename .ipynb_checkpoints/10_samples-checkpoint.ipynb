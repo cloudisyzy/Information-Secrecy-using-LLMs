{
 "cells": [
  {
   "cell_type": "markdown",
   "id": "b51d19bc-5cdb-4d61-a831-149ff23dda58",
   "metadata": {},
   "source": [
    "## Import Libraries"
   ]
  },
  {
   "cell_type": "code",
   "execution_count": 1,
   "id": "2a2d7f97-3409-4db2-8b0c-63f60e5bdb94",
   "metadata": {},
   "outputs": [],
   "source": [
    "# for first LLM\n",
    "from transformers import BartTokenizer, BartForConditionalGeneration\n",
    "from transformers.modeling_outputs import BaseModelOutput\n",
    "\n",
    "# for second\n",
    "from transformers import pipeline, T5ForConditionalGeneration, T5Tokenizer\n",
    "\n",
    "from IPython.display import display, HTML\n",
    "import torch\n",
    "from tqdm.notebook import tqdm"
   ]
  },
  {
   "cell_type": "markdown",
   "id": "28daa6cc-0262-4883-bcc5-b814094deee5",
   "metadata": {},
   "source": [
    "## Choose Device (GPU / CPU)"
   ]
  },
  {
   "cell_type": "code",
   "execution_count": 2,
   "id": "848e40a3-465b-4b80-97a5-bbf5d7ec9302",
   "metadata": {},
   "outputs": [],
   "source": [
    "# Automatically choose (prefer NVIDIA GPU)\n",
    "device = torch.device(\"cuda\" if torch.cuda.is_available() else \"cpu\")\n",
    "\n",
    "# # OR choose device manually, be sure to comment other codes relevant to `device`\n",
    "# device = torch.device(\"cuda\")\n",
    "# device = torch.device(\"cpu\")"
   ]
  },
  {
   "cell_type": "markdown",
   "id": "5407a986-60e0-40da-8012-69cfb9daa8ef",
   "metadata": {},
   "source": [
    "## Load BART model and tokenizer, Load summarizer and tokenizer"
   ]
  },
  {
   "cell_type": "code",
   "execution_count": 3,
   "id": "f85eeac8-f09a-40e8-b962-00bbb37029a7",
   "metadata": {},
   "outputs": [
    {
     "name": "stderr",
     "output_type": "stream",
     "text": [
      "You are using the default legacy behaviour of the <class 'transformers.models.t5.tokenization_t5.T5Tokenizer'>. This is expected, and simply means that the `legacy` (previous) behavior will be used so nothing changes for you. If you want to use the new behaviour, set `legacy=False`. This should only be set if you understand what it means, and thoroughly read the reason why this was added as explained in https://github.com/huggingface/transformers/pull/24565\n"
     ]
    }
   ],
   "source": [
    "# Specify model name\n",
    "model_name = \"facebook/bart-base\"\n",
    "# model_name = \"facebook/bart-large\" # Recommend this one if your computer is okay with larger models\n",
    "\n",
    "tokenizer_bart = BartTokenizer.from_pretrained(model_name)\n",
    "model = BartForConditionalGeneration.from_pretrained(model_name).to(device)\n",
    "\n",
    "# Specify model name\n",
    "summarizer_name = \"Falconsai/text_summarization\"\n",
    "\n",
    "tokenizer_sum = T5Tokenizer.from_pretrained(summarizer_name)\n",
    "summarizer = T5ForConditionalGeneration.from_pretrained(summarizer_name).to(device)"
   ]
  },
  {
   "cell_type": "markdown",
   "id": "f0a9d40d-867c-4d40-98c6-01ce5cbb4ee6",
   "metadata": {},
   "source": [
    "## A function adding AWGN noise to latent representation"
   ]
  },
  {
   "cell_type": "code",
   "execution_count": 4,
   "id": "c51e5db1-20a2-402f-8970-412c1adcc724",
   "metadata": {},
   "outputs": [],
   "source": [
    "def add_noise_with_snr(encoder_output, target_snr_db):\n",
    "    \"\"\"\n",
    "    Add noise to the encoder output based on a target SNR in dB.\n",
    "    \n",
    "    Parameters:\n",
    "    - encoder_output: torch.Tensor, the encoder's output (last_hidden_state).\n",
    "    - target_snr_db: float, the desired signal-to-noise ratio in dB.\n",
    "    \n",
    "    Returns:\n",
    "    - noisy_encoder_output: torch.Tensor, encoder output with added noise.\n",
    "    \"\"\"\n",
    "    # Convert SNR from dB to linear scale\n",
    "    target_snr_linear = 10 ** (target_snr_db / 10)\n",
    "    \n",
    "    # Calculate power of the signal\n",
    "    signal_power = torch.mean(encoder_output ** 2)\n",
    "    \n",
    "    # Calculate required noise power for the target SNR\n",
    "    noise_power = signal_power / target_snr_linear\n",
    "    noise = torch.randn_like(encoder_output) * torch.sqrt(noise_power)\n",
    "    \n",
    "    # Add noise to the encoder output\n",
    "    noisy_encoder_output = encoder_output + noise\n",
    "    return noisy_encoder_output"
   ]
  },
  {
   "cell_type": "markdown",
   "id": "1768716f",
   "metadata": {},
   "source": [
    "## A function randomly masking words"
   ]
  },
  {
   "cell_type": "code",
   "execution_count": 5,
   "id": "66c706a5",
   "metadata": {},
   "outputs": [],
   "source": [
    "import random\n",
    "import numpy as np\n",
    "\n",
    "def masking(input_text, prob):\n",
    "    '''\n",
    "    Substitutes word with <mask> according to Bernoull-distribution.\n",
    "    \n",
    "    Parameters:\n",
    "    - input_text: text to be masked partly\n",
    "    - prob: probability that each word is replaced by a mask\n",
    "    \n",
    "    Returns:\n",
    "    - masked_text: masked version of input_text\n",
    "    '''\n",
    "    \n",
    "    words = input_text.split()  # Split text into words\n",
    "    masked_words = [\"<mask>\" if random.random() < prob else word for word in words]\n",
    "    \n",
    "    masked_text = \" \".join(masked_words)\n",
    "    return masked_text"
   ]
  },
  {
   "cell_type": "markdown",
   "id": "5170be3e",
   "metadata": {},
   "source": [
    "### A function to extract hidden states"
   ]
  },
  {
   "cell_type": "code",
   "execution_count": 6,
   "id": "cd0c4d86",
   "metadata": {},
   "outputs": [],
   "source": [
    "def extract_hidden_states(decoder_hidden_states: tuple):\n",
    "    \"\"\"\n",
    "    Extract the hidden states of last layer in decoder block\n",
    "    \"\"\"\n",
    "    last_column = [row[-1] for row in decoder_hidden_states]\n",
    "    last_layer_hs = torch.stack(last_column).squeeze()  \n",
    "\n",
    "    return last_layer_hs"
   ]
  },
  {
   "cell_type": "markdown",
   "id": "514f7b93",
   "metadata": {},
   "source": [
    "## A function to align two tensors"
   ]
  },
  {
   "cell_type": "code",
   "execution_count": 7,
   "id": "3aa74f1c",
   "metadata": {},
   "outputs": [],
   "source": [
    "def align_tensors(tensor_a, tensor_b):\n",
    "    \"\"\"\n",
    "    Aligns two tensors along the first dimension by padding.\n",
    "\n",
    "    Args:\n",
    "        tensor_a (torch.Tensor): The first tensor.\n",
    "        tensor_b (torch.Tensor): The second tensor.\n",
    "\n",
    "    Returns:\n",
    "        Tuple[torch.Tensor, torch.Tensor]: The two tensors aligned along the first dimension.\n",
    "    \"\"\"\n",
    "    # Get the first dimension sizes\n",
    "    m, n = tensor_a.size(0), tensor_b.size(0)\n",
    "    # Pad to the maximum length along the first dimension\n",
    "    max_rows = max(m, n)\n",
    "    if m < max_rows:\n",
    "        padding = torch.zeros((max_rows - m, *tensor_a.shape[1:]), device=tensor_a.device)\n",
    "        tensor_a = torch.cat([tensor_a, padding], dim=0)\n",
    "    if n < max_rows:\n",
    "        padding = torch.zeros((max_rows - n, *tensor_b.shape[1:]), device=tensor_b.device)\n",
    "        tensor_b = torch.cat([tensor_b, padding], dim=0)\n",
    "\n",
    "    return tensor_a, tensor_b"
   ]
  },
  {
   "cell_type": "markdown",
   "id": "0b181f1e",
   "metadata": {},
   "source": [
    "## Introduction of metrics"
   ]
  },
  {
   "cell_type": "markdown",
   "id": "d64b2c41",
   "metadata": {},
   "source": [
    "### Cosine similarity"
   ]
  },
  {
   "cell_type": "code",
   "execution_count": 8,
   "id": "341f3794",
   "metadata": {},
   "outputs": [],
   "source": [
    "import torch.nn.functional as F\n",
    "import matplotlib.pyplot as plt"
   ]
  },
  {
   "cell_type": "markdown",
   "id": "dd68c14c",
   "metadata": {},
   "source": [
    "### Mutual information"
   ]
  },
  {
   "cell_type": "code",
   "execution_count": 9,
   "id": "de8e49fd",
   "metadata": {},
   "outputs": [],
   "source": [
    "# using NPEET (referenced in MI paper) to calculate MI\n",
    "import entropy_estimators as ee\n",
    "import numpy as np"
   ]
  },
  {
   "cell_type": "code",
   "execution_count": 10,
   "id": "b9b506f3",
   "metadata": {},
   "outputs": [],
   "source": [
    "#This function is taken from the github of mutual information paper\n",
    "\n",
    "def ksg(x, y, k=3):\n",
    "    \"\"\"\n",
    "    Kraskov–Stogbauer–Grassberger (KSG) estimator of mutual information between two sentences represented as word embedding matrices x and y\n",
    "    :param x: list of word embeddings for the first sentence\n",
    "    :param y: list of word embeddings for the second sentence\n",
    "    :return: KSG similarity measure between the two sentences\n",
    "    \"\"\"\n",
    "\n",
    "    return ee.mi(x.T, y.T,k=3, base=np.e)"
   ]
  },
  {
   "cell_type": "markdown",
   "id": "36e9e65a-369d-4756-8a0f-de2697a24ec0",
   "metadata": {},
   "source": [
    "## `Fill in the blank` task\n",
    "\n",
    "`original_text` contains the complete text <br>\n",
    "`input_text_ls` contains the masked texts"
   ]
  },
  {
   "cell_type": "code",
   "execution_count": 11,
   "id": "b0e9cbd8-7d87-454a-a185-f996aea851a2",
   "metadata": {},
   "outputs": [
    {
     "data": {
      "application/vnd.jupyter.widget-view+json": {
       "model_id": "d5bc1f5492f24f83a10bd78ef9ca5f16",
       "version_major": 2,
       "version_minor": 0
      },
      "text/plain": [
       "  0%|          | 0/10 [00:00<?, ?it/s]"
      ]
     },
     "metadata": {},
     "output_type": "display_data"
    }
   ],
   "source": [
    "original_text = \"\"\"\n",
    "Beginners BBQ Class Taking Place in Missoula! \n",
    "Do you want to get better at making delicious BBQ?\n",
    "You will have the opportunity, put this on your calendar now. \n",
    "Thursday, September 22nd join World Class BBQ Champion, Tony Balay from Lonestar Smoke Rangers. \n",
    "He will be teaching a beginner level class for everyone who wants to get better with their culinary skills. \n",
    "He will teach you everything you need to know to compete in a KCBS BBQ competition, including techniques, recipes, timelines, meat selection and trimming, plus smoker and fire information. \n",
    "The cost to be in the class is $35 per person, and for spectators it is free. \n",
    "Included in the cost will be either a t-shirt or apron and you will be tasting samples of each meat that is prepared.\n",
    "\"\"\".replace(\"\\n\", \"\")\n",
    "\n",
    "input_text_ls = []\n",
    "nr_rounds = 10\n",
    "\n",
    "for _ in tqdm(range(nr_rounds)):\n",
    "    input_text_ls.append(masking(original_text, 4/130))\n"
   ]
  },
  {
   "cell_type": "markdown",
   "id": "3f521552",
   "metadata": {},
   "source": [
    "## Original"
   ]
  },
  {
   "cell_type": "code",
   "execution_count": 12,
   "id": "ba64a821",
   "metadata": {},
   "outputs": [],
   "source": [
    "original_ids = tokenizer_sum(original_text, return_tensors=\"pt\").input_ids.to(device)\n",
    "\n",
    "with torch.no_grad():\n",
    "    original_encoder_outputs = summarizer.encoder(input_ids=original_ids)\n",
    "    \n",
    "original_sum_output = summarizer.generate(input_ids=None, encoder_outputs=original_encoder_outputs, max_length=70, output_hidden_states=True,\n",
    "                                          return_dict_in_generate=True, do_sample=True, temperature=0.1)\n",
    "original_summary = tokenizer_sum.decode(original_sum_output.sequences[0], skip_special_tokens=True)\n",
    "\n",
    "em_original_summary = extract_hidden_states(original_sum_output.decoder_hidden_states)"
   ]
  },
  {
   "cell_type": "markdown",
   "id": "6f564705-e573-4b22-84ef-5ad1cc7f388b",
   "metadata": {},
   "source": [
    "## Baseline"
   ]
  },
  {
   "cell_type": "code",
   "execution_count": 13,
   "id": "926fccb3-486f-4a8d-b1fe-96b2f7db1ef1",
   "metadata": {},
   "outputs": [
    {
     "data": {
      "application/vnd.jupyter.widget-view+json": {
       "model_id": "6912d3708d434f6b8168ea1639f66f53",
       "version_major": 2,
       "version_minor": 0
      },
      "text/plain": [
       "  0%|          | 0/10 [00:00<?, ?it/s]"
      ]
     },
     "metadata": {},
     "output_type": "display_data"
    }
   ],
   "source": [
    "em_baseline_summary = []\n",
    "\n",
    "for i in tqdm(range(nr_rounds)):\n",
    "    input_ids = tokenizer_bart(input_text_ls[i], return_tensors=\"pt\").input_ids.to(device)\n",
    "\n",
    "    with torch.no_grad():\n",
    "        encoder_outputs = model.model.encoder(input_ids=input_ids)\n",
    "        \n",
    "    # first LLM\n",
    "    baseline_outputs = model.generate(input_ids=None, encoder_outputs=encoder_outputs, max_length=300, min_length=100, \n",
    "                                      num_beams=5, early_stopping=True)\n",
    "    baseline_text = tokenizer_bart.decode(baseline_outputs[0], skip_special_tokens=True)\n",
    "   \n",
    "    \n",
    "    baseline_ids = tokenizer_sum(baseline_text, return_tensors=\"pt\").input_ids.to(device)\n",
    "    with torch.no_grad():\n",
    "        baseline_encoder_outputs = summarizer.encoder(input_ids=baseline_ids)\n",
    "        \n",
    "    baseline_sum_output = summarizer.generate(input_ids=None, encoder_outputs=baseline_encoder_outputs, max_length=70, output_hidden_states=True,\n",
    "                                            return_dict_in_generate=True, do_sample=True, temperature=0.1)\n",
    "    baseline_summary = tokenizer_sum.decode(baseline_sum_output.sequences[0], skip_special_tokens=True)\n",
    "    em_baseline_summary.append(extract_hidden_states(baseline_sum_output.decoder_hidden_states))\n",
    "    \n",
    "\n",
    "    "
   ]
  },
  {
   "cell_type": "markdown",
   "id": "be998639",
   "metadata": {},
   "source": [
    "## Noisy"
   ]
  },
  {
   "cell_type": "code",
   "execution_count": 32,
   "id": "6847147e",
   "metadata": {},
   "outputs": [
    {
     "data": {
      "application/vnd.jupyter.widget-view+json": {
       "model_id": "f5c37720474c4a028059631b1278ac0c",
       "version_major": 2,
       "version_minor": 0
      },
      "text/plain": [
       "  0%|          | 0/21 [00:00<?, ?it/s]"
      ]
     },
     "metadata": {},
     "output_type": "display_data"
    },
    {
     "data": {
      "application/vnd.jupyter.widget-view+json": {
       "model_id": "c2e44525accf47e4b98f9402b525d006",
       "version_major": 2,
       "version_minor": 0
      },
      "text/plain": [
       "  0%|          | 0/10 [00:00<?, ?it/s]"
      ]
     },
     "metadata": {},
     "output_type": "display_data"
    },
    {
     "name": "stdout",
     "output_type": "stream",
     "text": [
      "0.1723625361919403\n",
      "0.19851958751678467\n",
      "0.15433356165885925\n",
      "0.154017373919487\n"
     ]
    },
    {
     "ename": "KeyboardInterrupt",
     "evalue": "",
     "output_type": "error",
     "traceback": [
      "\u001b[1;31m---------------------------------------------------------------------------\u001b[0m",
      "\u001b[1;31mKeyboardInterrupt\u001b[0m                         Traceback (most recent call last)",
      "Cell \u001b[1;32mIn[32], line 21\u001b[0m\n\u001b[0;32m     18\u001b[0m modified_encoder_outputs \u001b[38;5;241m=\u001b[39m BaseModelOutput(last_hidden_state\u001b[38;5;241m=\u001b[39mnoisy_encoder_output)\n\u001b[0;32m     20\u001b[0m \u001b[38;5;66;03m# first LLM\u001b[39;00m\n\u001b[1;32m---> 21\u001b[0m noisy_outputs \u001b[38;5;241m=\u001b[39m \u001b[43mmodel\u001b[49m\u001b[38;5;241;43m.\u001b[39;49m\u001b[43mgenerate\u001b[49m\u001b[43m(\u001b[49m\u001b[43minput_ids\u001b[49m\u001b[38;5;241;43m=\u001b[39;49m\u001b[38;5;28;43;01mNone\u001b[39;49;00m\u001b[43m,\u001b[49m\u001b[43m \u001b[49m\u001b[43mencoder_outputs\u001b[49m\u001b[38;5;241;43m=\u001b[39;49m\u001b[43mmodified_encoder_outputs\u001b[49m\u001b[43m,\u001b[49m\u001b[43m \u001b[49m\u001b[43mmax_length\u001b[49m\u001b[38;5;241;43m=\u001b[39;49m\u001b[38;5;241;43m300\u001b[39;49m\u001b[43m,\u001b[49m\u001b[43m \u001b[49m\u001b[43mmin_length\u001b[49m\u001b[38;5;241;43m=\u001b[39;49m\u001b[38;5;241;43m100\u001b[39;49m\u001b[43m,\u001b[49m\u001b[43m \u001b[49m\n\u001b[0;32m     22\u001b[0m \u001b[43m                              \u001b[49m\u001b[43mnum_beams\u001b[49m\u001b[38;5;241;43m=\u001b[39;49m\u001b[38;5;241;43m5\u001b[39;49m\u001b[43m,\u001b[49m\u001b[43m \u001b[49m\u001b[43mearly_stopping\u001b[49m\u001b[38;5;241;43m=\u001b[39;49m\u001b[38;5;28;43;01mTrue\u001b[39;49;00m\u001b[43m)\u001b[49m\n\u001b[0;32m     23\u001b[0m noisy_text \u001b[38;5;241m=\u001b[39m tokenizer_bart\u001b[38;5;241m.\u001b[39mdecode(noisy_outputs[\u001b[38;5;241m0\u001b[39m], skip_special_tokens\u001b[38;5;241m=\u001b[39m\u001b[38;5;28;01mTrue\u001b[39;00m)\n\u001b[0;32m     24\u001b[0m \u001b[38;5;66;03m# print(noisy_text)\u001b[39;00m\n\u001b[0;32m     25\u001b[0m \n\u001b[0;32m     26\u001b[0m \u001b[38;5;66;03m# second LLM\u001b[39;00m\n",
      "File \u001b[1;32mD:\\Anaconda\\envs\\llm\\lib\\site-packages\\torch\\utils\\_contextlib.py:116\u001b[0m, in \u001b[0;36mcontext_decorator.<locals>.decorate_context\u001b[1;34m(*args, **kwargs)\u001b[0m\n\u001b[0;32m    113\u001b[0m \u001b[38;5;129m@functools\u001b[39m\u001b[38;5;241m.\u001b[39mwraps(func)\n\u001b[0;32m    114\u001b[0m \u001b[38;5;28;01mdef\u001b[39;00m \u001b[38;5;21mdecorate_context\u001b[39m(\u001b[38;5;241m*\u001b[39margs, \u001b[38;5;241m*\u001b[39m\u001b[38;5;241m*\u001b[39mkwargs):\n\u001b[0;32m    115\u001b[0m     \u001b[38;5;28;01mwith\u001b[39;00m ctx_factory():\n\u001b[1;32m--> 116\u001b[0m         \u001b[38;5;28;01mreturn\u001b[39;00m func(\u001b[38;5;241m*\u001b[39margs, \u001b[38;5;241m*\u001b[39m\u001b[38;5;241m*\u001b[39mkwargs)\n",
      "File \u001b[1;32mD:\\Anaconda\\envs\\llm\\lib\\site-packages\\transformers\\generation\\utils.py:2078\u001b[0m, in \u001b[0;36mGenerationMixin.generate\u001b[1;34m(self, inputs, generation_config, logits_processor, stopping_criteria, prefix_allowed_tokens_fn, synced_gpus, assistant_model, streamer, negative_prompt_ids, negative_prompt_attention_mask, **kwargs)\u001b[0m\n\u001b[0;32m   2070\u001b[0m     input_ids, model_kwargs \u001b[38;5;241m=\u001b[39m \u001b[38;5;28mself\u001b[39m\u001b[38;5;241m.\u001b[39m_expand_inputs_for_generation(\n\u001b[0;32m   2071\u001b[0m         input_ids\u001b[38;5;241m=\u001b[39minput_ids,\n\u001b[0;32m   2072\u001b[0m         expand_size\u001b[38;5;241m=\u001b[39mgeneration_config\u001b[38;5;241m.\u001b[39mnum_beams,\n\u001b[0;32m   2073\u001b[0m         is_encoder_decoder\u001b[38;5;241m=\u001b[39m\u001b[38;5;28mself\u001b[39m\u001b[38;5;241m.\u001b[39mconfig\u001b[38;5;241m.\u001b[39mis_encoder_decoder,\n\u001b[0;32m   2074\u001b[0m         \u001b[38;5;241m*\u001b[39m\u001b[38;5;241m*\u001b[39mmodel_kwargs,\n\u001b[0;32m   2075\u001b[0m     )\n\u001b[0;32m   2077\u001b[0m     \u001b[38;5;66;03m# 13. run beam sample\u001b[39;00m\n\u001b[1;32m-> 2078\u001b[0m     result \u001b[38;5;241m=\u001b[39m \u001b[38;5;28mself\u001b[39m\u001b[38;5;241m.\u001b[39m_beam_search(\n\u001b[0;32m   2079\u001b[0m         input_ids,\n\u001b[0;32m   2080\u001b[0m         beam_scorer,\n\u001b[0;32m   2081\u001b[0m         logits_processor\u001b[38;5;241m=\u001b[39mprepared_logits_processor,\n\u001b[0;32m   2082\u001b[0m         stopping_criteria\u001b[38;5;241m=\u001b[39mprepared_stopping_criteria,\n\u001b[0;32m   2083\u001b[0m         generation_config\u001b[38;5;241m=\u001b[39mgeneration_config,\n\u001b[0;32m   2084\u001b[0m         synced_gpus\u001b[38;5;241m=\u001b[39msynced_gpus,\n\u001b[0;32m   2085\u001b[0m         \u001b[38;5;241m*\u001b[39m\u001b[38;5;241m*\u001b[39mmodel_kwargs,\n\u001b[0;32m   2086\u001b[0m     )\n\u001b[0;32m   2088\u001b[0m \u001b[38;5;28;01melif\u001b[39;00m generation_mode \u001b[38;5;241m==\u001b[39m GenerationMode\u001b[38;5;241m.\u001b[39mGROUP_BEAM_SEARCH:\n\u001b[0;32m   2089\u001b[0m     \u001b[38;5;66;03m# 11. prepare beam search scorer\u001b[39;00m\n\u001b[0;32m   2090\u001b[0m     beam_scorer \u001b[38;5;241m=\u001b[39m BeamSearchScorer(\n\u001b[0;32m   2091\u001b[0m         batch_size\u001b[38;5;241m=\u001b[39mbatch_size,\n\u001b[0;32m   2092\u001b[0m         num_beams\u001b[38;5;241m=\u001b[39mgeneration_config\u001b[38;5;241m.\u001b[39mnum_beams,\n\u001b[1;32m   (...)\u001b[0m\n\u001b[0;32m   2098\u001b[0m         max_length\u001b[38;5;241m=\u001b[39mgeneration_config\u001b[38;5;241m.\u001b[39mmax_length,\n\u001b[0;32m   2099\u001b[0m     )\n",
      "File \u001b[1;32mD:\\Anaconda\\envs\\llm\\lib\\site-packages\\transformers\\generation\\utils.py:3253\u001b[0m, in \u001b[0;36mGenerationMixin._beam_search\u001b[1;34m(self, input_ids, beam_scorer, logits_processor, stopping_criteria, generation_config, synced_gpus, **model_kwargs)\u001b[0m\n\u001b[0;32m   3250\u001b[0m     outputs \u001b[38;5;241m=\u001b[39m stack_model_outputs(outputs_per_sub_batch, \u001b[38;5;28mself\u001b[39m\u001b[38;5;241m.\u001b[39mconfig\u001b[38;5;241m.\u001b[39mget_text_config())\n\u001b[0;32m   3252\u001b[0m \u001b[38;5;28;01melse\u001b[39;00m:  \u001b[38;5;66;03m# Unchanged original behavior\u001b[39;00m\n\u001b[1;32m-> 3253\u001b[0m     outputs \u001b[38;5;241m=\u001b[39m \u001b[38;5;28mself\u001b[39m(\u001b[38;5;241m*\u001b[39m\u001b[38;5;241m*\u001b[39mmodel_inputs, return_dict\u001b[38;5;241m=\u001b[39m\u001b[38;5;28;01mTrue\u001b[39;00m)\n\u001b[0;32m   3255\u001b[0m \u001b[38;5;28;01mif\u001b[39;00m synced_gpus \u001b[38;5;129;01mand\u001b[39;00m this_peer_finished:\n\u001b[0;32m   3256\u001b[0m     cur_len \u001b[38;5;241m=\u001b[39m cur_len \u001b[38;5;241m+\u001b[39m \u001b[38;5;241m1\u001b[39m\n",
      "File \u001b[1;32mD:\\Anaconda\\envs\\llm\\lib\\site-packages\\torch\\nn\\modules\\module.py:1736\u001b[0m, in \u001b[0;36mModule._wrapped_call_impl\u001b[1;34m(self, *args, **kwargs)\u001b[0m\n\u001b[0;32m   1734\u001b[0m     \u001b[38;5;28;01mreturn\u001b[39;00m \u001b[38;5;28mself\u001b[39m\u001b[38;5;241m.\u001b[39m_compiled_call_impl(\u001b[38;5;241m*\u001b[39margs, \u001b[38;5;241m*\u001b[39m\u001b[38;5;241m*\u001b[39mkwargs)  \u001b[38;5;66;03m# type: ignore[misc]\u001b[39;00m\n\u001b[0;32m   1735\u001b[0m \u001b[38;5;28;01melse\u001b[39;00m:\n\u001b[1;32m-> 1736\u001b[0m     \u001b[38;5;28;01mreturn\u001b[39;00m \u001b[38;5;28mself\u001b[39m\u001b[38;5;241m.\u001b[39m_call_impl(\u001b[38;5;241m*\u001b[39margs, \u001b[38;5;241m*\u001b[39m\u001b[38;5;241m*\u001b[39mkwargs)\n",
      "File \u001b[1;32mD:\\Anaconda\\envs\\llm\\lib\\site-packages\\torch\\nn\\modules\\module.py:1747\u001b[0m, in \u001b[0;36mModule._call_impl\u001b[1;34m(self, *args, **kwargs)\u001b[0m\n\u001b[0;32m   1742\u001b[0m \u001b[38;5;66;03m# If we don't have any hooks, we want to skip the rest of the logic in\u001b[39;00m\n\u001b[0;32m   1743\u001b[0m \u001b[38;5;66;03m# this function, and just call forward.\u001b[39;00m\n\u001b[0;32m   1744\u001b[0m \u001b[38;5;28;01mif\u001b[39;00m \u001b[38;5;129;01mnot\u001b[39;00m (\u001b[38;5;28mself\u001b[39m\u001b[38;5;241m.\u001b[39m_backward_hooks \u001b[38;5;129;01mor\u001b[39;00m \u001b[38;5;28mself\u001b[39m\u001b[38;5;241m.\u001b[39m_backward_pre_hooks \u001b[38;5;129;01mor\u001b[39;00m \u001b[38;5;28mself\u001b[39m\u001b[38;5;241m.\u001b[39m_forward_hooks \u001b[38;5;129;01mor\u001b[39;00m \u001b[38;5;28mself\u001b[39m\u001b[38;5;241m.\u001b[39m_forward_pre_hooks\n\u001b[0;32m   1745\u001b[0m         \u001b[38;5;129;01mor\u001b[39;00m _global_backward_pre_hooks \u001b[38;5;129;01mor\u001b[39;00m _global_backward_hooks\n\u001b[0;32m   1746\u001b[0m         \u001b[38;5;129;01mor\u001b[39;00m _global_forward_hooks \u001b[38;5;129;01mor\u001b[39;00m _global_forward_pre_hooks):\n\u001b[1;32m-> 1747\u001b[0m     \u001b[38;5;28;01mreturn\u001b[39;00m forward_call(\u001b[38;5;241m*\u001b[39margs, \u001b[38;5;241m*\u001b[39m\u001b[38;5;241m*\u001b[39mkwargs)\n\u001b[0;32m   1749\u001b[0m result \u001b[38;5;241m=\u001b[39m \u001b[38;5;28;01mNone\u001b[39;00m\n\u001b[0;32m   1750\u001b[0m called_always_called_hooks \u001b[38;5;241m=\u001b[39m \u001b[38;5;28mset\u001b[39m()\n",
      "File \u001b[1;32mD:\\Anaconda\\envs\\llm\\lib\\site-packages\\transformers\\models\\bart\\modeling_bart.py:1642\u001b[0m, in \u001b[0;36mBartForConditionalGeneration.forward\u001b[1;34m(self, input_ids, attention_mask, decoder_input_ids, decoder_attention_mask, head_mask, decoder_head_mask, cross_attn_head_mask, encoder_outputs, past_key_values, inputs_embeds, decoder_inputs_embeds, labels, use_cache, output_attentions, output_hidden_states, return_dict)\u001b[0m\n\u001b[0;32m   1637\u001b[0m     \u001b[38;5;28;01mif\u001b[39;00m decoder_input_ids \u001b[38;5;129;01mis\u001b[39;00m \u001b[38;5;28;01mNone\u001b[39;00m \u001b[38;5;129;01mand\u001b[39;00m decoder_inputs_embeds \u001b[38;5;129;01mis\u001b[39;00m \u001b[38;5;28;01mNone\u001b[39;00m:\n\u001b[0;32m   1638\u001b[0m         decoder_input_ids \u001b[38;5;241m=\u001b[39m shift_tokens_right(\n\u001b[0;32m   1639\u001b[0m             labels, \u001b[38;5;28mself\u001b[39m\u001b[38;5;241m.\u001b[39mconfig\u001b[38;5;241m.\u001b[39mpad_token_id, \u001b[38;5;28mself\u001b[39m\u001b[38;5;241m.\u001b[39mconfig\u001b[38;5;241m.\u001b[39mdecoder_start_token_id\n\u001b[0;32m   1640\u001b[0m         )\n\u001b[1;32m-> 1642\u001b[0m outputs \u001b[38;5;241m=\u001b[39m \u001b[38;5;28;43mself\u001b[39;49m\u001b[38;5;241;43m.\u001b[39;49m\u001b[43mmodel\u001b[49m\u001b[43m(\u001b[49m\n\u001b[0;32m   1643\u001b[0m \u001b[43m    \u001b[49m\u001b[43minput_ids\u001b[49m\u001b[43m,\u001b[49m\n\u001b[0;32m   1644\u001b[0m \u001b[43m    \u001b[49m\u001b[43mattention_mask\u001b[49m\u001b[38;5;241;43m=\u001b[39;49m\u001b[43mattention_mask\u001b[49m\u001b[43m,\u001b[49m\n\u001b[0;32m   1645\u001b[0m \u001b[43m    \u001b[49m\u001b[43mdecoder_input_ids\u001b[49m\u001b[38;5;241;43m=\u001b[39;49m\u001b[43mdecoder_input_ids\u001b[49m\u001b[43m,\u001b[49m\n\u001b[0;32m   1646\u001b[0m \u001b[43m    \u001b[49m\u001b[43mencoder_outputs\u001b[49m\u001b[38;5;241;43m=\u001b[39;49m\u001b[43mencoder_outputs\u001b[49m\u001b[43m,\u001b[49m\n\u001b[0;32m   1647\u001b[0m \u001b[43m    \u001b[49m\u001b[43mdecoder_attention_mask\u001b[49m\u001b[38;5;241;43m=\u001b[39;49m\u001b[43mdecoder_attention_mask\u001b[49m\u001b[43m,\u001b[49m\n\u001b[0;32m   1648\u001b[0m \u001b[43m    \u001b[49m\u001b[43mhead_mask\u001b[49m\u001b[38;5;241;43m=\u001b[39;49m\u001b[43mhead_mask\u001b[49m\u001b[43m,\u001b[49m\n\u001b[0;32m   1649\u001b[0m \u001b[43m    \u001b[49m\u001b[43mdecoder_head_mask\u001b[49m\u001b[38;5;241;43m=\u001b[39;49m\u001b[43mdecoder_head_mask\u001b[49m\u001b[43m,\u001b[49m\n\u001b[0;32m   1650\u001b[0m \u001b[43m    \u001b[49m\u001b[43mcross_attn_head_mask\u001b[49m\u001b[38;5;241;43m=\u001b[39;49m\u001b[43mcross_attn_head_mask\u001b[49m\u001b[43m,\u001b[49m\n\u001b[0;32m   1651\u001b[0m \u001b[43m    \u001b[49m\u001b[43mpast_key_values\u001b[49m\u001b[38;5;241;43m=\u001b[39;49m\u001b[43mpast_key_values\u001b[49m\u001b[43m,\u001b[49m\n\u001b[0;32m   1652\u001b[0m \u001b[43m    \u001b[49m\u001b[43minputs_embeds\u001b[49m\u001b[38;5;241;43m=\u001b[39;49m\u001b[43minputs_embeds\u001b[49m\u001b[43m,\u001b[49m\n\u001b[0;32m   1653\u001b[0m \u001b[43m    \u001b[49m\u001b[43mdecoder_inputs_embeds\u001b[49m\u001b[38;5;241;43m=\u001b[39;49m\u001b[43mdecoder_inputs_embeds\u001b[49m\u001b[43m,\u001b[49m\n\u001b[0;32m   1654\u001b[0m \u001b[43m    \u001b[49m\u001b[43muse_cache\u001b[49m\u001b[38;5;241;43m=\u001b[39;49m\u001b[43muse_cache\u001b[49m\u001b[43m,\u001b[49m\n\u001b[0;32m   1655\u001b[0m \u001b[43m    \u001b[49m\u001b[43moutput_attentions\u001b[49m\u001b[38;5;241;43m=\u001b[39;49m\u001b[43moutput_attentions\u001b[49m\u001b[43m,\u001b[49m\n\u001b[0;32m   1656\u001b[0m \u001b[43m    \u001b[49m\u001b[43moutput_hidden_states\u001b[49m\u001b[38;5;241;43m=\u001b[39;49m\u001b[43moutput_hidden_states\u001b[49m\u001b[43m,\u001b[49m\n\u001b[0;32m   1657\u001b[0m \u001b[43m    \u001b[49m\u001b[43mreturn_dict\u001b[49m\u001b[38;5;241;43m=\u001b[39;49m\u001b[43mreturn_dict\u001b[49m\u001b[43m,\u001b[49m\n\u001b[0;32m   1658\u001b[0m \u001b[43m\u001b[49m\u001b[43m)\u001b[49m\n\u001b[0;32m   1660\u001b[0m lm_logits \u001b[38;5;241m=\u001b[39m \u001b[38;5;28mself\u001b[39m\u001b[38;5;241m.\u001b[39mlm_head(outputs[\u001b[38;5;241m0\u001b[39m])\n\u001b[0;32m   1661\u001b[0m lm_logits \u001b[38;5;241m=\u001b[39m lm_logits \u001b[38;5;241m+\u001b[39m \u001b[38;5;28mself\u001b[39m\u001b[38;5;241m.\u001b[39mfinal_logits_bias\u001b[38;5;241m.\u001b[39mto(lm_logits\u001b[38;5;241m.\u001b[39mdevice)\n",
      "File \u001b[1;32mD:\\Anaconda\\envs\\llm\\lib\\site-packages\\torch\\nn\\modules\\module.py:1736\u001b[0m, in \u001b[0;36mModule._wrapped_call_impl\u001b[1;34m(self, *args, **kwargs)\u001b[0m\n\u001b[0;32m   1734\u001b[0m     \u001b[38;5;28;01mreturn\u001b[39;00m \u001b[38;5;28mself\u001b[39m\u001b[38;5;241m.\u001b[39m_compiled_call_impl(\u001b[38;5;241m*\u001b[39margs, \u001b[38;5;241m*\u001b[39m\u001b[38;5;241m*\u001b[39mkwargs)  \u001b[38;5;66;03m# type: ignore[misc]\u001b[39;00m\n\u001b[0;32m   1735\u001b[0m \u001b[38;5;28;01melse\u001b[39;00m:\n\u001b[1;32m-> 1736\u001b[0m     \u001b[38;5;28;01mreturn\u001b[39;00m \u001b[38;5;28mself\u001b[39m\u001b[38;5;241m.\u001b[39m_call_impl(\u001b[38;5;241m*\u001b[39margs, \u001b[38;5;241m*\u001b[39m\u001b[38;5;241m*\u001b[39mkwargs)\n",
      "File \u001b[1;32mD:\\Anaconda\\envs\\llm\\lib\\site-packages\\torch\\nn\\modules\\module.py:1747\u001b[0m, in \u001b[0;36mModule._call_impl\u001b[1;34m(self, *args, **kwargs)\u001b[0m\n\u001b[0;32m   1742\u001b[0m \u001b[38;5;66;03m# If we don't have any hooks, we want to skip the rest of the logic in\u001b[39;00m\n\u001b[0;32m   1743\u001b[0m \u001b[38;5;66;03m# this function, and just call forward.\u001b[39;00m\n\u001b[0;32m   1744\u001b[0m \u001b[38;5;28;01mif\u001b[39;00m \u001b[38;5;129;01mnot\u001b[39;00m (\u001b[38;5;28mself\u001b[39m\u001b[38;5;241m.\u001b[39m_backward_hooks \u001b[38;5;129;01mor\u001b[39;00m \u001b[38;5;28mself\u001b[39m\u001b[38;5;241m.\u001b[39m_backward_pre_hooks \u001b[38;5;129;01mor\u001b[39;00m \u001b[38;5;28mself\u001b[39m\u001b[38;5;241m.\u001b[39m_forward_hooks \u001b[38;5;129;01mor\u001b[39;00m \u001b[38;5;28mself\u001b[39m\u001b[38;5;241m.\u001b[39m_forward_pre_hooks\n\u001b[0;32m   1745\u001b[0m         \u001b[38;5;129;01mor\u001b[39;00m _global_backward_pre_hooks \u001b[38;5;129;01mor\u001b[39;00m _global_backward_hooks\n\u001b[0;32m   1746\u001b[0m         \u001b[38;5;129;01mor\u001b[39;00m _global_forward_hooks \u001b[38;5;129;01mor\u001b[39;00m _global_forward_pre_hooks):\n\u001b[1;32m-> 1747\u001b[0m     \u001b[38;5;28;01mreturn\u001b[39;00m forward_call(\u001b[38;5;241m*\u001b[39margs, \u001b[38;5;241m*\u001b[39m\u001b[38;5;241m*\u001b[39mkwargs)\n\u001b[0;32m   1749\u001b[0m result \u001b[38;5;241m=\u001b[39m \u001b[38;5;28;01mNone\u001b[39;00m\n\u001b[0;32m   1750\u001b[0m called_always_called_hooks \u001b[38;5;241m=\u001b[39m \u001b[38;5;28mset\u001b[39m()\n",
      "File \u001b[1;32mD:\\Anaconda\\envs\\llm\\lib\\site-packages\\transformers\\models\\bart\\modeling_bart.py:1528\u001b[0m, in \u001b[0;36mBartModel.forward\u001b[1;34m(self, input_ids, attention_mask, decoder_input_ids, decoder_attention_mask, head_mask, decoder_head_mask, cross_attn_head_mask, encoder_outputs, past_key_values, inputs_embeds, decoder_inputs_embeds, use_cache, output_attentions, output_hidden_states, return_dict)\u001b[0m\n\u001b[0;32m   1521\u001b[0m     encoder_outputs \u001b[38;5;241m=\u001b[39m BaseModelOutput(\n\u001b[0;32m   1522\u001b[0m         last_hidden_state\u001b[38;5;241m=\u001b[39mencoder_outputs[\u001b[38;5;241m0\u001b[39m],\n\u001b[0;32m   1523\u001b[0m         hidden_states\u001b[38;5;241m=\u001b[39mencoder_outputs[\u001b[38;5;241m1\u001b[39m] \u001b[38;5;28;01mif\u001b[39;00m \u001b[38;5;28mlen\u001b[39m(encoder_outputs) \u001b[38;5;241m>\u001b[39m \u001b[38;5;241m1\u001b[39m \u001b[38;5;28;01melse\u001b[39;00m \u001b[38;5;28;01mNone\u001b[39;00m,\n\u001b[0;32m   1524\u001b[0m         attentions\u001b[38;5;241m=\u001b[39mencoder_outputs[\u001b[38;5;241m2\u001b[39m] \u001b[38;5;28;01mif\u001b[39;00m \u001b[38;5;28mlen\u001b[39m(encoder_outputs) \u001b[38;5;241m>\u001b[39m \u001b[38;5;241m2\u001b[39m \u001b[38;5;28;01melse\u001b[39;00m \u001b[38;5;28;01mNone\u001b[39;00m,\n\u001b[0;32m   1525\u001b[0m     )\n\u001b[0;32m   1527\u001b[0m \u001b[38;5;66;03m# decoder outputs consists of (dec_features, past_key_value, dec_hidden, dec_attn)\u001b[39;00m\n\u001b[1;32m-> 1528\u001b[0m decoder_outputs \u001b[38;5;241m=\u001b[39m \u001b[38;5;28;43mself\u001b[39;49m\u001b[38;5;241;43m.\u001b[39;49m\u001b[43mdecoder\u001b[49m\u001b[43m(\u001b[49m\n\u001b[0;32m   1529\u001b[0m \u001b[43m    \u001b[49m\u001b[43minput_ids\u001b[49m\u001b[38;5;241;43m=\u001b[39;49m\u001b[43mdecoder_input_ids\u001b[49m\u001b[43m,\u001b[49m\n\u001b[0;32m   1530\u001b[0m \u001b[43m    \u001b[49m\u001b[43mattention_mask\u001b[49m\u001b[38;5;241;43m=\u001b[39;49m\u001b[43mdecoder_attention_mask\u001b[49m\u001b[43m,\u001b[49m\n\u001b[0;32m   1531\u001b[0m \u001b[43m    \u001b[49m\u001b[43mencoder_hidden_states\u001b[49m\u001b[38;5;241;43m=\u001b[39;49m\u001b[43mencoder_outputs\u001b[49m\u001b[43m[\u001b[49m\u001b[38;5;241;43m0\u001b[39;49m\u001b[43m]\u001b[49m\u001b[43m,\u001b[49m\n\u001b[0;32m   1532\u001b[0m \u001b[43m    \u001b[49m\u001b[43mencoder_attention_mask\u001b[49m\u001b[38;5;241;43m=\u001b[39;49m\u001b[43mattention_mask\u001b[49m\u001b[43m,\u001b[49m\n\u001b[0;32m   1533\u001b[0m \u001b[43m    \u001b[49m\u001b[43mhead_mask\u001b[49m\u001b[38;5;241;43m=\u001b[39;49m\u001b[43mdecoder_head_mask\u001b[49m\u001b[43m,\u001b[49m\n\u001b[0;32m   1534\u001b[0m \u001b[43m    \u001b[49m\u001b[43mcross_attn_head_mask\u001b[49m\u001b[38;5;241;43m=\u001b[39;49m\u001b[43mcross_attn_head_mask\u001b[49m\u001b[43m,\u001b[49m\n\u001b[0;32m   1535\u001b[0m \u001b[43m    \u001b[49m\u001b[43mpast_key_values\u001b[49m\u001b[38;5;241;43m=\u001b[39;49m\u001b[43mpast_key_values\u001b[49m\u001b[43m,\u001b[49m\n\u001b[0;32m   1536\u001b[0m \u001b[43m    \u001b[49m\u001b[43minputs_embeds\u001b[49m\u001b[38;5;241;43m=\u001b[39;49m\u001b[43mdecoder_inputs_embeds\u001b[49m\u001b[43m,\u001b[49m\n\u001b[0;32m   1537\u001b[0m \u001b[43m    \u001b[49m\u001b[43muse_cache\u001b[49m\u001b[38;5;241;43m=\u001b[39;49m\u001b[43muse_cache\u001b[49m\u001b[43m,\u001b[49m\n\u001b[0;32m   1538\u001b[0m \u001b[43m    \u001b[49m\u001b[43moutput_attentions\u001b[49m\u001b[38;5;241;43m=\u001b[39;49m\u001b[43moutput_attentions\u001b[49m\u001b[43m,\u001b[49m\n\u001b[0;32m   1539\u001b[0m \u001b[43m    \u001b[49m\u001b[43moutput_hidden_states\u001b[49m\u001b[38;5;241;43m=\u001b[39;49m\u001b[43moutput_hidden_states\u001b[49m\u001b[43m,\u001b[49m\n\u001b[0;32m   1540\u001b[0m \u001b[43m    \u001b[49m\u001b[43mreturn_dict\u001b[49m\u001b[38;5;241;43m=\u001b[39;49m\u001b[43mreturn_dict\u001b[49m\u001b[43m,\u001b[49m\n\u001b[0;32m   1541\u001b[0m \u001b[43m\u001b[49m\u001b[43m)\u001b[49m\n\u001b[0;32m   1543\u001b[0m \u001b[38;5;28;01mif\u001b[39;00m \u001b[38;5;129;01mnot\u001b[39;00m return_dict:\n\u001b[0;32m   1544\u001b[0m     \u001b[38;5;28;01mreturn\u001b[39;00m decoder_outputs \u001b[38;5;241m+\u001b[39m encoder_outputs\n",
      "File \u001b[1;32mD:\\Anaconda\\envs\\llm\\lib\\site-packages\\torch\\nn\\modules\\module.py:1736\u001b[0m, in \u001b[0;36mModule._wrapped_call_impl\u001b[1;34m(self, *args, **kwargs)\u001b[0m\n\u001b[0;32m   1734\u001b[0m     \u001b[38;5;28;01mreturn\u001b[39;00m \u001b[38;5;28mself\u001b[39m\u001b[38;5;241m.\u001b[39m_compiled_call_impl(\u001b[38;5;241m*\u001b[39margs, \u001b[38;5;241m*\u001b[39m\u001b[38;5;241m*\u001b[39mkwargs)  \u001b[38;5;66;03m# type: ignore[misc]\u001b[39;00m\n\u001b[0;32m   1735\u001b[0m \u001b[38;5;28;01melse\u001b[39;00m:\n\u001b[1;32m-> 1736\u001b[0m     \u001b[38;5;28;01mreturn\u001b[39;00m \u001b[38;5;28mself\u001b[39m\u001b[38;5;241m.\u001b[39m_call_impl(\u001b[38;5;241m*\u001b[39margs, \u001b[38;5;241m*\u001b[39m\u001b[38;5;241m*\u001b[39mkwargs)\n",
      "File \u001b[1;32mD:\\Anaconda\\envs\\llm\\lib\\site-packages\\torch\\nn\\modules\\module.py:1747\u001b[0m, in \u001b[0;36mModule._call_impl\u001b[1;34m(self, *args, **kwargs)\u001b[0m\n\u001b[0;32m   1742\u001b[0m \u001b[38;5;66;03m# If we don't have any hooks, we want to skip the rest of the logic in\u001b[39;00m\n\u001b[0;32m   1743\u001b[0m \u001b[38;5;66;03m# this function, and just call forward.\u001b[39;00m\n\u001b[0;32m   1744\u001b[0m \u001b[38;5;28;01mif\u001b[39;00m \u001b[38;5;129;01mnot\u001b[39;00m (\u001b[38;5;28mself\u001b[39m\u001b[38;5;241m.\u001b[39m_backward_hooks \u001b[38;5;129;01mor\u001b[39;00m \u001b[38;5;28mself\u001b[39m\u001b[38;5;241m.\u001b[39m_backward_pre_hooks \u001b[38;5;129;01mor\u001b[39;00m \u001b[38;5;28mself\u001b[39m\u001b[38;5;241m.\u001b[39m_forward_hooks \u001b[38;5;129;01mor\u001b[39;00m \u001b[38;5;28mself\u001b[39m\u001b[38;5;241m.\u001b[39m_forward_pre_hooks\n\u001b[0;32m   1745\u001b[0m         \u001b[38;5;129;01mor\u001b[39;00m _global_backward_pre_hooks \u001b[38;5;129;01mor\u001b[39;00m _global_backward_hooks\n\u001b[0;32m   1746\u001b[0m         \u001b[38;5;129;01mor\u001b[39;00m _global_forward_hooks \u001b[38;5;129;01mor\u001b[39;00m _global_forward_pre_hooks):\n\u001b[1;32m-> 1747\u001b[0m     \u001b[38;5;28;01mreturn\u001b[39;00m forward_call(\u001b[38;5;241m*\u001b[39margs, \u001b[38;5;241m*\u001b[39m\u001b[38;5;241m*\u001b[39mkwargs)\n\u001b[0;32m   1749\u001b[0m result \u001b[38;5;241m=\u001b[39m \u001b[38;5;28;01mNone\u001b[39;00m\n\u001b[0;32m   1750\u001b[0m called_always_called_hooks \u001b[38;5;241m=\u001b[39m \u001b[38;5;28mset\u001b[39m()\n",
      "File \u001b[1;32mD:\\Anaconda\\envs\\llm\\lib\\site-packages\\transformers\\models\\bart\\modeling_bart.py:1325\u001b[0m, in \u001b[0;36mBartDecoder.forward\u001b[1;34m(self, input_ids, attention_mask, encoder_hidden_states, encoder_attention_mask, head_mask, cross_attn_head_mask, past_key_values, inputs_embeds, use_cache, output_attentions, output_hidden_states, return_dict)\u001b[0m\n\u001b[0;32m   1320\u001b[0m         encoder_attention_mask \u001b[38;5;241m=\u001b[39m _prepare_4d_attention_mask(\n\u001b[0;32m   1321\u001b[0m             encoder_attention_mask, inputs_embeds\u001b[38;5;241m.\u001b[39mdtype, tgt_len\u001b[38;5;241m=\u001b[39minput_shape[\u001b[38;5;241m-\u001b[39m\u001b[38;5;241m1\u001b[39m]\n\u001b[0;32m   1322\u001b[0m         )\n\u001b[0;32m   1324\u001b[0m \u001b[38;5;66;03m# embed positions\u001b[39;00m\n\u001b[1;32m-> 1325\u001b[0m positions \u001b[38;5;241m=\u001b[39m \u001b[38;5;28;43mself\u001b[39;49m\u001b[38;5;241;43m.\u001b[39;49m\u001b[43membed_positions\u001b[49m\u001b[43m(\u001b[49m\u001b[38;5;28;43minput\u001b[39;49m\u001b[43m,\u001b[49m\u001b[43m \u001b[49m\u001b[43mpast_key_values_length\u001b[49m\u001b[43m)\u001b[49m\n\u001b[0;32m   1326\u001b[0m positions \u001b[38;5;241m=\u001b[39m positions\u001b[38;5;241m.\u001b[39mto(inputs_embeds\u001b[38;5;241m.\u001b[39mdevice)\n\u001b[0;32m   1328\u001b[0m hidden_states \u001b[38;5;241m=\u001b[39m inputs_embeds \u001b[38;5;241m+\u001b[39m positions\n",
      "File \u001b[1;32mD:\\Anaconda\\envs\\llm\\lib\\site-packages\\torch\\nn\\modules\\module.py:1736\u001b[0m, in \u001b[0;36mModule._wrapped_call_impl\u001b[1;34m(self, *args, **kwargs)\u001b[0m\n\u001b[0;32m   1734\u001b[0m     \u001b[38;5;28;01mreturn\u001b[39;00m \u001b[38;5;28mself\u001b[39m\u001b[38;5;241m.\u001b[39m_compiled_call_impl(\u001b[38;5;241m*\u001b[39margs, \u001b[38;5;241m*\u001b[39m\u001b[38;5;241m*\u001b[39mkwargs)  \u001b[38;5;66;03m# type: ignore[misc]\u001b[39;00m\n\u001b[0;32m   1735\u001b[0m \u001b[38;5;28;01melse\u001b[39;00m:\n\u001b[1;32m-> 1736\u001b[0m     \u001b[38;5;28;01mreturn\u001b[39;00m \u001b[38;5;28mself\u001b[39m\u001b[38;5;241m.\u001b[39m_call_impl(\u001b[38;5;241m*\u001b[39margs, \u001b[38;5;241m*\u001b[39m\u001b[38;5;241m*\u001b[39mkwargs)\n",
      "File \u001b[1;32mD:\\Anaconda\\envs\\llm\\lib\\site-packages\\torch\\nn\\modules\\module.py:1747\u001b[0m, in \u001b[0;36mModule._call_impl\u001b[1;34m(self, *args, **kwargs)\u001b[0m\n\u001b[0;32m   1742\u001b[0m \u001b[38;5;66;03m# If we don't have any hooks, we want to skip the rest of the logic in\u001b[39;00m\n\u001b[0;32m   1743\u001b[0m \u001b[38;5;66;03m# this function, and just call forward.\u001b[39;00m\n\u001b[0;32m   1744\u001b[0m \u001b[38;5;28;01mif\u001b[39;00m \u001b[38;5;129;01mnot\u001b[39;00m (\u001b[38;5;28mself\u001b[39m\u001b[38;5;241m.\u001b[39m_backward_hooks \u001b[38;5;129;01mor\u001b[39;00m \u001b[38;5;28mself\u001b[39m\u001b[38;5;241m.\u001b[39m_backward_pre_hooks \u001b[38;5;129;01mor\u001b[39;00m \u001b[38;5;28mself\u001b[39m\u001b[38;5;241m.\u001b[39m_forward_hooks \u001b[38;5;129;01mor\u001b[39;00m \u001b[38;5;28mself\u001b[39m\u001b[38;5;241m.\u001b[39m_forward_pre_hooks\n\u001b[0;32m   1745\u001b[0m         \u001b[38;5;129;01mor\u001b[39;00m _global_backward_pre_hooks \u001b[38;5;129;01mor\u001b[39;00m _global_backward_hooks\n\u001b[0;32m   1746\u001b[0m         \u001b[38;5;129;01mor\u001b[39;00m _global_forward_hooks \u001b[38;5;129;01mor\u001b[39;00m _global_forward_pre_hooks):\n\u001b[1;32m-> 1747\u001b[0m     \u001b[38;5;28;01mreturn\u001b[39;00m forward_call(\u001b[38;5;241m*\u001b[39margs, \u001b[38;5;241m*\u001b[39m\u001b[38;5;241m*\u001b[39mkwargs)\n\u001b[0;32m   1749\u001b[0m result \u001b[38;5;241m=\u001b[39m \u001b[38;5;28;01mNone\u001b[39;00m\n\u001b[0;32m   1750\u001b[0m called_always_called_hooks \u001b[38;5;241m=\u001b[39m \u001b[38;5;28mset\u001b[39m()\n",
      "File \u001b[1;32mD:\\Anaconda\\envs\\llm\\lib\\site-packages\\transformers\\models\\bart\\modeling_bart.py:116\u001b[0m, in \u001b[0;36mBartLearnedPositionalEmbedding.forward\u001b[1;34m(self, input_ids, past_key_values_length)\u001b[0m\n\u001b[0;32m    111\u001b[0m bsz, seq_len \u001b[38;5;241m=\u001b[39m input_ids\u001b[38;5;241m.\u001b[39mshape[:\u001b[38;5;241m2\u001b[39m]\n\u001b[0;32m    112\u001b[0m positions \u001b[38;5;241m=\u001b[39m torch\u001b[38;5;241m.\u001b[39marange(\n\u001b[0;32m    113\u001b[0m     past_key_values_length, past_key_values_length \u001b[38;5;241m+\u001b[39m seq_len, dtype\u001b[38;5;241m=\u001b[39mtorch\u001b[38;5;241m.\u001b[39mlong, device\u001b[38;5;241m=\u001b[39m\u001b[38;5;28mself\u001b[39m\u001b[38;5;241m.\u001b[39mweight\u001b[38;5;241m.\u001b[39mdevice\n\u001b[0;32m    114\u001b[0m )\u001b[38;5;241m.\u001b[39mexpand(bsz, \u001b[38;5;241m-\u001b[39m\u001b[38;5;241m1\u001b[39m)\n\u001b[1;32m--> 116\u001b[0m \u001b[38;5;28;01mreturn\u001b[39;00m \u001b[38;5;28msuper\u001b[39m()\u001b[38;5;241m.\u001b[39mforward(\u001b[43mpositions\u001b[49m\u001b[43m \u001b[49m\u001b[38;5;241;43m+\u001b[39;49m\u001b[43m \u001b[49m\u001b[38;5;28;43mself\u001b[39;49m\u001b[38;5;241;43m.\u001b[39;49m\u001b[43moffset\u001b[49m)\n",
      "\u001b[1;31mKeyboardInterrupt\u001b[0m: "
     ]
    }
   ],
   "source": [
    "# Define SNR range\n",
    "snr_range = list(range(-20, 21, 6)) + list(range(22, 55, 5)) + list(range(64, 101, 6)) \n",
    "cs_list = []\n",
    "mi_list = []\n",
    "\n",
    "\n",
    "for target_snr in tqdm(snr_range):\n",
    "    for i in tqdm(range(nr_rounds)):\n",
    "        cs_list_texts = []\n",
    "        mi_list_texts = []\n",
    "        \n",
    "        input_ids = tokenizer_bart(input_text_ls[i], return_tensors=\"pt\").input_ids.to(device)\n",
    "        with torch.no_grad():\n",
    "            encoder_outputs = model.model.encoder(input_ids=input_ids)\n",
    "        \n",
    "        # add noise\n",
    "        noisy_encoder_output = add_noise_with_snr(encoder_outputs.last_hidden_state, target_snr)\n",
    "        modified_encoder_outputs = BaseModelOutput(last_hidden_state=noisy_encoder_output)\n",
    "        \n",
    "        # first LLM\n",
    "        noisy_outputs = model.generate(input_ids=None, encoder_outputs=modified_encoder_outputs, max_length=300, min_length=100, \n",
    "                                      num_beams=5, early_stopping=True)\n",
    "        noisy_text = tokenizer_bart.decode(noisy_outputs[0], skip_special_tokens=True)\n",
    "        # print(noisy_text)\n",
    "    \n",
    "        # second LLM\n",
    "        noisy_ids = tokenizer_sum(noisy_text, return_tensors=\"pt\").input_ids.to(device)\n",
    "        with torch.no_grad():\n",
    "            noisy_encoder_outputs = summarizer.encoder(input_ids=noisy_ids)\n",
    "        noisy_sum_output = summarizer.generate(input_ids=None, encoder_outputs=noisy_encoder_outputs, max_length=70, output_hidden_states=True,\n",
    "                                            return_dict_in_generate=True, do_sample=True, temperature=0.1)\n",
    "        noisy_summary = tokenizer_sum.decode(noisy_sum_output.sequences[0], skip_special_tokens=True)\n",
    "        \n",
    "        \n",
    "        # get embeddings\n",
    "        em_noisy_summary = extract_hidden_states(noisy_sum_output.decoder_hidden_states)\n",
    "        \n",
    "        # pad each embedding with embedding of baseline\n",
    "        pad_em_baseline_summary, pad_em_noisy_summary = align_tensors(em_baseline_summary[i], em_noisy_summary)\n",
    "        \n",
    "        # calculate cs\n",
    "        cs_list_texts.append(F.cosine_similarity(pad_em_baseline_summary, pad_em_noisy_summary, dim=0).mean().item())\n",
    "        print(F.cosine_similarity(pad_em_baseline_summary, pad_em_noisy_summary, dim=0).mean().item())\n",
    "    \n",
    "        # calculate mi\n",
    "        em_noisy_summary_np = em_noisy_summary.cpu().numpy()\n",
    "        em_baseline_summary_np = em_baseline_summary[i].cpu().numpy()\n",
    "        mi_list_texts.append(ksg(em_baseline_summary_np, em_noisy_summary_np))\n",
    "    \n",
    "    # for each snr calculate mean cs and mi\n",
    "    cs_list.append(np.mean(cs_list_texts))\n",
    "    mi_list.append(np.mean(mi_list_texts))\n",
    "        \n",
    "        "
   ]
  },
  {
   "cell_type": "code",
   "execution_count": null,
   "id": "2061a068-fc27-40bd-9003-7adaa2201e2e",
   "metadata": {},
   "outputs": [],
   "source": [
    "snr_range = list(map(float, np.concatenate((np.arange(-20, 20.5, 0.5), np.arange(20, 101, 1)))))\n",
    "snr_range"
   ]
  },
  {
   "cell_type": "markdown",
   "id": "fad45216",
   "metadata": {},
   "source": [
    "## Comparison of baseline and original"
   ]
  },
  {
   "cell_type": "code",
   "execution_count": 15,
   "id": "5ab495b1",
   "metadata": {},
   "outputs": [],
   "source": [
    "cs_base_orig_ls = []\n",
    "mi_base_orig_ls = []\n",
    "for i in range(nr_rounds):\n",
    "    pad_em_baseline_summary, pad_em_original_summary = align_tensors(em_baseline_summary[i], em_original_summary)\n",
    "    cs_base_orig_ls.append(F.cosine_similarity(pad_em_baseline_summary, pad_em_original_summary, dim=1).mean().item())\n",
    "\n",
    "    em_original_summary_np = em_original_summary.cpu().numpy()\n",
    "    em_baseline_summary_np = em_baseline_summary[i].cpu().numpy()\n",
    "\n",
    "    mi_base_orig_ls.append(ksg(em_baseline_summary_np, em_original_summary_np))\n",
    "    \n",
    "cs_base_orig = np.mean(cs_base_orig_ls)\n",
    "mi_base_orig = np.mean(mi_base_orig_ls)"
   ]
  },
  {
   "cell_type": "markdown",
   "id": "b29c933d",
   "metadata": {},
   "source": [
    "## Plots"
   ]
  },
  {
   "cell_type": "code",
   "execution_count": 16,
   "id": "dac75e38",
   "metadata": {},
   "outputs": [
    {
     "data": {
      "image/png": "[encoded data removed]",
      "text/plain": [
       "<Figure size 6000x1800 with 1 Axes>"
      ]
     },
     "metadata": {},
     "output_type": "display_data"
    },
    {
     "data": {
      "image/png": "[encoded data removed]",
      "text/plain": [
       "<Figure size 6000x1800 with 1 Axes>"
      ]
     },
     "metadata": {},
     "output_type": "display_data"
    }
   ],
   "source": [
    "plt.figure(figsize=(20, 6), dpi=300)\n",
    "plt.plot(snr_range, cs_list, marker='o')\n",
    "plt.axhline(y=cs_base_orig, color='r', linestyle='--', label='Cosine Similarity between the baseline and the original')\n",
    "plt.ylim([0.0,1.1])\n",
    "plt.xlabel(\"SNR (dB)\")\n",
    "plt.ylabel(\"Cosine Similarity\")\n",
    "plt.title(\"Cosine Similarity of Baseline and Noisy Summary\")\n",
    "plt.grid()\n",
    "plt.show()\n",
    "\n",
    "plt.figure(figsize=(20, 6), dpi=300)\n",
    "plt.plot(snr_range, mi_list, marker='o')\n",
    "plt.axhline(y=mi_base_orig, color='r', linestyle='--', label='Mutual Information between the baseline and the original')\n",
    "plt.ylim([0.0,5.1])\n",
    "plt.xlabel(\"SNR (dB)\")\n",
    "plt.ylabel(\"MI similarities of Baseline\")\n",
    "plt.title(\"MI similarities of Baseline and Noisy Summary\")\n",
    "plt.grid()\n",
    "plt.show()\n"
   ]
  },
  {
   "cell_type": "code",
   "execution_count": 33,
   "id": "e625d77f-51db-41e9-865d-a2120aeb9146",
   "metadata": {},
   "outputs": [
    {
     "data": {
      "text/plain": [
       "tensor([[ 1.0933e-01,  1.5771e-01, -5.6870e-02,  ...,  1.3368e-01,\n",
       "         -1.6683e-04, -9.2191e-02],\n",
       "        [ 9.6377e-02,  1.7146e-01, -2.6302e-02,  ...,  2.2365e-01,\n",
       "         -3.3806e-04,  1.3076e-01],\n",
       "        [ 7.1443e-02,  2.1492e-01, -3.2560e-02,  ...,  1.9143e-01,\n",
       "         -1.7308e-04,  8.9234e-02],\n",
       "        ...,\n",
       "        [ 0.0000e+00,  0.0000e+00,  0.0000e+00,  ...,  0.0000e+00,\n",
       "          0.0000e+00,  0.0000e+00],\n",
       "        [ 0.0000e+00,  0.0000e+00,  0.0000e+00,  ...,  0.0000e+00,\n",
       "          0.0000e+00,  0.0000e+00],\n",
       "        [ 0.0000e+00,  0.0000e+00,  0.0000e+00,  ...,  0.0000e+00,\n",
       "          0.0000e+00,  0.0000e+00]], device='cuda:0')"
      ]
     },
     "execution_count": 33,
     "metadata": {},
     "output_type": "execute_result"
    }
   ],
   "source": [
    "pad_em_baseline_summary"
   ]
  },
  {
   "cell_type": "code",
   "execution_count": 34,
   "id": "11ec7405-9def-4d09-a114-72fd6714c899",
   "metadata": {},
   "outputs": [
    {
     "data": {
      "text/plain": [
       "tensor([[-1.7915e-02,  1.4972e-01, -4.4655e-02,  ...,  4.6856e-02,\n",
       "         -4.9766e-04, -1.6242e-01],\n",
       "        [-6.2593e-03,  2.0802e-01, -7.3619e-02,  ...,  1.0153e-02,\n",
       "         -1.5123e-04, -8.9162e-02],\n",
       "        [-4.2988e-02,  1.4758e-01, -7.4944e-03,  ...,  1.2822e-02,\n",
       "         -2.6589e-04, -1.3032e-01],\n",
       "        ...,\n",
       "        [ 2.7356e-02,  4.8505e-02, -3.0933e-02,  ..., -2.8778e-02,\n",
       "         -2.8565e-05, -2.2427e-01],\n",
       "        [ 2.9497e-02,  4.9793e-02, -3.1540e-02,  ..., -2.8511e-02,\n",
       "         -2.6754e-05, -2.2365e-01],\n",
       "        [ 2.9759e-02,  5.0463e-02, -3.0625e-02,  ..., -2.8232e-02,\n",
       "         -2.3732e-05, -2.2216e-01]], device='cuda:0')"
      ]
     },
     "execution_count": 34,
     "metadata": {},
     "output_type": "execute_result"
    }
   ],
   "source": [
    "pad_em_noisy_summary"
   ]
  },
  {
   "cell_type": "code",
   "execution_count": 36,
   "id": "4a5f0391-7a9b-4e54-bd33-a56f39c8fd7a",
   "metadata": {},
   "outputs": [
    {
     "name": "stdout",
     "output_type": "stream",
     "text": [
      "Cosine Similarity (dim=1): tensor(0.7337, device='cuda:0')\n",
      "Cosine Similarity (dim=0): tensor(0.1540, device='cuda:0')\n"
     ]
    }
   ],
   "source": [
    "dot_product_dim1 = (pad_em_baseline_summary * pad_em_noisy_summary).sum(dim=1)  # [seq_len]\n",
    "norm_baseline_dim1 = pad_em_baseline_summary.norm(p=2, dim=1)  # [seq_len]\n",
    "norm_noisy_dim1 = pad_em_noisy_summary.norm(p=2, dim=1)        # [seq_len]\n",
    "cosine_similarity_dim1 = dot_product_dim1 / (norm_baseline_dim1 * norm_noisy_dim1 + 1e-8)  # [seq_len]\n",
    "\n",
    "dot_product_dim0 = (pad_em_baseline_summary * pad_em_noisy_summary).sum(dim=0)  # [hidden_size]\n",
    "norm_baseline_dim0 = pad_em_baseline_summary.norm(p=2, dim=0)  # [hidden_size]\n",
    "norm_noisy_dim0 = pad_em_noisy_summary.norm(p=2, dim=0)        # [hidden_size]\n",
    "cosine_similarity_dim0 = dot_product_dim0 / (norm_baseline_dim0 * norm_noisy_dim0 + 1e-8)  # [hidden_size]\n",
    "\n",
    "print(\"Cosine Similarity (dim=1):\", cosine_similarity_dim1.mean())\n",
    "print(\"Cosine Similarity (dim=0):\", cosine_similarity_dim0.mean())"
   ]
  },
  {
   "cell_type": "code",
   "execution_count": null,
   "id": "250e7233-bd81-45fb-b66d-08883756fb5e",
   "metadata": {},
   "outputs": [],
   "source": []
  }
 ],
 "metadata": {
  "kernelspec": {
   "display_name": "Python 3 (ipykernel)",
   "language": "python",
   "name": "python3"
  },
  "language_info": {
   "codemirror_mode": {
    "name": "ipython",
    "version": 3
   },
   "file_extension": ".py",
   "mimetype": "text/x-python",
   "name": "python",
   "nbconvert_exporter": "python",
   "pygments_lexer": "ipython3",
   "version": "3.9.20"
  },
  "widgets": {
   "application/vnd.jupyter.widget-state+json": {
    "state": {
     "0029a213cd574a538d4333f4aa551a58": {
      "model_module": "@jupyter-widgets/base",
      "model_module_version": "2.0.0",
      "model_name": "LayoutModel",
      "state": {}
     },
     "009dfe5eed3540e8b1aed85e907d86be": {
      "model_module": "@jupyter-widgets/controls",
      "model_module_version": "2.0.0",
      "model_name": "HTMLModel",
      "state": {
       "layout": "IPY_MODEL_657fc939ff534266a11d7d75e6c8fa55",
       "style": "IPY_MODEL_79d4494d47cb4716901c0e0bfde1a79c",
       "value": " 10/10 [00:22&lt;00:00,  2.26s/it]"
      }
     },
     "009e8ae7bbbf4f8ca6cba86d94a10e65": {
      "model_module": "@jupyter-widgets/controls",
      "model_module_version": "2.0.0",
      "model_name": "HTMLModel",
      "state": {
       "layout": "IPY_MODEL_ff31eedd20d74bac9b1f14854fe4f692",
       "style": "IPY_MODEL_99402ee1fca940dfb5ac59bccacca357",
       "value": "100%"
      }
     },
     "00bc93fb86a64aff936d574431070e54": {
      "model_module": "@jupyter-widgets/controls",
      "model_module_version": "2.0.0",
      "model_name": "HTMLModel",
      "state": {
       "layout": "IPY_MODEL_ac016fc712ac4d51995e052ebc78b000",
       "style": "IPY_MODEL_3c7d35e5a2254000ba16a174cc7c0747",
       "value": "100%"
      }
     },
     "00cedefa9eea4a269131b8536b7a3fa3": {
      "model_module": "@jupyter-widgets/controls",
      "model_module_version": "2.0.0",
      "model_name": "HBoxModel",
      "state": {
       "children": [
        "IPY_MODEL_20ad8695903d4735868a0ff75d4dcbf8",
        "IPY_MODEL_7516792b45db4d488106ccedbd202052",
        "IPY_MODEL_7cfbd87710804a6eb41a184da567b319"
       ],
       "layout": "IPY_MODEL_e62e4d0af10642e5bb45ce10a74e4fb8"
      }
     },
     "00ea93a536e44ca6b7790d55d07b750c": {
      "model_module": "@jupyter-widgets/controls",
      "model_module_version": "2.0.0",
      "model_name": "ProgressStyleModel",
      "state": {
       "description_width": ""
      }
     },
     "00f84f3e7cef4b6d86cab9666d0de93b": {
      "model_module": "@jupyter-widgets/controls",
      "model_module_version": "2.0.0",
      "model_name": "HTMLModel",
      "state": {
       "layout": "IPY_MODEL_9ca3c1387beb4c6d8c111e688aa49f83",
       "style": "IPY_MODEL_146b1a05058443859093dd7b75759467",
       "value": " 10/10 [00:14&lt;00:00,  1.46s/it]"
      }
     },
     "0129c015b7c94471901463e75a79752e": {
      "model_module": "@jupyter-widgets/controls",
      "model_module_version": "2.0.0",
      "model_name": "ProgressStyleModel",
      "state": {
       "description_width": ""
      }
     },
     "01947cb7a45f47b8a0ea371e928878ab": {
      "model_module": "@jupyter-widgets/controls",
      "model_module_version": "2.0.0",
      "model_name": "ProgressStyleModel",
      "state": {
       "description_width": ""
      }
     },
     "01bbd87b29a9465fbe0ab6e6d4444c67": {
      "model_module": "@jupyter-widgets/base",
      "model_module_version": "2.0.0",
      "model_name": "LayoutModel",
      "state": {}
     },
     "01ec0e3ee43c453b96777e654978a85e": {
      "model_module": "@jupyter-widgets/controls",
      "model_module_version": "2.0.0",
      "model_name": "HTMLModel",
      "state": {
       "layout": "IPY_MODEL_f1b01a3e2b434e3e8e7ddddb2f03f792",
       "style": "IPY_MODEL_876b53c06fdf4923b95ed6e4fe018f5b",
       "value": " 10/10 [00:14&lt;00:00,  1.47s/it]"
      }
     },
     "020d9b0773054a49a55afbc238fbe2db": {
      "model_module": "@jupyter-widgets/controls",
      "model_module_version": "2.0.0",
      "model_name": "FloatProgressModel",
      "state": {
       "bar_style": "success",
       "layout": "IPY_MODEL_4fc7a29143734231bd9bd493035a961c",
       "max": 10,
       "style": "IPY_MODEL_9a45b1b380174248898ccf69b24df0c4",
       "value": 10
      }
     },
     "02261b883005479dab211ecb3905be79": {
      "model_module": "@jupyter-widgets/controls",
      "model_module_version": "2.0.0",
      "model_name": "FloatProgressModel",
      "state": {
       "bar_style": "success",
       "layout": "IPY_MODEL_ac8b149e45164c1ab65de201e46b2f37",
       "max": 10,
       "style": "IPY_MODEL_775cabe2053b4c0db40f751caae464bd",
       "value": 10
      }
     },
     "02f53736514a43d4b48bc931e0ab82dd": {
      "model_module": "@jupyter-widgets/controls",
      "model_module_version": "2.0.0",
      "model_name": "HBoxModel",
      "state": {
       "children": [
        "IPY_MODEL_755159f16616413a81f771a0580276b7",
        "IPY_MODEL_5377f56d8338482cb3510aa916b44b2f",
        "IPY_MODEL_3edf55ce0ef3402c8dc29c4f42055212"
       ],
       "layout": "IPY_MODEL_bf88304eada046f483416c8ed971e45b"
      }
     },
     "03667f72715e420f9fdb7e99505b3d7e": {
      "model_module": "@jupyter-widgets/controls",
      "model_module_version": "2.0.0",
      "model_name": "HBoxModel",
      "state": {
       "children": [
        "IPY_MODEL_59ae29257a7c4bccb3fa978b4c68bfe7",
        "IPY_MODEL_d99987cc932843079f495ff308dfed38",
        "IPY_MODEL_eaa734397f6c43afb8d188ad9e2333bb"
       ],
       "layout": "IPY_MODEL_74e3a11287394803aa40036010bbf49b"
      }
     },
     "03d723cc7a0e43b58f151fcdfb649687": {
      "model_module": "@jupyter-widgets/controls",
      "model_module_version": "2.0.0",
      "model_name": "HTMLStyleModel",
      "state": {
       "description_width": "",
       "font_size": null,
       "text_color": null
      }
     },
     "0405086f033647a188319586c272eebb": {
      "model_module": "@jupyter-widgets/base",
      "model_module_version": "2.0.0",
      "model_name": "LayoutModel",
      "state": {}
     },
     "04255e5dd93c423ea277eadf8d49cf95": {
      "model_module": "@jupyter-widgets/controls",
      "model_module_version": "2.0.0",
      "model_name": "HTMLStyleModel",
      "state": {
       "description_width": "",
       "font_size": null,
       "text_color": null
      }
     },
     "0429d4f58a034335b54d4c0444e74dd4": {
      "model_module": "@jupyter-widgets/base",
      "model_module_version": "2.0.0",
      "model_name": "LayoutModel",
      "state": {}
     },
     "047bba379ad849c29038f2026d6e4712": {
      "model_module": "@jupyter-widgets/controls",
      "model_module_version": "2.0.0",
      "model_name": "FloatProgressModel",
      "state": {
       "bar_style": "danger",
       "layout": "IPY_MODEL_f3a963b5d3fd4f2198e12c441b79f945",
       "max": 21,
       "style": "IPY_MODEL_f7493bc584a044a99889e6d605bebf0f",
       "value": 1
      }
     },
     "04951f4d2e8c444fb30845701732eb37": {
      "model_module": "@jupyter-widgets/controls",
      "model_module_version": "2.0.0",
      "model_name": "HTMLModel",
      "state": {
       "layout": "IPY_MODEL_a24420b89c3f4393b66b95897177d502",
       "style": "IPY_MODEL_2a5c9234786147fe9c9309a846737ec6",
       "value": " 10/10 [00:15&lt;00:00,  1.53s/it]"
      }
     },
     "04c5b61f34674f9c88a0a6e01f564972": {
      "model_module": "@jupyter-widgets/controls",
      "model_module_version": "2.0.0",
      "model_name": "HTMLModel",
      "state": {
       "layout": "IPY_MODEL_eef19c5d4ad9418aa022c01c0b080ed5",
       "style": "IPY_MODEL_5d93cff620024800b7736b06a27092f7",
       "value": " 1/21 [00:25&lt;07:33, 22.65s/it]"
      }
     },
     "04df210ca615435b81cfd612c42c4133": {
      "model_module": "@jupyter-widgets/base",
      "model_module_version": "2.0.0",
      "model_name": "LayoutModel",
      "state": {}
     },
     "04ef307c859749678f98154c14c266e9": {
      "model_module": "@jupyter-widgets/controls",
      "model_module_version": "2.0.0",
      "model_name": "HTMLModel",
      "state": {
       "layout": "IPY_MODEL_683730abb14f477fa483cca1fe22fd48",
       "style": "IPY_MODEL_6e2c6663ce284d17b59bd5bacc2bf625",
       "value": "100%"
      }
     },
     "0534002475504b5698fc223acff6a9a5": {
      "model_module": "@jupyter-widgets/controls",
      "model_module_version": "2.0.0",
      "model_name": "HTMLStyleModel",
      "state": {
       "description_width": "",
       "font_size": null,
       "text_color": null
      }
     },
     "05c0b141763f49bfac7311938e69e7fb": {
      "model_module": "@jupyter-widgets/base",
      "model_module_version": "2.0.0",
      "model_name": "LayoutModel",
      "state": {}
     },
     "05f77bc9bb184468ae097e7ed0cd304e": {
      "model_module": "@jupyter-widgets/base",
      "model_module_version": "2.0.0",
      "model_name": "LayoutModel",
      "state": {}
     },
     "064e193ddd304683bea6023fe491c7da": {
      "model_module": "@jupyter-widgets/controls",
      "model_module_version": "2.0.0",
      "model_name": "HBoxModel",
      "state": {
       "children": [
        "IPY_MODEL_a95eb6c65e1e4ec0a397f7c49e24ca85",
        "IPY_MODEL_d521ee95dbfc4af0a2b27e2533f6ad6d",
        "IPY_MODEL_b6d0d5605bbb440a9ab258fe233823f3"
       ],
       "layout": "IPY_MODEL_d9099f3a7e1243ed91fdbecde3b73442"
      }
     },
     "065d781679c041b2afaf44685505e7ff": {
      "model_module": "@jupyter-widgets/controls",
      "model_module_version": "2.0.0",
      "model_name": "ProgressStyleModel",
      "state": {
       "description_width": ""
      }
     },
     "06a973040af744818730d302de4635f4": {
      "model_module": "@jupyter-widgets/controls",
      "model_module_version": "2.0.0",
      "model_name": "HTMLStyleModel",
      "state": {
       "description_width": "",
       "font_size": null,
       "text_color": null
      }
     },
     "06d9a2796ebf476fa25bf83be866f11c": {
      "model_module": "@jupyter-widgets/controls",
      "model_module_version": "2.0.0",
      "model_name": "HTMLStyleModel",
      "state": {
       "description_width": "",
       "font_size": null,
       "text_color": null
      }
     },
     "07050a968bf441c4af94cda11776f3f9": {
      "model_module": "@jupyter-widgets/controls",
      "model_module_version": "2.0.0",
      "model_name": "HTMLStyleModel",
      "state": {
       "description_width": "",
       "font_size": null,
       "text_color": null
      }
     },
     "07519994c81f4ae99290916930555fd6": {
      "model_module": "@jupyter-widgets/base",
      "model_module_version": "2.0.0",
      "model_name": "LayoutModel",
      "state": {}
     },
     "07b94d61d9d44333857a7c4871e8c139": {
      "model_module": "@jupyter-widgets/controls",
      "model_module_version": "2.0.0",
      "model_name": "ProgressStyleModel",
      "state": {
       "description_width": ""
      }
     },
     "08135e56144c423ebc16f128c71bf1ea": {
      "model_module": "@jupyter-widgets/base",
      "model_module_version": "2.0.0",
      "model_name": "LayoutModel",
      "state": {}
     },
     "08433b78dd1645bf803488dc5b738d59": {
      "model_module": "@jupyter-widgets/controls",
      "model_module_version": "2.0.0",
      "model_name": "HBoxModel",
      "state": {
       "children": [
        "IPY_MODEL_4dd46bdeeaf945f4b95eef909c264c50",
        "IPY_MODEL_914dbc5617cb4cc9a1d3d28254567fea",
        "IPY_MODEL_b4de947a839a4ae0aead17bb58f8df43"
       ],
       "layout": "IPY_MODEL_29e7f48df415436b905f03b78b29d4eb"
      }
     },
     "08d61abafedc4b4a928f499340621060": {
      "model_module": "@jupyter-widgets/base",
      "model_module_version": "2.0.0",
      "model_name": "LayoutModel",
      "state": {}
     },
     "094582b010ef4fbca82a04df439fa633": {
      "model_module": "@jupyter-widgets/controls",
      "model_module_version": "2.0.0",
      "model_name": "HTMLModel",
      "state": {
       "layout": "IPY_MODEL_7d3db98173714dc787aade8381006f46",
       "style": "IPY_MODEL_8cf23dab0aa842619c132c31fef83e79",
       "value": " 10/10 [00:00&lt;00:00, 666.68it/s]"
      }
     },
     "09d5a81a768a4ea18dc9d6b2cb21e42a": {
      "model_module": "@jupyter-widgets/controls",
      "model_module_version": "2.0.0",
      "model_name": "ProgressStyleModel",
      "state": {
       "description_width": ""
      }
     },
     "0a4a15a68c0c42168ddae77eb2f6081e": {
      "model_module": "@jupyter-widgets/controls",
      "model_module_version": "2.0.0",
      "model_name": "FloatProgressModel",
      "state": {
       "bar_style": "success",
       "layout": "IPY_MODEL_b997f5dc8f1147c3a3683716ff01543f",
       "max": 10,
       "style": "IPY_MODEL_01947cb7a45f47b8a0ea371e928878ab",
       "value": 10
      }
     },
     "0a7c206facb34e6988f2210e584ef79f": {
      "model_module": "@jupyter-widgets/controls",
      "model_module_version": "2.0.0",
      "model_name": "HBoxModel",
      "state": {
       "children": [
        "IPY_MODEL_8e959aba62c046968faec2eba0c17740",
        "IPY_MODEL_a799c05f7c614d37863bd666db34398b",
        "IPY_MODEL_5c9a836b624545feaeb81d2a9756d970"
       ],
       "layout": "IPY_MODEL_d2b13af61d784f5a9360f21a5195a6a8"
      }
     },
     "0adb6df5f56443a684972d56060c2354": {
      "model_module": "@jupyter-widgets/base",
      "model_module_version": "2.0.0",
      "model_name": "LayoutModel",
      "state": {}
     },
     "0b0ab0ddbb104bc3a0f5cf320dfc1557": {
      "model_module": "@jupyter-widgets/controls",
      "model_module_version": "2.0.0",
      "model_name": "HTMLModel",
      "state": {
       "layout": "IPY_MODEL_e94627c70c5a4c51bf8317be16e38c1f",
       "style": "IPY_MODEL_0534002475504b5698fc223acff6a9a5",
       "value": "100%"
      }
     },
     "0b133c36183248b084cd46240e85bfdf": {
      "model_module": "@jupyter-widgets/controls",
      "model_module_version": "2.0.0",
      "model_name": "FloatProgressModel",
      "state": {
       "bar_style": "success",
       "layout": "IPY_MODEL_45c211e573cb4526ad4e6211c5dda54f",
       "max": 10,
       "style": "IPY_MODEL_225b1ab655e94f77b67c6bc225b1f12a",
       "value": 10
      }
     },
     "0b9d9e6a5690479798c3db8bdb8a59ea": {
      "model_module": "@jupyter-widgets/controls",
      "model_module_version": "2.0.0",
      "model_name": "FloatProgressModel",
      "state": {
       "bar_style": "danger",
       "layout": "IPY_MODEL_9adc77a671bd4d6f8de485d479f1cf53",
       "max": 21,
       "style": "IPY_MODEL_3243bc87f9654e8ca8aa70b99c160c83",
       "value": 1
      }
     },
     "0be1853b96364b7ebb5752328208ed29": {
      "model_module": "@jupyter-widgets/controls",
      "model_module_version": "2.0.0",
      "model_name": "HTMLModel",
      "state": {
       "layout": "IPY_MODEL_f6e1dc895f284542bb2668b81ee4ee13",
       "style": "IPY_MODEL_85ec54ac6c7c4cd4862fa089e5b8e730",
       "value": " 10/10 [00:14&lt;00:00,  1.48s/it]"
      }
     },
     "0be6d6f0efc54b3aa042ebe5e0b8a070": {
      "model_module": "@jupyter-widgets/controls",
      "model_module_version": "2.0.0",
      "model_name": "ProgressStyleModel",
      "state": {
       "description_width": ""
      }
     },
     "0be886b3912f47ed977a09b72674d4f2": {
      "model_module": "@jupyter-widgets/base",
      "model_module_version": "2.0.0",
      "model_name": "LayoutModel",
      "state": {}
     },
     "0bf23986f58445fdaf19c64a9a75249b": {
      "model_module": "@jupyter-widgets/controls",
      "model_module_version": "2.0.0",
      "model_name": "HTMLStyleModel",
      "state": {
       "description_width": "",
       "font_size": null,
       "text_color": null
      }
     },
     "0c2d09068d584ca09832a198611eee72": {
      "model_module": "@jupyter-widgets/base",
      "model_module_version": "2.0.0",
      "model_name": "LayoutModel",
      "state": {}
     },
     "0c90c49a8f0d4b6d9083da44e4743bd7": {
      "model_module": "@jupyter-widgets/controls",
      "model_module_version": "2.0.0",
      "model_name": "HTMLStyleModel",
      "state": {
       "description_width": "",
       "font_size": null,
       "text_color": null
      }
     },
     "0c9317b1031c42dbad3898858d70a6a9": {
      "model_module": "@jupyter-widgets/controls",
      "model_module_version": "2.0.0",
      "model_name": "ProgressStyleModel",
      "state": {
       "description_width": ""
      }
     },
     "0cab9682f05543fb9164353cfcd31c91": {
      "model_module": "@jupyter-widgets/controls",
      "model_module_version": "2.0.0",
      "model_name": "HTMLModel",
      "state": {
       "layout": "IPY_MODEL_fa218ae6c98f41a580e4289c4d4de430",
       "style": "IPY_MODEL_412555fc81a24c72ba3cd79dec54f993",
       "value": " 10/10 [00:15&lt;00:00,  1.48s/it]"
      }
     },
     "0cd47ab1d4c54318acafe86ecd5e7a2b": {
      "model_module": "@jupyter-widgets/controls",
      "model_module_version": "2.0.0",
      "model_name": "ProgressStyleModel",
      "state": {
       "description_width": ""
      }
     },
     "0d01813abf2940189250162a15c8153a": {
      "model_module": "@jupyter-widgets/controls",
      "model_module_version": "2.0.0",
      "model_name": "HTMLModel",
      "state": {
       "layout": "IPY_MODEL_f94f118b473541a1bd078af927ebd9c2",
       "style": "IPY_MODEL_7c1663d12ba74716a99f55abbec51690",
       "value": "100%"
      }
     },
     "0d4d1bb40ade444c822a84dbb23cdd11": {
      "model_module": "@jupyter-widgets/controls",
      "model_module_version": "2.0.0",
      "model_name": "ProgressStyleModel",
      "state": {
       "description_width": ""
      }
     },
     "0d5f324d688b4351ab75292c65503600": {
      "model_module": "@jupyter-widgets/controls",
      "model_module_version": "2.0.0",
      "model_name": "HTMLStyleModel",
      "state": {
       "description_width": "",
       "font_size": null,
       "text_color": null
      }
     },
     "0d622b1a56544123a3889c6f78442cc8": {
      "model_module": "@jupyter-widgets/base",
      "model_module_version": "2.0.0",
      "model_name": "LayoutModel",
      "state": {}
     },
     "0d987ca353954a5283a91d4014e10e14": {
      "model_module": "@jupyter-widgets/base",
      "model_module_version": "2.0.0",
      "model_name": "LayoutModel",
      "state": {}
     },
     "0e386f54c8db4ab49cffcf40ff93aa94": {
      "model_module": "@jupyter-widgets/controls",
      "model_module_version": "2.0.0",
      "model_name": "HBoxModel",
      "state": {
       "children": [
        "IPY_MODEL_69b314b9dc604e75ae75300b3233473c",
        "IPY_MODEL_93bc97ce091a4c058752855add5f05b2",
        "IPY_MODEL_01ec0e3ee43c453b96777e654978a85e"
       ],
       "layout": "IPY_MODEL_a4a18cf917af44dbb0937f02735847c3"
      }
     },
     "0e5597d19e064eddbca9aafbccaa0c34": {
      "model_module": "@jupyter-widgets/controls",
      "model_module_version": "2.0.0",
      "model_name": "FloatProgressModel",
      "state": {
       "bar_style": "success",
       "layout": "IPY_MODEL_e75ae62a5a894b1092925c94d2dc6f41",
       "max": 10,
       "style": "IPY_MODEL_f3de42a2bf7f44baa4cbc69c3f07037a",
       "value": 10
      }
     },
     "0e5714d6bd9c422285fbc1797c05f86f": {
      "model_module": "@jupyter-widgets/controls",
      "model_module_version": "2.0.0",
      "model_name": "HBoxModel",
      "state": {
       "children": [
        "IPY_MODEL_49fe63f613034bec8c67fdc572a19457",
        "IPY_MODEL_7f29524c1e7d40e0a2511cdbb7934846",
        "IPY_MODEL_6b652feb28794b3c9ce25687d79d6d79"
       ],
       "layout": "IPY_MODEL_17011d29170942e5947634ec579f53c4"
      }
     },
     "0e84527dee5e4f9f96b559a4601c7a81": {
      "model_module": "@jupyter-widgets/controls",
      "model_module_version": "2.0.0",
      "model_name": "FloatProgressModel",
      "state": {
       "bar_style": "success",
       "layout": "IPY_MODEL_1cd5677e14124a30a26e0df1ce8383bd",
       "max": 10,
       "style": "IPY_MODEL_59d130bd5f6040feb696f55da0f96acf",
       "value": 10
      }
     },
     "0f90505aa6da430e8c3f6cd77ee361ce": {
      "model_module": "@jupyter-widgets/controls",
      "model_module_version": "2.0.0",
      "model_name": "HBoxModel",
      "state": {
       "children": [
        "IPY_MODEL_96bfa9091b984c9ea4a471a7c5c8739d",
        "IPY_MODEL_d71a6103b3484f059ccea6fe20ca0ec0",
        "IPY_MODEL_2be5282c83cd41d689cb9c55374c6e01"
       ],
       "layout": "IPY_MODEL_fef65d4e51834e66ba78464b4959294f"
      }
     },
     "1016e33569e249d0b620f3c7af9b2a7c": {
      "model_module": "@jupyter-widgets/controls",
      "model_module_version": "2.0.0",
      "model_name": "HTMLStyleModel",
      "state": {
       "description_width": "",
       "font_size": null,
       "text_color": null
      }
     },
     "10543be56aa44604978372b4e8cefbe5": {
      "model_module": "@jupyter-widgets/base",
      "model_module_version": "2.0.0",
      "model_name": "LayoutModel",
      "state": {}
     },
     "1089c85bb21e41bca9b73d84762848ee": {
      "model_module": "@jupyter-widgets/base",
      "model_module_version": "2.0.0",
      "model_name": "LayoutModel",
      "state": {}
     },
     "10995255af7a48c98f72af4dd922693d": {
      "model_module": "@jupyter-widgets/base",
      "model_module_version": "2.0.0",
      "model_name": "LayoutModel",
      "state": {}
     },
     "10b7e34d96f74108b1b2a2f78f268850": {
      "model_module": "@jupyter-widgets/controls",
      "model_module_version": "2.0.0",
      "model_name": "HTMLModel",
      "state": {
       "layout": "IPY_MODEL_efe782f274e248e284f510823ff3103b",
       "style": "IPY_MODEL_bb2b4df756784bd8b2c4166ef622a19d",
       "value": "100%"
      }
     },
     "116ba2da9de14323a596fe7c53ef2be4": {
      "model_module": "@jupyter-widgets/controls",
      "model_module_version": "2.0.0",
      "model_name": "ProgressStyleModel",
      "state": {
       "description_width": ""
      }
     },
     "11d656425b9b46a0b68a6bfc725b47f3": {
      "model_module": "@jupyter-widgets/controls",
      "model_module_version": "2.0.0",
      "model_name": "HTMLStyleModel",
      "state": {
       "description_width": "",
       "font_size": null,
       "text_color": null
      }
     },
     "11f36f1481d4459ead61035e6e836b41": {
      "model_module": "@jupyter-widgets/controls",
      "model_module_version": "2.0.0",
      "model_name": "HBoxModel",
      "state": {
       "children": [
        "IPY_MODEL_479bffdd2b664a108e8db42495811b72",
        "IPY_MODEL_0e84527dee5e4f9f96b559a4601c7a81",
        "IPY_MODEL_d9b17b5dee4a439699ec48f9e52dc76e"
       ],
       "layout": "IPY_MODEL_5d92f367ca194e4da78e435a3899e9db"
      }
     },
     "12c82e2ce1194d6c97a8b7bc1f47170f": {
      "model_module": "@jupyter-widgets/controls",
      "model_module_version": "2.0.0",
      "model_name": "HBoxModel",
      "state": {
       "children": [
        "IPY_MODEL_aa8cf7c0d7ca4de3a709cc7d9bdc8915",
        "IPY_MODEL_ba602cd193e241f6824dd0c9303b79fb",
        "IPY_MODEL_41f2bdf1dbf94cd3934e86de7cd6fa11"
       ],
       "layout": "IPY_MODEL_351e0cecab934d8ebe165e85517050c9"
      }
     },
     "130c9a837f0c4ed7aa9d85cf5a9c62ee": {
      "model_module": "@jupyter-widgets/controls",
      "model_module_version": "2.0.0",
      "model_name": "ProgressStyleModel",
      "state": {
       "description_width": ""
      }
     },
     "13626e97fa4b42ec92cf1ca45e89a0b7": {
      "model_module": "@jupyter-widgets/base",
      "model_module_version": "2.0.0",
      "model_name": "LayoutModel",
      "state": {}
     },
     "136f8af9c2f64d0da0aca6f00087d306": {
      "model_module": "@jupyter-widgets/base",
      "model_module_version": "2.0.0",
      "model_name": "LayoutModel",
      "state": {}
     },
     "143e7c2a829a4140b20f02fd46018615": {
      "model_module": "@jupyter-widgets/base",
      "model_module_version": "2.0.0",
      "model_name": "LayoutModel",
      "state": {}
     },
     "14524f9ff20e43d1b97eaf21a7cfefdc": {
      "model_module": "@jupyter-widgets/base",
      "model_module_version": "2.0.0",
      "model_name": "LayoutModel",
      "state": {}
     },
     "146b1a05058443859093dd7b75759467": {
      "model_module": "@jupyter-widgets/controls",
      "model_module_version": "2.0.0",
      "model_name": "HTMLStyleModel",
      "state": {
       "description_width": "",
       "font_size": null,
       "text_color": null
      }
     },
     "146c0150daad4e31a8502e313dcb109d": {
      "model_module": "@jupyter-widgets/controls",
      "model_module_version": "2.0.0",
      "model_name": "FloatProgressModel",
      "state": {
       "bar_style": "success",
       "layout": "IPY_MODEL_d382ae9d58404775985d8b4ae23696ff",
       "max": 10,
       "style": "IPY_MODEL_595251ba98714d98864c7c4ea2aeeb2d",
       "value": 10
      }
     },
     "149d09a8e2bb4141ab3516840a26f3e6": {
      "model_module": "@jupyter-widgets/controls",
      "model_module_version": "2.0.0",
      "model_name": "ProgressStyleModel",
      "state": {
       "description_width": ""
      }
     },
     "150feaca150541728cc3492572b66eb2": {
      "model_module": "@jupyter-widgets/controls",
      "model_module_version": "2.0.0",
      "model_name": "HTMLModel",
      "state": {
       "layout": "IPY_MODEL_0be886b3912f47ed977a09b72674d4f2",
       "style": "IPY_MODEL_95047aeaefc2499e9dbcb2e2f414c91c",
       "value": "100%"
      }
     },
     "15484c6a4ded4da39d29e94599fb9594": {
      "model_module": "@jupyter-widgets/controls",
      "model_module_version": "2.0.0",
      "model_name": "HBoxModel",
      "state": {
       "children": [
        "IPY_MODEL_83d1c8533ad6473c9712244e2e5bc81e",
        "IPY_MODEL_0b9d9e6a5690479798c3db8bdb8a59ea",
        "IPY_MODEL_67e1a3cac8e94170b5bc015760dc4aca"
       ],
       "layout": "IPY_MODEL_f3e6337ea2e14f0d86febc63e47e877b"
      }
     },
     "15b796c585c44e23bc341ec473680386": {
      "model_module": "@jupyter-widgets/controls",
      "model_module_version": "2.0.0",
      "model_name": "FloatProgressModel",
      "state": {
       "bar_style": "success",
       "layout": "IPY_MODEL_61e2e5f96bb2492e909731b7655daa88",
       "max": 10,
       "style": "IPY_MODEL_2a43c05253374fb39d54a26a626079cb",
       "value": 10
      }
     },
     "1645f383364c450a9e5b298c1751e79d": {
      "model_module": "@jupyter-widgets/base",
      "model_module_version": "2.0.0",
      "model_name": "LayoutModel",
      "state": {}
     },
     "16a3ad0c60f2422292b5c775b0929a6b": {
      "model_module": "@jupyter-widgets/base",
      "model_module_version": "2.0.0",
      "model_name": "LayoutModel",
      "state": {}
     },
     "17011d29170942e5947634ec579f53c4": {
      "model_module": "@jupyter-widgets/base",
      "model_module_version": "2.0.0",
      "model_name": "LayoutModel",
      "state": {}
     },
     "171e2b4d709e4d009e82a3f4756b9dff": {
      "model_module": "@jupyter-widgets/controls",
      "model_module_version": "2.0.0",
      "model_name": "ProgressStyleModel",
      "state": {
       "description_width": ""
      }
     },
     "17656e37f0a845e49b842c3f217fe8b2": {
      "model_module": "@jupyter-widgets/base",
      "model_module_version": "2.0.0",
      "model_name": "LayoutModel",
      "state": {}
     },
     "177fdd32aced49b7b7664c857f0dcfaa": {
      "model_module": "@jupyter-widgets/controls",
      "model_module_version": "2.0.0",
      "model_name": "HTMLStyleModel",
      "state": {
       "description_width": "",
       "font_size": null,
       "text_color": null
      }
     },
     "1787edfb13d34b32987c161fff919f78": {
      "model_module": "@jupyter-widgets/base",
      "model_module_version": "2.0.0",
      "model_name": "LayoutModel",
      "state": {}
     },
     "17c887466d4e4510abaaeda399e9d219": {
      "model_module": "@jupyter-widgets/controls",
      "model_module_version": "2.0.0",
      "model_name": "HTMLModel",
      "state": {
       "layout": "IPY_MODEL_c0a0ed4c96f14e91b77dbd5155accdbf",
       "style": "IPY_MODEL_31fb13b3d1454325bebcc02760ec47b5",
       "value": "100%"
      }
     },
     "17e45e891f114e3895bae2daf11f0b13": {
      "model_module": "@jupyter-widgets/controls",
      "model_module_version": "2.0.0",
      "model_name": "HTMLModel",
      "state": {
       "layout": "IPY_MODEL_0c2d09068d584ca09832a198611eee72",
       "style": "IPY_MODEL_ff8f3ddd1cd9492ba635bca12688d931",
       "value": " 21/21 [05:34&lt;00:00, 14.72s/it]"
      }
     },
     "18021189fcc84a5bab9dd3b76b0e6e4e": {
      "model_module": "@jupyter-widgets/controls",
      "model_module_version": "2.0.0",
      "model_name": "HTMLModel",
      "state": {
       "layout": "IPY_MODEL_fad2f3d943974f3fb7b70076c5ba1b08",
       "style": "IPY_MODEL_a89993ca71034bc59a7bf5a699fcc6f8",
       "value": " 10/10 [00:14&lt;00:00,  1.48s/it]"
      }
     },
     "18e24a4fc19d47faa001a2ea3153cf2a": {
      "model_module": "@jupyter-widgets/base",
      "model_module_version": "2.0.0",
      "model_name": "LayoutModel",
      "state": {}
     },
     "18eac493ad8e464da460c93979b81a19": {
      "model_module": "@jupyter-widgets/base",
      "model_module_version": "2.0.0",
      "model_name": "LayoutModel",
      "state": {}
     },
     "19024d58b9314777bd3880864c018f72": {
      "model_module": "@jupyter-widgets/controls",
      "model_module_version": "2.0.0",
      "model_name": "HTMLStyleModel",
      "state": {
       "description_width": "",
       "font_size": null,
       "text_color": null
      }
     },
     "19a00b5e7924411aab021acd2e9a8911": {
      "model_module": "@jupyter-widgets/controls",
      "model_module_version": "2.0.0",
      "model_name": "HTMLModel",
      "state": {
       "layout": "IPY_MODEL_59a9c78d684c4d96b01d02e11e700aee",
       "style": "IPY_MODEL_fe04a4452cc74102b77ec319742ab54f",
       "value": "100%"
      }
     },
     "19af9011f55e451b9c423a218f6b6784": {
      "model_module": "@jupyter-widgets/controls",
      "model_module_version": "2.0.0",
      "model_name": "HBoxModel",
      "state": {
       "children": [
        "IPY_MODEL_10b7e34d96f74108b1b2a2f78f268850",
        "IPY_MODEL_0e5597d19e064eddbca9aafbccaa0c34",
        "IPY_MODEL_6e5bf6adf9254508a77c7da8d52218aa"
       ],
       "layout": "IPY_MODEL_a3b0aabaf95d45b3b557fc0d1b61ff8a"
      }
     },
     "19cea8e5886f41bca5928e85161e7452": {
      "model_module": "@jupyter-widgets/base",
      "model_module_version": "2.0.0",
      "model_name": "LayoutModel",
      "state": {}
     },
     "1a211e64c97c4c6d884c111c1ba5d2b1": {
      "model_module": "@jupyter-widgets/base",
      "model_module_version": "2.0.0",
      "model_name": "LayoutModel",
      "state": {}
     },
     "1a52494979144ce0960f3365f4a78387": {
      "model_module": "@jupyter-widgets/controls",
      "model_module_version": "2.0.0",
      "model_name": "HTMLStyleModel",
      "state": {
       "description_width": "",
       "font_size": null,
       "text_color": null
      }
     },
     "1a71735844cc47efad728990538ca769": {
      "model_module": "@jupyter-widgets/base",
      "model_module_version": "2.0.0",
      "model_name": "LayoutModel",
      "state": {}
     },
     "1ac0b441d36f461ba0d88e547c72eec9": {
      "model_module": "@jupyter-widgets/controls",
      "model_module_version": "2.0.0",
      "model_name": "HTMLModel",
      "state": {
       "layout": "IPY_MODEL_45a0b575cf3f4189994b1087f8e47a89",
       "style": "IPY_MODEL_6ec5f3f6bfd64680af7ed88c9de9e7fb",
       "value": " 10/10 [00:15&lt;00:00,  1.49s/it]"
      }
     },
     "1aeaf5a6f6ee4ecfa757848a1c0ab77c": {
      "model_module": "@jupyter-widgets/controls",
      "model_module_version": "2.0.0",
      "model_name": "HTMLStyleModel",
      "state": {
       "description_width": "",
       "font_size": null,
       "text_color": null
      }
     },
     "1b20a4587dac4a10ba2c836e3a9b8bb6": {
      "model_module": "@jupyter-widgets/controls",
      "model_module_version": "2.0.0",
      "model_name": "HTMLStyleModel",
      "state": {
       "description_width": "",
       "font_size": null,
       "text_color": null
      }
     },
     "1b3d79e46cec464e8efec0ada14ed7f2": {
      "model_module": "@jupyter-widgets/base",
      "model_module_version": "2.0.0",
      "model_name": "LayoutModel",
      "state": {}
     },
     "1b3f7b0e02e44795862415fa785c4cc0": {
      "model_module": "@jupyter-widgets/base",
      "model_module_version": "2.0.0",
      "model_name": "LayoutModel",
      "state": {}
     },
     "1b4af29ff8b34ebf84a10e5d75bdb3f6": {
      "model_module": "@jupyter-widgets/base",
      "model_module_version": "2.0.0",
      "model_name": "LayoutModel",
      "state": {}
     },
     "1b95e5383e704ef9a1c6268ba981a936": {
      "model_module": "@jupyter-widgets/base",
      "model_module_version": "2.0.0",
      "model_name": "LayoutModel",
      "state": {}
     },
     "1be95186f00d4706b51b3edb70d61907": {
      "model_module": "@jupyter-widgets/controls",
      "model_module_version": "2.0.0",
      "model_name": "HTMLModel",
      "state": {
       "layout": "IPY_MODEL_864ed2ab98964384a72b44b21585a35f",
       "style": "IPY_MODEL_d6516542dbac439c86954d7e11f90ba2",
       "value": "  0%"
      }
     },
     "1c738a111d01485f8fc751e95a5e47fc": {
      "model_module": "@jupyter-widgets/controls",
      "model_module_version": "2.0.0",
      "model_name": "HTMLStyleModel",
      "state": {
       "description_width": "",
       "font_size": null,
       "text_color": null
      }
     },
     "1cd5677e14124a30a26e0df1ce8383bd": {
      "model_module": "@jupyter-widgets/base",
      "model_module_version": "2.0.0",
      "model_name": "LayoutModel",
      "state": {}
     },
     "1d018b937a464d7d89afe0dac306c425": {
      "model_module": "@jupyter-widgets/controls",
      "model_module_version": "2.0.0",
      "model_name": "ProgressStyleModel",
      "state": {
       "description_width": ""
      }
     },
     "1d47a8cf04374bd38a150f4aab833fe4": {
      "model_module": "@jupyter-widgets/controls",
      "model_module_version": "2.0.0",
      "model_name": "ProgressStyleModel",
      "state": {
       "description_width": ""
      }
     },
     "1d4ba80c6e8b4fecbb80f0e1a052e2d3": {
      "model_module": "@jupyter-widgets/controls",
      "model_module_version": "2.0.0",
      "model_name": "HBoxModel",
      "state": {
       "children": [
        "IPY_MODEL_dcf189c8d7d9405685a3af7ddc3c991d",
        "IPY_MODEL_91f84d4ecfc44f48854ffd7916c6aae9",
        "IPY_MODEL_9e120a8d4ddb482c95bf5456f87afab5"
       ],
       "layout": "IPY_MODEL_26ac1432d717408ca2cd163e539be776"
      }
     },
     "1dc9f94f05424ef9bb978262b1e81a8c": {
      "model_module": "@jupyter-widgets/controls",
      "model_module_version": "2.0.0",
      "model_name": "ProgressStyleModel",
      "state": {
       "description_width": ""
      }
     },
     "1deada5cad9f4c298f5f34d9c14a9e2b": {
      "model_module": "@jupyter-widgets/base",
      "model_module_version": "2.0.0",
      "model_name": "LayoutModel",
      "state": {}
     },
     "1e955b4fd9014eb3ace04e0b32677152": {
      "model_module": "@jupyter-widgets/base",
      "model_module_version": "2.0.0",
      "model_name": "LayoutModel",
      "state": {}
     },
     "1ea6c2f0a7c541bab38d12aa0503f883": {
      "model_module": "@jupyter-widgets/controls",
      "model_module_version": "2.0.0",
      "model_name": "HTMLStyleModel",
      "state": {
       "description_width": "",
       "font_size": null,
       "text_color": null
      }
     },
     "1ec53e8689e44d9cba0f7744a8d28876": {
      "model_module": "@jupyter-widgets/controls",
      "model_module_version": "2.0.0",
      "model_name": "HTMLModel",
      "state": {
       "layout": "IPY_MODEL_f9d1af74a6004b5798746c2c8aa771c1",
       "style": "IPY_MODEL_7a167acdd3ea40a8b92623e717b27143",
       "value": " 10/10 [00:14&lt;00:00,  1.48s/it]"
      }
     },
     "1f17b5044ab5433aab6b62b324c4ec48": {
      "model_module": "@jupyter-widgets/controls",
      "model_module_version": "2.0.0",
      "model_name": "ProgressStyleModel",
      "state": {
       "description_width": ""
      }
     },
     "1f886247a0f1495f9095eab928ecd9b5": {
      "model_module": "@jupyter-widgets/controls",
      "model_module_version": "2.0.0",
      "model_name": "HTMLModel",
      "state": {
       "layout": "IPY_MODEL_f3a15eb0683149c08fd19363c5e0a943",
       "style": "IPY_MODEL_355eff21e14c41b09f4560bafecd4e64",
       "value": " 10/10 [00:14&lt;00:00,  1.48s/it]"
      }
     },
     "20219e54952b410e94889f23a6265cac": {
      "model_module": "@jupyter-widgets/controls",
      "model_module_version": "2.0.0",
      "model_name": "HTMLModel",
      "state": {
       "layout": "IPY_MODEL_05c0b141763f49bfac7311938e69e7fb",
       "style": "IPY_MODEL_2db2e736e58e47d3ad6599ac31c384dc",
       "value": "100%"
      }
     },
     "202940d921d5465ea9c90ea0bfb05f5a": {
      "model_module": "@jupyter-widgets/controls",
      "model_module_version": "2.0.0",
      "model_name": "HBoxModel",
      "state": {
       "children": [
        "IPY_MODEL_b3a090abdc6944fcb77ffda4f30396fb",
        "IPY_MODEL_36605e640ce54bcd9c2f898e3f53728a",
        "IPY_MODEL_964961cb948e47daa45b069684fb8d85"
       ],
       "layout": "IPY_MODEL_3011cedf9dfd47d48af1fee751429dc2"
      }
     },
     "203e826dbfe946588aed775c632cae9f": {
      "model_module": "@jupyter-widgets/controls",
      "model_module_version": "2.0.0",
      "model_name": "HTMLStyleModel",
      "state": {
       "description_width": "",
       "font_size": null,
       "text_color": null
      }
     },
     "204aff8c397f4bf4becc3b0a9b3921cc": {
      "model_module": "@jupyter-widgets/base",
      "model_module_version": "2.0.0",
      "model_name": "LayoutModel",
      "state": {}
     },
     "20ad8695903d4735868a0ff75d4dcbf8": {
      "model_module": "@jupyter-widgets/controls",
      "model_module_version": "2.0.0",
      "model_name": "HTMLModel",
      "state": {
       "layout": "IPY_MODEL_9a848d5015da4648aa2f4902cd6be641",
       "style": "IPY_MODEL_2c830f3bfd194375b8ab7b7a9d4cd2af",
       "value": " 40%"
      }
     },
     "20ead5ba9f704c9ab16e587615dc7b43": {
      "model_module": "@jupyter-widgets/base",
      "model_module_version": "2.0.0",
      "model_name": "LayoutModel",
      "state": {}
     },
     "2105c04bae074e28ac7570eb3e09fcef": {
      "model_module": "@jupyter-widgets/controls",
      "model_module_version": "2.0.0",
      "model_name": "HTMLModel",
      "state": {
       "layout": "IPY_MODEL_40695bd266354ca08b20c140a622fec9",
       "style": "IPY_MODEL_387b8d2a39b64d63b3b1e52a17300ed2",
       "value": " 21/21 [05:33&lt;00:00, 14.93s/it]"
      }
     },
     "210a92c0b6a548349dfcf2ca846f13b5": {
      "model_module": "@jupyter-widgets/base",
      "model_module_version": "2.0.0",
      "model_name": "LayoutModel",
      "state": {}
     },
     "217575ad3aca46288357303ba7feaaca": {
      "model_module": "@jupyter-widgets/controls",
      "model_module_version": "2.0.0",
      "model_name": "ProgressStyleModel",
      "state": {
       "description_width": ""
      }
     },
     "21a0173bb4624b9d9aa1e4c533e9271d": {
      "model_module": "@jupyter-widgets/controls",
      "model_module_version": "2.0.0",
      "model_name": "HTMLModel",
      "state": {
       "layout": "IPY_MODEL_2de083cb056849859361001af96bc8b1",
       "style": "IPY_MODEL_7f1611912e8d419fa036c1a8d57a5e8a",
       "value": " 0/21 [00:10&lt;?, ?it/s]"
      }
     },
     "220ad85d91644e4f9d364e6fde1067cd": {
      "model_module": "@jupyter-widgets/base",
      "model_module_version": "2.0.0",
      "model_name": "LayoutModel",
      "state": {}
     },
     "225b1ab655e94f77b67c6bc225b1f12a": {
      "model_module": "@jupyter-widgets/controls",
      "model_module_version": "2.0.0",
      "model_name": "ProgressStyleModel",
      "state": {
       "description_width": ""
      }
     },
     "226a7abb754949cfa891338ac29a85fa": {
      "model_module": "@jupyter-widgets/controls",
      "model_module_version": "2.0.0",
      "model_name": "HBoxModel",
      "state": {
       "children": [
        "IPY_MODEL_ee0f4492106a4567a6255f772b058b25",
        "IPY_MODEL_88e01c95290e482ca91a6802e402066b",
        "IPY_MODEL_a3212b7e9a174feeb06cd0e7aa46e866"
       ],
       "layout": "IPY_MODEL_17656e37f0a845e49b842c3f217fe8b2"
      }
     },
     "228c820929f84a73a96ae1eebce1ea9f": {
      "model_module": "@jupyter-widgets/base",
      "model_module_version": "2.0.0",
      "model_name": "LayoutModel",
      "state": {}
     },
     "22ae53c88e0d480b8cee0eadd9e21219": {
      "model_module": "@jupyter-widgets/base",
      "model_module_version": "2.0.0",
      "model_name": "LayoutModel",
      "state": {}
     },
     "22e1ec541cf34d49b49833d8ee2a6d36": {
      "model_module": "@jupyter-widgets/controls",
      "model_module_version": "2.0.0",
      "model_name": "HTMLStyleModel",
      "state": {
       "description_width": "",
       "font_size": null,
       "text_color": null
      }
     },
     "24373ded9a3b45c4bf355e40b84c0243": {
      "model_module": "@jupyter-widgets/controls",
      "model_module_version": "2.0.0",
      "model_name": "FloatProgressModel",
      "state": {
       "bar_style": "success",
       "layout": "IPY_MODEL_10543be56aa44604978372b4e8cefbe5",
       "max": 10,
       "style": "IPY_MODEL_116ba2da9de14323a596fe7c53ef2be4",
       "value": 10
      }
     },
     "243a8af7aa5f44348c2cefb5cae02a60": {
      "model_module": "@jupyter-widgets/controls",
      "model_module_version": "2.0.0",
      "model_name": "HBoxModel",
      "state": {
       "children": [
        "IPY_MODEL_04ef307c859749678f98154c14c266e9",
        "IPY_MODEL_90ff59c485524807a047e095e872d55e",
        "IPY_MODEL_c3ce2cdd19b7431b9a5c2d719a7e1c25"
       ],
       "layout": "IPY_MODEL_b9ca50cef213474a9f483f96b07fcb50"
      }
     },
     "2465c767301642edb8006c05db415afb": {
      "model_module": "@jupyter-widgets/base",
      "model_module_version": "2.0.0",
      "model_name": "LayoutModel",
      "state": {}
     },
     "2495a18c6fb94623ba291a620bce558f": {
      "model_module": "@jupyter-widgets/base",
      "model_module_version": "2.0.0",
      "model_name": "LayoutModel",
      "state": {}
     },
     "24b9214bf99645608fb686076cc36bd9": {
      "model_module": "@jupyter-widgets/base",
      "model_module_version": "2.0.0",
      "model_name": "LayoutModel",
      "state": {}
     },
     "24bdfe7796b444d7a1e638f6884280a2": {
      "model_module": "@jupyter-widgets/base",
      "model_module_version": "2.0.0",
      "model_name": "LayoutModel",
      "state": {}
     },
     "252c35ac2e494373869e9833942b0213": {
      "model_module": "@jupyter-widgets/controls",
      "model_module_version": "2.0.0",
      "model_name": "ProgressStyleModel",
      "state": {
       "description_width": ""
      }
     },
     "25755ccda7514aaba3cd5e10c689099e": {
      "model_module": "@jupyter-widgets/base",
      "model_module_version": "2.0.0",
      "model_name": "LayoutModel",
      "state": {}
     },
     "25a26dd1fa924b40bcbe40553d41176e": {
      "model_module": "@jupyter-widgets/controls",
      "model_module_version": "2.0.0",
      "model_name": "HTMLModel",
      "state": {
       "layout": "IPY_MODEL_b5f82f4673794d8aa82f9b70f8bad05f",
       "style": "IPY_MODEL_4fcbbe8f43a648fd8028bc76f1c97df2",
       "value": "100%"
      }
     },
     "25b560dffbc541af83a2faf1b5e7af99": {
      "model_module": "@jupyter-widgets/controls",
      "model_module_version": "2.0.0",
      "model_name": "ProgressStyleModel",
      "state": {
       "description_width": ""
      }
     },
     "25e10f8b3f0f4b8ba8fda5c37febcd89": {
      "model_module": "@jupyter-widgets/controls",
      "model_module_version": "2.0.0",
      "model_name": "HTMLModel",
      "state": {
       "layout": "IPY_MODEL_3d3a674b4dcd4a22977c3b6f3bfb8347",
       "style": "IPY_MODEL_f1326f2869234a3a9f9b947b2b208a57",
       "value": "100%"
      }
     },
     "268ea3e25cdf4d8e930dbe7a338f1f25": {
      "model_module": "@jupyter-widgets/controls",
      "model_module_version": "2.0.0",
      "model_name": "FloatProgressModel",
      "state": {
       "bar_style": "success",
       "layout": "IPY_MODEL_f28a14749a794c169435a009fd39eee6",
       "max": 10,
       "style": "IPY_MODEL_c1ba472f03c944a1b33d2ae25ce63752",
       "value": 10
      }
     },
     "26ac1432d717408ca2cd163e539be776": {
      "model_module": "@jupyter-widgets/base",
      "model_module_version": "2.0.0",
      "model_name": "LayoutModel",
      "state": {}
     },
     "26e657b4d37a47ee9c9c2632a2e1bd4e": {
      "model_module": "@jupyter-widgets/controls",
      "model_module_version": "2.0.0",
      "model_name": "FloatProgressModel",
      "state": {
       "bar_style": "danger",
       "layout": "IPY_MODEL_5db8b03744e34a10ae104b2b0775e7ca",
       "max": 10,
       "style": "IPY_MODEL_81c2cb4154074103896a1d578966297f",
       "value": 9
      }
     },
     "275799f3fd7d43c89b64f36c6825ca98": {
      "model_module": "@jupyter-widgets/base",
      "model_module_version": "2.0.0",
      "model_name": "LayoutModel",
      "state": {}
     },
     "27acc79bbd8b4f1e98f23dc95d8d099f": {
      "model_module": "@jupyter-widgets/controls",
      "model_module_version": "2.0.0",
      "model_name": "HTMLModel",
      "state": {
       "layout": "IPY_MODEL_19cea8e5886f41bca5928e85161e7452",
       "style": "IPY_MODEL_a1209b34a2a041e08266ac6bdaf1f342",
       "value": "100%"
      }
     },
     "280fa01df3e14362953ebd9884d76ea4": {
      "model_module": "@jupyter-widgets/controls",
      "model_module_version": "2.0.0",
      "model_name": "FloatProgressModel",
      "state": {
       "bar_style": "success",
       "layout": "IPY_MODEL_7bef5d8b356246d39d9ecf8a3220059a",
       "max": 10,
       "style": "IPY_MODEL_9676d83418314bfc89e5a5215f40dac2",
       "value": 10
      }
     },
     "2873ca6b44dd487da1ab6a81f9688a2f": {
      "model_module": "@jupyter-widgets/controls",
      "model_module_version": "2.0.0",
      "model_name": "HTMLModel",
      "state": {
       "layout": "IPY_MODEL_c3594a70b36940e7a4da893d3cdae1c2",
       "style": "IPY_MODEL_1b20a4587dac4a10ba2c836e3a9b8bb6",
       "value": "100%"
      }
     },
     "28b782fe82e6477180ee5a7a1a3ba58a": {
      "model_module": "@jupyter-widgets/controls",
      "model_module_version": "2.0.0",
      "model_name": "HBoxModel",
      "state": {
       "children": [
        "IPY_MODEL_b9d8d900eebc40c1811bec7d244e1f7e",
        "IPY_MODEL_68b033d584b645d29b19ef4a88401518",
        "IPY_MODEL_9cebf9814d00498bab919aafc9b7a2ac"
       ],
       "layout": "IPY_MODEL_3414ec69c56245258812909ed868e2b8"
      }
     },
     "2955c7ee285e48149c5eb7e0a68f2f13": {
      "model_module": "@jupyter-widgets/base",
      "model_module_version": "2.0.0",
      "model_name": "LayoutModel",
      "state": {}
     },
     "29b63ce26ac542debb0ecae7490c9c49": {
      "model_module": "@jupyter-widgets/controls",
      "model_module_version": "2.0.0",
      "model_name": "HBoxModel",
      "state": {
       "children": [
        "IPY_MODEL_e399ecdc4fa84131b9e9bd3750e37d66",
        "IPY_MODEL_020d9b0773054a49a55afbc238fbe2db",
        "IPY_MODEL_bd18712d59514cf5bcbf0fb056a04fea"
       ],
       "layout": "IPY_MODEL_1b95e5383e704ef9a1c6268ba981a936"
      }
     },
     "29c468ed907f4e1296b79ce8644ea832": {
      "model_module": "@jupyter-widgets/base",
      "model_module_version": "2.0.0",
      "model_name": "LayoutModel",
      "state": {}
     },
     "29d1f7a24c8f4f318843406249ad73fb": {
      "model_module": "@jupyter-widgets/controls",
      "model_module_version": "2.0.0",
      "model_name": "FloatProgressModel",
      "state": {
       "bar_style": "danger",
       "layout": "IPY_MODEL_9ddca5dddd4f4b32b64f4444567ea3b2",
       "max": 21,
       "style": "IPY_MODEL_eb292b005bab44b1ad25e5a49afc5a61",
       "value": 2
      }
     },
     "29e7f48df415436b905f03b78b29d4eb": {
      "model_module": "@jupyter-widgets/base",
      "model_module_version": "2.0.0",
      "model_name": "LayoutModel",
      "state": {}
     },
     "2a43c05253374fb39d54a26a626079cb": {
      "model_module": "@jupyter-widgets/controls",
      "model_module_version": "2.0.0",
      "model_name": "ProgressStyleModel",
      "state": {
       "description_width": ""
      }
     },
     "2a5c9234786147fe9c9309a846737ec6": {
      "model_module": "@jupyter-widgets/controls",
      "model_module_version": "2.0.0",
      "model_name": "HTMLStyleModel",
      "state": {
       "description_width": "",
       "font_size": null,
       "text_color": null
      }
     },
     "2a9af546295845a7ad4b7d5dcde6d388": {
      "model_module": "@jupyter-widgets/controls",
      "model_module_version": "2.0.0",
      "model_name": "HBoxModel",
      "state": {
       "children": [
        "IPY_MODEL_e771f571e8a742b89f4aa60cca92e6f9",
        "IPY_MODEL_499479b3d1ec4adda0649f7d1c16c61f",
        "IPY_MODEL_a54e80f46f1440ec9e10af00c8e51178"
       ],
       "layout": "IPY_MODEL_bf9638d48b7545ef94866af80868375d"
      }
     },
     "2ad91377edc94bf682fe943a0b2c51cc": {
      "model_module": "@jupyter-widgets/controls",
      "model_module_version": "2.0.0",
      "model_name": "HTMLModel",
      "state": {
       "layout": "IPY_MODEL_7cbdf53004ac4aeb93c70b00230850b0",
       "style": "IPY_MODEL_9afbb0651fce4b7fa567b0aec0f9ed0c",
       "value": "100%"
      }
     },
     "2ba0dbc5d147414b85e3279e9f2d2b8b": {
      "model_module": "@jupyter-widgets/controls",
      "model_module_version": "2.0.0",
      "model_name": "FloatProgressModel",
      "state": {
       "bar_style": "success",
       "layout": "IPY_MODEL_d244e39f694e439fba3ff81af4ceaf9d",
       "max": 10,
       "style": "IPY_MODEL_6d443cdfa6b4433982b01330fbfce203",
       "value": 10
      }
     },
     "2bb2c296c7c34378a15c6d0b7c7c18f7": {
      "model_module": "@jupyter-widgets/controls",
      "model_module_version": "2.0.0",
      "model_name": "FloatProgressModel",
      "state": {
       "bar_style": "success",
       "layout": "IPY_MODEL_aa724e5cd6eb4699b0dd5b9ea2b6e318",
       "max": 10,
       "style": "IPY_MODEL_bb3bede19dd6405f86ad22dc2a1d6a94",
       "value": 10
      }
     },
     "2be5282c83cd41d689cb9c55374c6e01": {
      "model_module": "@jupyter-widgets/controls",
      "model_module_version": "2.0.0",
      "model_name": "HTMLModel",
      "state": {
       "layout": "IPY_MODEL_6daf2d659795410a88c5560227bf44de",
       "style": "IPY_MODEL_04255e5dd93c423ea277eadf8d49cf95",
       "value": " 10/10 [00:14&lt;00:00,  1.45s/it]"
      }
     },
     "2c830f3bfd194375b8ab7b7a9d4cd2af": {
      "model_module": "@jupyter-widgets/controls",
      "model_module_version": "2.0.0",
      "model_name": "HTMLStyleModel",
      "state": {
       "description_width": "",
       "font_size": null,
       "text_color": null
      }
     },
     "2cb0b6403f56462fbc31d5df3de8ec5c": {
      "model_module": "@jupyter-widgets/base",
      "model_module_version": "2.0.0",
      "model_name": "LayoutModel",
      "state": {}
     },
     "2cbf0961a69c4c51bc944a1a57556013": {
      "model_module": "@jupyter-widgets/controls",
      "model_module_version": "2.0.0",
      "model_name": "HTMLModel",
      "state": {
       "layout": "IPY_MODEL_c79bfc238d2446d2b905113e486a3780",
       "style": "IPY_MODEL_a60d32d221e94c279a2797ae8623f7db",
       "value": " 10/10 [00:14&lt;00:00,  1.50s/it]"
      }
     },
     "2ccdd39e9e3a4cf3bc071a98ac7d0475": {
      "model_module": "@jupyter-widgets/base",
      "model_module_version": "2.0.0",
      "model_name": "LayoutModel",
      "state": {}
     },
     "2d3c830585124b85ae59a2484c5eb41f": {
      "model_module": "@jupyter-widgets/controls",
      "model_module_version": "2.0.0",
      "model_name": "HTMLStyleModel",
      "state": {
       "description_width": "",
       "font_size": null,
       "text_color": null
      }
     },
     "2d468d3b76ae40acb0164476b2f897e7": {
      "model_module": "@jupyter-widgets/base",
      "model_module_version": "2.0.0",
      "model_name": "LayoutModel",
      "state": {}
     },
     "2d5483e26fbe4fd28dfc07f64355e208": {
      "model_module": "@jupyter-widgets/controls",
      "model_module_version": "2.0.0",
      "model_name": "HBoxModel",
      "state": {
       "children": [
        "IPY_MODEL_ba96809959e643eb884bc8cc8729bb80",
        "IPY_MODEL_f278b8be77de442db55314c987eae018",
        "IPY_MODEL_cfe7faf71737486da8db90a8b3ce5578"
       ],
       "layout": "IPY_MODEL_1a71735844cc47efad728990538ca769"
      }
     },
     "2db2e736e58e47d3ad6599ac31c384dc": {
      "model_module": "@jupyter-widgets/controls",
      "model_module_version": "2.0.0",
      "model_name": "HTMLStyleModel",
      "state": {
       "description_width": "",
       "font_size": null,
       "text_color": null
      }
     },
     "2de083cb056849859361001af96bc8b1": {
      "model_module": "@jupyter-widgets/base",
      "model_module_version": "2.0.0",
      "model_name": "LayoutModel",
      "state": {}
     },
     "2de77f2c6a674442a96b297c044e62f6": {
      "model_module": "@jupyter-widgets/base",
      "model_module_version": "2.0.0",
      "model_name": "LayoutModel",
      "state": {}
     },
     "2ebc5e69c9574ec286e9188957dd58c9": {
      "model_module": "@jupyter-widgets/base",
      "model_module_version": "2.0.0",
      "model_name": "LayoutModel",
      "state": {}
     },
     "2eee9ef43e7f41c4a3ba87501a13d2e3": {
      "model_module": "@jupyter-widgets/controls",
      "model_module_version": "2.0.0",
      "model_name": "HBoxModel",
      "state": {
       "children": [
        "IPY_MODEL_bb415e35d758455b9d8d075ed1c36841",
        "IPY_MODEL_4047c08715fc400fa0d7a3da286b636f",
        "IPY_MODEL_3bac93d748c14769ae68d861a2746338"
       ],
       "layout": "IPY_MODEL_d98fbcfff1ab4023850908039b0bb61b"
      }
     },
     "2f2eec900f3e40d6a2d62f4bac289797": {
      "model_module": "@jupyter-widgets/controls",
      "model_module_version": "2.0.0",
      "model_name": "HTMLStyleModel",
      "state": {
       "description_width": "",
       "font_size": null,
       "text_color": null
      }
     },
     "2f66c73197f44940b0fb127e7d5ef21a": {
      "model_module": "@jupyter-widgets/controls",
      "model_module_version": "2.0.0",
      "model_name": "ProgressStyleModel",
      "state": {
       "description_width": ""
      }
     },
     "2fd863311c35430893e43df0292b2c11": {
      "model_module": "@jupyter-widgets/base",
      "model_module_version": "2.0.0",
      "model_name": "LayoutModel",
      "state": {}
     },
     "3011cedf9dfd47d48af1fee751429dc2": {
      "model_module": "@jupyter-widgets/base",
      "model_module_version": "2.0.0",
      "model_name": "LayoutModel",
      "state": {}
     },
     "30679a7aa16f4f7692bc4a05abc90a08": {
      "model_module": "@jupyter-widgets/controls",
      "model_module_version": "2.0.0",
      "model_name": "HTMLStyleModel",
      "state": {
       "description_width": "",
       "font_size": null,
       "text_color": null
      }
     },
     "30cbc6ea8c7c49078057ac175ffb6fc0": {
      "model_module": "@jupyter-widgets/base",
      "model_module_version": "2.0.0",
      "model_name": "LayoutModel",
      "state": {}
     },
     "30d04a3620b849dd8a3096b53a19b045": {
      "model_module": "@jupyter-widgets/controls",
      "model_module_version": "2.0.0",
      "model_name": "FloatProgressModel",
      "state": {
       "bar_style": "success",
       "layout": "IPY_MODEL_548e032100af4cc7a5212a4b07b9fc1c",
       "max": 10,
       "style": "IPY_MODEL_91807d36dba64475bc18ff9f5cb27310",
       "value": 10
      }
     },
     "3124f93108384ffe8e495b7dcb90909a": {
      "model_module": "@jupyter-widgets/controls",
      "model_module_version": "2.0.0",
      "model_name": "FloatProgressModel",
      "state": {
       "bar_style": "success",
       "layout": "IPY_MODEL_e27cc7ffa3604480afd4eee74e8c4c44",
       "max": 21,
       "style": "IPY_MODEL_3f10fa5baf52420a876485db19613189",
       "value": 21
      }
     },
     "31aec99524504acaa24e5870df120541": {
      "model_module": "@jupyter-widgets/controls",
      "model_module_version": "2.0.0",
      "model_name": "HTMLStyleModel",
      "state": {
       "description_width": "",
       "font_size": null,
       "text_color": null
      }
     },
     "31afdbefc9b34bc7bd366235353274ae": {
      "model_module": "@jupyter-widgets/controls",
      "model_module_version": "2.0.0",
      "model_name": "HTMLModel",
      "state": {
       "layout": "IPY_MODEL_29c468ed907f4e1296b79ce8644ea832",
       "style": "IPY_MODEL_fe2c0b7f569d40e0a6aa4c85d95adb98",
       "value": "100%"
      }
     },
     "31b4d61948f14113addfd945e4a349cb": {
      "model_module": "@jupyter-widgets/controls",
      "model_module_version": "2.0.0",
      "model_name": "HBoxModel",
      "state": {
       "children": [
        "IPY_MODEL_b298c4b030384e1e835b0527f346d32a",
        "IPY_MODEL_26e657b4d37a47ee9c9c2632a2e1bd4e",
        "IPY_MODEL_d2af0baf99f34574a10effe6f733d4b7"
       ],
       "layout": "IPY_MODEL_81c5f5fefbaa446db6c7f1e3db3cdd56"
      }
     },
     "31c7c74423c24efcb21e5d166b9d0a7e": {
      "model_module": "@jupyter-widgets/base",
      "model_module_version": "2.0.0",
      "model_name": "LayoutModel",
      "state": {}
     },
     "31fb13b3d1454325bebcc02760ec47b5": {
      "model_module": "@jupyter-widgets/controls",
      "model_module_version": "2.0.0",
      "model_name": "HTMLStyleModel",
      "state": {
       "description_width": "",
       "font_size": null,
       "text_color": null
      }
     },
     "3243bc87f9654e8ca8aa70b99c160c83": {
      "model_module": "@jupyter-widgets/controls",
      "model_module_version": "2.0.0",
      "model_name": "ProgressStyleModel",
      "state": {
       "description_width": ""
      }
     },
     "32738354452944e7a09cf8e7f94c9901": {
      "model_module": "@jupyter-widgets/base",
      "model_module_version": "2.0.0",
      "model_name": "LayoutModel",
      "state": {}
     },
     "3414ec69c56245258812909ed868e2b8": {
      "model_module": "@jupyter-widgets/base",
      "model_module_version": "2.0.0",
      "model_name": "LayoutModel",
      "state": {}
     },
     "3448769d6c1a498d8e963301de21c3a5": {
      "model_module": "@jupyter-widgets/base",
      "model_module_version": "2.0.0",
      "model_name": "LayoutModel",
      "state": {}
     },
     "347561495141451d8197c751d45f5b62": {
      "model_module": "@jupyter-widgets/controls",
      "model_module_version": "2.0.0",
      "model_name": "HTMLStyleModel",
      "state": {
       "description_width": "",
       "font_size": null,
       "text_color": null
      }
     },
     "34d55648e7e948139713c61d307a07f0": {
      "model_module": "@jupyter-widgets/controls",
      "model_module_version": "2.0.0",
      "model_name": "HBoxModel",
      "state": {
       "children": [
        "IPY_MODEL_c68dc3fb454a4822bc370a202284ed9c",
        "IPY_MODEL_358a4a555b4e45039596f05b2146624a",
        "IPY_MODEL_e81105210b0148febf69213106899fbd"
       ],
       "layout": "IPY_MODEL_d2714947af214e77a58ed19c41cb992f"
      }
     },
     "351e0cecab934d8ebe165e85517050c9": {
      "model_module": "@jupyter-widgets/base",
      "model_module_version": "2.0.0",
      "model_name": "LayoutModel",
      "state": {}
     },
     "353877cbb3f24f3ca5f0a7e8d7302bda": {
      "model_module": "@jupyter-widgets/controls",
      "model_module_version": "2.0.0",
      "model_name": "HTMLModel",
      "state": {
       "layout": "IPY_MODEL_ef97a6d15bd54367bb6f0fe90ce984ee",
       "style": "IPY_MODEL_7eb279bf7d134be993726c6e4d35000b",
       "value": " 10/10 [00:14&lt;00:00,  1.45s/it]"
      }
     },
     "355eff21e14c41b09f4560bafecd4e64": {
      "model_module": "@jupyter-widgets/controls",
      "model_module_version": "2.0.0",
      "model_name": "HTMLStyleModel",
      "state": {
       "description_width": "",
       "font_size": null,
       "text_color": null
      }
     },
     "3564d05eeb3e44708e7aa6c63bb214b2": {
      "model_module": "@jupyter-widgets/controls",
      "model_module_version": "2.0.0",
      "model_name": "HTMLModel",
      "state": {
       "layout": "IPY_MODEL_b04747e58a9c49c88232a40a004e9b75",
       "style": "IPY_MODEL_7a7f87595c3f4b7aa72f999ef157fa29",
       "value": " 10%"
      }
     },
     "358a4a555b4e45039596f05b2146624a": {
      "model_module": "@jupyter-widgets/controls",
      "model_module_version": "2.0.0",
      "model_name": "FloatProgressModel",
      "state": {
       "bar_style": "success",
       "layout": "IPY_MODEL_c28248b6fe8f4ce9b8c5d66605f1a6c6",
       "max": 10,
       "style": "IPY_MODEL_09d5a81a768a4ea18dc9d6b2cb21e42a",
       "value": 10
      }
     },
     "35dff74cde194ff48e7f7f716d6dc650": {
      "model_module": "@jupyter-widgets/controls",
      "model_module_version": "2.0.0",
      "model_name": "HTMLModel",
      "state": {
       "layout": "IPY_MODEL_0adb6df5f56443a684972d56060c2354",
       "style": "IPY_MODEL_03d723cc7a0e43b58f151fcdfb649687",
       "value": " 10/10 [00:15&lt;00:00,  1.51s/it]"
      }
     },
     "35e6131c832c43c68472e6d72b68a241": {
      "model_module": "@jupyter-widgets/controls",
      "model_module_version": "2.0.0",
      "model_name": "HTMLModel",
      "state": {
       "layout": "IPY_MODEL_31c7c74423c24efcb21e5d166b9d0a7e",
       "style": "IPY_MODEL_8a33bf6d414d470195a511d1840662f9",
       "value": " 10/10 [00:14&lt;00:00,  1.44s/it]"
      }
     },
     "3601ca2926c041209fcab4c00c9fc3b9": {
      "model_module": "@jupyter-widgets/controls",
      "model_module_version": "2.0.0",
      "model_name": "FloatProgressModel",
      "state": {
       "bar_style": "success",
       "layout": "IPY_MODEL_6801710d6a9a4d56b3ec78180d159c6b",
       "max": 10,
       "style": "IPY_MODEL_bf3a972029884b1d9cc53f09bb924b9b",
       "value": 10
      }
     },
     "36605e640ce54bcd9c2f898e3f53728a": {
      "model_module": "@jupyter-widgets/controls",
      "model_module_version": "2.0.0",
      "model_name": "FloatProgressModel",
      "state": {
       "bar_style": "success",
       "layout": "IPY_MODEL_768e16cfb2e44fad9d6ee7539cb6def6",
       "max": 10,
       "style": "IPY_MODEL_52172ad07e3848749cb40052252ee266",
       "value": 10
      }
     },
     "377ba64d8c364d5c85824514eff4164e": {
      "model_module": "@jupyter-widgets/controls",
      "model_module_version": "2.0.0",
      "model_name": "ProgressStyleModel",
      "state": {
       "description_width": ""
      }
     },
     "37b3a507ccc94271950b043eb54fd916": {
      "model_module": "@jupyter-widgets/base",
      "model_module_version": "2.0.0",
      "model_name": "LayoutModel",
      "state": {}
     },
     "387b8d2a39b64d63b3b1e52a17300ed2": {
      "model_module": "@jupyter-widgets/controls",
      "model_module_version": "2.0.0",
      "model_name": "HTMLStyleModel",
      "state": {
       "description_width": "",
       "font_size": null,
       "text_color": null
      }
     },
     "38bbb1e1be9a47f7b442bed0c4a409cc": {
      "model_module": "@jupyter-widgets/base",
      "model_module_version": "2.0.0",
      "model_name": "LayoutModel",
      "state": {}
     },
     "38da9c0810e14bae88cbeec247e6184b": {
      "model_module": "@jupyter-widgets/controls",
      "model_module_version": "2.0.0",
      "model_name": "HTMLModel",
      "state": {
       "layout": "IPY_MODEL_9bdf1169864d498eaf03e6cb7f8453de",
       "style": "IPY_MODEL_60807c92a87b48a8bc5728dd6ca45a8b",
       "value": "100%"
      }
     },
     "38f8d9af60614e0cbbbd55bbd29a7ddf": {
      "model_module": "@jupyter-widgets/controls",
      "model_module_version": "2.0.0",
      "model_name": "HTMLStyleModel",
      "state": {
       "description_width": "",
       "font_size": null,
       "text_color": null
      }
     },
     "396caf2bd14642808c1da40ac01ab44e": {
      "model_module": "@jupyter-widgets/controls",
      "model_module_version": "2.0.0",
      "model_name": "HTMLStyleModel",
      "state": {
       "description_width": "",
       "font_size": null,
       "text_color": null
      }
     },
     "3b37931497814f32aeca61b644cde57c": {
      "model_module": "@jupyter-widgets/base",
      "model_module_version": "2.0.0",
      "model_name": "LayoutModel",
      "state": {}
     },
     "3bac93d748c14769ae68d861a2746338": {
      "model_module": "@jupyter-widgets/controls",
      "model_module_version": "2.0.0",
      "model_name": "HTMLModel",
      "state": {
       "layout": "IPY_MODEL_5baadd1cf3d342b3872278df92cf9045",
       "style": "IPY_MODEL_7e4f0eae390b450aa3f04afc00316606",
       "value": " 10/10 [00:14&lt;00:00,  1.45s/it]"
      }
     },
     "3c2bf8a017b049d09b609d9e4d873c92": {
      "model_module": "@jupyter-widgets/controls",
      "model_module_version": "2.0.0",
      "model_name": "HTMLStyleModel",
      "state": {
       "description_width": "",
       "font_size": null,
       "text_color": null
      }
     },
     "3c3a8640956743f5bce06f811067df3f": {
      "model_module": "@jupyter-widgets/controls",
      "model_module_version": "2.0.0",
      "model_name": "HTMLStyleModel",
      "state": {
       "description_width": "",
       "font_size": null,
       "text_color": null
      }
     },
     "3c4087b3c9cc46758d65da8c7361dceb": {
      "model_module": "@jupyter-widgets/controls",
      "model_module_version": "2.0.0",
      "model_name": "HTMLModel",
      "state": {
       "layout": "IPY_MODEL_e8081d6dc08643f7890fad7b703acc5c",
       "style": "IPY_MODEL_91045c6716ea4883b1c397c8292e7675",
       "value": "100%"
      }
     },
     "3c7d35e5a2254000ba16a174cc7c0747": {
      "model_module": "@jupyter-widgets/controls",
      "model_module_version": "2.0.0",
      "model_name": "HTMLStyleModel",
      "state": {
       "description_width": "",
       "font_size": null,
       "text_color": null
      }
     },
     "3ca24a5ff3064758b4f3b487ab7e3800": {
      "model_module": "@jupyter-widgets/controls",
      "model_module_version": "2.0.0",
      "model_name": "HTMLStyleModel",
      "state": {
       "description_width": "",
       "font_size": null,
       "text_color": null
      }
     },
     "3cc7b54be4884cf0acab5febffbb17d8": {
      "model_module": "@jupyter-widgets/controls",
      "model_module_version": "2.0.0",
      "model_name": "HTMLModel",
      "state": {
       "layout": "IPY_MODEL_97d04b1ad9de45d6bff4c3f928c0fd1f",
       "style": "IPY_MODEL_8a21733c21df4abea89ea534c7792329",
       "value": "100%"
      }
     },
     "3d01e67bd3b249b6ab25e43b637cee86": {
      "model_module": "@jupyter-widgets/controls",
      "model_module_version": "2.0.0",
      "model_name": "ProgressStyleModel",
      "state": {
       "description_width": ""
      }
     },
     "3d068afeb14f4f8f959623a47acb9897": {
      "model_module": "@jupyter-widgets/base",
      "model_module_version": "2.0.0",
      "model_name": "LayoutModel",
      "state": {}
     },
     "3d06a6d715734a70a22d4eb35157f7ea": {
      "model_module": "@jupyter-widgets/controls",
      "model_module_version": "2.0.0",
      "model_name": "HBoxModel",
      "state": {
       "children": [
        "IPY_MODEL_25a26dd1fa924b40bcbe40553d41176e",
        "IPY_MODEL_9db592f0579344f0aa8c2eb4b90e207a",
        "IPY_MODEL_ee0f59598fcf4bbea6706bf3dc7fcc97"
       ],
       "layout": "IPY_MODEL_b0aa8e4beea546c7bf492a7811d29d84"
      }
     },
     "3d3a674b4dcd4a22977c3b6f3bfb8347": {
      "model_module": "@jupyter-widgets/base",
      "model_module_version": "2.0.0",
      "model_name": "LayoutModel",
      "state": {}
     },
     "3ddd069e824d4f4483183f37e534c4a0": {
      "model_module": "@jupyter-widgets/controls",
      "model_module_version": "2.0.0",
      "model_name": "ProgressStyleModel",
      "state": {
       "description_width": ""
      }
     },
     "3de0bdc697bb451e88006ea698e701c3": {
      "model_module": "@jupyter-widgets/controls",
      "model_module_version": "2.0.0",
      "model_name": "HBoxModel",
      "state": {
       "children": [
        "IPY_MODEL_7f93989f0cc048069609a5f072be4e26",
        "IPY_MODEL_d5ee2c24b2ea4756bf63968cf0f08e50",
        "IPY_MODEL_f795d6acf9954a2e97c97abd2dec4f47"
       ],
       "layout": "IPY_MODEL_4beb3c61aa574147854bcae70ad9bf6b"
      }
     },
     "3dfe7c0656e942b7b04b110dba169f1a": {
      "model_module": "@jupyter-widgets/controls",
      "model_module_version": "2.0.0",
      "model_name": "HTMLModel",
      "state": {
       "layout": "IPY_MODEL_c55f43bacae941bca542cafa724ac6d2",
       "style": "IPY_MODEL_31aec99524504acaa24e5870df120541",
       "value": "100%"
      }
     },
     "3e01716158ad4a20b81638ee0d3d40e0": {
      "model_module": "@jupyter-widgets/controls",
      "model_module_version": "2.0.0",
      "model_name": "HTMLModel",
      "state": {
       "layout": "IPY_MODEL_9baf4bdfbdc141c3aeb8e358cb7f699a",
       "style": "IPY_MODEL_d1ec2117a967462ba6b6a83a783f470c",
       "value": "100%"
      }
     },
     "3e96988c3a4c4c10aee78cda295837cf": {
      "model_module": "@jupyter-widgets/base",
      "model_module_version": "2.0.0",
      "model_name": "LayoutModel",
      "state": {}
     },
     "3edb548cb3eb4c1f99378abad2a02893": {
      "model_module": "@jupyter-widgets/controls",
      "model_module_version": "2.0.0",
      "model_name": "HBoxModel",
      "state": {
       "children": [
        "IPY_MODEL_c41e1fa2d45f4dc084fc39897bd27417",
        "IPY_MODEL_6ec137570aea46f08b81d798a13da0b3",
        "IPY_MODEL_f4cc04aa22eb4d14b3fb4b0f9024ca0f"
       ],
       "layout": "IPY_MODEL_1deada5cad9f4c298f5f34d9c14a9e2b"
      }
     },
     "3edf55ce0ef3402c8dc29c4f42055212": {
      "model_module": "@jupyter-widgets/controls",
      "model_module_version": "2.0.0",
      "model_name": "HTMLModel",
      "state": {
       "layout": "IPY_MODEL_daf008ded29f4359baddc7187cd8680a",
       "style": "IPY_MODEL_06d9a2796ebf476fa25bf83be866f11c",
       "value": " 10/10 [00:14&lt;00:00,  1.46s/it]"
      }
     },
     "3f052264d63048098f392088623ad770": {
      "model_module": "@jupyter-widgets/controls",
      "model_module_version": "2.0.0",
      "model_name": "HBoxModel",
      "state": {
       "children": [
        "IPY_MODEL_3564d05eeb3e44708e7aa6c63bb214b2",
        "IPY_MODEL_29d1f7a24c8f4f318843406249ad73fb",
        "IPY_MODEL_f7766d312dd74095b3ff05d7e0e257b9"
       ],
       "layout": "IPY_MODEL_cc0611d25b49498fbacd999b5fb77299"
      }
     },
     "3f10fa5baf52420a876485db19613189": {
      "model_module": "@jupyter-widgets/controls",
      "model_module_version": "2.0.0",
      "model_name": "ProgressStyleModel",
      "state": {
       "description_width": ""
      }
     },
     "3f927a2aefee4459b0fdf8e6ca8b55ab": {
      "model_module": "@jupyter-widgets/base",
      "model_module_version": "2.0.0",
      "model_name": "LayoutModel",
      "state": {}
     },
     "3fb6f1bc3cdd4bdea3d90b1c072bd191": {
      "model_module": "@jupyter-widgets/base",
      "model_module_version": "2.0.0",
      "model_name": "LayoutModel",
      "state": {}
     },
     "4047c08715fc400fa0d7a3da286b636f": {
      "model_module": "@jupyter-widgets/controls",
      "model_module_version": "2.0.0",
      "model_name": "FloatProgressModel",
      "state": {
       "bar_style": "success",
       "layout": "IPY_MODEL_c7f6fc2020894d92af5c716f1b9275c3",
       "max": 10,
       "style": "IPY_MODEL_92c452c6afaa4cd480ae39525f011946",
       "value": 10
      }
     },
     "405e280627cf49b1ba0555f2bd23a19b": {
      "model_module": "@jupyter-widgets/base",
      "model_module_version": "2.0.0",
      "model_name": "LayoutModel",
      "state": {}
     },
     "40695bd266354ca08b20c140a622fec9": {
      "model_module": "@jupyter-widgets/base",
      "model_module_version": "2.0.0",
      "model_name": "LayoutModel",
      "state": {}
     },
     "412555fc81a24c72ba3cd79dec54f993": {
      "model_module": "@jupyter-widgets/controls",
      "model_module_version": "2.0.0",
      "model_name": "HTMLStyleModel",
      "state": {
       "description_width": "",
       "font_size": null,
       "text_color": null
      }
     },
     "4134cd4bbd2048c19b6565faa1bb90df": {
      "model_module": "@jupyter-widgets/base",
      "model_module_version": "2.0.0",
      "model_name": "LayoutModel",
      "state": {}
     },
     "41cb7300fa50462698726fcc2cac2be8": {
      "model_module": "@jupyter-widgets/controls",
      "model_module_version": "2.0.0",
      "model_name": "HTMLStyleModel",
      "state": {
       "description_width": "",
       "font_size": null,
       "text_color": null
      }
     },
     "41e83882f89847859e751c79c722d9a8": {
      "model_module": "@jupyter-widgets/controls",
      "model_module_version": "2.0.0",
      "model_name": "HTMLModel",
      "state": {
       "layout": "IPY_MODEL_220ad85d91644e4f9d364e6fde1067cd",
       "style": "IPY_MODEL_4923bf47b97242da90036ebd893c597a",
       "value": "100%"
      }
     },
     "41f2bdf1dbf94cd3934e86de7cd6fa11": {
      "model_module": "@jupyter-widgets/controls",
      "model_module_version": "2.0.0",
      "model_name": "HTMLModel",
      "state": {
       "layout": "IPY_MODEL_4f9c6888fcf6414a9afd54fec1fabced",
       "style": "IPY_MODEL_396caf2bd14642808c1da40ac01ab44e",
       "value": " 10/10 [00:14&lt;00:00,  1.47s/it]"
      }
     },
     "42519a249f3e448cb74899e5c42b5cee": {
      "model_module": "@jupyter-widgets/controls",
      "model_module_version": "2.0.0",
      "model_name": "HTMLModel",
      "state": {
       "layout": "IPY_MODEL_5d0efa0ccdce4874b569833f41801a17",
       "style": "IPY_MODEL_ad95c623bd73436f90caa7a490e29946",
       "value": "100%"
      }
     },
     "429025807f8748ea8b713083c37b85b7": {
      "model_module": "@jupyter-widgets/controls",
      "model_module_version": "2.0.0",
      "model_name": "HTMLModel",
      "state": {
       "layout": "IPY_MODEL_4d11f0e4f2744469a8ea1cf4da679876",
       "style": "IPY_MODEL_8d0f96058d0c41e5a9536b535ae3ba6a",
       "value": " 10/10 [00:14&lt;00:00,  1.47s/it]"
      }
     },
     "429f9f534b5a4b2096db587ec53fb5fa": {
      "model_module": "@jupyter-widgets/controls",
      "model_module_version": "2.0.0",
      "model_name": "HTMLModel",
      "state": {
       "layout": "IPY_MODEL_d1da40f9a699484689a253b9ff64cf12",
       "style": "IPY_MODEL_2f2eec900f3e40d6a2d62f4bac289797",
       "value": " 10/10 [00:15&lt;00:00,  1.51s/it]"
      }
     },
     "42c0c70ea79e4ef89ace2d0dc1cbef8b": {
      "model_module": "@jupyter-widgets/base",
      "model_module_version": "2.0.0",
      "model_name": "LayoutModel",
      "state": {}
     },
     "43242019b5104fc8a2c629453c6a96e8": {
      "model_module": "@jupyter-widgets/controls",
      "model_module_version": "2.0.0",
      "model_name": "HBoxModel",
      "state": {
       "children": [
        "IPY_MODEL_66768cbcf59d429da074426468a61bf1",
        "IPY_MODEL_6096fa155c144b93aeaf6a85a98fd823",
        "IPY_MODEL_5092a3566d744cb7b206a357e63ce9be"
       ],
       "layout": "IPY_MODEL_9d6ddf31824d4ef784815f4ad799e64a"
      }
     },
     "44323b55ba6a437598fa5bf073ac1916": {
      "model_module": "@jupyter-widgets/base",
      "model_module_version": "2.0.0",
      "model_name": "LayoutModel",
      "state": {}
     },
     "4434d01b035842c688c572275c69bcf3": {
      "model_module": "@jupyter-widgets/base",
      "model_module_version": "2.0.0",
      "model_name": "LayoutModel",
      "state": {}
     },
     "447426d676a646b99760f2d96a2ce0ad": {
      "model_module": "@jupyter-widgets/base",
      "model_module_version": "2.0.0",
      "model_name": "LayoutModel",
      "state": {}
     },
     "45545a9517214ff699f430b2685536da": {
      "model_module": "@jupyter-widgets/base",
      "model_module_version": "2.0.0",
      "model_name": "LayoutModel",
      "state": {}
     },
     "45a0055dc0e947fdb88a6c64b483d41d": {
      "model_module": "@jupyter-widgets/controls",
      "model_module_version": "2.0.0",
      "model_name": "HBoxModel",
      "state": {
       "children": [
        "IPY_MODEL_19a00b5e7924411aab021acd2e9a8911",
        "IPY_MODEL_daeb35ee8d2f4da3b2f3a851d3e97941",
        "IPY_MODEL_a6afdf33d916491388c161a3df19cfc8"
       ],
       "layout": "IPY_MODEL_bbd5acabb84e48d7b281079429cd77d0"
      }
     },
     "45a0b575cf3f4189994b1087f8e47a89": {
      "model_module": "@jupyter-widgets/base",
      "model_module_version": "2.0.0",
      "model_name": "LayoutModel",
      "state": {}
     },
     "45c211e573cb4526ad4e6211c5dda54f": {
      "model_module": "@jupyter-widgets/base",
      "model_module_version": "2.0.0",
      "model_name": "LayoutModel",
      "state": {}
     },
     "45c99fc95f3841c9899c103e1b427aea": {
      "model_module": "@jupyter-widgets/controls",
      "model_module_version": "2.0.0",
      "model_name": "ProgressStyleModel",
      "state": {
       "description_width": ""
      }
     },
     "466996b3313c420183fbea7405ec9d63": {
      "model_module": "@jupyter-widgets/controls",
      "model_module_version": "2.0.0",
      "model_name": "ProgressStyleModel",
      "state": {
       "description_width": ""
      }
     },
     "468ca5f986244e268505142935ae2f80": {
      "model_module": "@jupyter-widgets/controls",
      "model_module_version": "2.0.0",
      "model_name": "FloatProgressModel",
      "state": {
       "bar_style": "success",
       "layout": "IPY_MODEL_68f0ceb242684e74959d045af9189fcd",
       "max": 10,
       "style": "IPY_MODEL_1f17b5044ab5433aab6b62b324c4ec48",
       "value": 10
      }
     },
     "46a8d38a91e040e283d8fd3c340639e7": {
      "model_module": "@jupyter-widgets/base",
      "model_module_version": "2.0.0",
      "model_name": "LayoutModel",
      "state": {}
     },
     "471b0f70122446c087061dc8716aaccd": {
      "model_module": "@jupyter-widgets/controls",
      "model_module_version": "2.0.0",
      "model_name": "HBoxModel",
      "state": {
       "children": [
        "IPY_MODEL_ccef82d1a892441fa37e54285e36b248",
        "IPY_MODEL_8b970ac865d443a7ae46c0eac3cc4400",
        "IPY_MODEL_094582b010ef4fbca82a04df439fa633"
       ],
       "layout": "IPY_MODEL_6c73df7545df4b42973e84561a465669"
      }
     },
     "4734b45d67c04db0824f21c017a8e08c": {
      "model_module": "@jupyter-widgets/controls",
      "model_module_version": "2.0.0",
      "model_name": "ProgressStyleModel",
      "state": {
       "description_width": ""
      }
     },
     "4772e5f3b935425ca407961982f9d2a2": {
      "model_module": "@jupyter-widgets/controls",
      "model_module_version": "2.0.0",
      "model_name": "FloatProgressModel",
      "state": {
       "bar_style": "danger",
       "layout": "IPY_MODEL_0429d4f58a034335b54d4c0444e74dd4",
       "max": 10,
       "style": "IPY_MODEL_eb4a396edd3a4c44b1e41c6a757ff138"
      }
     },
     "478cd9392497416bb8f2615bea00e464": {
      "model_module": "@jupyter-widgets/controls",
      "model_module_version": "2.0.0",
      "model_name": "HTMLStyleModel",
      "state": {
       "description_width": "",
       "font_size": null,
       "text_color": null
      }
     },
     "479bffdd2b664a108e8db42495811b72": {
      "model_module": "@jupyter-widgets/controls",
      "model_module_version": "2.0.0",
      "model_name": "HTMLModel",
      "state": {
       "layout": "IPY_MODEL_24b9214bf99645608fb686076cc36bd9",
       "style": "IPY_MODEL_c82915f4a67b4576a0a49edc31b12b7c",
       "value": "100%"
      }
     },
     "47ae3780141946dda79bd22f840a05ad": {
      "model_module": "@jupyter-widgets/controls",
      "model_module_version": "2.0.0",
      "model_name": "HTMLStyleModel",
      "state": {
       "description_width": "",
       "font_size": null,
       "text_color": null
      }
     },
     "48068a5bb21b4a83906b0a231db31e4c": {
      "model_module": "@jupyter-widgets/controls",
      "model_module_version": "2.0.0",
      "model_name": "HTMLModel",
      "state": {
       "layout": "IPY_MODEL_b7a2bfd318794ae498c4eba2fc97c446",
       "style": "IPY_MODEL_d45512873f6b48878ca1cfa250284bb5",
       "value": " 10/10 [00:14&lt;00:00,  1.45s/it]"
      }
     },
     "4815d7d9092443c5b8ece2210e517edc": {
      "model_module": "@jupyter-widgets/controls",
      "model_module_version": "2.0.0",
      "model_name": "HTMLStyleModel",
      "state": {
       "description_width": "",
       "font_size": null,
       "text_color": null
      }
     },
     "488051b47ddd47d286f78f32c36f7243": {
      "model_module": "@jupyter-widgets/controls",
      "model_module_version": "2.0.0",
      "model_name": "HTMLStyleModel",
      "state": {
       "description_width": "",
       "font_size": null,
       "text_color": null
      }
     },
     "488732405c3f4656a8d04b4d482a543c": {
      "model_module": "@jupyter-widgets/controls",
      "model_module_version": "2.0.0",
      "model_name": "HTMLStyleModel",
      "state": {
       "description_width": "",
       "font_size": null,
       "text_color": null
      }
     },
     "48bfaeb9ca3f408aaba90eaa8ef428d6": {
      "model_module": "@jupyter-widgets/controls",
      "model_module_version": "2.0.0",
      "model_name": "HTMLStyleModel",
      "state": {
       "description_width": "",
       "font_size": null,
       "text_color": null
      }
     },
     "49144b1897f543dd95c8b640307f1409": {
      "model_module": "@jupyter-widgets/base",
      "model_module_version": "2.0.0",
      "model_name": "LayoutModel",
      "state": {}
     },
     "4923bf47b97242da90036ebd893c597a": {
      "model_module": "@jupyter-widgets/controls",
      "model_module_version": "2.0.0",
      "model_name": "HTMLStyleModel",
      "state": {
       "description_width": "",
       "font_size": null,
       "text_color": null
      }
     },
     "4965bfdd06e64a518fc1d98104af582d": {
      "model_module": "@jupyter-widgets/controls",
      "model_module_version": "2.0.0",
      "model_name": "FloatProgressModel",
      "state": {
       "bar_style": "danger",
       "layout": "IPY_MODEL_84edc1c837a544459c8a4cdc08eced2a",
       "max": 10,
       "style": "IPY_MODEL_77a20cbdc2d64f1b87e002871dcc6f77",
       "value": 1
      }
     },
     "498f8b704ff74761ad3c513eb6622658": {
      "model_module": "@jupyter-widgets/controls",
      "model_module_version": "2.0.0",
      "model_name": "HBoxModel",
      "state": {
       "children": [
        "IPY_MODEL_652477c792684472bebc40cbb85bde89",
        "IPY_MODEL_2bb2c296c7c34378a15c6d0b7c7c18f7",
        "IPY_MODEL_77a307aea5794d20a9a54a510851061d"
       ],
       "layout": "IPY_MODEL_642421b197af47edb67bcd37feeb1806"
      }
     },
     "499479b3d1ec4adda0649f7d1c16c61f": {
      "model_module": "@jupyter-widgets/controls",
      "model_module_version": "2.0.0",
      "model_name": "FloatProgressModel",
      "state": {
       "bar_style": "success",
       "layout": "IPY_MODEL_07519994c81f4ae99290916930555fd6",
       "max": 10,
       "style": "IPY_MODEL_45c99fc95f3841c9899c103e1b427aea",
       "value": 10
      }
     },
     "49fe63f613034bec8c67fdc572a19457": {
      "model_module": "@jupyter-widgets/controls",
      "model_module_version": "2.0.0",
      "model_name": "HTMLModel",
      "state": {
       "layout": "IPY_MODEL_89d5b91da65d4018b19fb4deff4f026b",
       "style": "IPY_MODEL_e0406f6a866347c89cd464166271f635",
       "value": "100%"
      }
     },
     "4a68e2bb9831491c86d97cfc8fba9beb": {
      "model_module": "@jupyter-widgets/controls",
      "model_module_version": "2.0.0",
      "model_name": "HTMLStyleModel",
      "state": {
       "description_width": "",
       "font_size": null,
       "text_color": null
      }
     },
     "4afca3198ecd46a28d7d9dea040f4559": {
      "model_module": "@jupyter-widgets/controls",
      "model_module_version": "2.0.0",
      "model_name": "FloatProgressModel",
      "state": {
       "bar_style": "success",
       "layout": "IPY_MODEL_a467bcfbc50645b6ade880645b93f268",
       "max": 10,
       "style": "IPY_MODEL_63949fbdc4aa49b7a958a57afe634925",
       "value": 10
      }
     },
     "4beb3c61aa574147854bcae70ad9bf6b": {
      "model_module": "@jupyter-widgets/base",
      "model_module_version": "2.0.0",
      "model_name": "LayoutModel",
      "state": {}
     },
     "4c4600ba9a4c4d4d9cb13ce56ddb4f59": {
      "model_module": "@jupyter-widgets/controls",
      "model_module_version": "2.0.0",
      "model_name": "HBoxModel",
      "state": {
       "children": [
        "IPY_MODEL_6c6fa281eaa247ee8f55cf9d4cf56dc7",
        "IPY_MODEL_c8ed75cdeed64f41b1e1fc940c654d1c",
        "IPY_MODEL_73255315b1c8403792d18a69fe3e04de"
       ],
       "layout": "IPY_MODEL_60e36a02476e43f580187858826344ee"
      }
     },
     "4c7c0aed1f374555aa1934f17730eb7d": {
      "model_module": "@jupyter-widgets/controls",
      "model_module_version": "2.0.0",
      "model_name": "HTMLModel",
      "state": {
       "layout": "IPY_MODEL_1645f383364c450a9e5b298c1751e79d",
       "style": "IPY_MODEL_518e4772a88040da8c997247b7a8ceee",
       "value": "100%"
      }
     },
     "4cb88dae39324833b4063c004a524cc4": {
      "model_module": "@jupyter-widgets/base",
      "model_module_version": "2.0.0",
      "model_name": "LayoutModel",
      "state": {}
     },
     "4d11f0e4f2744469a8ea1cf4da679876": {
      "model_module": "@jupyter-widgets/base",
      "model_module_version": "2.0.0",
      "model_name": "LayoutModel",
      "state": {}
     },
     "4d2bdc99ee644842bcb030dcb83b2d0b": {
      "model_module": "@jupyter-widgets/base",
      "model_module_version": "2.0.0",
      "model_name": "LayoutModel",
      "state": {}
     },
     "4d35ecf674e0448ebc09b6a6bd88fbdf": {
      "model_module": "@jupyter-widgets/base",
      "model_module_version": "2.0.0",
      "model_name": "LayoutModel",
      "state": {}
     },
     "4dd46bdeeaf945f4b95eef909c264c50": {
      "model_module": "@jupyter-widgets/controls",
      "model_module_version": "2.0.0",
      "model_name": "HTMLModel",
      "state": {
       "layout": "IPY_MODEL_6cdf3afc1572414f838ed6ab76f65ce5",
       "style": "IPY_MODEL_ec8095006e3346b09f55010ef85c91c5",
       "value": "100%"
      }
     },
     "4de163a3fec74b1a8fd7f98761a411d8": {
      "model_module": "@jupyter-widgets/base",
      "model_module_version": "2.0.0",
      "model_name": "LayoutModel",
      "state": {}
     },
     "4e47d12b5e6f4bc3996a14d976527641": {
      "model_module": "@jupyter-widgets/controls",
      "model_module_version": "2.0.0",
      "model_name": "HTMLModel",
      "state": {
       "layout": "IPY_MODEL_ec84ce90c2d344b288d8ca512f915cd3",
       "style": "IPY_MODEL_5fb44abd5cf843a38ab4fc1abf2f64c3",
       "value": " 10/10 [00:14&lt;00:00,  1.42s/it]"
      }
     },
     "4e9d9ae19ce641bdae1d327bb7257cff": {
      "model_module": "@jupyter-widgets/controls",
      "model_module_version": "2.0.0",
      "model_name": "ProgressStyleModel",
      "state": {
       "description_width": ""
      }
     },
     "4f9c6888fcf6414a9afd54fec1fabced": {
      "model_module": "@jupyter-widgets/base",
      "model_module_version": "2.0.0",
      "model_name": "LayoutModel",
      "state": {}
     },
     "4fc7a29143734231bd9bd493035a961c": {
      "model_module": "@jupyter-widgets/base",
      "model_module_version": "2.0.0",
      "model_name": "LayoutModel",
      "state": {}
     },
     "4fcbbe8f43a648fd8028bc76f1c97df2": {
      "model_module": "@jupyter-widgets/controls",
      "model_module_version": "2.0.0",
      "model_name": "HTMLStyleModel",
      "state": {
       "description_width": "",
       "font_size": null,
       "text_color": null
      }
     },
     "4fccd0b25af44f49b6f2a27cd6938873": {
      "model_module": "@jupyter-widgets/base",
      "model_module_version": "2.0.0",
      "model_name": "LayoutModel",
      "state": {}
     },
     "5008c4c6483c4e14814117446df77a9f": {
      "model_module": "@jupyter-widgets/controls",
      "model_module_version": "2.0.0",
      "model_name": "HTMLModel",
      "state": {
       "layout": "IPY_MODEL_9cd44070d40545308f34a6b42c1baadf",
       "style": "IPY_MODEL_fd31fefdda0e43e8a634e3313f0bebb0",
       "value": " 10/10 [00:22&lt;00:00,  2.28s/it]"
      }
     },
     "50511917854042a28b6a2676f43c2138": {
      "model_module": "@jupyter-widgets/controls",
      "model_module_version": "2.0.0",
      "model_name": "HBoxModel",
      "state": {
       "children": [
        "IPY_MODEL_e2ba09698b5142ea86dbc833fe187729",
        "IPY_MODEL_15b796c585c44e23bc341ec473680386",
        "IPY_MODEL_c45b97b106654c049aae42275ade0258"
       ],
       "layout": "IPY_MODEL_c791fadb2e704a26a1485a85145a5bde"
      }
     },
     "5092a3566d744cb7b206a357e63ce9be": {
      "model_module": "@jupyter-widgets/controls",
      "model_module_version": "2.0.0",
      "model_name": "HTMLModel",
      "state": {
       "layout": "IPY_MODEL_862903a4b01d4853b7879cd41348b6d1",
       "style": "IPY_MODEL_920aaf820d47488a8b62aecb2bce683b",
       "value": " 10/10 [00:21&lt;00:00,  2.05s/it]"
      }
     },
     "50966b36e63a4c03a32240699ee1066e": {
      "model_module": "@jupyter-widgets/controls",
      "model_module_version": "2.0.0",
      "model_name": "HTMLModel",
      "state": {
       "layout": "IPY_MODEL_42c0c70ea79e4ef89ace2d0dc1cbef8b",
       "style": "IPY_MODEL_9769761ed6a84c21884aeb5eecb80c1e",
       "value": " 40%"
      }
     },
     "51085cf9c6574f11aeb5b9a28e58413c": {
      "model_module": "@jupyter-widgets/controls",
      "model_module_version": "2.0.0",
      "model_name": "HTMLModel",
      "state": {
       "layout": "IPY_MODEL_62038a8831ad4fe19fc0f846a5f096aa",
       "style": "IPY_MODEL_733a5b32d22d4d37a0a3b28d4adb0eef",
       "value": "  0%"
      }
     },
     "513b644c22cb48999495ff6c3ff4adad": {
      "model_module": "@jupyter-widgets/controls",
      "model_module_version": "2.0.0",
      "model_name": "FloatProgressModel",
      "state": {
       "bar_style": "danger",
       "layout": "IPY_MODEL_7335ecf070574d4ea9bcebc8e8f214f9",
       "max": 21,
       "style": "IPY_MODEL_b4fc074930e1476cb7fbb3c51aa1b387"
      }
     },
     "514c8068dece492da1229ce866f1b58b": {
      "model_module": "@jupyter-widgets/controls",
      "model_module_version": "2.0.0",
      "model_name": "HTMLStyleModel",
      "state": {
       "description_width": "",
       "font_size": null,
       "text_color": null
      }
     },
     "518e4772a88040da8c997247b7a8ceee": {
      "model_module": "@jupyter-widgets/controls",
      "model_module_version": "2.0.0",
      "model_name": "HTMLStyleModel",
      "state": {
       "description_width": "",
       "font_size": null,
       "text_color": null
      }
     },
     "51991cc866634bb28fec04368a99c89f": {
      "model_module": "@jupyter-widgets/base",
      "model_module_version": "2.0.0",
      "model_name": "LayoutModel",
      "state": {}
     },
     "51ff3a0def164d5d9808ef4d901b93c3": {
      "model_module": "@jupyter-widgets/base",
      "model_module_version": "2.0.0",
      "model_name": "LayoutModel",
      "state": {}
     },
     "52172ad07e3848749cb40052252ee266": {
      "model_module": "@jupyter-widgets/controls",
      "model_module_version": "2.0.0",
      "model_name": "ProgressStyleModel",
      "state": {
       "description_width": ""
      }
     },
     "526b5981bb1c42dabf8ba3313f74b69c": {
      "model_module": "@jupyter-widgets/controls",
      "model_module_version": "2.0.0",
      "model_name": "HTMLStyleModel",
      "state": {
       "description_width": "",
       "font_size": null,
       "text_color": null
      }
     },
     "52a3c6f5eecc43d08490e67b69688119": {
      "model_module": "@jupyter-widgets/base",
      "model_module_version": "2.0.0",
      "model_name": "LayoutModel",
      "state": {}
     },
     "52e4bc02d65741c39dce6099fcde9cdd": {
      "model_module": "@jupyter-widgets/base",
      "model_module_version": "2.0.0",
      "model_name": "LayoutModel",
      "state": {}
     },
     "52f565a21fb7413cb6d0560795547482": {
      "model_module": "@jupyter-widgets/base",
      "model_module_version": "2.0.0",
      "model_name": "LayoutModel",
      "state": {}
     },
     "53662aa5e82a43c8904d3f6676de51bb": {
      "model_module": "@jupyter-widgets/base",
      "model_module_version": "2.0.0",
      "model_name": "LayoutModel",
      "state": {}
     },
     "5377f56d8338482cb3510aa916b44b2f": {
      "model_module": "@jupyter-widgets/controls",
      "model_module_version": "2.0.0",
      "model_name": "FloatProgressModel",
      "state": {
       "bar_style": "success",
       "layout": "IPY_MODEL_f1935718cba848ca941268301d4df071",
       "max": 10,
       "style": "IPY_MODEL_1dc9f94f05424ef9bb978262b1e81a8c",
       "value": 10
      }
     },
     "53be5539ef9644b0a025663fee21d683": {
      "model_module": "@jupyter-widgets/controls",
      "model_module_version": "2.0.0",
      "model_name": "HTMLModel",
      "state": {
       "layout": "IPY_MODEL_98aee9b170e14b25a60d053129e3e8a0",
       "style": "IPY_MODEL_4a68e2bb9831491c86d97cfc8fba9beb",
       "value": "100%"
      }
     },
     "540a507d067442668d46db68bb61bdd8": {
      "model_module": "@jupyter-widgets/base",
      "model_module_version": "2.0.0",
      "model_name": "LayoutModel",
      "state": {}
     },
     "546f03f48a92405caa824a9b4e6df033": {
      "model_module": "@jupyter-widgets/base",
      "model_module_version": "2.0.0",
      "model_name": "LayoutModel",
      "state": {}
     },
     "548e032100af4cc7a5212a4b07b9fc1c": {
      "model_module": "@jupyter-widgets/base",
      "model_module_version": "2.0.0",
      "model_name": "LayoutModel",
      "state": {}
     },
     "551e84ef0488449ab067adc4569cc621": {
      "model_module": "@jupyter-widgets/base",
      "model_module_version": "2.0.0",
      "model_name": "LayoutModel",
      "state": {}
     },
     "5540d664c8cf4880967b1464af658f9d": {
      "model_module": "@jupyter-widgets/controls",
      "model_module_version": "2.0.0",
      "model_name": "HTMLModel",
      "state": {
       "layout": "IPY_MODEL_64831b9789ec461eb5e28adcd5a73f2e",
       "style": "IPY_MODEL_0c90c49a8f0d4b6d9083da44e4743bd7",
       "value": "100%"
      }
     },
     "55550f181d804b93859481a2cc146ddf": {
      "model_module": "@jupyter-widgets/base",
      "model_module_version": "2.0.0",
      "model_name": "LayoutModel",
      "state": {}
     },
     "5564881f0b98409b9a68b9ecfe8a6a9c": {
      "model_module": "@jupyter-widgets/controls",
      "model_module_version": "2.0.0",
      "model_name": "HTMLModel",
      "state": {
       "layout": "IPY_MODEL_4d35ecf674e0448ebc09b6a6bd88fbdf",
       "style": "IPY_MODEL_d7494718b8af48109b7ee0f89a5b61bd",
       "value": " 10/10 [00:21&lt;00:00,  2.09s/it]"
      }
     },
     "559b4eb7fa1f4414b1aee8ff48dddd8a": {
      "model_module": "@jupyter-widgets/controls",
      "model_module_version": "2.0.0",
      "model_name": "HTMLStyleModel",
      "state": {
       "description_width": "",
       "font_size": null,
       "text_color": null
      }
     },
     "55a8483da22c4213970cfb6c4ac72429": {
      "model_module": "@jupyter-widgets/controls",
      "model_module_version": "2.0.0",
      "model_name": "HBoxModel",
      "state": {
       "children": [
        "IPY_MODEL_ab4622a953a742b59bddc520c64282f0",
        "IPY_MODEL_f30b30160657417db540e931bf61e522",
        "IPY_MODEL_5564881f0b98409b9a68b9ecfe8a6a9c"
       ],
       "layout": "IPY_MODEL_94d5803514c14e0fa36836b754fa1352"
      }
     },
     "5628d4a11b5c48b09a80f6563138bd19": {
      "model_module": "@jupyter-widgets/controls",
      "model_module_version": "2.0.0",
      "model_name": "HTMLModel",
      "state": {
       "layout": "IPY_MODEL_52a3c6f5eecc43d08490e67b69688119",
       "style": "IPY_MODEL_b5ed45b5e4144aa987a7d58418002078",
       "value": "100%"
      }
     },
     "562ad1d39e9b41ce8eca77e740c2ac4c": {
      "model_module": "@jupyter-widgets/base",
      "model_module_version": "2.0.0",
      "model_name": "LayoutModel",
      "state": {}
     },
     "5687aad737de464e8c20627538c710f5": {
      "model_module": "@jupyter-widgets/controls",
      "model_module_version": "2.0.0",
      "model_name": "HTMLModel",
      "state": {
       "layout": "IPY_MODEL_1b3d79e46cec464e8efec0ada14ed7f2",
       "style": "IPY_MODEL_c1adc9f052ef45e1b2bf6bef6fc0f2a5",
       "value": "100%"
      }
     },
     "568c73a5f2b645f6a9d463c3fbe3e3e2": {
      "model_module": "@jupyter-widgets/base",
      "model_module_version": "2.0.0",
      "model_name": "LayoutModel",
      "state": {}
     },
     "56b1768cb8204bb39e51d492b5cb6081": {
      "model_module": "@jupyter-widgets/controls",
      "model_module_version": "2.0.0",
      "model_name": "HTMLModel",
      "state": {
       "layout": "IPY_MODEL_4fccd0b25af44f49b6f2a27cd6938873",
       "style": "IPY_MODEL_06a973040af744818730d302de4635f4",
       "value": " 10/10 [00:15&lt;00:00,  1.52s/it]"
      }
     },
     "56b9777abf1148e386d3bde8e6c8b9ac": {
      "model_module": "@jupyter-widgets/base",
      "model_module_version": "2.0.0",
      "model_name": "LayoutModel",
      "state": {}
     },
     "56cca2b6382c4d9ab19d9ce90d9bb1c7": {
      "model_module": "@jupyter-widgets/base",
      "model_module_version": "2.0.0",
      "model_name": "LayoutModel",
      "state": {}
     },
     "56e7b8425c374caab9524d69150cb23f": {
      "model_module": "@jupyter-widgets/controls",
      "model_module_version": "2.0.0",
      "model_name": "HBoxModel",
      "state": {
       "children": [
        "IPY_MODEL_65379607867a4dbeb5cbffd96b0a96ec",
        "IPY_MODEL_7e867f75a1ea435fb9189e7ecaeced63",
        "IPY_MODEL_1ec53e8689e44d9cba0f7744a8d28876"
       ],
       "layout": "IPY_MODEL_5c15152685ba4447a90154184dfd8fe1"
      }
     },
     "56fb1903a17542a7bd1524173e478ca6": {
      "model_module": "@jupyter-widgets/controls",
      "model_module_version": "2.0.0",
      "model_name": "HBoxModel",
      "state": {
       "children": [
        "IPY_MODEL_20219e54952b410e94889f23a6265cac",
        "IPY_MODEL_a287da5a1bfe4aa18a386d6c3e5ae797",
        "IPY_MODEL_d87705457b7543518b1262b6c6c62fc1"
       ],
       "layout": "IPY_MODEL_e802052dd6e4406d92f8fd6def0c61eb"
      }
     },
     "57867d3e17384c689e98996fb1a9bdb0": {
      "model_module": "@jupyter-widgets/controls",
      "model_module_version": "2.0.0",
      "model_name": "ProgressStyleModel",
      "state": {
       "description_width": ""
      }
     },
     "57bcb91c8ac9439ba1d7da65abebfe34": {
      "model_module": "@jupyter-widgets/controls",
      "model_module_version": "2.0.0",
      "model_name": "HBoxModel",
      "state": {
       "children": [
        "IPY_MODEL_d06b66ffe5434be3bb8afba8aeadf5cc",
        "IPY_MODEL_acc76eeb037c457a9f603fb853f5f6f4",
        "IPY_MODEL_6fdabc0d4ddb432c9e52db0aa0df3b24"
       ],
       "layout": "IPY_MODEL_fccfb2aeae704e9cb1f144dfc843421a"
      }
     },
     "57dd53f6969041f9b824181fc93dc244": {
      "model_module": "@jupyter-widgets/controls",
      "model_module_version": "2.0.0",
      "model_name": "HBoxModel",
      "state": {
       "children": [
        "IPY_MODEL_3e01716158ad4a20b81638ee0d3d40e0",
        "IPY_MODEL_0a4a15a68c0c42168ddae77eb2f6081e",
        "IPY_MODEL_18021189fcc84a5bab9dd3b76b0e6e4e"
       ],
       "layout": "IPY_MODEL_405e280627cf49b1ba0555f2bd23a19b"
      }
     },
     "595251ba98714d98864c7c4ea2aeeb2d": {
      "model_module": "@jupyter-widgets/controls",
      "model_module_version": "2.0.0",
      "model_name": "ProgressStyleModel",
      "state": {
       "description_width": ""
      }
     },
     "5962e02e38ff4a859b68e4cff59015a1": {
      "model_module": "@jupyter-widgets/controls",
      "model_module_version": "2.0.0",
      "model_name": "HTMLStyleModel",
      "state": {
       "description_width": "",
       "font_size": null,
       "text_color": null
      }
     },
     "59965a721f494d2e9be0aa2017b65c9c": {
      "model_module": "@jupyter-widgets/controls",
      "model_module_version": "2.0.0",
      "model_name": "HTMLStyleModel",
      "state": {
       "description_width": "",
       "font_size": null,
       "text_color": null
      }
     },
     "59a9c78d684c4d96b01d02e11e700aee": {
      "model_module": "@jupyter-widgets/base",
      "model_module_version": "2.0.0",
      "model_name": "LayoutModel",
      "state": {}
     },
     "59ae29257a7c4bccb3fa978b4c68bfe7": {
      "model_module": "@jupyter-widgets/controls",
      "model_module_version": "2.0.0",
      "model_name": "HTMLModel",
      "state": {
       "layout": "IPY_MODEL_63710ec7afb44ad199df9965cff0b2c6",
       "style": "IPY_MODEL_38f8d9af60614e0cbbbd55bbd29a7ddf",
       "value": "100%"
      }
     },
     "59cf08dff36e40e49fd6ffab8454a380": {
      "model_module": "@jupyter-widgets/controls",
      "model_module_version": "2.0.0",
      "model_name": "ProgressStyleModel",
      "state": {
       "description_width": ""
      }
     },
     "59d130bd5f6040feb696f55da0f96acf": {
      "model_module": "@jupyter-widgets/controls",
      "model_module_version": "2.0.0",
      "model_name": "ProgressStyleModel",
      "state": {
       "description_width": ""
      }
     },
     "59dad6f9e1384f65a536edec03eaa7d1": {
      "model_module": "@jupyter-widgets/base",
      "model_module_version": "2.0.0",
      "model_name": "LayoutModel",
      "state": {}
     },
     "59dfff55f1284b96a746594f56495675": {
      "model_module": "@jupyter-widgets/controls",
      "model_module_version": "2.0.0",
      "model_name": "FloatProgressModel",
      "state": {
       "bar_style": "success",
       "layout": "IPY_MODEL_9b599ba6f91144309efbc69c26e1d3ba",
       "max": 10,
       "style": "IPY_MODEL_6b8ec74998f0413f96395dfeebe62a8d",
       "value": 10
      }
     },
     "5abebdd3b3f649e6b1eb975149ac54bb": {
      "model_module": "@jupyter-widgets/controls",
      "model_module_version": "2.0.0",
      "model_name": "HBoxModel",
      "state": {
       "children": [
        "IPY_MODEL_31afdbefc9b34bc7bd366235353274ae",
        "IPY_MODEL_b592163c393f46e9ae14a361e3fef753",
        "IPY_MODEL_c753ec68befd45e9bdd6d60fef3dcadd"
       ],
       "layout": "IPY_MODEL_6f437e8c6e744534b0830cc9c3a93859"
      }
     },
     "5b26e53098c94f57b024e8b27cbc64d6": {
      "model_module": "@jupyter-widgets/controls",
      "model_module_version": "2.0.0",
      "model_name": "HBoxModel",
      "state": {
       "children": [
        "IPY_MODEL_f45556ece3fe4db4ad76982c8d88e31e",
        "IPY_MODEL_68469902ee1b45ba9d29db68cb5a08fe",
        "IPY_MODEL_dc138c6356a549b1a75a3064b0d60bd8"
       ],
       "layout": "IPY_MODEL_e6d45d8c9d8e49bc80ad85d2a2c2ec49"
      }
     },
     "5baadd1cf3d342b3872278df92cf9045": {
      "model_module": "@jupyter-widgets/base",
      "model_module_version": "2.0.0",
      "model_name": "LayoutModel",
      "state": {}
     },
     "5bab610c27ed4cb5ad29f5b0631f4e74": {
      "model_module": "@jupyter-widgets/controls",
      "model_module_version": "2.0.0",
      "model_name": "HTMLModel",
      "state": {
       "layout": "IPY_MODEL_51991cc866634bb28fec04368a99c89f",
       "style": "IPY_MODEL_8a56327f7c04434a9d7aa43b3ab74241",
       "value": "100%"
      }
     },
     "5c15152685ba4447a90154184dfd8fe1": {
      "model_module": "@jupyter-widgets/base",
      "model_module_version": "2.0.0",
      "model_name": "LayoutModel",
      "state": {}
     },
     "5c270bdba442495ea6f7871a94bb4158": {
      "model_module": "@jupyter-widgets/controls",
      "model_module_version": "2.0.0",
      "model_name": "HBoxModel",
      "state": {
       "children": [
        "IPY_MODEL_6a6c7de48ef24d3588900b1e604edf2c",
        "IPY_MODEL_85ef02b7ddf742edad01ecdd535461f0",
        "IPY_MODEL_04951f4d2e8c444fb30845701732eb37"
       ],
       "layout": "IPY_MODEL_72b015a2a51f4ce791d7cb2e7d078599"
      }
     },
     "5c9a836b624545feaeb81d2a9756d970": {
      "model_module": "@jupyter-widgets/controls",
      "model_module_version": "2.0.0",
      "model_name": "HTMLModel",
      "state": {
       "layout": "IPY_MODEL_49144b1897f543dd95c8b640307f1409",
       "style": "IPY_MODEL_f6e85aa0ef3e407c9c6293f9ad8b9155",
       "value": " 0/21 [00:21&lt;?, ?it/s]"
      }
     },
     "5d0efa0ccdce4874b569833f41801a17": {
      "model_module": "@jupyter-widgets/base",
      "model_module_version": "2.0.0",
      "model_name": "LayoutModel",
      "state": {}
     },
     "5d8a4bf12d354484927ce26556e39fa0": {
      "model_module": "@jupyter-widgets/base",
      "model_module_version": "2.0.0",
      "model_name": "LayoutModel",
      "state": {}
     },
     "5d92f367ca194e4da78e435a3899e9db": {
      "model_module": "@jupyter-widgets/base",
      "model_module_version": "2.0.0",
      "model_name": "LayoutModel",
      "state": {}
     },
     "5d93cff620024800b7736b06a27092f7": {
      "model_module": "@jupyter-widgets/controls",
      "model_module_version": "2.0.0",
      "model_name": "HTMLStyleModel",
      "state": {
       "description_width": "",
       "font_size": null,
       "text_color": null
      }
     },
     "5db8b03744e34a10ae104b2b0775e7ca": {
      "model_module": "@jupyter-widgets/base",
      "model_module_version": "2.0.0",
      "model_name": "LayoutModel",
      "state": {}
     },
     "5e7d271717274af994522ef632e7b562": {
      "model_module": "@jupyter-widgets/controls",
      "model_module_version": "2.0.0",
      "model_name": "HTMLModel",
      "state": {
       "layout": "IPY_MODEL_01bbd87b29a9465fbe0ab6e6d4444c67",
       "style": "IPY_MODEL_4815d7d9092443c5b8ece2210e517edc",
       "value": " 10/10 [00:14&lt;00:00,  1.43s/it]"
      }
     },
     "5e7d8dc34dd242338b87411ffc195f5c": {
      "model_module": "@jupyter-widgets/base",
      "model_module_version": "2.0.0",
      "model_name": "LayoutModel",
      "state": {}
     },
     "5e9d710c184c4ec5a3ec323c9f644301": {
      "model_module": "@jupyter-widgets/controls",
      "model_module_version": "2.0.0",
      "model_name": "ProgressStyleModel",
      "state": {
       "description_width": ""
      }
     },
     "5f1aa0fa476e45b9ab3200a3dc2777b0": {
      "model_module": "@jupyter-widgets/controls",
      "model_module_version": "2.0.0",
      "model_name": "HTMLModel",
      "state": {
       "layout": "IPY_MODEL_69a86acefee94c7a85ccdc81b2d0bef0",
       "style": "IPY_MODEL_99535b481e074b20b7d133a7e34483e4",
       "value": " 10/10 [00:19&lt;00:00,  2.01s/it]"
      }
     },
     "5fb44abd5cf843a38ab4fc1abf2f64c3": {
      "model_module": "@jupyter-widgets/controls",
      "model_module_version": "2.0.0",
      "model_name": "HTMLStyleModel",
      "state": {
       "description_width": "",
       "font_size": null,
       "text_color": null
      }
     },
     "6004afafa16443a086080e38d7f554f2": {
      "model_module": "@jupyter-widgets/controls",
      "model_module_version": "2.0.0",
      "model_name": "HTMLModel",
      "state": {
       "layout": "IPY_MODEL_a669f7564b9849c696e672d0c4cbcc6a",
       "style": "IPY_MODEL_712adebfded64d3d9fff57e2bc8b34be",
       "value": " 10/10 [00:00&lt;00:00, 2500.03it/s]"
      }
     },
     "60807c92a87b48a8bc5728dd6ca45a8b": {
      "model_module": "@jupyter-widgets/controls",
      "model_module_version": "2.0.0",
      "model_name": "HTMLStyleModel",
      "state": {
       "description_width": "",
       "font_size": null,
       "text_color": null
      }
     },
     "6096fa155c144b93aeaf6a85a98fd823": {
      "model_module": "@jupyter-widgets/controls",
      "model_module_version": "2.0.0",
      "model_name": "FloatProgressModel",
      "state": {
       "bar_style": "success",
       "layout": "IPY_MODEL_59dad6f9e1384f65a536edec03eaa7d1",
       "max": 10,
       "style": "IPY_MODEL_c09fabca22b443e2a04e13cf30da1791",
       "value": 10
      }
     },
     "60e36a02476e43f580187858826344ee": {
      "model_module": "@jupyter-widgets/base",
      "model_module_version": "2.0.0",
      "model_name": "LayoutModel",
      "state": {}
     },
     "61001a70dc0f4b9fa81e12a504913457": {
      "model_module": "@jupyter-widgets/controls",
      "model_module_version": "2.0.0",
      "model_name": "HTMLStyleModel",
      "state": {
       "description_width": "",
       "font_size": null,
       "text_color": null
      }
     },
     "6172c851309342f3a4327ee328562158": {
      "model_module": "@jupyter-widgets/controls",
      "model_module_version": "2.0.0",
      "model_name": "HTMLModel",
      "state": {
       "layout": "IPY_MODEL_eff317bf493a41b7ada966082848e24d",
       "style": "IPY_MODEL_526b5981bb1c42dabf8ba3313f74b69c",
       "value": "100%"
      }
     },
     "61e2e5f96bb2492e909731b7655daa88": {
      "model_module": "@jupyter-widgets/base",
      "model_module_version": "2.0.0",
      "model_name": "LayoutModel",
      "state": {}
     },
     "62038a8831ad4fe19fc0f846a5f096aa": {
      "model_module": "@jupyter-widgets/base",
      "model_module_version": "2.0.0",
      "model_name": "LayoutModel",
      "state": {}
     },
     "625e12553d934dd5a89f4553f8447ae1": {
      "model_module": "@jupyter-widgets/base",
      "model_module_version": "2.0.0",
      "model_name": "LayoutModel",
      "state": {}
     },
     "6361685dbe56426c84be6d5cfe67748f": {
      "model_module": "@jupyter-widgets/controls",
      "model_module_version": "2.0.0",
      "model_name": "ProgressStyleModel",
      "state": {
       "description_width": ""
      }
     },
     "63710ec7afb44ad199df9965cff0b2c6": {
      "model_module": "@jupyter-widgets/base",
      "model_module_version": "2.0.0",
      "model_name": "LayoutModel",
      "state": {}
     },
     "63949fbdc4aa49b7a958a57afe634925": {
      "model_module": "@jupyter-widgets/controls",
      "model_module_version": "2.0.0",
      "model_name": "ProgressStyleModel",
      "state": {
       "description_width": ""
      }
     },
     "63b99c0075b14417a4179fea04d0938a": {
      "model_module": "@jupyter-widgets/base",
      "model_module_version": "2.0.0",
      "model_name": "LayoutModel",
      "state": {}
     },
     "63e4012a5f594d66b7d481c67466cdb8": {
      "model_module": "@jupyter-widgets/controls",
      "model_module_version": "2.0.0",
      "model_name": "HBoxModel",
      "state": {
       "children": [
        "IPY_MODEL_7eeb275a6df1403e952d3b593d464443",
        "IPY_MODEL_67b58127d1d5421a9841973f7be02285",
        "IPY_MODEL_6e36896855bf499ab8a1faf232fa0446"
       ],
       "layout": "IPY_MODEL_86a0079174db446a81a6445d09def53b"
      }
     },
     "641b96cf07184f7dbb8ce60ded437742": {
      "model_module": "@jupyter-widgets/controls",
      "model_module_version": "2.0.0",
      "model_name": "HBoxModel",
      "state": {
       "children": [
        "IPY_MODEL_e1b81e6f00cd4060b4ec6b522c5c1d01",
        "IPY_MODEL_02261b883005479dab211ecb3905be79",
        "IPY_MODEL_5008c4c6483c4e14814117446df77a9f"
       ],
       "layout": "IPY_MODEL_ad32dd4e47f048c4b8167ed6584425a8"
      }
     },
     "642421b197af47edb67bcd37feeb1806": {
      "model_module": "@jupyter-widgets/base",
      "model_module_version": "2.0.0",
      "model_name": "LayoutModel",
      "state": {}
     },
     "64523b5a0a234cd7a0a8626eba3a0f7e": {
      "model_module": "@jupyter-widgets/controls",
      "model_module_version": "2.0.0",
      "model_name": "HBoxModel",
      "state": {
       "children": [
        "IPY_MODEL_f26f34c7879446e89048efd75e9d5e9b",
        "IPY_MODEL_95bb6028dddd4c98abf5ffcf896b4cca",
        "IPY_MODEL_35e6131c832c43c68472e6d72b68a241"
       ],
       "layout": "IPY_MODEL_1089c85bb21e41bca9b73d84762848ee"
      }
     },
     "64831b9789ec461eb5e28adcd5a73f2e": {
      "model_module": "@jupyter-widgets/base",
      "model_module_version": "2.0.0",
      "model_name": "LayoutModel",
      "state": {}
     },
     "64bb1c6fa01a4c3696670073e763d1dc": {
      "model_module": "@jupyter-widgets/base",
      "model_module_version": "2.0.0",
      "model_name": "LayoutModel",
      "state": {}
     },
     "652477c792684472bebc40cbb85bde89": {
      "model_module": "@jupyter-widgets/controls",
      "model_module_version": "2.0.0",
      "model_name": "HTMLModel",
      "state": {
       "layout": "IPY_MODEL_adaa3014472944ec9e8d3576a0665259",
       "style": "IPY_MODEL_488051b47ddd47d286f78f32c36f7243",
       "value": "100%"
      }
     },
     "65379607867a4dbeb5cbffd96b0a96ec": {
      "model_module": "@jupyter-widgets/controls",
      "model_module_version": "2.0.0",
      "model_name": "HTMLModel",
      "state": {
       "layout": "IPY_MODEL_63b99c0075b14417a4179fea04d0938a",
       "style": "IPY_MODEL_8b624ca190e94837a432ad446ec932e6",
       "value": "100%"
      }
     },
     "657fc939ff534266a11d7d75e6c8fa55": {
      "model_module": "@jupyter-widgets/base",
      "model_module_version": "2.0.0",
      "model_name": "LayoutModel",
      "state": {}
     },
     "65ba554e3555447a9331248820110c81": {
      "model_module": "@jupyter-widgets/base",
      "model_module_version": "2.0.0",
      "model_name": "LayoutModel",
      "state": {}
     },
     "663eef7da3b14b77b33ac46f134597f6": {
      "model_module": "@jupyter-widgets/controls",
      "model_module_version": "2.0.0",
      "model_name": "HBoxModel",
      "state": {
       "children": [
        "IPY_MODEL_90176133a4d242f2a04266321793e10a",
        "IPY_MODEL_e56c000a88214c20b8d0d359f798f3cd",
        "IPY_MODEL_ae8ee0c3c16f4c0088cee45f93d9d814"
       ],
       "layout": "IPY_MODEL_e736af5e1a734262bcca6627c1fcfc90"
      }
     },
     "665e4050dc6a4e4c8ce8dff44257cc26": {
      "model_module": "@jupyter-widgets/controls",
      "model_module_version": "2.0.0",
      "model_name": "FloatProgressModel",
      "state": {
       "bar_style": "danger",
       "layout": "IPY_MODEL_52e4bc02d65741c39dce6099fcde9cdd",
       "max": 21,
       "style": "IPY_MODEL_66befa8e164749f1889775c803410c5d"
      }
     },
     "66768cbcf59d429da074426468a61bf1": {
      "model_module": "@jupyter-widgets/controls",
      "model_module_version": "2.0.0",
      "model_name": "HTMLModel",
      "state": {
       "layout": "IPY_MODEL_4d2bdc99ee644842bcb030dcb83b2d0b",
       "style": "IPY_MODEL_3c3a8640956743f5bce06f811067df3f",
       "value": "100%"
      }
     },
     "66a725e211794f69a4ebada494f95e69": {
      "model_module": "@jupyter-widgets/controls",
      "model_module_version": "2.0.0",
      "model_name": "HTMLModel",
      "state": {
       "layout": "IPY_MODEL_c3b8f675a4814edfa4eb12971700ac43",
       "style": "IPY_MODEL_22e1ec541cf34d49b49833d8ee2a6d36",
       "value": " 10/10 [00:14&lt;00:00,  1.47s/it]"
      }
     },
     "66befa8e164749f1889775c803410c5d": {
      "model_module": "@jupyter-widgets/controls",
      "model_module_version": "2.0.0",
      "model_name": "ProgressStyleModel",
      "state": {
       "description_width": ""
      }
     },
     "66bf3cd693ee42ceb2b843a8b04cb519": {
      "model_module": "@jupyter-widgets/controls",
      "model_module_version": "2.0.0",
      "model_name": "HTMLStyleModel",
      "state": {
       "description_width": "",
       "font_size": null,
       "text_color": null
      }
     },
     "6718c2c1f7834c7b9e1deacb87e09d20": {
      "model_module": "@jupyter-widgets/base",
      "model_module_version": "2.0.0",
      "model_name": "LayoutModel",
      "state": {}
     },
     "67a6667e84634d488a6a436a20cdf9b2": {
      "model_module": "@jupyter-widgets/controls",
      "model_module_version": "2.0.0",
      "model_name": "ProgressStyleModel",
      "state": {
       "description_width": ""
      }
     },
     "67b58127d1d5421a9841973f7be02285": {
      "model_module": "@jupyter-widgets/controls",
      "model_module_version": "2.0.0",
      "model_name": "FloatProgressModel",
      "state": {
       "bar_style": "success",
       "layout": "IPY_MODEL_83ffce8e4e214ae5990d43df5aa9b9ab",
       "max": 10,
       "style": "IPY_MODEL_065d781679c041b2afaf44685505e7ff",
       "value": 10
      }
     },
     "67d9badd22964bdebd8c59c161dd8a6c": {
      "model_module": "@jupyter-widgets/base",
      "model_module_version": "2.0.0",
      "model_name": "LayoutModel",
      "state": {}
     },
     "67e1a3cac8e94170b5bc015760dc4aca": {
      "model_module": "@jupyter-widgets/controls",
      "model_module_version": "2.0.0",
      "model_name": "HTMLModel",
      "state": {
       "layout": "IPY_MODEL_83b3a5e8e848413d8495ab4c1361cdd6",
       "style": "IPY_MODEL_f0c790ee01a74d31ad8042ca2ff6a597",
       "value": " 1/21 [00:22&lt;07:32, 22.64s/it]"
      }
     },
     "6801710d6a9a4d56b3ec78180d159c6b": {
      "model_module": "@jupyter-widgets/base",
      "model_module_version": "2.0.0",
      "model_name": "LayoutModel",
      "state": {}
     },
     "683730abb14f477fa483cca1fe22fd48": {
      "model_module": "@jupyter-widgets/base",
      "model_module_version": "2.0.0",
      "model_name": "LayoutModel",
      "state": {}
     },
     "68469902ee1b45ba9d29db68cb5a08fe": {
      "model_module": "@jupyter-widgets/controls",
      "model_module_version": "2.0.0",
      "model_name": "FloatProgressModel",
      "state": {
       "bar_style": "danger",
       "layout": "IPY_MODEL_b099477b593a4c44ac0304ace88596d3",
       "max": 10,
       "style": "IPY_MODEL_f73f6e531b4c40468c3ce0217d17d5b4"
      }
     },
     "68b033d584b645d29b19ef4a88401518": {
      "model_module": "@jupyter-widgets/controls",
      "model_module_version": "2.0.0",
      "model_name": "FloatProgressModel",
      "state": {
       "bar_style": "success",
       "layout": "IPY_MODEL_3f927a2aefee4459b0fdf8e6ca8b55ab",
       "max": 10,
       "style": "IPY_MODEL_466996b3313c420183fbea7405ec9d63",
       "value": 10
      }
     },
     "68b74a243a77452fb7a5f4d7ded0bc28": {
      "model_module": "@jupyter-widgets/base",
      "model_module_version": "2.0.0",
      "model_name": "LayoutModel",
      "state": {}
     },
     "68f0ceb242684e74959d045af9189fcd": {
      "model_module": "@jupyter-widgets/base",
      "model_module_version": "2.0.0",
      "model_name": "LayoutModel",
      "state": {}
     },
     "6912d3708d434f6b8168ea1639f66f53": {
      "model_module": "@jupyter-widgets/controls",
      "model_module_version": "2.0.0",
      "model_name": "HBoxModel",
      "state": {
       "children": [
        "IPY_MODEL_5bab610c27ed4cb5ad29f5b0631f4e74",
        "IPY_MODEL_7ecc8f866dea47d1bb1f66d9ffa55a1e",
        "IPY_MODEL_bd23904ee7b840418faf73bd651354f2"
       ],
       "layout": "IPY_MODEL_80dbed41961245f581d278652e3bd2fc"
      }
     },
     "6957bfe70c6f45f6b6a871a3cf3858ce": {
      "model_module": "@jupyter-widgets/controls",
      "model_module_version": "2.0.0",
      "model_name": "HTMLModel",
      "state": {
       "layout": "IPY_MODEL_72aa16768db8418b96fe29957a742310",
       "style": "IPY_MODEL_8f7532091c774b0c88065c7293f65645",
       "value": "100%"
      }
     },
     "69a86acefee94c7a85ccdc81b2d0bef0": {
      "model_module": "@jupyter-widgets/base",
      "model_module_version": "2.0.0",
      "model_name": "LayoutModel",
      "state": {}
     },
     "69aa3a5bc95e42c4912e1e4ba02c884a": {
      "model_module": "@jupyter-widgets/controls",
      "model_module_version": "2.0.0",
      "model_name": "FloatProgressModel",
      "state": {
       "bar_style": "success",
       "layout": "IPY_MODEL_1b3f7b0e02e44795862415fa785c4cc0",
       "max": 10,
       "style": "IPY_MODEL_89aaf58c0e3b4179aa3d9a30eb836d0b",
       "value": 10
      }
     },
     "69b314b9dc604e75ae75300b3233473c": {
      "model_module": "@jupyter-widgets/controls",
      "model_module_version": "2.0.0",
      "model_name": "HTMLModel",
      "state": {
       "layout": "IPY_MODEL_8b75304d63d8477cb1deee00762d06bf",
       "style": "IPY_MODEL_5962e02e38ff4a859b68e4cff59015a1",
       "value": "100%"
      }
     },
     "6a6c7de48ef24d3588900b1e604edf2c": {
      "model_module": "@jupyter-widgets/controls",
      "model_module_version": "2.0.0",
      "model_name": "HTMLModel",
      "state": {
       "layout": "IPY_MODEL_976b6d96c7e9499ab16c406565d91efe",
       "style": "IPY_MODEL_347561495141451d8197c751d45f5b62",
       "value": "100%"
      }
     },
     "6a7343994a8f44c1829a5b929e2afed2": {
      "model_module": "@jupyter-widgets/base",
      "model_module_version": "2.0.0",
      "model_name": "LayoutModel",
      "state": {}
     },
     "6b31a1e49f7e44ffa8cb3f11df641173": {
      "model_module": "@jupyter-widgets/controls",
      "model_module_version": "2.0.0",
      "model_name": "HTMLStyleModel",
      "state": {
       "description_width": "",
       "font_size": null,
       "text_color": null
      }
     },
     "6b652feb28794b3c9ce25687d79d6d79": {
      "model_module": "@jupyter-widgets/controls",
      "model_module_version": "2.0.0",
      "model_name": "HTMLModel",
      "state": {
       "layout": "IPY_MODEL_ea77870ed95b49838a40911c35eb9685",
       "style": "IPY_MODEL_203e826dbfe946588aed775c632cae9f",
       "value": " 10/10 [00:21&lt;00:00,  2.13s/it]"
      }
     },
     "6b8ec74998f0413f96395dfeebe62a8d": {
      "model_module": "@jupyter-widgets/controls",
      "model_module_version": "2.0.0",
      "model_name": "ProgressStyleModel",
      "state": {
       "description_width": ""
      }
     },
     "6bb651a56d5c4f12a80a3d4d3a500a31": {
      "model_module": "@jupyter-widgets/controls",
      "model_module_version": "2.0.0",
      "model_name": "HTMLModel",
      "state": {
       "layout": "IPY_MODEL_05f77bc9bb184468ae097e7ed0cd304e",
       "style": "IPY_MODEL_d17f03414d954bda80699934ca84c774",
       "value": " 10/10 [00:14&lt;00:00,  1.42s/it]"
      }
     },
     "6c106711be7f4f258ee3b95636010569": {
      "model_module": "@jupyter-widgets/controls",
      "model_module_version": "2.0.0",
      "model_name": "ProgressStyleModel",
      "state": {
       "description_width": ""
      }
     },
     "6c45ec99ac8543a4905ec1bd6964caeb": {
      "model_module": "@jupyter-widgets/base",
      "model_module_version": "2.0.0",
      "model_name": "LayoutModel",
      "state": {}
     },
     "6c6fa281eaa247ee8f55cf9d4cf56dc7": {
      "model_module": "@jupyter-widgets/controls",
      "model_module_version": "2.0.0",
      "model_name": "HTMLModel",
      "state": {
       "layout": "IPY_MODEL_f3eb01a744de40c1ab532d28eea97e19",
       "style": "IPY_MODEL_6e88d78eeb0f4cb48946ee336e1cbd6c",
       "value": "100%"
      }
     },
     "6c73df7545df4b42973e84561a465669": {
      "model_module": "@jupyter-widgets/base",
      "model_module_version": "2.0.0",
      "model_name": "LayoutModel",
      "state": {}
     },
     "6c9109f69cbf4b4db6b6c092fb4ac5d4": {
      "model_module": "@jupyter-widgets/controls",
      "model_module_version": "2.0.0",
      "model_name": "HTMLStyleModel",
      "state": {
       "description_width": "",
       "font_size": null,
       "text_color": null
      }
     },
     "6cc37fd678d24aaa86bc70347f3b965b": {
      "model_module": "@jupyter-widgets/base",
      "model_module_version": "2.0.0",
      "model_name": "LayoutModel",
      "state": {}
     },
     "6cdf3afc1572414f838ed6ab76f65ce5": {
      "model_module": "@jupyter-widgets/base",
      "model_module_version": "2.0.0",
      "model_name": "LayoutModel",
      "state": {}
     },
     "6d443cdfa6b4433982b01330fbfce203": {
      "model_module": "@jupyter-widgets/controls",
      "model_module_version": "2.0.0",
      "model_name": "ProgressStyleModel",
      "state": {
       "description_width": ""
      }
     },
     "6daf2d659795410a88c5560227bf44de": {
      "model_module": "@jupyter-widgets/base",
      "model_module_version": "2.0.0",
      "model_name": "LayoutModel",
      "state": {}
     },
     "6e2c6663ce284d17b59bd5bacc2bf625": {
      "model_module": "@jupyter-widgets/controls",
      "model_module_version": "2.0.0",
      "model_name": "HTMLStyleModel",
      "state": {
       "description_width": "",
       "font_size": null,
       "text_color": null
      }
     },
     "6e36896855bf499ab8a1faf232fa0446": {
      "model_module": "@jupyter-widgets/controls",
      "model_module_version": "2.0.0",
      "model_name": "HTMLModel",
      "state": {
       "layout": "IPY_MODEL_37b3a507ccc94271950b043eb54fd916",
       "style": "IPY_MODEL_966efd183cb3425fb8c3fda44ce6c5f5",
       "value": " 10/10 [00:18&lt;00:00,  2.10s/it]"
      }
     },
     "6e39e30df83b406cb9aba4f2f90ac21b": {
      "model_module": "@jupyter-widgets/base",
      "model_module_version": "2.0.0",
      "model_name": "LayoutModel",
      "state": {}
     },
     "6e55a09ab2f7440a9934616670e5ff66": {
      "model_module": "@jupyter-widgets/controls",
      "model_module_version": "2.0.0",
      "model_name": "HBoxModel",
      "state": {
       "children": [
        "IPY_MODEL_009e8ae7bbbf4f8ca6cba86d94a10e65",
        "IPY_MODEL_268ea3e25cdf4d8e930dbe7a338f1f25",
        "IPY_MODEL_74e828cdf68443349d0a4d7400824390"
       ],
       "layout": "IPY_MODEL_f245c898ca314df9a629e523eefd2f09"
      }
     },
     "6e5bf6adf9254508a77c7da8d52218aa": {
      "model_module": "@jupyter-widgets/controls",
      "model_module_version": "2.0.0",
      "model_name": "HTMLModel",
      "state": {
       "layout": "IPY_MODEL_af36aa119f944dc9b439c306824c5115",
       "style": "IPY_MODEL_d659919370e6464692c0d2c6a3baf34e",
       "value": " 10/10 [00:20&lt;00:00,  2.17s/it]"
      }
     },
     "6e88d78eeb0f4cb48946ee336e1cbd6c": {
      "model_module": "@jupyter-widgets/controls",
      "model_module_version": "2.0.0",
      "model_name": "HTMLStyleModel",
      "state": {
       "description_width": "",
       "font_size": null,
       "text_color": null
      }
     },
     "6ec137570aea46f08b81d798a13da0b3": {
      "model_module": "@jupyter-widgets/controls",
      "model_module_version": "2.0.0",
      "model_name": "FloatProgressModel",
      "state": {
       "bar_style": "success",
       "layout": "IPY_MODEL_92e3a3344a4e46d99c0a0e8eef230819",
       "max": 10,
       "style": "IPY_MODEL_d62c982592db4dcea7f8bc6e07d76c72",
       "value": 10
      }
     },
     "6ec2907365534256979f4f22df308122": {
      "model_module": "@jupyter-widgets/controls",
      "model_module_version": "2.0.0",
      "model_name": "HTMLStyleModel",
      "state": {
       "description_width": "",
       "font_size": null,
       "text_color": null
      }
     },
     "6ec5f3f6bfd64680af7ed88c9de9e7fb": {
      "model_module": "@jupyter-widgets/controls",
      "model_module_version": "2.0.0",
      "model_name": "HTMLStyleModel",
      "state": {
       "description_width": "",
       "font_size": null,
       "text_color": null
      }
     },
     "6f22c6be29c24506a0948032ba8dabee": {
      "model_module": "@jupyter-widgets/controls",
      "model_module_version": "2.0.0",
      "model_name": "HTMLStyleModel",
      "state": {
       "description_width": "",
       "font_size": null,
       "text_color": null
      }
     },
     "6f437e8c6e744534b0830cc9c3a93859": {
      "model_module": "@jupyter-widgets/base",
      "model_module_version": "2.0.0",
      "model_name": "LayoutModel",
      "state": {}
     },
     "6fdabc0d4ddb432c9e52db0aa0df3b24": {
      "model_module": "@jupyter-widgets/controls",
      "model_module_version": "2.0.0",
      "model_name": "HTMLModel",
      "state": {
       "layout": "IPY_MODEL_568c73a5f2b645f6a9d463c3fbe3e3e2",
       "style": "IPY_MODEL_fcf3533b8a574fa1a582b111f33713be",
       "value": " 10/10 [00:15&lt;00:00,  1.44s/it]"
      }
     },
     "70ce63c9a3fb4b38ad842be99b8abbc3": {
      "model_module": "@jupyter-widgets/base",
      "model_module_version": "2.0.0",
      "model_name": "LayoutModel",
      "state": {}
     },
     "712adebfded64d3d9fff57e2bc8b34be": {
      "model_module": "@jupyter-widgets/controls",
      "model_module_version": "2.0.0",
      "model_name": "HTMLStyleModel",
      "state": {
       "description_width": "",
       "font_size": null,
       "text_color": null
      }
     },
     "71b7899d66e64d0689ca206964f52350": {
      "model_module": "@jupyter-widgets/base",
      "model_module_version": "2.0.0",
      "model_name": "LayoutModel",
      "state": {}
     },
     "720d57617c524a97ac2a9a75b3fdfcca": {
      "model_module": "@jupyter-widgets/base",
      "model_module_version": "2.0.0",
      "model_name": "LayoutModel",
      "state": {}
     },
     "722385133ee642e48ba45e7d24c8ebfc": {
      "model_module": "@jupyter-widgets/base",
      "model_module_version": "2.0.0",
      "model_name": "LayoutModel",
      "state": {}
     },
     "72aa16768db8418b96fe29957a742310": {
      "model_module": "@jupyter-widgets/base",
      "model_module_version": "2.0.0",
      "model_name": "LayoutModel",
      "state": {}
     },
     "72b015a2a51f4ce791d7cb2e7d078599": {
      "model_module": "@jupyter-widgets/base",
      "model_module_version": "2.0.0",
      "model_name": "LayoutModel",
      "state": {}
     },
     "730c4830a80c46e1998b5761ffa204e2": {
      "model_module": "@jupyter-widgets/base",
      "model_module_version": "2.0.0",
      "model_name": "LayoutModel",
      "state": {}
     },
     "73255315b1c8403792d18a69fe3e04de": {
      "model_module": "@jupyter-widgets/controls",
      "model_module_version": "2.0.0",
      "model_name": "HTMLModel",
      "state": {
       "layout": "IPY_MODEL_87a7f2f5addb42959af26673f06b6eb4",
       "style": "IPY_MODEL_e6f97431091b443398ff2f99b64d41e0",
       "value": " 10/10 [00:15&lt;00:00,  1.53s/it]"
      }
     },
     "7335ecf070574d4ea9bcebc8e8f214f9": {
      "model_module": "@jupyter-widgets/base",
      "model_module_version": "2.0.0",
      "model_name": "LayoutModel",
      "state": {}
     },
     "733a5b32d22d4d37a0a3b28d4adb0eef": {
      "model_module": "@jupyter-widgets/controls",
      "model_module_version": "2.0.0",
      "model_name": "HTMLStyleModel",
      "state": {
       "description_width": "",
       "font_size": null,
       "text_color": null
      }
     },
     "733c8fb5dc8143f6a3b53576ed378124": {
      "model_module": "@jupyter-widgets/controls",
      "model_module_version": "2.0.0",
      "model_name": "HTMLModel",
      "state": {
       "layout": "IPY_MODEL_b96c2226fc2b425c8934a953fcc9d839",
       "style": "IPY_MODEL_a42eae99494c454fa28fe1a6ceba4c05",
       "value": "100%"
      }
     },
     "7391f68ca2bf4292ab943b7cdd12d8c0": {
      "model_module": "@jupyter-widgets/controls",
      "model_module_version": "2.0.0",
      "model_name": "HTMLModel",
      "state": {
       "layout": "IPY_MODEL_f96860877810403986416297b4c3f90a",
       "style": "IPY_MODEL_f82e3aa5f9f84950b64ec930ca833365",
       "value": "100%"
      }
     },
     "73c6a835d0fa4343b39b505b8138c0a7": {
      "model_module": "@jupyter-widgets/base",
      "model_module_version": "2.0.0",
      "model_name": "LayoutModel",
      "state": {}
     },
     "7417ad50c1d845c1aa2f7817d33a4427": {
      "model_module": "@jupyter-widgets/base",
      "model_module_version": "2.0.0",
      "model_name": "LayoutModel",
      "state": {}
     },
     "747083c24891469f8bc511c8e790d6a0": {
      "model_module": "@jupyter-widgets/base",
      "model_module_version": "2.0.0",
      "model_name": "LayoutModel",
      "state": {}
     },
     "74e3a11287394803aa40036010bbf49b": {
      "model_module": "@jupyter-widgets/base",
      "model_module_version": "2.0.0",
      "model_name": "LayoutModel",
      "state": {}
     },
     "74e828cdf68443349d0a4d7400824390": {
      "model_module": "@jupyter-widgets/controls",
      "model_module_version": "2.0.0",
      "model_name": "HTMLModel",
      "state": {
       "layout": "IPY_MODEL_730c4830a80c46e1998b5761ffa204e2",
       "style": "IPY_MODEL_abebf4d26e6d448da32f15b59acb8db6",
       "value": " 10/10 [00:14&lt;00:00,  1.47s/it]"
      }
     },
     "74e9e8b3989f43178c1706cf64a1f708": {
      "model_module": "@jupyter-widgets/base",
      "model_module_version": "2.0.0",
      "model_name": "LayoutModel",
      "state": {}
     },
     "74f160642be949619aebfaf08e05023c": {
      "model_module": "@jupyter-widgets/controls",
      "model_module_version": "2.0.0",
      "model_name": "HTMLStyleModel",
      "state": {
       "description_width": "",
       "font_size": null,
       "text_color": null
      }
     },
     "7516792b45db4d488106ccedbd202052": {
      "model_module": "@jupyter-widgets/controls",
      "model_module_version": "2.0.0",
      "model_name": "FloatProgressModel",
      "state": {
       "bar_style": "danger",
       "layout": "IPY_MODEL_80b14ac202864ee5b344e0ba784a7d66",
       "max": 10,
       "style": "IPY_MODEL_cc938eb942df4d719fde0c6eae9b55a3",
       "value": 4
      }
     },
     "755159f16616413a81f771a0580276b7": {
      "model_module": "@jupyter-widgets/controls",
      "model_module_version": "2.0.0",
      "model_name": "HTMLModel",
      "state": {
       "layout": "IPY_MODEL_0405086f033647a188319586c272eebb",
       "style": "IPY_MODEL_ef1afde67b304342a55e390a5c2ee39c",
       "value": "100%"
      }
     },
     "75ed98b3c8c948a783f74d0f80074228": {
      "model_module": "@jupyter-widgets/controls",
      "model_module_version": "2.0.0",
      "model_name": "HTMLStyleModel",
      "state": {
       "description_width": "",
       "font_size": null,
       "text_color": null
      }
     },
     "768e16cfb2e44fad9d6ee7539cb6def6": {
      "model_module": "@jupyter-widgets/base",
      "model_module_version": "2.0.0",
      "model_name": "LayoutModel",
      "state": {}
     },
     "76d9445acc044d7fb987775a9a045ae6": {
      "model_module": "@jupyter-widgets/controls",
      "model_module_version": "2.0.0",
      "model_name": "ProgressStyleModel",
      "state": {
       "description_width": ""
      }
     },
     "775cabe2053b4c0db40f751caae464bd": {
      "model_module": "@jupyter-widgets/controls",
      "model_module_version": "2.0.0",
      "model_name": "ProgressStyleModel",
      "state": {
       "description_width": ""
      }
     },
     "775dcc45d2744b3fbcd1e86e3a213458": {
      "model_module": "@jupyter-widgets/controls",
      "model_module_version": "2.0.0",
      "model_name": "ProgressStyleModel",
      "state": {
       "description_width": ""
      }
     },
     "77a20cbdc2d64f1b87e002871dcc6f77": {
      "model_module": "@jupyter-widgets/controls",
      "model_module_version": "2.0.0",
      "model_name": "ProgressStyleModel",
      "state": {
       "description_width": ""
      }
     },
     "77a307aea5794d20a9a54a510851061d": {
      "model_module": "@jupyter-widgets/controls",
      "model_module_version": "2.0.0",
      "model_name": "HTMLModel",
      "state": {
       "layout": "IPY_MODEL_b7a3074bf2ed4204b00da22628df5ca5",
       "style": "IPY_MODEL_8ce478cd60084e87839b6486b8a8eae7",
       "value": " 10/10 [00:00&lt;00:00, 1666.59it/s]"
      }
     },
     "78770570b41047b4b40804942d2bc565": {
      "model_module": "@jupyter-widgets/controls",
      "model_module_version": "2.0.0",
      "model_name": "HTMLModel",
      "state": {
       "layout": "IPY_MODEL_4134cd4bbd2048c19b6565faa1bb90df",
       "style": "IPY_MODEL_d90f628f5cfd4e85867ebc7af3bb163f",
       "value": " 0/21 [00:08&lt;?, ?it/s]"
      }
     },
     "7915093bf50e4997a4483956452783d2": {
      "model_module": "@jupyter-widgets/controls",
      "model_module_version": "2.0.0",
      "model_name": "HTMLModel",
      "state": {
       "layout": "IPY_MODEL_d5d294ac70ff43a3b50c52b8fbf376e8",
       "style": "IPY_MODEL_7e0500c2df7945ae8db59dba6459435d",
       "value": " 10/10 [00:17&lt;00:00,  1.84s/it]"
      }
     },
     "79321a12a8ee421da7f8b9704ad7fe84": {
      "model_module": "@jupyter-widgets/controls",
      "model_module_version": "2.0.0",
      "model_name": "HTMLStyleModel",
      "state": {
       "description_width": "",
       "font_size": null,
       "text_color": null
      }
     },
     "793cbd78f40f4cfb9a69745f93fe6885": {
      "model_module": "@jupyter-widgets/controls",
      "model_module_version": "2.0.0",
      "model_name": "HBoxModel",
      "state": {
       "children": [
        "IPY_MODEL_150feaca150541728cc3492572b66eb2",
        "IPY_MODEL_69aa3a5bc95e42c4912e1e4ba02c884a",
        "IPY_MODEL_cf88e5f3492e4f16a89339a17c8ea9b7"
       ],
       "layout": "IPY_MODEL_2ebc5e69c9574ec286e9188957dd58c9"
      }
     },
     "79600906b12e44788de40898f360d0d2": {
      "model_module": "@jupyter-widgets/base",
      "model_module_version": "2.0.0",
      "model_name": "LayoutModel",
      "state": {}
     },
     "79d4494d47cb4716901c0e0bfde1a79c": {
      "model_module": "@jupyter-widgets/controls",
      "model_module_version": "2.0.0",
      "model_name": "HTMLStyleModel",
      "state": {
       "description_width": "",
       "font_size": null,
       "text_color": null
      }
     },
     "7a167acdd3ea40a8b92623e717b27143": {
      "model_module": "@jupyter-widgets/controls",
      "model_module_version": "2.0.0",
      "model_name": "HTMLStyleModel",
      "state": {
       "description_width": "",
       "font_size": null,
       "text_color": null
      }
     },
     "7a7f87595c3f4b7aa72f999ef157fa29": {
      "model_module": "@jupyter-widgets/controls",
      "model_module_version": "2.0.0",
      "model_name": "HTMLStyleModel",
      "state": {
       "description_width": "",
       "font_size": null,
       "text_color": null
      }
     },
     "7a88a09654f24f0d86c0fb37b1a7f645": {
      "model_module": "@jupyter-widgets/base",
      "model_module_version": "2.0.0",
      "model_name": "LayoutModel",
      "state": {}
     },
     "7b19d205d5c4430d8eede97b5a5f5725": {
      "model_module": "@jupyter-widgets/controls",
      "model_module_version": "2.0.0",
      "model_name": "FloatProgressModel",
      "state": {
       "bar_style": "success",
       "layout": "IPY_MODEL_c8774a34f905487aa021ad19a957d937",
       "max": 10,
       "style": "IPY_MODEL_76d9445acc044d7fb987775a9a045ae6",
       "value": 10
      }
     },
     "7bef5d8b356246d39d9ecf8a3220059a": {
      "model_module": "@jupyter-widgets/base",
      "model_module_version": "2.0.0",
      "model_name": "LayoutModel",
      "state": {}
     },
     "7c02b4270d17436c9911955b7ff8d4d0": {
      "model_module": "@jupyter-widgets/base",
      "model_module_version": "2.0.0",
      "model_name": "LayoutModel",
      "state": {}
     },
     "7c1663d12ba74716a99f55abbec51690": {
      "model_module": "@jupyter-widgets/controls",
      "model_module_version": "2.0.0",
      "model_name": "HTMLStyleModel",
      "state": {
       "description_width": "",
       "font_size": null,
       "text_color": null
      }
     },
     "7c6b1e57b58b4f3292aee040fc4081c0": {
      "model_module": "@jupyter-widgets/controls",
      "model_module_version": "2.0.0",
      "model_name": "HBoxModel",
      "state": {
       "children": [
        "IPY_MODEL_51085cf9c6574f11aeb5b9a28e58413c",
        "IPY_MODEL_e3c12787c9944ee88a050f9ce7dc9a9f",
        "IPY_MODEL_c5050e8cfa86485d861ad2af78fbd3e0"
       ],
       "layout": "IPY_MODEL_0d987ca353954a5283a91d4014e10e14"
      }
     },
     "7cb9d90ed3d544cb8fa8cfdd95fc2f1f": {
      "model_module": "@jupyter-widgets/base",
      "model_module_version": "2.0.0",
      "model_name": "LayoutModel",
      "state": {}
     },
     "7cbdf53004ac4aeb93c70b00230850b0": {
      "model_module": "@jupyter-widgets/base",
      "model_module_version": "2.0.0",
      "model_name": "LayoutModel",
      "state": {}
     },
     "7cfbd87710804a6eb41a184da567b319": {
      "model_module": "@jupyter-widgets/controls",
      "model_module_version": "2.0.0",
      "model_name": "HTMLModel",
      "state": {
       "layout": "IPY_MODEL_b50beb2e735b43ea8562a4e8709b28f2",
       "style": "IPY_MODEL_8a4807d14e1343a2a7ee0f0a235c0a63",
       "value": " 4/10 [00:10&lt;00:14,  2.41s/it]"
      }
     },
     "7d3db98173714dc787aade8381006f46": {
      "model_module": "@jupyter-widgets/base",
      "model_module_version": "2.0.0",
      "model_name": "LayoutModel",
      "state": {}
     },
     "7d89a2d4e67d4cf68ff17ab56186111a": {
      "model_module": "@jupyter-widgets/controls",
      "model_module_version": "2.0.0",
      "model_name": "HBoxModel",
      "state": {
       "children": [
        "IPY_MODEL_cad6cefcc5b249f1b3c9f3fd6877188e",
        "IPY_MODEL_ecca25cf282444e49541eade254a1252",
        "IPY_MODEL_17e45e891f114e3895bae2daf11f0b13"
       ],
       "layout": "IPY_MODEL_ba6d360c455d49e0bf8faf548fedbf1a"
      }
     },
     "7d93e09303994f33b1df4a8e31fc840e": {
      "model_module": "@jupyter-widgets/base",
      "model_module_version": "2.0.0",
      "model_name": "LayoutModel",
      "state": {}
     },
     "7d96b8a443b549fca52a83315796eb28": {
      "model_module": "@jupyter-widgets/controls",
      "model_module_version": "2.0.0",
      "model_name": "ProgressStyleModel",
      "state": {
       "description_width": ""
      }
     },
     "7dcab91fbfc34e55818d53073dc08071": {
      "model_module": "@jupyter-widgets/controls",
      "model_module_version": "2.0.0",
      "model_name": "ProgressStyleModel",
      "state": {
       "description_width": ""
      }
     },
     "7dd38b3db8904cf681b52d95f35441b2": {
      "model_module": "@jupyter-widgets/controls",
      "model_module_version": "2.0.0",
      "model_name": "FloatProgressModel",
      "state": {
       "bar_style": "success",
       "layout": "IPY_MODEL_e789826b277c47b5abf3aca6cb77f368",
       "max": 10,
       "style": "IPY_MODEL_130c9a837f0c4ed7aa9d85cf5a9c62ee",
       "value": 10
      }
     },
     "7e0500c2df7945ae8db59dba6459435d": {
      "model_module": "@jupyter-widgets/controls",
      "model_module_version": "2.0.0",
      "model_name": "HTMLStyleModel",
      "state": {
       "description_width": "",
       "font_size": null,
       "text_color": null
      }
     },
     "7e4ebe67e23a4388a9a971bd42f4d4c0": {
      "model_module": "@jupyter-widgets/controls",
      "model_module_version": "2.0.0",
      "model_name": "HTMLModel",
      "state": {
       "layout": "IPY_MODEL_b4ea2b98355d4e7b82f85371217c1b29",
       "style": "IPY_MODEL_85f21dc6afca4a1c8d1c337289fbf8ba",
       "value": " 1/10 [00:02&lt;00:20,  2.23s/it]"
      }
     },
     "7e4f0eae390b450aa3f04afc00316606": {
      "model_module": "@jupyter-widgets/controls",
      "model_module_version": "2.0.0",
      "model_name": "HTMLStyleModel",
      "state": {
       "description_width": "",
       "font_size": null,
       "text_color": null
      }
     },
     "7e867f75a1ea435fb9189e7ecaeced63": {
      "model_module": "@jupyter-widgets/controls",
      "model_module_version": "2.0.0",
      "model_name": "FloatProgressModel",
      "state": {
       "bar_style": "success",
       "layout": "IPY_MODEL_a5b958697a564adcb31b2c464ddb8cfa",
       "max": 10,
       "style": "IPY_MODEL_9b37308d9a824f779c8605406b96a80d",
       "value": 10
      }
     },
     "7eb279bf7d134be993726c6e4d35000b": {
      "model_module": "@jupyter-widgets/controls",
      "model_module_version": "2.0.0",
      "model_name": "HTMLStyleModel",
      "state": {
       "description_width": "",
       "font_size": null,
       "text_color": null
      }
     },
     "7ecc8f866dea47d1bb1f66d9ffa55a1e": {
      "model_module": "@jupyter-widgets/controls",
      "model_module_version": "2.0.0",
      "model_name": "FloatProgressModel",
      "state": {
       "bar_style": "success",
       "layout": "IPY_MODEL_c7b073faa4ad4621821a643ca1ec935c",
       "max": 10,
       "style": "IPY_MODEL_2f66c73197f44940b0fb127e7d5ef21a",
       "value": 10
      }
     },
     "7eeb275a6df1403e952d3b593d464443": {
      "model_module": "@jupyter-widgets/controls",
      "model_module_version": "2.0.0",
      "model_name": "HTMLModel",
      "state": {
       "layout": "IPY_MODEL_53662aa5e82a43c8904d3f6676de51bb",
       "style": "IPY_MODEL_488732405c3f4656a8d04b4d482a543c",
       "value": "100%"
      }
     },
     "7f02796c9f0d4e1381e1f4b0a8cf653c": {
      "model_module": "@jupyter-widgets/controls",
      "model_module_version": "2.0.0",
      "model_name": "ProgressStyleModel",
      "state": {
       "description_width": ""
      }
     },
     "7f1611912e8d419fa036c1a8d57a5e8a": {
      "model_module": "@jupyter-widgets/controls",
      "model_module_version": "2.0.0",
      "model_name": "HTMLStyleModel",
      "state": {
       "description_width": "",
       "font_size": null,
       "text_color": null
      }
     },
     "7f29524c1e7d40e0a2511cdbb7934846": {
      "model_module": "@jupyter-widgets/controls",
      "model_module_version": "2.0.0",
      "model_name": "FloatProgressModel",
      "state": {
       "bar_style": "success",
       "layout": "IPY_MODEL_dee2007119974b3da768eef3e5bd9111",
       "max": 10,
       "style": "IPY_MODEL_1d47a8cf04374bd38a150f4aab833fe4",
       "value": 10
      }
     },
     "7f57359728de40f28acfae603c4b8d2a": {
      "model_module": "@jupyter-widgets/controls",
      "model_module_version": "2.0.0",
      "model_name": "HTMLModel",
      "state": {
       "layout": "IPY_MODEL_bb220c290da34ad1ba7caa5a33e5c6e5",
       "style": "IPY_MODEL_1ea6c2f0a7c541bab38d12aa0503f883",
       "value": " 10/10 [00:14&lt;00:00,  1.40s/it]"
      }
     },
     "7f58080d7c1543f6af93467149b96ea5": {
      "model_module": "@jupyter-widgets/controls",
      "model_module_version": "2.0.0",
      "model_name": "HBoxModel",
      "state": {
       "children": [
        "IPY_MODEL_9d8a265019684c91af3c4d1470abc469",
        "IPY_MODEL_9c666e0b72244c43a1b6c2d0709baf1f",
        "IPY_MODEL_5f1aa0fa476e45b9ab3200a3dc2777b0"
       ],
       "layout": "IPY_MODEL_e5f85a7b7fc04bba814d6be97afb02f9"
      }
     },
     "7f62e86071de49d8a5416a4cffa654af": {
      "model_module": "@jupyter-widgets/controls",
      "model_module_version": "2.0.0",
      "model_name": "HBoxModel",
      "state": {
       "children": [
        "IPY_MODEL_2ad91377edc94bf682fe943a0b2c51cc",
        "IPY_MODEL_fd574db71bef447f93ec23bca81c3a06",
        "IPY_MODEL_1f886247a0f1495f9095eab928ecd9b5"
       ],
       "layout": "IPY_MODEL_ec00d95f180846338d8e90cdbcb5f504"
      }
     },
     "7f93989f0cc048069609a5f072be4e26": {
      "model_module": "@jupyter-widgets/controls",
      "model_module_version": "2.0.0",
      "model_name": "HTMLModel",
      "state": {
       "layout": "IPY_MODEL_7a88a09654f24f0d86c0fb37b1a7f645",
       "style": "IPY_MODEL_94cee660e9e3441692e65c12b3e69798",
       "value": " 40%"
      }
     },
     "7fa1e6eb38f646a6aac047f45af7ef39": {
      "model_module": "@jupyter-widgets/controls",
      "model_module_version": "2.0.0",
      "model_name": "HBoxModel",
      "state": {
       "children": [
        "IPY_MODEL_4c7c0aed1f374555aa1934f17730eb7d",
        "IPY_MODEL_3124f93108384ffe8e495b7dcb90909a",
        "IPY_MODEL_e820e1a2369642149038465f242157fc"
       ],
       "layout": "IPY_MODEL_546f03f48a92405caa824a9b4e6df033"
      }
     },
     "802d7af8808a4573a190e2ecfdb8b4c2": {
      "model_module": "@jupyter-widgets/controls",
      "model_module_version": "2.0.0",
      "model_name": "ProgressStyleModel",
      "state": {
       "description_width": ""
      }
     },
     "80b14ac202864ee5b344e0ba784a7d66": {
      "model_module": "@jupyter-widgets/base",
      "model_module_version": "2.0.0",
      "model_name": "LayoutModel",
      "state": {}
     },
     "80dbed41961245f581d278652e3bd2fc": {
      "model_module": "@jupyter-widgets/base",
      "model_module_version": "2.0.0",
      "model_name": "LayoutModel",
      "state": {}
     },
     "8135bd32f5bc44dcbc5748870e19b8e5": {
      "model_module": "@jupyter-widgets/base",
      "model_module_version": "2.0.0",
      "model_name": "LayoutModel",
      "state": {}
     },
     "81b09619753849709f0adf6d7c700b98": {
      "model_module": "@jupyter-widgets/controls",
      "model_module_version": "2.0.0",
      "model_name": "HTMLStyleModel",
      "state": {
       "description_width": "",
       "font_size": null,
       "text_color": null
      }
     },
     "81c2cb4154074103896a1d578966297f": {
      "model_module": "@jupyter-widgets/controls",
      "model_module_version": "2.0.0",
      "model_name": "ProgressStyleModel",
      "state": {
       "description_width": ""
      }
     },
     "81c5f5fefbaa446db6c7f1e3db3cdd56": {
      "model_module": "@jupyter-widgets/base",
      "model_module_version": "2.0.0",
      "model_name": "LayoutModel",
      "state": {}
     },
     "8375d7d2322e4903a236e20cef167a81": {
      "model_module": "@jupyter-widgets/base",
      "model_module_version": "2.0.0",
      "model_name": "LayoutModel",
      "state": {}
     },
     "83a96c5264b944ccbf1453a6cd171679": {
      "model_module": "@jupyter-widgets/controls",
      "model_module_version": "2.0.0",
      "model_name": "HTMLModel",
      "state": {
       "layout": "IPY_MODEL_93414480c2cb423986eeacdeda866eb4",
       "style": "IPY_MODEL_b805e6f3734745d7b1c8087efd659fde",
       "value": "100%"
      }
     },
     "83b3a5e8e848413d8495ab4c1361cdd6": {
      "model_module": "@jupyter-widgets/base",
      "model_module_version": "2.0.0",
      "model_name": "LayoutModel",
      "state": {}
     },
     "83d1c8533ad6473c9712244e2e5bc81e": {
      "model_module": "@jupyter-widgets/controls",
      "model_module_version": "2.0.0",
      "model_name": "HTMLModel",
      "state": {
       "layout": "IPY_MODEL_64bb1c6fa01a4c3696670073e763d1dc",
       "style": "IPY_MODEL_e2dd235a679840718d09f3be18141c5f",
       "value": "  5%"
      }
     },
     "83e86fa8b93346eda3167be41a72665a": {
      "model_module": "@jupyter-widgets/controls",
      "model_module_version": "2.0.0",
      "model_name": "HTMLStyleModel",
      "state": {
       "description_width": "",
       "font_size": null,
       "text_color": null
      }
     },
     "83ffce8e4e214ae5990d43df5aa9b9ab": {
      "model_module": "@jupyter-widgets/base",
      "model_module_version": "2.0.0",
      "model_name": "LayoutModel",
      "state": {}
     },
     "8404a2be6d144c64a8e7550a628d0971": {
      "model_module": "@jupyter-widgets/controls",
      "model_module_version": "2.0.0",
      "model_name": "ProgressStyleModel",
      "state": {
       "description_width": ""
      }
     },
     "844c5a1a8e674db1a592f187225d6003": {
      "model_module": "@jupyter-widgets/base",
      "model_module_version": "2.0.0",
      "model_name": "LayoutModel",
      "state": {}
     },
     "84873764eca949bcacb76ad1ac61d91c": {
      "model_module": "@jupyter-widgets/base",
      "model_module_version": "2.0.0",
      "model_name": "LayoutModel",
      "state": {}
     },
     "84b94aa90ee84b94b0ff4d5751a6378a": {
      "model_module": "@jupyter-widgets/base",
      "model_module_version": "2.0.0",
      "model_name": "LayoutModel",
      "state": {}
     },
     "84edc1c837a544459c8a4cdc08eced2a": {
      "model_module": "@jupyter-widgets/base",
      "model_module_version": "2.0.0",
      "model_name": "LayoutModel",
      "state": {}
     },
     "8516313ce58e474ba5c1b4644d71fb9a": {
      "model_module": "@jupyter-widgets/controls",
      "model_module_version": "2.0.0",
      "model_name": "ProgressStyleModel",
      "state": {
       "description_width": ""
      }
     },
     "851d907b14e14589a24b9a050f8a595f": {
      "model_module": "@jupyter-widgets/controls",
      "model_module_version": "2.0.0",
      "model_name": "FloatProgressModel",
      "state": {
       "bar_style": "success",
       "layout": "IPY_MODEL_be11eeb1462745b888d9e4d7e9e98b49",
       "max": 10,
       "style": "IPY_MODEL_57867d3e17384c689e98996fb1a9bdb0",
       "value": 10
      }
     },
     "85ec54ac6c7c4cd4862fa089e5b8e730": {
      "model_module": "@jupyter-widgets/controls",
      "model_module_version": "2.0.0",
      "model_name": "HTMLStyleModel",
      "state": {
       "description_width": "",
       "font_size": null,
       "text_color": null
      }
     },
     "85edd53c10734a10bc79ddecac7f3281": {
      "model_module": "@jupyter-widgets/base",
      "model_module_version": "2.0.0",
      "model_name": "LayoutModel",
      "state": {}
     },
     "85ef02b7ddf742edad01ecdd535461f0": {
      "model_module": "@jupyter-widgets/controls",
      "model_module_version": "2.0.0",
      "model_name": "FloatProgressModel",
      "state": {
       "bar_style": "success",
       "layout": "IPY_MODEL_1787edfb13d34b32987c161fff919f78",
       "max": 10,
       "style": "IPY_MODEL_9eb8a023ba1a44f6a11f8128ffa585cb",
       "value": 10
      }
     },
     "85f21dc6afca4a1c8d1c337289fbf8ba": {
      "model_module": "@jupyter-widgets/controls",
      "model_module_version": "2.0.0",
      "model_name": "HTMLStyleModel",
      "state": {
       "description_width": "",
       "font_size": null,
       "text_color": null
      }
     },
     "862903a4b01d4853b7879cd41348b6d1": {
      "model_module": "@jupyter-widgets/base",
      "model_module_version": "2.0.0",
      "model_name": "LayoutModel",
      "state": {}
     },
     "864ed2ab98964384a72b44b21585a35f": {
      "model_module": "@jupyter-widgets/base",
      "model_module_version": "2.0.0",
      "model_name": "LayoutModel",
      "state": {}
     },
     "86893c17fc3b419f84b17119f18ae2fe": {
      "model_module": "@jupyter-widgets/controls",
      "model_module_version": "2.0.0",
      "model_name": "ProgressStyleModel",
      "state": {
       "description_width": ""
      }
     },
     "86a0079174db446a81a6445d09def53b": {
      "model_module": "@jupyter-widgets/base",
      "model_module_version": "2.0.0",
      "model_name": "LayoutModel",
      "state": {}
     },
     "876b53c06fdf4923b95ed6e4fe018f5b": {
      "model_module": "@jupyter-widgets/controls",
      "model_module_version": "2.0.0",
      "model_name": "HTMLStyleModel",
      "state": {
       "description_width": "",
       "font_size": null,
       "text_color": null
      }
     },
     "87a7f2f5addb42959af26673f06b6eb4": {
      "model_module": "@jupyter-widgets/base",
      "model_module_version": "2.0.0",
      "model_name": "LayoutModel",
      "state": {}
     },
     "889f437c081447d7a178c9b92e539535": {
      "model_module": "@jupyter-widgets/base",
      "model_module_version": "2.0.0",
      "model_name": "LayoutModel",
      "state": {}
     },
     "88e01c95290e482ca91a6802e402066b": {
      "model_module": "@jupyter-widgets/controls",
      "model_module_version": "2.0.0",
      "model_name": "FloatProgressModel",
      "state": {
       "bar_style": "success",
       "layout": "IPY_MODEL_8a1bb2d1a7c746e7bddad08e42750abb",
       "max": 10,
       "style": "IPY_MODEL_7d96b8a443b549fca52a83315796eb28",
       "value": 10
      }
     },
     "89219c167c7942268b7a05102d054dd2": {
      "model_module": "@jupyter-widgets/controls",
      "model_module_version": "2.0.0",
      "model_name": "FloatProgressModel",
      "state": {
       "bar_style": "success",
       "layout": "IPY_MODEL_68b74a243a77452fb7a5f4d7ded0bc28",
       "max": 21,
       "style": "IPY_MODEL_9694a3f6c5794728be241eae30588c73",
       "value": 21
      }
     },
     "89396f88411a4bdd8c45054ee4b4fee3": {
      "model_module": "@jupyter-widgets/base",
      "model_module_version": "2.0.0",
      "model_name": "LayoutModel",
      "state": {}
     },
     "89731be099374d9898ab108ec1a3ee01": {
      "model_module": "@jupyter-widgets/controls",
      "model_module_version": "2.0.0",
      "model_name": "HTMLStyleModel",
      "state": {
       "description_width": "",
       "font_size": null,
       "text_color": null
      }
     },
     "8980e02e544b4024a3de484a68afb3a3": {
      "model_module": "@jupyter-widgets/base",
      "model_module_version": "2.0.0",
      "model_name": "LayoutModel",
      "state": {}
     },
     "89aaf58c0e3b4179aa3d9a30eb836d0b": {
      "model_module": "@jupyter-widgets/controls",
      "model_module_version": "2.0.0",
      "model_name": "ProgressStyleModel",
      "state": {
       "description_width": ""
      }
     },
     "89d5b91da65d4018b19fb4deff4f026b": {
      "model_module": "@jupyter-widgets/base",
      "model_module_version": "2.0.0",
      "model_name": "LayoutModel",
      "state": {}
     },
     "89edbfec4c904bc3933ea2d06e0f0844": {
      "model_module": "@jupyter-widgets/controls",
      "model_module_version": "2.0.0",
      "model_name": "HTMLModel",
      "state": {
       "layout": "IPY_MODEL_9d48871f6c674ff5820a7ec10a850fa6",
       "style": "IPY_MODEL_8ac61959230d46089f5879b8b9a78324",
       "value": " 10/10 [00:14&lt;00:00,  1.46s/it]"
      }
     },
     "8a1bb2d1a7c746e7bddad08e42750abb": {
      "model_module": "@jupyter-widgets/base",
      "model_module_version": "2.0.0",
      "model_name": "LayoutModel",
      "state": {}
     },
     "8a21733c21df4abea89ea534c7792329": {
      "model_module": "@jupyter-widgets/controls",
      "model_module_version": "2.0.0",
      "model_name": "HTMLStyleModel",
      "state": {
       "description_width": "",
       "font_size": null,
       "text_color": null
      }
     },
     "8a33bf6d414d470195a511d1840662f9": {
      "model_module": "@jupyter-widgets/controls",
      "model_module_version": "2.0.0",
      "model_name": "HTMLStyleModel",
      "state": {
       "description_width": "",
       "font_size": null,
       "text_color": null
      }
     },
     "8a4807d14e1343a2a7ee0f0a235c0a63": {
      "model_module": "@jupyter-widgets/controls",
      "model_module_version": "2.0.0",
      "model_name": "HTMLStyleModel",
      "state": {
       "description_width": "",
       "font_size": null,
       "text_color": null
      }
     },
     "8a56327f7c04434a9d7aa43b3ab74241": {
      "model_module": "@jupyter-widgets/controls",
      "model_module_version": "2.0.0",
      "model_name": "HTMLStyleModel",
      "state": {
       "description_width": "",
       "font_size": null,
       "text_color": null
      }
     },
     "8ac61959230d46089f5879b8b9a78324": {
      "model_module": "@jupyter-widgets/controls",
      "model_module_version": "2.0.0",
      "model_name": "HTMLStyleModel",
      "state": {
       "description_width": "",
       "font_size": null,
       "text_color": null
      }
     },
     "8b04c5c74cd44e88889c536c6ac85244": {
      "model_module": "@jupyter-widgets/base",
      "model_module_version": "2.0.0",
      "model_name": "LayoutModel",
      "state": {}
     },
     "8b097c1d57d54d308e9f6985436622da": {
      "model_module": "@jupyter-widgets/controls",
      "model_module_version": "2.0.0",
      "model_name": "HTMLStyleModel",
      "state": {
       "description_width": "",
       "font_size": null,
       "text_color": null
      }
     },
     "8b4c9a479f1543769576ad7a2259f668": {
      "model_module": "@jupyter-widgets/base",
      "model_module_version": "2.0.0",
      "model_name": "LayoutModel",
      "state": {}
     },
     "8b624ca190e94837a432ad446ec932e6": {
      "model_module": "@jupyter-widgets/controls",
      "model_module_version": "2.0.0",
      "model_name": "HTMLStyleModel",
      "state": {
       "description_width": "",
       "font_size": null,
       "text_color": null
      }
     },
     "8b75304d63d8477cb1deee00762d06bf": {
      "model_module": "@jupyter-widgets/base",
      "model_module_version": "2.0.0",
      "model_name": "LayoutModel",
      "state": {}
     },
     "8b970ac865d443a7ae46c0eac3cc4400": {
      "model_module": "@jupyter-widgets/controls",
      "model_module_version": "2.0.0",
      "model_name": "FloatProgressModel",
      "state": {
       "bar_style": "success",
       "layout": "IPY_MODEL_a8d8a6d1292c41059b2d0e3bf2a67752",
       "max": 10,
       "style": "IPY_MODEL_07b94d61d9d44333857a7c4871e8c139",
       "value": 10
      }
     },
     "8c1c9df07fe1410b804342b5781df052": {
      "model_module": "@jupyter-widgets/base",
      "model_module_version": "2.0.0",
      "model_name": "LayoutModel",
      "state": {}
     },
     "8c207603318642539e55619791976636": {
      "model_module": "@jupyter-widgets/controls",
      "model_module_version": "2.0.0",
      "model_name": "FloatProgressModel",
      "state": {
       "bar_style": "success",
       "layout": "IPY_MODEL_844c5a1a8e674db1a592f187225d6003",
       "max": 10,
       "style": "IPY_MODEL_1d018b937a464d7d89afe0dac306c425",
       "value": 10
      }
     },
     "8ce478cd60084e87839b6486b8a8eae7": {
      "model_module": "@jupyter-widgets/controls",
      "model_module_version": "2.0.0",
      "model_name": "HTMLStyleModel",
      "state": {
       "description_width": "",
       "font_size": null,
       "text_color": null
      }
     },
     "8cf23dab0aa842619c132c31fef83e79": {
      "model_module": "@jupyter-widgets/controls",
      "model_module_version": "2.0.0",
      "model_name": "HTMLStyleModel",
      "state": {
       "description_width": "",
       "font_size": null,
       "text_color": null
      }
     },
     "8d0f96058d0c41e5a9536b535ae3ba6a": {
      "model_module": "@jupyter-widgets/controls",
      "model_module_version": "2.0.0",
      "model_name": "HTMLStyleModel",
      "state": {
       "description_width": "",
       "font_size": null,
       "text_color": null
      }
     },
     "8dee9557343543359e0ff97fb9d2956a": {
      "model_module": "@jupyter-widgets/base",
      "model_module_version": "2.0.0",
      "model_name": "LayoutModel",
      "state": {}
     },
     "8e959aba62c046968faec2eba0c17740": {
      "model_module": "@jupyter-widgets/controls",
      "model_module_version": "2.0.0",
      "model_name": "HTMLModel",
      "state": {
       "layout": "IPY_MODEL_20ead5ba9f704c9ab16e587615dc7b43",
       "style": "IPY_MODEL_66bf3cd693ee42ceb2b843a8b04cb519",
       "value": "  0%"
      }
     },
     "8edf0e473d324ad09e9c448891afa045": {
      "model_module": "@jupyter-widgets/controls",
      "model_module_version": "2.0.0",
      "model_name": "HTMLStyleModel",
      "state": {
       "description_width": "",
       "font_size": null,
       "text_color": null
      }
     },
     "8f7532091c774b0c88065c7293f65645": {
      "model_module": "@jupyter-widgets/controls",
      "model_module_version": "2.0.0",
      "model_name": "HTMLStyleModel",
      "state": {
       "description_width": "",
       "font_size": null,
       "text_color": null
      }
     },
     "8fdb5dd18ed047b7905a5b43e6ce6662": {
      "model_module": "@jupyter-widgets/controls",
      "model_module_version": "2.0.0",
      "model_name": "HTMLStyleModel",
      "state": {
       "description_width": "",
       "font_size": null,
       "text_color": null
      }
     },
     "8fff6673ee2b4ded9f8fbcc47a235d0e": {
      "model_module": "@jupyter-widgets/base",
      "model_module_version": "2.0.0",
      "model_name": "LayoutModel",
      "state": {}
     },
     "90176133a4d242f2a04266321793e10a": {
      "model_module": "@jupyter-widgets/controls",
      "model_module_version": "2.0.0",
      "model_name": "HTMLModel",
      "state": {
       "layout": "IPY_MODEL_8dee9557343543359e0ff97fb9d2956a",
       "style": "IPY_MODEL_514c8068dece492da1229ce866f1b58b",
       "value": "100%"
      }
     },
     "90ff59c485524807a047e095e872d55e": {
      "model_module": "@jupyter-widgets/controls",
      "model_module_version": "2.0.0",
      "model_name": "FloatProgressModel",
      "state": {
       "bar_style": "success",
       "layout": "IPY_MODEL_73c6a835d0fa4343b39b505b8138c0a7",
       "max": 10,
       "style": "IPY_MODEL_f27ec0657f534fa3b27acee03e9f4615",
       "value": 10
      }
     },
     "91045c6716ea4883b1c397c8292e7675": {
      "model_module": "@jupyter-widgets/controls",
      "model_module_version": "2.0.0",
      "model_name": "HTMLStyleModel",
      "state": {
       "description_width": "",
       "font_size": null,
       "text_color": null
      }
     },
     "91288b7bb62e4defb94cca4d41d7e44e": {
      "model_module": "@jupyter-widgets/base",
      "model_module_version": "2.0.0",
      "model_name": "LayoutModel",
      "state": {}
     },
     "914dbc5617cb4cc9a1d3d28254567fea": {
      "model_module": "@jupyter-widgets/controls",
      "model_module_version": "2.0.0",
      "model_name": "FloatProgressModel",
      "state": {
       "bar_style": "success",
       "layout": "IPY_MODEL_8b4c9a479f1543769576ad7a2259f668",
       "max": 10,
       "style": "IPY_MODEL_171e2b4d709e4d009e82a3f4756b9dff",
       "value": 10
      }
     },
     "91807d36dba64475bc18ff9f5cb27310": {
      "model_module": "@jupyter-widgets/controls",
      "model_module_version": "2.0.0",
      "model_name": "ProgressStyleModel",
      "state": {
       "description_width": ""
      }
     },
     "91b2bdc433b24976a7ecf3ac7f74ff3f": {
      "model_module": "@jupyter-widgets/controls",
      "model_module_version": "2.0.0",
      "model_name": "ProgressStyleModel",
      "state": {
       "description_width": ""
      }
     },
     "91f84d4ecfc44f48854ffd7916c6aae9": {
      "model_module": "@jupyter-widgets/controls",
      "model_module_version": "2.0.0",
      "model_name": "FloatProgressModel",
      "state": {
       "bar_style": "success",
       "layout": "IPY_MODEL_99493131827d4e28b777253433a9b3a0",
       "max": 10,
       "style": "IPY_MODEL_f5d09adf91014ae4a35fee3a722e1e1a",
       "value": 10
      }
     },
     "920aaf820d47488a8b62aecb2bce683b": {
      "model_module": "@jupyter-widgets/controls",
      "model_module_version": "2.0.0",
      "model_name": "HTMLStyleModel",
      "state": {
       "description_width": "",
       "font_size": null,
       "text_color": null
      }
     },
     "920e464a6039464e98acc6944e12fe73": {
      "model_module": "@jupyter-widgets/base",
      "model_module_version": "2.0.0",
      "model_name": "LayoutModel",
      "state": {}
     },
     "92c452c6afaa4cd480ae39525f011946": {
      "model_module": "@jupyter-widgets/controls",
      "model_module_version": "2.0.0",
      "model_name": "ProgressStyleModel",
      "state": {
       "description_width": ""
      }
     },
     "92e3a3344a4e46d99c0a0e8eef230819": {
      "model_module": "@jupyter-widgets/base",
      "model_module_version": "2.0.0",
      "model_name": "LayoutModel",
      "state": {}
     },
     "93414480c2cb423986eeacdeda866eb4": {
      "model_module": "@jupyter-widgets/base",
      "model_module_version": "2.0.0",
      "model_name": "LayoutModel",
      "state": {}
     },
     "93bc97ce091a4c058752855add5f05b2": {
      "model_module": "@jupyter-widgets/controls",
      "model_module_version": "2.0.0",
      "model_name": "FloatProgressModel",
      "state": {
       "bar_style": "success",
       "layout": "IPY_MODEL_275799f3fd7d43c89b64f36c6825ca98",
       "max": 10,
       "style": "IPY_MODEL_0129c015b7c94471901463e75a79752e",
       "value": 10
      }
     },
     "9416d5c7ee0f412e8f41773f390e630e": {
      "model_module": "@jupyter-widgets/controls",
      "model_module_version": "2.0.0",
      "model_name": "HBoxModel",
      "state": {
       "children": [
        "IPY_MODEL_c6a20e775c10409f869823820667b973",
        "IPY_MODEL_851d907b14e14589a24b9a050f8a595f",
        "IPY_MODEL_009dfe5eed3540e8b1aed85e907d86be"
       ],
       "layout": "IPY_MODEL_fa5008f6bbeb4636a42750b3342bf680"
      }
     },
     "948875f1d27b45e18ed57afae4136037": {
      "model_module": "@jupyter-widgets/controls",
      "model_module_version": "2.0.0",
      "model_name": "HTMLStyleModel",
      "state": {
       "description_width": "",
       "font_size": null,
       "text_color": null
      }
     },
     "94bbe11cd8284f8f856c533e35b36825": {
      "model_module": "@jupyter-widgets/base",
      "model_module_version": "2.0.0",
      "model_name": "LayoutModel",
      "state": {}
     },
     "94cee660e9e3441692e65c12b3e69798": {
      "model_module": "@jupyter-widgets/controls",
      "model_module_version": "2.0.0",
      "model_name": "HTMLStyleModel",
      "state": {
       "description_width": "",
       "font_size": null,
       "text_color": null
      }
     },
     "94d5803514c14e0fa36836b754fa1352": {
      "model_module": "@jupyter-widgets/base",
      "model_module_version": "2.0.0",
      "model_name": "LayoutModel",
      "state": {}
     },
     "95047aeaefc2499e9dbcb2e2f414c91c": {
      "model_module": "@jupyter-widgets/controls",
      "model_module_version": "2.0.0",
      "model_name": "HTMLStyleModel",
      "state": {
       "description_width": "",
       "font_size": null,
       "text_color": null
      }
     },
     "951178e07ff54f3a8f745ae535c0549b": {
      "model_module": "@jupyter-widgets/base",
      "model_module_version": "2.0.0",
      "model_name": "LayoutModel",
      "state": {}
     },
     "95bb6028dddd4c98abf5ffcf896b4cca": {
      "model_module": "@jupyter-widgets/controls",
      "model_module_version": "2.0.0",
      "model_name": "FloatProgressModel",
      "state": {
       "bar_style": "success",
       "layout": "IPY_MODEL_d1a8740831d34280a317261428040268",
       "max": 10,
       "style": "IPY_MODEL_86893c17fc3b419f84b17119f18ae2fe",
       "value": 10
      }
     },
     "9641641df4e74aa1bbe73df34e392e2e": {
      "model_module": "@jupyter-widgets/controls",
      "model_module_version": "2.0.0",
      "model_name": "HBoxModel",
      "state": {
       "children": [
        "IPY_MODEL_6172c851309342f3a4327ee328562158",
        "IPY_MODEL_f67a8266884a4ab3a86b0128143e1d0c",
        "IPY_MODEL_7915093bf50e4997a4483956452783d2"
       ],
       "layout": "IPY_MODEL_ace9a22155b34f5bbb019f001a07a323"
      }
     },
     "964961cb948e47daa45b069684fb8d85": {
      "model_module": "@jupyter-widgets/controls",
      "model_module_version": "2.0.0",
      "model_name": "HTMLModel",
      "state": {
       "layout": "IPY_MODEL_2d468d3b76ae40acb0164476b2f897e7",
       "style": "IPY_MODEL_79321a12a8ee421da7f8b9704ad7fe84",
       "value": " 10/10 [00:22&lt;00:00,  2.22s/it]"
      }
     },
     "966efd183cb3425fb8c3fda44ce6c5f5": {
      "model_module": "@jupyter-widgets/controls",
      "model_module_version": "2.0.0",
      "model_name": "HTMLStyleModel",
      "state": {
       "description_width": "",
       "font_size": null,
       "text_color": null
      }
     },
     "9676d83418314bfc89e5a5215f40dac2": {
      "model_module": "@jupyter-widgets/controls",
      "model_module_version": "2.0.0",
      "model_name": "ProgressStyleModel",
      "state": {
       "description_width": ""
      }
     },
     "9694a3f6c5794728be241eae30588c73": {
      "model_module": "@jupyter-widgets/controls",
      "model_module_version": "2.0.0",
      "model_name": "ProgressStyleModel",
      "state": {
       "description_width": ""
      }
     },
     "96bfa9091b984c9ea4a471a7c5c8739d": {
      "model_module": "@jupyter-widgets/controls",
      "model_module_version": "2.0.0",
      "model_name": "HTMLModel",
      "state": {
       "layout": "IPY_MODEL_45545a9517214ff699f430b2685536da",
       "style": "IPY_MODEL_daa0b6ac12fc445092cbd99c28272e15",
       "value": "100%"
      }
     },
     "9769761ed6a84c21884aeb5eecb80c1e": {
      "model_module": "@jupyter-widgets/controls",
      "model_module_version": "2.0.0",
      "model_name": "HTMLStyleModel",
      "state": {
       "description_width": "",
       "font_size": null,
       "text_color": null
      }
     },
     "976b6d96c7e9499ab16c406565d91efe": {
      "model_module": "@jupyter-widgets/base",
      "model_module_version": "2.0.0",
      "model_name": "LayoutModel",
      "state": {}
     },
     "9783dbcf34ad4cb881f04d525b4d62a5": {
      "model_module": "@jupyter-widgets/controls",
      "model_module_version": "2.0.0",
      "model_name": "HBoxModel",
      "state": {
       "children": [
        "IPY_MODEL_0d01813abf2940189250162a15c8153a",
        "IPY_MODEL_f84ad9d0e30c405eb454cadd5366e62b",
        "IPY_MODEL_4e47d12b5e6f4bc3996a14d976527641"
       ],
       "layout": "IPY_MODEL_6718c2c1f7834c7b9e1deacb87e09d20"
      }
     },
     "97d04b1ad9de45d6bff4c3f928c0fd1f": {
      "model_module": "@jupyter-widgets/base",
      "model_module_version": "2.0.0",
      "model_name": "LayoutModel",
      "state": {}
     },
     "97f1824e82c742ff8fd534966a9e1b4b": {
      "model_module": "@jupyter-widgets/controls",
      "model_module_version": "2.0.0",
      "model_name": "ProgressStyleModel",
      "state": {
       "description_width": ""
      }
     },
     "98aee9b170e14b25a60d053129e3e8a0": {
      "model_module": "@jupyter-widgets/base",
      "model_module_version": "2.0.0",
      "model_name": "LayoutModel",
      "state": {}
     },
     "99402ee1fca940dfb5ac59bccacca357": {
      "model_module": "@jupyter-widgets/controls",
      "model_module_version": "2.0.0",
      "model_name": "HTMLStyleModel",
      "state": {
       "description_width": "",
       "font_size": null,
       "text_color": null
      }
     },
     "99493131827d4e28b777253433a9b3a0": {
      "model_module": "@jupyter-widgets/base",
      "model_module_version": "2.0.0",
      "model_name": "LayoutModel",
      "state": {}
     },
     "99535b481e074b20b7d133a7e34483e4": {
      "model_module": "@jupyter-widgets/controls",
      "model_module_version": "2.0.0",
      "model_name": "HTMLStyleModel",
      "state": {
       "description_width": "",
       "font_size": null,
       "text_color": null
      }
     },
     "996db469d17e4537b1df4af9e2551eb0": {
      "model_module": "@jupyter-widgets/base",
      "model_module_version": "2.0.0",
      "model_name": "LayoutModel",
      "state": {}
     },
     "997c64dc43334b0482fcfe5b886a1bad": {
      "model_module": "@jupyter-widgets/controls",
      "model_module_version": "2.0.0",
      "model_name": "HBoxModel",
      "state": {
       "children": [
        "IPY_MODEL_a93ed932e8e64bbea426d6b5b39ad417",
        "IPY_MODEL_4772e5f3b935425ca407961982f9d2a2",
        "IPY_MODEL_e2940cd8ebd847bfa319940119fce947"
       ],
       "layout": "IPY_MODEL_2955c7ee285e48149c5eb7e0a68f2f13"
      }
     },
     "9a45b1b380174248898ccf69b24df0c4": {
      "model_module": "@jupyter-widgets/controls",
      "model_module_version": "2.0.0",
      "model_name": "ProgressStyleModel",
      "state": {
       "description_width": ""
      }
     },
     "9a848d5015da4648aa2f4902cd6be641": {
      "model_module": "@jupyter-widgets/base",
      "model_module_version": "2.0.0",
      "model_name": "LayoutModel",
      "state": {}
     },
     "9adc77a671bd4d6f8de485d479f1cf53": {
      "model_module": "@jupyter-widgets/base",
      "model_module_version": "2.0.0",
      "model_name": "LayoutModel",
      "state": {}
     },
     "9afbb0651fce4b7fa567b0aec0f9ed0c": {
      "model_module": "@jupyter-widgets/controls",
      "model_module_version": "2.0.0",
      "model_name": "HTMLStyleModel",
      "state": {
       "description_width": "",
       "font_size": null,
       "text_color": null
      }
     },
     "9affcf7604c94ed3985c040b819d5e41": {
      "model_module": "@jupyter-widgets/base",
      "model_module_version": "2.0.0",
      "model_name": "LayoutModel",
      "state": {}
     },
     "9b37308d9a824f779c8605406b96a80d": {
      "model_module": "@jupyter-widgets/controls",
      "model_module_version": "2.0.0",
      "model_name": "ProgressStyleModel",
      "state": {
       "description_width": ""
      }
     },
     "9b599ba6f91144309efbc69c26e1d3ba": {
      "model_module": "@jupyter-widgets/base",
      "model_module_version": "2.0.0",
      "model_name": "LayoutModel",
      "state": {}
     },
     "9b748a55baa744749d02a26dec100550": {
      "model_module": "@jupyter-widgets/base",
      "model_module_version": "2.0.0",
      "model_name": "LayoutModel",
      "state": {}
     },
     "9baf4bdfbdc141c3aeb8e358cb7f699a": {
      "model_module": "@jupyter-widgets/base",
      "model_module_version": "2.0.0",
      "model_name": "LayoutModel",
      "state": {}
     },
     "9bdf1169864d498eaf03e6cb7f8453de": {
      "model_module": "@jupyter-widgets/base",
      "model_module_version": "2.0.0",
      "model_name": "LayoutModel",
      "state": {}
     },
     "9c2b809ba6b74fe4b671ad8dc3f71a1d": {
      "model_module": "@jupyter-widgets/controls",
      "model_module_version": "2.0.0",
      "model_name": "FloatProgressModel",
      "state": {
       "bar_style": "success",
       "layout": "IPY_MODEL_0d622b1a56544123a3889c6f78442cc8",
       "max": 10,
       "style": "IPY_MODEL_8516313ce58e474ba5c1b4644d71fb9a",
       "value": 10
      }
     },
     "9c666e0b72244c43a1b6c2d0709baf1f": {
      "model_module": "@jupyter-widgets/controls",
      "model_module_version": "2.0.0",
      "model_name": "FloatProgressModel",
      "state": {
       "bar_style": "success",
       "layout": "IPY_MODEL_b3ec134057d249f2be6f10c65822715a",
       "max": 10,
       "style": "IPY_MODEL_7dcab91fbfc34e55818d53073dc08071",
       "value": 10
      }
     },
     "9ca3c1387beb4c6d8c111e688aa49f83": {
      "model_module": "@jupyter-widgets/base",
      "model_module_version": "2.0.0",
      "model_name": "LayoutModel",
      "state": {}
     },
     "9cd44070d40545308f34a6b42c1baadf": {
      "model_module": "@jupyter-widgets/base",
      "model_module_version": "2.0.0",
      "model_name": "LayoutModel",
      "state": {}
     },
     "9cebf9814d00498bab919aafc9b7a2ac": {
      "model_module": "@jupyter-widgets/controls",
      "model_module_version": "2.0.0",
      "model_name": "HTMLModel",
      "state": {
       "layout": "IPY_MODEL_d5c282ef678449b19aa52c72fd7b125a",
       "style": "IPY_MODEL_f5c481b2c8f74f45a14dd9bc76ae51e7",
       "value": " 10/10 [00:15&lt;00:00,  1.55s/it]"
      }
     },
     "9cf0a3a197844eeea47116eaa5334390": {
      "model_module": "@jupyter-widgets/base",
      "model_module_version": "2.0.0",
      "model_name": "LayoutModel",
      "state": {}
     },
     "9d48871f6c674ff5820a7ec10a850fa6": {
      "model_module": "@jupyter-widgets/base",
      "model_module_version": "2.0.0",
      "model_name": "LayoutModel",
      "state": {}
     },
     "9d5a59ecd763464e83ebf3fcc8f2a5d3": {
      "model_module": "@jupyter-widgets/controls",
      "model_module_version": "2.0.0",
      "model_name": "HBoxModel",
      "state": {
       "children": [
        "IPY_MODEL_e0e7f8d571ea4813a8b37781df38963e",
        "IPY_MODEL_eb40a94bea5146df9c1f8a2bee59072d",
        "IPY_MODEL_7f57359728de40f28acfae603c4b8d2a"
       ],
       "layout": "IPY_MODEL_51ff3a0def164d5d9808ef4d901b93c3"
      }
     },
     "9d6ddf31824d4ef784815f4ad799e64a": {
      "model_module": "@jupyter-widgets/base",
      "model_module_version": "2.0.0",
      "model_name": "LayoutModel",
      "state": {}
     },
     "9d6e63688c8a4e99a55d9c100ffb475f": {
      "model_module": "@jupyter-widgets/base",
      "model_module_version": "2.0.0",
      "model_name": "LayoutModel",
      "state": {}
     },
     "9d8a265019684c91af3c4d1470abc469": {
      "model_module": "@jupyter-widgets/controls",
      "model_module_version": "2.0.0",
      "model_name": "HTMLModel",
      "state": {
       "layout": "IPY_MODEL_889f437c081447d7a178c9b92e539535",
       "style": "IPY_MODEL_1aeaf5a6f6ee4ecfa757848a1c0ab77c",
       "value": "100%"
      }
     },
     "9db592f0579344f0aa8c2eb4b90e207a": {
      "model_module": "@jupyter-widgets/controls",
      "model_module_version": "2.0.0",
      "model_name": "FloatProgressModel",
      "state": {
       "bar_style": "success",
       "layout": "IPY_MODEL_e13e1b6cc05b435a9bd393480b583f49",
       "max": 10,
       "style": "IPY_MODEL_59cf08dff36e40e49fd6ffab8454a380",
       "value": 10
      }
     },
     "9ddca5dddd4f4b32b64f4444567ea3b2": {
      "model_module": "@jupyter-widgets/base",
      "model_module_version": "2.0.0",
      "model_name": "LayoutModel",
      "state": {}
     },
     "9deed48205524ca9894935260222617d": {
      "model_module": "@jupyter-widgets/controls",
      "model_module_version": "2.0.0",
      "model_name": "HTMLStyleModel",
      "state": {
       "description_width": "",
       "font_size": null,
       "text_color": null
      }
     },
     "9e120a8d4ddb482c95bf5456f87afab5": {
      "model_module": "@jupyter-widgets/controls",
      "model_module_version": "2.0.0",
      "model_name": "HTMLModel",
      "state": {
       "layout": "IPY_MODEL_551e84ef0488449ab067adc4569cc621",
       "style": "IPY_MODEL_e48721d511574bfe850ee7ea164d69d8",
       "value": " 10/10 [00:14&lt;00:00,  1.44s/it]"
      }
     },
     "9e259c93d9064568bbab826047fdf734": {
      "model_module": "@jupyter-widgets/controls",
      "model_module_version": "2.0.0",
      "model_name": "HTMLStyleModel",
      "state": {
       "description_width": "",
       "font_size": null,
       "text_color": null
      }
     },
     "9e4f95c7635548dfbf2e93b24960eb92": {
      "model_module": "@jupyter-widgets/controls",
      "model_module_version": "2.0.0",
      "model_name": "HBoxModel",
      "state": {
       "children": [
        "IPY_MODEL_25e10f8b3f0f4b8ba8fda5c37febcd89",
        "IPY_MODEL_f518829db5a8497da0da5957a75c4b91",
        "IPY_MODEL_429025807f8748ea8b713083c37b85b7"
       ],
       "layout": "IPY_MODEL_722385133ee642e48ba45e7d24c8ebfc"
      }
     },
     "9eac6c3109a24221b4230a0c6e5baa67": {
      "model_module": "@jupyter-widgets/base",
      "model_module_version": "2.0.0",
      "model_name": "LayoutModel",
      "state": {}
     },
     "9eb8a023ba1a44f6a11f8128ffa585cb": {
      "model_module": "@jupyter-widgets/controls",
      "model_module_version": "2.0.0",
      "model_name": "ProgressStyleModel",
      "state": {
       "description_width": ""
      }
     },
     "9f901536919741cf9c4030e8fdab1254": {
      "model_module": "@jupyter-widgets/base",
      "model_module_version": "2.0.0",
      "model_name": "LayoutModel",
      "state": {}
     },
     "9fc78395b7f5487a988a20d1bff11a96": {
      "model_module": "@jupyter-widgets/controls",
      "model_module_version": "2.0.0",
      "model_name": "ProgressStyleModel",
      "state": {
       "description_width": ""
      }
     },
     "a0063b8545fc4e7c8f843a5c7f35a851": {
      "model_module": "@jupyter-widgets/controls",
      "model_module_version": "2.0.0",
      "model_name": "HBoxModel",
      "state": {
       "children": [
        "IPY_MODEL_38da9c0810e14bae88cbeec247e6184b",
        "IPY_MODEL_7dd38b3db8904cf681b52d95f35441b2",
        "IPY_MODEL_6004afafa16443a086080e38d7f554f2"
       ],
       "layout": "IPY_MODEL_540a507d067442668d46db68bb61bdd8"
      }
     },
     "a0cd359b602e4367bd22776e3e184d6b": {
      "model_module": "@jupyter-widgets/base",
      "model_module_version": "2.0.0",
      "model_name": "LayoutModel",
      "state": {}
     },
     "a0f5d7a117014d318a1dd8d3ae59261e": {
      "model_module": "@jupyter-widgets/controls",
      "model_module_version": "2.0.0",
      "model_name": "HBoxModel",
      "state": {
       "children": [
        "IPY_MODEL_3cc7b54be4884cf0acab5febffbb17d8",
        "IPY_MODEL_ab44977c820b49eea090175f7fbddeae",
        "IPY_MODEL_56b1768cb8204bb39e51d492b5cb6081"
       ],
       "layout": "IPY_MODEL_c00677e8bec947e9ba01fcce1f3fd974"
      }
     },
     "a1003eeb11f34ccabb0ab553561db2cc": {
      "model_module": "@jupyter-widgets/controls",
      "model_module_version": "2.0.0",
      "model_name": "HTMLModel",
      "state": {
       "layout": "IPY_MODEL_baf99f0ea63f4c6e808de8fe39e5633f",
       "style": "IPY_MODEL_41cb7300fa50462698726fcc2cac2be8",
       "value": " 10/10 [00:15&lt;00:00,  1.49s/it]"
      }
     },
     "a1209b34a2a041e08266ac6bdaf1f342": {
      "model_module": "@jupyter-widgets/controls",
      "model_module_version": "2.0.0",
      "model_name": "HTMLStyleModel",
      "state": {
       "description_width": "",
       "font_size": null,
       "text_color": null
      }
     },
     "a14c4d63689d4326a75379a8486fc6e2": {
      "model_module": "@jupyter-widgets/controls",
      "model_module_version": "2.0.0",
      "model_name": "HTMLModel",
      "state": {
       "layout": "IPY_MODEL_c638c1633d494ee089733ef14272a6df",
       "style": "IPY_MODEL_aff23ae6fdd64d0ea3f14ac279579b22",
       "value": " 10/10 [00:15&lt;00:00,  1.44s/it]"
      }
     },
     "a18691639a2045b49297b39f885b36aa": {
      "model_module": "@jupyter-widgets/controls",
      "model_module_version": "2.0.0",
      "model_name": "HTMLStyleModel",
      "state": {
       "description_width": "",
       "font_size": null,
       "text_color": null
      }
     },
     "a1ce18ac813c4343bd2f5105de8a0820": {
      "model_module": "@jupyter-widgets/controls",
      "model_module_version": "2.0.0",
      "model_name": "HTMLStyleModel",
      "state": {
       "description_width": "",
       "font_size": null,
       "text_color": null
      }
     },
     "a1e4f7b81a814814a8c26719ed566c6a": {
      "model_module": "@jupyter-widgets/base",
      "model_module_version": "2.0.0",
      "model_name": "LayoutModel",
      "state": {}
     },
     "a1f63b801102433e8eb825e8d58d28cb": {
      "model_module": "@jupyter-widgets/base",
      "model_module_version": "2.0.0",
      "model_name": "LayoutModel",
      "state": {}
     },
     "a24420b89c3f4393b66b95897177d502": {
      "model_module": "@jupyter-widgets/base",
      "model_module_version": "2.0.0",
      "model_name": "LayoutModel",
      "state": {}
     },
     "a27e314d8727485daba5a6cbbb438707": {
      "model_module": "@jupyter-widgets/base",
      "model_module_version": "2.0.0",
      "model_name": "LayoutModel",
      "state": {}
     },
     "a287ba042419478c8d0f9d9187ea3e31": {
      "model_module": "@jupyter-widgets/controls",
      "model_module_version": "2.0.0",
      "model_name": "HBoxModel",
      "state": {
       "children": [
        "IPY_MODEL_3c4087b3c9cc46758d65da8c7361dceb",
        "IPY_MODEL_fc140e25e55f4f859f91316fced1031f",
        "IPY_MODEL_e39e2ff8c6af4f69bcfcdf1c33774dda"
       ],
       "layout": "IPY_MODEL_7cb9d90ed3d544cb8fa8cfdd95fc2f1f"
      }
     },
     "a287da5a1bfe4aa18a386d6c3e5ae797": {
      "model_module": "@jupyter-widgets/controls",
      "model_module_version": "2.0.0",
      "model_name": "FloatProgressModel",
      "state": {
       "bar_style": "success",
       "layout": "IPY_MODEL_55550f181d804b93859481a2cc146ddf",
       "max": 10,
       "style": "IPY_MODEL_f433fb9b1f4c4355afc3247b4e10fe93",
       "value": 10
      }
     },
     "a3212b7e9a174feeb06cd0e7aa46e866": {
      "model_module": "@jupyter-widgets/controls",
      "model_module_version": "2.0.0",
      "model_name": "HTMLModel",
      "state": {
       "layout": "IPY_MODEL_e800b2594a8b47e89af313a9edff9336",
       "style": "IPY_MODEL_9e259c93d9064568bbab826047fdf734",
       "value": " 10/10 [00:15&lt;00:00,  1.47s/it]"
      }
     },
     "a3b0aabaf95d45b3b557fc0d1b61ff8a": {
      "model_module": "@jupyter-widgets/base",
      "model_module_version": "2.0.0",
      "model_name": "LayoutModel",
      "state": {}
     },
     "a3d53c5c1b9240a08b6ec5b026e3bb72": {
      "model_module": "@jupyter-widgets/controls",
      "model_module_version": "2.0.0",
      "model_name": "HBoxModel",
      "state": {
       "children": [
        "IPY_MODEL_3dfe7c0656e942b7b04b110dba169f1a",
        "IPY_MODEL_bcb04a2471d04947a2ef383ac3b4fab6",
        "IPY_MODEL_429f9f534b5a4b2096db587ec53fb5fa"
       ],
       "layout": "IPY_MODEL_08d61abafedc4b4a928f499340621060"
      }
     },
     "a3e8d6f69b0544c2a4050494fc4fa6fd": {
      "model_module": "@jupyter-widgets/controls",
      "model_module_version": "2.0.0",
      "model_name": "HTMLStyleModel",
      "state": {
       "description_width": "",
       "font_size": null,
       "text_color": null
      }
     },
     "a42eae99494c454fa28fe1a6ceba4c05": {
      "model_module": "@jupyter-widgets/controls",
      "model_module_version": "2.0.0",
      "model_name": "HTMLStyleModel",
      "state": {
       "description_width": "",
       "font_size": null,
       "text_color": null
      }
     },
     "a467bcfbc50645b6ade880645b93f268": {
      "model_module": "@jupyter-widgets/base",
      "model_module_version": "2.0.0",
      "model_name": "LayoutModel",
      "state": {}
     },
     "a4a18cf917af44dbb0937f02735847c3": {
      "model_module": "@jupyter-widgets/base",
      "model_module_version": "2.0.0",
      "model_name": "LayoutModel",
      "state": {}
     },
     "a54e80f46f1440ec9e10af00c8e51178": {
      "model_module": "@jupyter-widgets/controls",
      "model_module_version": "2.0.0",
      "model_name": "HTMLModel",
      "state": {
       "layout": "IPY_MODEL_c27909dc1f5341758cdc91c9b154a0e1",
       "style": "IPY_MODEL_a18691639a2045b49297b39f885b36aa",
       "value": " 10/10 [00:15&lt;00:00,  1.49s/it]"
      }
     },
     "a5b958697a564adcb31b2c464ddb8cfa": {
      "model_module": "@jupyter-widgets/base",
      "model_module_version": "2.0.0",
      "model_name": "LayoutModel",
      "state": {}
     },
     "a60d32d221e94c279a2797ae8623f7db": {
      "model_module": "@jupyter-widgets/controls",
      "model_module_version": "2.0.0",
      "model_name": "HTMLStyleModel",
      "state": {
       "description_width": "",
       "font_size": null,
       "text_color": null
      }
     },
     "a631e4a836e6421aaa893a3cae807df3": {
      "model_module": "@jupyter-widgets/controls",
      "model_module_version": "2.0.0",
      "model_name": "HTMLStyleModel",
      "state": {
       "description_width": "",
       "font_size": null,
       "text_color": null
      }
     },
     "a669f7564b9849c696e672d0c4cbcc6a": {
      "model_module": "@jupyter-widgets/base",
      "model_module_version": "2.0.0",
      "model_name": "LayoutModel",
      "state": {}
     },
     "a6afdf33d916491388c161a3df19cfc8": {
      "model_module": "@jupyter-widgets/controls",
      "model_module_version": "2.0.0",
      "model_name": "HTMLModel",
      "state": {
       "layout": "IPY_MODEL_be748360b70b43048b41ec356353b11d",
       "style": "IPY_MODEL_61001a70dc0f4b9fa81e12a504913457",
       "value": " 10/10 [00:14&lt;00:00,  1.44s/it]"
      }
     },
     "a799c05f7c614d37863bd666db34398b": {
      "model_module": "@jupyter-widgets/controls",
      "model_module_version": "2.0.0",
      "model_name": "FloatProgressModel",
      "state": {
       "bar_style": "danger",
       "layout": "IPY_MODEL_f6c458f82c8148bb88e84ed3f8f450a9",
       "max": 21,
       "style": "IPY_MODEL_252c35ac2e494373869e9833942b0213"
      }
     },
     "a89993ca71034bc59a7bf5a699fcc6f8": {
      "model_module": "@jupyter-widgets/controls",
      "model_module_version": "2.0.0",
      "model_name": "HTMLStyleModel",
      "state": {
       "description_width": "",
       "font_size": null,
       "text_color": null
      }
     },
     "a8ac2036adf7482980d338cb60808d07": {
      "model_module": "@jupyter-widgets/base",
      "model_module_version": "2.0.0",
      "model_name": "LayoutModel",
      "state": {}
     },
     "a8d8a6d1292c41059b2d0e3bf2a67752": {
      "model_module": "@jupyter-widgets/base",
      "model_module_version": "2.0.0",
      "model_name": "LayoutModel",
      "state": {}
     },
     "a8e531ff70d64183bb12283f12f9b46b": {
      "model_module": "@jupyter-widgets/base",
      "model_module_version": "2.0.0",
      "model_name": "LayoutModel",
      "state": {}
     },
     "a93ed932e8e64bbea426d6b5b39ad417": {
      "model_module": "@jupyter-widgets/controls",
      "model_module_version": "2.0.0",
      "model_name": "HTMLModel",
      "state": {
       "layout": "IPY_MODEL_cf7548fee53744f7b9a21df3f011d3a4",
       "style": "IPY_MODEL_b72ccda990d64311bfc7ad5c445980f3",
       "value": "  0%"
      }
     },
     "a95eb6c65e1e4ec0a397f7c49e24ca85": {
      "model_module": "@jupyter-widgets/controls",
      "model_module_version": "2.0.0",
      "model_name": "HTMLModel",
      "state": {
       "layout": "IPY_MODEL_ba12033dc7614740a52e1166931884fc",
       "style": "IPY_MODEL_b05948df9f2c42a589030a950595ba9d",
       "value": "100%"
      }
     },
     "aa6ae8b0a64146aca9ba72d762df2149": {
      "model_module": "@jupyter-widgets/base",
      "model_module_version": "2.0.0",
      "model_name": "LayoutModel",
      "state": {}
     },
     "aa724e5cd6eb4699b0dd5b9ea2b6e318": {
      "model_module": "@jupyter-widgets/base",
      "model_module_version": "2.0.0",
      "model_name": "LayoutModel",
      "state": {}
     },
     "aa8cf7c0d7ca4de3a709cc7d9bdc8915": {
      "model_module": "@jupyter-widgets/controls",
      "model_module_version": "2.0.0",
      "model_name": "HTMLModel",
      "state": {
       "layout": "IPY_MODEL_10995255af7a48c98f72af4dd922693d",
       "style": "IPY_MODEL_bbf1392e27af4dfca64a4f0411603557",
       "value": "100%"
      }
     },
     "aaf0c5e2a22544e4b407e2060ea1dc6d": {
      "model_module": "@jupyter-widgets/controls",
      "model_module_version": "2.0.0",
      "model_name": "FloatProgressModel",
      "state": {
       "bar_style": "success",
       "layout": "IPY_MODEL_13626e97fa4b42ec92cf1ca45e89a0b7",
       "max": 10,
       "style": "IPY_MODEL_802d7af8808a4573a190e2ecfdb8b4c2",
       "value": 10
      }
     },
     "aafd0ddd31004dc5ad747e05d5dcf083": {
      "model_module": "@jupyter-widgets/controls",
      "model_module_version": "2.0.0",
      "model_name": "ProgressStyleModel",
      "state": {
       "description_width": ""
      }
     },
     "ab44977c820b49eea090175f7fbddeae": {
      "model_module": "@jupyter-widgets/controls",
      "model_module_version": "2.0.0",
      "model_name": "FloatProgressModel",
      "state": {
       "bar_style": "success",
       "layout": "IPY_MODEL_1e955b4fd9014eb3ace04e0b32677152",
       "max": 10,
       "style": "IPY_MODEL_377ba64d8c364d5c85824514eff4164e",
       "value": 10
      }
     },
     "ab4622a953a742b59bddc520c64282f0": {
      "model_module": "@jupyter-widgets/controls",
      "model_module_version": "2.0.0",
      "model_name": "HTMLModel",
      "state": {
       "layout": "IPY_MODEL_d568450492e64bafa9f2ee59c29c648c",
       "style": "IPY_MODEL_11d656425b9b46a0b68a6bfc725b47f3",
       "value": "100%"
      }
     },
     "ab85c541635d417f9359e652f5a8a4fd": {
      "model_module": "@jupyter-widgets/controls",
      "model_module_version": "2.0.0",
      "model_name": "FloatProgressModel",
      "state": {
       "bar_style": "success",
       "layout": "IPY_MODEL_14524f9ff20e43d1b97eaf21a7cfefdc",
       "max": 10,
       "style": "IPY_MODEL_4734b45d67c04db0824f21c017a8e08c",
       "value": 10
      }
     },
     "abb5d3b2df7649bd8c5bb8d367081e93": {
      "model_module": "@jupyter-widgets/base",
      "model_module_version": "2.0.0",
      "model_name": "LayoutModel",
      "state": {}
     },
     "abcd2212e2af464e9d3f65ea59659bf5": {
      "model_module": "@jupyter-widgets/controls",
      "model_module_version": "2.0.0",
      "model_name": "HBoxModel",
      "state": {
       "children": [
        "IPY_MODEL_be18c46f0e5345b29a82446aed210a08",
        "IPY_MODEL_280fa01df3e14362953ebd9884d76ea4",
        "IPY_MODEL_48068a5bb21b4a83906b0a231db31e4c"
       ],
       "layout": "IPY_MODEL_3d068afeb14f4f8f959623a47acb9897"
      }
     },
     "abebf4d26e6d448da32f15b59acb8db6": {
      "model_module": "@jupyter-widgets/controls",
      "model_module_version": "2.0.0",
      "model_name": "HTMLStyleModel",
      "state": {
       "description_width": "",
       "font_size": null,
       "text_color": null
      }
     },
     "ac016fc712ac4d51995e052ebc78b000": {
      "model_module": "@jupyter-widgets/base",
      "model_module_version": "2.0.0",
      "model_name": "LayoutModel",
      "state": {}
     },
     "ac8b149e45164c1ab65de201e46b2f37": {
      "model_module": "@jupyter-widgets/base",
      "model_module_version": "2.0.0",
      "model_name": "LayoutModel",
      "state": {}
     },
     "aca6a45ca42b46cb899a33dc84464fa3": {
      "model_module": "@jupyter-widgets/controls",
      "model_module_version": "2.0.0",
      "model_name": "HBoxModel",
      "state": {
       "children": [
        "IPY_MODEL_c9a7f7fee6ff41759a87302e0fad8d43",
        "IPY_MODEL_89219c167c7942268b7a05102d054dd2",
        "IPY_MODEL_2105c04bae074e28ac7570eb3e09fcef"
       ],
       "layout": "IPY_MODEL_32738354452944e7a09cf8e7f94c9901"
      }
     },
     "acc76eeb037c457a9f603fb853f5f6f4": {
      "model_module": "@jupyter-widgets/controls",
      "model_module_version": "2.0.0",
      "model_name": "FloatProgressModel",
      "state": {
       "bar_style": "success",
       "layout": "IPY_MODEL_2cb0b6403f56462fbc31d5df3de8ec5c",
       "max": 10,
       "style": "IPY_MODEL_3d01e67bd3b249b6ab25e43b637cee86",
       "value": 10
      }
     },
     "ace9a22155b34f5bbb019f001a07a323": {
      "model_module": "@jupyter-widgets/base",
      "model_module_version": "2.0.0",
      "model_name": "LayoutModel",
      "state": {}
     },
     "ad26d5187d70496aa9b2d44e0614b549": {
      "model_module": "@jupyter-widgets/controls",
      "model_module_version": "2.0.0",
      "model_name": "HBoxModel",
      "state": {
       "children": [
        "IPY_MODEL_cc7dc3784ee14364a81c6f4de74ce8a8",
        "IPY_MODEL_665e4050dc6a4e4c8ce8dff44257cc26",
        "IPY_MODEL_21a0173bb4624b9d9aa1e4c533e9271d"
       ],
       "layout": "IPY_MODEL_efc10cbb5f7b42dda254f7832fd920a3"
      }
     },
     "ad32dd4e47f048c4b8167ed6584425a8": {
      "model_module": "@jupyter-widgets/base",
      "model_module_version": "2.0.0",
      "model_name": "LayoutModel",
      "state": {}
     },
     "ad95c623bd73436f90caa7a490e29946": {
      "model_module": "@jupyter-widgets/controls",
      "model_module_version": "2.0.0",
      "model_name": "HTMLStyleModel",
      "state": {
       "description_width": "",
       "font_size": null,
       "text_color": null
      }
     },
     "adaa3014472944ec9e8d3576a0665259": {
      "model_module": "@jupyter-widgets/base",
      "model_module_version": "2.0.0",
      "model_name": "LayoutModel",
      "state": {}
     },
     "ae8ee0c3c16f4c0088cee45f93d9d814": {
      "model_module": "@jupyter-widgets/controls",
      "model_module_version": "2.0.0",
      "model_name": "HTMLModel",
      "state": {
       "layout": "IPY_MODEL_ba7b1702811e42a1ace1e958f21d5cbb",
       "style": "IPY_MODEL_be78086a365a4c3587a8464c8d826d2a",
       "value": " 10/10 [00:14&lt;00:00,  1.43s/it]"
      }
     },
     "af36aa119f944dc9b439c306824c5115": {
      "model_module": "@jupyter-widgets/base",
      "model_module_version": "2.0.0",
      "model_name": "LayoutModel",
      "state": {}
     },
     "aff23ae6fdd64d0ea3f14ac279579b22": {
      "model_module": "@jupyter-widgets/controls",
      "model_module_version": "2.0.0",
      "model_name": "HTMLStyleModel",
      "state": {
       "description_width": "",
       "font_size": null,
       "text_color": null
      }
     },
     "b04747e58a9c49c88232a40a004e9b75": {
      "model_module": "@jupyter-widgets/base",
      "model_module_version": "2.0.0",
      "model_name": "LayoutModel",
      "state": {}
     },
     "b05948df9f2c42a589030a950595ba9d": {
      "model_module": "@jupyter-widgets/controls",
      "model_module_version": "2.0.0",
      "model_name": "HTMLStyleModel",
      "state": {
       "description_width": "",
       "font_size": null,
       "text_color": null
      }
     },
     "b099477b593a4c44ac0304ace88596d3": {
      "model_module": "@jupyter-widgets/base",
      "model_module_version": "2.0.0",
      "model_name": "LayoutModel",
      "state": {}
     },
     "b0aa8e4beea546c7bf492a7811d29d84": {
      "model_module": "@jupyter-widgets/base",
      "model_module_version": "2.0.0",
      "model_name": "LayoutModel",
      "state": {}
     },
     "b0f45776d6ec426198b7a79212a28d29": {
      "model_module": "@jupyter-widgets/controls",
      "model_module_version": "2.0.0",
      "model_name": "HBoxModel",
      "state": {
       "children": [
        "IPY_MODEL_c4f37c3bc47041798e5752a3a624708b",
        "IPY_MODEL_c8a01b3dd93e4a9dab5f02b373926c77",
        "IPY_MODEL_0cab9682f05543fb9164353cfcd31c91"
       ],
       "layout": "IPY_MODEL_143e7c2a829a4140b20f02fd46018615"
      }
     },
     "b298c4b030384e1e835b0527f346d32a": {
      "model_module": "@jupyter-widgets/controls",
      "model_module_version": "2.0.0",
      "model_name": "HTMLModel",
      "state": {
       "layout": "IPY_MODEL_9affcf7604c94ed3985c040b819d5e41",
       "style": "IPY_MODEL_db85268d72ba4b4d8680f00a08584f57",
       "value": " 90%"
      }
     },
     "b37eddb7497d41c2ab3aa569bd067dca": {
      "model_module": "@jupyter-widgets/controls",
      "model_module_version": "2.0.0",
      "model_name": "FloatProgressModel",
      "state": {
       "bar_style": "success",
       "layout": "IPY_MODEL_8980e02e544b4024a3de484a68afb3a3",
       "max": 10,
       "style": "IPY_MODEL_f3b24722d73e4ac38f4aa1fbf8810c64",
       "value": 10
      }
     },
     "b3a090abdc6944fcb77ffda4f30396fb": {
      "model_module": "@jupyter-widgets/controls",
      "model_module_version": "2.0.0",
      "model_name": "HTMLModel",
      "state": {
       "layout": "IPY_MODEL_44323b55ba6a437598fa5bf073ac1916",
       "style": "IPY_MODEL_59965a721f494d2e9be0aa2017b65c9c",
       "value": "100%"
      }
     },
     "b3e0f916eb064928a17c0f6ea29d2ebe": {
      "model_module": "@jupyter-widgets/controls",
      "model_module_version": "2.0.0",
      "model_name": "HTMLStyleModel",
      "state": {
       "description_width": "",
       "font_size": null,
       "text_color": null
      }
     },
     "b3ec134057d249f2be6f10c65822715a": {
      "model_module": "@jupyter-widgets/base",
      "model_module_version": "2.0.0",
      "model_name": "LayoutModel",
      "state": {}
     },
     "b3f2c155746e4ec18f3438ff4224572d": {
      "model_module": "@jupyter-widgets/controls",
      "model_module_version": "2.0.0",
      "model_name": "HTMLModel",
      "state": {
       "layout": "IPY_MODEL_228c820929f84a73a96ae1eebce1ea9f",
       "style": "IPY_MODEL_a631e4a836e6421aaa893a3cae807df3",
       "value": " 10%"
      }
     },
     "b3ffcffb87234d5f8131107b42f6f69e": {
      "model_module": "@jupyter-widgets/controls",
      "model_module_version": "2.0.0",
      "model_name": "HBoxModel",
      "state": {
       "children": [
        "IPY_MODEL_dea4e1502df24cf7a07740ca2eaa557f",
        "IPY_MODEL_d92ee918be1543fc8ed6c7ee549b7cc3",
        "IPY_MODEL_f46ef1e933fc40bbbdd0dfff2749a975"
       ],
       "layout": "IPY_MODEL_1a211e64c97c4c6d884c111c1ba5d2b1"
      }
     },
     "b4de947a839a4ae0aead17bb58f8df43": {
      "model_module": "@jupyter-widgets/controls",
      "model_module_version": "2.0.0",
      "model_name": "HTMLModel",
      "state": {
       "layout": "IPY_MODEL_dfbed1eb4e464eaa9a801327b4437fc3",
       "style": "IPY_MODEL_b7b030d9f52b424cb735d98764d136bd",
       "value": " 10/10 [00:16&lt;00:00,  1.66s/it]"
      }
     },
     "b4ea07b21a964520a35f286ddef6b878": {
      "model_module": "@jupyter-widgets/controls",
      "model_module_version": "2.0.0",
      "model_name": "HTMLStyleModel",
      "state": {
       "description_width": "",
       "font_size": null,
       "text_color": null
      }
     },
     "b4ea2b98355d4e7b82f85371217c1b29": {
      "model_module": "@jupyter-widgets/base",
      "model_module_version": "2.0.0",
      "model_name": "LayoutModel",
      "state": {}
     },
     "b4fc074930e1476cb7fbb3c51aa1b387": {
      "model_module": "@jupyter-widgets/controls",
      "model_module_version": "2.0.0",
      "model_name": "ProgressStyleModel",
      "state": {
       "description_width": ""
      }
     },
     "b50beb2e735b43ea8562a4e8709b28f2": {
      "model_module": "@jupyter-widgets/base",
      "model_module_version": "2.0.0",
      "model_name": "LayoutModel",
      "state": {}
     },
     "b543ffb7e71543fc85d7033c6a837f7d": {
      "model_module": "@jupyter-widgets/base",
      "model_module_version": "2.0.0",
      "model_name": "LayoutModel",
      "state": {}
     },
     "b592163c393f46e9ae14a361e3fef753": {
      "model_module": "@jupyter-widgets/controls",
      "model_module_version": "2.0.0",
      "model_name": "FloatProgressModel",
      "state": {
       "bar_style": "success",
       "layout": "IPY_MODEL_b7bd9939b4c243829b76f18db7a648e1",
       "max": 10,
       "style": "IPY_MODEL_0be6d6f0efc54b3aa042ebe5e0b8a070",
       "value": 10
      }
     },
     "b5ed45b5e4144aa987a7d58418002078": {
      "model_module": "@jupyter-widgets/controls",
      "model_module_version": "2.0.0",
      "model_name": "HTMLStyleModel",
      "state": {
       "description_width": "",
       "font_size": null,
       "text_color": null
      }
     },
     "b5f82f4673794d8aa82f9b70f8bad05f": {
      "model_module": "@jupyter-widgets/base",
      "model_module_version": "2.0.0",
      "model_name": "LayoutModel",
      "state": {}
     },
     "b68d5f9e2610411d8f94f82857b70c00": {
      "model_module": "@jupyter-widgets/base",
      "model_module_version": "2.0.0",
      "model_name": "LayoutModel",
      "state": {}
     },
     "b6d0d5605bbb440a9ab258fe233823f3": {
      "model_module": "@jupyter-widgets/controls",
      "model_module_version": "2.0.0",
      "model_name": "HTMLModel",
      "state": {
       "layout": "IPY_MODEL_46a8d38a91e040e283d8fd3c340639e7",
       "style": "IPY_MODEL_e921cd4e65fc400f817c29f30cfdfab5",
       "value": " 10/10 [00:14&lt;00:00,  1.44s/it]"
      }
     },
     "b72ccda990d64311bfc7ad5c445980f3": {
      "model_module": "@jupyter-widgets/controls",
      "model_module_version": "2.0.0",
      "model_name": "HTMLStyleModel",
      "state": {
       "description_width": "",
       "font_size": null,
       "text_color": null
      }
     },
     "b7a2bfd318794ae498c4eba2fc97c446": {
      "model_module": "@jupyter-widgets/base",
      "model_module_version": "2.0.0",
      "model_name": "LayoutModel",
      "state": {}
     },
     "b7a3074bf2ed4204b00da22628df5ca5": {
      "model_module": "@jupyter-widgets/base",
      "model_module_version": "2.0.0",
      "model_name": "LayoutModel",
      "state": {}
     },
     "b7b030d9f52b424cb735d98764d136bd": {
      "model_module": "@jupyter-widgets/controls",
      "model_module_version": "2.0.0",
      "model_name": "HTMLStyleModel",
      "state": {
       "description_width": "",
       "font_size": null,
       "text_color": null
      }
     },
     "b7bd9939b4c243829b76f18db7a648e1": {
      "model_module": "@jupyter-widgets/base",
      "model_module_version": "2.0.0",
      "model_name": "LayoutModel",
      "state": {}
     },
     "b7e3ccfc0ebf47cdb7fad1b73d454acf": {
      "model_module": "@jupyter-widgets/controls",
      "model_module_version": "2.0.0",
      "model_name": "HTMLStyleModel",
      "state": {
       "description_width": "",
       "font_size": null,
       "text_color": null
      }
     },
     "b805e6f3734745d7b1c8087efd659fde": {
      "model_module": "@jupyter-widgets/controls",
      "model_module_version": "2.0.0",
      "model_name": "HTMLStyleModel",
      "state": {
       "description_width": "",
       "font_size": null,
       "text_color": null
      }
     },
     "b8f9f8b6e3d3460699c9f12769032408": {
      "model_module": "@jupyter-widgets/controls",
      "model_module_version": "2.0.0",
      "model_name": "HTMLStyleModel",
      "state": {
       "description_width": "",
       "font_size": null,
       "text_color": null
      }
     },
     "b96c2226fc2b425c8934a953fcc9d839": {
      "model_module": "@jupyter-widgets/base",
      "model_module_version": "2.0.0",
      "model_name": "LayoutModel",
      "state": {}
     },
     "b997f5dc8f1147c3a3683716ff01543f": {
      "model_module": "@jupyter-widgets/base",
      "model_module_version": "2.0.0",
      "model_name": "LayoutModel",
      "state": {}
     },
     "b9ca50cef213474a9f483f96b07fcb50": {
      "model_module": "@jupyter-widgets/base",
      "model_module_version": "2.0.0",
      "model_name": "LayoutModel",
      "state": {}
     },
     "b9d8d900eebc40c1811bec7d244e1f7e": {
      "model_module": "@jupyter-widgets/controls",
      "model_module_version": "2.0.0",
      "model_name": "HTMLModel",
      "state": {
       "layout": "IPY_MODEL_996db469d17e4537b1df4af9e2551eb0",
       "style": "IPY_MODEL_c53f56914cd6457ab0affc334b0e2303",
       "value": "100%"
      }
     },
     "ba12033dc7614740a52e1166931884fc": {
      "model_module": "@jupyter-widgets/base",
      "model_module_version": "2.0.0",
      "model_name": "LayoutModel",
      "state": {}
     },
     "ba602cd193e241f6824dd0c9303b79fb": {
      "model_module": "@jupyter-widgets/controls",
      "model_module_version": "2.0.0",
      "model_name": "FloatProgressModel",
      "state": {
       "bar_style": "success",
       "layout": "IPY_MODEL_4cb88dae39324833b4063c004a524cc4",
       "max": 10,
       "style": "IPY_MODEL_0d4d1bb40ade444c822a84dbb23cdd11",
       "value": 10
      }
     },
     "ba6d360c455d49e0bf8faf548fedbf1a": {
      "model_module": "@jupyter-widgets/base",
      "model_module_version": "2.0.0",
      "model_name": "LayoutModel",
      "state": {}
     },
     "ba7b1702811e42a1ace1e958f21d5cbb": {
      "model_module": "@jupyter-widgets/base",
      "model_module_version": "2.0.0",
      "model_name": "LayoutModel",
      "state": {}
     },
     "ba96809959e643eb884bc8cc8729bb80": {
      "model_module": "@jupyter-widgets/controls",
      "model_module_version": "2.0.0",
      "model_name": "HTMLModel",
      "state": {
       "layout": "IPY_MODEL_cb275e136b1e45f59bce454fd35abe9b",
       "style": "IPY_MODEL_3ca24a5ff3064758b4f3b487ab7e3800",
       "value": "100%"
      }
     },
     "baf99f0ea63f4c6e808de8fe39e5633f": {
      "model_module": "@jupyter-widgets/base",
      "model_module_version": "2.0.0",
      "model_name": "LayoutModel",
      "state": {}
     },
     "bb220c290da34ad1ba7caa5a33e5c6e5": {
      "model_module": "@jupyter-widgets/base",
      "model_module_version": "2.0.0",
      "model_name": "LayoutModel",
      "state": {}
     },
     "bb2b4df756784bd8b2c4166ef622a19d": {
      "model_module": "@jupyter-widgets/controls",
      "model_module_version": "2.0.0",
      "model_name": "HTMLStyleModel",
      "state": {
       "description_width": "",
       "font_size": null,
       "text_color": null
      }
     },
     "bb3bede19dd6405f86ad22dc2a1d6a94": {
      "model_module": "@jupyter-widgets/controls",
      "model_module_version": "2.0.0",
      "model_name": "ProgressStyleModel",
      "state": {
       "description_width": ""
      }
     },
     "bb415e35d758455b9d8d075ed1c36841": {
      "model_module": "@jupyter-widgets/controls",
      "model_module_version": "2.0.0",
      "model_name": "HTMLModel",
      "state": {
       "layout": "IPY_MODEL_a8e531ff70d64183bb12283f12f9b46b",
       "style": "IPY_MODEL_f84f776ca2e94514bb7c54a1466e639e",
       "value": "100%"
      }
     },
     "bb8a1069904b4b3bbc4a71505b0e0c45": {
      "model_module": "@jupyter-widgets/controls",
      "model_module_version": "2.0.0",
      "model_name": "HTMLStyleModel",
      "state": {
       "description_width": "",
       "font_size": null,
       "text_color": null
      }
     },
     "bbb3de17626245c9b9e65dfc6f844faf": {
      "model_module": "@jupyter-widgets/base",
      "model_module_version": "2.0.0",
      "model_name": "LayoutModel",
      "state": {}
     },
     "bbd5acabb84e48d7b281079429cd77d0": {
      "model_module": "@jupyter-widgets/base",
      "model_module_version": "2.0.0",
      "model_name": "LayoutModel",
      "state": {}
     },
     "bbf1392e27af4dfca64a4f0411603557": {
      "model_module": "@jupyter-widgets/controls",
      "model_module_version": "2.0.0",
      "model_name": "HTMLStyleModel",
      "state": {
       "description_width": "",
       "font_size": null,
       "text_color": null
      }
     },
     "bcb04a2471d04947a2ef383ac3b4fab6": {
      "model_module": "@jupyter-widgets/controls",
      "model_module_version": "2.0.0",
      "model_name": "FloatProgressModel",
      "state": {
       "bar_style": "success",
       "layout": "IPY_MODEL_8135bd32f5bc44dcbc5748870e19b8e5",
       "max": 10,
       "style": "IPY_MODEL_ebec9d2a47a84e7d9afd8e8e05d3ccdf",
       "value": 10
      }
     },
     "bd18712d59514cf5bcbf0fb056a04fea": {
      "model_module": "@jupyter-widgets/controls",
      "model_module_version": "2.0.0",
      "model_name": "HTMLModel",
      "state": {
       "layout": "IPY_MODEL_25755ccda7514aaba3cd5e10c689099e",
       "style": "IPY_MODEL_0bf23986f58445fdaf19c64a9a75249b",
       "value": " 10/10 [00:22&lt;00:00,  2.25s/it]"
      }
     },
     "bd23904ee7b840418faf73bd651354f2": {
      "model_module": "@jupyter-widgets/controls",
      "model_module_version": "2.0.0",
      "model_name": "HTMLModel",
      "state": {
       "layout": "IPY_MODEL_204aff8c397f4bf4becc3b0a9b3921cc",
       "style": "IPY_MODEL_1a52494979144ce0960f3365f4a78387",
       "value": " 10/10 [00:14&lt;00:00,  1.42s/it]"
      }
     },
     "bdd1ce6633104b1a836fdefd0c041f98": {
      "model_module": "@jupyter-widgets/controls",
      "model_module_version": "2.0.0",
      "model_name": "HTMLModel",
      "state": {
       "layout": "IPY_MODEL_d74876c3d34e4f6f93d7577552f36967",
       "style": "IPY_MODEL_6b31a1e49f7e44ffa8cb3f11df641173",
       "value": " 10/10 [00:15&lt;00:00,  1.58s/it]"
      }
     },
     "be11eeb1462745b888d9e4d7e9e98b49": {
      "model_module": "@jupyter-widgets/base",
      "model_module_version": "2.0.0",
      "model_name": "LayoutModel",
      "state": {}
     },
     "be18b744964c49d5b4751c625891b956": {
      "model_module": "@jupyter-widgets/controls",
      "model_module_version": "2.0.0",
      "model_name": "HTMLStyleModel",
      "state": {
       "description_width": "",
       "font_size": null,
       "text_color": null
      }
     },
     "be18c46f0e5345b29a82446aed210a08": {
      "model_module": "@jupyter-widgets/controls",
      "model_module_version": "2.0.0",
      "model_name": "HTMLModel",
      "state": {
       "layout": "IPY_MODEL_e4784876e9254a55955ea4c0ab79228d",
       "style": "IPY_MODEL_1c738a111d01485f8fc751e95a5e47fc",
       "value": "100%"
      }
     },
     "be600e3f59bb4a44873e3156598eb23c": {
      "model_module": "@jupyter-widgets/controls",
      "model_module_version": "2.0.0",
      "model_name": "HBoxModel",
      "state": {
       "children": [
        "IPY_MODEL_27acc79bbd8b4f1e98f23dc95d8d099f",
        "IPY_MODEL_9c2b809ba6b74fe4b671ad8dc3f71a1d",
        "IPY_MODEL_a14c4d63689d4326a75379a8486fc6e2"
       ],
       "layout": "IPY_MODEL_2fd863311c35430893e43df0292b2c11"
      }
     },
     "be748360b70b43048b41ec356353b11d": {
      "model_module": "@jupyter-widgets/base",
      "model_module_version": "2.0.0",
      "model_name": "LayoutModel",
      "state": {}
     },
     "be78086a365a4c3587a8464c8d826d2a": {
      "model_module": "@jupyter-widgets/controls",
      "model_module_version": "2.0.0",
      "model_name": "HTMLStyleModel",
      "state": {
       "description_width": "",
       "font_size": null,
       "text_color": null
      }
     },
     "bed6649b8eaf4648ae90687a9b8e703d": {
      "model_module": "@jupyter-widgets/controls",
      "model_module_version": "2.0.0",
      "model_name": "HTMLModel",
      "state": {
       "layout": "IPY_MODEL_3b37931497814f32aeca61b644cde57c",
       "style": "IPY_MODEL_6c9109f69cbf4b4db6b6c092fb4ac5d4",
       "value": "  5%"
      }
     },
     "beeea4db649148ed8d4938bdd164943d": {
      "model_module": "@jupyter-widgets/base",
      "model_module_version": "2.0.0",
      "model_name": "LayoutModel",
      "state": {}
     },
     "bf3a972029884b1d9cc53f09bb924b9b": {
      "model_module": "@jupyter-widgets/controls",
      "model_module_version": "2.0.0",
      "model_name": "ProgressStyleModel",
      "state": {
       "description_width": ""
      }
     },
     "bf88304eada046f483416c8ed971e45b": {
      "model_module": "@jupyter-widgets/base",
      "model_module_version": "2.0.0",
      "model_name": "LayoutModel",
      "state": {}
     },
     "bf9638d48b7545ef94866af80868375d": {
      "model_module": "@jupyter-widgets/base",
      "model_module_version": "2.0.0",
      "model_name": "LayoutModel",
      "state": {}
     },
     "c00677e8bec947e9ba01fcce1f3fd974": {
      "model_module": "@jupyter-widgets/base",
      "model_module_version": "2.0.0",
      "model_name": "LayoutModel",
      "state": {}
     },
     "c01a0f6509274f04854bca30208ecf3a": {
      "model_module": "@jupyter-widgets/controls",
      "model_module_version": "2.0.0",
      "model_name": "HTMLModel",
      "state": {
       "layout": "IPY_MODEL_eb208ee2f0f34e4499e5c88d2019206c",
       "style": "IPY_MODEL_47ae3780141946dda79bd22f840a05ad",
       "value": "100%"
      }
     },
     "c09fabca22b443e2a04e13cf30da1791": {
      "model_module": "@jupyter-widgets/controls",
      "model_module_version": "2.0.0",
      "model_name": "ProgressStyleModel",
      "state": {
       "description_width": ""
      }
     },
     "c0a0ed4c96f14e91b77dbd5155accdbf": {
      "model_module": "@jupyter-widgets/base",
      "model_module_version": "2.0.0",
      "model_name": "LayoutModel",
      "state": {}
     },
     "c197786af4e54ff7a625bcbf31e37051": {
      "model_module": "@jupyter-widgets/base",
      "model_module_version": "2.0.0",
      "model_name": "LayoutModel",
      "state": {}
     },
     "c1adc9f052ef45e1b2bf6bef6fc0f2a5": {
      "model_module": "@jupyter-widgets/controls",
      "model_module_version": "2.0.0",
      "model_name": "HTMLStyleModel",
      "state": {
       "description_width": "",
       "font_size": null,
       "text_color": null
      }
     },
     "c1ba472f03c944a1b33d2ae25ce63752": {
      "model_module": "@jupyter-widgets/controls",
      "model_module_version": "2.0.0",
      "model_name": "ProgressStyleModel",
      "state": {
       "description_width": ""
      }
     },
     "c27909dc1f5341758cdc91c9b154a0e1": {
      "model_module": "@jupyter-widgets/base",
      "model_module_version": "2.0.0",
      "model_name": "LayoutModel",
      "state": {}
     },
     "c28248b6fe8f4ce9b8c5d66605f1a6c6": {
      "model_module": "@jupyter-widgets/base",
      "model_module_version": "2.0.0",
      "model_name": "LayoutModel",
      "state": {}
     },
     "c2d2166b1e254ca3acde2adb4cc26ce5": {
      "model_module": "@jupyter-widgets/controls",
      "model_module_version": "2.0.0",
      "model_name": "HTMLModel",
      "state": {
       "layout": "IPY_MODEL_a0cd359b602e4367bd22776e3e184d6b",
       "style": "IPY_MODEL_ffa78c1c9f7f43c991936a36a190bf97",
       "value": " 10/10 [00:14&lt;00:00,  1.44s/it]"
      }
     },
     "c2e44525accf47e4b98f9402b525d006": {
      "model_module": "@jupyter-widgets/controls",
      "model_module_version": "2.0.0",
      "model_name": "HBoxModel",
      "state": {
       "children": [
        "IPY_MODEL_50966b36e63a4c03a32240699ee1066e",
        "IPY_MODEL_ee6bdf80a254496f932ad3b13852d3e2",
        "IPY_MODEL_d7f7e5110cef4b2da955f89c512c2963"
       ],
       "layout": "IPY_MODEL_2495a18c6fb94623ba291a620bce558f"
      }
     },
     "c32d5200593c46b2b74f445a892ef527": {
      "model_module": "@jupyter-widgets/base",
      "model_module_version": "2.0.0",
      "model_name": "LayoutModel",
      "state": {}
     },
     "c3594a70b36940e7a4da893d3cdae1c2": {
      "model_module": "@jupyter-widgets/base",
      "model_module_version": "2.0.0",
      "model_name": "LayoutModel",
      "state": {}
     },
     "c3b8f675a4814edfa4eb12971700ac43": {
      "model_module": "@jupyter-widgets/base",
      "model_module_version": "2.0.0",
      "model_name": "LayoutModel",
      "state": {}
     },
     "c3ce2cdd19b7431b9a5c2d719a7e1c25": {
      "model_module": "@jupyter-widgets/controls",
      "model_module_version": "2.0.0",
      "model_name": "HTMLModel",
      "state": {
       "layout": "IPY_MODEL_c32d5200593c46b2b74f445a892ef527",
       "style": "IPY_MODEL_83e86fa8b93346eda3167be41a72665a",
       "value": " 10/10 [00:14&lt;00:00,  1.44s/it]"
      }
     },
     "c40d033efd634c3db232680936f1ee7a": {
      "model_module": "@jupyter-widgets/controls",
      "model_module_version": "2.0.0",
      "model_name": "HBoxModel",
      "state": {
       "children": [
        "IPY_MODEL_00bc93fb86a64aff936d574431070e54",
        "IPY_MODEL_8c207603318642539e55619791976636",
        "IPY_MODEL_f3a3ae92562041549bfe2ac278b8ffea"
       ],
       "layout": "IPY_MODEL_df933cabbfe54256a241c5ff674965dc"
      }
     },
     "c41e1fa2d45f4dc084fc39897bd27417": {
      "model_module": "@jupyter-widgets/controls",
      "model_module_version": "2.0.0",
      "model_name": "HTMLModel",
      "state": {
       "layout": "IPY_MODEL_f8b207a6801d4fdfaab4ce4cfd33f6d3",
       "style": "IPY_MODEL_177fdd32aced49b7b7664c857f0dcfaa",
       "value": "100%"
      }
     },
     "c45b97b106654c049aae42275ade0258": {
      "model_module": "@jupyter-widgets/controls",
      "model_module_version": "2.0.0",
      "model_name": "HTMLModel",
      "state": {
       "layout": "IPY_MODEL_6c45ec99ac8543a4905ec1bd6964caeb",
       "style": "IPY_MODEL_8edf0e473d324ad09e9c448891afa045",
       "value": " 10/10 [00:14&lt;00:00,  1.47s/it]"
      }
     },
     "c4f37c3bc47041798e5752a3a624708b": {
      "model_module": "@jupyter-widgets/controls",
      "model_module_version": "2.0.0",
      "model_name": "HTMLModel",
      "state": {
       "layout": "IPY_MODEL_e12410dff95d43e5bc9ea1a18aa614b9",
       "style": "IPY_MODEL_e1623dd0c8a74d0ab93c5ab2d093994e",
       "value": "100%"
      }
     },
     "c5050e8cfa86485d861ad2af78fbd3e0": {
      "model_module": "@jupyter-widgets/controls",
      "model_module_version": "2.0.0",
      "model_name": "HTMLModel",
      "state": {
       "layout": "IPY_MODEL_89396f88411a4bdd8c45054ee4b4fee3",
       "style": "IPY_MODEL_ebb32071009345d8bd2cfa3f576f6d24",
       "value": " 0/21 [00:08&lt;?, ?it/s]"
      }
     },
     "c53f56914cd6457ab0affc334b0e2303": {
      "model_module": "@jupyter-widgets/controls",
      "model_module_version": "2.0.0",
      "model_name": "HTMLStyleModel",
      "state": {
       "description_width": "",
       "font_size": null,
       "text_color": null
      }
     },
     "c55f43bacae941bca542cafa724ac6d2": {
      "model_module": "@jupyter-widgets/base",
      "model_module_version": "2.0.0",
      "model_name": "LayoutModel",
      "state": {}
     },
     "c58de91b6e864b35a370c17daee378ec": {
      "model_module": "@jupyter-widgets/controls",
      "model_module_version": "2.0.0",
      "model_name": "HTMLStyleModel",
      "state": {
       "description_width": "",
       "font_size": null,
       "text_color": null
      }
     },
     "c638c1633d494ee089733ef14272a6df": {
      "model_module": "@jupyter-widgets/base",
      "model_module_version": "2.0.0",
      "model_name": "LayoutModel",
      "state": {}
     },
     "c64fbf0f02044fbf9cc63e04d45ce731": {
      "model_module": "@jupyter-widgets/controls",
      "model_module_version": "2.0.0",
      "model_name": "HTMLModel",
      "state": {
       "layout": "IPY_MODEL_30cbc6ea8c7c49078057ac175ffb6fc0",
       "style": "IPY_MODEL_48bfaeb9ca3f408aaba90eaa8ef428d6",
       "value": "100%"
      }
     },
     "c68dc3fb454a4822bc370a202284ed9c": {
      "model_module": "@jupyter-widgets/controls",
      "model_module_version": "2.0.0",
      "model_name": "HTMLModel",
      "state": {
       "layout": "IPY_MODEL_fe69a207c2184152a2d974114a2f247c",
       "style": "IPY_MODEL_cf666313c2914337b6550da35fd545cc",
       "value": "100%"
      }
     },
     "c6a20e775c10409f869823820667b973": {
      "model_module": "@jupyter-widgets/controls",
      "model_module_version": "2.0.0",
      "model_name": "HTMLModel",
      "state": {
       "layout": "IPY_MODEL_562ad1d39e9b41ce8eca77e740c2ac4c",
       "style": "IPY_MODEL_559b4eb7fa1f4414b1aee8ff48dddd8a",
       "value": "100%"
      }
     },
     "c6b3dd8e4a2e463c9de8956b83e9e10f": {
      "model_module": "@jupyter-widgets/base",
      "model_module_version": "2.0.0",
      "model_name": "LayoutModel",
      "state": {}
     },
     "c753ec68befd45e9bdd6d60fef3dcadd": {
      "model_module": "@jupyter-widgets/controls",
      "model_module_version": "2.0.0",
      "model_name": "HTMLModel",
      "state": {
       "layout": "IPY_MODEL_9f901536919741cf9c4030e8fdab1254",
       "style": "IPY_MODEL_1016e33569e249d0b620f3c7af9b2a7c",
       "value": " 10/10 [00:14&lt;00:00,  1.36s/it]"
      }
     },
     "c75c3fa4649849e5894979cb21fd4fe7": {
      "model_module": "@jupyter-widgets/controls",
      "model_module_version": "2.0.0",
      "model_name": "HTMLStyleModel",
      "state": {
       "description_width": "",
       "font_size": null,
       "text_color": null
      }
     },
     "c791fadb2e704a26a1485a85145a5bde": {
      "model_module": "@jupyter-widgets/base",
      "model_module_version": "2.0.0",
      "model_name": "LayoutModel",
      "state": {}
     },
     "c79bfc238d2446d2b905113e486a3780": {
      "model_module": "@jupyter-widgets/base",
      "model_module_version": "2.0.0",
      "model_name": "LayoutModel",
      "state": {}
     },
     "c7b073faa4ad4621821a643ca1ec935c": {
      "model_module": "@jupyter-widgets/base",
      "model_module_version": "2.0.0",
      "model_name": "LayoutModel",
      "state": {}
     },
     "c7f6fc2020894d92af5c716f1b9275c3": {
      "model_module": "@jupyter-widgets/base",
      "model_module_version": "2.0.0",
      "model_name": "LayoutModel",
      "state": {}
     },
     "c804e7a51734432597be6c66d253695b": {
      "model_module": "@jupyter-widgets/controls",
      "model_module_version": "2.0.0",
      "model_name": "HTMLStyleModel",
      "state": {
       "description_width": "",
       "font_size": null,
       "text_color": null
      }
     },
     "c82915f4a67b4576a0a49edc31b12b7c": {
      "model_module": "@jupyter-widgets/controls",
      "model_module_version": "2.0.0",
      "model_name": "HTMLStyleModel",
      "state": {
       "description_width": "",
       "font_size": null,
       "text_color": null
      }
     },
     "c8774a34f905487aa021ad19a957d937": {
      "model_module": "@jupyter-widgets/base",
      "model_module_version": "2.0.0",
      "model_name": "LayoutModel",
      "state": {}
     },
     "c8a01b3dd93e4a9dab5f02b373926c77": {
      "model_module": "@jupyter-widgets/controls",
      "model_module_version": "2.0.0",
      "model_name": "FloatProgressModel",
      "state": {
       "bar_style": "success",
       "layout": "IPY_MODEL_f2777b78ff1f439893bed496fa5ee1a3",
       "max": 10,
       "style": "IPY_MODEL_67a6667e84634d488a6a436a20cdf9b2",
       "value": 10
      }
     },
     "c8ed75cdeed64f41b1e1fc940c654d1c": {
      "model_module": "@jupyter-widgets/controls",
      "model_module_version": "2.0.0",
      "model_name": "FloatProgressModel",
      "state": {
       "bar_style": "success",
       "layout": "IPY_MODEL_2de77f2c6a674442a96b297c044e62f6",
       "max": 10,
       "style": "IPY_MODEL_cf94285ebafd4165a433b5f510d55fab",
       "value": 10
      }
     },
     "c9a6284c36174d24b3843ab5cb8bf817": {
      "model_module": "@jupyter-widgets/controls",
      "model_module_version": "2.0.0",
      "model_name": "HTMLModel",
      "state": {
       "layout": "IPY_MODEL_447426d676a646b99760f2d96a2ce0ad",
       "style": "IPY_MODEL_c804e7a51734432597be6c66d253695b",
       "value": " 10/10 [00:22&lt;00:00,  2.23s/it]"
      }
     },
     "c9a7f7fee6ff41759a87302e0fad8d43": {
      "model_module": "@jupyter-widgets/controls",
      "model_module_version": "2.0.0",
      "model_name": "HTMLModel",
      "state": {
       "layout": "IPY_MODEL_951178e07ff54f3a8f745ae535c0549b",
       "style": "IPY_MODEL_b3e0f916eb064928a17c0f6ea29d2ebe",
       "value": "100%"
      }
     },
     "ca0905551640466c8c3e31e6333deb5c": {
      "model_module": "@jupyter-widgets/base",
      "model_module_version": "2.0.0",
      "model_name": "LayoutModel",
      "state": {}
     },
     "cad6cefcc5b249f1b3c9f3fd6877188e": {
      "model_module": "@jupyter-widgets/controls",
      "model_module_version": "2.0.0",
      "model_name": "HTMLModel",
      "state": {
       "layout": "IPY_MODEL_74e9e8b3989f43178c1706cf64a1f708",
       "style": "IPY_MODEL_e81ec8d8ef214d74bb9f9dddabe3cb59",
       "value": "100%"
      }
     },
     "cb275e136b1e45f59bce454fd35abe9b": {
      "model_module": "@jupyter-widgets/base",
      "model_module_version": "2.0.0",
      "model_name": "LayoutModel",
      "state": {}
     },
     "cc0611d25b49498fbacd999b5fb77299": {
      "model_module": "@jupyter-widgets/base",
      "model_module_version": "2.0.0",
      "model_name": "LayoutModel",
      "state": {}
     },
     "cc2a1aaaefb449a59e25081889afa8e7": {
      "model_module": "@jupyter-widgets/controls",
      "model_module_version": "2.0.0",
      "model_name": "HBoxModel",
      "state": {
       "children": [
        "IPY_MODEL_7391f68ca2bf4292ab943b7cdd12d8c0",
        "IPY_MODEL_f3b3125514da47bbb72a8ccfbea1485a",
        "IPY_MODEL_1ac0b441d36f461ba0d88e547c72eec9"
       ],
       "layout": "IPY_MODEL_2ccdd39e9e3a4cf3bc071a98ac7d0475"
      }
     },
     "cc7dc3784ee14364a81c6f4de74ce8a8": {
      "model_module": "@jupyter-widgets/controls",
      "model_module_version": "2.0.0",
      "model_name": "HTMLModel",
      "state": {
       "layout": "IPY_MODEL_ca0905551640466c8c3e31e6333deb5c",
       "style": "IPY_MODEL_a1ce18ac813c4343bd2f5105de8a0820",
       "value": "  0%"
      }
     },
     "cc938eb942df4d719fde0c6eae9b55a3": {
      "model_module": "@jupyter-widgets/controls",
      "model_module_version": "2.0.0",
      "model_name": "ProgressStyleModel",
      "state": {
       "description_width": ""
      }
     },
     "ccef82d1a892441fa37e54285e36b248": {
      "model_module": "@jupyter-widgets/controls",
      "model_module_version": "2.0.0",
      "model_name": "HTMLModel",
      "state": {
       "layout": "IPY_MODEL_84b94aa90ee84b94b0ff4d5751a6378a",
       "style": "IPY_MODEL_19024d58b9314777bd3880864c018f72",
       "value": "100%"
      }
     },
     "ccf507c9adf14810a9a7230fe0178062": {
      "model_module": "@jupyter-widgets/controls",
      "model_module_version": "2.0.0",
      "model_name": "HBoxModel",
      "state": {
       "children": [
        "IPY_MODEL_5540d664c8cf4880967b1464af658f9d",
        "IPY_MODEL_7b19d205d5c4430d8eede97b5a5f5725",
        "IPY_MODEL_00f84f3e7cef4b6d86cab9666d0de93b"
       ],
       "layout": "IPY_MODEL_d6a123f2883e42e8b32c4792fa1b33c3"
      }
     },
     "cd324adac3d74a4e850e9f98b3a5ecd8": {
      "model_module": "@jupyter-widgets/controls",
      "model_module_version": "2.0.0",
      "model_name": "HBoxModel",
      "state": {
       "children": [
        "IPY_MODEL_bed6649b8eaf4648ae90687a9b8e703d",
        "IPY_MODEL_047bba379ad849c29038f2026d6e4712",
        "IPY_MODEL_04c5b61f34674f9c88a0a6e01f564972"
       ],
       "layout": "IPY_MODEL_8fff6673ee2b4ded9f8fbcc47a235d0e"
      }
     },
     "ce8d9b9af2ef492886db975c7c6cfe2c": {
      "model_module": "@jupyter-widgets/controls",
      "model_module_version": "2.0.0",
      "model_name": "HBoxModel",
      "state": {
       "children": [
        "IPY_MODEL_6957bfe70c6f45f6b6a871a3cf3858ce",
        "IPY_MODEL_3601ca2926c041209fcab4c00c9fc3b9",
        "IPY_MODEL_353877cbb3f24f3ca5f0a7e8d7302bda"
       ],
       "layout": "IPY_MODEL_f50fead510a14b97af3a6773d81aeefc"
      }
     },
     "cf3f8c5b361241ccb705db4508268f93": {
      "model_module": "@jupyter-widgets/controls",
      "model_module_version": "2.0.0",
      "model_name": "HTMLStyleModel",
      "state": {
       "description_width": "",
       "font_size": null,
       "text_color": null
      }
     },
     "cf666313c2914337b6550da35fd545cc": {
      "model_module": "@jupyter-widgets/controls",
      "model_module_version": "2.0.0",
      "model_name": "HTMLStyleModel",
      "state": {
       "description_width": "",
       "font_size": null,
       "text_color": null
      }
     },
     "cf7548fee53744f7b9a21df3f011d3a4": {
      "model_module": "@jupyter-widgets/base",
      "model_module_version": "2.0.0",
      "model_name": "LayoutModel",
      "state": {}
     },
     "cf88e5f3492e4f16a89339a17c8ea9b7": {
      "model_module": "@jupyter-widgets/controls",
      "model_module_version": "2.0.0",
      "model_name": "HTMLModel",
      "state": {
       "layout": "IPY_MODEL_3fb6f1bc3cdd4bdea3d90b1c072bd191",
       "style": "IPY_MODEL_478cd9392497416bb8f2615bea00e464",
       "value": " 10/10 [00:14&lt;00:00,  1.44s/it]"
      }
     },
     "cf94285ebafd4165a433b5f510d55fab": {
      "model_module": "@jupyter-widgets/controls",
      "model_module_version": "2.0.0",
      "model_name": "ProgressStyleModel",
      "state": {
       "description_width": ""
      }
     },
     "cfe7faf71737486da8db90a8b3ce5578": {
      "model_module": "@jupyter-widgets/controls",
      "model_module_version": "2.0.0",
      "model_name": "HTMLModel",
      "state": {
       "layout": "IPY_MODEL_08135e56144c423ebc16f128c71bf1ea",
       "style": "IPY_MODEL_b7e3ccfc0ebf47cdb7fad1b73d454acf",
       "value": " 10/10 [00:19&lt;00:00,  1.85s/it]"
      }
     },
     "d06b66ffe5434be3bb8afba8aeadf5cc": {
      "model_module": "@jupyter-widgets/controls",
      "model_module_version": "2.0.0",
      "model_name": "HTMLModel",
      "state": {
       "layout": "IPY_MODEL_7d93e09303994f33b1df4a8e31fc840e",
       "style": "IPY_MODEL_be18b744964c49d5b4751c625891b956",
       "value": "100%"
      }
     },
     "d17f03414d954bda80699934ca84c774": {
      "model_module": "@jupyter-widgets/controls",
      "model_module_version": "2.0.0",
      "model_name": "HTMLStyleModel",
      "state": {
       "description_width": "",
       "font_size": null,
       "text_color": null
      }
     },
     "d1a8740831d34280a317261428040268": {
      "model_module": "@jupyter-widgets/base",
      "model_module_version": "2.0.0",
      "model_name": "LayoutModel",
      "state": {}
     },
     "d1da40f9a699484689a253b9ff64cf12": {
      "model_module": "@jupyter-widgets/base",
      "model_module_version": "2.0.0",
      "model_name": "LayoutModel",
      "state": {}
     },
     "d1ec2117a967462ba6b6a83a783f470c": {
      "model_module": "@jupyter-widgets/controls",
      "model_module_version": "2.0.0",
      "model_name": "HTMLStyleModel",
      "state": {
       "description_width": "",
       "font_size": null,
       "text_color": null
      }
     },
     "d2069c841a994a6a8b167271aa3b2195": {
      "model_module": "@jupyter-widgets/controls",
      "model_module_version": "2.0.0",
      "model_name": "ProgressStyleModel",
      "state": {
       "description_width": ""
      }
     },
     "d244e39f694e439fba3ff81af4ceaf9d": {
      "model_module": "@jupyter-widgets/base",
      "model_module_version": "2.0.0",
      "model_name": "LayoutModel",
      "state": {}
     },
     "d26105f12b644a73ad9c28abe1864750": {
      "model_module": "@jupyter-widgets/controls",
      "model_module_version": "2.0.0",
      "model_name": "HTMLStyleModel",
      "state": {
       "description_width": "",
       "font_size": null,
       "text_color": null
      }
     },
     "d2714947af214e77a58ed19c41cb992f": {
      "model_module": "@jupyter-widgets/base",
      "model_module_version": "2.0.0",
      "model_name": "LayoutModel",
      "state": {}
     },
     "d2af0baf99f34574a10effe6f733d4b7": {
      "model_module": "@jupyter-widgets/controls",
      "model_module_version": "2.0.0",
      "model_name": "HTMLModel",
      "state": {
       "layout": "IPY_MODEL_52f565a21fb7413cb6d0560795547482",
       "style": "IPY_MODEL_b4ea07b21a964520a35f286ddef6b878",
       "value": " 9/10 [00:21&lt;00:02,  2.25s/it]"
      }
     },
     "d2b13af61d784f5a9360f21a5195a6a8": {
      "model_module": "@jupyter-widgets/base",
      "model_module_version": "2.0.0",
      "model_name": "LayoutModel",
      "state": {}
     },
     "d382ae9d58404775985d8b4ae23696ff": {
      "model_module": "@jupyter-widgets/base",
      "model_module_version": "2.0.0",
      "model_name": "LayoutModel",
      "state": {}
     },
     "d45512873f6b48878ca1cfa250284bb5": {
      "model_module": "@jupyter-widgets/controls",
      "model_module_version": "2.0.0",
      "model_name": "HTMLStyleModel",
      "state": {
       "description_width": "",
       "font_size": null,
       "text_color": null
      }
     },
     "d521ee95dbfc4af0a2b27e2533f6ad6d": {
      "model_module": "@jupyter-widgets/controls",
      "model_module_version": "2.0.0",
      "model_name": "FloatProgressModel",
      "state": {
       "bar_style": "success",
       "layout": "IPY_MODEL_6a7343994a8f44c1829a5b929e2afed2",
       "max": 10,
       "style": "IPY_MODEL_00ea93a536e44ca6b7790d55d07b750c",
       "value": 10
      }
     },
     "d568450492e64bafa9f2ee59c29c648c": {
      "model_module": "@jupyter-widgets/base",
      "model_module_version": "2.0.0",
      "model_name": "LayoutModel",
      "state": {}
     },
     "d5bc1f5492f24f83a10bd78ef9ca5f16": {
      "model_module": "@jupyter-widgets/controls",
      "model_module_version": "2.0.0",
      "model_name": "HBoxModel",
      "state": {
       "children": [
        "IPY_MODEL_c64fbf0f02044fbf9cc63e04d45ce731",
        "IPY_MODEL_24373ded9a3b45c4bf355e40b84c0243",
        "IPY_MODEL_f9bd5549aac645ff87a0b741c701e788"
       ],
       "layout": "IPY_MODEL_8b04c5c74cd44e88889c536c6ac85244"
      }
     },
     "d5c282ef678449b19aa52c72fd7b125a": {
      "model_module": "@jupyter-widgets/base",
      "model_module_version": "2.0.0",
      "model_name": "LayoutModel",
      "state": {}
     },
     "d5d294ac70ff43a3b50c52b8fbf376e8": {
      "model_module": "@jupyter-widgets/base",
      "model_module_version": "2.0.0",
      "model_name": "LayoutModel",
      "state": {}
     },
     "d5ee2c24b2ea4756bf63968cf0f08e50": {
      "model_module": "@jupyter-widgets/controls",
      "model_module_version": "2.0.0",
      "model_name": "FloatProgressModel",
      "state": {
       "bar_style": "danger",
       "layout": "IPY_MODEL_abb5d3b2df7649bd8c5bb8d367081e93",
       "max": 10,
       "style": "IPY_MODEL_6c106711be7f4f258ee3b95636010569",
       "value": 4
      }
     },
     "d60f5f6a56334727a49f9bf875e426b1": {
      "model_module": "@jupyter-widgets/controls",
      "model_module_version": "2.0.0",
      "model_name": "HTMLModel",
      "state": {
       "layout": "IPY_MODEL_beeea4db649148ed8d4938bdd164943d",
       "style": "IPY_MODEL_6ec2907365534256979f4f22df308122",
       "value": "100%"
      }
     },
     "d62c982592db4dcea7f8bc6e07d76c72": {
      "model_module": "@jupyter-widgets/controls",
      "model_module_version": "2.0.0",
      "model_name": "ProgressStyleModel",
      "state": {
       "description_width": ""
      }
     },
     "d6516542dbac439c86954d7e11f90ba2": {
      "model_module": "@jupyter-widgets/controls",
      "model_module_version": "2.0.0",
      "model_name": "HTMLStyleModel",
      "state": {
       "description_width": "",
       "font_size": null,
       "text_color": null
      }
     },
     "d659919370e6464692c0d2c6a3baf34e": {
      "model_module": "@jupyter-widgets/controls",
      "model_module_version": "2.0.0",
      "model_name": "HTMLStyleModel",
      "state": {
       "description_width": "",
       "font_size": null,
       "text_color": null
      }
     },
     "d6a123f2883e42e8b32c4792fa1b33c3": {
      "model_module": "@jupyter-widgets/base",
      "model_module_version": "2.0.0",
      "model_name": "LayoutModel",
      "state": {}
     },
     "d71a6103b3484f059ccea6fe20ca0ec0": {
      "model_module": "@jupyter-widgets/controls",
      "model_module_version": "2.0.0",
      "model_name": "FloatProgressModel",
      "state": {
       "bar_style": "success",
       "layout": "IPY_MODEL_0029a213cd574a538d4333f4aa551a58",
       "max": 10,
       "style": "IPY_MODEL_25b560dffbc541af83a2faf1b5e7af99",
       "value": 10
      }
     },
     "d74876c3d34e4f6f93d7577552f36967": {
      "model_module": "@jupyter-widgets/base",
      "model_module_version": "2.0.0",
      "model_name": "LayoutModel",
      "state": {}
     },
     "d7494718b8af48109b7ee0f89a5b61bd": {
      "model_module": "@jupyter-widgets/controls",
      "model_module_version": "2.0.0",
      "model_name": "HTMLStyleModel",
      "state": {
       "description_width": "",
       "font_size": null,
       "text_color": null
      }
     },
     "d7f7e5110cef4b2da955f89c512c2963": {
      "model_module": "@jupyter-widgets/controls",
      "model_module_version": "2.0.0",
      "model_name": "HTMLModel",
      "state": {
       "layout": "IPY_MODEL_aa6ae8b0a64146aca9ba72d762df2149",
       "style": "IPY_MODEL_74f160642be949619aebfaf08e05023c",
       "value": " 4/10 [00:08&lt;00:12,  2.02s/it]"
      }
     },
     "d87705457b7543518b1262b6c6c62fc1": {
      "model_module": "@jupyter-widgets/controls",
      "model_module_version": "2.0.0",
      "model_name": "HTMLModel",
      "state": {
       "layout": "IPY_MODEL_b68d5f9e2610411d8f94f82857b70c00",
       "style": "IPY_MODEL_30679a7aa16f4f7692bc4a05abc90a08",
       "value": " 10/10 [00:14&lt;00:00,  1.42s/it]"
      }
     },
     "d9099f3a7e1243ed91fdbecde3b73442": {
      "model_module": "@jupyter-widgets/base",
      "model_module_version": "2.0.0",
      "model_name": "LayoutModel",
      "state": {}
     },
     "d909dd70123e40a1867515baf7a292c8": {
      "model_module": "@jupyter-widgets/base",
      "model_module_version": "2.0.0",
      "model_name": "LayoutModel",
      "state": {}
     },
     "d90f628f5cfd4e85867ebc7af3bb163f": {
      "model_module": "@jupyter-widgets/controls",
      "model_module_version": "2.0.0",
      "model_name": "HTMLStyleModel",
      "state": {
       "description_width": "",
       "font_size": null,
       "text_color": null
      }
     },
     "d92ee918be1543fc8ed6c7ee549b7cc3": {
      "model_module": "@jupyter-widgets/controls",
      "model_module_version": "2.0.0",
      "model_name": "FloatProgressModel",
      "state": {
       "bar_style": "success",
       "layout": "IPY_MODEL_720d57617c524a97ac2a9a75b3fdfcca",
       "max": 10,
       "style": "IPY_MODEL_775dcc45d2744b3fbcd1e86e3a213458",
       "value": 10
      }
     },
     "d9656c12b9b047269ffef52148864805": {
      "model_module": "@jupyter-widgets/controls",
      "model_module_version": "2.0.0",
      "model_name": "HTMLStyleModel",
      "state": {
       "description_width": "",
       "font_size": null,
       "text_color": null
      }
     },
     "d98fbcfff1ab4023850908039b0bb61b": {
      "model_module": "@jupyter-widgets/base",
      "model_module_version": "2.0.0",
      "model_name": "LayoutModel",
      "state": {}
     },
     "d99987cc932843079f495ff308dfed38": {
      "model_module": "@jupyter-widgets/controls",
      "model_module_version": "2.0.0",
      "model_name": "FloatProgressModel",
      "state": {
       "bar_style": "success",
       "layout": "IPY_MODEL_7c02b4270d17436c9911955b7ff8d4d0",
       "max": 10,
       "style": "IPY_MODEL_6361685dbe56426c84be6d5cfe67748f",
       "value": 10
      }
     },
     "d9b17b5dee4a439699ec48f9e52dc76e": {
      "model_module": "@jupyter-widgets/controls",
      "model_module_version": "2.0.0",
      "model_name": "HTMLModel",
      "state": {
       "layout": "IPY_MODEL_f9ca4aeb4e6e4c0aa0ca5a3a6ac02990",
       "style": "IPY_MODEL_a3e8d6f69b0544c2a4050494fc4fa6fd",
       "value": " 10/10 [00:15&lt;00:00,  1.61s/it]"
      }
     },
     "da8e8acfdf7742ab83dcdac700e97882": {
      "model_module": "@jupyter-widgets/controls",
      "model_module_version": "2.0.0",
      "model_name": "ProgressStyleModel",
      "state": {
       "description_width": ""
      }
     },
     "da9d6526337c44c3a7a529f7d5c9027a": {
      "model_module": "@jupyter-widgets/base",
      "model_module_version": "2.0.0",
      "model_name": "LayoutModel",
      "state": {}
     },
     "daa0b6ac12fc445092cbd99c28272e15": {
      "model_module": "@jupyter-widgets/controls",
      "model_module_version": "2.0.0",
      "model_name": "HTMLStyleModel",
      "state": {
       "description_width": "",
       "font_size": null,
       "text_color": null
      }
     },
     "daeb35ee8d2f4da3b2f3a851d3e97941": {
      "model_module": "@jupyter-widgets/controls",
      "model_module_version": "2.0.0",
      "model_name": "FloatProgressModel",
      "state": {
       "bar_style": "success",
       "layout": "IPY_MODEL_84873764eca949bcacb76ad1ac61d91c",
       "max": 10,
       "style": "IPY_MODEL_f6537333ba684666880916d33449c962",
       "value": 10
      }
     },
     "daf008ded29f4359baddc7187cd8680a": {
      "model_module": "@jupyter-widgets/base",
      "model_module_version": "2.0.0",
      "model_name": "LayoutModel",
      "state": {}
     },
     "daf151705a3d4c06a3f6c550b23573e2": {
      "model_module": "@jupyter-widgets/controls",
      "model_module_version": "2.0.0",
      "model_name": "HTMLModel",
      "state": {
       "layout": "IPY_MODEL_56cca2b6382c4d9ab19d9ce90d9bb1c7",
       "style": "IPY_MODEL_f0daf38ed07f4a61af628615d8891865",
       "value": "100%"
      }
     },
     "db85268d72ba4b4d8680f00a08584f57": {
      "model_module": "@jupyter-widgets/controls",
      "model_module_version": "2.0.0",
      "model_name": "HTMLStyleModel",
      "state": {
       "description_width": "",
       "font_size": null,
       "text_color": null
      }
     },
     "db92303d33b9433b90fe9bdab1233e67": {
      "model_module": "@jupyter-widgets/controls",
      "model_module_version": "2.0.0",
      "model_name": "HBoxModel",
      "state": {
       "children": [
        "IPY_MODEL_5628d4a11b5c48b09a80f6563138bd19",
        "IPY_MODEL_30d04a3620b849dd8a3096b53a19b045",
        "IPY_MODEL_0be1853b96364b7ebb5752328208ed29"
       ],
       "layout": "IPY_MODEL_a27e314d8727485daba5a6cbbb438707"
      }
     },
     "dc138c6356a549b1a75a3064b0d60bd8": {
      "model_module": "@jupyter-widgets/controls",
      "model_module_version": "2.0.0",
      "model_name": "HTMLModel",
      "state": {
       "layout": "IPY_MODEL_fb7ef6c624104908b72467b91f382ca8",
       "style": "IPY_MODEL_dd96c76d4a0d42b4ac90d390b796eeff",
       "value": " 0/10 [00:00&lt;?, ?it/s]"
      }
     },
     "dc9a35b726b547d89432c01b2005d089": {
      "model_module": "@jupyter-widgets/controls",
      "model_module_version": "2.0.0",
      "model_name": "FloatProgressModel",
      "state": {
       "bar_style": "success",
       "layout": "IPY_MODEL_8c1c9df07fe1410b804342b5781df052",
       "max": 10,
       "style": "IPY_MODEL_d2069c841a994a6a8b167271aa3b2195",
       "value": 10
      }
     },
     "dcf189c8d7d9405685a3af7ddc3c991d": {
      "model_module": "@jupyter-widgets/controls",
      "model_module_version": "2.0.0",
      "model_name": "HTMLModel",
      "state": {
       "layout": "IPY_MODEL_9eac6c3109a24221b4230a0c6e5baa67",
       "style": "IPY_MODEL_e9f489dc67ba491dada692f81c14a842",
       "value": "100%"
      }
     },
     "dd96c76d4a0d42b4ac90d390b796eeff": {
      "model_module": "@jupyter-widgets/controls",
      "model_module_version": "2.0.0",
      "model_name": "HTMLStyleModel",
      "state": {
       "description_width": "",
       "font_size": null,
       "text_color": null
      }
     },
     "dea4e1502df24cf7a07740ca2eaa557f": {
      "model_module": "@jupyter-widgets/controls",
      "model_module_version": "2.0.0",
      "model_name": "HTMLModel",
      "state": {
       "layout": "IPY_MODEL_22ae53c88e0d480b8cee0eadd9e21219",
       "style": "IPY_MODEL_bb8a1069904b4b3bbc4a71505b0e0c45",
       "value": "100%"
      }
     },
     "dee2007119974b3da768eef3e5bd9111": {
      "model_module": "@jupyter-widgets/base",
      "model_module_version": "2.0.0",
      "model_name": "LayoutModel",
      "state": {}
     },
     "df933cabbfe54256a241c5ff674965dc": {
      "model_module": "@jupyter-widgets/base",
      "model_module_version": "2.0.0",
      "model_name": "LayoutModel",
      "state": {}
     },
     "dfbed1eb4e464eaa9a801327b4437fc3": {
      "model_module": "@jupyter-widgets/base",
      "model_module_version": "2.0.0",
      "model_name": "LayoutModel",
      "state": {}
     },
     "e0406f6a866347c89cd464166271f635": {
      "model_module": "@jupyter-widgets/controls",
      "model_module_version": "2.0.0",
      "model_name": "HTMLStyleModel",
      "state": {
       "description_width": "",
       "font_size": null,
       "text_color": null
      }
     },
     "e0e7f8d571ea4813a8b37781df38963e": {
      "model_module": "@jupyter-widgets/controls",
      "model_module_version": "2.0.0",
      "model_name": "HTMLModel",
      "state": {
       "layout": "IPY_MODEL_f2da0269361f46f5a4a4a6da1294ca77",
       "style": "IPY_MODEL_d9656c12b9b047269ffef52148864805",
       "value": "100%"
      }
     },
     "e0f20b3251f449da8aa5876019ca2343": {
      "model_module": "@jupyter-widgets/controls",
      "model_module_version": "2.0.0",
      "model_name": "HBoxModel",
      "state": {
       "children": [
        "IPY_MODEL_c01a0f6509274f04854bca30208ecf3a",
        "IPY_MODEL_2ba0dbc5d147414b85e3279e9f2d2b8b",
        "IPY_MODEL_6bb651a56d5c4f12a80a3d4d3a500a31"
       ],
       "layout": "IPY_MODEL_bbb3de17626245c9b9e65dfc6f844faf"
      }
     },
     "e12410dff95d43e5bc9ea1a18aa614b9": {
      "model_module": "@jupyter-widgets/base",
      "model_module_version": "2.0.0",
      "model_name": "LayoutModel",
      "state": {}
     },
     "e13e1b6cc05b435a9bd393480b583f49": {
      "model_module": "@jupyter-widgets/base",
      "model_module_version": "2.0.0",
      "model_name": "LayoutModel",
      "state": {}
     },
     "e1623dd0c8a74d0ab93c5ab2d093994e": {
      "model_module": "@jupyter-widgets/controls",
      "model_module_version": "2.0.0",
      "model_name": "HTMLStyleModel",
      "state": {
       "description_width": "",
       "font_size": null,
       "text_color": null
      }
     },
     "e1b81e6f00cd4060b4ec6b522c5c1d01": {
      "model_module": "@jupyter-widgets/controls",
      "model_module_version": "2.0.0",
      "model_name": "HTMLModel",
      "state": {
       "layout": "IPY_MODEL_747083c24891469f8bc511c8e790d6a0",
       "style": "IPY_MODEL_6f22c6be29c24506a0948032ba8dabee",
       "value": "100%"
      }
     },
     "e27cc7ffa3604480afd4eee74e8c4c44": {
      "model_module": "@jupyter-widgets/base",
      "model_module_version": "2.0.0",
      "model_name": "LayoutModel",
      "state": {}
     },
     "e2940cd8ebd847bfa319940119fce947": {
      "model_module": "@jupyter-widgets/controls",
      "model_module_version": "2.0.0",
      "model_name": "HTMLModel",
      "state": {
       "layout": "IPY_MODEL_7417ad50c1d845c1aa2f7817d33a4427",
       "style": "IPY_MODEL_75ed98b3c8c948a783f74d0f80074228",
       "value": " 0/10 [00:00&lt;?, ?it/s]"
      }
     },
     "e2ba09698b5142ea86dbc833fe187729": {
      "model_module": "@jupyter-widgets/controls",
      "model_module_version": "2.0.0",
      "model_name": "HTMLModel",
      "state": {
       "layout": "IPY_MODEL_91288b7bb62e4defb94cca4d41d7e44e",
       "style": "IPY_MODEL_89731be099374d9898ab108ec1a3ee01",
       "value": "100%"
      }
     },
     "e2c9d13d11c44cb39199b414f8d67b7c": {
      "model_module": "@jupyter-widgets/controls",
      "model_module_version": "2.0.0",
      "model_name": "HBoxModel",
      "state": {
       "children": [
        "IPY_MODEL_41e83882f89847859e751c79c722d9a8",
        "IPY_MODEL_aaf0c5e2a22544e4b407e2060ea1dc6d",
        "IPY_MODEL_89edbfec4c904bc3933ea2d06e0f0844"
       ],
       "layout": "IPY_MODEL_e89f327e63e740239bd29746171b5f4b"
      }
     },
     "e2dd235a679840718d09f3be18141c5f": {
      "model_module": "@jupyter-widgets/controls",
      "model_module_version": "2.0.0",
      "model_name": "HTMLStyleModel",
      "state": {
       "description_width": "",
       "font_size": null,
       "text_color": null
      }
     },
     "e36a21cc36c24d978aa0fdb40e104c03": {
      "model_module": "@jupyter-widgets/base",
      "model_module_version": "2.0.0",
      "model_name": "LayoutModel",
      "state": {}
     },
     "e399ecdc4fa84131b9e9bd3750e37d66": {
      "model_module": "@jupyter-widgets/controls",
      "model_module_version": "2.0.0",
      "model_name": "HTMLModel",
      "state": {
       "layout": "IPY_MODEL_c197786af4e54ff7a625bcbf31e37051",
       "style": "IPY_MODEL_e63e860d3836429c955b9d801cf8b0d3",
       "value": "100%"
      }
     },
     "e39e2ff8c6af4f69bcfcdf1c33774dda": {
      "model_module": "@jupyter-widgets/controls",
      "model_module_version": "2.0.0",
      "model_name": "HTMLModel",
      "state": {
       "layout": "IPY_MODEL_d909dd70123e40a1867515baf7a292c8",
       "style": "IPY_MODEL_948875f1d27b45e18ed57afae4136037",
       "value": " 10/10 [00:21&lt;00:00,  2.22s/it]"
      }
     },
     "e3c12787c9944ee88a050f9ce7dc9a9f": {
      "model_module": "@jupyter-widgets/controls",
      "model_module_version": "2.0.0",
      "model_name": "FloatProgressModel",
      "state": {
       "bar_style": "danger",
       "layout": "IPY_MODEL_f83fed25a7cc4387ae4cc4f6c6a7bf93",
       "max": 21,
       "style": "IPY_MODEL_9fc78395b7f5487a988a20d1bff11a96"
      }
     },
     "e442eb1185664902a011a3c683d59d2a": {
      "model_module": "@jupyter-widgets/base",
      "model_module_version": "2.0.0",
      "model_name": "LayoutModel",
      "state": {}
     },
     "e4784876e9254a55955ea4c0ab79228d": {
      "model_module": "@jupyter-widgets/base",
      "model_module_version": "2.0.0",
      "model_name": "LayoutModel",
      "state": {}
     },
     "e48721d511574bfe850ee7ea164d69d8": {
      "model_module": "@jupyter-widgets/controls",
      "model_module_version": "2.0.0",
      "model_name": "HTMLStyleModel",
      "state": {
       "description_width": "",
       "font_size": null,
       "text_color": null
      }
     },
     "e56c000a88214c20b8d0d359f798f3cd": {
      "model_module": "@jupyter-widgets/controls",
      "model_module_version": "2.0.0",
      "model_name": "FloatProgressModel",
      "state": {
       "bar_style": "success",
       "layout": "IPY_MODEL_210a92c0b6a548349dfcf2ca846f13b5",
       "max": 10,
       "style": "IPY_MODEL_fe80c8bb81c04a07b45b306324c9c2b8",
       "value": 10
      }
     },
     "e5b60ac730c6432ebabe863183813ff0": {
      "model_module": "@jupyter-widgets/controls",
      "model_module_version": "2.0.0",
      "model_name": "HBoxModel",
      "state": {
       "children": [
        "IPY_MODEL_daf151705a3d4c06a3f6c550b23573e2",
        "IPY_MODEL_146c0150daad4e31a8502e313dcb109d",
        "IPY_MODEL_66a725e211794f69a4ebada494f95e69"
       ],
       "layout": "IPY_MODEL_18e24a4fc19d47faa001a2ea3153cf2a"
      }
     },
     "e5f85a7b7fc04bba814d6be97afb02f9": {
      "model_module": "@jupyter-widgets/base",
      "model_module_version": "2.0.0",
      "model_name": "LayoutModel",
      "state": {}
     },
     "e62e4d0af10642e5bb45ce10a74e4fb8": {
      "model_module": "@jupyter-widgets/base",
      "model_module_version": "2.0.0",
      "model_name": "LayoutModel",
      "state": {}
     },
     "e63e860d3836429c955b9d801cf8b0d3": {
      "model_module": "@jupyter-widgets/controls",
      "model_module_version": "2.0.0",
      "model_name": "HTMLStyleModel",
      "state": {
       "description_width": "",
       "font_size": null,
       "text_color": null
      }
     },
     "e6d45d8c9d8e49bc80ad85d2a2c2ec49": {
      "model_module": "@jupyter-widgets/base",
      "model_module_version": "2.0.0",
      "model_name": "LayoutModel",
      "state": {}
     },
     "e6f97431091b443398ff2f99b64d41e0": {
      "model_module": "@jupyter-widgets/controls",
      "model_module_version": "2.0.0",
      "model_name": "HTMLStyleModel",
      "state": {
       "description_width": "",
       "font_size": null,
       "text_color": null
      }
     },
     "e723dfbc4d854a80ac207c1bdad8fb71": {
      "model_module": "@jupyter-widgets/controls",
      "model_module_version": "2.0.0",
      "model_name": "HBoxModel",
      "state": {
       "children": [
        "IPY_MODEL_5687aad737de464e8c20627538c710f5",
        "IPY_MODEL_b37eddb7497d41c2ab3aa569bd067dca",
        "IPY_MODEL_a1003eeb11f34ccabb0ab553561db2cc"
       ],
       "layout": "IPY_MODEL_f8552507b6c14718901de0dc8ed8e7c4"
      }
     },
     "e736af5e1a734262bcca6627c1fcfc90": {
      "model_module": "@jupyter-widgets/base",
      "model_module_version": "2.0.0",
      "model_name": "LayoutModel",
      "state": {}
     },
     "e75ae62a5a894b1092925c94d2dc6f41": {
      "model_module": "@jupyter-widgets/base",
      "model_module_version": "2.0.0",
      "model_name": "LayoutModel",
      "state": {}
     },
     "e771f571e8a742b89f4aa60cca92e6f9": {
      "model_module": "@jupyter-widgets/controls",
      "model_module_version": "2.0.0",
      "model_name": "HTMLModel",
      "state": {
       "layout": "IPY_MODEL_e442eb1185664902a011a3c683d59d2a",
       "style": "IPY_MODEL_07050a968bf441c4af94cda11776f3f9",
       "value": "100%"
      }
     },
     "e789826b277c47b5abf3aca6cb77f368": {
      "model_module": "@jupyter-widgets/base",
      "model_module_version": "2.0.0",
      "model_name": "LayoutModel",
      "state": {}
     },
     "e800b2594a8b47e89af313a9edff9336": {
      "model_module": "@jupyter-widgets/base",
      "model_module_version": "2.0.0",
      "model_name": "LayoutModel",
      "state": {}
     },
     "e802052dd6e4406d92f8fd6def0c61eb": {
      "model_module": "@jupyter-widgets/base",
      "model_module_version": "2.0.0",
      "model_name": "LayoutModel",
      "state": {}
     },
     "e8081d6dc08643f7890fad7b703acc5c": {
      "model_module": "@jupyter-widgets/base",
      "model_module_version": "2.0.0",
      "model_name": "LayoutModel",
      "state": {}
     },
     "e81105210b0148febf69213106899fbd": {
      "model_module": "@jupyter-widgets/controls",
      "model_module_version": "2.0.0",
      "model_name": "HTMLModel",
      "state": {
       "layout": "IPY_MODEL_625e12553d934dd5a89f4553f8447ae1",
       "style": "IPY_MODEL_b8f9f8b6e3d3460699c9f12769032408",
       "value": " 10/10 [00:17&lt;00:00,  1.60s/it]"
      }
     },
     "e81ec8d8ef214d74bb9f9dddabe3cb59": {
      "model_module": "@jupyter-widgets/controls",
      "model_module_version": "2.0.0",
      "model_name": "HTMLStyleModel",
      "state": {
       "description_width": "",
       "font_size": null,
       "text_color": null
      }
     },
     "e820e1a2369642149038465f242157fc": {
      "model_module": "@jupyter-widgets/controls",
      "model_module_version": "2.0.0",
      "model_name": "HTMLModel",
      "state": {
       "layout": "IPY_MODEL_b543ffb7e71543fc85d7033c6a837f7d",
       "style": "IPY_MODEL_81b09619753849709f0adf6d7c700b98",
       "value": " 21/21 [05:35&lt;00:00, 14.76s/it]"
      }
     },
     "e87d252b24054d508ae4e8518e2579b2": {
      "model_module": "@jupyter-widgets/controls",
      "model_module_version": "2.0.0",
      "model_name": "HBoxModel",
      "state": {
       "children": [
        "IPY_MODEL_53be5539ef9644b0a025663fee21d683",
        "IPY_MODEL_ab85c541635d417f9359e652f5a8a4fd",
        "IPY_MODEL_c2d2166b1e254ca3acde2adb4cc26ce5"
       ],
       "layout": "IPY_MODEL_4434d01b035842c688c572275c69bcf3"
      }
     },
     "e89f327e63e740239bd29746171b5f4b": {
      "model_module": "@jupyter-widgets/base",
      "model_module_version": "2.0.0",
      "model_name": "LayoutModel",
      "state": {}
     },
     "e921cd4e65fc400f817c29f30cfdfab5": {
      "model_module": "@jupyter-widgets/controls",
      "model_module_version": "2.0.0",
      "model_name": "HTMLStyleModel",
      "state": {
       "description_width": "",
       "font_size": null,
       "text_color": null
      }
     },
     "e94627c70c5a4c51bf8317be16e38c1f": {
      "model_module": "@jupyter-widgets/base",
      "model_module_version": "2.0.0",
      "model_name": "LayoutModel",
      "state": {}
     },
     "e98bdd9546a74d328d95836c6de87d5d": {
      "model_module": "@jupyter-widgets/controls",
      "model_module_version": "2.0.0",
      "model_name": "HTMLStyleModel",
      "state": {
       "description_width": "",
       "font_size": null,
       "text_color": null
      }
     },
     "e9f489dc67ba491dada692f81c14a842": {
      "model_module": "@jupyter-widgets/controls",
      "model_module_version": "2.0.0",
      "model_name": "HTMLStyleModel",
      "state": {
       "description_width": "",
       "font_size": null,
       "text_color": null
      }
     },
     "ea77870ed95b49838a40911c35eb9685": {
      "model_module": "@jupyter-widgets/base",
      "model_module_version": "2.0.0",
      "model_name": "LayoutModel",
      "state": {}
     },
     "eaa734397f6c43afb8d188ad9e2333bb": {
      "model_module": "@jupyter-widgets/controls",
      "model_module_version": "2.0.0",
      "model_name": "HTMLModel",
      "state": {
       "layout": "IPY_MODEL_1b4af29ff8b34ebf84a10e5d75bdb3f6",
       "style": "IPY_MODEL_c58de91b6e864b35a370c17daee378ec",
       "value": " 10/10 [00:14&lt;00:00,  1.47s/it]"
      }
     },
     "eb208ee2f0f34e4499e5c88d2019206c": {
      "model_module": "@jupyter-widgets/base",
      "model_module_version": "2.0.0",
      "model_name": "LayoutModel",
      "state": {}
     },
     "eb292b005bab44b1ad25e5a49afc5a61": {
      "model_module": "@jupyter-widgets/controls",
      "model_module_version": "2.0.0",
      "model_name": "ProgressStyleModel",
      "state": {
       "description_width": ""
      }
     },
     "eb40a94bea5146df9c1f8a2bee59072d": {
      "model_module": "@jupyter-widgets/controls",
      "model_module_version": "2.0.0",
      "model_name": "FloatProgressModel",
      "state": {
       "bar_style": "success",
       "layout": "IPY_MODEL_3e96988c3a4c4c10aee78cda295837cf",
       "max": 10,
       "style": "IPY_MODEL_0c9317b1031c42dbad3898858d70a6a9",
       "value": 10
      }
     },
     "eb4a396edd3a4c44b1e41c6a757ff138": {
      "model_module": "@jupyter-widgets/controls",
      "model_module_version": "2.0.0",
      "model_name": "ProgressStyleModel",
      "state": {
       "description_width": ""
      }
     },
     "ebb32071009345d8bd2cfa3f576f6d24": {
      "model_module": "@jupyter-widgets/controls",
      "model_module_version": "2.0.0",
      "model_name": "HTMLStyleModel",
      "state": {
       "description_width": "",
       "font_size": null,
       "text_color": null
      }
     },
     "ebec9d2a47a84e7d9afd8e8e05d3ccdf": {
      "model_module": "@jupyter-widgets/controls",
      "model_module_version": "2.0.0",
      "model_name": "ProgressStyleModel",
      "state": {
       "description_width": ""
      }
     },
     "ec00d95f180846338d8e90cdbcb5f504": {
      "model_module": "@jupyter-widgets/base",
      "model_module_version": "2.0.0",
      "model_name": "LayoutModel",
      "state": {}
     },
     "ec8095006e3346b09f55010ef85c91c5": {
      "model_module": "@jupyter-widgets/controls",
      "model_module_version": "2.0.0",
      "model_name": "HTMLStyleModel",
      "state": {
       "description_width": "",
       "font_size": null,
       "text_color": null
      }
     },
     "ec84ce90c2d344b288d8ca512f915cd3": {
      "model_module": "@jupyter-widgets/base",
      "model_module_version": "2.0.0",
      "model_name": "LayoutModel",
      "state": {}
     },
     "ecca25cf282444e49541eade254a1252": {
      "model_module": "@jupyter-widgets/controls",
      "model_module_version": "2.0.0",
      "model_name": "FloatProgressModel",
      "state": {
       "bar_style": "success",
       "layout": "IPY_MODEL_4de163a3fec74b1a8fd7f98761a411d8",
       "max": 21,
       "style": "IPY_MODEL_91b2bdc433b24976a7ecf3ac7f74ff3f",
       "value": 21
      }
     },
     "ee0f4492106a4567a6255f772b058b25": {
      "model_module": "@jupyter-widgets/controls",
      "model_module_version": "2.0.0",
      "model_name": "HTMLModel",
      "state": {
       "layout": "IPY_MODEL_16a3ad0c60f2422292b5c775b0929a6b",
       "style": "IPY_MODEL_c75c3fa4649849e5894979cb21fd4fe7",
       "value": "100%"
      }
     },
     "ee0f59598fcf4bbea6706bf3dc7fcc97": {
      "model_module": "@jupyter-widgets/controls",
      "model_module_version": "2.0.0",
      "model_name": "HTMLModel",
      "state": {
       "layout": "IPY_MODEL_a1f63b801102433e8eb825e8d58d28cb",
       "style": "IPY_MODEL_8fdb5dd18ed047b7905a5b43e6ce6662",
       "value": " 10/10 [00:15&lt;00:00,  1.51s/it]"
      }
     },
     "ee6bdf80a254496f932ad3b13852d3e2": {
      "model_module": "@jupyter-widgets/controls",
      "model_module_version": "2.0.0",
      "model_name": "FloatProgressModel",
      "state": {
       "bar_style": "danger",
       "layout": "IPY_MODEL_6e39e30df83b406cb9aba4f2f90ac21b",
       "max": 10,
       "style": "IPY_MODEL_4e9d9ae19ce641bdae1d327bb7257cff",
       "value": 4
      }
     },
     "eef19c5d4ad9418aa022c01c0b080ed5": {
      "model_module": "@jupyter-widgets/base",
      "model_module_version": "2.0.0",
      "model_name": "LayoutModel",
      "state": {}
     },
     "ef1afde67b304342a55e390a5c2ee39c": {
      "model_module": "@jupyter-widgets/controls",
      "model_module_version": "2.0.0",
      "model_name": "HTMLStyleModel",
      "state": {
       "description_width": "",
       "font_size": null,
       "text_color": null
      }
     },
     "ef97a6d15bd54367bb6f0fe90ce984ee": {
      "model_module": "@jupyter-widgets/base",
      "model_module_version": "2.0.0",
      "model_name": "LayoutModel",
      "state": {}
     },
     "efc10cbb5f7b42dda254f7832fd920a3": {
      "model_module": "@jupyter-widgets/base",
      "model_module_version": "2.0.0",
      "model_name": "LayoutModel",
      "state": {}
     },
     "efe782f274e248e284f510823ff3103b": {
      "model_module": "@jupyter-widgets/base",
      "model_module_version": "2.0.0",
      "model_name": "LayoutModel",
      "state": {}
     },
     "eff317bf493a41b7ada966082848e24d": {
      "model_module": "@jupyter-widgets/base",
      "model_module_version": "2.0.0",
      "model_name": "LayoutModel",
      "state": {}
     },
     "f0c790ee01a74d31ad8042ca2ff6a597": {
      "model_module": "@jupyter-widgets/controls",
      "model_module_version": "2.0.0",
      "model_name": "HTMLStyleModel",
      "state": {
       "description_width": "",
       "font_size": null,
       "text_color": null
      }
     },
     "f0daf38ed07f4a61af628615d8891865": {
      "model_module": "@jupyter-widgets/controls",
      "model_module_version": "2.0.0",
      "model_name": "HTMLStyleModel",
      "state": {
       "description_width": "",
       "font_size": null,
       "text_color": null
      }
     },
     "f0e4dbb256ad49beb822b42c8707c278": {
      "model_module": "@jupyter-widgets/controls",
      "model_module_version": "2.0.0",
      "model_name": "HBoxModel",
      "state": {
       "children": [
        "IPY_MODEL_2873ca6b44dd487da1ab6a81f9688a2f",
        "IPY_MODEL_468ca5f986244e268505142935ae2f80",
        "IPY_MODEL_35dff74cde194ff48e7f7f716d6dc650"
       ],
       "layout": "IPY_MODEL_71b7899d66e64d0689ca206964f52350"
      }
     },
     "f1326f2869234a3a9f9b947b2b208a57": {
      "model_module": "@jupyter-widgets/controls",
      "model_module_version": "2.0.0",
      "model_name": "HTMLStyleModel",
      "state": {
       "description_width": "",
       "font_size": null,
       "text_color": null
      }
     },
     "f1935718cba848ca941268301d4df071": {
      "model_module": "@jupyter-widgets/base",
      "model_module_version": "2.0.0",
      "model_name": "LayoutModel",
      "state": {}
     },
     "f1b01a3e2b434e3e8e7ddddb2f03f792": {
      "model_module": "@jupyter-widgets/base",
      "model_module_version": "2.0.0",
      "model_name": "LayoutModel",
      "state": {}
     },
     "f1c519b91ca5400d8fae2830e92df05c": {
      "model_module": "@jupyter-widgets/controls",
      "model_module_version": "2.0.0",
      "model_name": "FloatProgressModel",
      "state": {
       "bar_style": "success",
       "layout": "IPY_MODEL_65ba554e3555447a9331248820110c81",
       "max": 10,
       "style": "IPY_MODEL_5e9d710c184c4ec5a3ec323c9f644301",
       "value": 10
      }
     },
     "f245c898ca314df9a629e523eefd2f09": {
      "model_module": "@jupyter-widgets/base",
      "model_module_version": "2.0.0",
      "model_name": "LayoutModel",
      "state": {}
     },
     "f26f34c7879446e89048efd75e9d5e9b": {
      "model_module": "@jupyter-widgets/controls",
      "model_module_version": "2.0.0",
      "model_name": "HTMLModel",
      "state": {
       "layout": "IPY_MODEL_a8ac2036adf7482980d338cb60808d07",
       "style": "IPY_MODEL_8b097c1d57d54d308e9f6985436622da",
       "value": "100%"
      }
     },
     "f2777b78ff1f439893bed496fa5ee1a3": {
      "model_module": "@jupyter-widgets/base",
      "model_module_version": "2.0.0",
      "model_name": "LayoutModel",
      "state": {}
     },
     "f278b8be77de442db55314c987eae018": {
      "model_module": "@jupyter-widgets/controls",
      "model_module_version": "2.0.0",
      "model_name": "FloatProgressModel",
      "state": {
       "bar_style": "success",
       "layout": "IPY_MODEL_79600906b12e44788de40898f360d0d2",
       "max": 10,
       "style": "IPY_MODEL_aafd0ddd31004dc5ad747e05d5dcf083",
       "value": 10
      }
     },
     "f27ec0657f534fa3b27acee03e9f4615": {
      "model_module": "@jupyter-widgets/controls",
      "model_module_version": "2.0.0",
      "model_name": "ProgressStyleModel",
      "state": {
       "description_width": ""
      }
     },
     "f28a14749a794c169435a009fd39eee6": {
      "model_module": "@jupyter-widgets/base",
      "model_module_version": "2.0.0",
      "model_name": "LayoutModel",
      "state": {}
     },
     "f2da0269361f46f5a4a4a6da1294ca77": {
      "model_module": "@jupyter-widgets/base",
      "model_module_version": "2.0.0",
      "model_name": "LayoutModel",
      "state": {}
     },
     "f2fee8b325b9469d9b570b7f5229c555": {
      "model_module": "@jupyter-widgets/controls",
      "model_module_version": "2.0.0",
      "model_name": "HBoxModel",
      "state": {
       "children": [
        "IPY_MODEL_d60f5f6a56334727a49f9bf875e426b1",
        "IPY_MODEL_0b133c36183248b084cd46240e85bfdf",
        "IPY_MODEL_2cbf0961a69c4c51bc944a1a57556013"
       ],
       "layout": "IPY_MODEL_94bbe11cd8284f8f856c533e35b36825"
      }
     },
     "f30b30160657417db540e931bf61e522": {
      "model_module": "@jupyter-widgets/controls",
      "model_module_version": "2.0.0",
      "model_name": "FloatProgressModel",
      "state": {
       "bar_style": "success",
       "layout": "IPY_MODEL_04df210ca615435b81cfd612c42c4133",
       "max": 10,
       "style": "IPY_MODEL_149d09a8e2bb4141ab3516840a26f3e6",
       "value": 10
      }
     },
     "f3a15eb0683149c08fd19363c5e0a943": {
      "model_module": "@jupyter-widgets/base",
      "model_module_version": "2.0.0",
      "model_name": "LayoutModel",
      "state": {}
     },
     "f3a3ae92562041549bfe2ac278b8ffea": {
      "model_module": "@jupyter-widgets/controls",
      "model_module_version": "2.0.0",
      "model_name": "HTMLModel",
      "state": {
       "layout": "IPY_MODEL_e36a21cc36c24d978aa0fdb40e104c03",
       "style": "IPY_MODEL_0d5f324d688b4351ab75292c65503600",
       "value": " 10/10 [00:14&lt;00:00,  1.48s/it]"
      }
     },
     "f3a963b5d3fd4f2198e12c441b79f945": {
      "model_module": "@jupyter-widgets/base",
      "model_module_version": "2.0.0",
      "model_name": "LayoutModel",
      "state": {}
     },
     "f3b24722d73e4ac38f4aa1fbf8810c64": {
      "model_module": "@jupyter-widgets/controls",
      "model_module_version": "2.0.0",
      "model_name": "ProgressStyleModel",
      "state": {
       "description_width": ""
      }
     },
     "f3b3125514da47bbb72a8ccfbea1485a": {
      "model_module": "@jupyter-widgets/controls",
      "model_module_version": "2.0.0",
      "model_name": "FloatProgressModel",
      "state": {
       "bar_style": "success",
       "layout": "IPY_MODEL_ff03b630ffc24bf88dda33cd43870467",
       "max": 10,
       "style": "IPY_MODEL_217575ad3aca46288357303ba7feaaca",
       "value": 10
      }
     },
     "f3de42a2bf7f44baa4cbc69c3f07037a": {
      "model_module": "@jupyter-widgets/controls",
      "model_module_version": "2.0.0",
      "model_name": "ProgressStyleModel",
      "state": {
       "description_width": ""
      }
     },
     "f3e6337ea2e14f0d86febc63e47e877b": {
      "model_module": "@jupyter-widgets/base",
      "model_module_version": "2.0.0",
      "model_name": "LayoutModel",
      "state": {}
     },
     "f3eb01a744de40c1ab532d28eea97e19": {
      "model_module": "@jupyter-widgets/base",
      "model_module_version": "2.0.0",
      "model_name": "LayoutModel",
      "state": {}
     },
     "f433fb9b1f4c4355afc3247b4e10fe93": {
      "model_module": "@jupyter-widgets/controls",
      "model_module_version": "2.0.0",
      "model_name": "ProgressStyleModel",
      "state": {
       "description_width": ""
      }
     },
     "f45556ece3fe4db4ad76982c8d88e31e": {
      "model_module": "@jupyter-widgets/controls",
      "model_module_version": "2.0.0",
      "model_name": "HTMLModel",
      "state": {
       "layout": "IPY_MODEL_70ce63c9a3fb4b38ad842be99b8abbc3",
       "style": "IPY_MODEL_e98bdd9546a74d328d95836c6de87d5d",
       "value": "  0%"
      }
     },
     "f46ef1e933fc40bbbdd0dfff2749a975": {
      "model_module": "@jupyter-widgets/controls",
      "model_module_version": "2.0.0",
      "model_name": "HTMLModel",
      "state": {
       "layout": "IPY_MODEL_a1e4f7b81a814814a8c26719ed566c6a",
       "style": "IPY_MODEL_d26105f12b644a73ad9c28abe1864750",
       "value": " 10/10 [00:14&lt;00:00,  1.45s/it]"
      }
     },
     "f4b091b1408740a0bcb0a93aae386ae2": {
      "model_module": "@jupyter-widgets/controls",
      "model_module_version": "2.0.0",
      "model_name": "HTMLModel",
      "state": {
       "layout": "IPY_MODEL_3448769d6c1a498d8e963301de21c3a5",
       "style": "IPY_MODEL_fe13546ca37b4fa38fdfe9cdccbc542c",
       "value": " 10/10 [00:14&lt;00:00,  1.45s/it]"
      }
     },
     "f4cc04aa22eb4d14b3fb4b0f9024ca0f": {
      "model_module": "@jupyter-widgets/controls",
      "model_module_version": "2.0.0",
      "model_name": "HTMLModel",
      "state": {
       "layout": "IPY_MODEL_56b9777abf1148e386d3bde8e6c8b9ac",
       "style": "IPY_MODEL_cf3f8c5b361241ccb705db4508268f93",
       "value": " 10/10 [00:14&lt;00:00,  1.44s/it]"
      }
     },
     "f50fead510a14b97af3a6773d81aeefc": {
      "model_module": "@jupyter-widgets/base",
      "model_module_version": "2.0.0",
      "model_name": "LayoutModel",
      "state": {}
     },
     "f518829db5a8497da0da5957a75c4b91": {
      "model_module": "@jupyter-widgets/controls",
      "model_module_version": "2.0.0",
      "model_name": "FloatProgressModel",
      "state": {
       "bar_style": "success",
       "layout": "IPY_MODEL_67d9badd22964bdebd8c59c161dd8a6c",
       "max": 10,
       "style": "IPY_MODEL_da8e8acfdf7742ab83dcdac700e97882",
       "value": 10
      }
     },
     "f548df9ddb8443daa570fca322c1324e": {
      "model_module": "@jupyter-widgets/controls",
      "model_module_version": "2.0.0",
      "model_name": "HBoxModel",
      "state": {
       "children": [
        "IPY_MODEL_42519a249f3e448cb74899e5c42b5cee",
        "IPY_MODEL_59dfff55f1284b96a746594f56495675",
        "IPY_MODEL_f4b091b1408740a0bcb0a93aae386ae2"
       ],
       "layout": "IPY_MODEL_38bbb1e1be9a47f7b442bed0c4a409cc"
      }
     },
     "f5c37720474c4a028059631b1278ac0c": {
      "model_module": "@jupyter-widgets/controls",
      "model_module_version": "2.0.0",
      "model_name": "HBoxModel",
      "state": {
       "children": [
        "IPY_MODEL_1be95186f00d4706b51b3edb70d61907",
        "IPY_MODEL_513b644c22cb48999495ff6c3ff4adad",
        "IPY_MODEL_78770570b41047b4b40804942d2bc565"
       ],
       "layout": "IPY_MODEL_9d6e63688c8a4e99a55d9c100ffb475f"
      }
     },
     "f5c481b2c8f74f45a14dd9bc76ae51e7": {
      "model_module": "@jupyter-widgets/controls",
      "model_module_version": "2.0.0",
      "model_name": "HTMLStyleModel",
      "state": {
       "description_width": "",
       "font_size": null,
       "text_color": null
      }
     },
     "f5d09adf91014ae4a35fee3a722e1e1a": {
      "model_module": "@jupyter-widgets/controls",
      "model_module_version": "2.0.0",
      "model_name": "ProgressStyleModel",
      "state": {
       "description_width": ""
      }
     },
     "f6537333ba684666880916d33449c962": {
      "model_module": "@jupyter-widgets/controls",
      "model_module_version": "2.0.0",
      "model_name": "ProgressStyleModel",
      "state": {
       "description_width": ""
      }
     },
     "f67a8266884a4ab3a86b0128143e1d0c": {
      "model_module": "@jupyter-widgets/controls",
      "model_module_version": "2.0.0",
      "model_name": "FloatProgressModel",
      "state": {
       "bar_style": "success",
       "layout": "IPY_MODEL_136f8af9c2f64d0da0aca6f00087d306",
       "max": 10,
       "style": "IPY_MODEL_3ddd069e824d4f4483183f37e534c4a0",
       "value": 10
      }
     },
     "f6c458f82c8148bb88e84ed3f8f450a9": {
      "model_module": "@jupyter-widgets/base",
      "model_module_version": "2.0.0",
      "model_name": "LayoutModel",
      "state": {}
     },
     "f6ca01dc11a44562bbb6d05e5a607aa7": {
      "model_module": "@jupyter-widgets/controls",
      "model_module_version": "2.0.0",
      "model_name": "HTMLStyleModel",
      "state": {
       "description_width": "",
       "font_size": null,
       "text_color": null
      }
     },
     "f6e1dc895f284542bb2668b81ee4ee13": {
      "model_module": "@jupyter-widgets/base",
      "model_module_version": "2.0.0",
      "model_name": "LayoutModel",
      "state": {}
     },
     "f6e85aa0ef3e407c9c6293f9ad8b9155": {
      "model_module": "@jupyter-widgets/controls",
      "model_module_version": "2.0.0",
      "model_name": "HTMLStyleModel",
      "state": {
       "description_width": "",
       "font_size": null,
       "text_color": null
      }
     },
     "f73f6e531b4c40468c3ce0217d17d5b4": {
      "model_module": "@jupyter-widgets/controls",
      "model_module_version": "2.0.0",
      "model_name": "ProgressStyleModel",
      "state": {
       "description_width": ""
      }
     },
     "f7493bc584a044a99889e6d605bebf0f": {
      "model_module": "@jupyter-widgets/controls",
      "model_module_version": "2.0.0",
      "model_name": "ProgressStyleModel",
      "state": {
       "description_width": ""
      }
     },
     "f7766d312dd74095b3ff05d7e0e257b9": {
      "model_module": "@jupyter-widgets/controls",
      "model_module_version": "2.0.0",
      "model_name": "HTMLModel",
      "state": {
       "layout": "IPY_MODEL_9cf0a3a197844eeea47116eaa5334390",
       "style": "IPY_MODEL_3c2bf8a017b049d09b609d9e4d873c92",
       "value": " 2/21 [00:44&lt;07:02, 22.22s/it]"
      }
     },
     "f795d6acf9954a2e97c97abd2dec4f47": {
      "model_module": "@jupyter-widgets/controls",
      "model_module_version": "2.0.0",
      "model_name": "HTMLModel",
      "state": {
       "layout": "IPY_MODEL_85edd53c10734a10bc79ddecac7f3281",
       "style": "IPY_MODEL_f6ca01dc11a44562bbb6d05e5a607aa7",
       "value": " 4/10 [00:08&lt;00:13,  2.17s/it]"
      }
     },
     "f7c0134c1c5b437496a5b3897d46ce1c": {
      "model_module": "@jupyter-widgets/controls",
      "model_module_version": "2.0.0",
      "model_name": "FloatProgressModel",
      "state": {
       "bar_style": "success",
       "layout": "IPY_MODEL_da9d6526337c44c3a7a529f7d5c9027a",
       "max": 10,
       "style": "IPY_MODEL_97f1824e82c742ff8fd534966a9e1b4b",
       "value": 10
      }
     },
     "f80fb7f28f754fc890f53d125dd9ce9a": {
      "model_module": "@jupyter-widgets/controls",
      "model_module_version": "2.0.0",
      "model_name": "HBoxModel",
      "state": {
       "children": [
        "IPY_MODEL_b3f2c155746e4ec18f3438ff4224572d",
        "IPY_MODEL_4965bfdd06e64a518fc1d98104af582d",
        "IPY_MODEL_7e4ebe67e23a4388a9a971bd42f4d4c0"
       ],
       "layout": "IPY_MODEL_920e464a6039464e98acc6944e12fe73"
      }
     },
     "f82e3aa5f9f84950b64ec930ca833365": {
      "model_module": "@jupyter-widgets/controls",
      "model_module_version": "2.0.0",
      "model_name": "HTMLStyleModel",
      "state": {
       "description_width": "",
       "font_size": null,
       "text_color": null
      }
     },
     "f83fed25a7cc4387ae4cc4f6c6a7bf93": {
      "model_module": "@jupyter-widgets/base",
      "model_module_version": "2.0.0",
      "model_name": "LayoutModel",
      "state": {}
     },
     "f84ad9d0e30c405eb454cadd5366e62b": {
      "model_module": "@jupyter-widgets/controls",
      "model_module_version": "2.0.0",
      "model_name": "FloatProgressModel",
      "state": {
       "bar_style": "success",
       "layout": "IPY_MODEL_2465c767301642edb8006c05db415afb",
       "max": 10,
       "style": "IPY_MODEL_7f02796c9f0d4e1381e1f4b0a8cf653c",
       "value": 10
      }
     },
     "f84f776ca2e94514bb7c54a1466e639e": {
      "model_module": "@jupyter-widgets/controls",
      "model_module_version": "2.0.0",
      "model_name": "HTMLStyleModel",
      "state": {
       "description_width": "",
       "font_size": null,
       "text_color": null
      }
     },
     "f8552507b6c14718901de0dc8ed8e7c4": {
      "model_module": "@jupyter-widgets/base",
      "model_module_version": "2.0.0",
      "model_name": "LayoutModel",
      "state": {}
     },
     "f86e114bff324f15ab609195e17df4f7": {
      "model_module": "@jupyter-widgets/controls",
      "model_module_version": "2.0.0",
      "model_name": "HBoxModel",
      "state": {
       "children": [
        "IPY_MODEL_0b0ab0ddbb104bc3a0f5cf320dfc1557",
        "IPY_MODEL_4afca3198ecd46a28d7d9dea040f4559",
        "IPY_MODEL_bdd1ce6633104b1a836fdefd0c041f98"
       ],
       "layout": "IPY_MODEL_5e7d8dc34dd242338b87411ffc195f5c"
      }
     },
     "f8b207a6801d4fdfaab4ce4cfd33f6d3": {
      "model_module": "@jupyter-widgets/base",
      "model_module_version": "2.0.0",
      "model_name": "LayoutModel",
      "state": {}
     },
     "f94f118b473541a1bd078af927ebd9c2": {
      "model_module": "@jupyter-widgets/base",
      "model_module_version": "2.0.0",
      "model_name": "LayoutModel",
      "state": {}
     },
     "f96860877810403986416297b4c3f90a": {
      "model_module": "@jupyter-widgets/base",
      "model_module_version": "2.0.0",
      "model_name": "LayoutModel",
      "state": {}
     },
     "f9bd5549aac645ff87a0b741c701e788": {
      "model_module": "@jupyter-widgets/controls",
      "model_module_version": "2.0.0",
      "model_name": "HTMLModel",
      "state": {
       "layout": "IPY_MODEL_24bdfe7796b444d7a1e638f6884280a2",
       "style": "IPY_MODEL_2d3c830585124b85ae59a2484c5eb41f",
       "value": " 10/10 [00:00&lt;00:00, 1667.12it/s]"
      }
     },
     "f9ca4aeb4e6e4c0aa0ca5a3a6ac02990": {
      "model_module": "@jupyter-widgets/base",
      "model_module_version": "2.0.0",
      "model_name": "LayoutModel",
      "state": {}
     },
     "f9d1af74a6004b5798746c2c8aa771c1": {
      "model_module": "@jupyter-widgets/base",
      "model_module_version": "2.0.0",
      "model_name": "LayoutModel",
      "state": {}
     },
     "fa218ae6c98f41a580e4289c4d4de430": {
      "model_module": "@jupyter-widgets/base",
      "model_module_version": "2.0.0",
      "model_name": "LayoutModel",
      "state": {}
     },
     "fa5008f6bbeb4636a42750b3342bf680": {
      "model_module": "@jupyter-widgets/base",
      "model_module_version": "2.0.0",
      "model_name": "LayoutModel",
      "state": {}
     },
     "fad2f3d943974f3fb7b70076c5ba1b08": {
      "model_module": "@jupyter-widgets/base",
      "model_module_version": "2.0.0",
      "model_name": "LayoutModel",
      "state": {}
     },
     "fb4c7ea6caa041a5bd2b47079362952c": {
      "model_module": "@jupyter-widgets/controls",
      "model_module_version": "2.0.0",
      "model_name": "HBoxModel",
      "state": {
       "children": [
        "IPY_MODEL_83a96c5264b944ccbf1453a6cd171679",
        "IPY_MODEL_dc9a35b726b547d89432c01b2005d089",
        "IPY_MODEL_c9a6284c36174d24b3843ab5cb8bf817"
       ],
       "layout": "IPY_MODEL_8375d7d2322e4903a236e20cef167a81"
      }
     },
     "fb7ef6c624104908b72467b91f382ca8": {
      "model_module": "@jupyter-widgets/base",
      "model_module_version": "2.0.0",
      "model_name": "LayoutModel",
      "state": {}
     },
     "fb8ac7f119634ffdbf1433cde2d212da": {
      "model_module": "@jupyter-widgets/controls",
      "model_module_version": "2.0.0",
      "model_name": "HBoxModel",
      "state": {
       "children": [
        "IPY_MODEL_733c8fb5dc8143f6a3b53576ed378124",
        "IPY_MODEL_f1c519b91ca5400d8fae2830e92df05c",
        "IPY_MODEL_5e7d271717274af994522ef632e7b562"
       ],
       "layout": "IPY_MODEL_9b748a55baa744749d02a26dec100550"
      }
     },
     "fc140e25e55f4f859f91316fced1031f": {
      "model_module": "@jupyter-widgets/controls",
      "model_module_version": "2.0.0",
      "model_name": "FloatProgressModel",
      "state": {
       "bar_style": "success",
       "layout": "IPY_MODEL_c6b3dd8e4a2e463c9de8956b83e9e10f",
       "max": 10,
       "style": "IPY_MODEL_8404a2be6d144c64a8e7550a628d0971",
       "value": 10
      }
     },
     "fc79034cf5b84687837690f8d928aeb0": {
      "model_module": "@jupyter-widgets/controls",
      "model_module_version": "2.0.0",
      "model_name": "HBoxModel",
      "state": {
       "children": [
        "IPY_MODEL_17c887466d4e4510abaaeda399e9d219",
        "IPY_MODEL_f7c0134c1c5b437496a5b3897d46ce1c",
        "IPY_MODEL_fdc45bf0d5cf42608d21300daea09562"
       ],
       "layout": "IPY_MODEL_5d8a4bf12d354484927ce26556e39fa0"
      }
     },
     "fccfb2aeae704e9cb1f144dfc843421a": {
      "model_module": "@jupyter-widgets/base",
      "model_module_version": "2.0.0",
      "model_name": "LayoutModel",
      "state": {}
     },
     "fcf3533b8a574fa1a582b111f33713be": {
      "model_module": "@jupyter-widgets/controls",
      "model_module_version": "2.0.0",
      "model_name": "HTMLStyleModel",
      "state": {
       "description_width": "",
       "font_size": null,
       "text_color": null
      }
     },
     "fd31fefdda0e43e8a634e3313f0bebb0": {
      "model_module": "@jupyter-widgets/controls",
      "model_module_version": "2.0.0",
      "model_name": "HTMLStyleModel",
      "state": {
       "description_width": "",
       "font_size": null,
       "text_color": null
      }
     },
     "fd574db71bef447f93ec23bca81c3a06": {
      "model_module": "@jupyter-widgets/controls",
      "model_module_version": "2.0.0",
      "model_name": "FloatProgressModel",
      "state": {
       "bar_style": "success",
       "layout": "IPY_MODEL_6cc37fd678d24aaa86bc70347f3b965b",
       "max": 10,
       "style": "IPY_MODEL_0cd47ab1d4c54318acafe86ecd5e7a2b",
       "value": 10
      }
     },
     "fdc45bf0d5cf42608d21300daea09562": {
      "model_module": "@jupyter-widgets/controls",
      "model_module_version": "2.0.0",
      "model_name": "HTMLModel",
      "state": {
       "layout": "IPY_MODEL_18eac493ad8e464da460c93979b81a19",
       "style": "IPY_MODEL_9deed48205524ca9894935260222617d",
       "value": " 10/10 [00:20&lt;00:00,  2.17s/it]"
      }
     },
     "fe04a4452cc74102b77ec319742ab54f": {
      "model_module": "@jupyter-widgets/controls",
      "model_module_version": "2.0.0",
      "model_name": "HTMLStyleModel",
      "state": {
       "description_width": "",
       "font_size": null,
       "text_color": null
      }
     },
     "fe13546ca37b4fa38fdfe9cdccbc542c": {
      "model_module": "@jupyter-widgets/controls",
      "model_module_version": "2.0.0",
      "model_name": "HTMLStyleModel",
      "state": {
       "description_width": "",
       "font_size": null,
       "text_color": null
      }
     },
     "fe2c0b7f569d40e0a6aa4c85d95adb98": {
      "model_module": "@jupyter-widgets/controls",
      "model_module_version": "2.0.0",
      "model_name": "HTMLStyleModel",
      "state": {
       "description_width": "",
       "font_size": null,
       "text_color": null
      }
     },
     "fe69a207c2184152a2d974114a2f247c": {
      "model_module": "@jupyter-widgets/base",
      "model_module_version": "2.0.0",
      "model_name": "LayoutModel",
      "state": {}
     },
     "fe80c8bb81c04a07b45b306324c9c2b8": {
      "model_module": "@jupyter-widgets/controls",
      "model_module_version": "2.0.0",
      "model_name": "ProgressStyleModel",
      "state": {
       "description_width": ""
      }
     },
     "fef65d4e51834e66ba78464b4959294f": {
      "model_module": "@jupyter-widgets/base",
      "model_module_version": "2.0.0",
      "model_name": "LayoutModel",
      "state": {}
     },
     "ff03b630ffc24bf88dda33cd43870467": {
      "model_module": "@jupyter-widgets/base",
      "model_module_version": "2.0.0",
      "model_name": "LayoutModel",
      "state": {}
     },
     "ff31eedd20d74bac9b1f14854fe4f692": {
      "model_module": "@jupyter-widgets/base",
      "model_module_version": "2.0.0",
      "model_name": "LayoutModel",
      "state": {}
     },
     "ff8f3ddd1cd9492ba635bca12688d931": {
      "model_module": "@jupyter-widgets/controls",
      "model_module_version": "2.0.0",
      "model_name": "HTMLStyleModel",
      "state": {
       "description_width": "",
       "font_size": null,
       "text_color": null
      }
     },
     "ffa78c1c9f7f43c991936a36a190bf97": {
      "model_module": "@jupyter-widgets/controls",
      "model_module_version": "2.0.0",
      "model_name": "HTMLStyleModel",
      "state": {
       "description_width": "",
       "font_size": null,
       "text_color": null
      }
     }
    },
    "version_major": 2,
    "version_minor": 0
   }
  }
 },
 "nbformat": 4,
 "nbformat_minor": 5
}
