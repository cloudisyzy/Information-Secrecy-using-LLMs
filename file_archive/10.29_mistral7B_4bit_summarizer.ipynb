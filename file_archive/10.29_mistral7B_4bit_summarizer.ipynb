{
 "cells": [
  {
   "cell_type": "code",
   "execution_count": 1,
   "id": "7d33b96d-ddb6-49e6-9251-e50d74f8c5cb",
   "metadata": {},
   "outputs": [
    {
     "data": {
      "application/vnd.jupyter.widget-view+json": {
       "model_id": "81f1129d9269487aad11738a3d576a5a",
       "version_major": 2,
       "version_minor": 0
      },
      "text/plain": [
       "tokenizer_config.json:   0%|          | 0.00/996 [00:00<?, ?B/s]"
      ]
     },
     "metadata": {},
     "output_type": "display_data"
    },
    {
     "data": {
      "application/vnd.jupyter.widget-view+json": {
       "model_id": "89b214b8615149519ad22e9a83d516d1",
       "version_major": 2,
       "version_minor": 0
      },
      "text/plain": [
       "tokenizer.model:   0%|          | 0.00/493k [00:00<?, ?B/s]"
      ]
     },
     "metadata": {},
     "output_type": "display_data"
    },
    {
     "data": {
      "application/vnd.jupyter.widget-view+json": {
       "model_id": "11e17e7076db46d299483233ffa2a4fd",
       "version_major": 2,
       "version_minor": 0
      },
      "text/plain": [
       "tokenizer.json:   0%|          | 0.00/1.80M [00:00<?, ?B/s]"
      ]
     },
     "metadata": {},
     "output_type": "display_data"
    },
    {
     "data": {
      "application/vnd.jupyter.widget-view+json": {
       "model_id": "2f30a71e1e68476a832c0e973ad1564e",
       "version_major": 2,
       "version_minor": 0
      },
      "text/plain": [
       "special_tokens_map.json:   0%|          | 0.00/414 [00:00<?, ?B/s]"
      ]
     },
     "metadata": {},
     "output_type": "display_data"
    },
    {
     "data": {
      "application/vnd.jupyter.widget-view+json": {
       "model_id": "d5bbb0d886064b4fab1a4724dcfac4f3",
       "version_major": 2,
       "version_minor": 0
      },
      "text/plain": [
       "config.json:   0%|          | 0.00/571 [00:00<?, ?B/s]"
      ]
     },
     "metadata": {},
     "output_type": "display_data"
    },
    {
     "data": {
      "application/vnd.jupyter.widget-view+json": {
       "model_id": "acfb5f7d6dde4e6780f9464df39ac870",
       "version_major": 2,
       "version_minor": 0
      },
      "text/plain": [
       "model.safetensors.index.json:   0%|          | 0.00/25.1k [00:00<?, ?B/s]"
      ]
     },
     "metadata": {},
     "output_type": "display_data"
    },
    {
     "data": {
      "application/vnd.jupyter.widget-view+json": {
       "model_id": "ec89232345be4d8398f6430589b261f9",
       "version_major": 2,
       "version_minor": 0
      },
      "text/plain": [
       "Downloading shards:   0%|          | 0/2 [00:00<?, ?it/s]"
      ]
     },
     "metadata": {},
     "output_type": "display_data"
    },
    {
     "data": {
      "application/vnd.jupyter.widget-view+json": {
       "model_id": "875502e83dc74e6d9b75c0876729bef2",
       "version_major": 2,
       "version_minor": 0
      },
      "text/plain": [
       "model-00001-of-00002.safetensors:   0%|          | 0.00/9.94G [00:00<?, ?B/s]"
      ]
     },
     "metadata": {},
     "output_type": "display_data"
    },
    {
     "data": {
      "application/vnd.jupyter.widget-view+json": {
       "model_id": "7132b6abde8a446e9e8e36d43c88fb14",
       "version_major": 2,
       "version_minor": 0
      },
      "text/plain": [
       "model-00002-of-00002.safetensors:   0%|          | 0.00/4.54G [00:00<?, ?B/s]"
      ]
     },
     "metadata": {},
     "output_type": "display_data"
    },
    {
     "data": {
      "application/vnd.jupyter.widget-view+json": {
       "model_id": "9a60ce72bbd54c12a2e94e152e99c0bf",
       "version_major": 2,
       "version_minor": 0
      },
      "text/plain": [
       "Loading checkpoint shards:   0%|          | 0/2 [00:00<?, ?it/s]"
      ]
     },
     "metadata": {},
     "output_type": "display_data"
    },
    {
     "data": {
      "application/vnd.jupyter.widget-view+json": {
       "model_id": "412b0aa73fb549f7ada3ce43fd6a8f72",
       "version_major": 2,
       "version_minor": 0
      },
      "text/plain": [
       "generation_config.json:   0%|          | 0.00/116 [00:00<?, ?B/s]"
      ]
     },
     "metadata": {},
     "output_type": "display_data"
    }
   ],
   "source": [
    "from transformers import AutoTokenizer, AutoModelForCausalLM\n",
    "\n",
    "tokenizer = AutoTokenizer.from_pretrained(\"mistralai/Mistral-7B-v0.1\")\n",
    "model = AutoModelForCausalLM.from_pretrained(\"mistralai/Mistral-7B-v0.1\")"
   ]
  },
  {
   "cell_type": "code",
   "execution_count": 1,
   "id": "35077e7d-d971-4180-873c-f9ade54a09b9",
   "metadata": {},
   "outputs": [
    {
     "name": "stderr",
     "output_type": "stream",
     "text": [
      "The `load_in_4bit` and `load_in_8bit` arguments are deprecated and will be removed in the future versions. Please, pass a `BitsAndBytesConfig` object in `quantization_config` argument instead.\n"
     ]
    },
    {
     "data": {
      "application/vnd.jupyter.widget-view+json": {
       "model_id": "27dab264c7104cfc910bf765443ad854",
       "version_major": 2,
       "version_minor": 0
      },
      "text/plain": [
       "Loading checkpoint shards:   0%|          | 0/2 [00:00<?, ?it/s]"
      ]
     },
     "metadata": {},
     "output_type": "display_data"
    }
   ],
   "source": [
    "from transformers import AutoTokenizer, AutoModelForCausalLM\n",
    "import torch\n",
    "from IPython.display import display, HTML\n",
    "\n",
    "# Device setup\n",
    "device = torch.device(\"cuda\" if torch.cuda.is_available() else \"cpu\")\n",
    "\n",
    "# Load model and tokenizer in 4-bit precision\n",
    "model_name = \"mistralai/Mistral-7B-v0.1\"  # Replace with the correct path if locally available\n",
    "tokenizer = AutoTokenizer.from_pretrained(model_name)\n",
    "model = AutoModelForCausalLM.from_pretrained(\n",
    "    model_name,\n",
    "    device_map=\"auto\",            # Automatically assigns layers to devices\n",
    "    load_in_4bit=True,             # Enable 4-bit loading\n",
    "    torch_dtype=torch.float16,     # Mixed precision for additional VRAM savings\n",
    ")\n",
    "\n",
    "# Summarization function with deterministic output\n",
    "def summarize_text(input_text, max_length=1000, temperature=0.1):\n",
    "    inputs = tokenizer(input_text, return_tensors=\"pt\").to(device)\n",
    "    summary_ids = model.generate(\n",
    "        inputs[\"input_ids\"], \n",
    "        max_length=max_length, \n",
    "        temperature=temperature, \n",
    "        do_sample=False\n",
    "    )\n",
    "    summary = tokenizer.decode(summary_ids[0], skip_special_tokens=True)\n",
    "    return summary"
   ]
  },
  {
   "cell_type": "code",
   "execution_count": 3,
   "id": "2c665d81-4be9-4eae-90cb-2f7338505423",
   "metadata": {},
   "outputs": [
    {
     "name": "stderr",
     "output_type": "stream",
     "text": [
      "D:\\Anaconda\\envs\\llm\\lib\\site-packages\\transformers\\generation\\configuration_utils.py:601: UserWarning: `do_sample` is set to `False`. However, `temperature` is set to `0.1` -- this flag is only used in sample-based generation modes. You should set `do_sample=True` or unset `temperature`.\n",
      "  warnings.warn(\n",
      "The attention mask and the pad token id were not set. As a consequence, you may observe unexpected behavior. Please pass your input's `attention_mask` to obtain reliable results.\n",
      "Setting `pad_token_id` to `eos_token_id`:None for open-end generation.\n"
     ]
    },
    {
     "ename": "KeyboardInterrupt",
     "evalue": "",
     "output_type": "error",
     "traceback": [
      "\u001b[1;31m---------------------------------------------------------------------------\u001b[0m",
      "\u001b[1;31mKeyboardInterrupt\u001b[0m                         Traceback (most recent call last)",
      "Cell \u001b[1;32mIn[3], line 21\u001b[0m\n\u001b[0;32m      1\u001b[0m \u001b[38;5;66;03m# Example usage\u001b[39;00m\n\u001b[0;32m      2\u001b[0m \u001b[38;5;66;03m# input_text = '''\u001b[39;00m\n\u001b[0;32m      3\u001b[0m \u001b[38;5;66;03m# Summarize the text: In telecommunications, orthogonal frequency-division multiplexing (OFDM) is a type \u001b[39;00m\n\u001b[1;32m   (...)\u001b[0m\n\u001b[0;32m     18\u001b[0m \u001b[38;5;66;03m# rate. This maintains total data rates similar to conventional single-carrier modulation \u001b[39;00m\n\u001b[0;32m     19\u001b[0m \u001b[38;5;66;03m# schemes in the same bandwidth.'''.replace(\"\\n\", \"\")\u001b[39;00m\n\u001b[0;32m     20\u001b[0m input_text \u001b[38;5;241m=\u001b[39m \u001b[38;5;124m'\u001b[39m\u001b[38;5;124mgood morning\u001b[39m\u001b[38;5;124m'\u001b[39m\n\u001b[1;32m---> 21\u001b[0m summary \u001b[38;5;241m=\u001b[39m \u001b[43msummarize_text\u001b[49m\u001b[43m(\u001b[49m\u001b[43minput_text\u001b[49m\u001b[43m)\u001b[49m\n\u001b[0;32m     22\u001b[0m display(HTML(\u001b[38;5;124mf\u001b[39m\u001b[38;5;124m\"\u001b[39m\u001b[38;5;124m<b>Summary:</b> \u001b[39m\u001b[38;5;132;01m{\u001b[39;00msummary\u001b[38;5;132;01m}\u001b[39;00m\u001b[38;5;124m\"\u001b[39m))\n",
      "Cell \u001b[1;32mIn[1], line 21\u001b[0m, in \u001b[0;36msummarize_text\u001b[1;34m(input_text, max_length, temperature)\u001b[0m\n\u001b[0;32m     19\u001b[0m \u001b[38;5;28;01mdef\u001b[39;00m \u001b[38;5;21msummarize_text\u001b[39m(input_text, max_length\u001b[38;5;241m=\u001b[39m\u001b[38;5;241m1000\u001b[39m, temperature\u001b[38;5;241m=\u001b[39m\u001b[38;5;241m0.1\u001b[39m):\n\u001b[0;32m     20\u001b[0m     inputs \u001b[38;5;241m=\u001b[39m tokenizer(input_text, return_tensors\u001b[38;5;241m=\u001b[39m\u001b[38;5;124m\"\u001b[39m\u001b[38;5;124mpt\u001b[39m\u001b[38;5;124m\"\u001b[39m)\u001b[38;5;241m.\u001b[39mto(device)\n\u001b[1;32m---> 21\u001b[0m     summary_ids \u001b[38;5;241m=\u001b[39m \u001b[43mmodel\u001b[49m\u001b[38;5;241;43m.\u001b[39;49m\u001b[43mgenerate\u001b[49m\u001b[43m(\u001b[49m\n\u001b[0;32m     22\u001b[0m \u001b[43m        \u001b[49m\u001b[43minputs\u001b[49m\u001b[43m[\u001b[49m\u001b[38;5;124;43m\"\u001b[39;49m\u001b[38;5;124;43minput_ids\u001b[39;49m\u001b[38;5;124;43m\"\u001b[39;49m\u001b[43m]\u001b[49m\u001b[43m,\u001b[49m\u001b[43m \u001b[49m\n\u001b[0;32m     23\u001b[0m \u001b[43m        \u001b[49m\u001b[43mmax_length\u001b[49m\u001b[38;5;241;43m=\u001b[39;49m\u001b[43mmax_length\u001b[49m\u001b[43m,\u001b[49m\u001b[43m \u001b[49m\n\u001b[0;32m     24\u001b[0m \u001b[43m        \u001b[49m\u001b[43mtemperature\u001b[49m\u001b[38;5;241;43m=\u001b[39;49m\u001b[43mtemperature\u001b[49m\u001b[43m,\u001b[49m\u001b[43m \u001b[49m\n\u001b[0;32m     25\u001b[0m \u001b[43m        \u001b[49m\u001b[43mdo_sample\u001b[49m\u001b[38;5;241;43m=\u001b[39;49m\u001b[38;5;28;43;01mFalse\u001b[39;49;00m\n\u001b[0;32m     26\u001b[0m \u001b[43m    \u001b[49m\u001b[43m)\u001b[49m\n\u001b[0;32m     27\u001b[0m     summary \u001b[38;5;241m=\u001b[39m tokenizer\u001b[38;5;241m.\u001b[39mdecode(summary_ids[\u001b[38;5;241m0\u001b[39m], skip_special_tokens\u001b[38;5;241m=\u001b[39m\u001b[38;5;28;01mTrue\u001b[39;00m)\n\u001b[0;32m     28\u001b[0m     \u001b[38;5;28;01mreturn\u001b[39;00m summary\n",
      "File \u001b[1;32mD:\\Anaconda\\envs\\llm\\lib\\site-packages\\torch\\utils\\_contextlib.py:116\u001b[0m, in \u001b[0;36mcontext_decorator.<locals>.decorate_context\u001b[1;34m(*args, **kwargs)\u001b[0m\n\u001b[0;32m    113\u001b[0m \u001b[38;5;129m@functools\u001b[39m\u001b[38;5;241m.\u001b[39mwraps(func)\n\u001b[0;32m    114\u001b[0m \u001b[38;5;28;01mdef\u001b[39;00m \u001b[38;5;21mdecorate_context\u001b[39m(\u001b[38;5;241m*\u001b[39margs, \u001b[38;5;241m*\u001b[39m\u001b[38;5;241m*\u001b[39mkwargs):\n\u001b[0;32m    115\u001b[0m     \u001b[38;5;28;01mwith\u001b[39;00m ctx_factory():\n\u001b[1;32m--> 116\u001b[0m         \u001b[38;5;28;01mreturn\u001b[39;00m func(\u001b[38;5;241m*\u001b[39margs, \u001b[38;5;241m*\u001b[39m\u001b[38;5;241m*\u001b[39mkwargs)\n",
      "File \u001b[1;32mD:\\Anaconda\\envs\\llm\\lib\\site-packages\\transformers\\generation\\utils.py:2047\u001b[0m, in \u001b[0;36mGenerationMixin.generate\u001b[1;34m(self, inputs, generation_config, logits_processor, stopping_criteria, prefix_allowed_tokens_fn, synced_gpus, assistant_model, streamer, negative_prompt_ids, negative_prompt_attention_mask, **kwargs)\u001b[0m\n\u001b[0;32m   2039\u001b[0m     input_ids, model_kwargs \u001b[38;5;241m=\u001b[39m \u001b[38;5;28mself\u001b[39m\u001b[38;5;241m.\u001b[39m_expand_inputs_for_generation(\n\u001b[0;32m   2040\u001b[0m         input_ids\u001b[38;5;241m=\u001b[39minput_ids,\n\u001b[0;32m   2041\u001b[0m         expand_size\u001b[38;5;241m=\u001b[39mgeneration_config\u001b[38;5;241m.\u001b[39mnum_return_sequences,\n\u001b[0;32m   2042\u001b[0m         is_encoder_decoder\u001b[38;5;241m=\u001b[39m\u001b[38;5;28mself\u001b[39m\u001b[38;5;241m.\u001b[39mconfig\u001b[38;5;241m.\u001b[39mis_encoder_decoder,\n\u001b[0;32m   2043\u001b[0m         \u001b[38;5;241m*\u001b[39m\u001b[38;5;241m*\u001b[39mmodel_kwargs,\n\u001b[0;32m   2044\u001b[0m     )\n\u001b[0;32m   2046\u001b[0m     \u001b[38;5;66;03m# 12. run sample (it degenerates to greedy search when `generation_config.do_sample=False`)\u001b[39;00m\n\u001b[1;32m-> 2047\u001b[0m     result \u001b[38;5;241m=\u001b[39m \u001b[38;5;28mself\u001b[39m\u001b[38;5;241m.\u001b[39m_sample(\n\u001b[0;32m   2048\u001b[0m         input_ids,\n\u001b[0;32m   2049\u001b[0m         logits_processor\u001b[38;5;241m=\u001b[39mprepared_logits_processor,\n\u001b[0;32m   2050\u001b[0m         stopping_criteria\u001b[38;5;241m=\u001b[39mprepared_stopping_criteria,\n\u001b[0;32m   2051\u001b[0m         generation_config\u001b[38;5;241m=\u001b[39mgeneration_config,\n\u001b[0;32m   2052\u001b[0m         synced_gpus\u001b[38;5;241m=\u001b[39msynced_gpus,\n\u001b[0;32m   2053\u001b[0m         streamer\u001b[38;5;241m=\u001b[39mstreamer,\n\u001b[0;32m   2054\u001b[0m         \u001b[38;5;241m*\u001b[39m\u001b[38;5;241m*\u001b[39mmodel_kwargs,\n\u001b[0;32m   2055\u001b[0m     )\n\u001b[0;32m   2057\u001b[0m \u001b[38;5;28;01melif\u001b[39;00m generation_mode \u001b[38;5;129;01min\u001b[39;00m (GenerationMode\u001b[38;5;241m.\u001b[39mBEAM_SAMPLE, GenerationMode\u001b[38;5;241m.\u001b[39mBEAM_SEARCH):\n\u001b[0;32m   2058\u001b[0m     \u001b[38;5;66;03m# 11. prepare beam search scorer\u001b[39;00m\n\u001b[0;32m   2059\u001b[0m     beam_scorer \u001b[38;5;241m=\u001b[39m BeamSearchScorer(\n\u001b[0;32m   2060\u001b[0m         batch_size\u001b[38;5;241m=\u001b[39mbatch_size,\n\u001b[0;32m   2061\u001b[0m         num_beams\u001b[38;5;241m=\u001b[39mgeneration_config\u001b[38;5;241m.\u001b[39mnum_beams,\n\u001b[1;32m   (...)\u001b[0m\n\u001b[0;32m   2066\u001b[0m         max_length\u001b[38;5;241m=\u001b[39mgeneration_config\u001b[38;5;241m.\u001b[39mmax_length,\n\u001b[0;32m   2067\u001b[0m     )\n",
      "File \u001b[1;32mD:\\Anaconda\\envs\\llm\\lib\\site-packages\\transformers\\generation\\utils.py:2996\u001b[0m, in \u001b[0;36mGenerationMixin._sample\u001b[1;34m(self, input_ids, logits_processor, stopping_criteria, generation_config, synced_gpus, streamer, **model_kwargs)\u001b[0m\n\u001b[0;32m   2993\u001b[0m unfinished_sequences \u001b[38;5;241m=\u001b[39m torch\u001b[38;5;241m.\u001b[39mones(batch_size, dtype\u001b[38;5;241m=\u001b[39mtorch\u001b[38;5;241m.\u001b[39mlong, device\u001b[38;5;241m=\u001b[39minput_ids\u001b[38;5;241m.\u001b[39mdevice)\n\u001b[0;32m   2994\u001b[0m model_kwargs \u001b[38;5;241m=\u001b[39m \u001b[38;5;28mself\u001b[39m\u001b[38;5;241m.\u001b[39m_get_initial_cache_position(input_ids, model_kwargs)\n\u001b[1;32m-> 2996\u001b[0m \u001b[38;5;28;01mwhile\u001b[39;00m \u001b[38;5;28;43mself\u001b[39;49m\u001b[38;5;241;43m.\u001b[39;49m\u001b[43m_has_unfinished_sequences\u001b[49m\u001b[43m(\u001b[49m\n\u001b[0;32m   2997\u001b[0m \u001b[43m    \u001b[49m\u001b[43mthis_peer_finished\u001b[49m\u001b[43m,\u001b[49m\u001b[43m \u001b[49m\u001b[43msynced_gpus\u001b[49m\u001b[43m,\u001b[49m\u001b[43m \u001b[49m\u001b[43mdevice\u001b[49m\u001b[38;5;241;43m=\u001b[39;49m\u001b[43minput_ids\u001b[49m\u001b[38;5;241;43m.\u001b[39;49m\u001b[43mdevice\u001b[49m\u001b[43m,\u001b[49m\u001b[43m \u001b[49m\u001b[43mcur_len\u001b[49m\u001b[38;5;241;43m=\u001b[39;49m\u001b[43mcur_len\u001b[49m\u001b[43m,\u001b[49m\u001b[43m \u001b[49m\u001b[43mmax_length\u001b[49m\u001b[38;5;241;43m=\u001b[39;49m\u001b[43mmax_length\u001b[49m\n\u001b[0;32m   2998\u001b[0m \u001b[43m\u001b[49m\u001b[43m)\u001b[49m:\n\u001b[0;32m   2999\u001b[0m     \u001b[38;5;66;03m# prepare model inputs\u001b[39;00m\n\u001b[0;32m   3000\u001b[0m     model_inputs \u001b[38;5;241m=\u001b[39m \u001b[38;5;28mself\u001b[39m\u001b[38;5;241m.\u001b[39mprepare_inputs_for_generation(input_ids, \u001b[38;5;241m*\u001b[39m\u001b[38;5;241m*\u001b[39mmodel_kwargs)\n\u001b[0;32m   3002\u001b[0m     \u001b[38;5;66;03m# prepare variable output controls (note: some models won't accept all output controls)\u001b[39;00m\n",
      "File \u001b[1;32mD:\\Anaconda\\envs\\llm\\lib\\site-packages\\transformers\\generation\\utils.py:2245\u001b[0m, in \u001b[0;36mGenerationMixin._has_unfinished_sequences\u001b[1;34m(self, this_peer_finished, synced_gpus, device, cur_len, max_length)\u001b[0m\n\u001b[0;32m   2243\u001b[0m     \u001b[38;5;28;01mif\u001b[39;00m this_peer_finished_flag\u001b[38;5;241m.\u001b[39mitem() \u001b[38;5;241m==\u001b[39m \u001b[38;5;241m0.0\u001b[39m:\n\u001b[0;32m   2244\u001b[0m         \u001b[38;5;28;01mreturn\u001b[39;00m \u001b[38;5;28;01mFalse\u001b[39;00m\n\u001b[1;32m-> 2245\u001b[0m \u001b[38;5;28;01melif\u001b[39;00m this_peer_finished:\n\u001b[0;32m   2246\u001b[0m     \u001b[38;5;28;01mreturn\u001b[39;00m \u001b[38;5;28;01mFalse\u001b[39;00m\n\u001b[0;32m   2247\u001b[0m \u001b[38;5;28;01mreturn\u001b[39;00m \u001b[38;5;28;01mTrue\u001b[39;00m\n",
      "\u001b[1;31mKeyboardInterrupt\u001b[0m: "
     ]
    }
   ],
   "source": [
    "# Example usage\n",
    "# input_text = '''\n",
    "# Summarize the text: In telecommunications, orthogonal frequency-division multiplexing (OFDM) is a type \n",
    "# of digital transmission used in digital modulation for encoding digital (binary) \n",
    "# data on multiple carrier frequencies. OFDM has developed into a popular scheme for \n",
    "# wideband digital communication, used in applications such as digital television and \n",
    "# audio broadcasting, DSL internet access, wireless networks, power line networks, \n",
    "# and 4G/5G mobile communications.[1] OFDM is a frequency-division multiplexing (FDM) \n",
    "# scheme that was introduced by Robert W. Chang of Bell Labs in 1966.[2][3][4] In OFDM, \n",
    "# the incoming bitstream representing the data to be sent is divided into multiple streams. \n",
    "# Multiple closely spaced orthogonal subcarrier signals with overlapping spectra are \n",
    "# transmitted, with each carrier modulated with bits from the incoming stream so multiple \n",
    "# bits are being transmitted in parallel.[5] Demodulation is based on fast Fourier transform \n",
    "# algorithms. OFDM was improved by Weinstein and Ebert in 1971 with the introduction of \n",
    "# a guard interval, providing better orthogonality in transmission channels affected by \n",
    "# multipath propagation.[6] Each subcarrier (signal) is modulated with a conventional modulation \n",
    "# scheme (such as quadrature amplitude modulation or phase-shift keying) at a low symbol \n",
    "# rate. This maintains total data rates similar to conventional single-carrier modulation \n",
    "# schemes in the same bandwidth.'''.replace(\"\\n\", \"\")\n",
    "input_text = 'good morning'\n",
    "summary = summarize_text(input_text)\n",
    "display(HTML(f\"<b>Summary:</b> {summary}\"))"
   ]
  },
  {
   "cell_type": "code",
   "execution_count": 1,
   "id": "e41a0701-bc76-44e4-9c3d-41f623ea5bc4",
   "metadata": {},
   "outputs": [
    {
     "name": "stderr",
     "output_type": "stream",
     "text": [
      "`low_cpu_mem_usage` was None, now set to True since model is quantized.\n"
     ]
    },
    {
     "data": {
      "application/vnd.jupyter.widget-view+json": {
       "model_id": "239ac87854804cd9b24f02689271a0ba",
       "version_major": 2,
       "version_minor": 0
      },
      "text/plain": [
       "Loading checkpoint shards:   0%|          | 0/2 [00:00<?, ?it/s]"
      ]
     },
     "metadata": {},
     "output_type": "display_data"
    }
   ],
   "source": [
    "import torch\n",
    "from transformers import AutoModelForCausalLM, AutoTokenizer, BitsAndBytesConfig\n",
    "\n",
    "# specify how to quantize the model\n",
    "quantization_config = BitsAndBytesConfig(\n",
    "        load_in_4bit=True,\n",
    "        bnb_4bit_quant_type=\"nf4\",\n",
    "        bnb_4bit_compute_dtype=torch.float16,\n",
    ")\n",
    "\n",
    "# Load the model with the quantization configuration\n",
    "model = AutoModelForCausalLM.from_pretrained(\"mistralai/Mistral-7B-v0.1\", quantization_config=quantization_config)\n",
    "tokenizer = AutoTokenizer.from_pretrained(\"mistralai/Mistral-7B-v0.1\")"
   ]
  },
  {
   "cell_type": "code",
   "execution_count": 2,
   "id": "2f4f653d-6dbc-431d-a7e4-2b949d6bdad8",
   "metadata": {},
   "outputs": [
    {
     "name": "stderr",
     "output_type": "stream",
     "text": [
      "Setting `pad_token_id` to `eos_token_id`:None for open-end generation.\n",
      "Starting from v4.46, the `logits` model output will have the same type as the model (except at train time, where it will always be FP32)\n"
     ]
    },
    {
     "name": "stdout",
     "output_type": "stream",
     "text": [
      "Summarize the text: In telecommunications, orthogonal frequency-division multiplexing (OFDM) is a type of digital transmission used in digital modulation for encoding digital (binary) dataon multiple carrier frequencies. OFDM has developed into a popular scheme for wideband digital communication, used in applications such as digital television and audio broadcasting, DSL internet access, wireless networks, power line networks, and 4G/5G mobile communications. The orthogonal frequencies are widely spaced enough that a frequency-selective channel distortion affects each channel independently. The signal can be recovered by demodulating on the same carrier, as orthogonality is maintained. Because a frequency-selective channel changes the amplitude of each subcarrier's signal differently, inter-channel interference is avoided. The frequency selectivity is achieved using a low roll-off factor on a discrete…\n"
     ]
    }
   ],
   "source": [
    "# Define the prompt\n",
    "prompt = \"\"\"\n",
    "Summarize the text: In telecommunications, orthogonal frequency-division multiplexing (OFDM) \n",
    "is a type of digital transmission used in digital modulation for encoding digital (binary) data\n",
    "on multiple carrier frequencies. OFDM has developed into a popular scheme for wideband digital \n",
    "communication, used in applications such as digital television and audio broadcasting, DSL internet \n",
    "access, wireless networks, power line networks, and 4G/5G mobile communications.\n",
    "\"\"\".replace(\"\\n\", \"\")\n",
    "\n",
    "# Tokenize the prompt and move to CUDA\n",
    "model_inputs = tokenizer([prompt], return_tensors=\"pt\").to(\"cuda\")\n",
    "\n",
    "# Generate text\n",
    "generated_ids = model.generate(**model_inputs, max_new_tokens=100, do_sample=True)\n",
    "\n",
    "# Decode the generated text\n",
    "output_text = tokenizer.batch_decode(generated_ids, skip_special_tokens=True)[0]\n",
    "print(output_text)"
   ]
  },
  {
   "cell_type": "code",
   "execution_count": null,
   "id": "97f93e0f-625a-4387-8199-b4e2cc7f29a5",
   "metadata": {},
   "outputs": [],
   "source": []
  }
 ],
 "metadata": {
  "kernelspec": {
   "display_name": "Python 3 (ipykernel)",
   "language": "python",
   "name": "python3"
  },
  "language_info": {
   "codemirror_mode": {
    "name": "ipython",
    "version": 3
   },
   "file_extension": ".py",
   "mimetype": "text/x-python",
   "name": "python",
   "nbconvert_exporter": "python",
   "pygments_lexer": "ipython3",
   "version": "3.9.20"
  },
  "widgets": {
   "application/vnd.jupyter.widget-state+json": {
    "state": {
     "0246fae56b8844e7859ee49751be94ec": {
      "model_module": "@jupyter-widgets/controls",
      "model_module_version": "2.0.0",
      "model_name": "FloatProgressModel",
      "state": {
       "bar_style": "success",
       "layout": "IPY_MODEL_24f44833efbd4f88b40564c409579278",
       "max": 414,
       "style": "IPY_MODEL_3d4fd020af5b481db862bb0f850f7f56",
       "value": 414
      }
     },
     "02c6e92f8dac43979c6cf23dbaf653d8": {
      "model_module": "@jupyter-widgets/base",
      "model_module_version": "2.0.0",
      "model_name": "LayoutModel",
      "state": {}
     },
     "0385064b2cd745cea85df026c36210ac": {
      "model_module": "@jupyter-widgets/controls",
      "model_module_version": "2.0.0",
      "model_name": "FloatProgressModel",
      "state": {
       "bar_style": "success",
       "layout": "IPY_MODEL_9f123cb296f64393a34e117765817c9b",
       "max": 4540516344,
       "style": "IPY_MODEL_284caacbc5bb44e3a7b81ba2683b52d4",
       "value": 4540516344
      }
     },
     "03d7c37ea87e43f0940db92c905572a9": {
      "model_module": "@jupyter-widgets/controls",
      "model_module_version": "2.0.0",
      "model_name": "HTMLStyleModel",
      "state": {
       "description_width": "",
       "font_size": null,
       "text_color": null
      }
     },
     "03e7d9f7fe144dbdb24de44ba54fe88e": {
      "model_module": "@jupyter-widgets/controls",
      "model_module_version": "2.0.0",
      "model_name": "HTMLModel",
      "state": {
       "layout": "IPY_MODEL_7cd9879f310c4f5a9b59ea3e96f9c41c",
       "style": "IPY_MODEL_d27751f6c9434533bb49663fb789e6dd",
       "value": "Loading checkpoint shards: 100%"
      }
     },
     "05890aed5082462c92bc62f4127207a1": {
      "model_module": "@jupyter-widgets/controls",
      "model_module_version": "2.0.0",
      "model_name": "HTMLStyleModel",
      "state": {
       "description_width": "",
       "font_size": null,
       "text_color": null
      }
     },
     "0590754a739a4e34891036a6d3e41e60": {
      "model_module": "@jupyter-widgets/controls",
      "model_module_version": "2.0.0",
      "model_name": "HTMLStyleModel",
      "state": {
       "description_width": "",
       "font_size": null,
       "text_color": null
      }
     },
     "06460891116849a0a7be64f2bcb6b9b1": {
      "model_module": "@jupyter-widgets/base",
      "model_module_version": "2.0.0",
      "model_name": "LayoutModel",
      "state": {}
     },
     "07c7594336514007b15f52b168f35a1a": {
      "model_module": "@jupyter-widgets/controls",
      "model_module_version": "2.0.0",
      "model_name": "ProgressStyleModel",
      "state": {
       "description_width": ""
      }
     },
     "0826c90cad7143cba10342c140ddc819": {
      "model_module": "@jupyter-widgets/base",
      "model_module_version": "2.0.0",
      "model_name": "LayoutModel",
      "state": {}
     },
     "0a040e5619b14488b0d15cc9f7707485": {
      "model_module": "@jupyter-widgets/base",
      "model_module_version": "2.0.0",
      "model_name": "LayoutModel",
      "state": {}
     },
     "0a4e1410d4584ef9be078dc97422b87b": {
      "model_module": "@jupyter-widgets/controls",
      "model_module_version": "2.0.0",
      "model_name": "FloatProgressModel",
      "state": {
       "bar_style": "success",
       "layout": "IPY_MODEL_5a719931fdcf4d9888cca95aa2089b7d",
       "max": 2,
       "style": "IPY_MODEL_702967f21b284b42adeca4873e7cb411",
       "value": 2
      }
     },
     "0a59a06a7b054505a214bdeaa7644f2b": {
      "model_module": "@jupyter-widgets/controls",
      "model_module_version": "2.0.0",
      "model_name": "HTMLStyleModel",
      "state": {
       "description_width": "",
       "font_size": null,
       "text_color": null
      }
     },
     "0c748410611445dcb930ca6e40ed3f64": {
      "model_module": "@jupyter-widgets/controls",
      "model_module_version": "2.0.0",
      "model_name": "HTMLModel",
      "state": {
       "layout": "IPY_MODEL_a8f3127a2d8746bfa9458910dd973511",
       "style": "IPY_MODEL_38fe9963a7514c21b6da0928a595f4e2",
       "value": " 2/2 [00:09&lt;00:00,  4.53s/it]"
      }
     },
     "0ce0e539cd6c40119727b4de369e9a61": {
      "model_module": "@jupyter-widgets/base",
      "model_module_version": "2.0.0",
      "model_name": "LayoutModel",
      "state": {}
     },
     "0ed11004bd1044b0912602303ba09e49": {
      "model_module": "@jupyter-widgets/base",
      "model_module_version": "2.0.0",
      "model_name": "LayoutModel",
      "state": {}
     },
     "101019e99cc549b0a0721483f7ac446a": {
      "model_module": "@jupyter-widgets/base",
      "model_module_version": "2.0.0",
      "model_name": "LayoutModel",
      "state": {}
     },
     "11e17e7076db46d299483233ffa2a4fd": {
      "model_module": "@jupyter-widgets/controls",
      "model_module_version": "2.0.0",
      "model_name": "HBoxModel",
      "state": {
       "children": [
        "IPY_MODEL_27a43531bdcb43fa9b4801a0e9c44943",
        "IPY_MODEL_d0ae09df16114969ad27c275ab7ae777",
        "IPY_MODEL_33d080ab4df7431fb6f83d1dbee43096"
       ],
       "layout": "IPY_MODEL_2a635b6f78634f0b8e142a04495422d1"
      }
     },
     "12d81f39fd744826a8f0bb0d1f50f119": {
      "model_module": "@jupyter-widgets/controls",
      "model_module_version": "2.0.0",
      "model_name": "FloatProgressModel",
      "state": {
       "bar_style": "success",
       "layout": "IPY_MODEL_566b94575fed44a5b63e1e96d0c574c3",
       "max": 9942981696,
       "style": "IPY_MODEL_86e1321daf214970928e85a806999d88",
       "value": 9942981696
      }
     },
     "133d469fc7364b2390db8f1b86e1d062": {
      "model_module": "@jupyter-widgets/base",
      "model_module_version": "2.0.0",
      "model_name": "LayoutModel",
      "state": {}
     },
     "150bcb6a4f4c4ec2b59adf2c5c81d1f3": {
      "model_module": "@jupyter-widgets/base",
      "model_module_version": "2.0.0",
      "model_name": "LayoutModel",
      "state": {}
     },
     "17a7af5ad0b9499185231b81e0e90c1f": {
      "model_module": "@jupyter-widgets/controls",
      "model_module_version": "2.0.0",
      "model_name": "HTMLModel",
      "state": {
       "layout": "IPY_MODEL_edf45fa0e7b54fe8acde9baede92bec3",
       "style": "IPY_MODEL_c4dfc7b08cec47d88204375bbd14affd",
       "value": "model-00001-of-00002.safetensors: 100%"
      }
     },
     "19697e1508e547ef95eedf0738832270": {
      "model_module": "@jupyter-widgets/controls",
      "model_module_version": "2.0.0",
      "model_name": "HTMLStyleModel",
      "state": {
       "description_width": "",
       "font_size": null,
       "text_color": null
      }
     },
     "197aa1611bbd467fa45469452ac4f50b": {
      "model_module": "@jupyter-widgets/controls",
      "model_module_version": "2.0.0",
      "model_name": "HTMLStyleModel",
      "state": {
       "description_width": "",
       "font_size": null,
       "text_color": null
      }
     },
     "1987917424ea4f09ae5195dc8b9a9a9d": {
      "model_module": "@jupyter-widgets/controls",
      "model_module_version": "2.0.0",
      "model_name": "HTMLModel",
      "state": {
       "layout": "IPY_MODEL_fa90892f39dc4401ac6fe943914d3072",
       "style": "IPY_MODEL_19697e1508e547ef95eedf0738832270",
       "value": "model.safetensors.index.json: 100%"
      }
     },
     "1a5ddca752dc41968f8d3d988118ea36": {
      "model_module": "@jupyter-widgets/controls",
      "model_module_version": "2.0.0",
      "model_name": "HTMLModel",
      "state": {
       "layout": "IPY_MODEL_75c90f4d2dcb43ce9c13337376d76253",
       "style": "IPY_MODEL_48f2511276a9495980d10c3496eeda2d",
       "value": "generation_config.json: 100%"
      }
     },
     "1a738f3e01cb49938fb3cf25c790d9b1": {
      "model_module": "@jupyter-widgets/controls",
      "model_module_version": "2.0.0",
      "model_name": "ProgressStyleModel",
      "state": {
       "description_width": ""
      }
     },
     "1b942601bdca4e7390f8f00e9879b23e": {
      "model_module": "@jupyter-widgets/base",
      "model_module_version": "2.0.0",
      "model_name": "LayoutModel",
      "state": {}
     },
     "1c038b7dbd5f4abc91be2ec330e202de": {
      "model_module": "@jupyter-widgets/controls",
      "model_module_version": "2.0.0",
      "model_name": "HTMLModel",
      "state": {
       "layout": "IPY_MODEL_8aa04f35297242b7a12d8defffa13114",
       "style": "IPY_MODEL_f57194ee06c24ece96533c5fbd1f1ae6",
       "value": " 2/2 [00:06&lt;00:00,  3.12s/it]"
      }
     },
     "1d15a59d06294b1f83497d959094631c": {
      "model_module": "@jupyter-widgets/controls",
      "model_module_version": "2.0.0",
      "model_name": "HBoxModel",
      "state": {
       "children": [
        "IPY_MODEL_d36e0c6ff8a047509ab5ddf40f7116a0",
        "IPY_MODEL_6022ecd50941460f97c815df63f0f6d6",
        "IPY_MODEL_9bcb13a2ff3c4541beb0f86260ba231c"
       ],
       "layout": "IPY_MODEL_508942e4d7334e56a512af5544a93eb7"
      }
     },
     "1e798eeff10f4faab1590000b378e20c": {
      "model_module": "@jupyter-widgets/base",
      "model_module_version": "2.0.0",
      "model_name": "LayoutModel",
      "state": {}
     },
     "1f4a7955566447908fce0d8e1341f69a": {
      "model_module": "@jupyter-widgets/controls",
      "model_module_version": "2.0.0",
      "model_name": "HTMLStyleModel",
      "state": {
       "description_width": "",
       "font_size": null,
       "text_color": null
      }
     },
     "20a75d0767cc44f6bae6b75f26addd72": {
      "model_module": "@jupyter-widgets/base",
      "model_module_version": "2.0.0",
      "model_name": "LayoutModel",
      "state": {}
     },
     "22e9488739a64d75860007ae844a941a": {
      "model_module": "@jupyter-widgets/base",
      "model_module_version": "2.0.0",
      "model_name": "LayoutModel",
      "state": {}
     },
     "239ac87854804cd9b24f02689271a0ba": {
      "model_module": "@jupyter-widgets/controls",
      "model_module_version": "2.0.0",
      "model_name": "HBoxModel",
      "state": {
       "children": [
        "IPY_MODEL_d364648d80234bb692beb86f68506a6f",
        "IPY_MODEL_5870f0ac3db845ea8986c758108b19ae",
        "IPY_MODEL_b2739e77fca742bd8b797725f249ec8a"
       ],
       "layout": "IPY_MODEL_678d04e2c6864d0bb726fe5b916b6b50"
      }
     },
     "23f8d069ab7b4d91a6b06829f30b4315": {
      "model_module": "@jupyter-widgets/base",
      "model_module_version": "2.0.0",
      "model_name": "LayoutModel",
      "state": {}
     },
     "24f44833efbd4f88b40564c409579278": {
      "model_module": "@jupyter-widgets/base",
      "model_module_version": "2.0.0",
      "model_name": "LayoutModel",
      "state": {}
     },
     "25639ed0201046a99ea7d3394d11dfdf": {
      "model_module": "@jupyter-widgets/base",
      "model_module_version": "2.0.0",
      "model_name": "LayoutModel",
      "state": {}
     },
     "25a9be4e1f1e4bb78a6009182760ba15": {
      "model_module": "@jupyter-widgets/base",
      "model_module_version": "2.0.0",
      "model_name": "LayoutModel",
      "state": {}
     },
     "26dbf62a3d60405b973d51a9dacc177f": {
      "model_module": "@jupyter-widgets/controls",
      "model_module_version": "2.0.0",
      "model_name": "HBoxModel",
      "state": {
       "children": [
        "IPY_MODEL_3908e27307524eb89e9e68aa530d17db",
        "IPY_MODEL_fa844c35def8433eb485db7207e725da",
        "IPY_MODEL_2723f67825714feb9e77f58da382d87c"
       ],
       "layout": "IPY_MODEL_6f742d6a6a9741bfa05e2ed621c7ad34"
      }
     },
     "2723f67825714feb9e77f58da382d87c": {
      "model_module": "@jupyter-widgets/controls",
      "model_module_version": "2.0.0",
      "model_name": "HTMLModel",
      "state": {
       "layout": "IPY_MODEL_d551c70e0692469abef3b9823e4db8b1",
       "style": "IPY_MODEL_f1ec600c353c4449968c98100bf7677f",
       "value": " 2/2 [00:07&lt;00:00,  3.59s/it]"
      }
     },
     "27a43531bdcb43fa9b4801a0e9c44943": {
      "model_module": "@jupyter-widgets/controls",
      "model_module_version": "2.0.0",
      "model_name": "HTMLModel",
      "state": {
       "layout": "IPY_MODEL_66e59626f2d04067964163323823eb16",
       "style": "IPY_MODEL_aa04fa208400436e9d48eac496f3f998",
       "value": "tokenizer.json: 100%"
      }
     },
     "27dab264c7104cfc910bf765443ad854": {
      "model_module": "@jupyter-widgets/controls",
      "model_module_version": "2.0.0",
      "model_name": "HBoxModel",
      "state": {
       "children": [
        "IPY_MODEL_8884e6e838f3404794a61ad21eaf7550",
        "IPY_MODEL_93cfd0e0875343aca96c99705cc86c3a",
        "IPY_MODEL_1c038b7dbd5f4abc91be2ec330e202de"
       ],
       "layout": "IPY_MODEL_98ee768c77024fb8b6323b6955bde9f8"
      }
     },
     "284caacbc5bb44e3a7b81ba2683b52d4": {
      "model_module": "@jupyter-widgets/controls",
      "model_module_version": "2.0.0",
      "model_name": "ProgressStyleModel",
      "state": {
       "description_width": ""
      }
     },
     "2a2708736f4145c1b89b85c9122c224c": {
      "model_module": "@jupyter-widgets/base",
      "model_module_version": "2.0.0",
      "model_name": "LayoutModel",
      "state": {}
     },
     "2a2bef9b569340eb8bfccb79b172ca02": {
      "model_module": "@jupyter-widgets/controls",
      "model_module_version": "2.0.0",
      "model_name": "ProgressStyleModel",
      "state": {
       "description_width": ""
      }
     },
     "2a635b6f78634f0b8e142a04495422d1": {
      "model_module": "@jupyter-widgets/base",
      "model_module_version": "2.0.0",
      "model_name": "LayoutModel",
      "state": {}
     },
     "2cea407d05594009b4f9881d0cfd192e": {
      "model_module": "@jupyter-widgets/controls",
      "model_module_version": "2.0.0",
      "model_name": "FloatProgressModel",
      "state": {
       "bar_style": "success",
       "layout": "IPY_MODEL_80a7b4ea36eb4cb6adcea65d882aef03",
       "max": 25125,
       "style": "IPY_MODEL_bcf315b7fe6e48c29eeee9a5b3a9950b",
       "value": 25125
      }
     },
     "2f30a71e1e68476a832c0e973ad1564e": {
      "model_module": "@jupyter-widgets/controls",
      "model_module_version": "2.0.0",
      "model_name": "HBoxModel",
      "state": {
       "children": [
        "IPY_MODEL_328874b2f5fa4a9182e5a7281ab258da",
        "IPY_MODEL_0246fae56b8844e7859ee49751be94ec",
        "IPY_MODEL_90500d02c1a64b0d9737a4751f35f25e"
       ],
       "layout": "IPY_MODEL_3694085170754844ac17d5a4eede1bcf"
      }
     },
     "2f350835f38841a8ab3d42aeb85d9848": {
      "model_module": "@jupyter-widgets/controls",
      "model_module_version": "2.0.0",
      "model_name": "ProgressStyleModel",
      "state": {
       "description_width": ""
      }
     },
     "304214853abb4e9680692c7d26d4e1b9": {
      "model_module": "@jupyter-widgets/base",
      "model_module_version": "2.0.0",
      "model_name": "LayoutModel",
      "state": {}
     },
     "31156636e0fe4b14ac2105a5a35f13e9": {
      "model_module": "@jupyter-widgets/controls",
      "model_module_version": "2.0.0",
      "model_name": "HTMLStyleModel",
      "state": {
       "description_width": "",
       "font_size": null,
       "text_color": null
      }
     },
     "328874b2f5fa4a9182e5a7281ab258da": {
      "model_module": "@jupyter-widgets/controls",
      "model_module_version": "2.0.0",
      "model_name": "HTMLModel",
      "state": {
       "layout": "IPY_MODEL_150bcb6a4f4c4ec2b59adf2c5c81d1f3",
       "style": "IPY_MODEL_ef29a93b74a04fa89c5bec2ba550c5c0",
       "value": "special_tokens_map.json: 100%"
      }
     },
     "33d080ab4df7431fb6f83d1dbee43096": {
      "model_module": "@jupyter-widgets/controls",
      "model_module_version": "2.0.0",
      "model_name": "HTMLModel",
      "state": {
       "layout": "IPY_MODEL_459b2f5b5eff44aa83f5a42bd2016de9",
       "style": "IPY_MODEL_86244ab5eae141a69a29d4825512ff1a",
       "value": " 1.80M/1.80M [00:00&lt;00:00, 2.05MB/s]"
      }
     },
     "35bd2ee49c7840c3a3542128e490f376": {
      "model_module": "@jupyter-widgets/base",
      "model_module_version": "2.0.0",
      "model_name": "LayoutModel",
      "state": {}
     },
     "35e47949dbb64e46bcb3d7e50ef79f07": {
      "model_module": "@jupyter-widgets/base",
      "model_module_version": "2.0.0",
      "model_name": "LayoutModel",
      "state": {}
     },
     "3694085170754844ac17d5a4eede1bcf": {
      "model_module": "@jupyter-widgets/base",
      "model_module_version": "2.0.0",
      "model_name": "LayoutModel",
      "state": {}
     },
     "36d8cd3caf1e4b34b4603d74454f768a": {
      "model_module": "@jupyter-widgets/controls",
      "model_module_version": "2.0.0",
      "model_name": "HBoxModel",
      "state": {
       "children": [
        "IPY_MODEL_6766589d82394e09a446bc35d7acb025",
        "IPY_MODEL_769047662e714fe0990525a9f832fa15",
        "IPY_MODEL_6cb0d02194734707a7d5de162685545e"
       ],
       "layout": "IPY_MODEL_48c99ab065f34e038503da5d3a3ff0f3"
      }
     },
     "36f53d64b1b44a19839270379dde90f2": {
      "model_module": "@jupyter-widgets/base",
      "model_module_version": "2.0.0",
      "model_name": "LayoutModel",
      "state": {}
     },
     "38b19449a6f54efb98ab888f4c7cf82a": {
      "model_module": "@jupyter-widgets/base",
      "model_module_version": "2.0.0",
      "model_name": "LayoutModel",
      "state": {}
     },
     "38fe9963a7514c21b6da0928a595f4e2": {
      "model_module": "@jupyter-widgets/controls",
      "model_module_version": "2.0.0",
      "model_name": "HTMLStyleModel",
      "state": {
       "description_width": "",
       "font_size": null,
       "text_color": null
      }
     },
     "3908e27307524eb89e9e68aa530d17db": {
      "model_module": "@jupyter-widgets/controls",
      "model_module_version": "2.0.0",
      "model_name": "HTMLModel",
      "state": {
       "layout": "IPY_MODEL_2a2708736f4145c1b89b85c9122c224c",
       "style": "IPY_MODEL_7656d7d44ace4faf8a0f7761a83926da",
       "value": "Loading checkpoint shards: 100%"
      }
     },
     "39ec9b2cf1084afd8c01e46889613cf0": {
      "model_module": "@jupyter-widgets/base",
      "model_module_version": "2.0.0",
      "model_name": "LayoutModel",
      "state": {}
     },
     "3ab8bb0462304de6878141c3bd2a1546": {
      "model_module": "@jupyter-widgets/base",
      "model_module_version": "2.0.0",
      "model_name": "LayoutModel",
      "state": {}
     },
     "3b0570f4eab74e2da981f33913207d0a": {
      "model_module": "@jupyter-widgets/controls",
      "model_module_version": "2.0.0",
      "model_name": "HBoxModel",
      "state": {
       "children": [
        "IPY_MODEL_6f395247125143009168db26166b9841",
        "IPY_MODEL_e3f5af90f695404d994bfee5860dca45",
        "IPY_MODEL_a503ed6981da4883ad6adb669c3baff0"
       ],
       "layout": "IPY_MODEL_20a75d0767cc44f6bae6b75f26addd72"
      }
     },
     "3cd14c260cc8457b95bbaff5fd352db2": {
      "model_module": "@jupyter-widgets/controls",
      "model_module_version": "2.0.0",
      "model_name": "HTMLStyleModel",
      "state": {
       "description_width": "",
       "font_size": null,
       "text_color": null
      }
     },
     "3d4fd020af5b481db862bb0f850f7f56": {
      "model_module": "@jupyter-widgets/controls",
      "model_module_version": "2.0.0",
      "model_name": "ProgressStyleModel",
      "state": {
       "description_width": ""
      }
     },
     "3eaf75ff671544059fab6f6105b49c23": {
      "model_module": "@jupyter-widgets/base",
      "model_module_version": "2.0.0",
      "model_name": "LayoutModel",
      "state": {}
     },
     "40e8857f6a11442982286b462dc24c87": {
      "model_module": "@jupyter-widgets/controls",
      "model_module_version": "2.0.0",
      "model_name": "HTMLModel",
      "state": {
       "layout": "IPY_MODEL_133d469fc7364b2390db8f1b86e1d062",
       "style": "IPY_MODEL_8f4a55ad8986451088943c21b7c1b54b",
       "value": " 2/2 [00:09&lt;00:00,  4.59s/it]"
      }
     },
     "412b0aa73fb549f7ada3ce43fd6a8f72": {
      "model_module": "@jupyter-widgets/controls",
      "model_module_version": "2.0.0",
      "model_name": "HBoxModel",
      "state": {
       "children": [
        "IPY_MODEL_1a5ddca752dc41968f8d3d988118ea36",
        "IPY_MODEL_e4e2d2f4dd9044ff8d91795f11e8cfe6",
        "IPY_MODEL_e3c85a4d02fe4a28985b7bc78d31048e"
       ],
       "layout": "IPY_MODEL_e4ed3827d3334c5dbf84cd505f413caf"
      }
     },
     "412dd10e46714d42ba42669c6df36038": {
      "model_module": "@jupyter-widgets/base",
      "model_module_version": "2.0.0",
      "model_name": "LayoutModel",
      "state": {}
     },
     "43ad209accf442c596d5907b8e2770d6": {
      "model_module": "@jupyter-widgets/controls",
      "model_module_version": "2.0.0",
      "model_name": "FloatProgressModel",
      "state": {
       "bar_style": "success",
       "layout": "IPY_MODEL_1e798eeff10f4faab1590000b378e20c",
       "max": 2,
       "style": "IPY_MODEL_1a738f3e01cb49938fb3cf25c790d9b1",
       "value": 2
      }
     },
     "43c827aefc7d460ab9f7c2f26b745967": {
      "model_module": "@jupyter-widgets/controls",
      "model_module_version": "2.0.0",
      "model_name": "HTMLStyleModel",
      "state": {
       "description_width": "",
       "font_size": null,
       "text_color": null
      }
     },
     "43e6cd2062c44c8490ca05c3967b7e2d": {
      "model_module": "@jupyter-widgets/base",
      "model_module_version": "2.0.0",
      "model_name": "LayoutModel",
      "state": {}
     },
     "459b2f5b5eff44aa83f5a42bd2016de9": {
      "model_module": "@jupyter-widgets/base",
      "model_module_version": "2.0.0",
      "model_name": "LayoutModel",
      "state": {}
     },
     "46c88f8dbb3541c9b3c9379588d1ecf0": {
      "model_module": "@jupyter-widgets/controls",
      "model_module_version": "2.0.0",
      "model_name": "HTMLStyleModel",
      "state": {
       "description_width": "",
       "font_size": null,
       "text_color": null
      }
     },
     "482ee7175bee43ba86e1ea91482ee42e": {
      "model_module": "@jupyter-widgets/controls",
      "model_module_version": "2.0.0",
      "model_name": "HTMLModel",
      "state": {
       "layout": "IPY_MODEL_c3178c0d482b47daa374e80c176cbb98",
       "style": "IPY_MODEL_03d7c37ea87e43f0940db92c905572a9",
       "value": " 2/2 [00:05&lt;00:00,  2.77s/it]"
      }
     },
     "48c99ab065f34e038503da5d3a3ff0f3": {
      "model_module": "@jupyter-widgets/base",
      "model_module_version": "2.0.0",
      "model_name": "LayoutModel",
      "state": {}
     },
     "48f2511276a9495980d10c3496eeda2d": {
      "model_module": "@jupyter-widgets/controls",
      "model_module_version": "2.0.0",
      "model_name": "HTMLStyleModel",
      "state": {
       "description_width": "",
       "font_size": null,
       "text_color": null
      }
     },
     "494ffd9e71b54253acd213718e007653": {
      "model_module": "@jupyter-widgets/base",
      "model_module_version": "2.0.0",
      "model_name": "LayoutModel",
      "state": {}
     },
     "49f450ccc32d490aa8d3d908422500af": {
      "model_module": "@jupyter-widgets/base",
      "model_module_version": "2.0.0",
      "model_name": "LayoutModel",
      "state": {}
     },
     "4a6bc2ba59444e91b7b1b8e59d00028a": {
      "model_module": "@jupyter-widgets/controls",
      "model_module_version": "2.0.0",
      "model_name": "HTMLStyleModel",
      "state": {
       "description_width": "",
       "font_size": null,
       "text_color": null
      }
     },
     "4c9df45d6b12445cb681a11e41cb303f": {
      "model_module": "@jupyter-widgets/controls",
      "model_module_version": "2.0.0",
      "model_name": "HBoxModel",
      "state": {
       "children": [
        "IPY_MODEL_03e7d9f7fe144dbdb24de44ba54fe88e",
        "IPY_MODEL_53e32b41a2e94150b11c7cf5915dbc32",
        "IPY_MODEL_40e8857f6a11442982286b462dc24c87"
       ],
       "layout": "IPY_MODEL_ef022ce5a01c42309478a5133c4386e5"
      }
     },
     "4d343cd3a88d4fceabaee69ec88cbb3e": {
      "model_module": "@jupyter-widgets/base",
      "model_module_version": "2.0.0",
      "model_name": "LayoutModel",
      "state": {}
     },
     "508942e4d7334e56a512af5544a93eb7": {
      "model_module": "@jupyter-widgets/base",
      "model_module_version": "2.0.0",
      "model_name": "LayoutModel",
      "state": {}
     },
     "514bf005ed914550835b4a1f7c6d7bbe": {
      "model_module": "@jupyter-widgets/base",
      "model_module_version": "2.0.0",
      "model_name": "LayoutModel",
      "state": {}
     },
     "53e32b41a2e94150b11c7cf5915dbc32": {
      "model_module": "@jupyter-widgets/controls",
      "model_module_version": "2.0.0",
      "model_name": "FloatProgressModel",
      "state": {
       "bar_style": "success",
       "layout": "IPY_MODEL_77b4dddd08b4430f9b2bf283b9a3d115",
       "max": 2,
       "style": "IPY_MODEL_07c7594336514007b15f52b168f35a1a",
       "value": 2
      }
     },
     "566b94575fed44a5b63e1e96d0c574c3": {
      "model_module": "@jupyter-widgets/base",
      "model_module_version": "2.0.0",
      "model_name": "LayoutModel",
      "state": {}
     },
     "56f36f7d55d4408c9b2682a880937df9": {
      "model_module": "@jupyter-widgets/base",
      "model_module_version": "2.0.0",
      "model_name": "LayoutModel",
      "state": {}
     },
     "5870f0ac3db845ea8986c758108b19ae": {
      "model_module": "@jupyter-widgets/controls",
      "model_module_version": "2.0.0",
      "model_name": "FloatProgressModel",
      "state": {
       "bar_style": "success",
       "layout": "IPY_MODEL_514bf005ed914550835b4a1f7c6d7bbe",
       "max": 2,
       "style": "IPY_MODEL_b50202bc68b445dda7bab4146e7e6961",
       "value": 2
      }
     },
     "5a719931fdcf4d9888cca95aa2089b7d": {
      "model_module": "@jupyter-widgets/base",
      "model_module_version": "2.0.0",
      "model_name": "LayoutModel",
      "state": {}
     },
     "5b08615ceebf4e97b659dc9931d7687e": {
      "model_module": "@jupyter-widgets/base",
      "model_module_version": "2.0.0",
      "model_name": "LayoutModel",
      "state": {}
     },
     "5b227ab7f28740fd8bf05b07d24da040": {
      "model_module": "@jupyter-widgets/base",
      "model_module_version": "2.0.0",
      "model_name": "LayoutModel",
      "state": {}
     },
     "6022ecd50941460f97c815df63f0f6d6": {
      "model_module": "@jupyter-widgets/controls",
      "model_module_version": "2.0.0",
      "model_name": "FloatProgressModel",
      "state": {
       "bar_style": "success",
       "layout": "IPY_MODEL_23f8d069ab7b4d91a6b06829f30b4315",
       "max": 2,
       "style": "IPY_MODEL_8baa3b548aef44f7aeccae2e5aaef1a2",
       "value": 2
      }
     },
     "60b2bad24f5c4cffb2132b064bbe38d3": {
      "model_module": "@jupyter-widgets/controls",
      "model_module_version": "2.0.0",
      "model_name": "ProgressStyleModel",
      "state": {
       "description_width": ""
      }
     },
     "61cecf61803248ae95e52ce17b1bf4d9": {
      "model_module": "@jupyter-widgets/controls",
      "model_module_version": "2.0.0",
      "model_name": "HTMLModel",
      "state": {
       "layout": "IPY_MODEL_56f36f7d55d4408c9b2682a880937df9",
       "style": "IPY_MODEL_05890aed5082462c92bc62f4127207a1",
       "value": " 2/2 [00:07&lt;00:00,  3.39s/it]"
      }
     },
     "63f366c4cba947aca071bfceaa29735a": {
      "model_module": "@jupyter-widgets/controls",
      "model_module_version": "2.0.0",
      "model_name": "ProgressStyleModel",
      "state": {
       "description_width": ""
      }
     },
     "65b0673eda6e455bbde161411c80f86e": {
      "model_module": "@jupyter-widgets/base",
      "model_module_version": "2.0.0",
      "model_name": "LayoutModel",
      "state": {}
     },
     "65d9ae47c71e4af0a74c6d5979e20550": {
      "model_module": "@jupyter-widgets/base",
      "model_module_version": "2.0.0",
      "model_name": "LayoutModel",
      "state": {}
     },
     "66e59626f2d04067964163323823eb16": {
      "model_module": "@jupyter-widgets/base",
      "model_module_version": "2.0.0",
      "model_name": "LayoutModel",
      "state": {}
     },
     "6766589d82394e09a446bc35d7acb025": {
      "model_module": "@jupyter-widgets/controls",
      "model_module_version": "2.0.0",
      "model_name": "HTMLModel",
      "state": {
       "layout": "IPY_MODEL_4d343cd3a88d4fceabaee69ec88cbb3e",
       "style": "IPY_MODEL_7c726d10298f4adabeac2895f2026ce2",
       "value": "Loading checkpoint shards: 100%"
      }
     },
     "678d04e2c6864d0bb726fe5b916b6b50": {
      "model_module": "@jupyter-widgets/base",
      "model_module_version": "2.0.0",
      "model_name": "LayoutModel",
      "state": {}
     },
     "67f734bde4484f159b4efde17dad91c7": {
      "model_module": "@jupyter-widgets/controls",
      "model_module_version": "2.0.0",
      "model_name": "HBoxModel",
      "state": {
       "children": [
        "IPY_MODEL_969cff50e763446d969ecd43c9d604bd",
        "IPY_MODEL_9644126d829a42c2a75ad6ba24481c34",
        "IPY_MODEL_482ee7175bee43ba86e1ea91482ee42e"
       ],
       "layout": "IPY_MODEL_25a9be4e1f1e4bb78a6009182760ba15"
      }
     },
     "69afdb8b0e0a4e60a2b89ef01b4f4ca6": {
      "model_module": "@jupyter-widgets/controls",
      "model_module_version": "2.0.0",
      "model_name": "HTMLModel",
      "state": {
       "layout": "IPY_MODEL_f249e81238ae4d8599ea6a33236c6ada",
       "style": "IPY_MODEL_fa7ab67326b040a9979d03655a2f6950",
       "value": "Loading checkpoint shards: 100%"
      }
     },
     "69d6ca77c3c7424fb338d11976eeb518": {
      "model_module": "@jupyter-widgets/controls",
      "model_module_version": "2.0.0",
      "model_name": "HTMLModel",
      "state": {
       "layout": "IPY_MODEL_b78f5e5786f942f48439587609c5f54e",
       "style": "IPY_MODEL_46c88f8dbb3541c9b3c9379588d1ecf0",
       "value": " 25.1k/25.1k [00:00&lt;00:00, 4.19MB/s]"
      }
     },
     "6cb0d02194734707a7d5de162685545e": {
      "model_module": "@jupyter-widgets/controls",
      "model_module_version": "2.0.0",
      "model_name": "HTMLModel",
      "state": {
       "layout": "IPY_MODEL_43e6cd2062c44c8490ca05c3967b7e2d",
       "style": "IPY_MODEL_7a1a97ff8a224cdb8314e07f3ed32514",
       "value": " 2/2 [00:10&lt;00:00,  4.59s/it]"
      }
     },
     "6d7cd0aec73946ef8e903f4e20af1460": {
      "model_module": "@jupyter-widgets/controls",
      "model_module_version": "2.0.0",
      "model_name": "ProgressStyleModel",
      "state": {
       "description_width": ""
      }
     },
     "6f395247125143009168db26166b9841": {
      "model_module": "@jupyter-widgets/controls",
      "model_module_version": "2.0.0",
      "model_name": "HTMLModel",
      "state": {
       "layout": "IPY_MODEL_e634e84e84414de898002306d79aadef",
       "style": "IPY_MODEL_f314cd41d04d4bd1a5e67c3f1a2e7060",
       "value": "Loading checkpoint shards: 100%"
      }
     },
     "6f742d6a6a9741bfa05e2ed621c7ad34": {
      "model_module": "@jupyter-widgets/base",
      "model_module_version": "2.0.0",
      "model_name": "LayoutModel",
      "state": {}
     },
     "702967f21b284b42adeca4873e7cb411": {
      "model_module": "@jupyter-widgets/controls",
      "model_module_version": "2.0.0",
      "model_name": "ProgressStyleModel",
      "state": {
       "description_width": ""
      }
     },
     "7132b6abde8a446e9e8e36d43c88fb14": {
      "model_module": "@jupyter-widgets/controls",
      "model_module_version": "2.0.0",
      "model_name": "HBoxModel",
      "state": {
       "children": [
        "IPY_MODEL_faca96949a72416eb479e1aa3930d0a3",
        "IPY_MODEL_0385064b2cd745cea85df026c36210ac",
        "IPY_MODEL_dc29ae8f4d964e8fb60ed99e9c6b1633"
       ],
       "layout": "IPY_MODEL_35e47949dbb64e46bcb3d7e50ef79f07"
      }
     },
     "716877a957864a27a0ace7f2be34d477": {
      "model_module": "@jupyter-widgets/controls",
      "model_module_version": "2.0.0",
      "model_name": "HTMLStyleModel",
      "state": {
       "description_width": "",
       "font_size": null,
       "text_color": null
      }
     },
     "721afd374a3d4eea9a8cd9e99fd8537a": {
      "model_module": "@jupyter-widgets/controls",
      "model_module_version": "2.0.0",
      "model_name": "HTMLStyleModel",
      "state": {
       "description_width": "",
       "font_size": null,
       "text_color": null
      }
     },
     "75b3e621912d42a584cd23f052a35070": {
      "model_module": "@jupyter-widgets/controls",
      "model_module_version": "2.0.0",
      "model_name": "HTMLStyleModel",
      "state": {
       "description_width": "",
       "font_size": null,
       "text_color": null
      }
     },
     "75c90f4d2dcb43ce9c13337376d76253": {
      "model_module": "@jupyter-widgets/base",
      "model_module_version": "2.0.0",
      "model_name": "LayoutModel",
      "state": {}
     },
     "75e8b7b08fa646a692316eb01681f8af": {
      "model_module": "@jupyter-widgets/base",
      "model_module_version": "2.0.0",
      "model_name": "LayoutModel",
      "state": {}
     },
     "7656d7d44ace4faf8a0f7761a83926da": {
      "model_module": "@jupyter-widgets/controls",
      "model_module_version": "2.0.0",
      "model_name": "HTMLStyleModel",
      "state": {
       "description_width": "",
       "font_size": null,
       "text_color": null
      }
     },
     "769047662e714fe0990525a9f832fa15": {
      "model_module": "@jupyter-widgets/controls",
      "model_module_version": "2.0.0",
      "model_name": "FloatProgressModel",
      "state": {
       "bar_style": "success",
       "layout": "IPY_MODEL_304214853abb4e9680692c7d26d4e1b9",
       "max": 2,
       "style": "IPY_MODEL_ea712575ccc74894a868f53c334382d0",
       "value": 2
      }
     },
     "77b4dddd08b4430f9b2bf283b9a3d115": {
      "model_module": "@jupyter-widgets/base",
      "model_module_version": "2.0.0",
      "model_name": "LayoutModel",
      "state": {}
     },
     "77e3cc4fa99c4473add249b0b85402b8": {
      "model_module": "@jupyter-widgets/controls",
      "model_module_version": "2.0.0",
      "model_name": "FloatProgressModel",
      "state": {
       "bar_style": "success",
       "layout": "IPY_MODEL_ef71e05c076f48e1aeeadf07b50daa96",
       "max": 571,
       "style": "IPY_MODEL_d23c59caac54480baa24fba0da62b10f",
       "value": 571
      }
     },
     "7850a702161d481fbc56f0fd4536d1fb": {
      "model_module": "@jupyter-widgets/base",
      "model_module_version": "2.0.0",
      "model_name": "LayoutModel",
      "state": {}
     },
     "794466e77d2c49a3b675aa5135de0bec": {
      "model_module": "@jupyter-widgets/controls",
      "model_module_version": "2.0.0",
      "model_name": "HTMLStyleModel",
      "state": {
       "description_width": "",
       "font_size": null,
       "text_color": null
      }
     },
     "79fc85695a294ea98e5c54233e55c18f": {
      "model_module": "@jupyter-widgets/base",
      "model_module_version": "2.0.0",
      "model_name": "LayoutModel",
      "state": {}
     },
     "7a1a97ff8a224cdb8314e07f3ed32514": {
      "model_module": "@jupyter-widgets/controls",
      "model_module_version": "2.0.0",
      "model_name": "HTMLStyleModel",
      "state": {
       "description_width": "",
       "font_size": null,
       "text_color": null
      }
     },
     "7c02df1cfc1f4185b18197cd4e9abbd1": {
      "model_module": "@jupyter-widgets/controls",
      "model_module_version": "2.0.0",
      "model_name": "HTMLStyleModel",
      "state": {
       "description_width": "",
       "font_size": null,
       "text_color": null
      }
     },
     "7c44be2434c14c09ae185617c8da2d84": {
      "model_module": "@jupyter-widgets/controls",
      "model_module_version": "2.0.0",
      "model_name": "FloatProgressModel",
      "state": {
       "bar_style": "success",
       "layout": "IPY_MODEL_06460891116849a0a7be64f2bcb6b9b1",
       "max": 2,
       "style": "IPY_MODEL_2f350835f38841a8ab3d42aeb85d9848",
       "value": 2
      }
     },
     "7c726d10298f4adabeac2895f2026ce2": {
      "model_module": "@jupyter-widgets/controls",
      "model_module_version": "2.0.0",
      "model_name": "HTMLStyleModel",
      "state": {
       "description_width": "",
       "font_size": null,
       "text_color": null
      }
     },
     "7cd9879f310c4f5a9b59ea3e96f9c41c": {
      "model_module": "@jupyter-widgets/base",
      "model_module_version": "2.0.0",
      "model_name": "LayoutModel",
      "state": {}
     },
     "7f9de742e0a740908c652f469c61b1af": {
      "model_module": "@jupyter-widgets/base",
      "model_module_version": "2.0.0",
      "model_name": "LayoutModel",
      "state": {}
     },
     "806c3f29f65c4031a8588460930b2375": {
      "model_module": "@jupyter-widgets/controls",
      "model_module_version": "2.0.0",
      "model_name": "HBoxModel",
      "state": {
       "children": [
        "IPY_MODEL_c57415369daa4892a15d2d708e5c2710",
        "IPY_MODEL_7c44be2434c14c09ae185617c8da2d84",
        "IPY_MODEL_61cecf61803248ae95e52ce17b1bf4d9"
       ],
       "layout": "IPY_MODEL_b8845e67bfac417dbac26324c5bfa745"
      }
     },
     "80a7b4ea36eb4cb6adcea65d882aef03": {
      "model_module": "@jupyter-widgets/base",
      "model_module_version": "2.0.0",
      "model_name": "LayoutModel",
      "state": {}
     },
     "81dd85902c5e4acda004fd6bd7193ae7": {
      "model_module": "@jupyter-widgets/base",
      "model_module_version": "2.0.0",
      "model_name": "LayoutModel",
      "state": {}
     },
     "81f1129d9269487aad11738a3d576a5a": {
      "model_module": "@jupyter-widgets/controls",
      "model_module_version": "2.0.0",
      "model_name": "HBoxModel",
      "state": {
       "children": [
        "IPY_MODEL_ef21d3340dfe40529098ee1964e9073a",
        "IPY_MODEL_e728ef0f0c594e52b45514d6333edb02",
        "IPY_MODEL_cb5b154cbf044373ad6530f13f3ccf84"
       ],
       "layout": "IPY_MODEL_65d9ae47c71e4af0a74c6d5979e20550"
      }
     },
     "8388eacaf9e84f0e817f7b685aaceecd": {
      "model_module": "@jupyter-widgets/base",
      "model_module_version": "2.0.0",
      "model_name": "LayoutModel",
      "state": {}
     },
     "842a55942dfa435ca0b4b7f08af1ded8": {
      "model_module": "@jupyter-widgets/controls",
      "model_module_version": "2.0.0",
      "model_name": "HTMLModel",
      "state": {
       "layout": "IPY_MODEL_8388eacaf9e84f0e817f7b685aaceecd",
       "style": "IPY_MODEL_94780ea298b44064910f3fb960c57377",
       "value": " 493k/493k [00:00&lt;00:00, 30.8MB/s]"
      }
     },
     "86244ab5eae141a69a29d4825512ff1a": {
      "model_module": "@jupyter-widgets/controls",
      "model_module_version": "2.0.0",
      "model_name": "HTMLStyleModel",
      "state": {
       "description_width": "",
       "font_size": null,
       "text_color": null
      }
     },
     "86e1321daf214970928e85a806999d88": {
      "model_module": "@jupyter-widgets/controls",
      "model_module_version": "2.0.0",
      "model_name": "ProgressStyleModel",
      "state": {
       "description_width": ""
      }
     },
     "875502e83dc74e6d9b75c0876729bef2": {
      "model_module": "@jupyter-widgets/controls",
      "model_module_version": "2.0.0",
      "model_name": "HBoxModel",
      "state": {
       "children": [
        "IPY_MODEL_17a7af5ad0b9499185231b81e0e90c1f",
        "IPY_MODEL_12d81f39fd744826a8f0bb0d1f50f119",
        "IPY_MODEL_c36659f2ebc54130b790b03702b9b6f8"
       ],
       "layout": "IPY_MODEL_cffb62f708044b42a729fdaaaaaf7ffc"
      }
     },
     "8884e6e838f3404794a61ad21eaf7550": {
      "model_module": "@jupyter-widgets/controls",
      "model_module_version": "2.0.0",
      "model_name": "HTMLModel",
      "state": {
       "layout": "IPY_MODEL_81dd85902c5e4acda004fd6bd7193ae7",
       "style": "IPY_MODEL_e1dfdd1815b54610b20d8cb12dd9b28e",
       "value": "Loading checkpoint shards: 100%"
      }
     },
     "89b214b8615149519ad22e9a83d516d1": {
      "model_module": "@jupyter-widgets/controls",
      "model_module_version": "2.0.0",
      "model_name": "HBoxModel",
      "state": {
       "children": [
        "IPY_MODEL_c57ba0e48402471c89be52ad0cfe1554",
        "IPY_MODEL_c9e9542822aa4e29aaf576458703428a",
        "IPY_MODEL_842a55942dfa435ca0b4b7f08af1ded8"
       ],
       "layout": "IPY_MODEL_49f450ccc32d490aa8d3d908422500af"
      }
     },
     "8aa04f35297242b7a12d8defffa13114": {
      "model_module": "@jupyter-widgets/base",
      "model_module_version": "2.0.0",
      "model_name": "LayoutModel",
      "state": {}
     },
     "8baa3b548aef44f7aeccae2e5aaef1a2": {
      "model_module": "@jupyter-widgets/controls",
      "model_module_version": "2.0.0",
      "model_name": "ProgressStyleModel",
      "state": {
       "description_width": ""
      }
     },
     "8c17086807064b17b07e2a73ca10f283": {
      "model_module": "@jupyter-widgets/controls",
      "model_module_version": "2.0.0",
      "model_name": "HTMLStyleModel",
      "state": {
       "description_width": "",
       "font_size": null,
       "text_color": null
      }
     },
     "8f4a55ad8986451088943c21b7c1b54b": {
      "model_module": "@jupyter-widgets/controls",
      "model_module_version": "2.0.0",
      "model_name": "HTMLStyleModel",
      "state": {
       "description_width": "",
       "font_size": null,
       "text_color": null
      }
     },
     "8fc5286949b045f2b3f2fd3e07f3343d": {
      "model_module": "@jupyter-widgets/base",
      "model_module_version": "2.0.0",
      "model_name": "LayoutModel",
      "state": {}
     },
     "9008ad67f8d04f1ea4ab56d66c247872": {
      "model_module": "@jupyter-widgets/controls",
      "model_module_version": "2.0.0",
      "model_name": "ProgressStyleModel",
      "state": {
       "description_width": ""
      }
     },
     "90500d02c1a64b0d9737a4751f35f25e": {
      "model_module": "@jupyter-widgets/controls",
      "model_module_version": "2.0.0",
      "model_name": "HTMLModel",
      "state": {
       "layout": "IPY_MODEL_35bd2ee49c7840c3a3542128e490f376",
       "style": "IPY_MODEL_f39280bc33dd4d5185a984fe413a65f3",
       "value": " 414/414 [00:00&lt;00:00, 69.0kB/s]"
      }
     },
     "90bd0f15aefa4b21bd3c250a31ea42f7": {
      "model_module": "@jupyter-widgets/controls",
      "model_module_version": "2.0.0",
      "model_name": "HTMLStyleModel",
      "state": {
       "description_width": "",
       "font_size": null,
       "text_color": null
      }
     },
     "93cfd0e0875343aca96c99705cc86c3a": {
      "model_module": "@jupyter-widgets/controls",
      "model_module_version": "2.0.0",
      "model_name": "FloatProgressModel",
      "state": {
       "bar_style": "success",
       "layout": "IPY_MODEL_02c6e92f8dac43979c6cf23dbaf653d8",
       "max": 2,
       "style": "IPY_MODEL_60b2bad24f5c4cffb2132b064bbe38d3",
       "value": 2
      }
     },
     "94780ea298b44064910f3fb960c57377": {
      "model_module": "@jupyter-widgets/controls",
      "model_module_version": "2.0.0",
      "model_name": "HTMLStyleModel",
      "state": {
       "description_width": "",
       "font_size": null,
       "text_color": null
      }
     },
     "9644126d829a42c2a75ad6ba24481c34": {
      "model_module": "@jupyter-widgets/controls",
      "model_module_version": "2.0.0",
      "model_name": "FloatProgressModel",
      "state": {
       "bar_style": "success",
       "layout": "IPY_MODEL_ffcc365d273243a9b922f3fa212e2cc6",
       "max": 2,
       "style": "IPY_MODEL_acdab14338c74513b454bdb141c2e402",
       "value": 2
      }
     },
     "969cff50e763446d969ecd43c9d604bd": {
      "model_module": "@jupyter-widgets/controls",
      "model_module_version": "2.0.0",
      "model_name": "HTMLModel",
      "state": {
       "layout": "IPY_MODEL_5b08615ceebf4e97b659dc9931d7687e",
       "style": "IPY_MODEL_43c827aefc7d460ab9f7c2f26b745967",
       "value": "Loading checkpoint shards: 100%"
      }
     },
     "98ee768c77024fb8b6323b6955bde9f8": {
      "model_module": "@jupyter-widgets/base",
      "model_module_version": "2.0.0",
      "model_name": "LayoutModel",
      "state": {}
     },
     "9a60ce72bbd54c12a2e94e152e99c0bf": {
      "model_module": "@jupyter-widgets/controls",
      "model_module_version": "2.0.0",
      "model_name": "HBoxModel",
      "state": {
       "children": [
        "IPY_MODEL_69afdb8b0e0a4e60a2b89ef01b4f4ca6",
        "IPY_MODEL_cb48263866784603b6e8e2863d963a2f",
        "IPY_MODEL_0c748410611445dcb930ca6e40ed3f64"
       ],
       "layout": "IPY_MODEL_79fc85695a294ea98e5c54233e55c18f"
      }
     },
     "9b72b939ee6c4910a3e95fdd08c74c94": {
      "model_module": "@jupyter-widgets/controls",
      "model_module_version": "2.0.0",
      "model_name": "HTMLStyleModel",
      "state": {
       "description_width": "",
       "font_size": null,
       "text_color": null
      }
     },
     "9bcb13a2ff3c4541beb0f86260ba231c": {
      "model_module": "@jupyter-widgets/controls",
      "model_module_version": "2.0.0",
      "model_name": "HTMLModel",
      "state": {
       "layout": "IPY_MODEL_d31f2a22ef4942fe98ca26dfc505c23c",
       "style": "IPY_MODEL_721afd374a3d4eea9a8cd9e99fd8537a",
       "value": " 2/2 [00:07&lt;00:00,  3.42s/it]"
      }
     },
     "9d14b002846747cfac54d9d1a69418dc": {
      "model_module": "@jupyter-widgets/controls",
      "model_module_version": "2.0.0",
      "model_name": "HTMLStyleModel",
      "state": {
       "description_width": "",
       "font_size": null,
       "text_color": null
      }
     },
     "9f123cb296f64393a34e117765817c9b": {
      "model_module": "@jupyter-widgets/base",
      "model_module_version": "2.0.0",
      "model_name": "LayoutModel",
      "state": {}
     },
     "a18f2024c98b4e68a1db161ff4e581e6": {
      "model_module": "@jupyter-widgets/controls",
      "model_module_version": "2.0.0",
      "model_name": "ProgressStyleModel",
      "state": {
       "description_width": ""
      }
     },
     "a1f1707300544338b71f2abb8ab0c587": {
      "model_module": "@jupyter-widgets/controls",
      "model_module_version": "2.0.0",
      "model_name": "HTMLModel",
      "state": {
       "layout": "IPY_MODEL_d6d5f0badf61440babe2f2a832a790bc",
       "style": "IPY_MODEL_b4e3309c8f4541e08173388141111bf7",
       "value": " 2/2 [00:05&lt;00:00,  2.35s/it]"
      }
     },
     "a38e041a063c4fd3a4f44b8a786e194b": {
      "model_module": "@jupyter-widgets/controls",
      "model_module_version": "2.0.0",
      "model_name": "ProgressStyleModel",
      "state": {
       "description_width": ""
      }
     },
     "a503ed6981da4883ad6adb669c3baff0": {
      "model_module": "@jupyter-widgets/controls",
      "model_module_version": "2.0.0",
      "model_name": "HTMLModel",
      "state": {
       "layout": "IPY_MODEL_38b19449a6f54efb98ab888f4c7cf82a",
       "style": "IPY_MODEL_9b72b939ee6c4910a3e95fdd08c74c94",
       "value": " 2/2 [00:06&lt;00:00,  2.93s/it]"
      }
     },
     "a8f3127a2d8746bfa9458910dd973511": {
      "model_module": "@jupyter-widgets/base",
      "model_module_version": "2.0.0",
      "model_name": "LayoutModel",
      "state": {}
     },
     "a94e949aa1604f35b86659b8d8907162": {
      "model_module": "@jupyter-widgets/base",
      "model_module_version": "2.0.0",
      "model_name": "LayoutModel",
      "state": {}
     },
     "aa04fa208400436e9d48eac496f3f998": {
      "model_module": "@jupyter-widgets/controls",
      "model_module_version": "2.0.0",
      "model_name": "HTMLStyleModel",
      "state": {
       "description_width": "",
       "font_size": null,
       "text_color": null
      }
     },
     "acdab14338c74513b454bdb141c2e402": {
      "model_module": "@jupyter-widgets/controls",
      "model_module_version": "2.0.0",
      "model_name": "ProgressStyleModel",
      "state": {
       "description_width": ""
      }
     },
     "acfb5f7d6dde4e6780f9464df39ac870": {
      "model_module": "@jupyter-widgets/controls",
      "model_module_version": "2.0.0",
      "model_name": "HBoxModel",
      "state": {
       "children": [
        "IPY_MODEL_1987917424ea4f09ae5195dc8b9a9a9d",
        "IPY_MODEL_2cea407d05594009b4f9881d0cfd192e",
        "IPY_MODEL_69d6ca77c3c7424fb338d11976eeb518"
       ],
       "layout": "IPY_MODEL_b8c906e0413a4dba8279668d824f91e9"
      }
     },
     "b172ded57c134ae1a60539010d4fe0b2": {
      "model_module": "@jupyter-widgets/controls",
      "model_module_version": "2.0.0",
      "model_name": "HTMLModel",
      "state": {
       "layout": "IPY_MODEL_0a040e5619b14488b0d15cc9f7707485",
       "style": "IPY_MODEL_1f4a7955566447908fce0d8e1341f69a",
       "value": "config.json: 100%"
      }
     },
     "b2739e77fca742bd8b797725f249ec8a": {
      "model_module": "@jupyter-widgets/controls",
      "model_module_version": "2.0.0",
      "model_name": "HTMLModel",
      "state": {
       "layout": "IPY_MODEL_36f53d64b1b44a19839270379dde90f2",
       "style": "IPY_MODEL_0a59a06a7b054505a214bdeaa7644f2b",
       "value": " 2/2 [00:04&lt;00:00,  2.18s/it]"
      }
     },
     "b37bb64452ae403c9598efadc8126819": {
      "model_module": "@jupyter-widgets/controls",
      "model_module_version": "2.0.0",
      "model_name": "ProgressStyleModel",
      "state": {
       "description_width": ""
      }
     },
     "b4e3309c8f4541e08173388141111bf7": {
      "model_module": "@jupyter-widgets/controls",
      "model_module_version": "2.0.0",
      "model_name": "HTMLStyleModel",
      "state": {
       "description_width": "",
       "font_size": null,
       "text_color": null
      }
     },
     "b50202bc68b445dda7bab4146e7e6961": {
      "model_module": "@jupyter-widgets/controls",
      "model_module_version": "2.0.0",
      "model_name": "ProgressStyleModel",
      "state": {
       "description_width": ""
      }
     },
     "b78f5e5786f942f48439587609c5f54e": {
      "model_module": "@jupyter-widgets/base",
      "model_module_version": "2.0.0",
      "model_name": "LayoutModel",
      "state": {}
     },
     "b8845e67bfac417dbac26324c5bfa745": {
      "model_module": "@jupyter-widgets/base",
      "model_module_version": "2.0.0",
      "model_name": "LayoutModel",
      "state": {}
     },
     "b8c906e0413a4dba8279668d824f91e9": {
      "model_module": "@jupyter-widgets/base",
      "model_module_version": "2.0.0",
      "model_name": "LayoutModel",
      "state": {}
     },
     "bc30fc9b2aa148f7966315440f576b14": {
      "model_module": "@jupyter-widgets/base",
      "model_module_version": "2.0.0",
      "model_name": "LayoutModel",
      "state": {}
     },
     "bcf315b7fe6e48c29eeee9a5b3a9950b": {
      "model_module": "@jupyter-widgets/controls",
      "model_module_version": "2.0.0",
      "model_name": "ProgressStyleModel",
      "state": {
       "description_width": ""
      }
     },
     "c3178c0d482b47daa374e80c176cbb98": {
      "model_module": "@jupyter-widgets/base",
      "model_module_version": "2.0.0",
      "model_name": "LayoutModel",
      "state": {}
     },
     "c36659f2ebc54130b790b03702b9b6f8": {
      "model_module": "@jupyter-widgets/controls",
      "model_module_version": "2.0.0",
      "model_name": "HTMLModel",
      "state": {
       "layout": "IPY_MODEL_e2fa9f337e994179b6835cb21ce14436",
       "style": "IPY_MODEL_9d14b002846747cfac54d9d1a69418dc",
       "value": " 9.94G/9.94G [12:57&lt;00:00, 10.5MB/s]"
      }
     },
     "c43aab2830d74964b1c38d19c2cc5aad": {
      "model_module": "@jupyter-widgets/controls",
      "model_module_version": "2.0.0",
      "model_name": "HTMLStyleModel",
      "state": {
       "description_width": "",
       "font_size": null,
       "text_color": null
      }
     },
     "c4dfc7b08cec47d88204375bbd14affd": {
      "model_module": "@jupyter-widgets/controls",
      "model_module_version": "2.0.0",
      "model_name": "HTMLStyleModel",
      "state": {
       "description_width": "",
       "font_size": null,
       "text_color": null
      }
     },
     "c57415369daa4892a15d2d708e5c2710": {
      "model_module": "@jupyter-widgets/controls",
      "model_module_version": "2.0.0",
      "model_name": "HTMLModel",
      "state": {
       "layout": "IPY_MODEL_c63282e65ede4ef9815d86223d78b2d7",
       "style": "IPY_MODEL_197aa1611bbd467fa45469452ac4f50b",
       "value": "Loading checkpoint shards: 100%"
      }
     },
     "c57ba0e48402471c89be52ad0cfe1554": {
      "model_module": "@jupyter-widgets/controls",
      "model_module_version": "2.0.0",
      "model_name": "HTMLModel",
      "state": {
       "layout": "IPY_MODEL_bc30fc9b2aa148f7966315440f576b14",
       "style": "IPY_MODEL_90bd0f15aefa4b21bd3c250a31ea42f7",
       "value": "tokenizer.model: 100%"
      }
     },
     "c63282e65ede4ef9815d86223d78b2d7": {
      "model_module": "@jupyter-widgets/base",
      "model_module_version": "2.0.0",
      "model_name": "LayoutModel",
      "state": {}
     },
     "c73d9a51eb9f4edb9b01474e7122ed92": {
      "model_module": "@jupyter-widgets/base",
      "model_module_version": "2.0.0",
      "model_name": "LayoutModel",
      "state": {}
     },
     "c9e9542822aa4e29aaf576458703428a": {
      "model_module": "@jupyter-widgets/controls",
      "model_module_version": "2.0.0",
      "model_name": "FloatProgressModel",
      "state": {
       "bar_style": "success",
       "layout": "IPY_MODEL_39ec9b2cf1084afd8c01e46889613cf0",
       "max": 493443,
       "style": "IPY_MODEL_6d7cd0aec73946ef8e903f4e20af1460",
       "value": 493443
      }
     },
     "ca5524142b1d4623b739b247cbb61ad7": {
      "model_module": "@jupyter-widgets/controls",
      "model_module_version": "2.0.0",
      "model_name": "HTMLModel",
      "state": {
       "layout": "IPY_MODEL_22e9488739a64d75860007ae844a941a",
       "style": "IPY_MODEL_0590754a739a4e34891036a6d3e41e60",
       "value": "Loading checkpoint shards: 100%"
      }
     },
     "cb48263866784603b6e8e2863d963a2f": {
      "model_module": "@jupyter-widgets/controls",
      "model_module_version": "2.0.0",
      "model_name": "FloatProgressModel",
      "state": {
       "bar_style": "success",
       "layout": "IPY_MODEL_412dd10e46714d42ba42669c6df36038",
       "max": 2,
       "style": "IPY_MODEL_9008ad67f8d04f1ea4ab56d66c247872",
       "value": 2
      }
     },
     "cb5b154cbf044373ad6530f13f3ccf84": {
      "model_module": "@jupyter-widgets/controls",
      "model_module_version": "2.0.0",
      "model_name": "HTMLModel",
      "state": {
       "layout": "IPY_MODEL_25639ed0201046a99ea7d3394d11dfdf",
       "style": "IPY_MODEL_8c17086807064b17b07e2a73ca10f283",
       "value": " 996/996 [00:00&lt;00:00, 166kB/s]"
      }
     },
     "cffb62f708044b42a729fdaaaaaf7ffc": {
      "model_module": "@jupyter-widgets/base",
      "model_module_version": "2.0.0",
      "model_name": "LayoutModel",
      "state": {}
     },
     "d0ae09df16114969ad27c275ab7ae777": {
      "model_module": "@jupyter-widgets/controls",
      "model_module_version": "2.0.0",
      "model_name": "FloatProgressModel",
      "state": {
       "bar_style": "success",
       "layout": "IPY_MODEL_494ffd9e71b54253acd213718e007653",
       "max": 1795188,
       "style": "IPY_MODEL_b37bb64452ae403c9598efadc8126819",
       "value": 1795188
      }
     },
     "d23c59caac54480baa24fba0da62b10f": {
      "model_module": "@jupyter-widgets/controls",
      "model_module_version": "2.0.0",
      "model_name": "ProgressStyleModel",
      "state": {
       "description_width": ""
      }
     },
     "d27751f6c9434533bb49663fb789e6dd": {
      "model_module": "@jupyter-widgets/controls",
      "model_module_version": "2.0.0",
      "model_name": "HTMLStyleModel",
      "state": {
       "description_width": "",
       "font_size": null,
       "text_color": null
      }
     },
     "d31f2a22ef4942fe98ca26dfc505c23c": {
      "model_module": "@jupyter-widgets/base",
      "model_module_version": "2.0.0",
      "model_name": "LayoutModel",
      "state": {}
     },
     "d364648d80234bb692beb86f68506a6f": {
      "model_module": "@jupyter-widgets/controls",
      "model_module_version": "2.0.0",
      "model_name": "HTMLModel",
      "state": {
       "layout": "IPY_MODEL_101019e99cc549b0a0721483f7ac446a",
       "style": "IPY_MODEL_4a6bc2ba59444e91b7b1b8e59d00028a",
       "value": "Loading checkpoint shards: 100%"
      }
     },
     "d36e0c6ff8a047509ab5ddf40f7116a0": {
      "model_module": "@jupyter-widgets/controls",
      "model_module_version": "2.0.0",
      "model_name": "HTMLModel",
      "state": {
       "layout": "IPY_MODEL_3ab8bb0462304de6878141c3bd2a1546",
       "style": "IPY_MODEL_7c02df1cfc1f4185b18197cd4e9abbd1",
       "value": "Loading checkpoint shards: 100%"
      }
     },
     "d4ff3354899a4aad8cb235591130920e": {
      "model_module": "@jupyter-widgets/controls",
      "model_module_version": "2.0.0",
      "model_name": "HTMLStyleModel",
      "state": {
       "description_width": "",
       "font_size": null,
       "text_color": null
      }
     },
     "d551c70e0692469abef3b9823e4db8b1": {
      "model_module": "@jupyter-widgets/base",
      "model_module_version": "2.0.0",
      "model_name": "LayoutModel",
      "state": {}
     },
     "d5bbb0d886064b4fab1a4724dcfac4f3": {
      "model_module": "@jupyter-widgets/controls",
      "model_module_version": "2.0.0",
      "model_name": "HBoxModel",
      "state": {
       "children": [
        "IPY_MODEL_b172ded57c134ae1a60539010d4fe0b2",
        "IPY_MODEL_77e3cc4fa99c4473add249b0b85402b8",
        "IPY_MODEL_f2ac83f4b5674bb59f7edb7278320dd2"
       ],
       "layout": "IPY_MODEL_65b0673eda6e455bbde161411c80f86e"
      }
     },
     "d6d5f0badf61440babe2f2a832a790bc": {
      "model_module": "@jupyter-widgets/base",
      "model_module_version": "2.0.0",
      "model_name": "LayoutModel",
      "state": {}
     },
     "dc29ae8f4d964e8fb60ed99e9c6b1633": {
      "model_module": "@jupyter-widgets/controls",
      "model_module_version": "2.0.0",
      "model_name": "HTMLModel",
      "state": {
       "layout": "IPY_MODEL_0826c90cad7143cba10342c140ddc819",
       "style": "IPY_MODEL_c43aab2830d74964b1c38d19c2cc5aad",
       "value": " 4.54G/4.54G [10:12&lt;00:00, 12.7MB/s]"
      }
     },
     "e1dfdd1815b54610b20d8cb12dd9b28e": {
      "model_module": "@jupyter-widgets/controls",
      "model_module_version": "2.0.0",
      "model_name": "HTMLStyleModel",
      "state": {
       "description_width": "",
       "font_size": null,
       "text_color": null
      }
     },
     "e2fa9f337e994179b6835cb21ce14436": {
      "model_module": "@jupyter-widgets/base",
      "model_module_version": "2.0.0",
      "model_name": "LayoutModel",
      "state": {}
     },
     "e3c85a4d02fe4a28985b7bc78d31048e": {
      "model_module": "@jupyter-widgets/controls",
      "model_module_version": "2.0.0",
      "model_name": "HTMLModel",
      "state": {
       "layout": "IPY_MODEL_1b942601bdca4e7390f8f00e9879b23e",
       "style": "IPY_MODEL_75b3e621912d42a584cd23f052a35070",
       "value": " 116/116 [00:00&lt;00:00, 14.5kB/s]"
      }
     },
     "e3f5af90f695404d994bfee5860dca45": {
      "model_module": "@jupyter-widgets/controls",
      "model_module_version": "2.0.0",
      "model_name": "FloatProgressModel",
      "state": {
       "bar_style": "success",
       "layout": "IPY_MODEL_75e8b7b08fa646a692316eb01681f8af",
       "max": 2,
       "style": "IPY_MODEL_a18f2024c98b4e68a1db161ff4e581e6",
       "value": 2
      }
     },
     "e4e2d2f4dd9044ff8d91795f11e8cfe6": {
      "model_module": "@jupyter-widgets/controls",
      "model_module_version": "2.0.0",
      "model_name": "FloatProgressModel",
      "state": {
       "bar_style": "success",
       "layout": "IPY_MODEL_8fc5286949b045f2b3f2fd3e07f3343d",
       "max": 116,
       "style": "IPY_MODEL_2a2bef9b569340eb8bfccb79b172ca02",
       "value": 116
      }
     },
     "e4ed3827d3334c5dbf84cd505f413caf": {
      "model_module": "@jupyter-widgets/base",
      "model_module_version": "2.0.0",
      "model_name": "LayoutModel",
      "state": {}
     },
     "e634e84e84414de898002306d79aadef": {
      "model_module": "@jupyter-widgets/base",
      "model_module_version": "2.0.0",
      "model_name": "LayoutModel",
      "state": {}
     },
     "e728ef0f0c594e52b45514d6333edb02": {
      "model_module": "@jupyter-widgets/controls",
      "model_module_version": "2.0.0",
      "model_name": "FloatProgressModel",
      "state": {
       "bar_style": "success",
       "layout": "IPY_MODEL_fa20a4cf7f34437ca33e3624d48cde45",
       "max": 996,
       "style": "IPY_MODEL_a38e041a063c4fd3a4f44b8a786e194b",
       "value": 996
      }
     },
     "ea712575ccc74894a868f53c334382d0": {
      "model_module": "@jupyter-widgets/controls",
      "model_module_version": "2.0.0",
      "model_name": "ProgressStyleModel",
      "state": {
       "description_width": ""
      }
     },
     "ec89232345be4d8398f6430589b261f9": {
      "model_module": "@jupyter-widgets/controls",
      "model_module_version": "2.0.0",
      "model_name": "HBoxModel",
      "state": {
       "children": [
        "IPY_MODEL_fcde30c56db04289bcbdd6d57618914c",
        "IPY_MODEL_0a4e1410d4584ef9be078dc97422b87b",
        "IPY_MODEL_f39caf5e546a4c069ffffce530b35d2b"
       ],
       "layout": "IPY_MODEL_c73d9a51eb9f4edb9b01474e7122ed92"
      }
     },
     "edf45fa0e7b54fe8acde9baede92bec3": {
      "model_module": "@jupyter-widgets/base",
      "model_module_version": "2.0.0",
      "model_name": "LayoutModel",
      "state": {}
     },
     "ef022ce5a01c42309478a5133c4386e5": {
      "model_module": "@jupyter-widgets/base",
      "model_module_version": "2.0.0",
      "model_name": "LayoutModel",
      "state": {}
     },
     "ef21d3340dfe40529098ee1964e9073a": {
      "model_module": "@jupyter-widgets/controls",
      "model_module_version": "2.0.0",
      "model_name": "HTMLModel",
      "state": {
       "layout": "IPY_MODEL_3eaf75ff671544059fab6f6105b49c23",
       "style": "IPY_MODEL_31156636e0fe4b14ac2105a5a35f13e9",
       "value": "tokenizer_config.json: 100%"
      }
     },
     "ef29a93b74a04fa89c5bec2ba550c5c0": {
      "model_module": "@jupyter-widgets/controls",
      "model_module_version": "2.0.0",
      "model_name": "HTMLStyleModel",
      "state": {
       "description_width": "",
       "font_size": null,
       "text_color": null
      }
     },
     "ef71e05c076f48e1aeeadf07b50daa96": {
      "model_module": "@jupyter-widgets/base",
      "model_module_version": "2.0.0",
      "model_name": "LayoutModel",
      "state": {}
     },
     "f1ec600c353c4449968c98100bf7677f": {
      "model_module": "@jupyter-widgets/controls",
      "model_module_version": "2.0.0",
      "model_name": "HTMLStyleModel",
      "state": {
       "description_width": "",
       "font_size": null,
       "text_color": null
      }
     },
     "f249e81238ae4d8599ea6a33236c6ada": {
      "model_module": "@jupyter-widgets/base",
      "model_module_version": "2.0.0",
      "model_name": "LayoutModel",
      "state": {}
     },
     "f2ac83f4b5674bb59f7edb7278320dd2": {
      "model_module": "@jupyter-widgets/controls",
      "model_module_version": "2.0.0",
      "model_name": "HTMLModel",
      "state": {
       "layout": "IPY_MODEL_7f9de742e0a740908c652f469c61b1af",
       "style": "IPY_MODEL_716877a957864a27a0ace7f2be34d477",
       "value": " 571/571 [00:00&lt;00:00, 114kB/s]"
      }
     },
     "f314cd41d04d4bd1a5e67c3f1a2e7060": {
      "model_module": "@jupyter-widgets/controls",
      "model_module_version": "2.0.0",
      "model_name": "HTMLStyleModel",
      "state": {
       "description_width": "",
       "font_size": null,
       "text_color": null
      }
     },
     "f39280bc33dd4d5185a984fe413a65f3": {
      "model_module": "@jupyter-widgets/controls",
      "model_module_version": "2.0.0",
      "model_name": "HTMLStyleModel",
      "state": {
       "description_width": "",
       "font_size": null,
       "text_color": null
      }
     },
     "f39caf5e546a4c069ffffce530b35d2b": {
      "model_module": "@jupyter-widgets/controls",
      "model_module_version": "2.0.0",
      "model_name": "HTMLModel",
      "state": {
       "layout": "IPY_MODEL_5b227ab7f28740fd8bf05b07d24da040",
       "style": "IPY_MODEL_794466e77d2c49a3b675aa5135de0bec",
       "value": " 2/2 [23:11&lt;00:00, 681.06s/it]"
      }
     },
     "f57194ee06c24ece96533c5fbd1f1ae6": {
      "model_module": "@jupyter-widgets/controls",
      "model_module_version": "2.0.0",
      "model_name": "HTMLStyleModel",
      "state": {
       "description_width": "",
       "font_size": null,
       "text_color": null
      }
     },
     "fa1f344924654281aa7a96b7f7b143a9": {
      "model_module": "@jupyter-widgets/controls",
      "model_module_version": "2.0.0",
      "model_name": "HBoxModel",
      "state": {
       "children": [
        "IPY_MODEL_ca5524142b1d4623b739b247cbb61ad7",
        "IPY_MODEL_43ad209accf442c596d5907b8e2770d6",
        "IPY_MODEL_a1f1707300544338b71f2abb8ab0c587"
       ],
       "layout": "IPY_MODEL_0ed11004bd1044b0912602303ba09e49"
      }
     },
     "fa20a4cf7f34437ca33e3624d48cde45": {
      "model_module": "@jupyter-widgets/base",
      "model_module_version": "2.0.0",
      "model_name": "LayoutModel",
      "state": {}
     },
     "fa7ab67326b040a9979d03655a2f6950": {
      "model_module": "@jupyter-widgets/controls",
      "model_module_version": "2.0.0",
      "model_name": "HTMLStyleModel",
      "state": {
       "description_width": "",
       "font_size": null,
       "text_color": null
      }
     },
     "fa844c35def8433eb485db7207e725da": {
      "model_module": "@jupyter-widgets/controls",
      "model_module_version": "2.0.0",
      "model_name": "FloatProgressModel",
      "state": {
       "bar_style": "success",
       "layout": "IPY_MODEL_a94e949aa1604f35b86659b8d8907162",
       "max": 2,
       "style": "IPY_MODEL_63f366c4cba947aca071bfceaa29735a",
       "value": 2
      }
     },
     "fa90892f39dc4401ac6fe943914d3072": {
      "model_module": "@jupyter-widgets/base",
      "model_module_version": "2.0.0",
      "model_name": "LayoutModel",
      "state": {}
     },
     "faca96949a72416eb479e1aa3930d0a3": {
      "model_module": "@jupyter-widgets/controls",
      "model_module_version": "2.0.0",
      "model_name": "HTMLModel",
      "state": {
       "layout": "IPY_MODEL_0ce0e539cd6c40119727b4de369e9a61",
       "style": "IPY_MODEL_d4ff3354899a4aad8cb235591130920e",
       "value": "model-00002-of-00002.safetensors: 100%"
      }
     },
     "fcde30c56db04289bcbdd6d57618914c": {
      "model_module": "@jupyter-widgets/controls",
      "model_module_version": "2.0.0",
      "model_name": "HTMLModel",
      "state": {
       "layout": "IPY_MODEL_7850a702161d481fbc56f0fd4536d1fb",
       "style": "IPY_MODEL_3cd14c260cc8457b95bbaff5fd352db2",
       "value": "Downloading shards: 100%"
      }
     },
     "ffcc365d273243a9b922f3fa212e2cc6": {
      "model_module": "@jupyter-widgets/base",
      "model_module_version": "2.0.0",
      "model_name": "LayoutModel",
      "state": {}
     }
    },
    "version_major": 2,
    "version_minor": 0
   }
  }
 },
 "nbformat": 4,
 "nbformat_minor": 5
}
