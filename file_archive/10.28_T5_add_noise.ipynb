{
 "cells": [
  {
   "cell_type": "code",
   "execution_count": 1,
   "id": "6d66fa92-7692-4f0e-a3f9-b199d04c6bf5",
   "metadata": {},
   "outputs": [
    {
     "name": "stderr",
     "output_type": "stream",
     "text": [
      "You are using the default legacy behaviour of the <class 'transformers.models.t5.tokenization_t5.T5Tokenizer'>. This is expected, and simply means that the `legacy` (previous) behavior will be used so nothing changes for you. If you want to use the new behaviour, set `legacy=False`. This should only be set if you understand what it means, and thoroughly read the reason why this was added as explained in https://github.com/huggingface/transformers/pull/24565\n"
     ]
    }
   ],
   "source": [
    "from transformers import T5Tokenizer, T5ForConditionalGeneration\n",
    "from transformers.modeling_outputs import BaseModelOutput\n",
    "import torch\n",
    "from IPython.display import display, HTML\n",
    "\n",
    "# Device setup\n",
    "device = torch.device(\"cuda\" if torch.cuda.is_available() else \"cpu\")\n",
    "\n",
    "# Load model and tokenizer\n",
    "model_name = \"google/flan-t5-base\"\n",
    "tokenizer = T5Tokenizer.from_pretrained(model_name)\n",
    "model = T5ForConditionalGeneration.from_pretrained(model_name).to(device)"
   ]
  },
  {
   "cell_type": "code",
   "execution_count": 2,
   "id": "85d6f027-01ce-4bf0-be7a-b44aeb7a238e",
   "metadata": {},
   "outputs": [],
   "source": [
    "def add_noise_with_snr(encoder_output, target_snr_db):\n",
    "    \"\"\"\n",
    "    Add noise to the encoder output based on a target SNR in dB.\n",
    "    \n",
    "    Parameters:\n",
    "    - encoder_output: torch.Tensor, the encoder's output (last_hidden_state).\n",
    "    - target_snr_db: float, the desired signal-to-noise ratio in dB.\n",
    "    \n",
    "    Returns:\n",
    "    - noisy_encoder_output: torch.Tensor, encoder output with added noise.\n",
    "    \"\"\"\n",
    "    # Convert SNR from dB to linear scale\n",
    "    target_snr_linear = 10 ** (target_snr_db / 10)\n",
    "    \n",
    "    # Calculate power of the signal\n",
    "    signal_power = torch.mean(encoder_output ** 2)\n",
    "    \n",
    "    # Calculate required noise power for the target SNR\n",
    "    noise_power = signal_power / target_snr_linear\n",
    "    noise = torch.randn_like(encoder_output) * torch.sqrt(noise_power)\n",
    "    \n",
    "    # Add noise to the encoder output\n",
    "    noisy_encoder_output = encoder_output + noise\n",
    "    return noisy_encoder_output\n"
   ]
  },
  {
   "cell_type": "code",
   "execution_count": 5,
   "id": "bf1ae27e-9f6e-45b3-b69d-401971edf681",
   "metadata": {},
   "outputs": [],
   "source": [
    "# Define input text and encode\n",
    "# input_text = \"Who is Donald Trump?\"\n",
    "# input_text = \"\"\"\n",
    "# Summarize the text: In telecommunications, orthogonal frequency-division multiplexing (OFDM) \n",
    "# is a type of digital transmission used in digital modulation for encoding digital (binary) data\n",
    "# on multiple carrier frequencies. OFDM has developed into a popular scheme for wideband digital \n",
    "# communication, used in applications such as digital television and audio broadcasting, DSL internet \n",
    "# access, wireless networks, power line networks, and 4G/5G mobile communications.\n",
    "# \"\"\".replace(\"\\n\", \"\")\n",
    "# input_text = \"Tranlate from English to Deutsche: How are you?\"\n",
    "# input_text = \"Tranlate English to Deutsche: My name is Ziyue and I live in Sweden.\"\n",
    "# input_text = \"Translate English to Deutsche: Where is the nearest train station?\"\n",
    "# input_text = \"Translate English to Deutsche: I would like to order a coffee, please.\"\n",
    "# input_text = \"Translate English to Deutsche: Can you help me find my hotel?\"\n",
    "# input_text = \"Translate English to Deutsche: What time does the museum open?\"\n",
    "# input_text = \"Translate English to Deutsche: How much does this ticket cost?\"\n",
    "# input_text = \"Translate English to Deutsche: Do you speak English?\"\n",
    "# input_text = \"Translate English to Deutsche: My favorite color is blue.\"\n",
    "# input_text = \"Translate English to Deutsche: I am a student learning German.\"\n",
    "input_text = \"\"\"Translate English to Deutsche: In telecommunications, orthogonal frequency-division multiplexing (OFDM) \n",
    "is a type of digital transmission used in digital modulation for encoding digital (binary) data\n",
    "on multiple carrier frequencies. OFDM has developed into a popular scheme for wideband digital \n",
    "communication, used in applications such as digital television and audio broadcasting, DSL internet \n",
    "access, wireless networks, power line networks, and 4G/5G mobile communications.\"\"\"\n",
    "# input_text = \"Translate English to Deutsche: I enjoy listening to classical music.\"\n",
    "# input_text = \"Translate English to Deutsche: I would like to check in to my room.\"\n",
    "# input_text = \"Translate English to Deutsche: The weather today is sunny and warm.\"\n",
    "# input_text = \"Translate English to Deutsche: I need to buy a ticket to Munich.\"\n",
    "# input_text = \"Translate English to Deutsche: Could you recommend a good restaurant nearby?\"\n",
    "# input_text = \"Translate English to Deutsche: I will stay here for a week.\"\n",
    "# input_text = \"Translate Deutsche to English: Wo ist das nächste Restaurant?\"\n",
    "# input_text = \"Translate Deutsche to English: Ich bin hier im Urlaub.\"\n",
    "# input_text = \"Translate Deutsche to English: Können Sie mir bitte helfen?\"\n",
    "# input_text = \"Translate Deutsche to English: Ich habe meinen Schlüssel verloren.\"\n",
    "# input_text = \"Translate Deutsche to English: Die Landschaft hier ist wunderschön.\"\n",
    "# input_text = \"Translate Deutsche to English: Das Essen hier ist sehr lecker.\"\n",
    "# input_text = \"Translate Deutsche to English: Wie lange dauert die Fahrt?\"\n",
    "# input_text = \"Translate Deutsche to English: Ich möchte gerne ein Zimmer reservieren.\"\n",
    "# input_text = \"Translate Deutsche to English: Ich komme aus Deutschland.\"\n",
    "# input_text = \"Translate Deutsche to English: Das ist mein Freund, er wohnt in Hamburg.\"\n",
    "# input_text = \"Translate Deutsche to English: Welche Sehenswürdigkeiten gibt es hier?\"\n",
    "# input_text = \"Translate Deutsche to English: Ich suche einen Supermarkt in der Nähe.\"\n",
    "# input_text = \"Translate English to French: Can I get directions to the airport?\"\n",
    "# input_text = \"Translate English to French: I am traveling with my family.\"\n",
    "# input_text = \"Translate English to French: I would like to book a table for two.\"\n",
    "# input_text = \"Translate English to French: How far is the beach from here?\"\n",
    "# input_text = \"Translate English to French: I am allergic to peanuts.\"\n",
    "# input_text = \"Translate English to French: Could I have the bill, please?\"\n",
    "# input_text = \"Translate English to French: I am learning French for my studies.\"\n",
    "# input_text = \"Translate English to French: This is a beautiful place to visit.\""
   ]
  },
  {
   "cell_type": "code",
   "execution_count": 10,
   "id": "9034fefd-254f-44cf-87d7-65305084c947",
   "metadata": {},
   "outputs": [
    {
     "data": {
      "text/html": [
       "<p style='font-size:15px;'>Translate English to Deutsche: In telecommunications, orthogonal frequency-division multiplexing (OFDM) \n",
       "is a type of digital transmission used in digital modulation for encoding digital (binary) data\n",
       "on multiple carrier frequencies. OFDM has developed into a popular scheme for wideband digital \n",
       "communication, used in applications such as digital television and audio broadcasting, DSL internet \n",
       "access, wireless networks, power line networks, and 4G/5G mobile communications.</p>"
      ],
      "text/plain": [
       "<IPython.core.display.HTML object>"
      ]
     },
     "metadata": {},
     "output_type": "display_data"
    },
    {
     "name": "stdout",
     "output_type": "stream",
     "text": [
      "Without Noise:\n"
     ]
    },
    {
     "data": {
      "text/html": [
       "<p style='font-size:20px; font-family:\"Comic Sans MS\", cursive;'> In Telekommunikations ist der orthogonal Frequenz-Division Multiplexing (OFDM) eine typische DigitalÜbertragung verwendet, die in Digitalmodulation für den Codierung digitaler (binary) Daten auf mehreren Karten kompakt. OFDM hat sich in Anwendungen wie Digital Fernsehwerbung und Audio-Breitteilung, DSL-Internet-Access, Wireless-Netze, Power-Line-Netze und 4G/5G mobiler Kommunikationsnetzwerke entwickelt.</p>"
      ],
      "text/plain": [
       "<IPython.core.display.HTML object>"
      ]
     },
     "metadata": {},
     "output_type": "display_data"
    },
    {
     "name": "stdout",
     "output_type": "stream",
     "text": [
      "With Noise (SNR = 3 dB):\n"
     ]
    },
    {
     "data": {
      "text/html": [
       "<p style='font-size:20px; font-family:\"Comic Sans MS\", cursive;'> In kommunizierend Dienstleistungen ist eine einheitliche Frequency-Division Multiplexing (OFD) eines digitalen Frequency-Merks, die in den verschiedenen Frequency-Fundamenten für digitale Kommunikation erleichtern.</p>"
      ],
      "text/plain": [
       "<IPython.core.display.HTML object>"
      ]
     },
     "metadata": {},
     "output_type": "display_data"
    }
   ],
   "source": [
    "input_ids = tokenizer(input_text, return_tensors=\"pt\").input_ids.to(device)\n",
    "\n",
    "# Get encoder output without noise\n",
    "with torch.no_grad():\n",
    "    encoder_outputs = model.encoder(input_ids=input_ids)\n",
    "\n",
    "# Generate output without noise\n",
    "baseline_outputs = model.generate(\n",
    "    input_ids=None,\n",
    "    encoder_outputs=encoder_outputs,\n",
    "    max_length=500,\n",
    "    do_sample=True,\n",
    "    temperature=0.1\n",
    ")\n",
    "baseline_text = tokenizer.decode(baseline_outputs[0], skip_special_tokens=True)\n",
    "\n",
    "# Add noise with a target SNR and generate noisy output\n",
    "target_snr = 3  # Set target SNR\n",
    "noisy_encoder_output = add_noise_with_snr(encoder_outputs.last_hidden_state, target_snr)\n",
    "modified_encoder_outputs = BaseModelOutput(last_hidden_state=noisy_encoder_output)\n",
    "\n",
    "# Generate output with the noisy encoder output\n",
    "noisy_outputs = model.generate(\n",
    "    input_ids=None,\n",
    "    encoder_outputs=modified_encoder_outputs,\n",
    "    max_length=200,\n",
    "    do_sample=True,\n",
    "    temperature=0.1\n",
    ")\n",
    "noisy_text = tokenizer.decode(noisy_outputs[0], skip_special_tokens=True)\n",
    "\n",
    "# Display both outputs\n",
    "display(HTML(f\"<p style='font-size:15px;'>{input_text}</p>\"))\n",
    "print('Without Noise:')\n",
    "display(HTML(f\"<p style='font-size:20px; font-family:\\\"Comic Sans MS\\\", cursive;'> {baseline_text}</p>\"))\n",
    "print(f'With Noise (SNR = {target_snr} dB):')\n",
    "display(HTML(f\"<p style='font-size:20px; font-family:\\\"Comic Sans MS\\\", cursive;'> {noisy_text}</p>\"))"
   ]
  },
  {
   "cell_type": "code",
   "execution_count": 22,
   "id": "092c15c7-be4f-4773-af35-0714464f584f",
   "metadata": {},
   "outputs": [
    {
     "data": {
      "text/plain": [
       "torch.Size([768])"
      ]
     },
     "execution_count": 22,
     "metadata": {},
     "output_type": "execute_result"
    }
   ],
   "source": [
    "encoder_outputs.last_hidden_state[0]"
   ]
  },
  {
   "cell_type": "code",
   "execution_count": 23,
   "id": "f661daaf-5610-413b-a40e-3db65842689b",
   "metadata": {},
   "outputs": [
    {
     "data": {
      "text/plain": [
       "tensor([    0,    86, 30068, 11760,   157,  1628,   229,    74, 26429,  5307,\n",
       "          138,  5532,   835,    29,   172,    18,   308,    23,  6610, 16821,\n",
       "          226,    53,    41,   667,   371,  7407,    61,   266,     3, 12575,\n",
       "         2014,  4190, 31830,  8533,     6,    67,    16,  4190, 22763,   257,\n",
       "          218,   177, 10285,  3194,  1125,    49,    41,  4517,  1208,    61,\n",
       "         2679,   219,  7461,    29,     3, 17336,    29,     3,  4524, 16864,\n",
       "           17,     5,  3347,  7407,     3,   547,   289,    16, 11844,    35,\n",
       "          587,  4190, 19798, 29749,    64,  9607,    18,   279,    60,   155,\n",
       "        10830,     6,   309,  5629,    18, 22912,    18, 31679,     6, 17202,\n",
       "           18,  9688,   776,     6,  2621,    18, 21022,    18,  9688,   776,\n",
       "           64,   314,   517, 16936,   517,  1156,    52,  8685,    76,  4953,\n",
       "         1628, 13181,  3458,    15, 10322,     5,     1], device='cuda:0')"
      ]
     },
     "execution_count": 23,
     "metadata": {},
     "output_type": "execute_result"
    }
   ],
   "source": [
    "baseline_outputs[0]"
   ]
  },
  {
   "cell_type": "code",
   "execution_count": 24,
   "id": "2b7d7309-6eac-4572-aa1a-50ea8a50d5fa",
   "metadata": {},
   "outputs": [
    {
     "data": {
      "text/plain": [
       "tensor([[   86, 30068, 11760,   157,  1628,   229,    74, 26429,  5307,   138,\n",
       "          5532,   835,    29,   172,    18,   308,    23,  6610, 16821,   226,\n",
       "            53,    41,   667,   371,  7407,    61,   266,     3, 21725,  4190,\n",
       "         31830,  8533,     6,    67,    16,  4190, 22763,   257,   218,   177,\n",
       "         10285,  3194,  1125,    49,    41,  4517,  1208,    61,  2679,   219,\n",
       "          7461,    29, 20012,     3,  4524, 16864,    17,     5,  3347,  7407,\n",
       "             3,   547,   289,    16, 11844,    35,   587,  4190, 19798, 29749,\n",
       "            64,  9607,    18,   279,    60,   155, 10830,     6,   309,  5629,\n",
       "            18, 22912,    18, 31679,     6, 17202,    18,  9688,   776,     6,\n",
       "          2621,    18, 21022,    18,  9688,   776,    64,   314,   517, 16936,\n",
       "           517,  1156,    52,  8685,    76,  4953,  1628, 13181,  3458,    15,\n",
       "         10322,     5,     1]])"
      ]
     },
     "execution_count": 24,
     "metadata": {},
     "output_type": "execute_result"
    }
   ],
   "source": [
    "tokenizer(baseline_text, return_tensors=\"pt\", truncation=True, max_length=1024)['input_ids']"
   ]
  },
  {
   "cell_type": "code",
   "execution_count": 27,
   "id": "4c87b882-733f-4170-b1c2-bd3665b48d56",
   "metadata": {},
   "outputs": [
    {
     "data": {
      "text/plain": [
       "'<pad> e entwickelt.</s>'"
      ]
     },
     "execution_count": 27,
     "metadata": {},
     "output_type": "execute_result"
    }
   ],
   "source": [
    "tt = torch.tensor([0, 15, 10322,     5,     1,])\n",
    "t = tokenizer.decode(tt)\n",
    "t"
   ]
  },
  {
   "cell_type": "code",
   "execution_count": 21,
   "id": "71816704-619b-4bde-a144-03a2311e8df2",
   "metadata": {},
   "outputs": [
    {
     "name": "stdout",
     "output_type": "stream",
     "text": [
      "BaseModelOutput(last_hidden_state=tensor([[[ 0.0110645378,  0.0446379520, -0.1195041314,  ...,\n",
      "           0.0239841975,  0.0657943934, -0.1541268975],\n",
      "         [ 0.0011646717, -0.0006612060,  0.0024203842,  ...,\n",
      "          -0.0139574334, -0.0003432746, -0.0014761132],\n",
      "         [-0.0300152730, -0.0099295871,  0.0018708719,  ...,\n",
      "           0.0180891100,  0.1408756226, -0.0221240111],\n",
      "         ...,\n",
      "         [-0.0028463011, -0.0528447069,  0.0717518777,  ...,\n",
      "           0.0263906494, -0.1086646691, -0.1568258107],\n",
      "         [ 0.0614422895, -0.0377765149,  0.0980087668,  ...,\n",
      "          -0.0019372494,  0.0795445740, -0.1129229516],\n",
      "         [-0.0311634671,  0.0125041567,  0.0268029757,  ...,\n",
      "           0.0052387128,  0.0760847554, -0.0480498597]]], device='cuda:0'), hidden_states=None, attentions=None)\n"
     ]
    }
   ],
   "source": [
    "torch.set_printoptions(precision=10)\n",
    "print(modified_encoder_outputs)"
   ]
  },
  {
   "cell_type": "code",
   "execution_count": 22,
   "id": "a0ac4706-92b6-4fdd-83fc-e79287d4c99b",
   "metadata": {},
   "outputs": [
    {
     "name": "stdout",
     "output_type": "stream",
     "text": [
      "BaseModelOutputWithPastAndCrossAttentions(last_hidden_state=tensor([[[ 0.0110638738,  0.0446386412, -0.1195035130,  ...,\n",
      "           0.0239830501,  0.0657947734, -0.1541264057],\n",
      "         [ 0.0011641044, -0.0006623128,  0.0024199435,  ...,\n",
      "          -0.0139569221, -0.0003425943, -0.0014757399],\n",
      "         [-0.0300164297, -0.0099294083,  0.0018707113,  ...,\n",
      "           0.0180890486,  0.1408752650, -0.0221240781],\n",
      "         ...,\n",
      "         [-0.0028459774, -0.0528435819,  0.0717529729,  ...,\n",
      "           0.0263907555, -0.1086634919, -0.1568261683],\n",
      "         [ 0.0614417158, -0.0377769396,  0.0980087370,  ...,\n",
      "          -0.0019358803,  0.0795432851, -0.1129235551],\n",
      "         [-0.0311635714,  0.0125043727,  0.0268025026,  ...,\n",
      "           0.0052372129,  0.0760850981, -0.0480505303]]], device='cuda:0'), past_key_values=None, hidden_states=None, attentions=None, cross_attentions=None)\n"
     ]
    }
   ],
   "source": [
    "print(encoder_outputs)"
   ]
  },
  {
   "cell_type": "code",
   "execution_count": 24,
   "id": "c0a53ded-a417-49f2-83ad-8d887dc11e82",
   "metadata": {},
   "outputs": [
    {
     "data": {
      "text/plain": [
       "torch.Size([1, 11])"
      ]
     },
     "execution_count": 24,
     "metadata": {},
     "output_type": "execute_result"
    }
   ],
   "source": []
  },
  {
   "cell_type": "code",
   "execution_count": 101,
   "id": "c9df4e64-96ed-4a1b-a3ee-efdeebae59e1",
   "metadata": {},
   "outputs": [
    {
     "data": {
      "text/plain": [
       "'?'"
      ]
     },
     "execution_count": 101,
     "metadata": {},
     "output_type": "execute_result"
    }
   ],
   "source": [
    "# '58' <=> ?\n",
    "# '0' <=> <start>\n",
    "# '1' <=> <end>\n",
    "a = torch.tensor([[58]])\n",
    "text = tokenizer.decode(a[0], skip_special_tokens=True)\n",
    "text"
   ]
  },
  {
   "cell_type": "code",
   "execution_count": 89,
   "id": "8b375f1f-ac17-4d0e-9e7c-d6dee6d6d92b",
   "metadata": {},
   "outputs": [
    {
     "data": {
      "text/plain": [
       "tensor([    0, 17913, 30979,  7666,     1], device='cuda:0')"
      ]
     },
     "execution_count": 89,
     "metadata": {},
     "output_type": "execute_result"
    }
   ],
   "source": [
    "baseline_outputs[0]"
   ]
  },
  {
   "cell_type": "code",
   "execution_count": 90,
   "id": "3101480a-24a6-4f98-98e0-ab4753589c00",
   "metadata": {},
   "outputs": [
    {
     "data": {
      "text/plain": [
       "tensor([[ 0,  3, 76, 89, 32,  3, 89,  9,  3,  7, 17,  3, 63,  3,  7,  3, 17,  3,\n",
       "          7,  3, 17,  3,  7,  3, 17,  3,  7,  3, 17,  3,  7,  3, 17,  3,  7,  3,\n",
       "         17,  3,  7,  3, 17,  3,  7,  3, 17,  3,  7,  3, 17,  3,  7,  3, 17,  3,\n",
       "          7,  3, 17,  3,  7,  3, 17,  3,  7,  3, 17,  3,  7,  3, 17,  3,  7,  3,\n",
       "         17,  3,  7,  3, 17,  3,  7,  3, 17,  3,  7,  3, 17,  3,  7,  3, 17,  3,\n",
       "          7,  3, 17,  3,  7,  3, 17,  3,  7,  3]], device='cuda:0')"
      ]
     },
     "execution_count": 90,
     "metadata": {},
     "output_type": "execute_result"
    }
   ],
   "source": [
    "noisy_outputs"
   ]
  }
 ],
 "metadata": {
  "kernelspec": {
   "display_name": "Python 3 (ipykernel)",
   "language": "python",
   "name": "python3"
  },
  "language_info": {
   "codemirror_mode": {
    "name": "ipython",
    "version": 3
   },
   "file_extension": ".py",
   "mimetype": "text/x-python",
   "name": "python",
   "nbconvert_exporter": "python",
   "pygments_lexer": "ipython3",
   "version": "3.9.20"
  },
  "widgets": {
   "application/vnd.jupyter.widget-state+json": {
    "state": {},
    "version_major": 2,
    "version_minor": 0
   }
  }
 },
 "nbformat": 4,
 "nbformat_minor": 5
}
