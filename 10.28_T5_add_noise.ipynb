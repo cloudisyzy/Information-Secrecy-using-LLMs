{
 "cells": [
  {
   "cell_type": "code",
   "execution_count": 1,
   "id": "6d66fa92-7692-4f0e-a3f9-b199d04c6bf5",
   "metadata": {},
   "outputs": [
    {
     "name": "stderr",
     "output_type": "stream",
     "text": [
      "You are using the default legacy behaviour of the <class 'transformers.models.t5.tokenization_t5.T5Tokenizer'>. This is expected, and simply means that the `legacy` (previous) behavior will be used so nothing changes for you. If you want to use the new behaviour, set `legacy=False`. This should only be set if you understand what it means, and thoroughly read the reason why this was added as explained in https://github.com/huggingface/transformers/pull/24565\n"
     ]
    }
   ],
   "source": [
    "from transformers import T5Tokenizer, T5ForConditionalGeneration\n",
    "from transformers.modeling_outputs import BaseModelOutput\n",
    "import torch\n",
    "from IPython.display import display, HTML\n",
    "\n",
    "# Device setup\n",
    "device = torch.device(\"cuda\" if torch.cuda.is_available() else \"cpu\")\n",
    "\n",
    "# Load model and tokenizer\n",
    "model_name = \"google/flan-t5-large\"\n",
    "tokenizer = T5Tokenizer.from_pretrained(model_name)\n",
    "model = T5ForConditionalGeneration.from_pretrained(model_name).to(device)"
   ]
  },
  {
   "cell_type": "code",
   "execution_count": 2,
   "id": "85d6f027-01ce-4bf0-be7a-b44aeb7a238e",
   "metadata": {},
   "outputs": [],
   "source": [
    "def add_noise_with_snr(encoder_output, target_snr_db):\n",
    "    \"\"\"\n",
    "    Add noise to the encoder output based on a target SNR in dB.\n",
    "    \n",
    "    Parameters:\n",
    "    - encoder_output: torch.Tensor, the encoder's output (last_hidden_state).\n",
    "    - target_snr_db: float, the desired signal-to-noise ratio in dB.\n",
    "    \n",
    "    Returns:\n",
    "    - noisy_encoder_output: torch.Tensor, encoder output with added noise.\n",
    "    \"\"\"\n",
    "    # Convert SNR from dB to linear scale\n",
    "    target_snr_linear = 10 ** (target_snr_db / 10)\n",
    "    \n",
    "    # Calculate power of the signal\n",
    "    signal_power = torch.mean(encoder_output ** 2)\n",
    "    \n",
    "    # Calculate required noise power for the target SNR\n",
    "    noise_power = signal_power / target_snr_linear\n",
    "    noise = torch.randn_like(encoder_output) * torch.sqrt(noise_power)\n",
    "    \n",
    "    # Add noise to the encoder output\n",
    "    noisy_encoder_output = encoder_output + noise\n",
    "    return noisy_encoder_output\n"
   ]
  },
  {
   "cell_type": "code",
   "execution_count": 3,
   "id": "bf1ae27e-9f6e-45b3-b69d-401971edf681",
   "metadata": {},
   "outputs": [],
   "source": [
    "# Define input text and encode\n",
    "# input_text = \"Who is Donald Trump?\"\n",
    "input_text = \"\"\"\n",
    "Summarize the text: In telecommunications, orthogonal frequency-division multiplexing (OFDM) \n",
    "is a type of digital transmission used in digital modulation for encoding digital (binary) data\n",
    "on multiple carrier frequencies. OFDM has developed into a popular scheme for wideband digital \n",
    "communication, used in applications such as digital television and audio broadcasting, DSL internet \n",
    "access, wireless networks, power line networks, and 4G/5G mobile communications.\n",
    "\"\"\".replace(\"\\n\", \"\")\n",
    "# input_text = \"Tranlate from English to Deutsche: How are you?\"\n",
    "# input_text = \"Tranlate English to Deutsche: My name is Ziyue and I live in Sweden.\"\n",
    "# input_text = \"Translate English to Deutsche: Where is the nearest train station?\"\n",
    "# input_text = \"Translate English to Deutsche: I would like to order a coffee, please.\"\n",
    "# input_text = \"Translate English to Deutsche: Can you help me find my hotel?\"\n",
    "# input_text = \"Translate English to Deutsche: What time does the museum open?\"\n",
    "# input_text = \"Translate English to Deutsche: How much does this ticket cost?\"\n",
    "# input_text = \"Translate English to Deutsche: Do you speak English?\"\n",
    "# input_text = \"Translate English to Deutsche: My favorite color is blue.\"\n",
    "# input_text = \"Translate English to Deutsche: I am a student learning German.\"\n",
    "# input_text = \"Translate English to Deutsche: This is my first time visiting Berlin.\"\n",
    "# input_text = \"Translate English to Deutsche: I enjoy listening to classical music.\"\n",
    "# input_text = \"Translate English to Deutsche: I would like to check in to my room.\"\n",
    "# input_text = \"Translate English to Deutsche: The weather today is sunny and warm.\"\n",
    "# input_text = \"Translate English to Deutsche: I need to buy a ticket to Munich.\"\n",
    "# input_text = \"Translate English to Deutsche: Could you recommend a good restaurant nearby?\"\n",
    "# input_text = \"Translate English to Deutsche: I will stay here for a week.\"\n",
    "# input_text = \"Translate Deutsche to English: Wo ist das nächste Restaurant?\"\n",
    "# input_text = \"Translate Deutsche to English: Ich bin hier im Urlaub.\"\n",
    "# input_text = \"Translate Deutsche to English: Können Sie mir bitte helfen?\"\n",
    "# input_text = \"Translate Deutsche to English: Ich habe meinen Schlüssel verloren.\"\n",
    "# input_text = \"Translate Deutsche to English: Die Landschaft hier ist wunderschön.\"\n",
    "# input_text = \"Translate Deutsche to English: Das Essen hier ist sehr lecker.\"\n",
    "# input_text = \"Translate Deutsche to English: Wie lange dauert die Fahrt?\"\n",
    "# input_text = \"Translate Deutsche to English: Ich möchte gerne ein Zimmer reservieren.\"\n",
    "# input_text = \"Translate Deutsche to English: Ich komme aus Deutschland.\"\n",
    "# input_text = \"Translate Deutsche to English: Das ist mein Freund, er wohnt in Hamburg.\"\n",
    "# input_text = \"Translate Deutsche to English: Welche Sehenswürdigkeiten gibt es hier?\"\n",
    "# input_text = \"Translate Deutsche to English: Ich suche einen Supermarkt in der Nähe.\"\n",
    "# input_text = \"Translate English to French: Can I get directions to the airport?\"\n",
    "# input_text = \"Translate English to French: I am traveling with my family.\"\n",
    "# input_text = \"Translate English to French: I would like to book a table for two.\"\n",
    "# input_text = \"Translate English to French: How far is the beach from here?\"\n",
    "# input_text = \"Translate English to French: I am allergic to peanuts.\"\n",
    "# input_text = \"Translate English to French: Could I have the bill, please?\"\n",
    "# input_text = \"Translate English to French: I am learning French for my studies.\"\n",
    "# input_text = \"Translate English to French: This is a beautiful place to visit.\""
   ]
  },
  {
   "cell_type": "code",
   "execution_count": 6,
   "id": "9034fefd-254f-44cf-87d7-65305084c947",
   "metadata": {},
   "outputs": [
    {
     "data": {
      "text/html": [
       "<p style='font-size:15px;'>Summarize the text: In telecommunications, orthogonal frequency-division multiplexing (OFDM) is a type of digital transmission used in digital modulation for encoding digital (binary) dataon multiple carrier frequencies. OFDM has developed into a popular scheme for wideband digital communication, used in applications such as digital television and audio broadcasting, DSL internet access, wireless networks, power line networks, and 4G/5G mobile communications.</p>"
      ],
      "text/plain": [
       "<IPython.core.display.HTML object>"
      ]
     },
     "metadata": {},
     "output_type": "display_data"
    },
    {
     "name": "stdout",
     "output_type": "stream",
     "text": [
      "Without Noise:\n"
     ]
    },
    {
     "data": {
      "text/html": [
       "<p style='font-size:20px; font-family:\"Comic Sans MS\", cursive;'> Orthogonal frequency-division multiplexing (OFDM) is a type of digital transmission used in digital modulation for encoding digital (binary) dataon multiple carrier frequencies.</p>"
      ],
      "text/plain": [
       "<IPython.core.display.HTML object>"
      ]
     },
     "metadata": {},
     "output_type": "display_data"
    },
    {
     "name": "stdout",
     "output_type": "stream",
     "text": [
      "With Noise (SNR = 1 dB):\n"
     ]
    },
    {
     "data": {
      "text/html": [
       "<p style='font-size:20px; font-family:\"Comic Sans MS\", cursive;'> Describe the history of OFDM</p>"
      ],
      "text/plain": [
       "<IPython.core.display.HTML object>"
      ]
     },
     "metadata": {},
     "output_type": "display_data"
    }
   ],
   "source": [
    "input_ids = tokenizer(input_text, return_tensors=\"pt\").input_ids.to(device)\n",
    "\n",
    "# Get encoder output without noise\n",
    "with torch.no_grad():\n",
    "    encoder_outputs = model.encoder(input_ids=input_ids)\n",
    "\n",
    "# Generate output without noise\n",
    "baseline_outputs = model.generate(\n",
    "    input_ids=None,\n",
    "    encoder_outputs=encoder_outputs,\n",
    "    max_length=200,\n",
    "    do_sample=True,\n",
    "    temperature=0.5\n",
    ")\n",
    "baseline_text = tokenizer.decode(baseline_outputs[0], skip_special_tokens=True)\n",
    "\n",
    "# Add noise with a target SNR and generate noisy output\n",
    "target_snr = 1  # Set target SNR\n",
    "noisy_encoder_output = add_noise_with_snr(encoder_outputs.last_hidden_state, target_snr)\n",
    "modified_encoder_outputs = BaseModelOutput(last_hidden_state=noisy_encoder_output)\n",
    "\n",
    "# Generate output with the noisy encoder output\n",
    "noisy_outputs = model.generate(\n",
    "    input_ids=None,\n",
    "    encoder_outputs=modified_encoder_outputs,\n",
    "    max_length=200,\n",
    "    do_sample=True,\n",
    "    temperature=0.5\n",
    ")\n",
    "noisy_text = tokenizer.decode(noisy_outputs[0], skip_special_tokens=True)\n",
    "\n",
    "# Display both outputs\n",
    "display(HTML(f\"<p style='font-size:15px;'>{input_text}</p>\"))\n",
    "print('Without Noise:')\n",
    "display(HTML(f\"<p style='font-size:20px; font-family:\\\"Comic Sans MS\\\", cursive;'> {baseline_text}</p>\"))\n",
    "print(f'With Noise (SNR = {target_snr} dB):')\n",
    "display(HTML(f\"<p style='font-size:20px; font-family:\\\"Comic Sans MS\\\", cursive;'> {noisy_text}</p>\"))"
   ]
  },
  {
   "cell_type": "code",
   "execution_count": 101,
   "id": "c9df4e64-96ed-4a1b-a3ee-efdeebae59e1",
   "metadata": {},
   "outputs": [
    {
     "data": {
      "text/plain": [
       "'?'"
      ]
     },
     "execution_count": 101,
     "metadata": {},
     "output_type": "execute_result"
    }
   ],
   "source": [
    "# '58' <=> ?\n",
    "# '0' <=> <start>\n",
    "# '1' <=> <end>\n",
    "a = torch.tensor([[58]])\n",
    "text = tokenizer.decode(a[0], skip_special_tokens=True)\n",
    "text"
   ]
  },
  {
   "cell_type": "code",
   "execution_count": 89,
   "id": "8b375f1f-ac17-4d0e-9e7c-d6dee6d6d92b",
   "metadata": {},
   "outputs": [
    {
     "data": {
      "text/plain": [
       "tensor([    0, 17913, 30979,  7666,     1], device='cuda:0')"
      ]
     },
     "execution_count": 89,
     "metadata": {},
     "output_type": "execute_result"
    }
   ],
   "source": [
    "baseline_outputs[0]"
   ]
  },
  {
   "cell_type": "code",
   "execution_count": 90,
   "id": "3101480a-24a6-4f98-98e0-ab4753589c00",
   "metadata": {},
   "outputs": [
    {
     "data": {
      "text/plain": [
       "tensor([[ 0,  3, 76, 89, 32,  3, 89,  9,  3,  7, 17,  3, 63,  3,  7,  3, 17,  3,\n",
       "          7,  3, 17,  3,  7,  3, 17,  3,  7,  3, 17,  3,  7,  3, 17,  3,  7,  3,\n",
       "         17,  3,  7,  3, 17,  3,  7,  3, 17,  3,  7,  3, 17,  3,  7,  3, 17,  3,\n",
       "          7,  3, 17,  3,  7,  3, 17,  3,  7,  3, 17,  3,  7,  3, 17,  3,  7,  3,\n",
       "         17,  3,  7,  3, 17,  3,  7,  3, 17,  3,  7,  3, 17,  3,  7,  3, 17,  3,\n",
       "          7,  3, 17,  3,  7,  3, 17,  3,  7,  3]], device='cuda:0')"
      ]
     },
     "execution_count": 90,
     "metadata": {},
     "output_type": "execute_result"
    }
   ],
   "source": [
    "noisy_outputs"
   ]
  }
 ],
 "metadata": {
  "kernelspec": {
   "display_name": "Python 3 (ipykernel)",
   "language": "python",
   "name": "python3"
  },
  "language_info": {
   "codemirror_mode": {
    "name": "ipython",
    "version": 3
   },
   "file_extension": ".py",
   "mimetype": "text/x-python",
   "name": "python",
   "nbconvert_exporter": "python",
   "pygments_lexer": "ipython3",
   "version": "3.9.20"
  },
  "widgets": {
   "application/vnd.jupyter.widget-state+json": {
    "state": {},
    "version_major": 2,
    "version_minor": 0
   }
  }
 },
 "nbformat": 4,
 "nbformat_minor": 5
}
