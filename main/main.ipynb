{
 "cells": [
  {
   "cell_type": "code",
   "execution_count": null,
   "id": "d27d910d-b318-41ef-9b9a-96533b57f971",
   "metadata": {},
   "outputs": [],
   "source": [
    "from transformers import BartTokenizer, BartForConditionalGeneration\n",
    "from transformers.modeling_outputs import BaseModelOutput\n",
    "from transformers import pipeline, T5ForConditionalGeneration, T5Tokenizer\n",
    "from IPython.display import display, HTML\n",
    "import torch\n",
    "import matplotlib.pyplot as plt\n",
    "from tqdm.notebook import tqdm\n",
    "from utils import *"
   ]
  },
  {
   "cell_type": "code",
   "execution_count": null,
   "id": "780608da-5832-4bbb-8a94-2d608e4c315e",
   "metadata": {},
   "outputs": [],
   "source": [
    "# Automatically choose (prefer NVIDIA GPU)\n",
    "device = torch.device(\"cuda\" if torch.cuda.is_available() else \"cpu\")\n",
    "\n",
    "# Specify model name\n",
    "model_name = \"facebook/bart-base\"\n",
    "# model_name = \"facebook/bart-large\" # Recommend this one if your computer is okay with larger models\n",
    "\n",
    "tokenizer_bart = BartTokenizer.from_pretrained(model_name)\n",
    "model = BartForConditionalGeneration.from_pretrained(model_name).to(device)\n",
    "\n",
    "# Specify model name\n",
    "summarizer_name = \"Falconsai/text_summarization\"\n",
    "\n",
    "tokenizer_sum = T5Tokenizer.from_pretrained(summarizer_name)\n",
    "summarizer = T5ForConditionalGeneration.from_pretrained(summarizer_name).to(device)"
   ]
  },
  {
   "cell_type": "code",
   "execution_count": null,
   "id": "72dc13d6-df59-4150-af37-4cc67368687a",
   "metadata": {},
   "outputs": [],
   "source": [
    "original_text = \"\"\"\n",
    "Beginners BBQ Class Taking Place in Missoula! \n",
    "Do you want to get better at making delicious BBQ?\n",
    "You will have the opportunity, put this on your calendar now. \n",
    "Thursday, September 22nd join World Class BBQ Champion, Tony Balay from Lonestar Smoke Rangers. \n",
    "He will be teaching a beginner level class for everyone who wants to get better with their culinary skills. \n",
    "He will teach you everything you need to know to compete in a KCBS BBQ competition, including techniques, recipes, timelines, meat selection and trimming, plus smoker and fire information. \n",
    "The cost to be in the class is $35 per person, and for spectators it is free. \n",
    "Included in the cost will be either a t-shirt or apron and you will be tasting samples of each meat that is prepared.\n",
    "\"\"\".replace(\"\\n\", \"\")"
   ]
  },
  {
   "cell_type": "code",
   "execution_count": null,
   "id": "f782dd33-c919-40ec-82ae-5bf409891f75",
   "metadata": {},
   "outputs": [],
   "source": [
    "input_text_ls = []\n",
    "nr_rounds = 10\n",
    "\n",
    "for _ in range(nr_rounds):\n",
    "    input_text_ls.append(masking(original_text, 4/130))\n",
    "\n",
    "original_ids = tokenizer_sum(original_text, return_tensors=\"pt\").input_ids.to(device)\n",
    "\n",
    "with torch.no_grad():\n",
    "    original_encoder_outputs = summarizer.encoder(input_ids=original_ids)\n",
    "    \n",
    "original_sum_output = summarizer.generate(input_ids=None, encoder_outputs=original_encoder_outputs, max_length=70, output_hidden_states=True,\n",
    "                                        return_dict_in_generate=True, do_sample=True, temperature=0.1)\n",
    "original_summary = tokenizer_sum.decode(original_sum_output.sequences[0], skip_special_tokens=True)\n",
    "\n",
    "em_original_summary = extract_hidden_states(original_sum_output.decoder_hidden_states)\n",
    "\n",
    "em_baseline_summary = []\n",
    "\n",
    "for i in tqdm(range(nr_rounds)):\n",
    "    input_ids = tokenizer_bart(input_text_ls[i], return_tensors=\"pt\").input_ids.to(device)\n",
    "\n",
    "    with torch.no_grad():\n",
    "        encoder_outputs = model.model.encoder(input_ids=input_ids)\n",
    "        \n",
    "    # first LLM\n",
    "    baseline_outputs = model.generate(input_ids=None, encoder_outputs=encoder_outputs, max_length=300, min_length=100, \n",
    "                                    num_beams=15, do_sample=True, temperature=0.15, early_stopping=True)\n",
    "    baseline_text = tokenizer_bart.decode(baseline_outputs[0], skip_special_tokens=True)\n",
    "    # print(baseline_text)\n",
    "\n",
    "    \n",
    "    baseline_ids = tokenizer_sum(baseline_text, return_tensors=\"pt\").input_ids.to(device)\n",
    "    with torch.no_grad():\n",
    "        baseline_encoder_outputs = summarizer.encoder(input_ids=baseline_ids)\n",
    "        \n",
    "    baseline_sum_output = summarizer.generate(input_ids=None, encoder_outputs=baseline_encoder_outputs, max_length=70, output_hidden_states=True,\n",
    "                                            return_dict_in_generate=True, do_sample=True, temperature=0.1)\n",
    "    baseline_summary = tokenizer_sum.decode(baseline_sum_output.sequences[0], skip_special_tokens=True)\n",
    "    # print(baseline_summary)\n",
    "    em_baseline_summary.append(extract_hidden_states(baseline_sum_output.decoder_hidden_states))"
   ]
  },
  {
   "cell_type": "code",
   "execution_count": null,
   "id": "b64e7ee8-785e-406e-b81f-f318a743e876",
   "metadata": {},
   "outputs": [],
   "source": [
    "# Define SNR range\n",
    "# snr_range = list(range(-20, 21, 6)) + list(range(22, 55, 5)) + list(range(64, 101, 6)) \n",
    "snr_range = list(range(-3, 20, 4)) \n",
    "cs_list_mean = []\n",
    "cs_list_lower = []\n",
    "cs_list_upper = []\n",
    "mi_list_mean = []\n",
    "mi_list_lower = []\n",
    "mi_list_upper = []\n",
    "\n",
    "\n",
    "for target_snr in tqdm(snr_range):\n",
    "    cs_list_texts = []\n",
    "    mi_list_texts = []\n",
    "    for i in tqdm(range(nr_rounds)):\n",
    "        input_ids = tokenizer_bart(input_text_ls[i], return_tensors=\"pt\").input_ids.to(device)\n",
    "        with torch.no_grad():\n",
    "            encoder_outputs = model.model.encoder(input_ids=input_ids)\n",
    "        \n",
    "        # add noise\n",
    "        noisy_encoder_output = add_noise_with_snr(\n",
    "            encoder_output = encoder_outputs.last_hidden_state,\n",
    "            noise_type = \"gaussian\",\n",
    "            target_snr_db = target_snr,\n",
    "            dropout_rate=0.4,\n",
    "            sp_thresh=0.4\n",
    "        )\n",
    "        modified_encoder_outputs = BaseModelOutput(last_hidden_state=noisy_encoder_output)\n",
    "        \n",
    "        # first LLM\n",
    "        noisy_outputs = model.generate(input_ids=None, encoder_outputs=modified_encoder_outputs, max_length=300, min_length=100, \n",
    "                                    num_beams=15, do_sample=True, temperature=0.15, early_stopping=True)\n",
    "        noisy_text = tokenizer_bart.decode(noisy_outputs[0], skip_special_tokens=True)\n",
    "        #print(noisy_text)\n",
    "    \n",
    "        # second LLM\n",
    "        noisy_ids = tokenizer_sum(noisy_text, return_tensors=\"pt\").input_ids.to(device)\n",
    "        with torch.no_grad():\n",
    "            noisy_encoder_outputs = summarizer.encoder(input_ids=noisy_ids)\n",
    "        noisy_sum_output = summarizer.generate(input_ids=None, encoder_outputs=noisy_encoder_outputs, max_length=70, output_hidden_states=True,\n",
    "                                            return_dict_in_generate=True, do_sample=True, temperature=0.1)\n",
    "        noisy_summary = tokenizer_sum.decode(noisy_sum_output.sequences[0], skip_special_tokens=True)\n",
    "        #print(noisy_summary)\n",
    "        \n",
    "        \n",
    "        # get embeddings\n",
    "        em_noisy_summary = extract_hidden_states(noisy_sum_output.decoder_hidden_states)\n",
    "        \n",
    "        # pad each embedding with embedding of baseline\n",
    "        pad_em_baseline_summary, pad_em_noisy_summary = align_tensors(em_baseline_summary[i], em_noisy_summary)\n",
    "        \n",
    "        # calculate cs\n",
    "        cs_list_texts.append(F.cosine_similarity(pad_em_baseline_summary, pad_em_noisy_summary, dim=1).mean().item())\n",
    "    \n",
    "        # calculate mi\n",
    "        em_noisy_summary_np = em_noisy_summary.cpu().numpy()\n",
    "        em_baseline_summary_np = em_baseline_summary[i].cpu().numpy()\n",
    "        mi_list_texts.append(ksg(em_baseline_summary_np, em_noisy_summary_np))\n",
    "    \n",
    "    # for each snr calculate mean cs and mi\n",
    "    cs_list_mean.append(np.mean(cs_list_texts))\n",
    "    mi_list_mean.append(np.mean(mi_list_texts))\n",
    "    \n",
    "\n",
    "    z = 1.96  # For 95% confidence level\n",
    "    cs_list_std = np.std(cs_list_texts, axis=0)\n",
    "    margin_of_error = z * (cs_list_std / np.sqrt(nr_rounds))\n",
    "    cs_list_lower.append(cs_list_mean[-1] - margin_of_error)\n",
    "    cs_list_upper.append(cs_list_mean[-1] + margin_of_error)\n",
    "    # print(cs_list_lower)\n",
    "\n",
    "    mi_list_std = np.std(mi_list_texts, axis=0)\n",
    "    margin_of_error = z * (mi_list_std / np.sqrt(nr_rounds))\n",
    "    mi_list_lower.append(mi_list_mean[-1] - margin_of_error)\n",
    "    mi_list_upper.append(mi_list_mean[-1] + margin_of_error)\n",
    "    \n",
    "cs_base_orig_ls = []\n",
    "mi_base_orig_ls = []\n",
    "for i in range(nr_rounds):\n",
    "    pad_em_baseline_summary, pad_em_original_summary = align_tensors(em_baseline_summary[i], em_original_summary)\n",
    "    cs_base_orig_ls.append(F.cosine_similarity(pad_em_baseline_summary, pad_em_original_summary, dim=1).mean().item())\n",
    "\n",
    "    em_original_summary_np = em_original_summary.cpu().numpy()\n",
    "    em_baseline_summary_np = em_baseline_summary[i].cpu().numpy()\n",
    "\n",
    "    mi_base_orig_ls.append(ksg(em_baseline_summary_np, em_original_summary_np))\n",
    "    \n",
    "cs_base_orig_mean = np.mean(cs_base_orig_ls)\n",
    "mi_base_orig_mean = np.mean(mi_base_orig_ls)"
   ]
  },
  {
   "cell_type": "code",
   "execution_count": null,
   "id": "8819a0a0-906a-4327-9ad0-46001a89b171",
   "metadata": {},
   "outputs": [],
   "source": [
    "plt.figure(figsize=(20, 6), dpi=300)\n",
    "plt.plot(snr_range, cs_list_mean, marker='o')\n",
    "plt.axhline(y=cs_base_orig_mean, color='r', linestyle='--', label='Cosine Similarity between the baseline and the original')\n",
    "plt.fill_between(snr_range, cs_list_lower, cs_list_upper, color='b', alpha=0.2, label='95% Confidence Interval')\n",
    "plt.ylim([0.0,1.1])\n",
    "plt.xlabel(\"SNR (dB)\")\n",
    "plt.ylabel(\"Cosine Similarity\")\n",
    "plt.title(\"Cosine Similarity of Baseline and Noisy Summary\")\n",
    "plt.grid()\n",
    "plt.legend()\n",
    "plt.show()\n",
    "\n",
    "plt.figure(figsize=(20, 6), dpi=300)\n",
    "plt.plot(snr_range, mi_list_mean, marker='o')\n",
    "plt.axhline(y=mi_base_orig_mean, color='r', linestyle='--', label='Mutual Information between the baseline and the original')\n",
    "plt.fill_between(snr_range, mi_list_lower, mi_list_upper, color='b', alpha=0.2, label='95% Confidence Interval')\n",
    "plt.ylim([0.0,5.1])\n",
    "plt.xlabel(\"SNR (dB)\")\n",
    "plt.ylabel(\"MI similarities of Baseline\")\n",
    "plt.title(\"MI similarities of Baseline and Noisy Summary\")\n",
    "plt.grid()\n",
    "plt.legend()\n",
    "plt.show()"
   ]
  },
  {
   "cell_type": "code",
   "execution_count": null,
   "id": "8eec87e4-d920-43af-b47d-fd8bb5fa2ea0",
   "metadata": {},
   "outputs": [],
   "source": []
  }
 ],
 "metadata": {
  "kernelspec": {
   "display_name": "Python 3 (ipykernel)",
   "language": "python",
   "name": "python3"
  },
  "language_info": {
   "codemirror_mode": {
    "name": "ipython",
    "version": 3
   },
   "file_extension": ".py",
   "mimetype": "text/x-python",
   "name": "python",
   "nbconvert_exporter": "python",
   "pygments_lexer": "ipython3",
   "version": "3.9.20"
  },
  "widgets": {
   "application/vnd.jupyter.widget-state+json": {
    "state": {
     "01cd7d781572453c8c911b677ae4fbcc": {
      "model_module": "@jupyter-widgets/controls",
      "model_module_version": "2.0.0",
      "model_name": "HTMLStyleModel",
      "state": {
       "description_width": "",
       "font_size": null,
       "text_color": null
      }
     },
     "11ba451e33344dcdba2577eb62cb6005": {
      "model_module": "@jupyter-widgets/controls",
      "model_module_version": "2.0.0",
      "model_name": "HTMLModel",
      "state": {
       "layout": "IPY_MODEL_f9f47a1056334f418d06669b16b7042a",
       "style": "IPY_MODEL_f2a171bf299642ffbcf2dbcfb876a3b8",
       "value": " 0/6 [00:16&lt;?, ?it/s]"
      }
     },
     "11fbd99c67ec4458a71325f3a36578e9": {
      "model_module": "@jupyter-widgets/controls",
      "model_module_version": "2.0.0",
      "model_name": "ProgressStyleModel",
      "state": {
       "description_width": ""
      }
     },
     "277d7e5ab5544c00b78e7840fe1fa61e": {
      "model_module": "@jupyter-widgets/controls",
      "model_module_version": "2.0.0",
      "model_name": "HTMLModel",
      "state": {
       "layout": "IPY_MODEL_f9bb53e4567245308f060a59fdcf60b3",
       "style": "IPY_MODEL_ea1200cbc0b94677a5f20b03a324730e",
       "value": "  0%"
      }
     },
     "2787f9e087b3412aabf02e1e9da6bdf6": {
      "model_module": "@jupyter-widgets/controls",
      "model_module_version": "2.0.0",
      "model_name": "HTMLModel",
      "state": {
       "layout": "IPY_MODEL_93e9c3f5b3414fd786f08e9dee64eb63",
       "style": "IPY_MODEL_fdacd00fb74947339ceeaaa0e1763a8f",
       "value": " 0/6 [00:01&lt;?, ?it/s]"
      }
     },
     "27ad9b82b2fb495196b69b720dd5f578": {
      "model_module": "@jupyter-widgets/controls",
      "model_module_version": "2.0.0",
      "model_name": "HTMLStyleModel",
      "state": {
       "description_width": "",
       "font_size": null,
       "text_color": null
      }
     },
     "32c13f62a24f4da6b1a0858692bc7873": {
      "model_module": "@jupyter-widgets/base",
      "model_module_version": "2.0.0",
      "model_name": "LayoutModel",
      "state": {}
     },
     "37bbdf69a9bc49e1846bc587375b8241": {
      "model_module": "@jupyter-widgets/controls",
      "model_module_version": "2.0.0",
      "model_name": "HTMLStyleModel",
      "state": {
       "description_width": "",
       "font_size": null,
       "text_color": null
      }
     },
     "39986d1e04f7490b82ec53929d14b762": {
      "model_module": "@jupyter-widgets/base",
      "model_module_version": "2.0.0",
      "model_name": "LayoutModel",
      "state": {}
     },
     "40129f651c7942199b10e3743c8aceab": {
      "model_module": "@jupyter-widgets/base",
      "model_module_version": "2.0.0",
      "model_name": "LayoutModel",
      "state": {}
     },
     "40f1065c8da04c599a2ed01848dfebef": {
      "model_module": "@jupyter-widgets/base",
      "model_module_version": "2.0.0",
      "model_name": "LayoutModel",
      "state": {}
     },
     "4166573790ab4723b976df09d9e3b894": {
      "model_module": "@jupyter-widgets/base",
      "model_module_version": "2.0.0",
      "model_name": "LayoutModel",
      "state": {}
     },
     "443331bc2fb94733a9377c9948819533": {
      "model_module": "@jupyter-widgets/controls",
      "model_module_version": "2.0.0",
      "model_name": "HTMLModel",
      "state": {
       "layout": "IPY_MODEL_773a2b30b1cb485a9cafd2230d1dfe5e",
       "style": "IPY_MODEL_01cd7d781572453c8c911b677ae4fbcc",
       "value": " 0/10 [00:01&lt;?, ?it/s]"
      }
     },
     "543f064e481142608dbfe9cfc05c726d": {
      "model_module": "@jupyter-widgets/controls",
      "model_module_version": "2.0.0",
      "model_name": "HTMLModel",
      "state": {
       "layout": "IPY_MODEL_39986d1e04f7490b82ec53929d14b762",
       "style": "IPY_MODEL_d0740266417743b0b59c71fda46b6c8e",
       "value": " 3/10 [00:16&lt;00:36,  5.25s/it]"
      }
     },
     "58918c29df424d2fb6ff1e0decaa56a3": {
      "model_module": "@jupyter-widgets/controls",
      "model_module_version": "2.0.0",
      "model_name": "FloatProgressModel",
      "state": {
       "bar_style": "danger",
       "layout": "IPY_MODEL_32c13f62a24f4da6b1a0858692bc7873",
       "max": 6,
       "style": "IPY_MODEL_ef11eaf05f51467b8f59a9114ac76583"
      }
     },
     "5b2821b0c1ce4117b8da63b14a79ee23": {
      "model_module": "@jupyter-widgets/base",
      "model_module_version": "2.0.0",
      "model_name": "LayoutModel",
      "state": {}
     },
     "5e93cdbef9fb4a0b8ddaee53a2f04201": {
      "model_module": "@jupyter-widgets/controls",
      "model_module_version": "2.0.0",
      "model_name": "FloatProgressModel",
      "state": {
       "bar_style": "success",
       "layout": "IPY_MODEL_5b2821b0c1ce4117b8da63b14a79ee23",
       "max": 10,
       "style": "IPY_MODEL_802ae9137650423cb3a7d3bd9add58a5",
       "value": 10
      }
     },
     "5f19478c23c54badb3893a3c5dbda9f1": {
      "model_module": "@jupyter-widgets/base",
      "model_module_version": "2.0.0",
      "model_name": "LayoutModel",
      "state": {}
     },
     "6c0e0fc874c246aca1f1af53be4e2c4d": {
      "model_module": "@jupyter-widgets/base",
      "model_module_version": "2.0.0",
      "model_name": "LayoutModel",
      "state": {}
     },
     "6d9e35989c834684a03b05a9bc02f182": {
      "model_module": "@jupyter-widgets/controls",
      "model_module_version": "2.0.0",
      "model_name": "HTMLStyleModel",
      "state": {
       "description_width": "",
       "font_size": null,
       "text_color": null
      }
     },
     "6ea4aefb02f948a6895da4a065028e8f": {
      "model_module": "@jupyter-widgets/base",
      "model_module_version": "2.0.0",
      "model_name": "LayoutModel",
      "state": {}
     },
     "7107d4e35a5849bd83b9aee7b6cef906": {
      "model_module": "@jupyter-widgets/controls",
      "model_module_version": "2.0.0",
      "model_name": "HTMLModel",
      "state": {
       "layout": "IPY_MODEL_d4ed1456dcc54f5793e32c21fbcac399",
       "style": "IPY_MODEL_37bbdf69a9bc49e1846bc587375b8241",
       "value": " 30%"
      }
     },
     "758d63761dfc47708a8920eb2b6c031c": {
      "model_module": "@jupyter-widgets/controls",
      "model_module_version": "2.0.0",
      "model_name": "HBoxModel",
      "state": {
       "children": [
        "IPY_MODEL_277d7e5ab5544c00b78e7840fe1fa61e",
        "IPY_MODEL_92fc66fa978a4922b298db99ddf16824",
        "IPY_MODEL_2787f9e087b3412aabf02e1e9da6bdf6"
       ],
       "layout": "IPY_MODEL_4166573790ab4723b976df09d9e3b894"
      }
     },
     "773a2b30b1cb485a9cafd2230d1dfe5e": {
      "model_module": "@jupyter-widgets/base",
      "model_module_version": "2.0.0",
      "model_name": "LayoutModel",
      "state": {}
     },
     "788ee95413c24c4b92beb083ea852d14": {
      "model_module": "@jupyter-widgets/base",
      "model_module_version": "2.0.0",
      "model_name": "LayoutModel",
      "state": {}
     },
     "802ae9137650423cb3a7d3bd9add58a5": {
      "model_module": "@jupyter-widgets/controls",
      "model_module_version": "2.0.0",
      "model_name": "ProgressStyleModel",
      "state": {
       "description_width": ""
      }
     },
     "84a28493669c40308053bd08b92e5f8a": {
      "model_module": "@jupyter-widgets/controls",
      "model_module_version": "2.0.0",
      "model_name": "ProgressStyleModel",
      "state": {
       "description_width": ""
      }
     },
     "87b1a04209cf4ff3a5dfda98d6c71fde": {
      "model_module": "@jupyter-widgets/controls",
      "model_module_version": "2.0.0",
      "model_name": "HTMLModel",
      "state": {
       "layout": "IPY_MODEL_ab1fa34c6b1b41d18d2f9295b5af26a2",
       "style": "IPY_MODEL_27ad9b82b2fb495196b69b720dd5f578",
       "value": "100%"
      }
     },
     "8a2a5b14245a4e4caa529292d92bbe0c": {
      "model_module": "@jupyter-widgets/controls",
      "model_module_version": "2.0.0",
      "model_name": "HBoxModel",
      "state": {
       "children": [
        "IPY_MODEL_eed55af1634c4560bde875dc32ac58f0",
        "IPY_MODEL_58918c29df424d2fb6ff1e0decaa56a3",
        "IPY_MODEL_11ba451e33344dcdba2577eb62cb6005"
       ],
       "layout": "IPY_MODEL_6ea4aefb02f948a6895da4a065028e8f"
      }
     },
     "8c3ff9df78474a3e8162c6bee65d944e": {
      "model_module": "@jupyter-widgets/controls",
      "model_module_version": "2.0.0",
      "model_name": "HTMLModel",
      "state": {
       "layout": "IPY_MODEL_40129f651c7942199b10e3743c8aceab",
       "style": "IPY_MODEL_6d9e35989c834684a03b05a9bc02f182",
       "value": "  0%"
      }
     },
     "8c9a87304f68494b87b0e8cac2d0d575": {
      "model_module": "@jupyter-widgets/base",
      "model_module_version": "2.0.0",
      "model_name": "LayoutModel",
      "state": {}
     },
     "92f7c8ac85bd4108938a9a4580e7480c": {
      "model_module": "@jupyter-widgets/controls",
      "model_module_version": "2.0.0",
      "model_name": "FloatProgressModel",
      "state": {
       "bar_style": "danger",
       "layout": "IPY_MODEL_6c0e0fc874c246aca1f1af53be4e2c4d",
       "max": 10,
       "style": "IPY_MODEL_11fbd99c67ec4458a71325f3a36578e9",
       "value": 3
      }
     },
     "92fc66fa978a4922b298db99ddf16824": {
      "model_module": "@jupyter-widgets/controls",
      "model_module_version": "2.0.0",
      "model_name": "FloatProgressModel",
      "state": {
       "bar_style": "danger",
       "layout": "IPY_MODEL_788ee95413c24c4b92beb083ea852d14",
       "max": 6,
       "style": "IPY_MODEL_84a28493669c40308053bd08b92e5f8a"
      }
     },
     "93e9c3f5b3414fd786f08e9dee64eb63": {
      "model_module": "@jupyter-widgets/base",
      "model_module_version": "2.0.0",
      "model_name": "LayoutModel",
      "state": {}
     },
     "9bbb20e458ca467faddae73157b5f3a2": {
      "model_module": "@jupyter-widgets/base",
      "model_module_version": "2.0.0",
      "model_name": "LayoutModel",
      "state": {}
     },
     "a7f2b0138b0946acb5811b03e47f46b4": {
      "model_module": "@jupyter-widgets/base",
      "model_module_version": "2.0.0",
      "model_name": "LayoutModel",
      "state": {}
     },
     "ab1fa34c6b1b41d18d2f9295b5af26a2": {
      "model_module": "@jupyter-widgets/base",
      "model_module_version": "2.0.0",
      "model_name": "LayoutModel",
      "state": {}
     },
     "b197a79b74c149b8a3b7aabe154e6ca5": {
      "model_module": "@jupyter-widgets/controls",
      "model_module_version": "2.0.0",
      "model_name": "ProgressStyleModel",
      "state": {
       "description_width": ""
      }
     },
     "b76c5049c38f44e4bcbebc8854ad7c8b": {
      "model_module": "@jupyter-widgets/controls",
      "model_module_version": "2.0.0",
      "model_name": "HTMLStyleModel",
      "state": {
       "description_width": "",
       "font_size": null,
       "text_color": null
      }
     },
     "bbd209e4c8a04882bd5fc664d0d72e90": {
      "model_module": "@jupyter-widgets/controls",
      "model_module_version": "2.0.0",
      "model_name": "HBoxModel",
      "state": {
       "children": [
        "IPY_MODEL_87b1a04209cf4ff3a5dfda98d6c71fde",
        "IPY_MODEL_5e93cdbef9fb4a0b8ddaee53a2f04201",
        "IPY_MODEL_eb702bab29de4a268a81ff4c3d61fc32"
       ],
       "layout": "IPY_MODEL_cd1752c0dca64a0a97cb29d396da7c13"
      }
     },
     "cb1f7d7314ac4f81aedbd8f57f9b75c6": {
      "model_module": "@jupyter-widgets/controls",
      "model_module_version": "2.0.0",
      "model_name": "HBoxModel",
      "state": {
       "children": [
        "IPY_MODEL_7107d4e35a5849bd83b9aee7b6cef906",
        "IPY_MODEL_92f7c8ac85bd4108938a9a4580e7480c",
        "IPY_MODEL_543f064e481142608dbfe9cfc05c726d"
       ],
       "layout": "IPY_MODEL_a7f2b0138b0946acb5811b03e47f46b4"
      }
     },
     "cd1752c0dca64a0a97cb29d396da7c13": {
      "model_module": "@jupyter-widgets/base",
      "model_module_version": "2.0.0",
      "model_name": "LayoutModel",
      "state": {}
     },
     "d0740266417743b0b59c71fda46b6c8e": {
      "model_module": "@jupyter-widgets/controls",
      "model_module_version": "2.0.0",
      "model_name": "HTMLStyleModel",
      "state": {
       "description_width": "",
       "font_size": null,
       "text_color": null
      }
     },
     "d4da45036fbf4bd28416532be170ba5d": {
      "model_module": "@jupyter-widgets/controls",
      "model_module_version": "2.0.0",
      "model_name": "HBoxModel",
      "state": {
       "children": [
        "IPY_MODEL_8c3ff9df78474a3e8162c6bee65d944e",
        "IPY_MODEL_e8da763269ea497189c52127fc300322",
        "IPY_MODEL_443331bc2fb94733a9377c9948819533"
       ],
       "layout": "IPY_MODEL_5f19478c23c54badb3893a3c5dbda9f1"
      }
     },
     "d4ed1456dcc54f5793e32c21fbcac399": {
      "model_module": "@jupyter-widgets/base",
      "model_module_version": "2.0.0",
      "model_name": "LayoutModel",
      "state": {}
     },
     "e8da763269ea497189c52127fc300322": {
      "model_module": "@jupyter-widgets/controls",
      "model_module_version": "2.0.0",
      "model_name": "FloatProgressModel",
      "state": {
       "bar_style": "danger",
       "layout": "IPY_MODEL_40f1065c8da04c599a2ed01848dfebef",
       "max": 10,
       "style": "IPY_MODEL_b197a79b74c149b8a3b7aabe154e6ca5"
      }
     },
     "ea1200cbc0b94677a5f20b03a324730e": {
      "model_module": "@jupyter-widgets/controls",
      "model_module_version": "2.0.0",
      "model_name": "HTMLStyleModel",
      "state": {
       "description_width": "",
       "font_size": null,
       "text_color": null
      }
     },
     "eb702bab29de4a268a81ff4c3d61fc32": {
      "model_module": "@jupyter-widgets/controls",
      "model_module_version": "2.0.0",
      "model_name": "HTMLModel",
      "state": {
       "layout": "IPY_MODEL_8c9a87304f68494b87b0e8cac2d0d575",
       "style": "IPY_MODEL_fdf2f2b907224699a6f51125bd885c22",
       "value": " 10/10 [00:31&lt;00:00,  3.17s/it]"
      }
     },
     "eed55af1634c4560bde875dc32ac58f0": {
      "model_module": "@jupyter-widgets/controls",
      "model_module_version": "2.0.0",
      "model_name": "HTMLModel",
      "state": {
       "layout": "IPY_MODEL_9bbb20e458ca467faddae73157b5f3a2",
       "style": "IPY_MODEL_b76c5049c38f44e4bcbebc8854ad7c8b",
       "value": "  0%"
      }
     },
     "ef11eaf05f51467b8f59a9114ac76583": {
      "model_module": "@jupyter-widgets/controls",
      "model_module_version": "2.0.0",
      "model_name": "ProgressStyleModel",
      "state": {
       "description_width": ""
      }
     },
     "f2a171bf299642ffbcf2dbcfb876a3b8": {
      "model_module": "@jupyter-widgets/controls",
      "model_module_version": "2.0.0",
      "model_name": "HTMLStyleModel",
      "state": {
       "description_width": "",
       "font_size": null,
       "text_color": null
      }
     },
     "f9bb53e4567245308f060a59fdcf60b3": {
      "model_module": "@jupyter-widgets/base",
      "model_module_version": "2.0.0",
      "model_name": "LayoutModel",
      "state": {}
     },
     "f9f47a1056334f418d06669b16b7042a": {
      "model_module": "@jupyter-widgets/base",
      "model_module_version": "2.0.0",
      "model_name": "LayoutModel",
      "state": {}
     },
     "fdacd00fb74947339ceeaaa0e1763a8f": {
      "model_module": "@jupyter-widgets/controls",
      "model_module_version": "2.0.0",
      "model_name": "HTMLStyleModel",
      "state": {
       "description_width": "",
       "font_size": null,
       "text_color": null
      }
     },
     "fdf2f2b907224699a6f51125bd885c22": {
      "model_module": "@jupyter-widgets/controls",
      "model_module_version": "2.0.0",
      "model_name": "HTMLStyleModel",
      "state": {
       "description_width": "",
       "font_size": null,
       "text_color": null
      }
     }
    },
    "version_major": 2,
    "version_minor": 0
   }
  }
 },
 "nbformat": 4,
 "nbformat_minor": 5
}
