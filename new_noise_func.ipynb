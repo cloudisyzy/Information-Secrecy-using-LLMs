{
 "cells": [
  {
   "cell_type": "code",
   "execution_count": 37,
   "id": "1ff60f7e-7df0-4371-a016-5b0c7a7247b6",
   "metadata": {},
   "outputs": [],
   "source": [
    "import torch\n",
    "import torch.nn.functional as F\n",
    "\n",
    "def add_noise_with_snr(encoder_output, noise_type='gaussian', target_snr_db=3, dropout_rate=0.4, sp_thresh=0.4):\n",
    "    \"\"\"\n",
    "    Add noise to the encoder output based on a target SNR in dB.\n",
    "    \n",
    "    Parameters:\n",
    "    - encoder_output: torch.Tensor, the encoder's output (last_hidden_state).\n",
    "    - noise_type: string, determines what kind of noise is added.\n",
    "    - target_snr_db: float, the desired signal-to-noise ratio in dB for awgn and dropout.\n",
    "    - dropout_rate: float, range: [0,1], default rate for dropout noise (not used here).\n",
    "    - sp_thresh: float, range: [0,1], determines the threshold for salt-and-pepper noise.\n",
    "    \n",
    "    Returns:\n",
    "    - noisy_encoder_output: torch.Tensor, encoder output with added noise.\n",
    "    \"\"\"\n",
    "\n",
    "    if noise_type.lower() == 'gaussian':\n",
    "        # Generate Gaussian noise\n",
    "        noise = torch.randn_like(encoder_output) * torch.sqrt(noise_power)\n",
    "        return encoder_output + noise\n",
    "\n",
    "    elif noise_type.lower() == 'dropout':\n",
    "        # Compute dropout probability p based on SNR\n",
    "        signal_power = torch.mean(encoder_output ** 2)\n",
    "        target_snr_linear = 10 ** (target_snr_db / 10)\n",
    "        noise_power = signal_power / target_snr_linear\n",
    "        p = 1 / target_snr_linear\n",
    "\n",
    "        # Create a mask with elements set to zero with probability p\n",
    "        random_tensor = torch.rand_like(encoder_output)\n",
    "        mask = random_tensor >= p  # Retain elements with probability (1 - p)\n",
    "\n",
    "        # Apply the mask to the encoder output without scaling\n",
    "        noisy_encoder_output = encoder_output * mask.float()\n",
    "        return noisy_encoder_output\n",
    "\n",
    "    elif noise_type.lower() == 'saltpepper':\n",
    "        mask = torch.rand_like(encoder_output) < sp_thresh  # The greater the sp_thresh, more noise is added\n",
    "        salt = torch.max(encoder_output)\n",
    "        pepper = torch.min(encoder_output)\n",
    "        noise = torch.where(torch.rand_like(encoder_output) < 0.5, salt, pepper)\n",
    "        noised_enc_output = torch.where(mask, noise, encoder_output)\n",
    "        return noised_enc_output\n",
    "\n",
    "    else:\n",
    "        raise ValueError(\"Unsupported Noise Type. Choose between 'gaussian', 'dropout', 'saltpepper'.\")\n"
   ]
  },
  {
   "cell_type": "code",
   "execution_count": 39,
   "id": "f1cf4ae8-f91e-4ff6-a3ee-1a270fc6fc7a",
   "metadata": {},
   "outputs": [
    {
     "name": "stdout",
     "output_type": "stream",
     "text": [
      "Target SNR (dB): 10\n",
      "Actual SNR (dB): 10.00\n",
      "Difference (dB): 0.00\n"
     ]
    }
   ],
   "source": [
    "import torch\n",
    "\n",
    "# Define a large tensor\n",
    "encoder_output = torch.randn(1000, 1000)\n",
    "\n",
    "# Set the target SNR in dB\n",
    "target_snr_db = 10\n",
    "\n",
    "# Add noise using the modified function\n",
    "noisy_encoder_output = add_noise_with_snr(encoder_output, noise_type='dropout', target_snr_db=target_snr_db)\n",
    "\n",
    "# Compute the actual SNR\n",
    "signal_power = torch.mean(encoder_output ** 2)\n",
    "noise = encoder_output - noisy_encoder_output\n",
    "noise_power = torch.mean(noise ** 2)\n",
    "actual_snr = signal_power / noise_power\n",
    "actual_snr_db = 10 * torch.log10(actual_snr)\n",
    "\n",
    "# Step 4: Print the results\n",
    "print(f\"Target SNR (dB): {target_snr_db}\")\n",
    "print(f\"Actual SNR (dB): {actual_snr_db.item():.2f}\")\n",
    "print(f\"Difference (dB): {abs(target_snr_db - actual_snr_db.item()):.2f}\")"
   ]
  },
  {
   "cell_type": "code",
   "execution_count": null,
   "id": "7d1963e6-1bfc-49e1-aed5-af91438c1a5c",
   "metadata": {},
   "outputs": [],
   "source": []
  }
 ],
 "metadata": {
  "kernelspec": {
   "display_name": "Python 3 (ipykernel)",
   "language": "python",
   "name": "python3"
  },
  "language_info": {
   "codemirror_mode": {
    "name": "ipython",
    "version": 3
   },
   "file_extension": ".py",
   "mimetype": "text/x-python",
   "name": "python",
   "nbconvert_exporter": "python",
   "pygments_lexer": "ipython3",
   "version": "3.9.20"
  },
  "widgets": {
   "application/vnd.jupyter.widget-state+json": {
    "state": {},
    "version_major": 2,
    "version_minor": 0
   }
  }
 },
 "nbformat": 4,
 "nbformat_minor": 5
}
