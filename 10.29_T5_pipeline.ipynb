{
 "cells": [
  {
   "cell_type": "markdown",
   "id": "2261e128-1655-47ba-8e41-c6800f0b018f",
   "metadata": {},
   "source": [
    "## Use pipeline"
   ]
  },
  {
   "cell_type": "code",
   "execution_count": 1,
   "id": "98addefa-bb25-4ee6-87f1-8462f84bcecc",
   "metadata": {},
   "outputs": [
    {
     "data": {
      "text/plain": [
       "[{'translation_text': 'In telecommunications, orthogonal frequency-division multiplexing (OFDM) is a type of digital transmission used in digital modulation for encoding digital (binary) dataon multiple carrier frequencies. OFDM has developed into a popular scheme for wideband digital communication, used in applications such as digital television and audio broadcasting, DSL internet access, wireless networks, power line networks, and 4G/5G mobile communications.'}]"
      ]
     },
     "execution_count": 1,
     "metadata": {},
     "output_type": "execute_result"
    }
   ],
   "source": [
    "from transformers import pipeline, T5ForConditionalGeneration, T5Tokenizer\n",
    "from transformers.modeling_outputs import BaseModelOutput\n",
    "import torch\n",
    "from IPython.display import display, HTML\n",
    "\n",
    "# Set device\n",
    "device = torch.device(\"cuda\" if torch.cuda.is_available() else \"cpu\")\n",
    "\n",
    "# Initialize translation pipeline\n",
    "translator = pipeline(\"translation_en_to_de\", model=\"facebook/bart-base\", device=device)\n",
    "\n",
    "# input_text = \"My name is Ziyue and I live in Sweden.\"\n",
    "input_text = \"\"\"\n",
    "In telecommunications, orthogonal frequency-division multiplexing (OFDM) \n",
    "is a type of digital transmission used in digital modulation for encoding digital (binary) data\n",
    "on multiple carrier frequencies. OFDM has developed into a popular scheme for wideband digital \n",
    "communication, used in applications such as digital television and audio broadcasting, DSL internet \n",
    "access, wireless networks, power line networks, and 4G/5G mobile communications.\n",
    "\"\"\"\n",
    "\n",
    "output = translator(\n",
    "    input_text,\n",
    "    max_length=200,      # Adjust max length for summary\n",
    "    min_length=30,       # Adjust min length for summary\n",
    "    do_sample=True,      # Enables sampling for temperature to take effect\n",
    "    temperature=0.1,     # Controls the randomness\n",
    "    top_k=50,            # Limits sampling to top K most likely options\n",
    "    top_p=0.9            # Limits sampling to top cumulative probability P\n",
    ")\n",
    "\n",
    "output"
   ]
  },
  {
   "cell_type": "code",
   "execution_count": 2,
   "id": "99f7c471-2124-480d-855a-db70117f44fe",
   "metadata": {},
   "outputs": [
    {
     "name": "stdout",
     "output_type": "stream",
     "text": [
      "Max Memory Allocated: 1710.58 MB\n"
     ]
    }
   ],
   "source": [
    "print(f\"Max Memory Allocated: {torch.cuda.max_memory_allocated(device) / 1024 ** 2:.2f} MB\")"
   ]
  },
  {
   "cell_type": "markdown",
   "id": "61df35de-62dc-4ff3-98f1-4d9630722776",
   "metadata": {},
   "source": [
    "## Pipeline + Noise (fail)"
   ]
  },
  {
   "cell_type": "code",
   "execution_count": 1,
   "id": "1996838e-e683-4fea-9c5c-e4d86791ae40",
   "metadata": {},
   "outputs": [
    {
     "data": {
      "text/html": [
       "<p style='font-size:15px;'>Original text: This is my first time visiting Berlin.</p>"
      ],
      "text/plain": [
       "<IPython.core.display.HTML object>"
      ]
     },
     "metadata": {},
     "output_type": "display_data"
    },
    {
     "name": "stdout",
     "output_type": "stream",
     "text": [
      "Translation result without noise:\n"
     ]
    },
    {
     "data": {
      "text/html": [
       "<p style='font-size:20px; font-family:\"Comic Sans MS\", cursive;'> I'm not sure if it's the same as the one I've been to in the past. I'm not sure if it's the same as the one I've been to in the past.</p>"
      ],
      "text/plain": [
       "<IPython.core.display.HTML object>"
      ]
     },
     "metadata": {},
     "output_type": "display_data"
    },
    {
     "name": "stdout",
     "output_type": "stream",
     "text": [
      "Translation result with added noise (SNR = 100 dB):\n"
     ]
    },
    {
     "data": {
      "text/html": [
       "<p style='font-size:20px; font-family:\"Comic Sans MS\", cursive;'> I'm not sure if it's the same as the one I've been to before, but I'm not sure. I'm not sure if it's the same as the one I've been to before, but I'm not sure.</p>"
      ],
      "text/plain": [
       "<IPython.core.display.HTML object>"
      ]
     },
     "metadata": {},
     "output_type": "display_data"
    }
   ],
   "source": [
    "from transformers import pipeline, T5ForConditionalGeneration, T5Tokenizer\n",
    "from transformers.modeling_outputs import BaseModelOutput\n",
    "import torch\n",
    "from IPython.display import display, HTML\n",
    "\n",
    "# Set device\n",
    "device = torch.device(\"cuda\" if torch.cuda.is_available() else \"cpu\")\n",
    "\n",
    "# Initialize translation pipeline\n",
    "translator = pipeline(\"translation_en_to_fr\", model=\"google/flan-t5-base\", device=device)\n",
    "\n",
    "# Get model and tokenizer\n",
    "model = translator.model.to(device)\n",
    "tokenizer = translator.tokenizer\n",
    "\n",
    "def add_noise_with_snr(encoder_output, target_snr_db):\n",
    "    \"\"\"\n",
    "    Add noise to the encoder output based on the target Signal-to-Noise Ratio (SNR).\n",
    "\n",
    "    Parameters:\n",
    "    - encoder_output: torch.Tensor, the output of the encoder (last_hidden_state).\n",
    "    - target_snr_db: float, the desired SNR (in dB).\n",
    "\n",
    "    Returns:\n",
    "    - noisy_encoder_output: torch.Tensor, the encoder output with added noise.\n",
    "    \"\"\"\n",
    "    # Convert SNR from dB to linear scale\n",
    "    target_snr_linear = 10 ** (target_snr_db / 10)\n",
    "    \n",
    "    # Calculate signal power\n",
    "    signal_power = torch.mean(encoder_output ** 2)\n",
    "    \n",
    "    # Calculate the noise power required to achieve the target SNR\n",
    "    noise_power = signal_power / target_snr_linear\n",
    "    noise = torch.randn_like(encoder_output) * torch.sqrt(noise_power)\n",
    "    \n",
    "    # Add noise to the encoder output\n",
    "    noisy_encoder_output = encoder_output + noise\n",
    "    return noisy_encoder_output\n",
    "\n",
    "input_text = \"This is my first time visiting Berlin.\"\n",
    "\n",
    "# Encode input text as input IDs\n",
    "input_ids = tokenizer(input_text, return_tensors=\"pt\").input_ids.to(device)\n",
    "\n",
    "# Get encoder output (without noise)\n",
    "with torch.no_grad():\n",
    "    encoder_outputs = model.encoder(input_ids=input_ids)\n",
    "\n",
    "# Generate translation using the noise-free encoder output\n",
    "baseline_outputs = model.generate(\n",
    "    input_ids=None,\n",
    "    encoder_outputs=encoder_outputs,\n",
    "    max_length=200,\n",
    "    do_sample=True,\n",
    "    temperature=0.1\n",
    ")\n",
    "baseline_text = tokenizer.decode(baseline_outputs[0], skip_special_tokens=True)\n",
    "\n",
    "# Add noise to the encoder output\n",
    "target_snr = 100  # Set target SNR\n",
    "noisy_encoder_output = add_noise_with_snr(encoder_outputs.last_hidden_state, target_snr)\n",
    "modified_encoder_outputs = BaseModelOutput(last_hidden_state=noisy_encoder_output)\n",
    "\n",
    "# Generate translation using the encoder output with added noise\n",
    "noisy_outputs = model.generate(\n",
    "    input_ids=None,\n",
    "    encoder_outputs=modified_encoder_outputs,\n",
    "    max_length=200,\n",
    "    do_sample=True,\n",
    "    temperature=0.1\n",
    ")\n",
    "noisy_text = tokenizer.decode(noisy_outputs[0], skip_special_tokens=True)\n",
    "\n",
    "# Display results\n",
    "display(HTML(f\"<p style='font-size:15px;'>Original text: {input_text}</p>\"))\n",
    "print('Translation result without noise:')\n",
    "display(HTML(f\"<p style='font-size:20px; font-family:\\\"Comic Sans MS\\\", cursive;'> {baseline_text}</p>\"))\n",
    "print(f'Translation result with added noise (SNR = {target_snr} dB):')\n",
    "display(HTML(f\"<p style='font-size:20px; font-family:\\\"Comic Sans MS\\\", cursive;'> {noisy_text}</p>\"))\n"
   ]
  },
  {
   "cell_type": "code",
   "execution_count": null,
   "id": "8f2e8486-b61d-4ff3-ab7f-55988c167f5d",
   "metadata": {},
   "outputs": [],
   "source": []
  }
 ],
 "metadata": {
  "kernelspec": {
   "display_name": "Python 3 (ipykernel)",
   "language": "python",
   "name": "python3"
  },
  "language_info": {
   "codemirror_mode": {
    "name": "ipython",
    "version": 3
   },
   "file_extension": ".py",
   "mimetype": "text/x-python",
   "name": "python",
   "nbconvert_exporter": "python",
   "pygments_lexer": "ipython3",
   "version": "3.9.20"
  },
  "widgets": {
   "application/vnd.jupyter.widget-state+json": {
    "state": {},
    "version_major": 2,
    "version_minor": 0
   }
  }
 },
 "nbformat": 4,
 "nbformat_minor": 5
}
