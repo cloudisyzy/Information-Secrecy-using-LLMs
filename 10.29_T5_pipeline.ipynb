{
 "cells": [
  {
   "cell_type": "markdown",
   "id": "2261e128-1655-47ba-8e41-c6800f0b018f",
   "metadata": {},
   "source": [
    "## Use pipeline"
   ]
  },
  {
   "cell_type": "code",
   "execution_count": 1,
   "id": "98addefa-bb25-4ee6-87f1-8462f84bcecc",
   "metadata": {},
   "outputs": [
    {
     "data": {
      "application/vnd.jupyter.widget-view+json": {
       "model_id": "4648adcd88074924a9cd02bf08fa467a",
       "version_major": 2,
       "version_minor": 0
      },
      "text/plain": [
       "Loading checkpoint shards:   0%|          | 0/2 [00:00<?, ?it/s]"
      ]
     },
     "metadata": {},
     "output_type": "display_data"
    },
    {
     "data": {
      "text/plain": [
       "[{'translation_text': 'Ich bin Ziyue und ich wohne in Schweden.'}]"
      ]
     },
     "execution_count": 1,
     "metadata": {},
     "output_type": "execute_result"
    }
   ],
   "source": [
    "from transformers import pipeline, T5ForConditionalGeneration, T5Tokenizer\n",
    "from transformers.modeling_outputs import BaseModelOutput\n",
    "import torch\n",
    "from IPython.display import display, HTML\n",
    "\n",
    "# Set device\n",
    "device = torch.device(\"cuda\" if torch.cuda.is_available() else \"cpu\")\n",
    "\n",
    "# Initialize translation pipeline\n",
    "translator = pipeline(\"translation_en_to_de\", model=\"google/flan-t5-xl\", device=device)\n",
    "\n",
    "input_text = \"My name is Ziyue and I live in Sweden.\"\n",
    "\n",
    "output = translator(\n",
    "    input_text,\n",
    "    # max_length=100,      # Adjust max length for summary\n",
    "    # min_length=30,       # Adjust min length for summary\n",
    "    # do_sample=True,      # Enables sampling for temperature to take effect\n",
    "    # temperature=0.1,     # Controls the randomness\n",
    "    # top_k=50,            # Limits sampling to top K most likely options\n",
    "    # top_p=0.9            # Limits sampling to top cumulative probability P\n",
    ")\n",
    "\n",
    "output"
   ]
  },
  {
   "cell_type": "markdown",
   "id": "61df35de-62dc-4ff3-98f1-4d9630722776",
   "metadata": {},
   "source": [
    "## Pipeline + Noise (fail)"
   ]
  },
  {
   "cell_type": "code",
   "execution_count": 1,
   "id": "1996838e-e683-4fea-9c5c-e4d86791ae40",
   "metadata": {},
   "outputs": [
    {
     "data": {
      "text/html": [
       "<p style='font-size:15px;'>Original text: This is my first time visiting Berlin.</p>"
      ],
      "text/plain": [
       "<IPython.core.display.HTML object>"
      ]
     },
     "metadata": {},
     "output_type": "display_data"
    },
    {
     "name": "stdout",
     "output_type": "stream",
     "text": [
      "Translation result without noise:\n"
     ]
    },
    {
     "data": {
      "text/html": [
       "<p style='font-size:20px; font-family:\"Comic Sans MS\", cursive;'> I'm not sure if it's the same as the one I've been to in the past. I'm not sure if it's the same as the one I've been to in the past.</p>"
      ],
      "text/plain": [
       "<IPython.core.display.HTML object>"
      ]
     },
     "metadata": {},
     "output_type": "display_data"
    },
    {
     "name": "stdout",
     "output_type": "stream",
     "text": [
      "Translation result with added noise (SNR = 100 dB):\n"
     ]
    },
    {
     "data": {
      "text/html": [
       "<p style='font-size:20px; font-family:\"Comic Sans MS\", cursive;'> I'm not sure if it's the same as the one I've been to before, but I'm not sure. I'm not sure if it's the same as the one I've been to before, but I'm not sure.</p>"
      ],
      "text/plain": [
       "<IPython.core.display.HTML object>"
      ]
     },
     "metadata": {},
     "output_type": "display_data"
    }
   ],
   "source": [
    "from transformers import pipeline, T5ForConditionalGeneration, T5Tokenizer\n",
    "from transformers.modeling_outputs import BaseModelOutput\n",
    "import torch\n",
    "from IPython.display import display, HTML\n",
    "\n",
    "# Set device\n",
    "device = torch.device(\"cuda\" if torch.cuda.is_available() else \"cpu\")\n",
    "\n",
    "# Initialize translation pipeline\n",
    "translator = pipeline(\"translation_en_to_fr\", model=\"google/flan-t5-base\", device=device)\n",
    "\n",
    "# Get model and tokenizer\n",
    "model = translator.model.to(device)\n",
    "tokenizer = translator.tokenizer\n",
    "\n",
    "def add_noise_with_snr(encoder_output, target_snr_db):\n",
    "    \"\"\"\n",
    "    Add noise to the encoder output based on the target Signal-to-Noise Ratio (SNR).\n",
    "\n",
    "    Parameters:\n",
    "    - encoder_output: torch.Tensor, the output of the encoder (last_hidden_state).\n",
    "    - target_snr_db: float, the desired SNR (in dB).\n",
    "\n",
    "    Returns:\n",
    "    - noisy_encoder_output: torch.Tensor, the encoder output with added noise.\n",
    "    \"\"\"\n",
    "    # Convert SNR from dB to linear scale\n",
    "    target_snr_linear = 10 ** (target_snr_db / 10)\n",
    "    \n",
    "    # Calculate signal power\n",
    "    signal_power = torch.mean(encoder_output ** 2)\n",
    "    \n",
    "    # Calculate the noise power required to achieve the target SNR\n",
    "    noise_power = signal_power / target_snr_linear\n",
    "    noise = torch.randn_like(encoder_output) * torch.sqrt(noise_power)\n",
    "    \n",
    "    # Add noise to the encoder output\n",
    "    noisy_encoder_output = encoder_output + noise\n",
    "    return noisy_encoder_output\n",
    "\n",
    "input_text = \"This is my first time visiting Berlin.\"\n",
    "\n",
    "# Encode input text as input IDs\n",
    "input_ids = tokenizer(input_text, return_tensors=\"pt\").input_ids.to(device)\n",
    "\n",
    "# Get encoder output (without noise)\n",
    "with torch.no_grad():\n",
    "    encoder_outputs = model.encoder(input_ids=input_ids)\n",
    "\n",
    "# Generate translation using the noise-free encoder output\n",
    "baseline_outputs = model.generate(\n",
    "    input_ids=None,\n",
    "    encoder_outputs=encoder_outputs,\n",
    "    max_length=200,\n",
    "    do_sample=True,\n",
    "    temperature=0.1\n",
    ")\n",
    "baseline_text = tokenizer.decode(baseline_outputs[0], skip_special_tokens=True)\n",
    "\n",
    "# Add noise to the encoder output\n",
    "target_snr = 100  # Set target SNR\n",
    "noisy_encoder_output = add_noise_with_snr(encoder_outputs.last_hidden_state, target_snr)\n",
    "modified_encoder_outputs = BaseModelOutput(last_hidden_state=noisy_encoder_output)\n",
    "\n",
    "# Generate translation using the encoder output with added noise\n",
    "noisy_outputs = model.generate(\n",
    "    input_ids=None,\n",
    "    encoder_outputs=modified_encoder_outputs,\n",
    "    max_length=200,\n",
    "    do_sample=True,\n",
    "    temperature=0.1\n",
    ")\n",
    "noisy_text = tokenizer.decode(noisy_outputs[0], skip_special_tokens=True)\n",
    "\n",
    "# Display results\n",
    "display(HTML(f\"<p style='font-size:15px;'>Original text: {input_text}</p>\"))\n",
    "print('Translation result without noise:')\n",
    "display(HTML(f\"<p style='font-size:20px; font-family:\\\"Comic Sans MS\\\", cursive;'> {baseline_text}</p>\"))\n",
    "print(f'Translation result with added noise (SNR = {target_snr} dB):')\n",
    "display(HTML(f\"<p style='font-size:20px; font-family:\\\"Comic Sans MS\\\", cursive;'> {noisy_text}</p>\"))\n"
   ]
  },
  {
   "cell_type": "code",
   "execution_count": null,
   "id": "8f2e8486-b61d-4ff3-ab7f-55988c167f5d",
   "metadata": {},
   "outputs": [],
   "source": []
  }
 ],
 "metadata": {
  "kernelspec": {
   "display_name": "Python 3 (ipykernel)",
   "language": "python",
   "name": "python3"
  },
  "language_info": {
   "codemirror_mode": {
    "name": "ipython",
    "version": 3
   },
   "file_extension": ".py",
   "mimetype": "text/x-python",
   "name": "python",
   "nbconvert_exporter": "python",
   "pygments_lexer": "ipython3",
   "version": "3.9.20"
  },
  "widgets": {
   "application/vnd.jupyter.widget-state+json": {
    "state": {
     "00e814cf55b34d838ec31e30c7913269": {
      "model_module": "@jupyter-widgets/controls",
      "model_module_version": "2.0.0",
      "model_name": "HTMLStyleModel",
      "state": {
       "description_width": "",
       "font_size": null,
       "text_color": null
      }
     },
     "164002b9c3a54e0491ff3bc1b8d2c380": {
      "model_module": "@jupyter-widgets/base",
      "model_module_version": "2.0.0",
      "model_name": "LayoutModel",
      "state": {}
     },
     "20512d7a11dc4e0cb71bbe651f856b91": {
      "model_module": "@jupyter-widgets/controls",
      "model_module_version": "2.0.0",
      "model_name": "HTMLModel",
      "state": {
       "layout": "IPY_MODEL_ed331f24f019400491fbfeff1234096e",
       "style": "IPY_MODEL_6022202671f0443584022971fef27d8f",
       "value": "config.json: 100%"
      }
     },
     "28c3ae887904492fb1c593eac245b4d7": {
      "model_module": "@jupyter-widgets/controls",
      "model_module_version": "2.0.0",
      "model_name": "HTMLStyleModel",
      "state": {
       "description_width": "",
       "font_size": null,
       "text_color": null
      }
     },
     "2a7730579c4b45c0a5071918896be75a": {
      "model_module": "@jupyter-widgets/base",
      "model_module_version": "2.0.0",
      "model_name": "LayoutModel",
      "state": {}
     },
     "348720a321c7438289dac677abca67e6": {
      "model_module": "@jupyter-widgets/base",
      "model_module_version": "2.0.0",
      "model_name": "LayoutModel",
      "state": {}
     },
     "398c375fd02b4b46b8d931f50dea260b": {
      "model_module": "@jupyter-widgets/controls",
      "model_module_version": "2.0.0",
      "model_name": "HTMLModel",
      "state": {
       "layout": "IPY_MODEL_164002b9c3a54e0491ff3bc1b8d2c380",
       "style": "IPY_MODEL_00e814cf55b34d838ec31e30c7913269",
       "value": "model.safetensors:  16%"
      }
     },
     "3d384ab325b7473bb0dd568e411e89bf": {
      "model_module": "@jupyter-widgets/base",
      "model_module_version": "2.0.0",
      "model_name": "LayoutModel",
      "state": {}
     },
     "3dfaeb65cf424b2ca862ba0fcb1deb81": {
      "model_module": "@jupyter-widgets/controls",
      "model_module_version": "2.0.0",
      "model_name": "HTMLModel",
      "state": {
       "layout": "IPY_MODEL_88e315f737194865a4d8fcc04e53beb5",
       "style": "IPY_MODEL_bfa886a2928e4fa0a90ca9773c56010b",
       "value": " 10.5M/892M [00:01&lt;01:08, 12.9MB/s]"
      }
     },
     "41e7f015118e462bb1b4ceff421971b0": {
      "model_module": "@jupyter-widgets/base",
      "model_module_version": "2.0.0",
      "model_name": "LayoutModel",
      "state": {}
     },
     "42ab8cfd7b064179b1c59cddb988250d": {
      "model_module": "@jupyter-widgets/controls",
      "model_module_version": "2.0.0",
      "model_name": "ProgressStyleModel",
      "state": {
       "description_width": ""
      }
     },
     "4648adcd88074924a9cd02bf08fa467a": {
      "model_module": "@jupyter-widgets/controls",
      "model_module_version": "2.0.0",
      "model_name": "HBoxModel",
      "state": {
       "children": [
        "IPY_MODEL_53eb5c461c8244948b9a6f941b8982ce",
        "IPY_MODEL_e3d17361ab1f4b3a996ceeee92465e3d",
        "IPY_MODEL_91e7aa7bf08e4759b45286c5f6b79214"
       ],
       "layout": "IPY_MODEL_83f5b68170eb4adfb2f98651febdfa7c"
      }
     },
     "53eb5c461c8244948b9a6f941b8982ce": {
      "model_module": "@jupyter-widgets/controls",
      "model_module_version": "2.0.0",
      "model_name": "HTMLModel",
      "state": {
       "layout": "IPY_MODEL_ac5f048c84194013b22315f636c2585d",
       "style": "IPY_MODEL_e95af55b5bf54183a1c2ba2631a034e2",
       "value": "Loading checkpoint shards: 100%"
      }
     },
     "546cb47108d54155b89f26f122021e10": {
      "model_module": "@jupyter-widgets/base",
      "model_module_version": "2.0.0",
      "model_name": "LayoutModel",
      "state": {}
     },
     "6022202671f0443584022971fef27d8f": {
      "model_module": "@jupyter-widgets/controls",
      "model_module_version": "2.0.0",
      "model_name": "HTMLStyleModel",
      "state": {
       "description_width": "",
       "font_size": null,
       "text_color": null
      }
     },
     "675977d4bdf843be824bd0c6832d2f5b": {
      "model_module": "@jupyter-widgets/controls",
      "model_module_version": "2.0.0",
      "model_name": "HTMLStyleModel",
      "state": {
       "description_width": "",
       "font_size": null,
       "text_color": null
      }
     },
     "6b2d0d17e28240dfa31a4eb9a26dd035": {
      "model_module": "@jupyter-widgets/base",
      "model_module_version": "2.0.0",
      "model_name": "LayoutModel",
      "state": {}
     },
     "71ccdf9ca739488dba2ef0bfa58f95ce": {
      "model_module": "@jupyter-widgets/base",
      "model_module_version": "2.0.0",
      "model_name": "LayoutModel",
      "state": {}
     },
     "773879a591384f97ac6deebeed13a2d4": {
      "model_module": "@jupyter-widgets/controls",
      "model_module_version": "2.0.0",
      "model_name": "HTMLModel",
      "state": {
       "layout": "IPY_MODEL_a7d07281067b4ccca78a4476526e9254",
       "style": "IPY_MODEL_675977d4bdf843be824bd0c6832d2f5b",
       "value": "model.safetensors:   1%"
      }
     },
     "78cb708335cd4875b6d92f8232b685d9": {
      "model_module": "@jupyter-widgets/controls",
      "model_module_version": "2.0.0",
      "model_name": "HTMLModel",
      "state": {
       "layout": "IPY_MODEL_546cb47108d54155b89f26f122021e10",
       "style": "IPY_MODEL_28c3ae887904492fb1c593eac245b4d7",
       "value": " 147M/892M [00:11&lt;01:00, 12.2MB/s]"
      }
     },
     "7bef7b78f5404b9c8791d93424f44a5b": {
      "model_module": "@jupyter-widgets/controls",
      "model_module_version": "2.0.0",
      "model_name": "HTMLModel",
      "state": {
       "layout": "IPY_MODEL_2a7730579c4b45c0a5071918896be75a",
       "style": "IPY_MODEL_a3f48505e4eb42dd897579cfc6be0b65",
       "value": " 1.21k/1.21k [00:00&lt;00:00, 201kB/s]"
      }
     },
     "8081f5a29f704fe4bc97c75cf88f0e03": {
      "model_module": "@jupyter-widgets/controls",
      "model_module_version": "2.0.0",
      "model_name": "FloatProgressModel",
      "state": {
       "bar_style": "danger",
       "layout": "IPY_MODEL_e45687d8f8f34eec9201715e01848164",
       "max": 891646390,
       "style": "IPY_MODEL_42ab8cfd7b064179b1c59cddb988250d",
       "value": 10485760
      }
     },
     "83cf828cf0c54c80980bc6644919d152": {
      "model_module": "@jupyter-widgets/controls",
      "model_module_version": "2.0.0",
      "model_name": "HBoxModel",
      "state": {
       "children": [
        "IPY_MODEL_398c375fd02b4b46b8d931f50dea260b",
        "IPY_MODEL_e8ce662505c5424d8422779e29af755c",
        "IPY_MODEL_78cb708335cd4875b6d92f8232b685d9"
       ],
       "layout": "IPY_MODEL_6b2d0d17e28240dfa31a4eb9a26dd035"
      }
     },
     "83f5b68170eb4adfb2f98651febdfa7c": {
      "model_module": "@jupyter-widgets/base",
      "model_module_version": "2.0.0",
      "model_name": "LayoutModel",
      "state": {}
     },
     "88e315f737194865a4d8fcc04e53beb5": {
      "model_module": "@jupyter-widgets/base",
      "model_module_version": "2.0.0",
      "model_name": "LayoutModel",
      "state": {}
     },
     "90ebad83b3a547b6bcc2c1469de670cf": {
      "model_module": "@jupyter-widgets/base",
      "model_module_version": "2.0.0",
      "model_name": "LayoutModel",
      "state": {}
     },
     "91e7aa7bf08e4759b45286c5f6b79214": {
      "model_module": "@jupyter-widgets/controls",
      "model_module_version": "2.0.0",
      "model_name": "HTMLModel",
      "state": {
       "layout": "IPY_MODEL_90ebad83b3a547b6bcc2c1469de670cf",
       "style": "IPY_MODEL_d04e4619c34e4fe09f22f5d42392dd42",
       "value": " 2/2 [00:00&lt;00:00,  7.09it/s]"
      }
     },
     "a3f48505e4eb42dd897579cfc6be0b65": {
      "model_module": "@jupyter-widgets/controls",
      "model_module_version": "2.0.0",
      "model_name": "HTMLStyleModel",
      "state": {
       "description_width": "",
       "font_size": null,
       "text_color": null
      }
     },
     "a7d07281067b4ccca78a4476526e9254": {
      "model_module": "@jupyter-widgets/base",
      "model_module_version": "2.0.0",
      "model_name": "LayoutModel",
      "state": {}
     },
     "a962da5cf6d6449ca6337ff7c7404b1c": {
      "model_module": "@jupyter-widgets/controls",
      "model_module_version": "2.0.0",
      "model_name": "HBoxModel",
      "state": {
       "children": [
        "IPY_MODEL_773879a591384f97ac6deebeed13a2d4",
        "IPY_MODEL_8081f5a29f704fe4bc97c75cf88f0e03",
        "IPY_MODEL_3dfaeb65cf424b2ca862ba0fcb1deb81"
       ],
       "layout": "IPY_MODEL_3d384ab325b7473bb0dd568e411e89bf"
      }
     },
     "ac5f048c84194013b22315f636c2585d": {
      "model_module": "@jupyter-widgets/base",
      "model_module_version": "2.0.0",
      "model_name": "LayoutModel",
      "state": {}
     },
     "bfa886a2928e4fa0a90ca9773c56010b": {
      "model_module": "@jupyter-widgets/controls",
      "model_module_version": "2.0.0",
      "model_name": "HTMLStyleModel",
      "state": {
       "description_width": "",
       "font_size": null,
       "text_color": null
      }
     },
     "bfd67f8fb87d4e8094f78cc9dfaa5e4d": {
      "model_module": "@jupyter-widgets/controls",
      "model_module_version": "2.0.0",
      "model_name": "FloatProgressModel",
      "state": {
       "bar_style": "success",
       "layout": "IPY_MODEL_71ccdf9ca739488dba2ef0bfa58f95ce",
       "max": 1208,
       "style": "IPY_MODEL_f3845a86e545470cb500b93fc8c4b070",
       "value": 1208
      }
     },
     "c5d60c28b80142fd911442450b4174e5": {
      "model_module": "@jupyter-widgets/controls",
      "model_module_version": "2.0.0",
      "model_name": "HBoxModel",
      "state": {
       "children": [
        "IPY_MODEL_20512d7a11dc4e0cb71bbe651f856b91",
        "IPY_MODEL_bfd67f8fb87d4e8094f78cc9dfaa5e4d",
        "IPY_MODEL_7bef7b78f5404b9c8791d93424f44a5b"
       ],
       "layout": "IPY_MODEL_348720a321c7438289dac677abca67e6"
      }
     },
     "c6bad0e802d44839895004147a598450": {
      "model_module": "@jupyter-widgets/controls",
      "model_module_version": "2.0.0",
      "model_name": "ProgressStyleModel",
      "state": {
       "description_width": ""
      }
     },
     "d04e4619c34e4fe09f22f5d42392dd42": {
      "model_module": "@jupyter-widgets/controls",
      "model_module_version": "2.0.0",
      "model_name": "HTMLStyleModel",
      "state": {
       "description_width": "",
       "font_size": null,
       "text_color": null
      }
     },
     "d756a7f3c0824260b7b53490978160bd": {
      "model_module": "@jupyter-widgets/base",
      "model_module_version": "2.0.0",
      "model_name": "LayoutModel",
      "state": {}
     },
     "e3d17361ab1f4b3a996ceeee92465e3d": {
      "model_module": "@jupyter-widgets/controls",
      "model_module_version": "2.0.0",
      "model_name": "FloatProgressModel",
      "state": {
       "bar_style": "success",
       "layout": "IPY_MODEL_41e7f015118e462bb1b4ceff421971b0",
       "max": 2,
       "style": "IPY_MODEL_f05f6e6c1f054dafad6b9d6e40b6b57b",
       "value": 2
      }
     },
     "e45687d8f8f34eec9201715e01848164": {
      "model_module": "@jupyter-widgets/base",
      "model_module_version": "2.0.0",
      "model_name": "LayoutModel",
      "state": {}
     },
     "e8ce662505c5424d8422779e29af755c": {
      "model_module": "@jupyter-widgets/controls",
      "model_module_version": "2.0.0",
      "model_name": "FloatProgressModel",
      "state": {
       "bar_style": "danger",
       "layout": "IPY_MODEL_d756a7f3c0824260b7b53490978160bd",
       "max": 891646390,
       "style": "IPY_MODEL_c6bad0e802d44839895004147a598450",
       "value": 146800640
      }
     },
     "e95af55b5bf54183a1c2ba2631a034e2": {
      "model_module": "@jupyter-widgets/controls",
      "model_module_version": "2.0.0",
      "model_name": "HTMLStyleModel",
      "state": {
       "description_width": "",
       "font_size": null,
       "text_color": null
      }
     },
     "ed331f24f019400491fbfeff1234096e": {
      "model_module": "@jupyter-widgets/base",
      "model_module_version": "2.0.0",
      "model_name": "LayoutModel",
      "state": {}
     },
     "f05f6e6c1f054dafad6b9d6e40b6b57b": {
      "model_module": "@jupyter-widgets/controls",
      "model_module_version": "2.0.0",
      "model_name": "ProgressStyleModel",
      "state": {
       "description_width": ""
      }
     },
     "f3845a86e545470cb500b93fc8c4b070": {
      "model_module": "@jupyter-widgets/controls",
      "model_module_version": "2.0.0",
      "model_name": "ProgressStyleModel",
      "state": {
       "description_width": ""
      }
     }
    },
    "version_major": 2,
    "version_minor": 0
   }
  }
 },
 "nbformat": 4,
 "nbformat_minor": 5
}
