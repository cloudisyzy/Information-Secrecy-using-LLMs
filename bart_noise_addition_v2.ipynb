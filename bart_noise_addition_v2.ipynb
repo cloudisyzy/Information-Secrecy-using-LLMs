{
 "cells": [
  {
   "cell_type": "code",
   "execution_count": 1,
   "metadata": {},
   "outputs": [
    {
     "name": "stderr",
     "output_type": "stream",
     "text": [
      "c:\\Users\\sreya\\anaconda3\\envs\\llmenv\\Lib\\site-packages\\tqdm\\auto.py:21: TqdmWarning: IProgress not found. Please update jupyter and ipywidgets. See https://ipywidgets.readthedocs.io/en/stable/user_install.html\n",
      "  from .autonotebook import tqdm as notebook_tqdm\n"
     ]
    }
   ],
   "source": [
    "from transformers import BartTokenizer, BartForConditionalGeneration\n",
    "from transformers.modeling_outputs import BaseModelOutput\n",
    "from IPython.display import display, HTML\n",
    "import torch\n",
    "import numpy as np\n",
    "import matplotlib.pyplot as plt\n",
    "import pandas as pd"
   ]
  },
  {
   "cell_type": "code",
   "execution_count": 2,
   "metadata": {},
   "outputs": [
    {
     "name": "stdout",
     "output_type": "stream",
     "text": [
      "cuda\n"
     ]
    }
   ],
   "source": [
    "device = torch.device(\"cuda\" if torch.cuda.is_available() else \"cpu\")\n",
    "print(device)"
   ]
  },
  {
   "cell_type": "code",
   "execution_count": 3,
   "metadata": {},
   "outputs": [],
   "source": [
    "model_name = \"facebook/bart-large\"\n",
    "tokenizer = BartTokenizer.from_pretrained(model_name)\n",
    "model = BartForConditionalGeneration.from_pretrained(model_name).to(device)"
   ]
  },
  {
   "cell_type": "code",
   "execution_count": 4,
   "metadata": {},
   "outputs": [],
   "source": [
    "original_text = \"\"\"\n",
    "Welcome to our online coding bootcamp program! \n",
    "Whether you're a complete beginner or looking to improve your programming skills, this course is designed for you. \n",
    "Throughout the course, you will learn essential coding languages such as Python and JavaScript. \n",
    "Our instructors will guide you through interactive projects and provide real-time feedback. \n",
    "Each student will receive a certificate of completion at the end of the program. \n",
    "The total cost for the bootcamp is $150, which includes all learning materials.\n",
    "\"\"\"\n",
    "\n",
    "input_text = \"\"\"\n",
    "Welcome to our online <mask> bootcamp program! \n",
    "Whether you're a complete beginner or looking to <mask> your programming skills, this course is designed for you. \n",
    "Throughout the course, you will learn essential <mask> such as Python and JavaScript. \n",
    "Our instructors will guide you through interactive projects and provide real-time <mask>. \n",
    "Each student will receive a certificate of completion at the end of the <mask>. \n",
    "The total cost for the bootcamp is $150, which <mask> all learning materials.\n",
    "\"\"\".replace(\"\\n\", \"\")"
   ]
  },
  {
   "cell_type": "code",
   "execution_count": 5,
   "metadata": {},
   "outputs": [
    {
     "name": "stdout",
     "output_type": "stream",
     "text": [
      "torch.Size([1, 94])\n"
     ]
    }
   ],
   "source": [
    "# return_tensors returns the tokenizer output as pytorch tensors\n",
    "input_ids = tokenizer(input_text, return_tensors=\"pt\").input_ids.to(device)\n",
    "print(input_ids.shape)"
   ]
  },
  {
   "cell_type": "code",
   "execution_count": 6,
   "metadata": {},
   "outputs": [
    {
     "name": "stdout",
     "output_type": "stream",
     "text": [
      "torch.Size([1, 94, 1024])\n"
     ]
    }
   ],
   "source": [
    "with torch.no_grad():\n",
    "    encoder_outputs = model.model.encoder(input_ids=input_ids)\n",
    "\n",
    "print(encoder_outputs.last_hidden_state.shape)"
   ]
  },
  {
   "cell_type": "markdown",
   "metadata": {},
   "source": [
    "### No Noise to Encoder Output"
   ]
  },
  {
   "cell_type": "code",
   "execution_count": 8,
   "metadata": {},
   "outputs": [
    {
     "name": "stdout",
     "output_type": "stream",
     "text": [
      "tensor([    2,     0, 25194,     7,    84,   804,  8326,  9759, 21669,   586,\n",
      "          328,  5994,    47,   214,    10,  1498, 37239,    50,   546,     7,\n",
      "         1477,   110,  8326,  2417,     6,    42,   768,    16,  1887,    13,\n",
      "           47,     4, 13231,     5,   768,     6,    47,    40,  1532,  4499,\n",
      "         8326,  2417,   215,    25, 31886,     8, 18434,     4,  1541, 25508,\n",
      "           40,  4704,    47,   149, 10813,  1377,     8,   694,   588,    12,\n",
      "          958,     4,  4028,  1294,    40,  1325,    10, 10921,     9,  5687,\n",
      "           23,     5,   253,     9,     5,     4,    20,   746,   701,    13,\n",
      "            5,  9759, 21669,    16,    68,  6115,     6,    61,  1171, 12263,\n",
      "            6,  2799,     6,     8,    70,  2239,  3183,     4,     2],\n",
      "       device='cuda:0')\n"
     ]
    }
   ],
   "source": [
    "no_noise_outputs = model.generate(\n",
    "    input_ids = None,\n",
    "    encoder_outputs = encoder_outputs,\n",
    "    max_length = 200,\n",
    "    min_length = 10,\n",
    "    do_sample = True,\n",
    "    temperature = 0.1\n",
    ")\n",
    "\n",
    "print(no_noise_outputs[0])"
   ]
  },
  {
   "cell_type": "code",
   "execution_count": 9,
   "metadata": {},
   "outputs": [
    {
     "name": "stdout",
     "output_type": "stream",
     "text": [
      "Welcome to our online programming bootcamp program! Whether you're a complete beginner or looking to improve your programming skills, this course is designed for you. Throughout the course, you will learn essential programming skills such as Python and JavaScript. Our instructors will guide you through interactive projects and provide real-time. Each student will receive a certificate of completion at the end of the. The total cost for the bootcamp is $150, which includes tuition, books, and all learning materials.\n"
     ]
    }
   ],
   "source": [
    "no_noise_text_output = tokenizer.decode(no_noise_outputs[0], skip_special_tokens=True)\n",
    "print(no_noise_text_output)"
   ]
  },
  {
   "cell_type": "markdown",
   "metadata": {},
   "source": [
    "### Simple AWGN addition"
   ]
  },
  {
   "cell_type": "code",
   "execution_count": 10,
   "metadata": {},
   "outputs": [],
   "source": [
    "def add_wgn(latent, snr_dB):\n",
    "    snr_lin = 10 ** (snr_dB / 10)\n",
    "    signal_power = torch.mean(latent ** 2)\n",
    "\n",
    "    noise_power = signal_power / snr_lin\n",
    "    noise = torch.randn_like(latent) * torch.sqrt(noise_power)\n",
    "\n",
    "    noised_latent = latent + noise\n",
    "    return noised_latent"
   ]
  },
  {
   "cell_type": "code",
   "execution_count": 16,
   "metadata": {},
   "outputs": [
    {
     "name": "stdout",
     "output_type": "stream",
     "text": [
      "tensor([    2,     0, 25194,     7,    84,   804, 25776,  9759, 21669,   586,\n",
      "          328,  5994,    47,   214,    10,  1498, 37239,    50,   546,     7,\n",
      "         1477,   110,  8326,  2417,     6,    42,   768,    16,  1887,    13,\n",
      "           47,     4,  1541, 25508,    40,  4704,    47,   149, 10813,  1377,\n",
      "            8,   694,   588,    12,   958,     4, 13231,     5,   768,     6,\n",
      "           47,    40,  1532,  4499, 25776,  2417,   215,    25, 31886,     8,\n",
      "        18434,     4,  4028,  1294,    40,  1325,    10, 10921,     9,  5687,\n",
      "           23,     5,   253,     9,     5,   768,     4,    20,   746,   701,\n",
      "           13,     5,  9759, 21669,    16,    68,  6115,     6,    61,  1171,\n",
      "            5,   701,     9,  3183,     8,    70,  2239,  3183,     4,     2],\n",
      "       device='cuda:0')\n"
     ]
    }
   ],
   "source": [
    "target_snr = 5\n",
    "noise_encoder_output = add_wgn(encoder_outputs.last_hidden_state, target_snr)\n",
    "base_model_noised_encoder_output = BaseModelOutput(last_hidden_state=noise_encoder_output)\n",
    "\n",
    "noise_outputs = model.generate(\n",
    "    input_ids = None,\n",
    "    encoder_outputs = base_model_noised_encoder_output,\n",
    "    max_length = 200,\n",
    "    min_length = 10,\n",
    "    do_sample = True,\n",
    "    temperature = 0.1\n",
    ")\n",
    "\n",
    "print(noise_outputs[0])"
   ]
  },
  {
   "cell_type": "code",
   "execution_count": 17,
   "metadata": {},
   "outputs": [
    {
     "name": "stdout",
     "output_type": "stream",
     "text": [
      "Welcome to our online coding bootcamp program! Whether you're a complete beginner or looking to improve your programming skills, this course is designed for you. Our instructors will guide you through interactive projects and provide real-time. Throughout the course, you will learn essential coding skills such as Python and JavaScript. Each student will receive a certificate of completion at the end of the course. The total cost for the bootcamp is $150, which includes the cost of materials and all learning materials.\n"
     ]
    }
   ],
   "source": [
    "noise_text_output = tokenizer.decode(noise_outputs[0], skip_special_tokens=True)\n",
    "print(noise_text_output)"
   ]
  },
  {
   "cell_type": "markdown",
   "metadata": {},
   "source": [
    "### New BartModel class for Noising"
   ]
  },
  {
   "cell_type": "code",
   "execution_count": 7,
   "metadata": {},
   "outputs": [],
   "source": [
    "import torch\n",
    "import torch.nn.functional as F"
   ]
  },
  {
   "cell_type": "code",
   "execution_count": 8,
   "metadata": {},
   "outputs": [],
   "source": [
    "class NoisyBART(BartForConditionalGeneration):\n",
    "    def __init__(self, config):\n",
    "        super.__init__(config)\n",
    "    \n",
    "    def add_noise(self, encoder_output, noise_type='gaussian', target_snr_db=3):\n",
    "        signal_power = torch.mean(encoder_output ** 2)\n",
    "\n",
    "        target_snr = 10 ** (target_snr_db / 10)\n",
    "        noise_power = signal_power / target_snr\n",
    "\n",
    "        if noise_type.lower() == 'gaussian':\n",
    "            noise = torch.rand_like(encoder_output) * torch.sqrt(noise_power)\n",
    "            return encoder_output + noise\n",
    "        \n",
    "        elif noise_type.lower() == 'dropout':\n",
    "            dropout_rate = 1 - (1 / (1 + target_snr))\n",
    "            dropped_enc_output = F.dropout(encoder_output, p=dropout_rate, training=self.training)\n",
    "            return dropped_enc_output\n",
    "        \n",
    "        elif noise_type.lower() == 'laplacian':\n",
    "            scaled_noise = torch.sqrt(noise_power / 2)\n",
    "            noise = torch.distributions.Laplace(0, scaled_noise).sample(encoder_output.shape).to(device)\n",
    "            return encoder_output + noise\n",
    "        \n",
    "        elif noise_type.lower() == 'saltpepper':\n",
    "            mask = torch.rand_like(encoder_output) < (1 / (1 + target_snr))\n",
    "            salt = torch.max(encoder_output)\n",
    "            pepper = torch.min(encoder_output)\n",
    "            noise = torch.where(mask, torch.rand_like(encoder_output) < 0.5, encoder_output)\n",
    "            return torch.where(noise != encoder_output, torch.where(noise == 0, pepper, salt), encoder_output)\n",
    "        \n",
    "        else:\n",
    "            raise ValueError(\"Unsupported Noise Type. Choose between 'gaussian', 'dropout', 'laplacian', 'saltpepper'.\")\n",
    "        \n",
    "    def forward(self, input_ids, attention_mask=None, noise_type='gaussian', target_snr_db=3, **kwargs):\n",
    "        encoder_outputs = self.model.encoder(input_ids, attention_mask=attention_mask)\n",
    "        \n",
    "        # Add noise to encoder output\n",
    "        noisy_encoder_outputs = self.add_noise(encoder_outputs[0], noise_type, target_snr_db)\n",
    "        \n",
    "        # Pass noisy encoder output to decoder\n",
    "        decoder_outputs = self.model.decoder(\n",
    "            input_ids=input_ids, \n",
    "            encoder_hidden_states=noisy_encoder_outputs,\n",
    "            attention_mask=attention_mask,\n",
    "            **kwargs\n",
    "        )\n",
    "        \n",
    "        return decoder_outputs"
   ]
  },
  {
   "cell_type": "code",
   "execution_count": null,
   "metadata": {},
   "outputs": [],
   "source": []
  },
  {
   "cell_type": "code",
   "execution_count": null,
   "metadata": {},
   "outputs": [],
   "source": []
  },
  {
   "cell_type": "markdown",
   "metadata": {},
   "source": [
    "### Displaying the Text Outputs"
   ]
  },
  {
   "cell_type": "code",
   "execution_count": 18,
   "metadata": {},
   "outputs": [
    {
     "name": "stdout",
     "output_type": "stream",
     "text": [
      "Original Text:\n"
     ]
    },
    {
     "data": {
      "text/html": [
       "<p style='font-size:15px; font-family:\"Comic Sans MS\", cursive;'> \n",
       "Welcome to our online coding bootcamp program! \n",
       "Whether you're a complete beginner or looking to improve your programming skills, this course is designed for you. \n",
       "Throughout the course, you will learn essential coding languages such as Python and JavaScript. \n",
       "Our instructors will guide you through interactive projects and provide real-time feedback. \n",
       "Each student will receive a certificate of completion at the end of the program. \n",
       "The total cost for the bootcamp is $150, which includes all learning materials.\n",
       "</p>"
      ],
      "text/plain": [
       "<IPython.core.display.HTML object>"
      ]
     },
     "metadata": {},
     "output_type": "display_data"
    },
    {
     "name": "stdout",
     "output_type": "stream",
     "text": [
      "\n",
      "\n",
      "Without Noise:\n"
     ]
    },
    {
     "data": {
      "text/html": [
       "<p style='font-size:15px; font-family:\"Comic Sans MS\", cursive;'>Welcome to our online programming bootcamp program! Whether you're a complete beginner or looking to improve your programming skills, this course is designed for you. Throughout the course, you will learn essential programming skills such as Python and JavaScript. Our instructors will guide you through interactive projects and provide real-time. Each student will receive a certificate of completion at the end of the. The total cost for the bootcamp is $150, which includes tuition, books, and all learning materials.</p>"
      ],
      "text/plain": [
       "<IPython.core.display.HTML object>"
      ]
     },
     "metadata": {},
     "output_type": "display_data"
    },
    {
     "name": "stdout",
     "output_type": "stream",
     "text": [
      "\n",
      "\n",
      "With 5 dB Noise:\n"
     ]
    },
    {
     "data": {
      "text/html": [
       "<p style='font-size:15px; font-family:\"Comic Sans MS\", cursive;'>Welcome to our online coding bootcamp program! Whether you're a complete beginner or looking to improve your programming skills, this course is designed for you. Our instructors will guide you through interactive projects and provide real-time. Throughout the course, you will learn essential coding skills such as Python and JavaScript. Each student will receive a certificate of completion at the end of the course. The total cost for the bootcamp is $150, which includes the cost of materials and all learning materials.</p>"
      ],
      "text/plain": [
       "<IPython.core.display.HTML object>"
      ]
     },
     "metadata": {},
     "output_type": "display_data"
    },
    {
     "name": "stdout",
     "output_type": "stream",
     "text": [
      "\n",
      "\n"
     ]
    }
   ],
   "source": [
    "print('Original Text:')\n",
    "display(HTML(f\"<p style='font-size:15px; font-family:\\\"Comic Sans MS\\\", cursive;'> {original_text}</p>\"))\n",
    "print('\\n')\n",
    "\n",
    "print('Without Noise:')\n",
    "display(HTML(f\"<p style='font-size:15px; font-family:\\\"Comic Sans MS\\\", cursive;'>{no_noise_text_output}</p>\"))\n",
    "print('\\n')\n",
    "\n",
    "print(f'With {target_snr} dB Noise:')\n",
    "display(HTML(f\"<p style='font-size:15px; font-family:\\\"Comic Sans MS\\\", cursive;'>{noise_text_output}</p>\"))\n",
    "print('\\n')"
   ]
  },
  {
   "cell_type": "markdown",
   "metadata": {},
   "source": [
    "**Note: Masked tokens which are at end of the sentence are not being filled in whereas mid of sentence tokens are**"
   ]
  },
  {
   "cell_type": "code",
   "execution_count": null,
   "metadata": {},
   "outputs": [],
   "source": []
  },
  {
   "cell_type": "code",
   "execution_count": null,
   "metadata": {},
   "outputs": [],
   "source": []
  },
  {
   "cell_type": "code",
   "execution_count": null,
   "metadata": {},
   "outputs": [],
   "source": []
  }
 ],
 "metadata": {
  "kernelspec": {
   "display_name": "llmenv",
   "language": "python",
   "name": "python3"
  },
  "language_info": {
   "codemirror_mode": {
    "name": "ipython",
    "version": 3
   },
   "file_extension": ".py",
   "mimetype": "text/x-python",
   "name": "python",
   "nbconvert_exporter": "python",
   "pygments_lexer": "ipython3",
   "version": "3.12.7"
  }
 },
 "nbformat": 4,
 "nbformat_minor": 2
}
